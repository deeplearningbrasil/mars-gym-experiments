{
 "cells": [
  {
   "cell_type": "markdown",
   "metadata": {},
   "source": [
    "# MARS-Gym Experiments - Trivago Results"
   ]
  },
  {
   "cell_type": "code",
   "execution_count": 1,
   "metadata": {},
   "outputs": [
    {
     "data": {
      "text/html": [
       "        <script type=\"text/javascript\">\n",
       "        window.PlotlyConfig = {MathJaxConfig: 'local'};\n",
       "        if (window.MathJax) {MathJax.Hub.Config({SVG: {font: \"STIX-Web\"}});}\n",
       "        if (typeof require !== 'undefined') {\n",
       "        require.undef(\"plotly\");\n",
       "        requirejs.config({\n",
       "            paths: {\n",
       "                'plotly': ['https://cdn.plot.ly/plotly-latest.min']\n",
       "            }\n",
       "        });\n",
       "        require(['plotly'], function(Plotly) {\n",
       "            window._Plotly = Plotly;\n",
       "        });\n",
       "        }\n",
       "        </script>\n",
       "        "
      ]
     },
     "metadata": {},
     "output_type": "display_data"
    },
    {
     "name": "stderr",
     "output_type": "stream",
     "text": [
      "/media/workspace/DeepFood/deep-reco-gym/src/mars_gym/tools/eval_viz/app.py:13: FutureWarning:\n",
      "\n",
      "Passing a negative integer is deprecated in version 1.0 and will not be supported in future version. Instead, use None to not limit the column width.\n",
      "\n"
     ]
    }
   ],
   "source": [
    "\n",
    "import sys, os\n",
    "os.environ['PATH_EVALUATION'] =  \"../../output/evaluation/\"\n",
    "os.environ['PATH_EVAL_REINFORCEMENT'] =  \"../../output/interaction/\"\n",
    "os.environ['PATH_TRAIN'] =  \"../../output/models/\"\n",
    "\n",
    "#import plotly.graph_objects as go\n",
    "import plotly.graph_objects as go\n",
    "from plotly.offline import init_notebook_mode, iplot\n",
    "init_notebook_mode(connected=True) \n",
    "import numpy as np\n",
    "import pandas as pd\n",
    "import os\n",
    "import json\n",
    "from pandas.io.json import json_normalize\n",
    "import matplotlib.pyplot as plt\n",
    "import seaborn as sns\n",
    "\n",
    "from mars_gym.tools.eval_viz.app import fetch_iteraction_results_path, load_all_iteraction_metrics, fetch_results_path, load_data_metrics, load_eval_params, filter_df, load_fairness_metrics, load_fairness_df\n",
    "from mars_gym.tools.eval_viz.plot import plot_line_iteraction, plot_exploration_arm, get_colors, confidence, plot_bar\n",
    "from  mars_gym.tools.eval_viz.app import PATH_EVAL_REINFORCEMENT\n",
    "\n",
    "from util import list_paths_per_model, load_iteractions_params, get_metrics_reward, group_metrics, load_dataset, plot_cum_reward, plot_fairness_metrics, plot_fairness_mistreatment, plot_fairness_treatment\n",
    "\n"
   ]
  },
  {
   "cell_type": "code",
   "execution_count": null,
   "metadata": {},
   "outputs": [],
   "source": []
  },
  {
   "cell_type": "markdown",
   "metadata": {},
   "source": [
    "This notebook includes all viz of paper **'MARS-Gym: A Gym framework to model, train, and evaluate recommendation systems for marketplaces'**  and can be used for reproducibility or example of framework usage. \n",
    "\n",
    "We need run some scripts before vizualise results:\n",
    "* scripts/simulation/chicago_usa_script.sh\n",
    "* scripts/metrics/metrics_chicago_usa_script.sh\n",
    "* scripts/metrics/fairness_recsys_script.sh"
   ]
  },
  {
   "cell_type": "markdown",
   "metadata": {},
   "source": [
    "## Load Results"
   ]
  },
  {
   "cell_type": "code",
   "execution_count": 2,
   "metadata": {
    "tags": []
   },
   "outputs": [
    {
     "data": {
      "text/plain": [
       "['../../output/interaction/InteractionTraining/results/InteractionTraining____mars_gym_model_b___alpha___1e_05__a06cfb73a9',\n",
       " '../../output/interaction/InteractionTraining/results/InteractionTraining____mars_gym_model_b___alpha___1e_05__f9e2903219',\n",
       " '../../output/interaction/InteractionTraining/results/InteractionTraining____mars_gym_model_b___exploration_th_6822e93237',\n",
       " '../../output/interaction/InteractionTraining/results/InteractionTraining____mars_gym_model_b___explore_rounds_0b659e17e7',\n",
       " '../../output/interaction/InteractionTraining/results/InteractionTraining____mars_gym_model_b___epsilon___0_1__76d6a2cc36']"
      ]
     },
     "execution_count": 2,
     "metadata": {},
     "output_type": "execute_result"
    }
   ],
   "source": [
    "result_paths = list_paths_per_model(PATH_EVAL_REINFORCEMENT)\n",
    "result_paths[:5]"
   ]
  },
  {
   "cell_type": "code",
   "execution_count": 3,
   "metadata": {},
   "outputs": [
    {
     "name": "stderr",
     "output_type": "stream",
     "text": [
      "/media/workspace/DeepFood/mars-gym-experiments/scripts/notebooks/util.py:62: FutureWarning:\n",
      "\n",
      "pandas.io.json.json_normalize is deprecated, use pandas.json_normalize instead\n",
      "\n"
     ]
    },
    {
     "data": {
      "text/html": [
       "<div>\n",
       "<style scoped>\n",
       "    .dataframe tbody tr th:only-of-type {\n",
       "        vertical-align: middle;\n",
       "    }\n",
       "\n",
       "    .dataframe tbody tr th {\n",
       "        vertical-align: top;\n",
       "    }\n",
       "\n",
       "    .dataframe thead th {\n",
       "        text-align: right;\n",
       "    }\n",
       "</style>\n",
       "<table border=\"1\" class=\"dataframe\">\n",
       "  <thead>\n",
       "    <tr style=\"text-align: right;\">\n",
       "      <th></th>\n",
       "      <th>project</th>\n",
       "      <th>minimum_interactions</th>\n",
       "      <th>session_test_size</th>\n",
       "      <th>dataset_split_method</th>\n",
       "      <th>val_size</th>\n",
       "      <th>n_splits</th>\n",
       "      <th>split_index</th>\n",
       "      <th>sampling_strategy</th>\n",
       "      <th>balance_fields</th>\n",
       "      <th>use_sampling_in_validation</th>\n",
       "      <th>...</th>\n",
       "      <th>bandit_policy_params.alpha</th>\n",
       "      <th>iteraction</th>\n",
       "      <th>bandit_policy_params.exploration_threshold</th>\n",
       "      <th>bandit_policy_params.decay_rate</th>\n",
       "      <th>bandit_policy_params.explore_rounds</th>\n",
       "      <th>bandit_policy_params.epsilon</th>\n",
       "      <th>loss_function_params.clip</th>\n",
       "      <th>bandit_policy_params.logit_multiplier</th>\n",
       "      <th>bandit_policy_params.arg</th>\n",
       "      <th>bandit_policy_params.v_sq</th>\n",
       "    </tr>\n",
       "  </thead>\n",
       "  <tbody>\n",
       "    <tr>\n",
       "      <th>0</th>\n",
       "      <td>trivago.config.trivago_experiment</td>\n",
       "      <td>5</td>\n",
       "      <td>0.1</td>\n",
       "      <td>time</td>\n",
       "      <td>0.2</td>\n",
       "      <td>5</td>\n",
       "      <td>0</td>\n",
       "      <td>none</td>\n",
       "      <td>[]</td>\n",
       "      <td>False</td>\n",
       "      <td>...</td>\n",
       "      <td>0.00001</td>\n",
       "      <td>../../output/interaction/InteractionTraining/results/InteractionTraining____mars_gym_model_b___alpha___1e_05__a06cfb73a9</td>\n",
       "      <td>NaN</td>\n",
       "      <td>NaN</td>\n",
       "      <td>NaN</td>\n",
       "      <td>NaN</td>\n",
       "      <td>NaN</td>\n",
       "      <td>NaN</td>\n",
       "      <td>NaN</td>\n",
       "      <td>NaN</td>\n",
       "    </tr>\n",
       "    <tr>\n",
       "      <th>0</th>\n",
       "      <td>trivago.config.trivago_experiment</td>\n",
       "      <td>5</td>\n",
       "      <td>0.1</td>\n",
       "      <td>time</td>\n",
       "      <td>0.2</td>\n",
       "      <td>5</td>\n",
       "      <td>0</td>\n",
       "      <td>none</td>\n",
       "      <td>[]</td>\n",
       "      <td>False</td>\n",
       "      <td>...</td>\n",
       "      <td>0.00001</td>\n",
       "      <td>../../output/interaction/InteractionTraining/results/InteractionTraining____mars_gym_model_b___alpha___1e_05__f9e2903219</td>\n",
       "      <td>NaN</td>\n",
       "      <td>NaN</td>\n",
       "      <td>NaN</td>\n",
       "      <td>NaN</td>\n",
       "      <td>NaN</td>\n",
       "      <td>NaN</td>\n",
       "      <td>NaN</td>\n",
       "      <td>NaN</td>\n",
       "    </tr>\n",
       "    <tr>\n",
       "      <th>0</th>\n",
       "      <td>trivago.config.trivago_experiment</td>\n",
       "      <td>5</td>\n",
       "      <td>0.1</td>\n",
       "      <td>time</td>\n",
       "      <td>0.2</td>\n",
       "      <td>5</td>\n",
       "      <td>0</td>\n",
       "      <td>none</td>\n",
       "      <td>[]</td>\n",
       "      <td>False</td>\n",
       "      <td>...</td>\n",
       "      <td>NaN</td>\n",
       "      <td>../../output/interaction/InteractionTraining/results/InteractionTraining____mars_gym_model_b___exploration_th_6822e93237</td>\n",
       "      <td>0.7</td>\n",
       "      <td>0.000097</td>\n",
       "      <td>NaN</td>\n",
       "      <td>NaN</td>\n",
       "      <td>NaN</td>\n",
       "      <td>NaN</td>\n",
       "      <td>NaN</td>\n",
       "      <td>NaN</td>\n",
       "    </tr>\n",
       "    <tr>\n",
       "      <th>0</th>\n",
       "      <td>trivago.config.trivago_experiment</td>\n",
       "      <td>5</td>\n",
       "      <td>0.1</td>\n",
       "      <td>time</td>\n",
       "      <td>0.2</td>\n",
       "      <td>5</td>\n",
       "      <td>0</td>\n",
       "      <td>none</td>\n",
       "      <td>[]</td>\n",
       "      <td>False</td>\n",
       "      <td>...</td>\n",
       "      <td>NaN</td>\n",
       "      <td>../../output/interaction/InteractionTraining/results/InteractionTraining____mars_gym_model_b___explore_rounds_0b659e17e7</td>\n",
       "      <td>NaN</td>\n",
       "      <td>0.000187</td>\n",
       "      <td>1000.0</td>\n",
       "      <td>NaN</td>\n",
       "      <td>NaN</td>\n",
       "      <td>NaN</td>\n",
       "      <td>NaN</td>\n",
       "      <td>NaN</td>\n",
       "    </tr>\n",
       "    <tr>\n",
       "      <th>0</th>\n",
       "      <td>trivago.config.trivago_experiment</td>\n",
       "      <td>5</td>\n",
       "      <td>0.1</td>\n",
       "      <td>time</td>\n",
       "      <td>0.2</td>\n",
       "      <td>5</td>\n",
       "      <td>0</td>\n",
       "      <td>none</td>\n",
       "      <td>[]</td>\n",
       "      <td>False</td>\n",
       "      <td>...</td>\n",
       "      <td>NaN</td>\n",
       "      <td>../../output/interaction/InteractionTraining/results/InteractionTraining____mars_gym_model_b___epsilon___0_1__76d6a2cc36</td>\n",
       "      <td>NaN</td>\n",
       "      <td>NaN</td>\n",
       "      <td>NaN</td>\n",
       "      <td>0.1</td>\n",
       "      <td>NaN</td>\n",
       "      <td>NaN</td>\n",
       "      <td>NaN</td>\n",
       "      <td>NaN</td>\n",
       "    </tr>\n",
       "  </tbody>\n",
       "</table>\n",
       "<p>5 rows × 55 columns</p>\n",
       "</div>"
      ],
      "text/plain": [
       "                             project  minimum_interactions  session_test_size  \\\n",
       "0  trivago.config.trivago_experiment  5                     0.1                 \n",
       "0  trivago.config.trivago_experiment  5                     0.1                 \n",
       "0  trivago.config.trivago_experiment  5                     0.1                 \n",
       "0  trivago.config.trivago_experiment  5                     0.1                 \n",
       "0  trivago.config.trivago_experiment  5                     0.1                 \n",
       "\n",
       "  dataset_split_method  val_size  n_splits  split_index sampling_strategy  \\\n",
       "0  time                 0.2       5         0            none               \n",
       "0  time                 0.2       5         0            none               \n",
       "0  time                 0.2       5         0            none               \n",
       "0  time                 0.2       5         0            none               \n",
       "0  time                 0.2       5         0            none               \n",
       "\n",
       "  balance_fields  use_sampling_in_validation  ...  bandit_policy_params.alpha  \\\n",
       "0  []             False                       ...  0.00001                      \n",
       "0  []             False                       ...  0.00001                      \n",
       "0  []             False                       ... NaN                           \n",
       "0  []             False                       ... NaN                           \n",
       "0  []             False                       ... NaN                           \n",
       "\n",
       "                                                                                                                 iteraction  \\\n",
       "0  ../../output/interaction/InteractionTraining/results/InteractionTraining____mars_gym_model_b___alpha___1e_05__a06cfb73a9   \n",
       "0  ../../output/interaction/InteractionTraining/results/InteractionTraining____mars_gym_model_b___alpha___1e_05__f9e2903219   \n",
       "0  ../../output/interaction/InteractionTraining/results/InteractionTraining____mars_gym_model_b___exploration_th_6822e93237   \n",
       "0  ../../output/interaction/InteractionTraining/results/InteractionTraining____mars_gym_model_b___explore_rounds_0b659e17e7   \n",
       "0  ../../output/interaction/InteractionTraining/results/InteractionTraining____mars_gym_model_b___epsilon___0_1__76d6a2cc36   \n",
       "\n",
       "   bandit_policy_params.exploration_threshold bandit_policy_params.decay_rate  \\\n",
       "0 NaN                                         NaN                               \n",
       "0 NaN                                         NaN                               \n",
       "0  0.7                                         0.000097                         \n",
       "0 NaN                                          0.000187                         \n",
       "0 NaN                                         NaN                               \n",
       "\n",
       "  bandit_policy_params.explore_rounds  bandit_policy_params.epsilon  \\\n",
       "0 NaN                                 NaN                             \n",
       "0 NaN                                 NaN                             \n",
       "0 NaN                                 NaN                             \n",
       "0  1000.0                             NaN                             \n",
       "0 NaN                                  0.1                            \n",
       "\n",
       "   loss_function_params.clip bandit_policy_params.logit_multiplier  \\\n",
       "0 NaN                        NaN                                     \n",
       "0 NaN                        NaN                                     \n",
       "0 NaN                        NaN                                     \n",
       "0 NaN                        NaN                                     \n",
       "0 NaN                        NaN                                     \n",
       "\n",
       "   bandit_policy_params.arg  bandit_policy_params.v_sq  \n",
       "0 NaN                       NaN                         \n",
       "0 NaN                       NaN                         \n",
       "0 NaN                       NaN                         \n",
       "0 NaN                       NaN                         \n",
       "0 NaN                       NaN                         \n",
       "\n",
       "[5 rows x 55 columns]"
      ]
     },
     "execution_count": 3,
     "metadata": {},
     "output_type": "execute_result"
    }
   ],
   "source": [
    "# We will only filter the city of Chicago to exemplify graphs and results.\n",
    "#\n",
    "\n",
    "#city = \"Rio de Janeiro, Brazil\"\n",
    "#city = \"Como, Italy\"\n",
    "city = \"Chicago, USA\"\n",
    "#city = \"New York, USA\"\n",
    "#city = 'Copenhagen, Denmark'\n",
    "#city='recsys'\n",
    "\n",
    "df_params = load_iteractions_params(result_paths)\n",
    "df_params = df_params[df_params['data_frames_preparation_extra_params.filter_city'] == city]\n",
    "df_params.head()"
   ]
  },
  {
   "cell_type": "code",
   "execution_count": 4,
   "metadata": {},
   "outputs": [
    {
     "data": {
      "text/html": [
       "<div>\n",
       "<style scoped>\n",
       "    .dataframe tbody tr th:only-of-type {\n",
       "        vertical-align: middle;\n",
       "    }\n",
       "\n",
       "    .dataframe tbody tr th {\n",
       "        vertical-align: top;\n",
       "    }\n",
       "\n",
       "    .dataframe thead th {\n",
       "        text-align: right;\n",
       "    }\n",
       "</style>\n",
       "<table border=\"1\" class=\"dataframe\">\n",
       "  <thead>\n",
       "    <tr style=\"text-align: right;\">\n",
       "      <th></th>\n",
       "      <th>bandit_policy_class</th>\n",
       "      <th>observation</th>\n",
       "      <th>iteraction</th>\n",
       "      <th>name</th>\n",
       "      <th>model</th>\n",
       "      <th>model_list</th>\n",
       "    </tr>\n",
       "  </thead>\n",
       "  <tbody>\n",
       "    <tr>\n",
       "      <th>0</th>\n",
       "      <td>mars_gym.model.bandit.AdaptiveGreedy</td>\n",
       "      <td></td>\n",
       "      <td>[../../output/interaction/InteractionTraining/results/InteractionTraining____mars_gym_model_b___exploration_th_6822e93237, ../../output/interaction/InteractionTraining/results/InteractionTraining____mars_gym_model_b___exploration_th_83ef3f55d3, ../../output/interaction/InteractionTraining/results/InteractionTraining____mars_gym_model_b___exploration_th_42716ae133, ../../output/interaction/InteractionTraining/results/InteractionTraining____mars_gym_model_b___exploration_th_d3663f58fc, ../../output/interaction/InteractionTraining/results/InteractionTraining____mars_gym_model_b___exploration_th_520cebc570, ../../output/interaction/InteractionTraining/results/InteractionTraining____mars_gym_model_b___exploration_th_d70af8a008, ../../output/interaction/InteractionTraining/results/InteractionTraining____mars_gym_model_b___exploration_th_6b44643887, ../../output/interaction/InteractionTraining/results/InteractionTraining____mars_gym_model_b___exploration_th_2cc29714f4]</td>\n",
       "      <td>mars_gym.model.bandit.AdaptiveGreedy</td>\n",
       "      <td>../../output/interaction/InteractionTraining/results/InteractionTraining____mars_gym_model_b___exploration_th_d3663f58fc</td>\n",
       "      <td>[../../output/interaction/InteractionTraining/results/InteractionTraining____mars_gym_model_b___exploration_th_6822e93237, ../../output/interaction/InteractionTraining/results/InteractionTraining____mars_gym_model_b___exploration_th_83ef3f55d3, ../../output/interaction/InteractionTraining/results/InteractionTraining____mars_gym_model_b___exploration_th_42716ae133, ../../output/interaction/InteractionTraining/results/InteractionTraining____mars_gym_model_b___exploration_th_d3663f58fc, ../../output/interaction/InteractionTraining/results/InteractionTraining____mars_gym_model_b___exploration_th_520cebc570, ../../output/interaction/InteractionTraining/results/InteractionTraining____mars_gym_model_b___exploration_th_d70af8a008, ../../output/interaction/InteractionTraining/results/InteractionTraining____mars_gym_model_b___exploration_th_6b44643887, ../../output/interaction/InteractionTraining/results/InteractionTraining____mars_gym_model_b___exploration_th_2cc29714f4]</td>\n",
       "    </tr>\n",
       "    <tr>\n",
       "      <th>1</th>\n",
       "      <td>mars_gym.model.bandit.CustomRewardModelLinUCB</td>\n",
       "      <td></td>\n",
       "      <td>[../../output/interaction/InteractionTraining/results/InteractionTraining____mars_gym_model_b___alpha___1e_05__ef475653f1, ../../output/interaction/InteractionTraining/results/InteractionTraining____mars_gym_model_b___alpha___1e_05__75eccc229a, ../../output/interaction/InteractionTraining/results/InteractionTraining____mars_gym_model_b___alpha___1e_05__bad81a6465, ../../output/interaction/InteractionTraining/results/InteractionTraining____mars_gym_model_b___alpha___1e_05__debd700fb8, ../../output/interaction/InteractionTraining/results/InteractionTraining____mars_gym_model_b___alpha___1e_05__2165771e8e, ../../output/interaction/InteractionTraining/results/InteractionTraining____mars_gym_model_b___alpha___1e_05__7966e4e52b, ../../output/interaction/InteractionTraining/results/InteractionTraining____mars_gym_model_b___alpha___1e_05__0b623b96b8, ../../output/interaction/InteractionTraining/results/InteractionTraining____mars_gym_model_b___alpha___1e_05__d5981787b1]</td>\n",
       "      <td>mars_gym.model.bandit.CustomRewardModelLinUCB</td>\n",
       "      <td>../../output/interaction/InteractionTraining/results/InteractionTraining____mars_gym_model_b___alpha___1e_05__7966e4e52b</td>\n",
       "      <td>[../../output/interaction/InteractionTraining/results/InteractionTraining____mars_gym_model_b___alpha___1e_05__ef475653f1, ../../output/interaction/InteractionTraining/results/InteractionTraining____mars_gym_model_b___alpha___1e_05__75eccc229a, ../../output/interaction/InteractionTraining/results/InteractionTraining____mars_gym_model_b___alpha___1e_05__bad81a6465, ../../output/interaction/InteractionTraining/results/InteractionTraining____mars_gym_model_b___alpha___1e_05__debd700fb8, ../../output/interaction/InteractionTraining/results/InteractionTraining____mars_gym_model_b___alpha___1e_05__2165771e8e, ../../output/interaction/InteractionTraining/results/InteractionTraining____mars_gym_model_b___alpha___1e_05__7966e4e52b, ../../output/interaction/InteractionTraining/results/InteractionTraining____mars_gym_model_b___alpha___1e_05__0b623b96b8, ../../output/interaction/InteractionTraining/results/InteractionTraining____mars_gym_model_b___alpha___1e_05__d5981787b1]</td>\n",
       "    </tr>\n",
       "  </tbody>\n",
       "</table>\n",
       "</div>"
      ],
      "text/plain": [
       "                             bandit_policy_class observation  \\\n",
       "0  mars_gym.model.bandit.AdaptiveGreedy                        \n",
       "1  mars_gym.model.bandit.CustomRewardModelLinUCB               \n",
       "\n",
       "                                                                                                                                                                                                                                                                                                                                                                                                                                                                                                                                                                                                                                                                                                                                                                                                                                                                                                                                                                                                         iteraction  \\\n",
       "0  [../../output/interaction/InteractionTraining/results/InteractionTraining____mars_gym_model_b___exploration_th_6822e93237, ../../output/interaction/InteractionTraining/results/InteractionTraining____mars_gym_model_b___exploration_th_83ef3f55d3, ../../output/interaction/InteractionTraining/results/InteractionTraining____mars_gym_model_b___exploration_th_42716ae133, ../../output/interaction/InteractionTraining/results/InteractionTraining____mars_gym_model_b___exploration_th_d3663f58fc, ../../output/interaction/InteractionTraining/results/InteractionTraining____mars_gym_model_b___exploration_th_520cebc570, ../../output/interaction/InteractionTraining/results/InteractionTraining____mars_gym_model_b___exploration_th_d70af8a008, ../../output/interaction/InteractionTraining/results/InteractionTraining____mars_gym_model_b___exploration_th_6b44643887, ../../output/interaction/InteractionTraining/results/InteractionTraining____mars_gym_model_b___exploration_th_2cc29714f4]   \n",
       "1  [../../output/interaction/InteractionTraining/results/InteractionTraining____mars_gym_model_b___alpha___1e_05__ef475653f1, ../../output/interaction/InteractionTraining/results/InteractionTraining____mars_gym_model_b___alpha___1e_05__75eccc229a, ../../output/interaction/InteractionTraining/results/InteractionTraining____mars_gym_model_b___alpha___1e_05__bad81a6465, ../../output/interaction/InteractionTraining/results/InteractionTraining____mars_gym_model_b___alpha___1e_05__debd700fb8, ../../output/interaction/InteractionTraining/results/InteractionTraining____mars_gym_model_b___alpha___1e_05__2165771e8e, ../../output/interaction/InteractionTraining/results/InteractionTraining____mars_gym_model_b___alpha___1e_05__7966e4e52b, ../../output/interaction/InteractionTraining/results/InteractionTraining____mars_gym_model_b___alpha___1e_05__0b623b96b8, ../../output/interaction/InteractionTraining/results/InteractionTraining____mars_gym_model_b___alpha___1e_05__d5981787b1]   \n",
       "\n",
       "                                            name  \\\n",
       "0  mars_gym.model.bandit.AdaptiveGreedy            \n",
       "1  mars_gym.model.bandit.CustomRewardModelLinUCB   \n",
       "\n",
       "                                                                                                                      model  \\\n",
       "0  ../../output/interaction/InteractionTraining/results/InteractionTraining____mars_gym_model_b___exploration_th_d3663f58fc   \n",
       "1  ../../output/interaction/InteractionTraining/results/InteractionTraining____mars_gym_model_b___alpha___1e_05__7966e4e52b   \n",
       "\n",
       "                                                                                                                                                                                                                                                                                                                                                                                                                                                                                                                                                                                                                                                                                                                                                                                                                                                                                                                                                                                                         model_list  \n",
       "0  [../../output/interaction/InteractionTraining/results/InteractionTraining____mars_gym_model_b___exploration_th_6822e93237, ../../output/interaction/InteractionTraining/results/InteractionTraining____mars_gym_model_b___exploration_th_83ef3f55d3, ../../output/interaction/InteractionTraining/results/InteractionTraining____mars_gym_model_b___exploration_th_42716ae133, ../../output/interaction/InteractionTraining/results/InteractionTraining____mars_gym_model_b___exploration_th_d3663f58fc, ../../output/interaction/InteractionTraining/results/InteractionTraining____mars_gym_model_b___exploration_th_520cebc570, ../../output/interaction/InteractionTraining/results/InteractionTraining____mars_gym_model_b___exploration_th_d70af8a008, ../../output/interaction/InteractionTraining/results/InteractionTraining____mars_gym_model_b___exploration_th_6b44643887, ../../output/interaction/InteractionTraining/results/InteractionTraining____mars_gym_model_b___exploration_th_2cc29714f4]  \n",
       "1  [../../output/interaction/InteractionTraining/results/InteractionTraining____mars_gym_model_b___alpha___1e_05__ef475653f1, ../../output/interaction/InteractionTraining/results/InteractionTraining____mars_gym_model_b___alpha___1e_05__75eccc229a, ../../output/interaction/InteractionTraining/results/InteractionTraining____mars_gym_model_b___alpha___1e_05__bad81a6465, ../../output/interaction/InteractionTraining/results/InteractionTraining____mars_gym_model_b___alpha___1e_05__debd700fb8, ../../output/interaction/InteractionTraining/results/InteractionTraining____mars_gym_model_b___alpha___1e_05__2165771e8e, ../../output/interaction/InteractionTraining/results/InteractionTraining____mars_gym_model_b___alpha___1e_05__7966e4e52b, ../../output/interaction/InteractionTraining/results/InteractionTraining____mars_gym_model_b___alpha___1e_05__0b623b96b8, ../../output/interaction/InteractionTraining/results/InteractionTraining____mars_gym_model_b___alpha___1e_05__d5981787b1]  "
      ]
     },
     "execution_count": 4,
     "metadata": {},
     "output_type": "execute_result"
    }
   ],
   "source": [
    "# Group results\n",
    "\n",
    "list_bandits          = df_params.groupby([\"bandit_policy_class\", \"observation\"])['iteraction'].apply(list).reset_index()\n",
    "list_bandits['name']  = list_bandits.bandit_policy_class.map(str) + ' ' + list_bandits.observation.map(str)\n",
    "list_bandits['name']  = list_bandits['name'].apply(lambda x: x.replace(\"fixed \", \"\").replace(\" \", \"\"))\n",
    "list_bandits['model'] = list_bandits.iteraction.apply(lambda l: l[np.random.randint(0, len(l))])\n",
    "list_bandits['model_list'] = list_bandits.iteraction\n",
    "list_bandits.head(2)"
   ]
  },
  {
   "cell_type": "code",
   "execution_count": null,
   "metadata": {},
   "outputs": [],
   "source": []
  },
  {
   "cell_type": "code",
   "execution_count": 5,
   "metadata": {},
   "outputs": [],
   "source": [
    "reward_metrics = []\n",
    "for i, row in list_bandits.iterrows():\n",
    "    df_metrics = get_metrics_reward(row['iteraction'])\n",
    "    df_metrics['bandit'] = row['name']\n",
    "    df_metrics['model']  = row['model']\n",
    "\n",
    "    df_g_metrics = group_metrics(df_metrics)\n",
    "    reward_metrics.append(df_g_metrics)"
   ]
  },
  {
   "cell_type": "code",
   "execution_count": 6,
   "metadata": {},
   "outputs": [
    {
     "data": {
      "text/html": [
       "<div>\n",
       "<style scoped>\n",
       "    .dataframe tbody tr th:only-of-type {\n",
       "        vertical-align: middle;\n",
       "    }\n",
       "\n",
       "    .dataframe tbody tr th {\n",
       "        vertical-align: top;\n",
       "    }\n",
       "\n",
       "    .dataframe thead th {\n",
       "        text-align: right;\n",
       "    }\n",
       "</style>\n",
       "<table border=\"1\" class=\"dataframe\">\n",
       "  <thead>\n",
       "    <tr style=\"text-align: right;\">\n",
       "      <th></th>\n",
       "      <th>r_mean|mean</th>\n",
       "      <th>r_mean|std</th>\n",
       "      <th>r_reward|mean</th>\n",
       "      <th>r_reward|std</th>\n",
       "      <th>r_reward|count</th>\n",
       "      <th>model|first</th>\n",
       "    </tr>\n",
       "    <tr>\n",
       "      <th>bandit</th>\n",
       "      <th></th>\n",
       "      <th></th>\n",
       "      <th></th>\n",
       "      <th></th>\n",
       "      <th></th>\n",
       "      <th></th>\n",
       "    </tr>\n",
       "  </thead>\n",
       "  <tbody>\n",
       "    <tr>\n",
       "      <th>mars_gym.model.bandit.SoftmaxExplorer</th>\n",
       "      <td>0.275622</td>\n",
       "      <td>0.013914</td>\n",
       "      <td>2915.250000</td>\n",
       "      <td>147.173124</td>\n",
       "      <td>8</td>\n",
       "      <td>../../output/interaction/InteractionTraining/results/InteractionTraining____mars_gym_model_b___logit_multipli_34358aae37</td>\n",
       "    </tr>\n",
       "    <tr>\n",
       "      <th>mars_gym.model.bandit.RandomPolicy</th>\n",
       "      <td>0.040749</td>\n",
       "      <td>NaN</td>\n",
       "      <td>431.000000</td>\n",
       "      <td>NaN</td>\n",
       "      <td>1</td>\n",
       "      <td>../../output/interaction/InteractionTraining/results/InteractionTraining____mars_gym_model_b____1649c7bd6b</td>\n",
       "    </tr>\n",
       "    <tr>\n",
       "      <th>mars_gym.model.bandit.PercentileAdaptiveGreedy</th>\n",
       "      <td>0.284485</td>\n",
       "      <td>0.010725</td>\n",
       "      <td>3009.000000</td>\n",
       "      <td>113.439726</td>\n",
       "      <td>8</td>\n",
       "      <td>../../output/interaction/InteractionTraining/results/InteractionTraining____mars_gym_model_b___exploration_th_36a2721c50</td>\n",
       "    </tr>\n",
       "    <tr>\n",
       "      <th>mars_gym.model.bandit.LinUCB</th>\n",
       "      <td>0.121703</td>\n",
       "      <td>0.007030</td>\n",
       "      <td>1287.250000</td>\n",
       "      <td>74.351962</td>\n",
       "      <td>8</td>\n",
       "      <td>../../output/interaction/InteractionTraining/results/InteractionTraining____mars_gym_model_b___alpha___1e_05__335eb27eb5</td>\n",
       "    </tr>\n",
       "    <tr>\n",
       "      <th>mars_gym.model.bandit.LinThompsonSampling</th>\n",
       "      <td>0.048501</td>\n",
       "      <td>NaN</td>\n",
       "      <td>513.000000</td>\n",
       "      <td>NaN</td>\n",
       "      <td>1</td>\n",
       "      <td>../../output/interaction/InteractionTraining/results/InteractionTraining____mars_gym_model_b___v_sq___0_1__4cd65ca01d</td>\n",
       "    </tr>\n",
       "    <tr>\n",
       "      <th>mars_gym.model.bandit.FixedPolicyPopularItem</th>\n",
       "      <td>0.104567</td>\n",
       "      <td>0.000000</td>\n",
       "      <td>1106.000000</td>\n",
       "      <td>0.000000</td>\n",
       "      <td>2</td>\n",
       "      <td>../../output/interaction/InteractionTraining/results/InteractionTraining____mars_gym_model_b___arg___2__9cb6645207</td>\n",
       "    </tr>\n",
       "    <tr>\n",
       "      <th>mars_gym.model.bandit.ExploreThenExploit</th>\n",
       "      <td>0.228906</td>\n",
       "      <td>0.006917</td>\n",
       "      <td>2421.142857</td>\n",
       "      <td>73.156063</td>\n",
       "      <td>7</td>\n",
       "      <td>../../output/interaction/InteractionTraining/results/InteractionTraining____mars_gym_model_b___explore_rounds_a180ca8b8f</td>\n",
       "    </tr>\n",
       "    <tr>\n",
       "      <th>mars_gym.model.bandit.EpsilonGreedy</th>\n",
       "      <td>0.285147</td>\n",
       "      <td>0.015851</td>\n",
       "      <td>3016.000000</td>\n",
       "      <td>167.654406</td>\n",
       "      <td>8</td>\n",
       "      <td>../../output/interaction/InteractionTraining/results/InteractionTraining____mars_gym_model_b___epsilon___0_1__4645466ef3</td>\n",
       "    </tr>\n",
       "    <tr>\n",
       "      <th>mars_gym.model.bandit.CustomRewardModelLinUCB</th>\n",
       "      <td>0.297863</td>\n",
       "      <td>0.024824</td>\n",
       "      <td>3150.500000</td>\n",
       "      <td>262.564822</td>\n",
       "      <td>8</td>\n",
       "      <td>../../output/interaction/InteractionTraining/results/InteractionTraining____mars_gym_model_b___alpha___1e_05__7966e4e52b</td>\n",
       "    </tr>\n",
       "    <tr>\n",
       "      <th>mars_gym.model.bandit.AdaptiveGreedy</th>\n",
       "      <td>0.215609</td>\n",
       "      <td>0.030293</td>\n",
       "      <td>2280.500000</td>\n",
       "      <td>320.404209</td>\n",
       "      <td>8</td>\n",
       "      <td>../../output/interaction/InteractionTraining/results/InteractionTraining____mars_gym_model_b___exploration_th_d3663f58fc</td>\n",
       "    </tr>\n",
       "  </tbody>\n",
       "</table>\n",
       "</div>"
      ],
      "text/plain": [
       "                                                r_mean|mean  r_mean|std  \\\n",
       "bandit                                                                    \n",
       "mars_gym.model.bandit.SoftmaxExplorer           0.275622     0.013914     \n",
       "mars_gym.model.bandit.RandomPolicy              0.040749    NaN           \n",
       "mars_gym.model.bandit.PercentileAdaptiveGreedy  0.284485     0.010725     \n",
       "mars_gym.model.bandit.LinUCB                    0.121703     0.007030     \n",
       "mars_gym.model.bandit.LinThompsonSampling       0.048501    NaN           \n",
       "mars_gym.model.bandit.FixedPolicyPopularItem    0.104567     0.000000     \n",
       "mars_gym.model.bandit.ExploreThenExploit        0.228906     0.006917     \n",
       "mars_gym.model.bandit.EpsilonGreedy             0.285147     0.015851     \n",
       "mars_gym.model.bandit.CustomRewardModelLinUCB   0.297863     0.024824     \n",
       "mars_gym.model.bandit.AdaptiveGreedy            0.215609     0.030293     \n",
       "\n",
       "                                                r_reward|mean  r_reward|std  \\\n",
       "bandit                                                                        \n",
       "mars_gym.model.bandit.SoftmaxExplorer           2915.250000    147.173124     \n",
       "mars_gym.model.bandit.RandomPolicy              431.000000    NaN             \n",
       "mars_gym.model.bandit.PercentileAdaptiveGreedy  3009.000000    113.439726     \n",
       "mars_gym.model.bandit.LinUCB                    1287.250000    74.351962      \n",
       "mars_gym.model.bandit.LinThompsonSampling       513.000000    NaN             \n",
       "mars_gym.model.bandit.FixedPolicyPopularItem    1106.000000    0.000000       \n",
       "mars_gym.model.bandit.ExploreThenExploit        2421.142857    73.156063      \n",
       "mars_gym.model.bandit.EpsilonGreedy             3016.000000    167.654406     \n",
       "mars_gym.model.bandit.CustomRewardModelLinUCB   3150.500000    262.564822     \n",
       "mars_gym.model.bandit.AdaptiveGreedy            2280.500000    320.404209     \n",
       "\n",
       "                                                r_reward|count  \\\n",
       "bandit                                                           \n",
       "mars_gym.model.bandit.SoftmaxExplorer           8                \n",
       "mars_gym.model.bandit.RandomPolicy              1                \n",
       "mars_gym.model.bandit.PercentileAdaptiveGreedy  8                \n",
       "mars_gym.model.bandit.LinUCB                    8                \n",
       "mars_gym.model.bandit.LinThompsonSampling       1                \n",
       "mars_gym.model.bandit.FixedPolicyPopularItem    2                \n",
       "mars_gym.model.bandit.ExploreThenExploit        7                \n",
       "mars_gym.model.bandit.EpsilonGreedy             8                \n",
       "mars_gym.model.bandit.CustomRewardModelLinUCB   8                \n",
       "mars_gym.model.bandit.AdaptiveGreedy            8                \n",
       "\n",
       "                                                                                                                                                             model|first  \n",
       "bandit                                                                                                                                                                    \n",
       "mars_gym.model.bandit.SoftmaxExplorer           ../../output/interaction/InteractionTraining/results/InteractionTraining____mars_gym_model_b___logit_multipli_34358aae37  \n",
       "mars_gym.model.bandit.RandomPolicy              ../../output/interaction/InteractionTraining/results/InteractionTraining____mars_gym_model_b____1649c7bd6b                \n",
       "mars_gym.model.bandit.PercentileAdaptiveGreedy  ../../output/interaction/InteractionTraining/results/InteractionTraining____mars_gym_model_b___exploration_th_36a2721c50  \n",
       "mars_gym.model.bandit.LinUCB                    ../../output/interaction/InteractionTraining/results/InteractionTraining____mars_gym_model_b___alpha___1e_05__335eb27eb5  \n",
       "mars_gym.model.bandit.LinThompsonSampling       ../../output/interaction/InteractionTraining/results/InteractionTraining____mars_gym_model_b___v_sq___0_1__4cd65ca01d     \n",
       "mars_gym.model.bandit.FixedPolicyPopularItem    ../../output/interaction/InteractionTraining/results/InteractionTraining____mars_gym_model_b___arg___2__9cb6645207        \n",
       "mars_gym.model.bandit.ExploreThenExploit        ../../output/interaction/InteractionTraining/results/InteractionTraining____mars_gym_model_b___explore_rounds_a180ca8b8f  \n",
       "mars_gym.model.bandit.EpsilonGreedy             ../../output/interaction/InteractionTraining/results/InteractionTraining____mars_gym_model_b___epsilon___0_1__4645466ef3  \n",
       "mars_gym.model.bandit.CustomRewardModelLinUCB   ../../output/interaction/InteractionTraining/results/InteractionTraining____mars_gym_model_b___alpha___1e_05__7966e4e52b  \n",
       "mars_gym.model.bandit.AdaptiveGreedy            ../../output/interaction/InteractionTraining/results/InteractionTraining____mars_gym_model_b___exploration_th_d3663f58fc  "
      ]
     },
     "execution_count": 6,
     "metadata": {},
     "output_type": "execute_result"
    }
   ],
   "source": [
    "df_all = pd.concat(reward_metrics)\n",
    "df_all = df_all.reset_index().sort_values('bandit', ascending=False).set_index('bandit')\n",
    "df_all"
   ]
  },
  {
   "cell_type": "markdown",
   "metadata": {},
   "source": [
    "## DataViz - Plot Images"
   ]
  },
  {
   "cell_type": "code",
   "execution_count": 7,
   "metadata": {},
   "outputs": [
    {
     "data": {
      "text/plain": [
       "Index(['mars_gym.model.bandit.AdaptiveGreedy',\n",
       "       'mars_gym.model.bandit.CustomRewardModelLinUCB',\n",
       "       'mars_gym.model.bandit.EpsilonGreedy',\n",
       "       'mars_gym.model.bandit.ExploreThenExploit',\n",
       "       'mars_gym.model.bandit.FixedPolicyPopularItem',\n",
       "       'mars_gym.model.bandit.LinThompsonSampling',\n",
       "       'mars_gym.model.bandit.LinUCB',\n",
       "       'mars_gym.model.bandit.PercentileAdaptiveGreedy',\n",
       "       'mars_gym.model.bandit.RandomPolicy',\n",
       "       'mars_gym.model.bandit.SoftmaxExplorer'],\n",
       "      dtype='object', name='name')"
      ]
     },
     "execution_count": 7,
     "metadata": {},
     "output_type": "execute_result"
    }
   ],
   "source": [
    "#list_bandits['name'] = list_bandits['name'].apply(lambda x: \"popular_item\" if x == \"PopularItem\" else x)\n",
    "df_models = list_bandits.set_index('name')[['model_list']]\n",
    "df_models.index"
   ]
  },
  {
   "cell_type": "code",
   "execution_count": 8,
   "metadata": {},
   "outputs": [
    {
     "data": {
      "text/html": [
       "<div>\n",
       "<style scoped>\n",
       "    .dataframe tbody tr th:only-of-type {\n",
       "        vertical-align: middle;\n",
       "    }\n",
       "\n",
       "    .dataframe tbody tr th {\n",
       "        vertical-align: top;\n",
       "    }\n",
       "\n",
       "    .dataframe thead th {\n",
       "        text-align: right;\n",
       "    }\n",
       "</style>\n",
       "<table border=\"1\" class=\"dataframe\">\n",
       "  <thead>\n",
       "    <tr style=\"text-align: right;\">\n",
       "      <th></th>\n",
       "      <th>iteraction</th>\n",
       "      <th>idx</th>\n",
       "      <th>user</th>\n",
       "      <th>item</th>\n",
       "      <th>reward</th>\n",
       "      <th>ps</th>\n",
       "      <th>index_env</th>\n",
       "      <th>_idx</th>\n",
       "      <th>mean_reward</th>\n",
       "      <th>bandit</th>\n",
       "    </tr>\n",
       "  </thead>\n",
       "  <tbody>\n",
       "    <tr>\n",
       "      <th>0</th>\n",
       "      <td>InteractionTraining____mars_gym_model_b___exploration_th_2cc29714f4</td>\n",
       "      <td>0</td>\n",
       "      <td>559</td>\n",
       "      <td>191</td>\n",
       "      <td>0.0</td>\n",
       "      <td>0.975610</td>\n",
       "      <td>10</td>\n",
       "      <td>1</td>\n",
       "      <td>0.0</td>\n",
       "      <td>mars_gym.model.bandit.AdaptiveGreedy</td>\n",
       "    </tr>\n",
       "    <tr>\n",
       "      <th>1</th>\n",
       "      <td>InteractionTraining____mars_gym_model_b___exploration_th_2cc29714f4</td>\n",
       "      <td>1</td>\n",
       "      <td>1118</td>\n",
       "      <td>486</td>\n",
       "      <td>0.0</td>\n",
       "      <td>1.951220</td>\n",
       "      <td>43</td>\n",
       "      <td>2</td>\n",
       "      <td>0.0</td>\n",
       "      <td>mars_gym.model.bandit.AdaptiveGreedy</td>\n",
       "    </tr>\n",
       "    <tr>\n",
       "      <th>2</th>\n",
       "      <td>InteractionTraining____mars_gym_model_b___exploration_th_2cc29714f4</td>\n",
       "      <td>2</td>\n",
       "      <td>1677</td>\n",
       "      <td>644</td>\n",
       "      <td>0.0</td>\n",
       "      <td>2.926829</td>\n",
       "      <td>96</td>\n",
       "      <td>3</td>\n",
       "      <td>0.0</td>\n",
       "      <td>mars_gym.model.bandit.AdaptiveGreedy</td>\n",
       "    </tr>\n",
       "    <tr>\n",
       "      <th>3</th>\n",
       "      <td>InteractionTraining____mars_gym_model_b___exploration_th_2cc29714f4</td>\n",
       "      <td>3</td>\n",
       "      <td>1908</td>\n",
       "      <td>1263</td>\n",
       "      <td>0.0</td>\n",
       "      <td>3.902439</td>\n",
       "      <td>186</td>\n",
       "      <td>4</td>\n",
       "      <td>0.0</td>\n",
       "      <td>mars_gym.model.bandit.AdaptiveGreedy</td>\n",
       "    </tr>\n",
       "    <tr>\n",
       "      <th>4</th>\n",
       "      <td>InteractionTraining____mars_gym_model_b___exploration_th_2cc29714f4</td>\n",
       "      <td>4</td>\n",
       "      <td>1971</td>\n",
       "      <td>1397</td>\n",
       "      <td>0.0</td>\n",
       "      <td>4.878049</td>\n",
       "      <td>297</td>\n",
       "      <td>5</td>\n",
       "      <td>0.0</td>\n",
       "      <td>mars_gym.model.bandit.AdaptiveGreedy</td>\n",
       "    </tr>\n",
       "  </tbody>\n",
       "</table>\n",
       "</div>"
      ],
      "text/plain": [
       "                                                            iteraction  idx  \\\n",
       "0  InteractionTraining____mars_gym_model_b___exploration_th_2cc29714f4  0     \n",
       "1  InteractionTraining____mars_gym_model_b___exploration_th_2cc29714f4  1     \n",
       "2  InteractionTraining____mars_gym_model_b___exploration_th_2cc29714f4  2     \n",
       "3  InteractionTraining____mars_gym_model_b___exploration_th_2cc29714f4  3     \n",
       "4  InteractionTraining____mars_gym_model_b___exploration_th_2cc29714f4  4     \n",
       "\n",
       "   user  item  reward        ps  index_env  _idx  mean_reward  \\\n",
       "0  559   191   0.0     0.975610  10         1     0.0           \n",
       "1  1118  486   0.0     1.951220  43         2     0.0           \n",
       "2  1677  644   0.0     2.926829  96         3     0.0           \n",
       "3  1908  1263  0.0     3.902439  186        4     0.0           \n",
       "4  1971  1397  0.0     4.878049  297        5     0.0           \n",
       "\n",
       "                                 bandit  \n",
       "0  mars_gym.model.bandit.AdaptiveGreedy  \n",
       "1  mars_gym.model.bandit.AdaptiveGreedy  \n",
       "2  mars_gym.model.bandit.AdaptiveGreedy  \n",
       "3  mars_gym.model.bandit.AdaptiveGreedy  \n",
       "4  mars_gym.model.bandit.AdaptiveGreedy  "
      ]
     },
     "execution_count": 8,
     "metadata": {},
     "output_type": "execute_result"
    }
   ],
   "source": [
    "sample_size       = 15000\n",
    "window_size       = 1000 \n",
    "bandits           = df_models.index\n",
    "\n",
    "df_group = load_dataset(df_models, bandits, sample_size)\n",
    "df_group.head()"
   ]
  },
  {
   "cell_type": "markdown",
   "metadata": {},
   "source": [
    "### Bandit Simulation Results."
   ]
  },
  {
   "cell_type": "markdown",
   "metadata": {},
   "source": [
    "We performed the simulation of each proposed task until the convergence of most\n",
    "methods to observe cumulative mean reward throughout the simulation. Bandit Simulation Results for \"Chicago, USA\" task."
   ]
  },
  {
   "cell_type": "code",
   "execution_count": 9,
   "metadata": {},
   "outputs": [
    {
     "data": {
      "image/png": "[encoded data removed]",
      "text/plain": [
       "<Figure size 432x288 with 1 Axes>"
      ]
     },
     "metadata": {
      "needs_background": "light"
     },
     "output_type": "display_data"
    }
   ],
   "source": [
    "df_group_mean = df_group.groupby(['bandit', 'idx']).median().reset_index()\n",
    "\n",
    "plot_cum_reward(df_group_mean, legend='full', ylim=0.4)"
   ]
  },
  {
   "cell_type": "markdown",
   "metadata": {},
   "source": []
  },
  {
   "cell_type": "code",
   "execution_count": null,
   "metadata": {},
   "outputs": [],
   "source": []
  },
  {
   "cell_type": "markdown",
   "metadata": {},
   "source": [
    "### Recommendation Metrics and Off-Policy Evaluation"
   ]
  },
  {
   "cell_type": "markdown",
   "metadata": {},
   "source": [
    "We evaluated the bandits according to traditional recommen-\n",
    "dation metrics and off-policy metrics in the test subset of the \"Chicago, USA\" task"
   ]
  },
  {
   "cell_type": "code",
   "execution_count": 10,
   "metadata": {},
   "outputs": [],
   "source": [
    "input_metrics = [\n",
    "  \"precision_at_1\",\n",
    "  \"ndcg_at_5\",\n",
    "  \"coverage_at_5\",\n",
    "  \"personalization_at_5\",\n",
    "  \"IPS\",\n",
    "  \"SNIPS\",\n",
    "  \"DirectEstimator\",\n",
    "  \"DoublyRobust\"\n",
    "]"
   ]
  },
  {
   "cell_type": "code",
   "execution_count": 11,
   "metadata": {},
   "outputs": [
    {
     "name": "stderr",
     "output_type": "stream",
     "text": [
      "/media/workspace/DeepFood/deep-reco-gym/src/mars_gym/tools/eval_viz/util.py:44: FutureWarning:\n",
      "\n",
      "pandas.io.json.json_normalize is deprecated, use pandas.json_normalize instead\n",
      "\n"
     ]
    }
   ],
   "source": [
    "# Load Métrics and Params\n",
    "#\n",
    "input_models_eval = fetch_results_path().keys()\n",
    "data_metrics      = load_data_metrics()\n",
    "data_params       = load_eval_params()\n",
    "input_params      = []\n",
    "\n",
    "df_metrics        = filter_df(data_metrics, input_models_eval, input_metrics, \"\")\n",
    "df_eval_params    = filter_df(data_params, input_models_eval, input_params).transpose()\n"
   ]
  },
  {
   "cell_type": "code",
   "execution_count": 12,
   "metadata": {},
   "outputs": [],
   "source": [
    "# Calculate confidence metrics\n",
    "#\n",
    "confidence_metrics = data_metrics[[c for c in data_metrics.columns if \"_C\" in c]]\n",
    "for c in input_metrics:\n",
    "    c_column = c+\"_C\" \n",
    "    confidence_metrics[c_column] = data_metrics[c_column] if c_column in data_metrics else None\n",
    "confidence_metrics = confidence_metrics[[c+\"_C\" for c in input_metrics]]"
   ]
  },
  {
   "cell_type": "code",
   "execution_count": 13,
   "metadata": {},
   "outputs": [
    {
     "data": {
      "text/html": [
       "<div>\n",
       "<style scoped>\n",
       "    .dataframe tbody tr th:only-of-type {\n",
       "        vertical-align: middle;\n",
       "    }\n",
       "\n",
       "    .dataframe tbody tr th {\n",
       "        vertical-align: top;\n",
       "    }\n",
       "\n",
       "    .dataframe thead th {\n",
       "        text-align: right;\n",
       "    }\n",
       "</style>\n",
       "<table border=\"1\" class=\"dataframe\">\n",
       "  <thead>\n",
       "    <tr style=\"text-align: right;\">\n",
       "      <th></th>\n",
       "      <th>precision_at_1</th>\n",
       "      <th>ndcg_at_5</th>\n",
       "      <th>coverage_at_5</th>\n",
       "      <th>personalization_at_5</th>\n",
       "      <th>IPS</th>\n",
       "      <th>SNIPS</th>\n",
       "      <th>DirectEstimator</th>\n",
       "      <th>DoublyRobust</th>\n",
       "      <th>index</th>\n",
       "    </tr>\n",
       "    <tr>\n",
       "      <th>bandit_policy_class</th>\n",
       "      <th></th>\n",
       "      <th></th>\n",
       "      <th></th>\n",
       "      <th></th>\n",
       "      <th></th>\n",
       "      <th></th>\n",
       "      <th></th>\n",
       "      <th></th>\n",
       "      <th></th>\n",
       "    </tr>\n",
       "  </thead>\n",
       "  <tbody>\n",
       "    <tr>\n",
       "      <th>mars_gym.model.bandit.AdaptiveGreedy</th>\n",
       "      <td>0.317639</td>\n",
       "      <td>0.403579</td>\n",
       "      <td>0.390850</td>\n",
       "      <td>0.767565</td>\n",
       "      <td>0.299046</td>\n",
       "      <td>0.308466</td>\n",
       "      <td>0.200657</td>\n",
       "      <td>0.267138</td>\n",
       "      <td>0</td>\n",
       "    </tr>\n",
       "    <tr>\n",
       "      <th>mars_gym.model.bandit.CustomRewardModelLinUCB</th>\n",
       "      <td>0.328249</td>\n",
       "      <td>0.442917</td>\n",
       "      <td>0.362862</td>\n",
       "      <td>0.729376</td>\n",
       "      <td>0.305576</td>\n",
       "      <td>0.315562</td>\n",
       "      <td>0.199502</td>\n",
       "      <td>0.266484</td>\n",
       "      <td>0</td>\n",
       "    </tr>\n",
       "    <tr>\n",
       "      <th>mars_gym.model.bandit.EpsilonGreedy</th>\n",
       "      <td>0.302056</td>\n",
       "      <td>0.443252</td>\n",
       "      <td>0.343287</td>\n",
       "      <td>0.733547</td>\n",
       "      <td>0.296847</td>\n",
       "      <td>0.295397</td>\n",
       "      <td>0.187270</td>\n",
       "      <td>0.254888</td>\n",
       "      <td>0</td>\n",
       "    </tr>\n",
       "    <tr>\n",
       "      <th>mars_gym.model.bandit.ExploreThenExploit</th>\n",
       "      <td>0.307692</td>\n",
       "      <td>0.418607</td>\n",
       "      <td>0.333071</td>\n",
       "      <td>0.731641</td>\n",
       "      <td>0.296997</td>\n",
       "      <td>0.294139</td>\n",
       "      <td>0.190652</td>\n",
       "      <td>0.256225</td>\n",
       "      <td>0</td>\n",
       "    </tr>\n",
       "    <tr>\n",
       "      <th>mars_gym.model.bandit.FixedPolicy</th>\n",
       "      <td>0.074271</td>\n",
       "      <td>0.171294</td>\n",
       "      <td>0.373850</td>\n",
       "      <td>0.759891</td>\n",
       "      <td>0.076116</td>\n",
       "      <td>0.077219</td>\n",
       "      <td>0.084967</td>\n",
       "      <td>0.077790</td>\n",
       "      <td>0</td>\n",
       "    </tr>\n",
       "    <tr>\n",
       "      <th>mars_gym.model.bandit.LinThompsonSampling</th>\n",
       "      <td>0.039788</td>\n",
       "      <td>0.137056</td>\n",
       "      <td>0.423900</td>\n",
       "      <td>0.771211</td>\n",
       "      <td>0.037423</td>\n",
       "      <td>0.035373</td>\n",
       "      <td>0.041869</td>\n",
       "      <td>0.039049</td>\n",
       "      <td>0</td>\n",
       "    </tr>\n",
       "    <tr>\n",
       "      <th>mars_gym.model.bandit.LinUCB</th>\n",
       "      <td>0.075928</td>\n",
       "      <td>0.207314</td>\n",
       "      <td>0.271450</td>\n",
       "      <td>0.696228</td>\n",
       "      <td>0.053439</td>\n",
       "      <td>0.056094</td>\n",
       "      <td>0.054993</td>\n",
       "      <td>0.051205</td>\n",
       "      <td>0</td>\n",
       "    </tr>\n",
       "    <tr>\n",
       "      <th>mars_gym.model.bandit.PercentileAdaptiveGreedy</th>\n",
       "      <td>0.336870</td>\n",
       "      <td>0.438648</td>\n",
       "      <td>0.375563</td>\n",
       "      <td>0.743905</td>\n",
       "      <td>0.321505</td>\n",
       "      <td>0.317082</td>\n",
       "      <td>0.198404</td>\n",
       "      <td>0.280774</td>\n",
       "      <td>0</td>\n",
       "    </tr>\n",
       "    <tr>\n",
       "      <th>mars_gym.model.bandit.RandomPolicy</th>\n",
       "      <td>0.039788</td>\n",
       "      <td>0.138404</td>\n",
       "      <td>0.389600</td>\n",
       "      <td>0.775653</td>\n",
       "      <td>0.041457</td>\n",
       "      <td>0.040577</td>\n",
       "      <td>0.042541</td>\n",
       "      <td>0.041919</td>\n",
       "      <td>0</td>\n",
       "    </tr>\n",
       "    <tr>\n",
       "      <th>mars_gym.model.bandit.SoftmaxExplorer</th>\n",
       "      <td>0.301724</td>\n",
       "      <td>0.452869</td>\n",
       "      <td>0.330988</td>\n",
       "      <td>0.725512</td>\n",
       "      <td>0.287223</td>\n",
       "      <td>0.287718</td>\n",
       "      <td>0.188744</td>\n",
       "      <td>0.253449</td>\n",
       "      <td>0</td>\n",
       "    </tr>\n",
       "  </tbody>\n",
       "</table>\n",
       "</div>"
      ],
      "text/plain": [
       "                                                precision_at_1  ndcg_at_5  \\\n",
       "bandit_policy_class                                                         \n",
       "mars_gym.model.bandit.AdaptiveGreedy            0.317639        0.403579    \n",
       "mars_gym.model.bandit.CustomRewardModelLinUCB   0.328249        0.442917    \n",
       "mars_gym.model.bandit.EpsilonGreedy             0.302056        0.443252    \n",
       "mars_gym.model.bandit.ExploreThenExploit        0.307692        0.418607    \n",
       "mars_gym.model.bandit.FixedPolicy               0.074271        0.171294    \n",
       "mars_gym.model.bandit.LinThompsonSampling       0.039788        0.137056    \n",
       "mars_gym.model.bandit.LinUCB                    0.075928        0.207314    \n",
       "mars_gym.model.bandit.PercentileAdaptiveGreedy  0.336870        0.438648    \n",
       "mars_gym.model.bandit.RandomPolicy              0.039788        0.138404    \n",
       "mars_gym.model.bandit.SoftmaxExplorer           0.301724        0.452869    \n",
       "\n",
       "                                                coverage_at_5  \\\n",
       "bandit_policy_class                                             \n",
       "mars_gym.model.bandit.AdaptiveGreedy            0.390850        \n",
       "mars_gym.model.bandit.CustomRewardModelLinUCB   0.362862        \n",
       "mars_gym.model.bandit.EpsilonGreedy             0.343287        \n",
       "mars_gym.model.bandit.ExploreThenExploit        0.333071        \n",
       "mars_gym.model.bandit.FixedPolicy               0.373850        \n",
       "mars_gym.model.bandit.LinThompsonSampling       0.423900        \n",
       "mars_gym.model.bandit.LinUCB                    0.271450        \n",
       "mars_gym.model.bandit.PercentileAdaptiveGreedy  0.375563        \n",
       "mars_gym.model.bandit.RandomPolicy              0.389600        \n",
       "mars_gym.model.bandit.SoftmaxExplorer           0.330988        \n",
       "\n",
       "                                                personalization_at_5  \\\n",
       "bandit_policy_class                                                    \n",
       "mars_gym.model.bandit.AdaptiveGreedy            0.767565               \n",
       "mars_gym.model.bandit.CustomRewardModelLinUCB   0.729376               \n",
       "mars_gym.model.bandit.EpsilonGreedy             0.733547               \n",
       "mars_gym.model.bandit.ExploreThenExploit        0.731641               \n",
       "mars_gym.model.bandit.FixedPolicy               0.759891               \n",
       "mars_gym.model.bandit.LinThompsonSampling       0.771211               \n",
       "mars_gym.model.bandit.LinUCB                    0.696228               \n",
       "mars_gym.model.bandit.PercentileAdaptiveGreedy  0.743905               \n",
       "mars_gym.model.bandit.RandomPolicy              0.775653               \n",
       "mars_gym.model.bandit.SoftmaxExplorer           0.725512               \n",
       "\n",
       "                                                     IPS     SNIPS  \\\n",
       "bandit_policy_class                                                  \n",
       "mars_gym.model.bandit.AdaptiveGreedy            0.299046  0.308466   \n",
       "mars_gym.model.bandit.CustomRewardModelLinUCB   0.305576  0.315562   \n",
       "mars_gym.model.bandit.EpsilonGreedy             0.296847  0.295397   \n",
       "mars_gym.model.bandit.ExploreThenExploit        0.296997  0.294139   \n",
       "mars_gym.model.bandit.FixedPolicy               0.076116  0.077219   \n",
       "mars_gym.model.bandit.LinThompsonSampling       0.037423  0.035373   \n",
       "mars_gym.model.bandit.LinUCB                    0.053439  0.056094   \n",
       "mars_gym.model.bandit.PercentileAdaptiveGreedy  0.321505  0.317082   \n",
       "mars_gym.model.bandit.RandomPolicy              0.041457  0.040577   \n",
       "mars_gym.model.bandit.SoftmaxExplorer           0.287223  0.287718   \n",
       "\n",
       "                                                DirectEstimator  DoublyRobust  \\\n",
       "bandit_policy_class                                                             \n",
       "mars_gym.model.bandit.AdaptiveGreedy            0.200657         0.267138       \n",
       "mars_gym.model.bandit.CustomRewardModelLinUCB   0.199502         0.266484       \n",
       "mars_gym.model.bandit.EpsilonGreedy             0.187270         0.254888       \n",
       "mars_gym.model.bandit.ExploreThenExploit        0.190652         0.256225       \n",
       "mars_gym.model.bandit.FixedPolicy               0.084967         0.077790       \n",
       "mars_gym.model.bandit.LinThompsonSampling       0.041869         0.039049       \n",
       "mars_gym.model.bandit.LinUCB                    0.054993         0.051205       \n",
       "mars_gym.model.bandit.PercentileAdaptiveGreedy  0.198404         0.280774       \n",
       "mars_gym.model.bandit.RandomPolicy              0.042541         0.041919       \n",
       "mars_gym.model.bandit.SoftmaxExplorer           0.188744         0.253449       \n",
       "\n",
       "                                                index  \n",
       "bandit_policy_class                                    \n",
       "mars_gym.model.bandit.AdaptiveGreedy            0      \n",
       "mars_gym.model.bandit.CustomRewardModelLinUCB   0      \n",
       "mars_gym.model.bandit.EpsilonGreedy             0      \n",
       "mars_gym.model.bandit.ExploreThenExploit        0      \n",
       "mars_gym.model.bandit.FixedPolicy               0      \n",
       "mars_gym.model.bandit.LinThompsonSampling       0      \n",
       "mars_gym.model.bandit.LinUCB                    0      \n",
       "mars_gym.model.bandit.PercentileAdaptiveGreedy  0      \n",
       "mars_gym.model.bandit.RandomPolicy              0      \n",
       "mars_gym.model.bandit.SoftmaxExplorer           0      "
      ]
     },
     "execution_count": 13,
     "metadata": {},
     "output_type": "execute_result"
    }
   ],
   "source": [
    "# Merge and Mean \n",
    "#\n",
    "df_metrics['model_task'] = data_metrics.model_task\n",
    "df_params['model_task']  = df_params.iteraction.apply(lambda x: x.split(\"/\")[-1])\n",
    "\n",
    "df_result = df_metrics.merge(\n",
    "    df_params[['bandit_policy_class', 'model_task']].reset_index()\n",
    ", on='model_task')\n",
    "\n",
    "df_result = df_result.groupby(['bandit_policy_class']).mean()\n",
    "df_result"
   ]
  },
  {
   "cell_type": "code",
   "execution_count": 14,
   "metadata": {},
   "outputs": [],
   "source": [
    "df_result.round(3).to_csv('metrics.csv')"
   ]
  },
  {
   "cell_type": "code",
   "execution_count": 15,
   "metadata": {},
   "outputs": [],
   "source": [
    "# fig = plot_bar(df_result, confidence = None, title=\"Comparison of Recsys Metrics\")\n",
    "\n",
    "# fig.update_layout(xaxis_showgrid=False, yaxis_showgrid=False)\n",
    "# fig.update_layout(font={'family': 'Courier New, monospace', 'size': 14}, height=550)\n",
    "# fig#.show(renderer=\"svg\")\n",
    "\n",
    "# #fig.write_image(\"output/tmp/metrics/recsys_rank.eps\")"
   ]
  },
  {
   "cell_type": "code",
   "execution_count": null,
   "metadata": {},
   "outputs": [],
   "source": []
  },
  {
   "cell_type": "markdown",
   "metadata": {},
   "source": [
    "### Fairness Results"
   ]
  },
  {
   "cell_type": "markdown",
   "metadata": {},
   "source": [
    "We evaluated the SoftmaxExplorer bandit on the “RecSys Cities\" task, in the perspective of\n",
    "disparate mistreatment and disparate treatment. We selected a few attributes that we judged to be sensitive for all partners in the marketplace."
   ]
  },
  {
   "cell_type": "code",
   "execution_count": 16,
   "metadata": {},
   "outputs": [],
   "source": [
    "# task_id: InteractionTraining____mars_gym_model_b___logit_multipli_9dd8714dfd_96b9d686ee"
   ]
  },
  {
   "cell_type": "code",
   "execution_count": null,
   "metadata": {},
   "outputs": [],
   "source": []
  },
  {
   "cell_type": "markdown",
   "metadata": {},
   "source": [
    "#### Feature - Accessibility"
   ]
  },
  {
   "cell_type": "code",
   "execution_count": 17,
   "metadata": {},
   "outputs": [],
   "source": [
    "input_models_eval = 'InteractionTraining____mars_gym_model_b___logit_multipli_9dd8714dfd_96b9d686ee'\n",
    "list_input_features    = ['accessible parking', 'accessible hotel']\n",
    "input_metrics     = 'true_positive_rate'"
   ]
  },
  {
   "cell_type": "code",
   "execution_count": 18,
   "metadata": {},
   "outputs": [
    {
     "data": {
      "text/html": [
       "<div>\n",
       "<style scoped>\n",
       "    .dataframe tbody tr th:only-of-type {\n",
       "        vertical-align: middle;\n",
       "    }\n",
       "\n",
       "    .dataframe tbody tr th {\n",
       "        vertical-align: top;\n",
       "    }\n",
       "\n",
       "    .dataframe thead th {\n",
       "        text-align: right;\n",
       "    }\n",
       "</style>\n",
       "<table border=\"1\" class=\"dataframe\">\n",
       "  <thead>\n",
       "    <tr style=\"text-align: right;\">\n",
       "      <th></th>\n",
       "      <th>feature</th>\n",
       "      <th>sub_key</th>\n",
       "      <th>total_class</th>\n",
       "      <th>total_individuals</th>\n",
       "      <th>true_positive_rate</th>\n",
       "      <th>true_positive_rate_C</th>\n",
       "    </tr>\n",
       "    <tr>\n",
       "      <th>sub</th>\n",
       "      <th></th>\n",
       "      <th></th>\n",
       "      <th></th>\n",
       "      <th></th>\n",
       "      <th></th>\n",
       "      <th></th>\n",
       "    </tr>\n",
       "  </thead>\n",
       "  <tbody>\n",
       "    <tr>\n",
       "      <th>1</th>\n",
       "      <td>accessible parking.1</td>\n",
       "      <td>accessible parking</td>\n",
       "      <td>1063</td>\n",
       "      <td>2380</td>\n",
       "      <td>0.222664</td>\n",
       "      <td>0.023616</td>\n",
       "    </tr>\n",
       "    <tr>\n",
       "      <th>0</th>\n",
       "      <td>accessible parking.0</td>\n",
       "      <td>accessible parking</td>\n",
       "      <td>3193</td>\n",
       "      <td>10038</td>\n",
       "      <td>0.297201</td>\n",
       "      <td>0.013806</td>\n",
       "    </tr>\n",
       "    <tr>\n",
       "      <th>1</th>\n",
       "      <td>accessible hotel.1</td>\n",
       "      <td>accessible hotel</td>\n",
       "      <td>1345</td>\n",
       "      <td>3799</td>\n",
       "      <td>0.242414</td>\n",
       "      <td>0.020492</td>\n",
       "    </tr>\n",
       "    <tr>\n",
       "      <th>0</th>\n",
       "      <td>accessible hotel.0</td>\n",
       "      <td>accessible hotel</td>\n",
       "      <td>3114</td>\n",
       "      <td>8619</td>\n",
       "      <td>0.287845</td>\n",
       "      <td>0.014361</td>\n",
       "    </tr>\n",
       "  </tbody>\n",
       "</table>\n",
       "</div>"
      ],
      "text/plain": [
       "                  feature             sub_key  total_class  total_individuals  \\\n",
       "sub                                                                             \n",
       "1    accessible parking.1  accessible parking  1063         2380                \n",
       "0    accessible parking.0  accessible parking  3193         10038               \n",
       "1    accessible hotel.1    accessible hotel    1345         3799                \n",
       "0    accessible hotel.0    accessible hotel    3114         8619                \n",
       "\n",
       "     true_positive_rate  true_positive_rate_C  \n",
       "sub                                            \n",
       "1    0.222664            0.023616              \n",
       "0    0.297201            0.013806              \n",
       "1    0.242414            0.020492              \n",
       "0    0.287845            0.014361              "
      ]
     },
     "execution_count": 18,
     "metadata": {},
     "output_type": "execute_result"
    }
   ],
   "source": [
    "# fig, df_metrics, df_total = plot_fairness_metrics(input_models_eval, input_features, input_metrics, sub_map = None)\n",
    "metrics = []\n",
    "sub_map = None\n",
    "\n",
    "for input_features in list_input_features:\n",
    "    df_all_metrics    = load_fairness_metrics().loc[input_models_eval]\n",
    "    df_instances      = load_fairness_df().loc[input_models_eval]\n",
    "    df_all_metric_filter = df_all_metrics[df_all_metrics.sub_key.isin([input_features])]\n",
    "\n",
    "    columns         = list(np.unique(['sub_key', 'sub', 'feature', 'total_class', 'total_individuals'] + [input_metrics]))\n",
    "    if input_metrics+\"_C\" in df_all_metrics.columns:\n",
    "        columns.append(input_metrics+\"_C\")\n",
    "\n",
    "    df_metrics      = filter_df(df_all_metrics, input_models_eval, columns, 'sub')\n",
    "\n",
    "    df_metrics      = df_metrics[df_metrics.sub_key.isin([input_features])]\n",
    "    if sub_map != None:\n",
    "        df_metrics['sub'] = df_metrics['sub'].map(sub_map)\n",
    "\n",
    "    df_metrics      = df_metrics.sort_values(\"feature\").set_index(\"sub\")\n",
    "    df_metrics      = df_metrics.sort_values(input_metrics)\n",
    "    metrics.append(df_metrics)\n",
    "\n",
    "metrics = pd.concat(metrics)\n",
    "metrics"
   ]
  },
  {
   "cell_type": "code",
   "execution_count": 19,
   "metadata": {},
   "outputs": [
    {
     "data": {
      "text/html": [
       "<div>\n",
       "<style scoped>\n",
       "    .dataframe tbody tr th:only-of-type {\n",
       "        vertical-align: middle;\n",
       "    }\n",
       "\n",
       "    .dataframe tbody tr th {\n",
       "        vertical-align: top;\n",
       "    }\n",
       "\n",
       "    .dataframe thead th {\n",
       "        text-align: right;\n",
       "    }\n",
       "</style>\n",
       "<table border=\"1\" class=\"dataframe\">\n",
       "  <thead>\n",
       "    <tr style=\"text-align: right;\">\n",
       "      <th></th>\n",
       "      <th>feature</th>\n",
       "      <th>sub_key</th>\n",
       "      <th>total_class</th>\n",
       "      <th>total_individuals</th>\n",
       "      <th>true_positive_rate</th>\n",
       "      <th>true_positive_rate_C</th>\n",
       "      <th>color</th>\n",
       "    </tr>\n",
       "    <tr>\n",
       "      <th>sub</th>\n",
       "      <th></th>\n",
       "      <th></th>\n",
       "      <th></th>\n",
       "      <th></th>\n",
       "      <th></th>\n",
       "      <th></th>\n",
       "      <th></th>\n",
       "    </tr>\n",
       "  </thead>\n",
       "  <tbody>\n",
       "    <tr>\n",
       "      <th>parking&lt;br&gt;True</th>\n",
       "      <td>accessible parking.1</td>\n",
       "      <td>accessible parking</td>\n",
       "      <td>1063</td>\n",
       "      <td>2380</td>\n",
       "      <td>0.222664</td>\n",
       "      <td>0.023616</td>\n",
       "      <td>2</td>\n",
       "    </tr>\n",
       "    <tr>\n",
       "      <th>parking&lt;br&gt;False</th>\n",
       "      <td>accessible parking.0</td>\n",
       "      <td>accessible parking</td>\n",
       "      <td>3193</td>\n",
       "      <td>10038</td>\n",
       "      <td>0.297201</td>\n",
       "      <td>0.013806</td>\n",
       "      <td>2</td>\n",
       "    </tr>\n",
       "    <tr>\n",
       "      <th>hotel&lt;br&gt;True</th>\n",
       "      <td>accessible hotel.1</td>\n",
       "      <td>accessible hotel</td>\n",
       "      <td>1345</td>\n",
       "      <td>3799</td>\n",
       "      <td>0.242414</td>\n",
       "      <td>0.020492</td>\n",
       "      <td>5</td>\n",
       "    </tr>\n",
       "    <tr>\n",
       "      <th>hotel&lt;br&gt;False</th>\n",
       "      <td>accessible hotel.0</td>\n",
       "      <td>accessible hotel</td>\n",
       "      <td>3114</td>\n",
       "      <td>8619</td>\n",
       "      <td>0.287845</td>\n",
       "      <td>0.014361</td>\n",
       "      <td>5</td>\n",
       "    </tr>\n",
       "  </tbody>\n",
       "</table>\n",
       "</div>"
      ],
      "text/plain": [
       "                               feature             sub_key  total_class  \\\n",
       "sub                                                                       \n",
       "parking<br>True   accessible parking.1  accessible parking  1063          \n",
       "parking<br>False  accessible parking.0  accessible parking  3193          \n",
       "hotel<br>True     accessible hotel.1    accessible hotel    1345          \n",
       "hotel<br>False    accessible hotel.0    accessible hotel    3114          \n",
       "\n",
       "                  total_individuals  true_positive_rate  true_positive_rate_C  \\\n",
       "sub                                                                             \n",
       "parking<br>True   2380               0.222664            0.023616               \n",
       "parking<br>False  10038              0.297201            0.013806               \n",
       "hotel<br>True     3799               0.242414            0.020492               \n",
       "hotel<br>False    8619               0.287845            0.014361               \n",
       "\n",
       "                  color  \n",
       "sub                      \n",
       "parking<br>True   2      \n",
       "parking<br>False  2      \n",
       "hotel<br>True     5      \n",
       "hotel<br>False    5      "
      ]
     },
     "execution_count": 19,
     "metadata": {},
     "output_type": "execute_result"
    }
   ],
   "source": [
    "metrics.reset_index()\n",
    "metrics['sub'] = ['parking<br>True', 'parking<br>False', 'hotel<br>True', 'hotel<br>False']\n",
    "metrics['color'] = [2,2, 5,5]\n",
    "metrics = metrics.set_index('sub')\n",
    "metrics"
   ]
  },
  {
   "cell_type": "code",
   "execution_count": 20,
   "metadata": {},
   "outputs": [
    {
     "data": {
      "application/vnd.plotly.v1+json": {
       "config": {
        "plotlyServerURL": "https://plot.ly"
       },
       "data": [
        {
         "error_x": {
          "array": [
           0.02361613479151095,
           0.0138059237113749,
           0.020492447312361814,
           0.014361164579029424
          ],
          "type": "data"
         },
         "marker": {
          "color": [
           "rgb(103, 219, 165)",
           "rgb(103, 219, 165)",
           "rgb(44, 152, 160)",
           "rgb(44, 152, 160)"
          ]
         },
         "orientation": "h",
         "type": "bar",
         "x": [
          0.22266417712722056,
          0.2972006460716394,
          0.2424144599186233,
          0.28784461570988074
         ],
         "y": [
          "parking<br>True",
          "parking<br>False",
          "hotel<br>True",
          "hotel<br>False"
         ]
        }
       ],
       "layout": {
        "font": {
         "family": "Courier New, monospace",
         "size": 22
        },
        "height": 550,
        "legend": {
         "orientation": "h",
         "y": -0.2
        },
        "shapes": [
         {
          "line": {
           "dash": "dot",
           "width": 1
          },
          "type": "line",
          "x0": 0,
          "x1": 1,
          "xref": "paper",
          "y0": 1.5,
          "y1": 1.5,
          "yref": "y"
         }
        ],
        "template": {
         "data": {
          "bar": [
           {
            "error_x": {
             "color": "#2a3f5f"
            },
            "error_y": {
             "color": "#2a3f5f"
            },
            "marker": {
             "line": {
              "color": "white",
              "width": 0.5
             }
            },
            "type": "bar"
           }
          ],
          "barpolar": [
           {
            "marker": {
             "line": {
              "color": "white",
              "width": 0.5
             }
            },
            "type": "barpolar"
           }
          ],
          "carpet": [
           {
            "aaxis": {
             "endlinecolor": "#2a3f5f",
             "gridcolor": "#C8D4E3",
             "linecolor": "#C8D4E3",
             "minorgridcolor": "#C8D4E3",
             "startlinecolor": "#2a3f5f"
            },
            "baxis": {
             "endlinecolor": "#2a3f5f",
             "gridcolor": "#C8D4E3",
             "linecolor": "#C8D4E3",
             "minorgridcolor": "#C8D4E3",
             "startlinecolor": "#2a3f5f"
            },
            "type": "carpet"
           }
          ],
          "choropleth": [
           {
            "colorbar": {
             "outlinewidth": 0,
             "ticks": ""
            },
            "type": "choropleth"
           }
          ],
          "contour": [
           {
            "colorbar": {
             "outlinewidth": 0,
             "ticks": ""
            },
            "colorscale": [
             [
              0,
              "#0d0887"
             ],
             [
              0.1111111111111111,
              "#46039f"
             ],
             [
              0.2222222222222222,
              "#7201a8"
             ],
             [
              0.3333333333333333,
              "#9c179e"
             ],
             [
              0.4444444444444444,
              "#bd3786"
             ],
             [
              0.5555555555555556,
              "#d8576b"
             ],
             [
              0.6666666666666666,
              "#ed7953"
             ],
             [
              0.7777777777777778,
              "#fb9f3a"
             ],
             [
              0.8888888888888888,
              "#fdca26"
             ],
             [
              1,
              "#f0f921"
             ]
            ],
            "type": "contour"
           }
          ],
          "contourcarpet": [
           {
            "colorbar": {
             "outlinewidth": 0,
             "ticks": ""
            },
            "type": "contourcarpet"
           }
          ],
          "heatmap": [
           {
            "colorbar": {
             "outlinewidth": 0,
             "ticks": ""
            },
            "colorscale": [
             [
              0,
              "#0d0887"
             ],
             [
              0.1111111111111111,
              "#46039f"
             ],
             [
              0.2222222222222222,
              "#7201a8"
             ],
             [
              0.3333333333333333,
              "#9c179e"
             ],
             [
              0.4444444444444444,
              "#bd3786"
             ],
             [
              0.5555555555555556,
              "#d8576b"
             ],
             [
              0.6666666666666666,
              "#ed7953"
             ],
             [
              0.7777777777777778,
              "#fb9f3a"
             ],
             [
              0.8888888888888888,
              "#fdca26"
             ],
             [
              1,
              "#f0f921"
             ]
            ],
            "type": "heatmap"
           }
          ],
          "heatmapgl": [
           {
            "colorbar": {
             "outlinewidth": 0,
             "ticks": ""
            },
            "colorscale": [
             [
              0,
              "#0d0887"
             ],
             [
              0.1111111111111111,
              "#46039f"
             ],
             [
              0.2222222222222222,
              "#7201a8"
             ],
             [
              0.3333333333333333,
              "#9c179e"
             ],
             [
              0.4444444444444444,
              "#bd3786"
             ],
             [
              0.5555555555555556,
              "#d8576b"
             ],
             [
              0.6666666666666666,
              "#ed7953"
             ],
             [
              0.7777777777777778,
              "#fb9f3a"
             ],
             [
              0.8888888888888888,
              "#fdca26"
             ],
             [
              1,
              "#f0f921"
             ]
            ],
            "type": "heatmapgl"
           }
          ],
          "histogram": [
           {
            "marker": {
             "colorbar": {
              "outlinewidth": 0,
              "ticks": ""
             }
            },
            "type": "histogram"
           }
          ],
          "histogram2d": [
           {
            "colorbar": {
             "outlinewidth": 0,
             "ticks": ""
            },
            "colorscale": [
             [
              0,
              "#0d0887"
             ],
             [
              0.1111111111111111,
              "#46039f"
             ],
             [
              0.2222222222222222,
              "#7201a8"
             ],
             [
              0.3333333333333333,
              "#9c179e"
             ],
             [
              0.4444444444444444,
              "#bd3786"
             ],
             [
              0.5555555555555556,
              "#d8576b"
             ],
             [
              0.6666666666666666,
              "#ed7953"
             ],
             [
              0.7777777777777778,
              "#fb9f3a"
             ],
             [
              0.8888888888888888,
              "#fdca26"
             ],
             [
              1,
              "#f0f921"
             ]
            ],
            "type": "histogram2d"
           }
          ],
          "histogram2dcontour": [
           {
            "colorbar": {
             "outlinewidth": 0,
             "ticks": ""
            },
            "colorscale": [
             [
              0,
              "#0d0887"
             ],
             [
              0.1111111111111111,
              "#46039f"
             ],
             [
              0.2222222222222222,
              "#7201a8"
             ],
             [
              0.3333333333333333,
              "#9c179e"
             ],
             [
              0.4444444444444444,
              "#bd3786"
             ],
             [
              0.5555555555555556,
              "#d8576b"
             ],
             [
              0.6666666666666666,
              "#ed7953"
             ],
             [
              0.7777777777777778,
              "#fb9f3a"
             ],
             [
              0.8888888888888888,
              "#fdca26"
             ],
             [
              1,
              "#f0f921"
             ]
            ],
            "type": "histogram2dcontour"
           }
          ],
          "mesh3d": [
           {
            "colorbar": {
             "outlinewidth": 0,
             "ticks": ""
            },
            "type": "mesh3d"
           }
          ],
          "parcoords": [
           {
            "line": {
             "colorbar": {
              "outlinewidth": 0,
              "ticks": ""
             }
            },
            "type": "parcoords"
           }
          ],
          "pie": [
           {
            "automargin": true,
            "type": "pie"
           }
          ],
          "scatter": [
           {
            "marker": {
             "colorbar": {
              "outlinewidth": 0,
              "ticks": ""
             }
            },
            "type": "scatter"
           }
          ],
          "scatter3d": [
           {
            "line": {
             "colorbar": {
              "outlinewidth": 0,
              "ticks": ""
             }
            },
            "marker": {
             "colorbar": {
              "outlinewidth": 0,
              "ticks": ""
             }
            },
            "type": "scatter3d"
           }
          ],
          "scattercarpet": [
           {
            "marker": {
             "colorbar": {
              "outlinewidth": 0,
              "ticks": ""
             }
            },
            "type": "scattercarpet"
           }
          ],
          "scattergeo": [
           {
            "marker": {
             "colorbar": {
              "outlinewidth": 0,
              "ticks": ""
             }
            },
            "type": "scattergeo"
           }
          ],
          "scattergl": [
           {
            "marker": {
             "colorbar": {
              "outlinewidth": 0,
              "ticks": ""
             }
            },
            "type": "scattergl"
           }
          ],
          "scattermapbox": [
           {
            "marker": {
             "colorbar": {
              "outlinewidth": 0,
              "ticks": ""
             }
            },
            "type": "scattermapbox"
           }
          ],
          "scatterpolar": [
           {
            "marker": {
             "colorbar": {
              "outlinewidth": 0,
              "ticks": ""
             }
            },
            "type": "scatterpolar"
           }
          ],
          "scatterpolargl": [
           {
            "marker": {
             "colorbar": {
              "outlinewidth": 0,
              "ticks": ""
             }
            },
            "type": "scatterpolargl"
           }
          ],
          "scatterternary": [
           {
            "marker": {
             "colorbar": {
              "outlinewidth": 0,
              "ticks": ""
             }
            },
            "type": "scatterternary"
           }
          ],
          "surface": [
           {
            "colorbar": {
             "outlinewidth": 0,
             "ticks": ""
            },
            "colorscale": [
             [
              0,
              "#0d0887"
             ],
             [
              0.1111111111111111,
              "#46039f"
             ],
             [
              0.2222222222222222,
              "#7201a8"
             ],
             [
              0.3333333333333333,
              "#9c179e"
             ],
             [
              0.4444444444444444,
              "#bd3786"
             ],
             [
              0.5555555555555556,
              "#d8576b"
             ],
             [
              0.6666666666666666,
              "#ed7953"
             ],
             [
              0.7777777777777778,
              "#fb9f3a"
             ],
             [
              0.8888888888888888,
              "#fdca26"
             ],
             [
              1,
              "#f0f921"
             ]
            ],
            "type": "surface"
           }
          ],
          "table": [
           {
            "cells": {
             "fill": {
              "color": "#EBF0F8"
             },
             "line": {
              "color": "white"
             }
            },
            "header": {
             "fill": {
              "color": "#C8D4E3"
             },
             "line": {
              "color": "white"
             }
            },
            "type": "table"
           }
          ]
         },
         "layout": {
          "annotationdefaults": {
           "arrowcolor": "#2a3f5f",
           "arrowhead": 0,
           "arrowwidth": 1
          },
          "coloraxis": {
           "colorbar": {
            "outlinewidth": 0,
            "ticks": ""
           }
          },
          "colorscale": {
           "diverging": [
            [
             0,
             "#8e0152"
            ],
            [
             0.1,
             "#c51b7d"
            ],
            [
             0.2,
             "#de77ae"
            ],
            [
             0.3,
             "#f1b6da"
            ],
            [
             0.4,
             "#fde0ef"
            ],
            [
             0.5,
             "#f7f7f7"
            ],
            [
             0.6,
             "#e6f5d0"
            ],
            [
             0.7,
             "#b8e186"
            ],
            [
             0.8,
             "#7fbc41"
            ],
            [
             0.9,
             "#4d9221"
            ],
            [
             1,
             "#276419"
            ]
           ],
           "sequential": [
            [
             0,
             "#0d0887"
            ],
            [
             0.1111111111111111,
             "#46039f"
            ],
            [
             0.2222222222222222,
             "#7201a8"
            ],
            [
             0.3333333333333333,
             "#9c179e"
            ],
            [
             0.4444444444444444,
             "#bd3786"
            ],
            [
             0.5555555555555556,
             "#d8576b"
            ],
            [
             0.6666666666666666,
             "#ed7953"
            ],
            [
             0.7777777777777778,
             "#fb9f3a"
            ],
            [
             0.8888888888888888,
             "#fdca26"
            ],
            [
             1,
             "#f0f921"
            ]
           ],
           "sequentialminus": [
            [
             0,
             "#0d0887"
            ],
            [
             0.1111111111111111,
             "#46039f"
            ],
            [
             0.2222222222222222,
             "#7201a8"
            ],
            [
             0.3333333333333333,
             "#9c179e"
            ],
            [
             0.4444444444444444,
             "#bd3786"
            ],
            [
             0.5555555555555556,
             "#d8576b"
            ],
            [
             0.6666666666666666,
             "#ed7953"
            ],
            [
             0.7777777777777778,
             "#fb9f3a"
            ],
            [
             0.8888888888888888,
             "#fdca26"
            ],
            [
             1,
             "#f0f921"
            ]
           ]
          },
          "colorway": [
           "#636efa",
           "#EF553B",
           "#00cc96",
           "#ab63fa",
           "#FFA15A",
           "#19d3f3",
           "#FF6692",
           "#B6E880",
           "#FF97FF",
           "#FECB52"
          ],
          "font": {
           "color": "#2a3f5f"
          },
          "geo": {
           "bgcolor": "white",
           "lakecolor": "white",
           "landcolor": "white",
           "showlakes": true,
           "showland": true,
           "subunitcolor": "#C8D4E3"
          },
          "hoverlabel": {
           "align": "left"
          },
          "hovermode": "closest",
          "mapbox": {
           "style": "light"
          },
          "paper_bgcolor": "white",
          "plot_bgcolor": "white",
          "polar": {
           "angularaxis": {
            "gridcolor": "#EBF0F8",
            "linecolor": "#EBF0F8",
            "ticks": ""
           },
           "bgcolor": "white",
           "radialaxis": {
            "gridcolor": "#EBF0F8",
            "linecolor": "#EBF0F8",
            "ticks": ""
           }
          },
          "scene": {
           "xaxis": {
            "backgroundcolor": "white",
            "gridcolor": "#DFE8F3",
            "gridwidth": 2,
            "linecolor": "#EBF0F8",
            "showbackground": true,
            "ticks": "",
            "zerolinecolor": "#EBF0F8"
           },
           "yaxis": {
            "backgroundcolor": "white",
            "gridcolor": "#DFE8F3",
            "gridwidth": 2,
            "linecolor": "#EBF0F8",
            "showbackground": true,
            "ticks": "",
            "zerolinecolor": "#EBF0F8"
           },
           "zaxis": {
            "backgroundcolor": "white",
            "gridcolor": "#DFE8F3",
            "gridwidth": 2,
            "linecolor": "#EBF0F8",
            "showbackground": true,
            "ticks": "",
            "zerolinecolor": "#EBF0F8"
           }
          },
          "shapedefaults": {
           "line": {
            "color": "#2a3f5f"
           }
          },
          "ternary": {
           "aaxis": {
            "gridcolor": "#DFE8F3",
            "linecolor": "#A2B1C6",
            "ticks": ""
           },
           "baxis": {
            "gridcolor": "#DFE8F3",
            "linecolor": "#A2B1C6",
            "ticks": ""
           },
           "bgcolor": "white",
           "caxis": {
            "gridcolor": "#DFE8F3",
            "linecolor": "#A2B1C6",
            "ticks": ""
           }
          },
          "title": {
           "x": 0.05
          },
          "xaxis": {
           "automargin": true,
           "gridcolor": "#EBF0F8",
           "linecolor": "#EBF0F8",
           "ticks": "",
           "title": {
            "standoff": 15
           },
           "zerolinecolor": "#EBF0F8",
           "zerolinewidth": 2
          },
          "yaxis": {
           "automargin": true,
           "gridcolor": "#EBF0F8",
           "linecolor": "#EBF0F8",
           "ticks": "",
           "title": {
            "standoff": 15
           },
           "zerolinecolor": "#EBF0F8",
           "zerolinewidth": 2
          }
         }
        },
        "title": {
         "text": ""
        },
        "xaxis": {
         "nticks": 4,
         "showgrid": false,
         "title": {
          "text": "true_positive_rate"
         }
        },
        "yaxis": {
         "categoryarray": [
          "parking<br>False",
          "parking<br>True",
          "hotel<br>False",
          "hotel<br>True"
         ],
         "categoryorder": "array",
         "showgrid": false,
         "title": {
          "text": "Accessible"
         }
        }
       }
      },
      "text/html": [
       "<div>\n",
       "        \n",
       "        \n",
       "            <div id=\"53ecedfb-d19f-4f3f-b69e-c8667562872d\" class=\"plotly-graph-div\" style=\"height:550px; width:100%;\"></div>\n",
       "            <script type=\"text/javascript\">\n",
       "                require([\"plotly\"], function(Plotly) {\n",
       "                    window.PLOTLYENV=window.PLOTLYENV || {};\n",
       "                    \n",
       "                if (document.getElementById(\"53ecedfb-d19f-4f3f-b69e-c8667562872d\")) {\n",
       "                    Plotly.newPlot(\n",
       "                        '53ecedfb-d19f-4f3f-b69e-c8667562872d',\n",
       "                        [{\"error_x\": {\"array\": [0.02361613479151095, 0.0138059237113749, 0.020492447312361814, 0.014361164579029424], \"type\": \"data\"}, \"marker\": {\"color\": [\"rgb(103, 219, 165)\", \"rgb(103, 219, 165)\", \"rgb(44, 152, 160)\", \"rgb(44, 152, 160)\"]}, \"orientation\": \"h\", \"type\": \"bar\", \"x\": [0.22266417712722056, 0.2972006460716394, 0.2424144599186233, 0.28784461570988074], \"y\": [\"parking<br>True\", \"parking<br>False\", \"hotel<br>True\", \"hotel<br>False\"]}],\n",
       "                        {\"font\": {\"family\": \"Courier New, monospace\", \"size\": 22}, \"height\": 550, \"legend\": {\"orientation\": \"h\", \"y\": -0.2}, \"shapes\": [{\"line\": {\"dash\": \"dot\", \"width\": 1}, \"type\": \"line\", \"x0\": 0, \"x1\": 1, \"xref\": \"paper\", \"y0\": 1.5, \"y1\": 1.5, \"yref\": \"y\"}], \"template\": {\"data\": {\"bar\": [{\"error_x\": {\"color\": \"#2a3f5f\"}, \"error_y\": {\"color\": \"#2a3f5f\"}, \"marker\": {\"line\": {\"color\": \"white\", \"width\": 0.5}}, \"type\": \"bar\"}], \"barpolar\": [{\"marker\": {\"line\": {\"color\": \"white\", \"width\": 0.5}}, \"type\": \"barpolar\"}], \"carpet\": [{\"aaxis\": {\"endlinecolor\": \"#2a3f5f\", \"gridcolor\": \"#C8D4E3\", \"linecolor\": \"#C8D4E3\", \"minorgridcolor\": \"#C8D4E3\", \"startlinecolor\": \"#2a3f5f\"}, \"baxis\": {\"endlinecolor\": \"#2a3f5f\", \"gridcolor\": \"#C8D4E3\", \"linecolor\": \"#C8D4E3\", \"minorgridcolor\": \"#C8D4E3\", \"startlinecolor\": \"#2a3f5f\"}, \"type\": \"carpet\"}], \"choropleth\": [{\"colorbar\": {\"outlinewidth\": 0, \"ticks\": \"\"}, \"type\": \"choropleth\"}], \"contour\": [{\"colorbar\": {\"outlinewidth\": 0, \"ticks\": \"\"}, \"colorscale\": [[0.0, \"#0d0887\"], [0.1111111111111111, \"#46039f\"], [0.2222222222222222, \"#7201a8\"], [0.3333333333333333, \"#9c179e\"], [0.4444444444444444, \"#bd3786\"], [0.5555555555555556, \"#d8576b\"], [0.6666666666666666, \"#ed7953\"], [0.7777777777777778, \"#fb9f3a\"], [0.8888888888888888, \"#fdca26\"], [1.0, \"#f0f921\"]], \"type\": \"contour\"}], \"contourcarpet\": [{\"colorbar\": {\"outlinewidth\": 0, \"ticks\": \"\"}, \"type\": \"contourcarpet\"}], \"heatmap\": [{\"colorbar\": {\"outlinewidth\": 0, \"ticks\": \"\"}, \"colorscale\": [[0.0, \"#0d0887\"], [0.1111111111111111, \"#46039f\"], [0.2222222222222222, \"#7201a8\"], [0.3333333333333333, \"#9c179e\"], [0.4444444444444444, \"#bd3786\"], [0.5555555555555556, \"#d8576b\"], [0.6666666666666666, \"#ed7953\"], [0.7777777777777778, \"#fb9f3a\"], [0.8888888888888888, \"#fdca26\"], [1.0, \"#f0f921\"]], \"type\": \"heatmap\"}], \"heatmapgl\": [{\"colorbar\": {\"outlinewidth\": 0, \"ticks\": \"\"}, \"colorscale\": [[0.0, \"#0d0887\"], [0.1111111111111111, \"#46039f\"], [0.2222222222222222, \"#7201a8\"], [0.3333333333333333, \"#9c179e\"], [0.4444444444444444, \"#bd3786\"], [0.5555555555555556, \"#d8576b\"], [0.6666666666666666, \"#ed7953\"], [0.7777777777777778, \"#fb9f3a\"], [0.8888888888888888, \"#fdca26\"], [1.0, \"#f0f921\"]], \"type\": \"heatmapgl\"}], \"histogram\": [{\"marker\": {\"colorbar\": {\"outlinewidth\": 0, \"ticks\": \"\"}}, \"type\": \"histogram\"}], \"histogram2d\": [{\"colorbar\": {\"outlinewidth\": 0, \"ticks\": \"\"}, \"colorscale\": [[0.0, \"#0d0887\"], [0.1111111111111111, \"#46039f\"], [0.2222222222222222, \"#7201a8\"], [0.3333333333333333, \"#9c179e\"], [0.4444444444444444, \"#bd3786\"], [0.5555555555555556, \"#d8576b\"], [0.6666666666666666, \"#ed7953\"], [0.7777777777777778, \"#fb9f3a\"], [0.8888888888888888, \"#fdca26\"], [1.0, \"#f0f921\"]], \"type\": \"histogram2d\"}], \"histogram2dcontour\": [{\"colorbar\": {\"outlinewidth\": 0, \"ticks\": \"\"}, \"colorscale\": [[0.0, \"#0d0887\"], [0.1111111111111111, \"#46039f\"], [0.2222222222222222, \"#7201a8\"], [0.3333333333333333, \"#9c179e\"], [0.4444444444444444, \"#bd3786\"], [0.5555555555555556, \"#d8576b\"], [0.6666666666666666, \"#ed7953\"], [0.7777777777777778, \"#fb9f3a\"], [0.8888888888888888, \"#fdca26\"], [1.0, \"#f0f921\"]], \"type\": \"histogram2dcontour\"}], \"mesh3d\": [{\"colorbar\": {\"outlinewidth\": 0, \"ticks\": \"\"}, \"type\": \"mesh3d\"}], \"parcoords\": [{\"line\": {\"colorbar\": {\"outlinewidth\": 0, \"ticks\": \"\"}}, \"type\": \"parcoords\"}], \"pie\": [{\"automargin\": true, \"type\": \"pie\"}], \"scatter\": [{\"marker\": {\"colorbar\": {\"outlinewidth\": 0, \"ticks\": \"\"}}, \"type\": \"scatter\"}], \"scatter3d\": [{\"line\": {\"colorbar\": {\"outlinewidth\": 0, \"ticks\": \"\"}}, \"marker\": {\"colorbar\": {\"outlinewidth\": 0, \"ticks\": \"\"}}, \"type\": \"scatter3d\"}], \"scattercarpet\": [{\"marker\": {\"colorbar\": {\"outlinewidth\": 0, \"ticks\": \"\"}}, \"type\": \"scattercarpet\"}], \"scattergeo\": [{\"marker\": {\"colorbar\": {\"outlinewidth\": 0, \"ticks\": \"\"}}, \"type\": \"scattergeo\"}], \"scattergl\": [{\"marker\": {\"colorbar\": {\"outlinewidth\": 0, \"ticks\": \"\"}}, \"type\": \"scattergl\"}], \"scattermapbox\": [{\"marker\": {\"colorbar\": {\"outlinewidth\": 0, \"ticks\": \"\"}}, \"type\": \"scattermapbox\"}], \"scatterpolar\": [{\"marker\": {\"colorbar\": {\"outlinewidth\": 0, \"ticks\": \"\"}}, \"type\": \"scatterpolar\"}], \"scatterpolargl\": [{\"marker\": {\"colorbar\": {\"outlinewidth\": 0, \"ticks\": \"\"}}, \"type\": \"scatterpolargl\"}], \"scatterternary\": [{\"marker\": {\"colorbar\": {\"outlinewidth\": 0, \"ticks\": \"\"}}, \"type\": \"scatterternary\"}], \"surface\": [{\"colorbar\": {\"outlinewidth\": 0, \"ticks\": \"\"}, \"colorscale\": [[0.0, \"#0d0887\"], [0.1111111111111111, \"#46039f\"], [0.2222222222222222, \"#7201a8\"], [0.3333333333333333, \"#9c179e\"], [0.4444444444444444, \"#bd3786\"], [0.5555555555555556, \"#d8576b\"], [0.6666666666666666, \"#ed7953\"], [0.7777777777777778, \"#fb9f3a\"], [0.8888888888888888, \"#fdca26\"], [1.0, \"#f0f921\"]], \"type\": \"surface\"}], \"table\": [{\"cells\": {\"fill\": {\"color\": \"#EBF0F8\"}, \"line\": {\"color\": \"white\"}}, \"header\": {\"fill\": {\"color\": \"#C8D4E3\"}, \"line\": {\"color\": \"white\"}}, \"type\": \"table\"}]}, \"layout\": {\"annotationdefaults\": {\"arrowcolor\": \"#2a3f5f\", \"arrowhead\": 0, \"arrowwidth\": 1}, \"coloraxis\": {\"colorbar\": {\"outlinewidth\": 0, \"ticks\": \"\"}}, \"colorscale\": {\"diverging\": [[0, \"#8e0152\"], [0.1, \"#c51b7d\"], [0.2, \"#de77ae\"], [0.3, \"#f1b6da\"], [0.4, \"#fde0ef\"], [0.5, \"#f7f7f7\"], [0.6, \"#e6f5d0\"], [0.7, \"#b8e186\"], [0.8, \"#7fbc41\"], [0.9, \"#4d9221\"], [1, \"#276419\"]], \"sequential\": [[0.0, \"#0d0887\"], [0.1111111111111111, \"#46039f\"], [0.2222222222222222, \"#7201a8\"], [0.3333333333333333, \"#9c179e\"], [0.4444444444444444, \"#bd3786\"], [0.5555555555555556, \"#d8576b\"], [0.6666666666666666, \"#ed7953\"], [0.7777777777777778, \"#fb9f3a\"], [0.8888888888888888, \"#fdca26\"], [1.0, \"#f0f921\"]], \"sequentialminus\": [[0.0, \"#0d0887\"], [0.1111111111111111, \"#46039f\"], [0.2222222222222222, \"#7201a8\"], [0.3333333333333333, \"#9c179e\"], [0.4444444444444444, \"#bd3786\"], [0.5555555555555556, \"#d8576b\"], [0.6666666666666666, \"#ed7953\"], [0.7777777777777778, \"#fb9f3a\"], [0.8888888888888888, \"#fdca26\"], [1.0, \"#f0f921\"]]}, \"colorway\": [\"#636efa\", \"#EF553B\", \"#00cc96\", \"#ab63fa\", \"#FFA15A\", \"#19d3f3\", \"#FF6692\", \"#B6E880\", \"#FF97FF\", \"#FECB52\"], \"font\": {\"color\": \"#2a3f5f\"}, \"geo\": {\"bgcolor\": \"white\", \"lakecolor\": \"white\", \"landcolor\": \"white\", \"showlakes\": true, \"showland\": true, \"subunitcolor\": \"#C8D4E3\"}, \"hoverlabel\": {\"align\": \"left\"}, \"hovermode\": \"closest\", \"mapbox\": {\"style\": \"light\"}, \"paper_bgcolor\": \"white\", \"plot_bgcolor\": \"white\", \"polar\": {\"angularaxis\": {\"gridcolor\": \"#EBF0F8\", \"linecolor\": \"#EBF0F8\", \"ticks\": \"\"}, \"bgcolor\": \"white\", \"radialaxis\": {\"gridcolor\": \"#EBF0F8\", \"linecolor\": \"#EBF0F8\", \"ticks\": \"\"}}, \"scene\": {\"xaxis\": {\"backgroundcolor\": \"white\", \"gridcolor\": \"#DFE8F3\", \"gridwidth\": 2, \"linecolor\": \"#EBF0F8\", \"showbackground\": true, \"ticks\": \"\", \"zerolinecolor\": \"#EBF0F8\"}, \"yaxis\": {\"backgroundcolor\": \"white\", \"gridcolor\": \"#DFE8F3\", \"gridwidth\": 2, \"linecolor\": \"#EBF0F8\", \"showbackground\": true, \"ticks\": \"\", \"zerolinecolor\": \"#EBF0F8\"}, \"zaxis\": {\"backgroundcolor\": \"white\", \"gridcolor\": \"#DFE8F3\", \"gridwidth\": 2, \"linecolor\": \"#EBF0F8\", \"showbackground\": true, \"ticks\": \"\", \"zerolinecolor\": \"#EBF0F8\"}}, \"shapedefaults\": {\"line\": {\"color\": \"#2a3f5f\"}}, \"ternary\": {\"aaxis\": {\"gridcolor\": \"#DFE8F3\", \"linecolor\": \"#A2B1C6\", \"ticks\": \"\"}, \"baxis\": {\"gridcolor\": \"#DFE8F3\", \"linecolor\": \"#A2B1C6\", \"ticks\": \"\"}, \"bgcolor\": \"white\", \"caxis\": {\"gridcolor\": \"#DFE8F3\", \"linecolor\": \"#A2B1C6\", \"ticks\": \"\"}}, \"title\": {\"x\": 0.05}, \"xaxis\": {\"automargin\": true, \"gridcolor\": \"#EBF0F8\", \"linecolor\": \"#EBF0F8\", \"ticks\": \"\", \"title\": {\"standoff\": 15}, \"zerolinecolor\": \"#EBF0F8\", \"zerolinewidth\": 2}, \"yaxis\": {\"automargin\": true, \"gridcolor\": \"#EBF0F8\", \"linecolor\": \"#EBF0F8\", \"ticks\": \"\", \"title\": {\"standoff\": 15}, \"zerolinecolor\": \"#EBF0F8\", \"zerolinewidth\": 2}}}, \"title\": {\"text\": \"\"}, \"xaxis\": {\"nticks\": 4, \"showgrid\": false, \"title\": {\"text\": \"true_positive_rate\"}}, \"yaxis\": {\"categoryarray\": [\"parking<br>False\", \"parking<br>True\", \"hotel<br>False\", \"hotel<br>True\"], \"categoryorder\": \"array\", \"showgrid\": false, \"title\": {\"text\": \"Accessible\"}}},\n",
       "                        {\"responsive\": true}\n",
       "                    ).then(function(){\n",
       "                            \n",
       "var gd = document.getElementById('53ecedfb-d19f-4f3f-b69e-c8667562872d');\n",
       "var x = new MutationObserver(function (mutations, observer) {{\n",
       "        var display = window.getComputedStyle(gd).display;\n",
       "        if (!display || display === 'none') {{\n",
       "            console.log([gd, 'removed!']);\n",
       "            Plotly.purge(gd);\n",
       "            observer.disconnect();\n",
       "        }}\n",
       "}});\n",
       "\n",
       "// Listen for the removal of the full notebook cells\n",
       "var notebookContainer = gd.closest('#notebook-container');\n",
       "if (notebookContainer) {{\n",
       "    x.observe(notebookContainer, {childList: true});\n",
       "}}\n",
       "\n",
       "// Listen for the clearing of the current output cell\n",
       "var outputEl = gd.closest('.output');\n",
       "if (outputEl) {{\n",
       "    x.observe(outputEl, {childList: true});\n",
       "}}\n",
       "\n",
       "                        })\n",
       "                };\n",
       "                });\n",
       "            </script>\n",
       "        </div>"
      ]
     },
     "metadata": {},
     "output_type": "display_data"
    }
   ],
   "source": [
    "fig = plot_fairness_mistreatment(metrics, input_metrics, title=\"\")\n",
    "\n",
    "fig.update_layout(shapes=[\n",
    "  dict(\n",
    "    type= 'line',\n",
    "    line=dict(\n",
    "        width=1,\n",
    "        dash=\"dot\",\n",
    "    ),        \n",
    "    xref='paper', x0= 0, x1= 1,\n",
    "    yref='y',     y0= 1.5, y1= 1.5\n",
    "  )\n",
    "])\n",
    "\n",
    "# Set custom x-axis labels\n",
    "fig.update_xaxes(nticks=4)\n",
    "\n",
    "fig.update_layout(yaxis={'categoryorder':'array', 'categoryarray':['parking<br>False', 'parking<br>True', 'hotel<br>False', 'hotel<br>True']})\n",
    "fig.update_layout(xaxis_showgrid=False, yaxis_showgrid=False, yaxis_title=\"Accessible\")\n",
    "fig.update_layout(font={'family': 'Courier New, monospace', 'size': 22}, height=550)\n",
    "\n",
    "fig.show()\n",
    "#fig.write_image(\"output/tmp/metrics/paper/recsys_fairnes_{}.eps\".format(\"accessible\"))    \n",
    "#fig.show(renderer=\"svg\")"
   ]
  },
  {
   "cell_type": "code",
   "execution_count": null,
   "metadata": {},
   "outputs": [],
   "source": []
  },
  {
   "cell_type": "markdown",
   "metadata": {},
   "source": [
    "#### Feature - Accommodation Type"
   ]
  },
  {
   "cell_type": "code",
   "execution_count": 22,
   "metadata": {},
   "outputs": [],
   "source": [
    "input_models_eval = 'InteractionTraining____mars_gym_model_b___logit_multipli_9dd8714dfd_96b9d686ee'\n",
    "list_input_features    = ['hotel', 'house / apartment']\n",
    "input_metrics     = 'true_positive_rate'"
   ]
  },
  {
   "cell_type": "code",
   "execution_count": 23,
   "metadata": {},
   "outputs": [
    {
     "data": {
      "text/html": [
       "<div>\n",
       "<style scoped>\n",
       "    .dataframe tbody tr th:only-of-type {\n",
       "        vertical-align: middle;\n",
       "    }\n",
       "\n",
       "    .dataframe tbody tr th {\n",
       "        vertical-align: top;\n",
       "    }\n",
       "\n",
       "    .dataframe thead th {\n",
       "        text-align: right;\n",
       "    }\n",
       "</style>\n",
       "<table border=\"1\" class=\"dataframe\">\n",
       "  <thead>\n",
       "    <tr style=\"text-align: right;\">\n",
       "      <th></th>\n",
       "      <th>sub</th>\n",
       "      <th>feature</th>\n",
       "      <th>sub_key</th>\n",
       "      <th>total_class</th>\n",
       "      <th>total_individuals</th>\n",
       "      <th>true_positive_rate</th>\n",
       "      <th>true_positive_rate_C</th>\n",
       "    </tr>\n",
       "  </thead>\n",
       "  <tbody>\n",
       "    <tr>\n",
       "      <th>0</th>\n",
       "      <td>0</td>\n",
       "      <td>hotel.0</td>\n",
       "      <td>hotel</td>\n",
       "      <td>1649</td>\n",
       "      <td>2111</td>\n",
       "      <td>0.205584</td>\n",
       "      <td>0.020963</td>\n",
       "    </tr>\n",
       "    <tr>\n",
       "      <th>1</th>\n",
       "      <td>1</td>\n",
       "      <td>hotel.1</td>\n",
       "      <td>hotel</td>\n",
       "      <td>2579</td>\n",
       "      <td>10307</td>\n",
       "      <td>0.302903</td>\n",
       "      <td>0.013879</td>\n",
       "    </tr>\n",
       "    <tr>\n",
       "      <th>3</th>\n",
       "      <td>0</td>\n",
       "      <td>house / apartment.0</td>\n",
       "      <td>house / apartment</td>\n",
       "      <td>3044</td>\n",
       "      <td>11727</td>\n",
       "      <td>0.307458</td>\n",
       "      <td>0.013011</td>\n",
       "    </tr>\n",
       "    <tr>\n",
       "      <th>2</th>\n",
       "      <td>1</td>\n",
       "      <td>house / apartment.1</td>\n",
       "      <td>house / apartment</td>\n",
       "      <td>743</td>\n",
       "      <td>691</td>\n",
       "      <td>0.162758</td>\n",
       "      <td>0.030811</td>\n",
       "    </tr>\n",
       "  </tbody>\n",
       "</table>\n",
       "</div>"
      ],
      "text/plain": [
       "  sub              feature            sub_key  total_class  total_individuals  \\\n",
       "0  0   hotel.0              hotel              1649         2111                \n",
       "1  1   hotel.1              hotel              2579         10307               \n",
       "3  0   house / apartment.0  house / apartment  3044         11727               \n",
       "2  1   house / apartment.1  house / apartment  743          691                 \n",
       "\n",
       "   true_positive_rate  true_positive_rate_C  \n",
       "0  0.205584            0.020963              \n",
       "1  0.302903            0.013879              \n",
       "3  0.307458            0.013011              \n",
       "2  0.162758            0.030811              "
      ]
     },
     "execution_count": 23,
     "metadata": {},
     "output_type": "execute_result"
    }
   ],
   "source": [
    "metrics = []\n",
    "for input_features in list_input_features:\n",
    "    df_all_metrics    = load_fairness_metrics().loc[input_models_eval]\n",
    "    df_instances      = load_fairness_df().loc[input_models_eval]\n",
    "    df_all_metric_filter = df_all_metrics[df_all_metrics.sub_key.isin([input_features])]\n",
    "\n",
    "    columns         = list(np.unique(['sub_key', 'sub', 'feature', 'total_class', 'total_individuals'] + [input_metrics]))\n",
    "    if input_metrics+\"_C\" in df_all_metrics.columns:\n",
    "        columns.append(input_metrics+\"_C\")\n",
    "\n",
    "    df_metrics      = filter_df(df_all_metrics, input_models_eval, columns, 'sub')\n",
    "\n",
    "    df_metrics      = df_metrics[df_metrics.sub_key.isin([input_features])]\n",
    "    if sub_map != None:\n",
    "        df_metrics['sub'] = df_metrics['sub'].map(sub_map)\n",
    "\n",
    "    df_metrics      = df_metrics.sort_values(\"feature\").set_index(\"sub\")\n",
    "    df_metrics      = df_metrics.sort_values(input_metrics)\n",
    "    metrics.append(df_metrics)\n",
    "\n",
    "metrics = pd.concat(metrics).reset_index().sort_values(['sub_key', 'sub'])\n",
    "metrics"
   ]
  },
  {
   "cell_type": "code",
   "execution_count": 24,
   "metadata": {},
   "outputs": [
    {
     "data": {
      "text/html": [
       "<div>\n",
       "<style scoped>\n",
       "    .dataframe tbody tr th:only-of-type {\n",
       "        vertical-align: middle;\n",
       "    }\n",
       "\n",
       "    .dataframe tbody tr th {\n",
       "        vertical-align: top;\n",
       "    }\n",
       "\n",
       "    .dataframe thead th {\n",
       "        text-align: right;\n",
       "    }\n",
       "</style>\n",
       "<table border=\"1\" class=\"dataframe\">\n",
       "  <thead>\n",
       "    <tr style=\"text-align: right;\">\n",
       "      <th></th>\n",
       "      <th>feature</th>\n",
       "      <th>sub_key</th>\n",
       "      <th>total_class</th>\n",
       "      <th>total_individuals</th>\n",
       "      <th>true_positive_rate</th>\n",
       "      <th>true_positive_rate_C</th>\n",
       "      <th>color</th>\n",
       "    </tr>\n",
       "    <tr>\n",
       "      <th>sub</th>\n",
       "      <th></th>\n",
       "      <th></th>\n",
       "      <th></th>\n",
       "      <th></th>\n",
       "      <th></th>\n",
       "      <th></th>\n",
       "      <th></th>\n",
       "    </tr>\n",
       "  </thead>\n",
       "  <tbody>\n",
       "    <tr>\n",
       "      <th>hotel&lt;br&gt;False</th>\n",
       "      <td>hotel.0</td>\n",
       "      <td>hotel</td>\n",
       "      <td>1649</td>\n",
       "      <td>2111</td>\n",
       "      <td>0.205584</td>\n",
       "      <td>0.020963</td>\n",
       "      <td>5</td>\n",
       "    </tr>\n",
       "    <tr>\n",
       "      <th>hotel&lt;br&gt;True</th>\n",
       "      <td>hotel.1</td>\n",
       "      <td>hotel</td>\n",
       "      <td>2579</td>\n",
       "      <td>10307</td>\n",
       "      <td>0.302903</td>\n",
       "      <td>0.013879</td>\n",
       "      <td>5</td>\n",
       "    </tr>\n",
       "    <tr>\n",
       "      <th>house/apart&lt;br&gt;False</th>\n",
       "      <td>house / apartment.0</td>\n",
       "      <td>house / apartment</td>\n",
       "      <td>3044</td>\n",
       "      <td>11727</td>\n",
       "      <td>0.307458</td>\n",
       "      <td>0.013011</td>\n",
       "      <td>2</td>\n",
       "    </tr>\n",
       "    <tr>\n",
       "      <th>house/apart&lt;br&gt;True</th>\n",
       "      <td>house / apartment.1</td>\n",
       "      <td>house / apartment</td>\n",
       "      <td>743</td>\n",
       "      <td>691</td>\n",
       "      <td>0.162758</td>\n",
       "      <td>0.030811</td>\n",
       "      <td>2</td>\n",
       "    </tr>\n",
       "  </tbody>\n",
       "</table>\n",
       "</div>"
      ],
      "text/plain": [
       "                                  feature            sub_key  total_class  \\\n",
       "sub                                                                         \n",
       "hotel<br>False        hotel.0              hotel              1649          \n",
       "hotel<br>True         hotel.1              hotel              2579          \n",
       "house/apart<br>False  house / apartment.0  house / apartment  3044          \n",
       "house/apart<br>True   house / apartment.1  house / apartment  743           \n",
       "\n",
       "                      total_individuals  true_positive_rate  \\\n",
       "sub                                                           \n",
       "hotel<br>False        2111               0.205584             \n",
       "hotel<br>True         10307              0.302903             \n",
       "house/apart<br>False  11727              0.307458             \n",
       "house/apart<br>True   691                0.162758             \n",
       "\n",
       "                      true_positive_rate_C  color  \n",
       "sub                                                \n",
       "hotel<br>False        0.020963              5      \n",
       "hotel<br>True         0.013879              5      \n",
       "house/apart<br>False  0.013011              2      \n",
       "house/apart<br>True   0.030811              2      "
      ]
     },
     "execution_count": 24,
     "metadata": {},
     "output_type": "execute_result"
    }
   ],
   "source": [
    "#metrics.reset_index().sort_values('sub_key')\n",
    "metrics['color'] = [5,5, 2,2]\n",
    "metrics['sub']   = ['hotel<br>False', 'hotel<br>True', 'house/apart<br>False', 'house/apart<br>True']\n",
    "metrics = metrics.set_index('sub')\n",
    "metrics"
   ]
  },
  {
   "cell_type": "code",
   "execution_count": 25,
   "metadata": {},
   "outputs": [
    {
     "data": {
      "application/vnd.plotly.v1+json": {
       "config": {
        "plotlyServerURL": "https://plot.ly"
       },
       "data": [
        {
         "error_x": {
          "array": [
           0.020962783439803054,
           0.013878558663566494,
           0.013010644821110588,
           0.030811013633295792
          ],
          "type": "data"
         },
         "marker": {
          "color": [
           "rgb(44, 152, 160)",
           "rgb(44, 152, 160)",
           "rgb(103, 219, 165)",
           "rgb(103, 219, 165)"
          ]
         },
         "orientation": "h",
         "type": "bar",
         "x": [
          0.20558372218744236,
          0.3029033688947088,
          0.30745821671009826,
          0.16275784666589266
         ],
         "y": [
          "hotel<br>False",
          "hotel<br>True",
          "house/apart<br>False",
          "house/apart<br>True"
         ]
        }
       ],
       "layout": {
        "font": {
         "family": "Courier New, monospace",
         "size": 22
        },
        "height": 550,
        "legend": {
         "orientation": "h",
         "y": -0.2
        },
        "shapes": [
         {
          "line": {
           "dash": "dot",
           "width": 1
          },
          "type": "line",
          "x0": 0,
          "x1": 1,
          "xref": "paper",
          "y0": 1.5,
          "y1": 1.5,
          "yref": "y"
         }
        ],
        "template": {
         "data": {
          "bar": [
           {
            "error_x": {
             "color": "#2a3f5f"
            },
            "error_y": {
             "color": "#2a3f5f"
            },
            "marker": {
             "line": {
              "color": "white",
              "width": 0.5
             }
            },
            "type": "bar"
           }
          ],
          "barpolar": [
           {
            "marker": {
             "line": {
              "color": "white",
              "width": 0.5
             }
            },
            "type": "barpolar"
           }
          ],
          "carpet": [
           {
            "aaxis": {
             "endlinecolor": "#2a3f5f",
             "gridcolor": "#C8D4E3",
             "linecolor": "#C8D4E3",
             "minorgridcolor": "#C8D4E3",
             "startlinecolor": "#2a3f5f"
            },
            "baxis": {
             "endlinecolor": "#2a3f5f",
             "gridcolor": "#C8D4E3",
             "linecolor": "#C8D4E3",
             "minorgridcolor": "#C8D4E3",
             "startlinecolor": "#2a3f5f"
            },
            "type": "carpet"
           }
          ],
          "choropleth": [
           {
            "colorbar": {
             "outlinewidth": 0,
             "ticks": ""
            },
            "type": "choropleth"
           }
          ],
          "contour": [
           {
            "colorbar": {
             "outlinewidth": 0,
             "ticks": ""
            },
            "colorscale": [
             [
              0,
              "#0d0887"
             ],
             [
              0.1111111111111111,
              "#46039f"
             ],
             [
              0.2222222222222222,
              "#7201a8"
             ],
             [
              0.3333333333333333,
              "#9c179e"
             ],
             [
              0.4444444444444444,
              "#bd3786"
             ],
             [
              0.5555555555555556,
              "#d8576b"
             ],
             [
              0.6666666666666666,
              "#ed7953"
             ],
             [
              0.7777777777777778,
              "#fb9f3a"
             ],
             [
              0.8888888888888888,
              "#fdca26"
             ],
             [
              1,
              "#f0f921"
             ]
            ],
            "type": "contour"
           }
          ],
          "contourcarpet": [
           {
            "colorbar": {
             "outlinewidth": 0,
             "ticks": ""
            },
            "type": "contourcarpet"
           }
          ],
          "heatmap": [
           {
            "colorbar": {
             "outlinewidth": 0,
             "ticks": ""
            },
            "colorscale": [
             [
              0,
              "#0d0887"
             ],
             [
              0.1111111111111111,
              "#46039f"
             ],
             [
              0.2222222222222222,
              "#7201a8"
             ],
             [
              0.3333333333333333,
              "#9c179e"
             ],
             [
              0.4444444444444444,
              "#bd3786"
             ],
             [
              0.5555555555555556,
              "#d8576b"
             ],
             [
              0.6666666666666666,
              "#ed7953"
             ],
             [
              0.7777777777777778,
              "#fb9f3a"
             ],
             [
              0.8888888888888888,
              "#fdca26"
             ],
             [
              1,
              "#f0f921"
             ]
            ],
            "type": "heatmap"
           }
          ],
          "heatmapgl": [
           {
            "colorbar": {
             "outlinewidth": 0,
             "ticks": ""
            },
            "colorscale": [
             [
              0,
              "#0d0887"
             ],
             [
              0.1111111111111111,
              "#46039f"
             ],
             [
              0.2222222222222222,
              "#7201a8"
             ],
             [
              0.3333333333333333,
              "#9c179e"
             ],
             [
              0.4444444444444444,
              "#bd3786"
             ],
             [
              0.5555555555555556,
              "#d8576b"
             ],
             [
              0.6666666666666666,
              "#ed7953"
             ],
             [
              0.7777777777777778,
              "#fb9f3a"
             ],
             [
              0.8888888888888888,
              "#fdca26"
             ],
             [
              1,
              "#f0f921"
             ]
            ],
            "type": "heatmapgl"
           }
          ],
          "histogram": [
           {
            "marker": {
             "colorbar": {
              "outlinewidth": 0,
              "ticks": ""
             }
            },
            "type": "histogram"
           }
          ],
          "histogram2d": [
           {
            "colorbar": {
             "outlinewidth": 0,
             "ticks": ""
            },
            "colorscale": [
             [
              0,
              "#0d0887"
             ],
             [
              0.1111111111111111,
              "#46039f"
             ],
             [
              0.2222222222222222,
              "#7201a8"
             ],
             [
              0.3333333333333333,
              "#9c179e"
             ],
             [
              0.4444444444444444,
              "#bd3786"
             ],
             [
              0.5555555555555556,
              "#d8576b"
             ],
             [
              0.6666666666666666,
              "#ed7953"
             ],
             [
              0.7777777777777778,
              "#fb9f3a"
             ],
             [
              0.8888888888888888,
              "#fdca26"
             ],
             [
              1,
              "#f0f921"
             ]
            ],
            "type": "histogram2d"
           }
          ],
          "histogram2dcontour": [
           {
            "colorbar": {
             "outlinewidth": 0,
             "ticks": ""
            },
            "colorscale": [
             [
              0,
              "#0d0887"
             ],
             [
              0.1111111111111111,
              "#46039f"
             ],
             [
              0.2222222222222222,
              "#7201a8"
             ],
             [
              0.3333333333333333,
              "#9c179e"
             ],
             [
              0.4444444444444444,
              "#bd3786"
             ],
             [
              0.5555555555555556,
              "#d8576b"
             ],
             [
              0.6666666666666666,
              "#ed7953"
             ],
             [
              0.7777777777777778,
              "#fb9f3a"
             ],
             [
              0.8888888888888888,
              "#fdca26"
             ],
             [
              1,
              "#f0f921"
             ]
            ],
            "type": "histogram2dcontour"
           }
          ],
          "mesh3d": [
           {
            "colorbar": {
             "outlinewidth": 0,
             "ticks": ""
            },
            "type": "mesh3d"
           }
          ],
          "parcoords": [
           {
            "line": {
             "colorbar": {
              "outlinewidth": 0,
              "ticks": ""
             }
            },
            "type": "parcoords"
           }
          ],
          "pie": [
           {
            "automargin": true,
            "type": "pie"
           }
          ],
          "scatter": [
           {
            "marker": {
             "colorbar": {
              "outlinewidth": 0,
              "ticks": ""
             }
            },
            "type": "scatter"
           }
          ],
          "scatter3d": [
           {
            "line": {
             "colorbar": {
              "outlinewidth": 0,
              "ticks": ""
             }
            },
            "marker": {
             "colorbar": {
              "outlinewidth": 0,
              "ticks": ""
             }
            },
            "type": "scatter3d"
           }
          ],
          "scattercarpet": [
           {
            "marker": {
             "colorbar": {
              "outlinewidth": 0,
              "ticks": ""
             }
            },
            "type": "scattercarpet"
           }
          ],
          "scattergeo": [
           {
            "marker": {
             "colorbar": {
              "outlinewidth": 0,
              "ticks": ""
             }
            },
            "type": "scattergeo"
           }
          ],
          "scattergl": [
           {
            "marker": {
             "colorbar": {
              "outlinewidth": 0,
              "ticks": ""
             }
            },
            "type": "scattergl"
           }
          ],
          "scattermapbox": [
           {
            "marker": {
             "colorbar": {
              "outlinewidth": 0,
              "ticks": ""
             }
            },
            "type": "scattermapbox"
           }
          ],
          "scatterpolar": [
           {
            "marker": {
             "colorbar": {
              "outlinewidth": 0,
              "ticks": ""
             }
            },
            "type": "scatterpolar"
           }
          ],
          "scatterpolargl": [
           {
            "marker": {
             "colorbar": {
              "outlinewidth": 0,
              "ticks": ""
             }
            },
            "type": "scatterpolargl"
           }
          ],
          "scatterternary": [
           {
            "marker": {
             "colorbar": {
              "outlinewidth": 0,
              "ticks": ""
             }
            },
            "type": "scatterternary"
           }
          ],
          "surface": [
           {
            "colorbar": {
             "outlinewidth": 0,
             "ticks": ""
            },
            "colorscale": [
             [
              0,
              "#0d0887"
             ],
             [
              0.1111111111111111,
              "#46039f"
             ],
             [
              0.2222222222222222,
              "#7201a8"
             ],
             [
              0.3333333333333333,
              "#9c179e"
             ],
             [
              0.4444444444444444,
              "#bd3786"
             ],
             [
              0.5555555555555556,
              "#d8576b"
             ],
             [
              0.6666666666666666,
              "#ed7953"
             ],
             [
              0.7777777777777778,
              "#fb9f3a"
             ],
             [
              0.8888888888888888,
              "#fdca26"
             ],
             [
              1,
              "#f0f921"
             ]
            ],
            "type": "surface"
           }
          ],
          "table": [
           {
            "cells": {
             "fill": {
              "color": "#EBF0F8"
             },
             "line": {
              "color": "white"
             }
            },
            "header": {
             "fill": {
              "color": "#C8D4E3"
             },
             "line": {
              "color": "white"
             }
            },
            "type": "table"
           }
          ]
         },
         "layout": {
          "annotationdefaults": {
           "arrowcolor": "#2a3f5f",
           "arrowhead": 0,
           "arrowwidth": 1
          },
          "coloraxis": {
           "colorbar": {
            "outlinewidth": 0,
            "ticks": ""
           }
          },
          "colorscale": {
           "diverging": [
            [
             0,
             "#8e0152"
            ],
            [
             0.1,
             "#c51b7d"
            ],
            [
             0.2,
             "#de77ae"
            ],
            [
             0.3,
             "#f1b6da"
            ],
            [
             0.4,
             "#fde0ef"
            ],
            [
             0.5,
             "#f7f7f7"
            ],
            [
             0.6,
             "#e6f5d0"
            ],
            [
             0.7,
             "#b8e186"
            ],
            [
             0.8,
             "#7fbc41"
            ],
            [
             0.9,
             "#4d9221"
            ],
            [
             1,
             "#276419"
            ]
           ],
           "sequential": [
            [
             0,
             "#0d0887"
            ],
            [
             0.1111111111111111,
             "#46039f"
            ],
            [
             0.2222222222222222,
             "#7201a8"
            ],
            [
             0.3333333333333333,
             "#9c179e"
            ],
            [
             0.4444444444444444,
             "#bd3786"
            ],
            [
             0.5555555555555556,
             "#d8576b"
            ],
            [
             0.6666666666666666,
             "#ed7953"
            ],
            [
             0.7777777777777778,
             "#fb9f3a"
            ],
            [
             0.8888888888888888,
             "#fdca26"
            ],
            [
             1,
             "#f0f921"
            ]
           ],
           "sequentialminus": [
            [
             0,
             "#0d0887"
            ],
            [
             0.1111111111111111,
             "#46039f"
            ],
            [
             0.2222222222222222,
             "#7201a8"
            ],
            [
             0.3333333333333333,
             "#9c179e"
            ],
            [
             0.4444444444444444,
             "#bd3786"
            ],
            [
             0.5555555555555556,
             "#d8576b"
            ],
            [
             0.6666666666666666,
             "#ed7953"
            ],
            [
             0.7777777777777778,
             "#fb9f3a"
            ],
            [
             0.8888888888888888,
             "#fdca26"
            ],
            [
             1,
             "#f0f921"
            ]
           ]
          },
          "colorway": [
           "#636efa",
           "#EF553B",
           "#00cc96",
           "#ab63fa",
           "#FFA15A",
           "#19d3f3",
           "#FF6692",
           "#B6E880",
           "#FF97FF",
           "#FECB52"
          ],
          "font": {
           "color": "#2a3f5f"
          },
          "geo": {
           "bgcolor": "white",
           "lakecolor": "white",
           "landcolor": "white",
           "showlakes": true,
           "showland": true,
           "subunitcolor": "#C8D4E3"
          },
          "hoverlabel": {
           "align": "left"
          },
          "hovermode": "closest",
          "mapbox": {
           "style": "light"
          },
          "paper_bgcolor": "white",
          "plot_bgcolor": "white",
          "polar": {
           "angularaxis": {
            "gridcolor": "#EBF0F8",
            "linecolor": "#EBF0F8",
            "ticks": ""
           },
           "bgcolor": "white",
           "radialaxis": {
            "gridcolor": "#EBF0F8",
            "linecolor": "#EBF0F8",
            "ticks": ""
           }
          },
          "scene": {
           "xaxis": {
            "backgroundcolor": "white",
            "gridcolor": "#DFE8F3",
            "gridwidth": 2,
            "linecolor": "#EBF0F8",
            "showbackground": true,
            "ticks": "",
            "zerolinecolor": "#EBF0F8"
           },
           "yaxis": {
            "backgroundcolor": "white",
            "gridcolor": "#DFE8F3",
            "gridwidth": 2,
            "linecolor": "#EBF0F8",
            "showbackground": true,
            "ticks": "",
            "zerolinecolor": "#EBF0F8"
           },
           "zaxis": {
            "backgroundcolor": "white",
            "gridcolor": "#DFE8F3",
            "gridwidth": 2,
            "linecolor": "#EBF0F8",
            "showbackground": true,
            "ticks": "",
            "zerolinecolor": "#EBF0F8"
           }
          },
          "shapedefaults": {
           "line": {
            "color": "#2a3f5f"
           }
          },
          "ternary": {
           "aaxis": {
            "gridcolor": "#DFE8F3",
            "linecolor": "#A2B1C6",
            "ticks": ""
           },
           "baxis": {
            "gridcolor": "#DFE8F3",
            "linecolor": "#A2B1C6",
            "ticks": ""
           },
           "bgcolor": "white",
           "caxis": {
            "gridcolor": "#DFE8F3",
            "linecolor": "#A2B1C6",
            "ticks": ""
           }
          },
          "title": {
           "x": 0.05
          },
          "xaxis": {
           "automargin": true,
           "gridcolor": "#EBF0F8",
           "linecolor": "#EBF0F8",
           "ticks": "",
           "title": {
            "standoff": 15
           },
           "zerolinecolor": "#EBF0F8",
           "zerolinewidth": 2
          },
          "yaxis": {
           "automargin": true,
           "gridcolor": "#EBF0F8",
           "linecolor": "#EBF0F8",
           "ticks": "",
           "title": {
            "standoff": 15
           },
           "zerolinecolor": "#EBF0F8",
           "zerolinewidth": 2
          }
         }
        },
        "title": {
         "text": ""
        },
        "xaxis": {
         "nticks": 4,
         "showgrid": false,
         "title": {
          "text": "true_positive_rate"
         }
        },
        "yaxis": {
         "categoryarray": [
          "house/apart<br>False",
          "house/apart<br>True",
          "hotel<br>False",
          "hotel<br>True"
         ],
         "categoryorder": "array",
         "showgrid": false,
         "title": {
          "text": "Business"
         }
        }
       }
      },
      "text/html": [
       "<div>\n",
       "        \n",
       "        \n",
       "            <div id=\"949fb933-4a6c-4310-b6b5-1fe26016f27b\" class=\"plotly-graph-div\" style=\"height:550px; width:100%;\"></div>\n",
       "            <script type=\"text/javascript\">\n",
       "                require([\"plotly\"], function(Plotly) {\n",
       "                    window.PLOTLYENV=window.PLOTLYENV || {};\n",
       "                    \n",
       "                if (document.getElementById(\"949fb933-4a6c-4310-b6b5-1fe26016f27b\")) {\n",
       "                    Plotly.newPlot(\n",
       "                        '949fb933-4a6c-4310-b6b5-1fe26016f27b',\n",
       "                        [{\"error_x\": {\"array\": [0.020962783439803054, 0.013878558663566494, 0.013010644821110588, 0.030811013633295792], \"type\": \"data\"}, \"marker\": {\"color\": [\"rgb(44, 152, 160)\", \"rgb(44, 152, 160)\", \"rgb(103, 219, 165)\", \"rgb(103, 219, 165)\"]}, \"orientation\": \"h\", \"type\": \"bar\", \"x\": [0.20558372218744236, 0.3029033688947088, 0.30745821671009826, 0.16275784666589266], \"y\": [\"hotel<br>False\", \"hotel<br>True\", \"house/apart<br>False\", \"house/apart<br>True\"]}],\n",
       "                        {\"font\": {\"family\": \"Courier New, monospace\", \"size\": 22}, \"height\": 550, \"legend\": {\"orientation\": \"h\", \"y\": -0.2}, \"shapes\": [{\"line\": {\"dash\": \"dot\", \"width\": 1}, \"type\": \"line\", \"x0\": 0, \"x1\": 1, \"xref\": \"paper\", \"y0\": 1.5, \"y1\": 1.5, \"yref\": \"y\"}], \"template\": {\"data\": {\"bar\": [{\"error_x\": {\"color\": \"#2a3f5f\"}, \"error_y\": {\"color\": \"#2a3f5f\"}, \"marker\": {\"line\": {\"color\": \"white\", \"width\": 0.5}}, \"type\": \"bar\"}], \"barpolar\": [{\"marker\": {\"line\": {\"color\": \"white\", \"width\": 0.5}}, \"type\": \"barpolar\"}], \"carpet\": [{\"aaxis\": {\"endlinecolor\": \"#2a3f5f\", \"gridcolor\": \"#C8D4E3\", \"linecolor\": \"#C8D4E3\", \"minorgridcolor\": \"#C8D4E3\", \"startlinecolor\": \"#2a3f5f\"}, \"baxis\": {\"endlinecolor\": \"#2a3f5f\", \"gridcolor\": \"#C8D4E3\", \"linecolor\": \"#C8D4E3\", \"minorgridcolor\": \"#C8D4E3\", \"startlinecolor\": \"#2a3f5f\"}, \"type\": \"carpet\"}], \"choropleth\": [{\"colorbar\": {\"outlinewidth\": 0, \"ticks\": \"\"}, \"type\": \"choropleth\"}], \"contour\": [{\"colorbar\": {\"outlinewidth\": 0, \"ticks\": \"\"}, \"colorscale\": [[0.0, \"#0d0887\"], [0.1111111111111111, \"#46039f\"], [0.2222222222222222, \"#7201a8\"], [0.3333333333333333, \"#9c179e\"], [0.4444444444444444, \"#bd3786\"], [0.5555555555555556, \"#d8576b\"], [0.6666666666666666, \"#ed7953\"], [0.7777777777777778, \"#fb9f3a\"], [0.8888888888888888, \"#fdca26\"], [1.0, \"#f0f921\"]], \"type\": \"contour\"}], \"contourcarpet\": [{\"colorbar\": {\"outlinewidth\": 0, \"ticks\": \"\"}, \"type\": \"contourcarpet\"}], \"heatmap\": [{\"colorbar\": {\"outlinewidth\": 0, \"ticks\": \"\"}, \"colorscale\": [[0.0, \"#0d0887\"], [0.1111111111111111, \"#46039f\"], [0.2222222222222222, \"#7201a8\"], [0.3333333333333333, \"#9c179e\"], [0.4444444444444444, \"#bd3786\"], [0.5555555555555556, \"#d8576b\"], [0.6666666666666666, \"#ed7953\"], [0.7777777777777778, \"#fb9f3a\"], [0.8888888888888888, \"#fdca26\"], [1.0, \"#f0f921\"]], \"type\": \"heatmap\"}], \"heatmapgl\": [{\"colorbar\": {\"outlinewidth\": 0, \"ticks\": \"\"}, \"colorscale\": [[0.0, \"#0d0887\"], [0.1111111111111111, \"#46039f\"], [0.2222222222222222, \"#7201a8\"], [0.3333333333333333, \"#9c179e\"], [0.4444444444444444, \"#bd3786\"], [0.5555555555555556, \"#d8576b\"], [0.6666666666666666, \"#ed7953\"], [0.7777777777777778, \"#fb9f3a\"], [0.8888888888888888, \"#fdca26\"], [1.0, \"#f0f921\"]], \"type\": \"heatmapgl\"}], \"histogram\": [{\"marker\": {\"colorbar\": {\"outlinewidth\": 0, \"ticks\": \"\"}}, \"type\": \"histogram\"}], \"histogram2d\": [{\"colorbar\": {\"outlinewidth\": 0, \"ticks\": \"\"}, \"colorscale\": [[0.0, \"#0d0887\"], [0.1111111111111111, \"#46039f\"], [0.2222222222222222, \"#7201a8\"], [0.3333333333333333, \"#9c179e\"], [0.4444444444444444, \"#bd3786\"], [0.5555555555555556, \"#d8576b\"], [0.6666666666666666, \"#ed7953\"], [0.7777777777777778, \"#fb9f3a\"], [0.8888888888888888, \"#fdca26\"], [1.0, \"#f0f921\"]], \"type\": \"histogram2d\"}], \"histogram2dcontour\": [{\"colorbar\": {\"outlinewidth\": 0, \"ticks\": \"\"}, \"colorscale\": [[0.0, \"#0d0887\"], [0.1111111111111111, \"#46039f\"], [0.2222222222222222, \"#7201a8\"], [0.3333333333333333, \"#9c179e\"], [0.4444444444444444, \"#bd3786\"], [0.5555555555555556, \"#d8576b\"], [0.6666666666666666, \"#ed7953\"], [0.7777777777777778, \"#fb9f3a\"], [0.8888888888888888, \"#fdca26\"], [1.0, \"#f0f921\"]], \"type\": \"histogram2dcontour\"}], \"mesh3d\": [{\"colorbar\": {\"outlinewidth\": 0, \"ticks\": \"\"}, \"type\": \"mesh3d\"}], \"parcoords\": [{\"line\": {\"colorbar\": {\"outlinewidth\": 0, \"ticks\": \"\"}}, \"type\": \"parcoords\"}], \"pie\": [{\"automargin\": true, \"type\": \"pie\"}], \"scatter\": [{\"marker\": {\"colorbar\": {\"outlinewidth\": 0, \"ticks\": \"\"}}, \"type\": \"scatter\"}], \"scatter3d\": [{\"line\": {\"colorbar\": {\"outlinewidth\": 0, \"ticks\": \"\"}}, \"marker\": {\"colorbar\": {\"outlinewidth\": 0, \"ticks\": \"\"}}, \"type\": \"scatter3d\"}], \"scattercarpet\": [{\"marker\": {\"colorbar\": {\"outlinewidth\": 0, \"ticks\": \"\"}}, \"type\": \"scattercarpet\"}], \"scattergeo\": [{\"marker\": {\"colorbar\": {\"outlinewidth\": 0, \"ticks\": \"\"}}, \"type\": \"scattergeo\"}], \"scattergl\": [{\"marker\": {\"colorbar\": {\"outlinewidth\": 0, \"ticks\": \"\"}}, \"type\": \"scattergl\"}], \"scattermapbox\": [{\"marker\": {\"colorbar\": {\"outlinewidth\": 0, \"ticks\": \"\"}}, \"type\": \"scattermapbox\"}], \"scatterpolar\": [{\"marker\": {\"colorbar\": {\"outlinewidth\": 0, \"ticks\": \"\"}}, \"type\": \"scatterpolar\"}], \"scatterpolargl\": [{\"marker\": {\"colorbar\": {\"outlinewidth\": 0, \"ticks\": \"\"}}, \"type\": \"scatterpolargl\"}], \"scatterternary\": [{\"marker\": {\"colorbar\": {\"outlinewidth\": 0, \"ticks\": \"\"}}, \"type\": \"scatterternary\"}], \"surface\": [{\"colorbar\": {\"outlinewidth\": 0, \"ticks\": \"\"}, \"colorscale\": [[0.0, \"#0d0887\"], [0.1111111111111111, \"#46039f\"], [0.2222222222222222, \"#7201a8\"], [0.3333333333333333, \"#9c179e\"], [0.4444444444444444, \"#bd3786\"], [0.5555555555555556, \"#d8576b\"], [0.6666666666666666, \"#ed7953\"], [0.7777777777777778, \"#fb9f3a\"], [0.8888888888888888, \"#fdca26\"], [1.0, \"#f0f921\"]], \"type\": \"surface\"}], \"table\": [{\"cells\": {\"fill\": {\"color\": \"#EBF0F8\"}, \"line\": {\"color\": \"white\"}}, \"header\": {\"fill\": {\"color\": \"#C8D4E3\"}, \"line\": {\"color\": \"white\"}}, \"type\": \"table\"}]}, \"layout\": {\"annotationdefaults\": {\"arrowcolor\": \"#2a3f5f\", \"arrowhead\": 0, \"arrowwidth\": 1}, \"coloraxis\": {\"colorbar\": {\"outlinewidth\": 0, \"ticks\": \"\"}}, \"colorscale\": {\"diverging\": [[0, \"#8e0152\"], [0.1, \"#c51b7d\"], [0.2, \"#de77ae\"], [0.3, \"#f1b6da\"], [0.4, \"#fde0ef\"], [0.5, \"#f7f7f7\"], [0.6, \"#e6f5d0\"], [0.7, \"#b8e186\"], [0.8, \"#7fbc41\"], [0.9, \"#4d9221\"], [1, \"#276419\"]], \"sequential\": [[0.0, \"#0d0887\"], [0.1111111111111111, \"#46039f\"], [0.2222222222222222, \"#7201a8\"], [0.3333333333333333, \"#9c179e\"], [0.4444444444444444, \"#bd3786\"], [0.5555555555555556, \"#d8576b\"], [0.6666666666666666, \"#ed7953\"], [0.7777777777777778, \"#fb9f3a\"], [0.8888888888888888, \"#fdca26\"], [1.0, \"#f0f921\"]], \"sequentialminus\": [[0.0, \"#0d0887\"], [0.1111111111111111, \"#46039f\"], [0.2222222222222222, \"#7201a8\"], [0.3333333333333333, \"#9c179e\"], [0.4444444444444444, \"#bd3786\"], [0.5555555555555556, \"#d8576b\"], [0.6666666666666666, \"#ed7953\"], [0.7777777777777778, \"#fb9f3a\"], [0.8888888888888888, \"#fdca26\"], [1.0, \"#f0f921\"]]}, \"colorway\": [\"#636efa\", \"#EF553B\", \"#00cc96\", \"#ab63fa\", \"#FFA15A\", \"#19d3f3\", \"#FF6692\", \"#B6E880\", \"#FF97FF\", \"#FECB52\"], \"font\": {\"color\": \"#2a3f5f\"}, \"geo\": {\"bgcolor\": \"white\", \"lakecolor\": \"white\", \"landcolor\": \"white\", \"showlakes\": true, \"showland\": true, \"subunitcolor\": \"#C8D4E3\"}, \"hoverlabel\": {\"align\": \"left\"}, \"hovermode\": \"closest\", \"mapbox\": {\"style\": \"light\"}, \"paper_bgcolor\": \"white\", \"plot_bgcolor\": \"white\", \"polar\": {\"angularaxis\": {\"gridcolor\": \"#EBF0F8\", \"linecolor\": \"#EBF0F8\", \"ticks\": \"\"}, \"bgcolor\": \"white\", \"radialaxis\": {\"gridcolor\": \"#EBF0F8\", \"linecolor\": \"#EBF0F8\", \"ticks\": \"\"}}, \"scene\": {\"xaxis\": {\"backgroundcolor\": \"white\", \"gridcolor\": \"#DFE8F3\", \"gridwidth\": 2, \"linecolor\": \"#EBF0F8\", \"showbackground\": true, \"ticks\": \"\", \"zerolinecolor\": \"#EBF0F8\"}, \"yaxis\": {\"backgroundcolor\": \"white\", \"gridcolor\": \"#DFE8F3\", \"gridwidth\": 2, \"linecolor\": \"#EBF0F8\", \"showbackground\": true, \"ticks\": \"\", \"zerolinecolor\": \"#EBF0F8\"}, \"zaxis\": {\"backgroundcolor\": \"white\", \"gridcolor\": \"#DFE8F3\", \"gridwidth\": 2, \"linecolor\": \"#EBF0F8\", \"showbackground\": true, \"ticks\": \"\", \"zerolinecolor\": \"#EBF0F8\"}}, \"shapedefaults\": {\"line\": {\"color\": \"#2a3f5f\"}}, \"ternary\": {\"aaxis\": {\"gridcolor\": \"#DFE8F3\", \"linecolor\": \"#A2B1C6\", \"ticks\": \"\"}, \"baxis\": {\"gridcolor\": \"#DFE8F3\", \"linecolor\": \"#A2B1C6\", \"ticks\": \"\"}, \"bgcolor\": \"white\", \"caxis\": {\"gridcolor\": \"#DFE8F3\", \"linecolor\": \"#A2B1C6\", \"ticks\": \"\"}}, \"title\": {\"x\": 0.05}, \"xaxis\": {\"automargin\": true, \"gridcolor\": \"#EBF0F8\", \"linecolor\": \"#EBF0F8\", \"ticks\": \"\", \"title\": {\"standoff\": 15}, \"zerolinecolor\": \"#EBF0F8\", \"zerolinewidth\": 2}, \"yaxis\": {\"automargin\": true, \"gridcolor\": \"#EBF0F8\", \"linecolor\": \"#EBF0F8\", \"ticks\": \"\", \"title\": {\"standoff\": 15}, \"zerolinecolor\": \"#EBF0F8\", \"zerolinewidth\": 2}}}, \"title\": {\"text\": \"\"}, \"xaxis\": {\"nticks\": 4, \"showgrid\": false, \"title\": {\"text\": \"true_positive_rate\"}}, \"yaxis\": {\"categoryarray\": [\"house/apart<br>False\", \"house/apart<br>True\", \"hotel<br>False\", \"hotel<br>True\"], \"categoryorder\": \"array\", \"showgrid\": false, \"title\": {\"text\": \"Business\"}}},\n",
       "                        {\"responsive\": true}\n",
       "                    ).then(function(){\n",
       "                            \n",
       "var gd = document.getElementById('949fb933-4a6c-4310-b6b5-1fe26016f27b');\n",
       "var x = new MutationObserver(function (mutations, observer) {{\n",
       "        var display = window.getComputedStyle(gd).display;\n",
       "        if (!display || display === 'none') {{\n",
       "            console.log([gd, 'removed!']);\n",
       "            Plotly.purge(gd);\n",
       "            observer.disconnect();\n",
       "        }}\n",
       "}});\n",
       "\n",
       "// Listen for the removal of the full notebook cells\n",
       "var notebookContainer = gd.closest('#notebook-container');\n",
       "if (notebookContainer) {{\n",
       "    x.observe(notebookContainer, {childList: true});\n",
       "}}\n",
       "\n",
       "// Listen for the clearing of the current output cell\n",
       "var outputEl = gd.closest('.output');\n",
       "if (outputEl) {{\n",
       "    x.observe(outputEl, {childList: true});\n",
       "}}\n",
       "\n",
       "                        })\n",
       "                };\n",
       "                });\n",
       "            </script>\n",
       "        </div>"
      ]
     },
     "metadata": {},
     "output_type": "display_data"
    }
   ],
   "source": [
    "fig = plot_fairness_mistreatment(metrics, input_metrics, title=\"\")\n",
    "\n",
    "fig.update_layout(shapes=[\n",
    "  dict(\n",
    "    type= 'line',\n",
    "    line=dict(\n",
    "        width=1,\n",
    "        dash=\"dot\",\n",
    "    ),        \n",
    "    xref='paper', x0= 0, x1= 1,\n",
    "    yref='y',     y0= 1.5, y1= 1.5\n",
    "  )\n",
    "])\n",
    "\n",
    "# Set custom x-axis labels\n",
    "fig.update_xaxes(nticks=4)\n",
    "\n",
    "fig.update_layout(yaxis={'categoryorder':'array', 'categoryarray':['house/apart<br>False', 'house/apart<br>True', 'hotel<br>False', 'hotel<br>True']})\n",
    "fig.update_layout(xaxis_showgrid=False, yaxis_showgrid=False, yaxis_title=\"Business\")\n",
    "fig.update_layout(font={'family': 'Courier New, monospace', 'size': 22}, height=550)\n",
    "\n",
    "\n",
    "fig.show()\n",
    "#fig.write_image(\"output/tmp/metrics/paper/recsys_fairnes_{}.eps\".format(\"business\"))    \n",
    "#fig.show(renderer=\"svg\")"
   ]
  },
  {
   "cell_type": "markdown",
   "metadata": {},
   "source": [
    "#### Feature - Business Affinity\n",
    "\n"
   ]
  },
  {
   "cell_type": "code",
   "execution_count": 26,
   "metadata": {},
   "outputs": [],
   "source": [
    "input_models_eval = 'InteractionTraining____mars_gym_model_b___logit_multipli_9dd8714dfd_96b9d686ee'\n",
    "list_input_features    = ['childcare', 'family friendly']\n",
    "input_metrics     = 'true_positive_rate'"
   ]
  },
  {
   "cell_type": "code",
   "execution_count": 27,
   "metadata": {},
   "outputs": [
    {
     "data": {
      "text/html": [
       "<div>\n",
       "<style scoped>\n",
       "    .dataframe tbody tr th:only-of-type {\n",
       "        vertical-align: middle;\n",
       "    }\n",
       "\n",
       "    .dataframe tbody tr th {\n",
       "        vertical-align: top;\n",
       "    }\n",
       "\n",
       "    .dataframe thead th {\n",
       "        text-align: right;\n",
       "    }\n",
       "</style>\n",
       "<table border=\"1\" class=\"dataframe\">\n",
       "  <thead>\n",
       "    <tr style=\"text-align: right;\">\n",
       "      <th></th>\n",
       "      <th>feature</th>\n",
       "      <th>sub_key</th>\n",
       "      <th>total_class</th>\n",
       "      <th>total_individuals</th>\n",
       "      <th>true_positive_rate</th>\n",
       "      <th>true_positive_rate_C</th>\n",
       "    </tr>\n",
       "    <tr>\n",
       "      <th>sub</th>\n",
       "      <th></th>\n",
       "      <th></th>\n",
       "      <th></th>\n",
       "      <th></th>\n",
       "      <th></th>\n",
       "      <th></th>\n",
       "    </tr>\n",
       "  </thead>\n",
       "  <tbody>\n",
       "    <tr>\n",
       "      <th>1</th>\n",
       "      <td>childcare.1</td>\n",
       "      <td>childcare</td>\n",
       "      <td>1007</td>\n",
       "      <td>2490</td>\n",
       "      <td>0.237465</td>\n",
       "      <td>0.024281</td>\n",
       "    </tr>\n",
       "    <tr>\n",
       "      <th>0</th>\n",
       "      <td>childcare.0</td>\n",
       "      <td>childcare</td>\n",
       "      <td>3258</td>\n",
       "      <td>9928</td>\n",
       "      <td>0.287760</td>\n",
       "      <td>0.013512</td>\n",
       "    </tr>\n",
       "    <tr>\n",
       "      <th>0</th>\n",
       "      <td>family friendly.0</td>\n",
       "      <td>family friendly</td>\n",
       "      <td>2113</td>\n",
       "      <td>3313</td>\n",
       "      <td>0.200593</td>\n",
       "      <td>0.017856</td>\n",
       "    </tr>\n",
       "    <tr>\n",
       "      <th>1</th>\n",
       "      <td>family friendly.1</td>\n",
       "      <td>family friendly</td>\n",
       "      <td>2384</td>\n",
       "      <td>9105</td>\n",
       "      <td>0.311986</td>\n",
       "      <td>0.014863</td>\n",
       "    </tr>\n",
       "  </tbody>\n",
       "</table>\n",
       "</div>"
      ],
      "text/plain": [
       "               feature          sub_key  total_class  total_individuals  \\\n",
       "sub                                                                       \n",
       "1    childcare.1        childcare        1007         2490                \n",
       "0    childcare.0        childcare        3258         9928                \n",
       "0    family friendly.0  family friendly  2113         3313                \n",
       "1    family friendly.1  family friendly  2384         9105                \n",
       "\n",
       "     true_positive_rate  true_positive_rate_C  \n",
       "sub                                            \n",
       "1    0.237465            0.024281              \n",
       "0    0.287760            0.013512              \n",
       "0    0.200593            0.017856              \n",
       "1    0.311986            0.014863              "
      ]
     },
     "execution_count": 27,
     "metadata": {},
     "output_type": "execute_result"
    }
   ],
   "source": [
    "metrics = []\n",
    "for input_features in list_input_features:\n",
    "    df_all_metrics    = load_fairness_metrics().loc[input_models_eval]\n",
    "    df_instances      = load_fairness_df().loc[input_models_eval]\n",
    "    df_all_metric_filter = df_all_metrics[df_all_metrics.sub_key.isin([input_features])]\n",
    "\n",
    "    columns         = list(np.unique(['sub_key', 'sub', 'feature', 'total_class', 'total_individuals'] + [input_metrics]))\n",
    "    if input_metrics+\"_C\" in df_all_metrics.columns:\n",
    "        columns.append(input_metrics+\"_C\")\n",
    "\n",
    "    df_metrics      = filter_df(df_all_metrics, input_models_eval, columns, 'sub')\n",
    "\n",
    "    df_metrics      = df_metrics[df_metrics.sub_key.isin([input_features])]\n",
    "    if sub_map != None:\n",
    "        df_metrics['sub'] = df_metrics['sub'].map(sub_map)\n",
    "\n",
    "    df_metrics      = df_metrics.sort_values(\"feature\").set_index(\"sub\")\n",
    "    df_metrics      = df_metrics.sort_values(input_metrics)\n",
    "    metrics.append(df_metrics)\n",
    "\n",
    "metrics = pd.concat(metrics)\n",
    "metrics"
   ]
  },
  {
   "cell_type": "code",
   "execution_count": 28,
   "metadata": {},
   "outputs": [
    {
     "data": {
      "text/html": [
       "<div>\n",
       "<style scoped>\n",
       "    .dataframe tbody tr th:only-of-type {\n",
       "        vertical-align: middle;\n",
       "    }\n",
       "\n",
       "    .dataframe tbody tr th {\n",
       "        vertical-align: top;\n",
       "    }\n",
       "\n",
       "    .dataframe thead th {\n",
       "        text-align: right;\n",
       "    }\n",
       "</style>\n",
       "<table border=\"1\" class=\"dataframe\">\n",
       "  <thead>\n",
       "    <tr style=\"text-align: right;\">\n",
       "      <th></th>\n",
       "      <th>feature</th>\n",
       "      <th>sub_key</th>\n",
       "      <th>total_class</th>\n",
       "      <th>total_individuals</th>\n",
       "      <th>true_positive_rate</th>\n",
       "      <th>true_positive_rate_C</th>\n",
       "      <th>color</th>\n",
       "    </tr>\n",
       "    <tr>\n",
       "      <th>sub</th>\n",
       "      <th></th>\n",
       "      <th></th>\n",
       "      <th></th>\n",
       "      <th></th>\n",
       "      <th></th>\n",
       "      <th></th>\n",
       "      <th></th>\n",
       "    </tr>\n",
       "  </thead>\n",
       "  <tbody>\n",
       "    <tr>\n",
       "      <th>childcare&lt;br&gt;True</th>\n",
       "      <td>childcare.1</td>\n",
       "      <td>childcare</td>\n",
       "      <td>1007</td>\n",
       "      <td>2490</td>\n",
       "      <td>0.237465</td>\n",
       "      <td>0.024281</td>\n",
       "      <td>2</td>\n",
       "    </tr>\n",
       "    <tr>\n",
       "      <th>childcare&lt;br&gt;False</th>\n",
       "      <td>childcare.0</td>\n",
       "      <td>childcare</td>\n",
       "      <td>3258</td>\n",
       "      <td>9928</td>\n",
       "      <td>0.287760</td>\n",
       "      <td>0.013512</td>\n",
       "      <td>2</td>\n",
       "    </tr>\n",
       "    <tr>\n",
       "      <th>family friendly&lt;br&gt;True</th>\n",
       "      <td>family friendly.0</td>\n",
       "      <td>family friendly</td>\n",
       "      <td>2113</td>\n",
       "      <td>3313</td>\n",
       "      <td>0.200593</td>\n",
       "      <td>0.017856</td>\n",
       "      <td>5</td>\n",
       "    </tr>\n",
       "    <tr>\n",
       "      <th>family friendly&lt;br&gt;False</th>\n",
       "      <td>family friendly.1</td>\n",
       "      <td>family friendly</td>\n",
       "      <td>2384</td>\n",
       "      <td>9105</td>\n",
       "      <td>0.311986</td>\n",
       "      <td>0.014863</td>\n",
       "      <td>5</td>\n",
       "    </tr>\n",
       "  </tbody>\n",
       "</table>\n",
       "</div>"
      ],
      "text/plain": [
       "                                    feature          sub_key  total_class  \\\n",
       "sub                                                                         \n",
       "childcare<br>True         childcare.1        childcare        1007          \n",
       "childcare<br>False        childcare.0        childcare        3258          \n",
       "family friendly<br>True   family friendly.0  family friendly  2113          \n",
       "family friendly<br>False  family friendly.1  family friendly  2384          \n",
       "\n",
       "                          total_individuals  true_positive_rate  \\\n",
       "sub                                                               \n",
       "childcare<br>True         2490               0.237465             \n",
       "childcare<br>False        9928               0.287760             \n",
       "family friendly<br>True   3313               0.200593             \n",
       "family friendly<br>False  9105               0.311986             \n",
       "\n",
       "                          true_positive_rate_C  color  \n",
       "sub                                                    \n",
       "childcare<br>True         0.024281              2      \n",
       "childcare<br>False        0.013512              2      \n",
       "family friendly<br>True   0.017856              5      \n",
       "family friendly<br>False  0.014863              5      "
      ]
     },
     "execution_count": 28,
     "metadata": {},
     "output_type": "execute_result"
    }
   ],
   "source": [
    "metrics.reset_index()\n",
    "metrics['sub'] = ['childcare<br>True', 'childcare<br>False', 'family friendly<br>True', 'family friendly<br>False']\n",
    "metrics['color'] = [2,2, 5,5]\n",
    "metrics = metrics.set_index('sub')\n",
    "metrics"
   ]
  },
  {
   "cell_type": "code",
   "execution_count": 29,
   "metadata": {},
   "outputs": [
    {
     "data": {
      "application/vnd.plotly.v1+json": {
       "config": {
        "plotlyServerURL": "https://plot.ly"
       },
       "data": [
        {
         "error_x": {
          "array": [
           0.024280997706685955,
           0.013512349576754215,
           0.017856184951342592,
           0.01486349284279912
          ],
          "type": "data"
         },
         "marker": {
          "color": [
           "rgb(103, 219, 165)",
           "rgb(103, 219, 165)",
           "rgb(44, 152, 160)",
           "rgb(44, 152, 160)"
          ]
         },
         "orientation": "h",
         "type": "bar",
         "x": [
          0.23746490387655814,
          0.287760222726847,
          0.2005926436392602,
          0.31198632092779505
         ],
         "y": [
          "childcare<br>True",
          "childcare<br>False",
          "family friendly<br>True",
          "family friendly<br>False"
         ]
        }
       ],
       "layout": {
        "font": {
         "family": "Courier New, monospace",
         "size": 22
        },
        "height": 550,
        "legend": {
         "orientation": "h",
         "y": -0.2
        },
        "shapes": [
         {
          "line": {
           "dash": "dot",
           "width": 1
          },
          "type": "line",
          "x0": 0,
          "x1": 1,
          "xref": "paper",
          "y0": 1.5,
          "y1": 1.5,
          "yref": "y"
         }
        ],
        "template": {
         "data": {
          "bar": [
           {
            "error_x": {
             "color": "#2a3f5f"
            },
            "error_y": {
             "color": "#2a3f5f"
            },
            "marker": {
             "line": {
              "color": "white",
              "width": 0.5
             }
            },
            "type": "bar"
           }
          ],
          "barpolar": [
           {
            "marker": {
             "line": {
              "color": "white",
              "width": 0.5
             }
            },
            "type": "barpolar"
           }
          ],
          "carpet": [
           {
            "aaxis": {
             "endlinecolor": "#2a3f5f",
             "gridcolor": "#C8D4E3",
             "linecolor": "#C8D4E3",
             "minorgridcolor": "#C8D4E3",
             "startlinecolor": "#2a3f5f"
            },
            "baxis": {
             "endlinecolor": "#2a3f5f",
             "gridcolor": "#C8D4E3",
             "linecolor": "#C8D4E3",
             "minorgridcolor": "#C8D4E3",
             "startlinecolor": "#2a3f5f"
            },
            "type": "carpet"
           }
          ],
          "choropleth": [
           {
            "colorbar": {
             "outlinewidth": 0,
             "ticks": ""
            },
            "type": "choropleth"
           }
          ],
          "contour": [
           {
            "colorbar": {
             "outlinewidth": 0,
             "ticks": ""
            },
            "colorscale": [
             [
              0,
              "#0d0887"
             ],
             [
              0.1111111111111111,
              "#46039f"
             ],
             [
              0.2222222222222222,
              "#7201a8"
             ],
             [
              0.3333333333333333,
              "#9c179e"
             ],
             [
              0.4444444444444444,
              "#bd3786"
             ],
             [
              0.5555555555555556,
              "#d8576b"
             ],
             [
              0.6666666666666666,
              "#ed7953"
             ],
             [
              0.7777777777777778,
              "#fb9f3a"
             ],
             [
              0.8888888888888888,
              "#fdca26"
             ],
             [
              1,
              "#f0f921"
             ]
            ],
            "type": "contour"
           }
          ],
          "contourcarpet": [
           {
            "colorbar": {
             "outlinewidth": 0,
             "ticks": ""
            },
            "type": "contourcarpet"
           }
          ],
          "heatmap": [
           {
            "colorbar": {
             "outlinewidth": 0,
             "ticks": ""
            },
            "colorscale": [
             [
              0,
              "#0d0887"
             ],
             [
              0.1111111111111111,
              "#46039f"
             ],
             [
              0.2222222222222222,
              "#7201a8"
             ],
             [
              0.3333333333333333,
              "#9c179e"
             ],
             [
              0.4444444444444444,
              "#bd3786"
             ],
             [
              0.5555555555555556,
              "#d8576b"
             ],
             [
              0.6666666666666666,
              "#ed7953"
             ],
             [
              0.7777777777777778,
              "#fb9f3a"
             ],
             [
              0.8888888888888888,
              "#fdca26"
             ],
             [
              1,
              "#f0f921"
             ]
            ],
            "type": "heatmap"
           }
          ],
          "heatmapgl": [
           {
            "colorbar": {
             "outlinewidth": 0,
             "ticks": ""
            },
            "colorscale": [
             [
              0,
              "#0d0887"
             ],
             [
              0.1111111111111111,
              "#46039f"
             ],
             [
              0.2222222222222222,
              "#7201a8"
             ],
             [
              0.3333333333333333,
              "#9c179e"
             ],
             [
              0.4444444444444444,
              "#bd3786"
             ],
             [
              0.5555555555555556,
              "#d8576b"
             ],
             [
              0.6666666666666666,
              "#ed7953"
             ],
             [
              0.7777777777777778,
              "#fb9f3a"
             ],
             [
              0.8888888888888888,
              "#fdca26"
             ],
             [
              1,
              "#f0f921"
             ]
            ],
            "type": "heatmapgl"
           }
          ],
          "histogram": [
           {
            "marker": {
             "colorbar": {
              "outlinewidth": 0,
              "ticks": ""
             }
            },
            "type": "histogram"
           }
          ],
          "histogram2d": [
           {
            "colorbar": {
             "outlinewidth": 0,
             "ticks": ""
            },
            "colorscale": [
             [
              0,
              "#0d0887"
             ],
             [
              0.1111111111111111,
              "#46039f"
             ],
             [
              0.2222222222222222,
              "#7201a8"
             ],
             [
              0.3333333333333333,
              "#9c179e"
             ],
             [
              0.4444444444444444,
              "#bd3786"
             ],
             [
              0.5555555555555556,
              "#d8576b"
             ],
             [
              0.6666666666666666,
              "#ed7953"
             ],
             [
              0.7777777777777778,
              "#fb9f3a"
             ],
             [
              0.8888888888888888,
              "#fdca26"
             ],
             [
              1,
              "#f0f921"
             ]
            ],
            "type": "histogram2d"
           }
          ],
          "histogram2dcontour": [
           {
            "colorbar": {
             "outlinewidth": 0,
             "ticks": ""
            },
            "colorscale": [
             [
              0,
              "#0d0887"
             ],
             [
              0.1111111111111111,
              "#46039f"
             ],
             [
              0.2222222222222222,
              "#7201a8"
             ],
             [
              0.3333333333333333,
              "#9c179e"
             ],
             [
              0.4444444444444444,
              "#bd3786"
             ],
             [
              0.5555555555555556,
              "#d8576b"
             ],
             [
              0.6666666666666666,
              "#ed7953"
             ],
             [
              0.7777777777777778,
              "#fb9f3a"
             ],
             [
              0.8888888888888888,
              "#fdca26"
             ],
             [
              1,
              "#f0f921"
             ]
            ],
            "type": "histogram2dcontour"
           }
          ],
          "mesh3d": [
           {
            "colorbar": {
             "outlinewidth": 0,
             "ticks": ""
            },
            "type": "mesh3d"
           }
          ],
          "parcoords": [
           {
            "line": {
             "colorbar": {
              "outlinewidth": 0,
              "ticks": ""
             }
            },
            "type": "parcoords"
           }
          ],
          "pie": [
           {
            "automargin": true,
            "type": "pie"
           }
          ],
          "scatter": [
           {
            "marker": {
             "colorbar": {
              "outlinewidth": 0,
              "ticks": ""
             }
            },
            "type": "scatter"
           }
          ],
          "scatter3d": [
           {
            "line": {
             "colorbar": {
              "outlinewidth": 0,
              "ticks": ""
             }
            },
            "marker": {
             "colorbar": {
              "outlinewidth": 0,
              "ticks": ""
             }
            },
            "type": "scatter3d"
           }
          ],
          "scattercarpet": [
           {
            "marker": {
             "colorbar": {
              "outlinewidth": 0,
              "ticks": ""
             }
            },
            "type": "scattercarpet"
           }
          ],
          "scattergeo": [
           {
            "marker": {
             "colorbar": {
              "outlinewidth": 0,
              "ticks": ""
             }
            },
            "type": "scattergeo"
           }
          ],
          "scattergl": [
           {
            "marker": {
             "colorbar": {
              "outlinewidth": 0,
              "ticks": ""
             }
            },
            "type": "scattergl"
           }
          ],
          "scattermapbox": [
           {
            "marker": {
             "colorbar": {
              "outlinewidth": 0,
              "ticks": ""
             }
            },
            "type": "scattermapbox"
           }
          ],
          "scatterpolar": [
           {
            "marker": {
             "colorbar": {
              "outlinewidth": 0,
              "ticks": ""
             }
            },
            "type": "scatterpolar"
           }
          ],
          "scatterpolargl": [
           {
            "marker": {
             "colorbar": {
              "outlinewidth": 0,
              "ticks": ""
             }
            },
            "type": "scatterpolargl"
           }
          ],
          "scatterternary": [
           {
            "marker": {
             "colorbar": {
              "outlinewidth": 0,
              "ticks": ""
             }
            },
            "type": "scatterternary"
           }
          ],
          "surface": [
           {
            "colorbar": {
             "outlinewidth": 0,
             "ticks": ""
            },
            "colorscale": [
             [
              0,
              "#0d0887"
             ],
             [
              0.1111111111111111,
              "#46039f"
             ],
             [
              0.2222222222222222,
              "#7201a8"
             ],
             [
              0.3333333333333333,
              "#9c179e"
             ],
             [
              0.4444444444444444,
              "#bd3786"
             ],
             [
              0.5555555555555556,
              "#d8576b"
             ],
             [
              0.6666666666666666,
              "#ed7953"
             ],
             [
              0.7777777777777778,
              "#fb9f3a"
             ],
             [
              0.8888888888888888,
              "#fdca26"
             ],
             [
              1,
              "#f0f921"
             ]
            ],
            "type": "surface"
           }
          ],
          "table": [
           {
            "cells": {
             "fill": {
              "color": "#EBF0F8"
             },
             "line": {
              "color": "white"
             }
            },
            "header": {
             "fill": {
              "color": "#C8D4E3"
             },
             "line": {
              "color": "white"
             }
            },
            "type": "table"
           }
          ]
         },
         "layout": {
          "annotationdefaults": {
           "arrowcolor": "#2a3f5f",
           "arrowhead": 0,
           "arrowwidth": 1
          },
          "coloraxis": {
           "colorbar": {
            "outlinewidth": 0,
            "ticks": ""
           }
          },
          "colorscale": {
           "diverging": [
            [
             0,
             "#8e0152"
            ],
            [
             0.1,
             "#c51b7d"
            ],
            [
             0.2,
             "#de77ae"
            ],
            [
             0.3,
             "#f1b6da"
            ],
            [
             0.4,
             "#fde0ef"
            ],
            [
             0.5,
             "#f7f7f7"
            ],
            [
             0.6,
             "#e6f5d0"
            ],
            [
             0.7,
             "#b8e186"
            ],
            [
             0.8,
             "#7fbc41"
            ],
            [
             0.9,
             "#4d9221"
            ],
            [
             1,
             "#276419"
            ]
           ],
           "sequential": [
            [
             0,
             "#0d0887"
            ],
            [
             0.1111111111111111,
             "#46039f"
            ],
            [
             0.2222222222222222,
             "#7201a8"
            ],
            [
             0.3333333333333333,
             "#9c179e"
            ],
            [
             0.4444444444444444,
             "#bd3786"
            ],
            [
             0.5555555555555556,
             "#d8576b"
            ],
            [
             0.6666666666666666,
             "#ed7953"
            ],
            [
             0.7777777777777778,
             "#fb9f3a"
            ],
            [
             0.8888888888888888,
             "#fdca26"
            ],
            [
             1,
             "#f0f921"
            ]
           ],
           "sequentialminus": [
            [
             0,
             "#0d0887"
            ],
            [
             0.1111111111111111,
             "#46039f"
            ],
            [
             0.2222222222222222,
             "#7201a8"
            ],
            [
             0.3333333333333333,
             "#9c179e"
            ],
            [
             0.4444444444444444,
             "#bd3786"
            ],
            [
             0.5555555555555556,
             "#d8576b"
            ],
            [
             0.6666666666666666,
             "#ed7953"
            ],
            [
             0.7777777777777778,
             "#fb9f3a"
            ],
            [
             0.8888888888888888,
             "#fdca26"
            ],
            [
             1,
             "#f0f921"
            ]
           ]
          },
          "colorway": [
           "#636efa",
           "#EF553B",
           "#00cc96",
           "#ab63fa",
           "#FFA15A",
           "#19d3f3",
           "#FF6692",
           "#B6E880",
           "#FF97FF",
           "#FECB52"
          ],
          "font": {
           "color": "#2a3f5f"
          },
          "geo": {
           "bgcolor": "white",
           "lakecolor": "white",
           "landcolor": "white",
           "showlakes": true,
           "showland": true,
           "subunitcolor": "#C8D4E3"
          },
          "hoverlabel": {
           "align": "left"
          },
          "hovermode": "closest",
          "mapbox": {
           "style": "light"
          },
          "paper_bgcolor": "white",
          "plot_bgcolor": "white",
          "polar": {
           "angularaxis": {
            "gridcolor": "#EBF0F8",
            "linecolor": "#EBF0F8",
            "ticks": ""
           },
           "bgcolor": "white",
           "radialaxis": {
            "gridcolor": "#EBF0F8",
            "linecolor": "#EBF0F8",
            "ticks": ""
           }
          },
          "scene": {
           "xaxis": {
            "backgroundcolor": "white",
            "gridcolor": "#DFE8F3",
            "gridwidth": 2,
            "linecolor": "#EBF0F8",
            "showbackground": true,
            "ticks": "",
            "zerolinecolor": "#EBF0F8"
           },
           "yaxis": {
            "backgroundcolor": "white",
            "gridcolor": "#DFE8F3",
            "gridwidth": 2,
            "linecolor": "#EBF0F8",
            "showbackground": true,
            "ticks": "",
            "zerolinecolor": "#EBF0F8"
           },
           "zaxis": {
            "backgroundcolor": "white",
            "gridcolor": "#DFE8F3",
            "gridwidth": 2,
            "linecolor": "#EBF0F8",
            "showbackground": true,
            "ticks": "",
            "zerolinecolor": "#EBF0F8"
           }
          },
          "shapedefaults": {
           "line": {
            "color": "#2a3f5f"
           }
          },
          "ternary": {
           "aaxis": {
            "gridcolor": "#DFE8F3",
            "linecolor": "#A2B1C6",
            "ticks": ""
           },
           "baxis": {
            "gridcolor": "#DFE8F3",
            "linecolor": "#A2B1C6",
            "ticks": ""
           },
           "bgcolor": "white",
           "caxis": {
            "gridcolor": "#DFE8F3",
            "linecolor": "#A2B1C6",
            "ticks": ""
           }
          },
          "title": {
           "x": 0.05
          },
          "xaxis": {
           "automargin": true,
           "gridcolor": "#EBF0F8",
           "linecolor": "#EBF0F8",
           "ticks": "",
           "title": {
            "standoff": 15
           },
           "zerolinecolor": "#EBF0F8",
           "zerolinewidth": 2
          },
          "yaxis": {
           "automargin": true,
           "gridcolor": "#EBF0F8",
           "linecolor": "#EBF0F8",
           "ticks": "",
           "title": {
            "standoff": 15
           },
           "zerolinecolor": "#EBF0F8",
           "zerolinewidth": 2
          }
         }
        },
        "title": {
         "text": ""
        },
        "xaxis": {
         "nticks": 4,
         "showgrid": false,
         "title": {
          "text": "true_positive_rate"
         }
        },
        "yaxis": {
         "categoryarray": [
          "childcare<br>False",
          "childcare<br>True",
          "family friendly<br>False",
          "family friendly<br>True"
         ],
         "categoryorder": "array",
         "showgrid": false,
         "title": {
          "text": "Business"
         }
        }
       }
      },
      "text/html": [
       "<div>\n",
       "        \n",
       "        \n",
       "            <div id=\"3fad4293-8cc9-4529-a100-1e6a3ddc518a\" class=\"plotly-graph-div\" style=\"height:550px; width:100%;\"></div>\n",
       "            <script type=\"text/javascript\">\n",
       "                require([\"plotly\"], function(Plotly) {\n",
       "                    window.PLOTLYENV=window.PLOTLYENV || {};\n",
       "                    \n",
       "                if (document.getElementById(\"3fad4293-8cc9-4529-a100-1e6a3ddc518a\")) {\n",
       "                    Plotly.newPlot(\n",
       "                        '3fad4293-8cc9-4529-a100-1e6a3ddc518a',\n",
       "                        [{\"error_x\": {\"array\": [0.024280997706685955, 0.013512349576754215, 0.017856184951342592, 0.01486349284279912], \"type\": \"data\"}, \"marker\": {\"color\": [\"rgb(103, 219, 165)\", \"rgb(103, 219, 165)\", \"rgb(44, 152, 160)\", \"rgb(44, 152, 160)\"]}, \"orientation\": \"h\", \"type\": \"bar\", \"x\": [0.23746490387655814, 0.287760222726847, 0.2005926436392602, 0.31198632092779505], \"y\": [\"childcare<br>True\", \"childcare<br>False\", \"family friendly<br>True\", \"family friendly<br>False\"]}],\n",
       "                        {\"font\": {\"family\": \"Courier New, monospace\", \"size\": 22}, \"height\": 550, \"legend\": {\"orientation\": \"h\", \"y\": -0.2}, \"shapes\": [{\"line\": {\"dash\": \"dot\", \"width\": 1}, \"type\": \"line\", \"x0\": 0, \"x1\": 1, \"xref\": \"paper\", \"y0\": 1.5, \"y1\": 1.5, \"yref\": \"y\"}], \"template\": {\"data\": {\"bar\": [{\"error_x\": {\"color\": \"#2a3f5f\"}, \"error_y\": {\"color\": \"#2a3f5f\"}, \"marker\": {\"line\": {\"color\": \"white\", \"width\": 0.5}}, \"type\": \"bar\"}], \"barpolar\": [{\"marker\": {\"line\": {\"color\": \"white\", \"width\": 0.5}}, \"type\": \"barpolar\"}], \"carpet\": [{\"aaxis\": {\"endlinecolor\": \"#2a3f5f\", \"gridcolor\": \"#C8D4E3\", \"linecolor\": \"#C8D4E3\", \"minorgridcolor\": \"#C8D4E3\", \"startlinecolor\": \"#2a3f5f\"}, \"baxis\": {\"endlinecolor\": \"#2a3f5f\", \"gridcolor\": \"#C8D4E3\", \"linecolor\": \"#C8D4E3\", \"minorgridcolor\": \"#C8D4E3\", \"startlinecolor\": \"#2a3f5f\"}, \"type\": \"carpet\"}], \"choropleth\": [{\"colorbar\": {\"outlinewidth\": 0, \"ticks\": \"\"}, \"type\": \"choropleth\"}], \"contour\": [{\"colorbar\": {\"outlinewidth\": 0, \"ticks\": \"\"}, \"colorscale\": [[0.0, \"#0d0887\"], [0.1111111111111111, \"#46039f\"], [0.2222222222222222, \"#7201a8\"], [0.3333333333333333, \"#9c179e\"], [0.4444444444444444, \"#bd3786\"], [0.5555555555555556, \"#d8576b\"], [0.6666666666666666, \"#ed7953\"], [0.7777777777777778, \"#fb9f3a\"], [0.8888888888888888, \"#fdca26\"], [1.0, \"#f0f921\"]], \"type\": \"contour\"}], \"contourcarpet\": [{\"colorbar\": {\"outlinewidth\": 0, \"ticks\": \"\"}, \"type\": \"contourcarpet\"}], \"heatmap\": [{\"colorbar\": {\"outlinewidth\": 0, \"ticks\": \"\"}, \"colorscale\": [[0.0, \"#0d0887\"], [0.1111111111111111, \"#46039f\"], [0.2222222222222222, \"#7201a8\"], [0.3333333333333333, \"#9c179e\"], [0.4444444444444444, \"#bd3786\"], [0.5555555555555556, \"#d8576b\"], [0.6666666666666666, \"#ed7953\"], [0.7777777777777778, \"#fb9f3a\"], [0.8888888888888888, \"#fdca26\"], [1.0, \"#f0f921\"]], \"type\": \"heatmap\"}], \"heatmapgl\": [{\"colorbar\": {\"outlinewidth\": 0, \"ticks\": \"\"}, \"colorscale\": [[0.0, \"#0d0887\"], [0.1111111111111111, \"#46039f\"], [0.2222222222222222, \"#7201a8\"], [0.3333333333333333, \"#9c179e\"], [0.4444444444444444, \"#bd3786\"], [0.5555555555555556, \"#d8576b\"], [0.6666666666666666, \"#ed7953\"], [0.7777777777777778, \"#fb9f3a\"], [0.8888888888888888, \"#fdca26\"], [1.0, \"#f0f921\"]], \"type\": \"heatmapgl\"}], \"histogram\": [{\"marker\": {\"colorbar\": {\"outlinewidth\": 0, \"ticks\": \"\"}}, \"type\": \"histogram\"}], \"histogram2d\": [{\"colorbar\": {\"outlinewidth\": 0, \"ticks\": \"\"}, \"colorscale\": [[0.0, \"#0d0887\"], [0.1111111111111111, \"#46039f\"], [0.2222222222222222, \"#7201a8\"], [0.3333333333333333, \"#9c179e\"], [0.4444444444444444, \"#bd3786\"], [0.5555555555555556, \"#d8576b\"], [0.6666666666666666, \"#ed7953\"], [0.7777777777777778, \"#fb9f3a\"], [0.8888888888888888, \"#fdca26\"], [1.0, \"#f0f921\"]], \"type\": \"histogram2d\"}], \"histogram2dcontour\": [{\"colorbar\": {\"outlinewidth\": 0, \"ticks\": \"\"}, \"colorscale\": [[0.0, \"#0d0887\"], [0.1111111111111111, \"#46039f\"], [0.2222222222222222, \"#7201a8\"], [0.3333333333333333, \"#9c179e\"], [0.4444444444444444, \"#bd3786\"], [0.5555555555555556, \"#d8576b\"], [0.6666666666666666, \"#ed7953\"], [0.7777777777777778, \"#fb9f3a\"], [0.8888888888888888, \"#fdca26\"], [1.0, \"#f0f921\"]], \"type\": \"histogram2dcontour\"}], \"mesh3d\": [{\"colorbar\": {\"outlinewidth\": 0, \"ticks\": \"\"}, \"type\": \"mesh3d\"}], \"parcoords\": [{\"line\": {\"colorbar\": {\"outlinewidth\": 0, \"ticks\": \"\"}}, \"type\": \"parcoords\"}], \"pie\": [{\"automargin\": true, \"type\": \"pie\"}], \"scatter\": [{\"marker\": {\"colorbar\": {\"outlinewidth\": 0, \"ticks\": \"\"}}, \"type\": \"scatter\"}], \"scatter3d\": [{\"line\": {\"colorbar\": {\"outlinewidth\": 0, \"ticks\": \"\"}}, \"marker\": {\"colorbar\": {\"outlinewidth\": 0, \"ticks\": \"\"}}, \"type\": \"scatter3d\"}], \"scattercarpet\": [{\"marker\": {\"colorbar\": {\"outlinewidth\": 0, \"ticks\": \"\"}}, \"type\": \"scattercarpet\"}], \"scattergeo\": [{\"marker\": {\"colorbar\": {\"outlinewidth\": 0, \"ticks\": \"\"}}, \"type\": \"scattergeo\"}], \"scattergl\": [{\"marker\": {\"colorbar\": {\"outlinewidth\": 0, \"ticks\": \"\"}}, \"type\": \"scattergl\"}], \"scattermapbox\": [{\"marker\": {\"colorbar\": {\"outlinewidth\": 0, \"ticks\": \"\"}}, \"type\": \"scattermapbox\"}], \"scatterpolar\": [{\"marker\": {\"colorbar\": {\"outlinewidth\": 0, \"ticks\": \"\"}}, \"type\": \"scatterpolar\"}], \"scatterpolargl\": [{\"marker\": {\"colorbar\": {\"outlinewidth\": 0, \"ticks\": \"\"}}, \"type\": \"scatterpolargl\"}], \"scatterternary\": [{\"marker\": {\"colorbar\": {\"outlinewidth\": 0, \"ticks\": \"\"}}, \"type\": \"scatterternary\"}], \"surface\": [{\"colorbar\": {\"outlinewidth\": 0, \"ticks\": \"\"}, \"colorscale\": [[0.0, \"#0d0887\"], [0.1111111111111111, \"#46039f\"], [0.2222222222222222, \"#7201a8\"], [0.3333333333333333, \"#9c179e\"], [0.4444444444444444, \"#bd3786\"], [0.5555555555555556, \"#d8576b\"], [0.6666666666666666, \"#ed7953\"], [0.7777777777777778, \"#fb9f3a\"], [0.8888888888888888, \"#fdca26\"], [1.0, \"#f0f921\"]], \"type\": \"surface\"}], \"table\": [{\"cells\": {\"fill\": {\"color\": \"#EBF0F8\"}, \"line\": {\"color\": \"white\"}}, \"header\": {\"fill\": {\"color\": \"#C8D4E3\"}, \"line\": {\"color\": \"white\"}}, \"type\": \"table\"}]}, \"layout\": {\"annotationdefaults\": {\"arrowcolor\": \"#2a3f5f\", \"arrowhead\": 0, \"arrowwidth\": 1}, \"coloraxis\": {\"colorbar\": {\"outlinewidth\": 0, \"ticks\": \"\"}}, \"colorscale\": {\"diverging\": [[0, \"#8e0152\"], [0.1, \"#c51b7d\"], [0.2, \"#de77ae\"], [0.3, \"#f1b6da\"], [0.4, \"#fde0ef\"], [0.5, \"#f7f7f7\"], [0.6, \"#e6f5d0\"], [0.7, \"#b8e186\"], [0.8, \"#7fbc41\"], [0.9, \"#4d9221\"], [1, \"#276419\"]], \"sequential\": [[0.0, \"#0d0887\"], [0.1111111111111111, \"#46039f\"], [0.2222222222222222, \"#7201a8\"], [0.3333333333333333, \"#9c179e\"], [0.4444444444444444, \"#bd3786\"], [0.5555555555555556, \"#d8576b\"], [0.6666666666666666, \"#ed7953\"], [0.7777777777777778, \"#fb9f3a\"], [0.8888888888888888, \"#fdca26\"], [1.0, \"#f0f921\"]], \"sequentialminus\": [[0.0, \"#0d0887\"], [0.1111111111111111, \"#46039f\"], [0.2222222222222222, \"#7201a8\"], [0.3333333333333333, \"#9c179e\"], [0.4444444444444444, \"#bd3786\"], [0.5555555555555556, \"#d8576b\"], [0.6666666666666666, \"#ed7953\"], [0.7777777777777778, \"#fb9f3a\"], [0.8888888888888888, \"#fdca26\"], [1.0, \"#f0f921\"]]}, \"colorway\": [\"#636efa\", \"#EF553B\", \"#00cc96\", \"#ab63fa\", \"#FFA15A\", \"#19d3f3\", \"#FF6692\", \"#B6E880\", \"#FF97FF\", \"#FECB52\"], \"font\": {\"color\": \"#2a3f5f\"}, \"geo\": {\"bgcolor\": \"white\", \"lakecolor\": \"white\", \"landcolor\": \"white\", \"showlakes\": true, \"showland\": true, \"subunitcolor\": \"#C8D4E3\"}, \"hoverlabel\": {\"align\": \"left\"}, \"hovermode\": \"closest\", \"mapbox\": {\"style\": \"light\"}, \"paper_bgcolor\": \"white\", \"plot_bgcolor\": \"white\", \"polar\": {\"angularaxis\": {\"gridcolor\": \"#EBF0F8\", \"linecolor\": \"#EBF0F8\", \"ticks\": \"\"}, \"bgcolor\": \"white\", \"radialaxis\": {\"gridcolor\": \"#EBF0F8\", \"linecolor\": \"#EBF0F8\", \"ticks\": \"\"}}, \"scene\": {\"xaxis\": {\"backgroundcolor\": \"white\", \"gridcolor\": \"#DFE8F3\", \"gridwidth\": 2, \"linecolor\": \"#EBF0F8\", \"showbackground\": true, \"ticks\": \"\", \"zerolinecolor\": \"#EBF0F8\"}, \"yaxis\": {\"backgroundcolor\": \"white\", \"gridcolor\": \"#DFE8F3\", \"gridwidth\": 2, \"linecolor\": \"#EBF0F8\", \"showbackground\": true, \"ticks\": \"\", \"zerolinecolor\": \"#EBF0F8\"}, \"zaxis\": {\"backgroundcolor\": \"white\", \"gridcolor\": \"#DFE8F3\", \"gridwidth\": 2, \"linecolor\": \"#EBF0F8\", \"showbackground\": true, \"ticks\": \"\", \"zerolinecolor\": \"#EBF0F8\"}}, \"shapedefaults\": {\"line\": {\"color\": \"#2a3f5f\"}}, \"ternary\": {\"aaxis\": {\"gridcolor\": \"#DFE8F3\", \"linecolor\": \"#A2B1C6\", \"ticks\": \"\"}, \"baxis\": {\"gridcolor\": \"#DFE8F3\", \"linecolor\": \"#A2B1C6\", \"ticks\": \"\"}, \"bgcolor\": \"white\", \"caxis\": {\"gridcolor\": \"#DFE8F3\", \"linecolor\": \"#A2B1C6\", \"ticks\": \"\"}}, \"title\": {\"x\": 0.05}, \"xaxis\": {\"automargin\": true, \"gridcolor\": \"#EBF0F8\", \"linecolor\": \"#EBF0F8\", \"ticks\": \"\", \"title\": {\"standoff\": 15}, \"zerolinecolor\": \"#EBF0F8\", \"zerolinewidth\": 2}, \"yaxis\": {\"automargin\": true, \"gridcolor\": \"#EBF0F8\", \"linecolor\": \"#EBF0F8\", \"ticks\": \"\", \"title\": {\"standoff\": 15}, \"zerolinecolor\": \"#EBF0F8\", \"zerolinewidth\": 2}}}, \"title\": {\"text\": \"\"}, \"xaxis\": {\"nticks\": 4, \"showgrid\": false, \"title\": {\"text\": \"true_positive_rate\"}}, \"yaxis\": {\"categoryarray\": [\"childcare<br>False\", \"childcare<br>True\", \"family friendly<br>False\", \"family friendly<br>True\"], \"categoryorder\": \"array\", \"showgrid\": false, \"title\": {\"text\": \"Business\"}}},\n",
       "                        {\"responsive\": true}\n",
       "                    ).then(function(){\n",
       "                            \n",
       "var gd = document.getElementById('3fad4293-8cc9-4529-a100-1e6a3ddc518a');\n",
       "var x = new MutationObserver(function (mutations, observer) {{\n",
       "        var display = window.getComputedStyle(gd).display;\n",
       "        if (!display || display === 'none') {{\n",
       "            console.log([gd, 'removed!']);\n",
       "            Plotly.purge(gd);\n",
       "            observer.disconnect();\n",
       "        }}\n",
       "}});\n",
       "\n",
       "// Listen for the removal of the full notebook cells\n",
       "var notebookContainer = gd.closest('#notebook-container');\n",
       "if (notebookContainer) {{\n",
       "    x.observe(notebookContainer, {childList: true});\n",
       "}}\n",
       "\n",
       "// Listen for the clearing of the current output cell\n",
       "var outputEl = gd.closest('.output');\n",
       "if (outputEl) {{\n",
       "    x.observe(outputEl, {childList: true});\n",
       "}}\n",
       "\n",
       "                        })\n",
       "                };\n",
       "                });\n",
       "            </script>\n",
       "        </div>"
      ]
     },
     "metadata": {},
     "output_type": "display_data"
    }
   ],
   "source": [
    "fig = plot_fairness_mistreatment(metrics, input_metrics, title=\"\")\n",
    "\n",
    "\n",
    "\n",
    "fig.update_layout(shapes=[\n",
    "  dict(\n",
    "    type= 'line',\n",
    "    line=dict(\n",
    "        width=1,\n",
    "        dash=\"dot\",\n",
    "    ),        \n",
    "    xref='paper', x0= 0, x1= 1,\n",
    "    yref='y',     y0= 1.5, y1= 1.5\n",
    "  )\n",
    "])\n",
    "\n",
    "# Set custom x-axis labels\n",
    "fig.update_xaxes(nticks=4)\n",
    "\n",
    "fig.update_layout(yaxis={'categoryorder':'array', 'categoryarray':['childcare<br>False', 'childcare<br>True', 'family friendly<br>False', 'family friendly<br>True']})\n",
    "fig.update_layout(xaxis_showgrid=False, yaxis_showgrid=False, yaxis_title=\"Business\")\n",
    "fig.update_layout(font={'family': 'Courier New, monospace', 'size': 22}, height=550)\n",
    "\n",
    "\n",
    "\n",
    "fig.show()\n",
    "#fig.write_image(\"output/tmp/metrics/paper/recsys_fairnes_{}.eps\".format(\"businesscare\"))    \n",
    "#fig.show(renderer=\"svg\")"
   ]
  },
  {
   "cell_type": "code",
   "execution_count": null,
   "metadata": {},
   "outputs": [],
   "source": []
  },
  {
   "cell_type": "markdown",
   "metadata": {},
   "source": [
    "#### Feature - City"
   ]
  },
  {
   "cell_type": "code",
   "execution_count": 30,
   "metadata": {},
   "outputs": [],
   "source": [
    "input_models_eval = 'InteractionTraining____mars_gym_model_b___logit_multipli_9dd8714dfd_96b9d686ee'\n",
    "input_features    = 'city_idx'\n",
    "input_metrics     = 'true_positive_rate'"
   ]
  },
  {
   "cell_type": "code",
   "execution_count": 31,
   "metadata": {},
   "outputs": [],
   "source": [
    "sub_map = {'0': \"Boston\",\n",
    "            '1': \"Como\",\n",
    "            '2': \"Chicago\",\n",
    "            '3': \"Lausanne\",\n",
    "            '4': \"Dublin\",\n",
    "            '5': \"Rio de Janeiro\",\n",
    "            '6': \"Barcelona\",\n",
    "            '7': \"Copenhagen\",\n",
    "            '8': \"Vienna\",\n",
    "            '9': \"New York\",\n",
    "            '10': \"Hong Kong\",\n",
    "            '11': \"Vancouver\"}\n",
    "\n",
    "fig, df_metrics, df_total = plot_fairness_metrics(input_models_eval, input_features, input_metrics, sub_map = sub_map)            "
   ]
  },
  {
   "cell_type": "code",
   "execution_count": 32,
   "metadata": {},
   "outputs": [
    {
     "data": {
      "application/vnd.plotly.v1+json": {
       "config": {
        "plotlyServerURL": "https://plot.ly"
       },
       "data": [
        {
         "error_x": {
          "array": [
           0.16483524552302928,
           0.041650477069622764,
           0.05727762786965144,
           0.037876047322174033,
           0.02993755970856302,
           0.03161661057003146,
           0.0824746955900816,
           0.08552886526732101,
           0.039507683631567536,
           0.0647105694127374,
           0.02675609571268609,
           0.24002335665827296
          ],
          "type": "data"
         },
         "marker": {
          "color": [
           0,
           1,
           2,
           3,
           4,
           5,
           6,
           7,
           8,
           9,
           10,
           11
          ],
          "colorscale": [
           [
            0,
            "rgb(176, 242, 188)"
           ],
           [
            0.16666666666666666,
            "rgb(137, 232, 172)"
           ],
           [
            0.3333333333333333,
            "rgb(103, 219, 165)"
           ],
           [
            0.5,
            "rgb(76, 200, 163)"
           ],
           [
            0.6666666666666666,
            "rgb(56, 178, 163)"
           ],
           [
            0.8333333333333334,
            "rgb(44, 152, 160)"
           ],
           [
            1,
            "rgb(37, 125, 152)"
           ]
          ]
         },
         "orientation": "h",
         "type": "bar",
         "x": [
          0.18421052631578946,
          0.2529075343063283,
          0.28952801108788506,
          0.29110487187293177,
          0.2916910982734073,
          0.29718205314688123,
          0.3090088383838384,
          0.3132959734329597,
          0.3236781450429776,
          0.3349471861471861,
          0.3360587371957656,
          0.4509803921568627
         ],
         "y": [
          "Como",
          "Dublin",
          "Copenhagen",
          "Vienna",
          "Barcelona",
          "Rio de Janeiro",
          "Boston",
          "Vancouver",
          "Hong Kong",
          "Chicago",
          "New York",
          "Lausanne"
         ]
        }
       ],
       "layout": {
        "font": {
         "family": "Courier New, monospace",
         "size": 17
        },
        "height": 550,
        "legend": {
         "orientation": "h",
         "y": -0.2
        },
        "shapes": [
         {
          "line": {
           "dash": "dot",
           "width": 1
          },
          "type": "line",
          "x0": 0.3062161139469011,
          "x1": 0.3062161139469011,
          "xref": "x",
          "y0": 0,
          "y1": 1,
          "yref": "paper"
         }
        ],
        "template": {
         "data": {
          "bar": [
           {
            "error_x": {
             "color": "#2a3f5f"
            },
            "error_y": {
             "color": "#2a3f5f"
            },
            "marker": {
             "line": {
              "color": "white",
              "width": 0.5
             }
            },
            "type": "bar"
           }
          ],
          "barpolar": [
           {
            "marker": {
             "line": {
              "color": "white",
              "width": 0.5
             }
            },
            "type": "barpolar"
           }
          ],
          "carpet": [
           {
            "aaxis": {
             "endlinecolor": "#2a3f5f",
             "gridcolor": "#C8D4E3",
             "linecolor": "#C8D4E3",
             "minorgridcolor": "#C8D4E3",
             "startlinecolor": "#2a3f5f"
            },
            "baxis": {
             "endlinecolor": "#2a3f5f",
             "gridcolor": "#C8D4E3",
             "linecolor": "#C8D4E3",
             "minorgridcolor": "#C8D4E3",
             "startlinecolor": "#2a3f5f"
            },
            "type": "carpet"
           }
          ],
          "choropleth": [
           {
            "colorbar": {
             "outlinewidth": 0,
             "ticks": ""
            },
            "type": "choropleth"
           }
          ],
          "contour": [
           {
            "colorbar": {
             "outlinewidth": 0,
             "ticks": ""
            },
            "colorscale": [
             [
              0,
              "#0d0887"
             ],
             [
              0.1111111111111111,
              "#46039f"
             ],
             [
              0.2222222222222222,
              "#7201a8"
             ],
             [
              0.3333333333333333,
              "#9c179e"
             ],
             [
              0.4444444444444444,
              "#bd3786"
             ],
             [
              0.5555555555555556,
              "#d8576b"
             ],
             [
              0.6666666666666666,
              "#ed7953"
             ],
             [
              0.7777777777777778,
              "#fb9f3a"
             ],
             [
              0.8888888888888888,
              "#fdca26"
             ],
             [
              1,
              "#f0f921"
             ]
            ],
            "type": "contour"
           }
          ],
          "contourcarpet": [
           {
            "colorbar": {
             "outlinewidth": 0,
             "ticks": ""
            },
            "type": "contourcarpet"
           }
          ],
          "heatmap": [
           {
            "colorbar": {
             "outlinewidth": 0,
             "ticks": ""
            },
            "colorscale": [
             [
              0,
              "#0d0887"
             ],
             [
              0.1111111111111111,
              "#46039f"
             ],
             [
              0.2222222222222222,
              "#7201a8"
             ],
             [
              0.3333333333333333,
              "#9c179e"
             ],
             [
              0.4444444444444444,
              "#bd3786"
             ],
             [
              0.5555555555555556,
              "#d8576b"
             ],
             [
              0.6666666666666666,
              "#ed7953"
             ],
             [
              0.7777777777777778,
              "#fb9f3a"
             ],
             [
              0.8888888888888888,
              "#fdca26"
             ],
             [
              1,
              "#f0f921"
             ]
            ],
            "type": "heatmap"
           }
          ],
          "heatmapgl": [
           {
            "colorbar": {
             "outlinewidth": 0,
             "ticks": ""
            },
            "colorscale": [
             [
              0,
              "#0d0887"
             ],
             [
              0.1111111111111111,
              "#46039f"
             ],
             [
              0.2222222222222222,
              "#7201a8"
             ],
             [
              0.3333333333333333,
              "#9c179e"
             ],
             [
              0.4444444444444444,
              "#bd3786"
             ],
             [
              0.5555555555555556,
              "#d8576b"
             ],
             [
              0.6666666666666666,
              "#ed7953"
             ],
             [
              0.7777777777777778,
              "#fb9f3a"
             ],
             [
              0.8888888888888888,
              "#fdca26"
             ],
             [
              1,
              "#f0f921"
             ]
            ],
            "type": "heatmapgl"
           }
          ],
          "histogram": [
           {
            "marker": {
             "colorbar": {
              "outlinewidth": 0,
              "ticks": ""
             }
            },
            "type": "histogram"
           }
          ],
          "histogram2d": [
           {
            "colorbar": {
             "outlinewidth": 0,
             "ticks": ""
            },
            "colorscale": [
             [
              0,
              "#0d0887"
             ],
             [
              0.1111111111111111,
              "#46039f"
             ],
             [
              0.2222222222222222,
              "#7201a8"
             ],
             [
              0.3333333333333333,
              "#9c179e"
             ],
             [
              0.4444444444444444,
              "#bd3786"
             ],
             [
              0.5555555555555556,
              "#d8576b"
             ],
             [
              0.6666666666666666,
              "#ed7953"
             ],
             [
              0.7777777777777778,
              "#fb9f3a"
             ],
             [
              0.8888888888888888,
              "#fdca26"
             ],
             [
              1,
              "#f0f921"
             ]
            ],
            "type": "histogram2d"
           }
          ],
          "histogram2dcontour": [
           {
            "colorbar": {
             "outlinewidth": 0,
             "ticks": ""
            },
            "colorscale": [
             [
              0,
              "#0d0887"
             ],
             [
              0.1111111111111111,
              "#46039f"
             ],
             [
              0.2222222222222222,
              "#7201a8"
             ],
             [
              0.3333333333333333,
              "#9c179e"
             ],
             [
              0.4444444444444444,
              "#bd3786"
             ],
             [
              0.5555555555555556,
              "#d8576b"
             ],
             [
              0.6666666666666666,
              "#ed7953"
             ],
             [
              0.7777777777777778,
              "#fb9f3a"
             ],
             [
              0.8888888888888888,
              "#fdca26"
             ],
             [
              1,
              "#f0f921"
             ]
            ],
            "type": "histogram2dcontour"
           }
          ],
          "mesh3d": [
           {
            "colorbar": {
             "outlinewidth": 0,
             "ticks": ""
            },
            "type": "mesh3d"
           }
          ],
          "parcoords": [
           {
            "line": {
             "colorbar": {
              "outlinewidth": 0,
              "ticks": ""
             }
            },
            "type": "parcoords"
           }
          ],
          "pie": [
           {
            "automargin": true,
            "type": "pie"
           }
          ],
          "scatter": [
           {
            "marker": {
             "colorbar": {
              "outlinewidth": 0,
              "ticks": ""
             }
            },
            "type": "scatter"
           }
          ],
          "scatter3d": [
           {
            "line": {
             "colorbar": {
              "outlinewidth": 0,
              "ticks": ""
             }
            },
            "marker": {
             "colorbar": {
              "outlinewidth": 0,
              "ticks": ""
             }
            },
            "type": "scatter3d"
           }
          ],
          "scattercarpet": [
           {
            "marker": {
             "colorbar": {
              "outlinewidth": 0,
              "ticks": ""
             }
            },
            "type": "scattercarpet"
           }
          ],
          "scattergeo": [
           {
            "marker": {
             "colorbar": {
              "outlinewidth": 0,
              "ticks": ""
             }
            },
            "type": "scattergeo"
           }
          ],
          "scattergl": [
           {
            "marker": {
             "colorbar": {
              "outlinewidth": 0,
              "ticks": ""
             }
            },
            "type": "scattergl"
           }
          ],
          "scattermapbox": [
           {
            "marker": {
             "colorbar": {
              "outlinewidth": 0,
              "ticks": ""
             }
            },
            "type": "scattermapbox"
           }
          ],
          "scatterpolar": [
           {
            "marker": {
             "colorbar": {
              "outlinewidth": 0,
              "ticks": ""
             }
            },
            "type": "scatterpolar"
           }
          ],
          "scatterpolargl": [
           {
            "marker": {
             "colorbar": {
              "outlinewidth": 0,
              "ticks": ""
             }
            },
            "type": "scatterpolargl"
           }
          ],
          "scatterternary": [
           {
            "marker": {
             "colorbar": {
              "outlinewidth": 0,
              "ticks": ""
             }
            },
            "type": "scatterternary"
           }
          ],
          "surface": [
           {
            "colorbar": {
             "outlinewidth": 0,
             "ticks": ""
            },
            "colorscale": [
             [
              0,
              "#0d0887"
             ],
             [
              0.1111111111111111,
              "#46039f"
             ],
             [
              0.2222222222222222,
              "#7201a8"
             ],
             [
              0.3333333333333333,
              "#9c179e"
             ],
             [
              0.4444444444444444,
              "#bd3786"
             ],
             [
              0.5555555555555556,
              "#d8576b"
             ],
             [
              0.6666666666666666,
              "#ed7953"
             ],
             [
              0.7777777777777778,
              "#fb9f3a"
             ],
             [
              0.8888888888888888,
              "#fdca26"
             ],
             [
              1,
              "#f0f921"
             ]
            ],
            "type": "surface"
           }
          ],
          "table": [
           {
            "cells": {
             "fill": {
              "color": "#EBF0F8"
             },
             "line": {
              "color": "white"
             }
            },
            "header": {
             "fill": {
              "color": "#C8D4E3"
             },
             "line": {
              "color": "white"
             }
            },
            "type": "table"
           }
          ]
         },
         "layout": {
          "annotationdefaults": {
           "arrowcolor": "#2a3f5f",
           "arrowhead": 0,
           "arrowwidth": 1
          },
          "coloraxis": {
           "colorbar": {
            "outlinewidth": 0,
            "ticks": ""
           }
          },
          "colorscale": {
           "diverging": [
            [
             0,
             "#8e0152"
            ],
            [
             0.1,
             "#c51b7d"
            ],
            [
             0.2,
             "#de77ae"
            ],
            [
             0.3,
             "#f1b6da"
            ],
            [
             0.4,
             "#fde0ef"
            ],
            [
             0.5,
             "#f7f7f7"
            ],
            [
             0.6,
             "#e6f5d0"
            ],
            [
             0.7,
             "#b8e186"
            ],
            [
             0.8,
             "#7fbc41"
            ],
            [
             0.9,
             "#4d9221"
            ],
            [
             1,
             "#276419"
            ]
           ],
           "sequential": [
            [
             0,
             "#0d0887"
            ],
            [
             0.1111111111111111,
             "#46039f"
            ],
            [
             0.2222222222222222,
             "#7201a8"
            ],
            [
             0.3333333333333333,
             "#9c179e"
            ],
            [
             0.4444444444444444,
             "#bd3786"
            ],
            [
             0.5555555555555556,
             "#d8576b"
            ],
            [
             0.6666666666666666,
             "#ed7953"
            ],
            [
             0.7777777777777778,
             "#fb9f3a"
            ],
            [
             0.8888888888888888,
             "#fdca26"
            ],
            [
             1,
             "#f0f921"
            ]
           ],
           "sequentialminus": [
            [
             0,
             "#0d0887"
            ],
            [
             0.1111111111111111,
             "#46039f"
            ],
            [
             0.2222222222222222,
             "#7201a8"
            ],
            [
             0.3333333333333333,
             "#9c179e"
            ],
            [
             0.4444444444444444,
             "#bd3786"
            ],
            [
             0.5555555555555556,
             "#d8576b"
            ],
            [
             0.6666666666666666,
             "#ed7953"
            ],
            [
             0.7777777777777778,
             "#fb9f3a"
            ],
            [
             0.8888888888888888,
             "#fdca26"
            ],
            [
             1,
             "#f0f921"
            ]
           ]
          },
          "colorway": [
           "#636efa",
           "#EF553B",
           "#00cc96",
           "#ab63fa",
           "#FFA15A",
           "#19d3f3",
           "#FF6692",
           "#B6E880",
           "#FF97FF",
           "#FECB52"
          ],
          "font": {
           "color": "#2a3f5f"
          },
          "geo": {
           "bgcolor": "white",
           "lakecolor": "white",
           "landcolor": "white",
           "showlakes": true,
           "showland": true,
           "subunitcolor": "#C8D4E3"
          },
          "hoverlabel": {
           "align": "left"
          },
          "hovermode": "closest",
          "mapbox": {
           "style": "light"
          },
          "paper_bgcolor": "white",
          "plot_bgcolor": "white",
          "polar": {
           "angularaxis": {
            "gridcolor": "#EBF0F8",
            "linecolor": "#EBF0F8",
            "ticks": ""
           },
           "bgcolor": "white",
           "radialaxis": {
            "gridcolor": "#EBF0F8",
            "linecolor": "#EBF0F8",
            "ticks": ""
           }
          },
          "scene": {
           "xaxis": {
            "backgroundcolor": "white",
            "gridcolor": "#DFE8F3",
            "gridwidth": 2,
            "linecolor": "#EBF0F8",
            "showbackground": true,
            "ticks": "",
            "zerolinecolor": "#EBF0F8"
           },
           "yaxis": {
            "backgroundcolor": "white",
            "gridcolor": "#DFE8F3",
            "gridwidth": 2,
            "linecolor": "#EBF0F8",
            "showbackground": true,
            "ticks": "",
            "zerolinecolor": "#EBF0F8"
           },
           "zaxis": {
            "backgroundcolor": "white",
            "gridcolor": "#DFE8F3",
            "gridwidth": 2,
            "linecolor": "#EBF0F8",
            "showbackground": true,
            "ticks": "",
            "zerolinecolor": "#EBF0F8"
           }
          },
          "shapedefaults": {
           "line": {
            "color": "#2a3f5f"
           }
          },
          "ternary": {
           "aaxis": {
            "gridcolor": "#DFE8F3",
            "linecolor": "#A2B1C6",
            "ticks": ""
           },
           "baxis": {
            "gridcolor": "#DFE8F3",
            "linecolor": "#A2B1C6",
            "ticks": ""
           },
           "bgcolor": "white",
           "caxis": {
            "gridcolor": "#DFE8F3",
            "linecolor": "#A2B1C6",
            "ticks": ""
           }
          },
          "title": {
           "x": 0.05
          },
          "xaxis": {
           "automargin": true,
           "gridcolor": "#EBF0F8",
           "linecolor": "#EBF0F8",
           "ticks": "",
           "title": {
            "standoff": 15
           },
           "zerolinecolor": "#EBF0F8",
           "zerolinewidth": 2
          },
          "yaxis": {
           "automargin": true,
           "gridcolor": "#EBF0F8",
           "linecolor": "#EBF0F8",
           "ticks": "",
           "title": {
            "standoff": 15
           },
           "zerolinecolor": "#EBF0F8",
           "zerolinewidth": 2
          }
         }
        },
        "title": {
         "text": ""
        },
        "xaxis": {
         "showgrid": false,
         "title": {
          "text": "true_positive_rate"
         }
        },
        "yaxis": {
         "showgrid": false,
         "title": {
          "text": "city_idx"
         }
        }
       }
      },
      "text/html": [
       "<div>\n",
       "        \n",
       "        \n",
       "            <div id=\"508f3d7e-fe65-45eb-8f76-3c0c5c7c8767\" class=\"plotly-graph-div\" style=\"height:550px; width:100%;\"></div>\n",
       "            <script type=\"text/javascript\">\n",
       "                require([\"plotly\"], function(Plotly) {\n",
       "                    window.PLOTLYENV=window.PLOTLYENV || {};\n",
       "                    \n",
       "                if (document.getElementById(\"508f3d7e-fe65-45eb-8f76-3c0c5c7c8767\")) {\n",
       "                    Plotly.newPlot(\n",
       "                        '508f3d7e-fe65-45eb-8f76-3c0c5c7c8767',\n",
       "                        [{\"error_x\": {\"array\": [0.16483524552302928, 0.041650477069622764, 0.05727762786965144, 0.037876047322174033, 0.02993755970856302, 0.03161661057003146, 0.0824746955900816, 0.08552886526732101, 0.039507683631567536, 0.0647105694127374, 0.02675609571268609, 0.24002335665827296], \"type\": \"data\"}, \"marker\": {\"color\": [0, 1, 2, 3, 4, 5, 6, 7, 8, 9, 10, 11], \"colorscale\": [[0.0, \"rgb(176, 242, 188)\"], [0.16666666666666666, \"rgb(137, 232, 172)\"], [0.3333333333333333, \"rgb(103, 219, 165)\"], [0.5, \"rgb(76, 200, 163)\"], [0.6666666666666666, \"rgb(56, 178, 163)\"], [0.8333333333333334, \"rgb(44, 152, 160)\"], [1.0, \"rgb(37, 125, 152)\"]]}, \"orientation\": \"h\", \"type\": \"bar\", \"x\": [0.18421052631578946, 0.2529075343063283, 0.28952801108788506, 0.29110487187293177, 0.2916910982734073, 0.29718205314688123, 0.3090088383838384, 0.3132959734329597, 0.3236781450429776, 0.3349471861471861, 0.3360587371957656, 0.4509803921568627], \"y\": [\"Como\", \"Dublin\", \"Copenhagen\", \"Vienna\", \"Barcelona\", \"Rio de Janeiro\", \"Boston\", \"Vancouver\", \"Hong Kong\", \"Chicago\", \"New York\", \"Lausanne\"]}],\n",
       "                        {\"font\": {\"family\": \"Courier New, monospace\", \"size\": 17}, \"height\": 550, \"legend\": {\"orientation\": \"h\", \"y\": -0.2}, \"shapes\": [{\"line\": {\"dash\": \"dot\", \"width\": 1}, \"type\": \"line\", \"x0\": 0.3062161139469011, \"x1\": 0.3062161139469011, \"xref\": \"x\", \"y0\": 0, \"y1\": 1, \"yref\": \"paper\"}], \"template\": {\"data\": {\"bar\": [{\"error_x\": {\"color\": \"#2a3f5f\"}, \"error_y\": {\"color\": \"#2a3f5f\"}, \"marker\": {\"line\": {\"color\": \"white\", \"width\": 0.5}}, \"type\": \"bar\"}], \"barpolar\": [{\"marker\": {\"line\": {\"color\": \"white\", \"width\": 0.5}}, \"type\": \"barpolar\"}], \"carpet\": [{\"aaxis\": {\"endlinecolor\": \"#2a3f5f\", \"gridcolor\": \"#C8D4E3\", \"linecolor\": \"#C8D4E3\", \"minorgridcolor\": \"#C8D4E3\", \"startlinecolor\": \"#2a3f5f\"}, \"baxis\": {\"endlinecolor\": \"#2a3f5f\", \"gridcolor\": \"#C8D4E3\", \"linecolor\": \"#C8D4E3\", \"minorgridcolor\": \"#C8D4E3\", \"startlinecolor\": \"#2a3f5f\"}, \"type\": \"carpet\"}], \"choropleth\": [{\"colorbar\": {\"outlinewidth\": 0, \"ticks\": \"\"}, \"type\": \"choropleth\"}], \"contour\": [{\"colorbar\": {\"outlinewidth\": 0, \"ticks\": \"\"}, \"colorscale\": [[0.0, \"#0d0887\"], [0.1111111111111111, \"#46039f\"], [0.2222222222222222, \"#7201a8\"], [0.3333333333333333, \"#9c179e\"], [0.4444444444444444, \"#bd3786\"], [0.5555555555555556, \"#d8576b\"], [0.6666666666666666, \"#ed7953\"], [0.7777777777777778, \"#fb9f3a\"], [0.8888888888888888, \"#fdca26\"], [1.0, \"#f0f921\"]], \"type\": \"contour\"}], \"contourcarpet\": [{\"colorbar\": {\"outlinewidth\": 0, \"ticks\": \"\"}, \"type\": \"contourcarpet\"}], \"heatmap\": [{\"colorbar\": {\"outlinewidth\": 0, \"ticks\": \"\"}, \"colorscale\": [[0.0, \"#0d0887\"], [0.1111111111111111, \"#46039f\"], [0.2222222222222222, \"#7201a8\"], [0.3333333333333333, \"#9c179e\"], [0.4444444444444444, \"#bd3786\"], [0.5555555555555556, \"#d8576b\"], [0.6666666666666666, \"#ed7953\"], [0.7777777777777778, \"#fb9f3a\"], [0.8888888888888888, \"#fdca26\"], [1.0, \"#f0f921\"]], \"type\": \"heatmap\"}], \"heatmapgl\": [{\"colorbar\": {\"outlinewidth\": 0, \"ticks\": \"\"}, \"colorscale\": [[0.0, \"#0d0887\"], [0.1111111111111111, \"#46039f\"], [0.2222222222222222, \"#7201a8\"], [0.3333333333333333, \"#9c179e\"], [0.4444444444444444, \"#bd3786\"], [0.5555555555555556, \"#d8576b\"], [0.6666666666666666, \"#ed7953\"], [0.7777777777777778, \"#fb9f3a\"], [0.8888888888888888, \"#fdca26\"], [1.0, \"#f0f921\"]], \"type\": \"heatmapgl\"}], \"histogram\": [{\"marker\": {\"colorbar\": {\"outlinewidth\": 0, \"ticks\": \"\"}}, \"type\": \"histogram\"}], \"histogram2d\": [{\"colorbar\": {\"outlinewidth\": 0, \"ticks\": \"\"}, \"colorscale\": [[0.0, \"#0d0887\"], [0.1111111111111111, \"#46039f\"], [0.2222222222222222, \"#7201a8\"], [0.3333333333333333, \"#9c179e\"], [0.4444444444444444, \"#bd3786\"], [0.5555555555555556, \"#d8576b\"], [0.6666666666666666, \"#ed7953\"], [0.7777777777777778, \"#fb9f3a\"], [0.8888888888888888, \"#fdca26\"], [1.0, \"#f0f921\"]], \"type\": \"histogram2d\"}], \"histogram2dcontour\": [{\"colorbar\": {\"outlinewidth\": 0, \"ticks\": \"\"}, \"colorscale\": [[0.0, \"#0d0887\"], [0.1111111111111111, \"#46039f\"], [0.2222222222222222, \"#7201a8\"], [0.3333333333333333, \"#9c179e\"], [0.4444444444444444, \"#bd3786\"], [0.5555555555555556, \"#d8576b\"], [0.6666666666666666, \"#ed7953\"], [0.7777777777777778, \"#fb9f3a\"], [0.8888888888888888, \"#fdca26\"], [1.0, \"#f0f921\"]], \"type\": \"histogram2dcontour\"}], \"mesh3d\": [{\"colorbar\": {\"outlinewidth\": 0, \"ticks\": \"\"}, \"type\": \"mesh3d\"}], \"parcoords\": [{\"line\": {\"colorbar\": {\"outlinewidth\": 0, \"ticks\": \"\"}}, \"type\": \"parcoords\"}], \"pie\": [{\"automargin\": true, \"type\": \"pie\"}], \"scatter\": [{\"marker\": {\"colorbar\": {\"outlinewidth\": 0, \"ticks\": \"\"}}, \"type\": \"scatter\"}], \"scatter3d\": [{\"line\": {\"colorbar\": {\"outlinewidth\": 0, \"ticks\": \"\"}}, \"marker\": {\"colorbar\": {\"outlinewidth\": 0, \"ticks\": \"\"}}, \"type\": \"scatter3d\"}], \"scattercarpet\": [{\"marker\": {\"colorbar\": {\"outlinewidth\": 0, \"ticks\": \"\"}}, \"type\": \"scattercarpet\"}], \"scattergeo\": [{\"marker\": {\"colorbar\": {\"outlinewidth\": 0, \"ticks\": \"\"}}, \"type\": \"scattergeo\"}], \"scattergl\": [{\"marker\": {\"colorbar\": {\"outlinewidth\": 0, \"ticks\": \"\"}}, \"type\": \"scattergl\"}], \"scattermapbox\": [{\"marker\": {\"colorbar\": {\"outlinewidth\": 0, \"ticks\": \"\"}}, \"type\": \"scattermapbox\"}], \"scatterpolar\": [{\"marker\": {\"colorbar\": {\"outlinewidth\": 0, \"ticks\": \"\"}}, \"type\": \"scatterpolar\"}], \"scatterpolargl\": [{\"marker\": {\"colorbar\": {\"outlinewidth\": 0, \"ticks\": \"\"}}, \"type\": \"scatterpolargl\"}], \"scatterternary\": [{\"marker\": {\"colorbar\": {\"outlinewidth\": 0, \"ticks\": \"\"}}, \"type\": \"scatterternary\"}], \"surface\": [{\"colorbar\": {\"outlinewidth\": 0, \"ticks\": \"\"}, \"colorscale\": [[0.0, \"#0d0887\"], [0.1111111111111111, \"#46039f\"], [0.2222222222222222, \"#7201a8\"], [0.3333333333333333, \"#9c179e\"], [0.4444444444444444, \"#bd3786\"], [0.5555555555555556, \"#d8576b\"], [0.6666666666666666, \"#ed7953\"], [0.7777777777777778, \"#fb9f3a\"], [0.8888888888888888, \"#fdca26\"], [1.0, \"#f0f921\"]], \"type\": \"surface\"}], \"table\": [{\"cells\": {\"fill\": {\"color\": \"#EBF0F8\"}, \"line\": {\"color\": \"white\"}}, \"header\": {\"fill\": {\"color\": \"#C8D4E3\"}, \"line\": {\"color\": \"white\"}}, \"type\": \"table\"}]}, \"layout\": {\"annotationdefaults\": {\"arrowcolor\": \"#2a3f5f\", \"arrowhead\": 0, \"arrowwidth\": 1}, \"coloraxis\": {\"colorbar\": {\"outlinewidth\": 0, \"ticks\": \"\"}}, \"colorscale\": {\"diverging\": [[0, \"#8e0152\"], [0.1, \"#c51b7d\"], [0.2, \"#de77ae\"], [0.3, \"#f1b6da\"], [0.4, \"#fde0ef\"], [0.5, \"#f7f7f7\"], [0.6, \"#e6f5d0\"], [0.7, \"#b8e186\"], [0.8, \"#7fbc41\"], [0.9, \"#4d9221\"], [1, \"#276419\"]], \"sequential\": [[0.0, \"#0d0887\"], [0.1111111111111111, \"#46039f\"], [0.2222222222222222, \"#7201a8\"], [0.3333333333333333, \"#9c179e\"], [0.4444444444444444, \"#bd3786\"], [0.5555555555555556, \"#d8576b\"], [0.6666666666666666, \"#ed7953\"], [0.7777777777777778, \"#fb9f3a\"], [0.8888888888888888, \"#fdca26\"], [1.0, \"#f0f921\"]], \"sequentialminus\": [[0.0, \"#0d0887\"], [0.1111111111111111, \"#46039f\"], [0.2222222222222222, \"#7201a8\"], [0.3333333333333333, \"#9c179e\"], [0.4444444444444444, \"#bd3786\"], [0.5555555555555556, \"#d8576b\"], [0.6666666666666666, \"#ed7953\"], [0.7777777777777778, \"#fb9f3a\"], [0.8888888888888888, \"#fdca26\"], [1.0, \"#f0f921\"]]}, \"colorway\": [\"#636efa\", \"#EF553B\", \"#00cc96\", \"#ab63fa\", \"#FFA15A\", \"#19d3f3\", \"#FF6692\", \"#B6E880\", \"#FF97FF\", \"#FECB52\"], \"font\": {\"color\": \"#2a3f5f\"}, \"geo\": {\"bgcolor\": \"white\", \"lakecolor\": \"white\", \"landcolor\": \"white\", \"showlakes\": true, \"showland\": true, \"subunitcolor\": \"#C8D4E3\"}, \"hoverlabel\": {\"align\": \"left\"}, \"hovermode\": \"closest\", \"mapbox\": {\"style\": \"light\"}, \"paper_bgcolor\": \"white\", \"plot_bgcolor\": \"white\", \"polar\": {\"angularaxis\": {\"gridcolor\": \"#EBF0F8\", \"linecolor\": \"#EBF0F8\", \"ticks\": \"\"}, \"bgcolor\": \"white\", \"radialaxis\": {\"gridcolor\": \"#EBF0F8\", \"linecolor\": \"#EBF0F8\", \"ticks\": \"\"}}, \"scene\": {\"xaxis\": {\"backgroundcolor\": \"white\", \"gridcolor\": \"#DFE8F3\", \"gridwidth\": 2, \"linecolor\": \"#EBF0F8\", \"showbackground\": true, \"ticks\": \"\", \"zerolinecolor\": \"#EBF0F8\"}, \"yaxis\": {\"backgroundcolor\": \"white\", \"gridcolor\": \"#DFE8F3\", \"gridwidth\": 2, \"linecolor\": \"#EBF0F8\", \"showbackground\": true, \"ticks\": \"\", \"zerolinecolor\": \"#EBF0F8\"}, \"zaxis\": {\"backgroundcolor\": \"white\", \"gridcolor\": \"#DFE8F3\", \"gridwidth\": 2, \"linecolor\": \"#EBF0F8\", \"showbackground\": true, \"ticks\": \"\", \"zerolinecolor\": \"#EBF0F8\"}}, \"shapedefaults\": {\"line\": {\"color\": \"#2a3f5f\"}}, \"ternary\": {\"aaxis\": {\"gridcolor\": \"#DFE8F3\", \"linecolor\": \"#A2B1C6\", \"ticks\": \"\"}, \"baxis\": {\"gridcolor\": \"#DFE8F3\", \"linecolor\": \"#A2B1C6\", \"ticks\": \"\"}, \"bgcolor\": \"white\", \"caxis\": {\"gridcolor\": \"#DFE8F3\", \"linecolor\": \"#A2B1C6\", \"ticks\": \"\"}}, \"title\": {\"x\": 0.05}, \"xaxis\": {\"automargin\": true, \"gridcolor\": \"#EBF0F8\", \"linecolor\": \"#EBF0F8\", \"ticks\": \"\", \"title\": {\"standoff\": 15}, \"zerolinecolor\": \"#EBF0F8\", \"zerolinewidth\": 2}, \"yaxis\": {\"automargin\": true, \"gridcolor\": \"#EBF0F8\", \"linecolor\": \"#EBF0F8\", \"ticks\": \"\", \"title\": {\"standoff\": 15}, \"zerolinecolor\": \"#EBF0F8\", \"zerolinewidth\": 2}}}, \"title\": {\"text\": \"\"}, \"xaxis\": {\"showgrid\": false, \"title\": {\"text\": \"true_positive_rate\"}}, \"yaxis\": {\"showgrid\": false, \"title\": {\"text\": \"city_idx\"}}},\n",
       "                        {\"responsive\": true}\n",
       "                    ).then(function(){\n",
       "                            \n",
       "var gd = document.getElementById('508f3d7e-fe65-45eb-8f76-3c0c5c7c8767');\n",
       "var x = new MutationObserver(function (mutations, observer) {{\n",
       "        var display = window.getComputedStyle(gd).display;\n",
       "        if (!display || display === 'none') {{\n",
       "            console.log([gd, 'removed!']);\n",
       "            Plotly.purge(gd);\n",
       "            observer.disconnect();\n",
       "        }}\n",
       "}});\n",
       "\n",
       "// Listen for the removal of the full notebook cells\n",
       "var notebookContainer = gd.closest('#notebook-container');\n",
       "if (notebookContainer) {{\n",
       "    x.observe(notebookContainer, {childList: true});\n",
       "}}\n",
       "\n",
       "// Listen for the clearing of the current output cell\n",
       "var outputEl = gd.closest('.output');\n",
       "if (outputEl) {{\n",
       "    x.observe(outputEl, {childList: true});\n",
       "}}\n",
       "\n",
       "                        })\n",
       "                };\n",
       "                });\n",
       "            </script>\n",
       "        </div>"
      ]
     },
     "metadata": {},
     "output_type": "display_data"
    }
   ],
   "source": [
    "fig.show()\n",
    "#fig.write_image(\"output/tmp/metrics/recsys_fairnes_{}.eps\".format(input_features))    "
   ]
  },
  {
   "cell_type": "code",
   "execution_count": 33,
   "metadata": {},
   "outputs": [
    {
     "data": {
      "text/html": [
       "<div>\n",
       "<style scoped>\n",
       "    .dataframe tbody tr th:only-of-type {\n",
       "        vertical-align: middle;\n",
       "    }\n",
       "\n",
       "    .dataframe tbody tr th {\n",
       "        vertical-align: top;\n",
       "    }\n",
       "\n",
       "    .dataframe thead th {\n",
       "        text-align: right;\n",
       "    }\n",
       "</style>\n",
       "<table border=\"1\" class=\"dataframe\">\n",
       "  <thead>\n",
       "    <tr style=\"text-align: right;\">\n",
       "      <th></th>\n",
       "      <th>feature</th>\n",
       "      <th>sub_key</th>\n",
       "      <th>total_class</th>\n",
       "      <th>total_individuals</th>\n",
       "      <th>true_positive_rate</th>\n",
       "      <th>true_positive_rate_C</th>\n",
       "    </tr>\n",
       "    <tr>\n",
       "      <th>sub</th>\n",
       "      <th></th>\n",
       "      <th></th>\n",
       "      <th></th>\n",
       "      <th></th>\n",
       "      <th></th>\n",
       "      <th></th>\n",
       "    </tr>\n",
       "  </thead>\n",
       "  <tbody>\n",
       "    <tr>\n",
       "      <th>Como</th>\n",
       "      <td>city_idx.1</td>\n",
       "      <td>city_idx</td>\n",
       "      <td>34</td>\n",
       "      <td>30</td>\n",
       "      <td>0.184211</td>\n",
       "      <td>0.164835</td>\n",
       "    </tr>\n",
       "    <tr>\n",
       "      <th>Dublin</th>\n",
       "      <td>city_idx.4</td>\n",
       "      <td>city_idx</td>\n",
       "      <td>265</td>\n",
       "      <td>1035</td>\n",
       "      <td>0.252908</td>\n",
       "      <td>0.041650</td>\n",
       "    </tr>\n",
       "    <tr>\n",
       "      <th>Copenhagen</th>\n",
       "      <td>city_idx.7</td>\n",
       "      <td>city_idx</td>\n",
       "      <td>127</td>\n",
       "      <td>572</td>\n",
       "      <td>0.289528</td>\n",
       "      <td>0.057278</td>\n",
       "    </tr>\n",
       "    <tr>\n",
       "      <th>Vienna</th>\n",
       "      <td>city_idx.8</td>\n",
       "      <td>city_idx</td>\n",
       "      <td>379</td>\n",
       "      <td>1282</td>\n",
       "      <td>0.291105</td>\n",
       "      <td>0.037876</td>\n",
       "    </tr>\n",
       "    <tr>\n",
       "      <th>Barcelona</th>\n",
       "      <td>city_idx.6</td>\n",
       "      <td>city_idx</td>\n",
       "      <td>640</td>\n",
       "      <td>1652</td>\n",
       "      <td>0.291691</td>\n",
       "      <td>0.029938</td>\n",
       "    </tr>\n",
       "  </tbody>\n",
       "</table>\n",
       "</div>"
      ],
      "text/plain": [
       "               feature   sub_key  total_class  total_individuals  \\\n",
       "sub                                                                \n",
       "Como        city_idx.1  city_idx  34           30                  \n",
       "Dublin      city_idx.4  city_idx  265          1035                \n",
       "Copenhagen  city_idx.7  city_idx  127          572                 \n",
       "Vienna      city_idx.8  city_idx  379          1282                \n",
       "Barcelona   city_idx.6  city_idx  640          1652                \n",
       "\n",
       "            true_positive_rate  true_positive_rate_C  \n",
       "sub                                                   \n",
       "Como        0.184211            0.164835              \n",
       "Dublin      0.252908            0.041650              \n",
       "Copenhagen  0.289528            0.057278              \n",
       "Vienna      0.291105            0.037876              \n",
       "Barcelona   0.291691            0.029938              "
      ]
     },
     "execution_count": 33,
     "metadata": {},
     "output_type": "execute_result"
    }
   ],
   "source": [
    "df_metrics.head()"
   ]
  },
  {
   "cell_type": "code",
   "execution_count": null,
   "metadata": {},
   "outputs": [],
   "source": []
  },
  {
   "cell_type": "markdown",
   "metadata": {},
   "source": [
    "#### Feature Device"
   ]
  },
  {
   "cell_type": "code",
   "execution_count": 34,
   "metadata": {},
   "outputs": [],
   "source": [
    "input_models_eval = 'InteractionTraining____mars_gym_model_b___logit_multipli_9dd8714dfd_96b9d686ee'\n",
    "df_instances      = load_fairness_df().loc[input_models_eval]\n",
    "\n",
    "input_features    = 'device_idx'\n",
    "input_metrics     = 'true_positive_rate'\n",
    "input_items_top = True\n",
    "input_items     = []"
   ]
  },
  {
   "cell_type": "code",
   "execution_count": null,
   "metadata": {},
   "outputs": [],
   "source": []
  },
  {
   "cell_type": "code",
   "execution_count": 35,
   "metadata": {},
   "outputs": [
    {
     "name": "stderr",
     "output_type": "stream",
     "text": [
      "/home/marlesson/anaconda3/lib/python3.7/site-packages/numpy/core/_methods.py:234: RuntimeWarning:\n",
      "\n",
      "Degrees of freedom <= 0 for slice\n",
      "\n",
      "/home/marlesson/anaconda3/lib/python3.7/site-packages/numpy/core/_methods.py:226: RuntimeWarning:\n",
      "\n",
      "invalid value encountered in double_scalars\n",
      "\n"
     ]
    },
    {
     "data": {
      "application/vnd.plotly.v1+json": {
       "config": {
        "plotlyServerURL": "https://plot.ly"
       },
       "data": [
        {
         "error_y": {
          "array": [
           0.014036470388890544,
           0.060212925815169425,
           0.10332698899204755,
           0.0959358085637333,
           0.07321121520045266
          ],
          "type": "data"
         },
         "name": "Desktop",
         "type": "bar",
         "x": [
          "ID:371",
          "ID:6085",
          "ID:367",
          "ID:1628",
          "ID:253"
         ],
         "y": [
          0.06323620701829592,
          0.22016996845151438,
          0.142281240497071,
          0.14953048378229142,
          0.3343912796236766
         ]
        },
        {
         "error_y": {
          "array": [
           0.11677800265583932,
           0.055632390434544036,
           0.029213313471479974,
           0.07462909997845024,
           0.08317211170852465
          ],
          "type": "data"
         },
         "name": "Mobile",
         "type": "bar",
         "x": [
          "ID:371",
          "ID:6085",
          "ID:367",
          "ID:1628",
          "ID:253"
         ],
         "y": [
          0.2983235341355043,
          0.24468733149546165,
          0.0761359004182336,
          0.15907974237842218,
          0.3029204527071367
         ]
        },
        {
         "error_y": {
          "array": [
           0.18454737007101824,
           0.19135757350732704,
           0.17778834011917766,
           0.030325356749184643,
           0.1608608491907772
          ],
          "type": "data"
         },
         "name": "Tablet",
         "type": "bar",
         "x": [
          "ID:371",
          "ID:6085",
          "ID:367",
          "ID:1628",
          "ID:253"
         ],
         "y": [
          0.17655574902892113,
          0.33074622314709884,
          0.13608611188828945,
          0.09330697770097426,
          0.34038441663142294
         ]
        }
       ],
       "layout": {
        "font": {
         "family": "Courier New, monospace",
         "size": 21
        },
        "height": 600,
        "legend": {
         "orientation": "h",
         "y": -0.2
        },
        "shapes": [
         {
          "line": {
           "dash": "dot",
           "width": 1
          },
          "type": "line",
          "x0": 0,
          "x1": 1,
          "xref": "paper",
          "y0": 0.20452237459362096,
          "y1": 0.20452237459362096,
          "yref": "y"
         }
        ],
        "template": {
         "data": {
          "bar": [
           {
            "error_x": {
             "color": "#2a3f5f"
            },
            "error_y": {
             "color": "#2a3f5f"
            },
            "marker": {
             "line": {
              "color": "white",
              "width": 0.5
             }
            },
            "type": "bar"
           }
          ],
          "barpolar": [
           {
            "marker": {
             "line": {
              "color": "white",
              "width": 0.5
             }
            },
            "type": "barpolar"
           }
          ],
          "carpet": [
           {
            "aaxis": {
             "endlinecolor": "#2a3f5f",
             "gridcolor": "#C8D4E3",
             "linecolor": "#C8D4E3",
             "minorgridcolor": "#C8D4E3",
             "startlinecolor": "#2a3f5f"
            },
            "baxis": {
             "endlinecolor": "#2a3f5f",
             "gridcolor": "#C8D4E3",
             "linecolor": "#C8D4E3",
             "minorgridcolor": "#C8D4E3",
             "startlinecolor": "#2a3f5f"
            },
            "type": "carpet"
           }
          ],
          "choropleth": [
           {
            "colorbar": {
             "outlinewidth": 0,
             "ticks": ""
            },
            "type": "choropleth"
           }
          ],
          "contour": [
           {
            "colorbar": {
             "outlinewidth": 0,
             "ticks": ""
            },
            "colorscale": [
             [
              0,
              "#0d0887"
             ],
             [
              0.1111111111111111,
              "#46039f"
             ],
             [
              0.2222222222222222,
              "#7201a8"
             ],
             [
              0.3333333333333333,
              "#9c179e"
             ],
             [
              0.4444444444444444,
              "#bd3786"
             ],
             [
              0.5555555555555556,
              "#d8576b"
             ],
             [
              0.6666666666666666,
              "#ed7953"
             ],
             [
              0.7777777777777778,
              "#fb9f3a"
             ],
             [
              0.8888888888888888,
              "#fdca26"
             ],
             [
              1,
              "#f0f921"
             ]
            ],
            "type": "contour"
           }
          ],
          "contourcarpet": [
           {
            "colorbar": {
             "outlinewidth": 0,
             "ticks": ""
            },
            "type": "contourcarpet"
           }
          ],
          "heatmap": [
           {
            "colorbar": {
             "outlinewidth": 0,
             "ticks": ""
            },
            "colorscale": [
             [
              0,
              "#0d0887"
             ],
             [
              0.1111111111111111,
              "#46039f"
             ],
             [
              0.2222222222222222,
              "#7201a8"
             ],
             [
              0.3333333333333333,
              "#9c179e"
             ],
             [
              0.4444444444444444,
              "#bd3786"
             ],
             [
              0.5555555555555556,
              "#d8576b"
             ],
             [
              0.6666666666666666,
              "#ed7953"
             ],
             [
              0.7777777777777778,
              "#fb9f3a"
             ],
             [
              0.8888888888888888,
              "#fdca26"
             ],
             [
              1,
              "#f0f921"
             ]
            ],
            "type": "heatmap"
           }
          ],
          "heatmapgl": [
           {
            "colorbar": {
             "outlinewidth": 0,
             "ticks": ""
            },
            "colorscale": [
             [
              0,
              "#0d0887"
             ],
             [
              0.1111111111111111,
              "#46039f"
             ],
             [
              0.2222222222222222,
              "#7201a8"
             ],
             [
              0.3333333333333333,
              "#9c179e"
             ],
             [
              0.4444444444444444,
              "#bd3786"
             ],
             [
              0.5555555555555556,
              "#d8576b"
             ],
             [
              0.6666666666666666,
              "#ed7953"
             ],
             [
              0.7777777777777778,
              "#fb9f3a"
             ],
             [
              0.8888888888888888,
              "#fdca26"
             ],
             [
              1,
              "#f0f921"
             ]
            ],
            "type": "heatmapgl"
           }
          ],
          "histogram": [
           {
            "marker": {
             "colorbar": {
              "outlinewidth": 0,
              "ticks": ""
             }
            },
            "type": "histogram"
           }
          ],
          "histogram2d": [
           {
            "colorbar": {
             "outlinewidth": 0,
             "ticks": ""
            },
            "colorscale": [
             [
              0,
              "#0d0887"
             ],
             [
              0.1111111111111111,
              "#46039f"
             ],
             [
              0.2222222222222222,
              "#7201a8"
             ],
             [
              0.3333333333333333,
              "#9c179e"
             ],
             [
              0.4444444444444444,
              "#bd3786"
             ],
             [
              0.5555555555555556,
              "#d8576b"
             ],
             [
              0.6666666666666666,
              "#ed7953"
             ],
             [
              0.7777777777777778,
              "#fb9f3a"
             ],
             [
              0.8888888888888888,
              "#fdca26"
             ],
             [
              1,
              "#f0f921"
             ]
            ],
            "type": "histogram2d"
           }
          ],
          "histogram2dcontour": [
           {
            "colorbar": {
             "outlinewidth": 0,
             "ticks": ""
            },
            "colorscale": [
             [
              0,
              "#0d0887"
             ],
             [
              0.1111111111111111,
              "#46039f"
             ],
             [
              0.2222222222222222,
              "#7201a8"
             ],
             [
              0.3333333333333333,
              "#9c179e"
             ],
             [
              0.4444444444444444,
              "#bd3786"
             ],
             [
              0.5555555555555556,
              "#d8576b"
             ],
             [
              0.6666666666666666,
              "#ed7953"
             ],
             [
              0.7777777777777778,
              "#fb9f3a"
             ],
             [
              0.8888888888888888,
              "#fdca26"
             ],
             [
              1,
              "#f0f921"
             ]
            ],
            "type": "histogram2dcontour"
           }
          ],
          "mesh3d": [
           {
            "colorbar": {
             "outlinewidth": 0,
             "ticks": ""
            },
            "type": "mesh3d"
           }
          ],
          "parcoords": [
           {
            "line": {
             "colorbar": {
              "outlinewidth": 0,
              "ticks": ""
             }
            },
            "type": "parcoords"
           }
          ],
          "pie": [
           {
            "automargin": true,
            "type": "pie"
           }
          ],
          "scatter": [
           {
            "marker": {
             "colorbar": {
              "outlinewidth": 0,
              "ticks": ""
             }
            },
            "type": "scatter"
           }
          ],
          "scatter3d": [
           {
            "line": {
             "colorbar": {
              "outlinewidth": 0,
              "ticks": ""
             }
            },
            "marker": {
             "colorbar": {
              "outlinewidth": 0,
              "ticks": ""
             }
            },
            "type": "scatter3d"
           }
          ],
          "scattercarpet": [
           {
            "marker": {
             "colorbar": {
              "outlinewidth": 0,
              "ticks": ""
             }
            },
            "type": "scattercarpet"
           }
          ],
          "scattergeo": [
           {
            "marker": {
             "colorbar": {
              "outlinewidth": 0,
              "ticks": ""
             }
            },
            "type": "scattergeo"
           }
          ],
          "scattergl": [
           {
            "marker": {
             "colorbar": {
              "outlinewidth": 0,
              "ticks": ""
             }
            },
            "type": "scattergl"
           }
          ],
          "scattermapbox": [
           {
            "marker": {
             "colorbar": {
              "outlinewidth": 0,
              "ticks": ""
             }
            },
            "type": "scattermapbox"
           }
          ],
          "scatterpolar": [
           {
            "marker": {
             "colorbar": {
              "outlinewidth": 0,
              "ticks": ""
             }
            },
            "type": "scatterpolar"
           }
          ],
          "scatterpolargl": [
           {
            "marker": {
             "colorbar": {
              "outlinewidth": 0,
              "ticks": ""
             }
            },
            "type": "scatterpolargl"
           }
          ],
          "scatterternary": [
           {
            "marker": {
             "colorbar": {
              "outlinewidth": 0,
              "ticks": ""
             }
            },
            "type": "scatterternary"
           }
          ],
          "surface": [
           {
            "colorbar": {
             "outlinewidth": 0,
             "ticks": ""
            },
            "colorscale": [
             [
              0,
              "#0d0887"
             ],
             [
              0.1111111111111111,
              "#46039f"
             ],
             [
              0.2222222222222222,
              "#7201a8"
             ],
             [
              0.3333333333333333,
              "#9c179e"
             ],
             [
              0.4444444444444444,
              "#bd3786"
             ],
             [
              0.5555555555555556,
              "#d8576b"
             ],
             [
              0.6666666666666666,
              "#ed7953"
             ],
             [
              0.7777777777777778,
              "#fb9f3a"
             ],
             [
              0.8888888888888888,
              "#fdca26"
             ],
             [
              1,
              "#f0f921"
             ]
            ],
            "type": "surface"
           }
          ],
          "table": [
           {
            "cells": {
             "fill": {
              "color": "#EBF0F8"
             },
             "line": {
              "color": "white"
             }
            },
            "header": {
             "fill": {
              "color": "#C8D4E3"
             },
             "line": {
              "color": "white"
             }
            },
            "type": "table"
           }
          ]
         },
         "layout": {
          "annotationdefaults": {
           "arrowcolor": "#2a3f5f",
           "arrowhead": 0,
           "arrowwidth": 1
          },
          "coloraxis": {
           "colorbar": {
            "outlinewidth": 0,
            "ticks": ""
           }
          },
          "colorscale": {
           "diverging": [
            [
             0,
             "#8e0152"
            ],
            [
             0.1,
             "#c51b7d"
            ],
            [
             0.2,
             "#de77ae"
            ],
            [
             0.3,
             "#f1b6da"
            ],
            [
             0.4,
             "#fde0ef"
            ],
            [
             0.5,
             "#f7f7f7"
            ],
            [
             0.6,
             "#e6f5d0"
            ],
            [
             0.7,
             "#b8e186"
            ],
            [
             0.8,
             "#7fbc41"
            ],
            [
             0.9,
             "#4d9221"
            ],
            [
             1,
             "#276419"
            ]
           ],
           "sequential": [
            [
             0,
             "#0d0887"
            ],
            [
             0.1111111111111111,
             "#46039f"
            ],
            [
             0.2222222222222222,
             "#7201a8"
            ],
            [
             0.3333333333333333,
             "#9c179e"
            ],
            [
             0.4444444444444444,
             "#bd3786"
            ],
            [
             0.5555555555555556,
             "#d8576b"
            ],
            [
             0.6666666666666666,
             "#ed7953"
            ],
            [
             0.7777777777777778,
             "#fb9f3a"
            ],
            [
             0.8888888888888888,
             "#fdca26"
            ],
            [
             1,
             "#f0f921"
            ]
           ],
           "sequentialminus": [
            [
             0,
             "#0d0887"
            ],
            [
             0.1111111111111111,
             "#46039f"
            ],
            [
             0.2222222222222222,
             "#7201a8"
            ],
            [
             0.3333333333333333,
             "#9c179e"
            ],
            [
             0.4444444444444444,
             "#bd3786"
            ],
            [
             0.5555555555555556,
             "#d8576b"
            ],
            [
             0.6666666666666666,
             "#ed7953"
            ],
            [
             0.7777777777777778,
             "#fb9f3a"
            ],
            [
             0.8888888888888888,
             "#fdca26"
            ],
            [
             1,
             "#f0f921"
            ]
           ]
          },
          "colorway": [
           "#636efa",
           "#EF553B",
           "#00cc96",
           "#ab63fa",
           "#FFA15A",
           "#19d3f3",
           "#FF6692",
           "#B6E880",
           "#FF97FF",
           "#FECB52"
          ],
          "font": {
           "color": "#2a3f5f"
          },
          "geo": {
           "bgcolor": "white",
           "lakecolor": "white",
           "landcolor": "white",
           "showlakes": true,
           "showland": true,
           "subunitcolor": "#C8D4E3"
          },
          "hoverlabel": {
           "align": "left"
          },
          "hovermode": "closest",
          "mapbox": {
           "style": "light"
          },
          "paper_bgcolor": "white",
          "plot_bgcolor": "white",
          "polar": {
           "angularaxis": {
            "gridcolor": "#EBF0F8",
            "linecolor": "#EBF0F8",
            "ticks": ""
           },
           "bgcolor": "white",
           "radialaxis": {
            "gridcolor": "#EBF0F8",
            "linecolor": "#EBF0F8",
            "ticks": ""
           }
          },
          "scene": {
           "xaxis": {
            "backgroundcolor": "white",
            "gridcolor": "#DFE8F3",
            "gridwidth": 2,
            "linecolor": "#EBF0F8",
            "showbackground": true,
            "ticks": "",
            "zerolinecolor": "#EBF0F8"
           },
           "yaxis": {
            "backgroundcolor": "white",
            "gridcolor": "#DFE8F3",
            "gridwidth": 2,
            "linecolor": "#EBF0F8",
            "showbackground": true,
            "ticks": "",
            "zerolinecolor": "#EBF0F8"
           },
           "zaxis": {
            "backgroundcolor": "white",
            "gridcolor": "#DFE8F3",
            "gridwidth": 2,
            "linecolor": "#EBF0F8",
            "showbackground": true,
            "ticks": "",
            "zerolinecolor": "#EBF0F8"
           }
          },
          "shapedefaults": {
           "line": {
            "color": "#2a3f5f"
           }
          },
          "ternary": {
           "aaxis": {
            "gridcolor": "#DFE8F3",
            "linecolor": "#A2B1C6",
            "ticks": ""
           },
           "baxis": {
            "gridcolor": "#DFE8F3",
            "linecolor": "#A2B1C6",
            "ticks": ""
           },
           "bgcolor": "white",
           "caxis": {
            "gridcolor": "#DFE8F3",
            "linecolor": "#A2B1C6",
            "ticks": ""
           }
          },
          "title": {
           "x": 0.05
          },
          "xaxis": {
           "automargin": true,
           "gridcolor": "#EBF0F8",
           "linecolor": "#EBF0F8",
           "ticks": "",
           "title": {
            "standoff": 15
           },
           "zerolinecolor": "#EBF0F8",
           "zerolinewidth": 2
          },
          "yaxis": {
           "automargin": true,
           "gridcolor": "#EBF0F8",
           "linecolor": "#EBF0F8",
           "ticks": "",
           "title": {
            "standoff": 15
           },
           "zerolinecolor": "#EBF0F8",
           "zerolinewidth": 2
          }
         }
        },
        "title": {
         "text": ""
        },
        "xaxis": {
         "title": {
          "text": "Hotel"
         }
        },
        "yaxis": {
         "nticks": 5,
         "title": {
          "text": "rhat_scores"
         }
        }
       }
      },
      "text/html": [
       "<div>\n",
       "        \n",
       "        \n",
       "            <div id=\"0ca56f5e-cb94-4619-a6ea-0962f9b5d211\" class=\"plotly-graph-div\" style=\"height:600px; width:100%;\"></div>\n",
       "            <script type=\"text/javascript\">\n",
       "                require([\"plotly\"], function(Plotly) {\n",
       "                    window.PLOTLYENV=window.PLOTLYENV || {};\n",
       "                    \n",
       "                if (document.getElementById(\"0ca56f5e-cb94-4619-a6ea-0962f9b5d211\")) {\n",
       "                    Plotly.newPlot(\n",
       "                        '0ca56f5e-cb94-4619-a6ea-0962f9b5d211',\n",
       "                        [{\"error_y\": {\"array\": [0.014036470388890544, 0.060212925815169425, 0.10332698899204755, 0.0959358085637333, 0.07321121520045266], \"type\": \"data\"}, \"name\": \"Desktop\", \"type\": \"bar\", \"x\": [\"ID:371\", \"ID:6085\", \"ID:367\", \"ID:1628\", \"ID:253\"], \"y\": [0.06323620701829592, 0.22016996845151438, 0.142281240497071, 0.14953048378229142, 0.3343912796236766]}, {\"error_y\": {\"array\": [0.11677800265583932, 0.055632390434544036, 0.029213313471479974, 0.07462909997845024, 0.08317211170852465], \"type\": \"data\"}, \"name\": \"Mobile\", \"type\": \"bar\", \"x\": [\"ID:371\", \"ID:6085\", \"ID:367\", \"ID:1628\", \"ID:253\"], \"y\": [0.2983235341355043, 0.24468733149546165, 0.0761359004182336, 0.15907974237842218, 0.3029204527071367]}, {\"error_y\": {\"array\": [0.18454737007101824, 0.19135757350732704, 0.17778834011917766, 0.030325356749184643, 0.1608608491907772], \"type\": \"data\"}, \"name\": \"Tablet\", \"type\": \"bar\", \"x\": [\"ID:371\", \"ID:6085\", \"ID:367\", \"ID:1628\", \"ID:253\"], \"y\": [0.17655574902892113, 0.33074622314709884, 0.13608611188828945, 0.09330697770097426, 0.34038441663142294]}],\n",
       "                        {\"font\": {\"family\": \"Courier New, monospace\", \"size\": 21}, \"height\": 600, \"legend\": {\"orientation\": \"h\", \"y\": -0.2}, \"shapes\": [{\"line\": {\"dash\": \"dot\", \"width\": 1}, \"type\": \"line\", \"x0\": 0, \"x1\": 1, \"xref\": \"paper\", \"y0\": 0.20452237459362096, \"y1\": 0.20452237459362096, \"yref\": \"y\"}], \"template\": {\"data\": {\"bar\": [{\"error_x\": {\"color\": \"#2a3f5f\"}, \"error_y\": {\"color\": \"#2a3f5f\"}, \"marker\": {\"line\": {\"color\": \"white\", \"width\": 0.5}}, \"type\": \"bar\"}], \"barpolar\": [{\"marker\": {\"line\": {\"color\": \"white\", \"width\": 0.5}}, \"type\": \"barpolar\"}], \"carpet\": [{\"aaxis\": {\"endlinecolor\": \"#2a3f5f\", \"gridcolor\": \"#C8D4E3\", \"linecolor\": \"#C8D4E3\", \"minorgridcolor\": \"#C8D4E3\", \"startlinecolor\": \"#2a3f5f\"}, \"baxis\": {\"endlinecolor\": \"#2a3f5f\", \"gridcolor\": \"#C8D4E3\", \"linecolor\": \"#C8D4E3\", \"minorgridcolor\": \"#C8D4E3\", \"startlinecolor\": \"#2a3f5f\"}, \"type\": \"carpet\"}], \"choropleth\": [{\"colorbar\": {\"outlinewidth\": 0, \"ticks\": \"\"}, \"type\": \"choropleth\"}], \"contour\": [{\"colorbar\": {\"outlinewidth\": 0, \"ticks\": \"\"}, \"colorscale\": [[0.0, \"#0d0887\"], [0.1111111111111111, \"#46039f\"], [0.2222222222222222, \"#7201a8\"], [0.3333333333333333, \"#9c179e\"], [0.4444444444444444, \"#bd3786\"], [0.5555555555555556, \"#d8576b\"], [0.6666666666666666, \"#ed7953\"], [0.7777777777777778, \"#fb9f3a\"], [0.8888888888888888, \"#fdca26\"], [1.0, \"#f0f921\"]], \"type\": \"contour\"}], \"contourcarpet\": [{\"colorbar\": {\"outlinewidth\": 0, \"ticks\": \"\"}, \"type\": \"contourcarpet\"}], \"heatmap\": [{\"colorbar\": {\"outlinewidth\": 0, \"ticks\": \"\"}, \"colorscale\": [[0.0, \"#0d0887\"], [0.1111111111111111, \"#46039f\"], [0.2222222222222222, \"#7201a8\"], [0.3333333333333333, \"#9c179e\"], [0.4444444444444444, \"#bd3786\"], [0.5555555555555556, \"#d8576b\"], [0.6666666666666666, \"#ed7953\"], [0.7777777777777778, \"#fb9f3a\"], [0.8888888888888888, \"#fdca26\"], [1.0, \"#f0f921\"]], \"type\": \"heatmap\"}], \"heatmapgl\": [{\"colorbar\": {\"outlinewidth\": 0, \"ticks\": \"\"}, \"colorscale\": [[0.0, \"#0d0887\"], [0.1111111111111111, \"#46039f\"], [0.2222222222222222, \"#7201a8\"], [0.3333333333333333, \"#9c179e\"], [0.4444444444444444, \"#bd3786\"], [0.5555555555555556, \"#d8576b\"], [0.6666666666666666, \"#ed7953\"], [0.7777777777777778, \"#fb9f3a\"], [0.8888888888888888, \"#fdca26\"], [1.0, \"#f0f921\"]], \"type\": \"heatmapgl\"}], \"histogram\": [{\"marker\": {\"colorbar\": {\"outlinewidth\": 0, \"ticks\": \"\"}}, \"type\": \"histogram\"}], \"histogram2d\": [{\"colorbar\": {\"outlinewidth\": 0, \"ticks\": \"\"}, \"colorscale\": [[0.0, \"#0d0887\"], [0.1111111111111111, \"#46039f\"], [0.2222222222222222, \"#7201a8\"], [0.3333333333333333, \"#9c179e\"], [0.4444444444444444, \"#bd3786\"], [0.5555555555555556, \"#d8576b\"], [0.6666666666666666, \"#ed7953\"], [0.7777777777777778, \"#fb9f3a\"], [0.8888888888888888, \"#fdca26\"], [1.0, \"#f0f921\"]], \"type\": \"histogram2d\"}], \"histogram2dcontour\": [{\"colorbar\": {\"outlinewidth\": 0, \"ticks\": \"\"}, \"colorscale\": [[0.0, \"#0d0887\"], [0.1111111111111111, \"#46039f\"], [0.2222222222222222, \"#7201a8\"], [0.3333333333333333, \"#9c179e\"], [0.4444444444444444, \"#bd3786\"], [0.5555555555555556, \"#d8576b\"], [0.6666666666666666, \"#ed7953\"], [0.7777777777777778, \"#fb9f3a\"], [0.8888888888888888, \"#fdca26\"], [1.0, \"#f0f921\"]], \"type\": \"histogram2dcontour\"}], \"mesh3d\": [{\"colorbar\": {\"outlinewidth\": 0, \"ticks\": \"\"}, \"type\": \"mesh3d\"}], \"parcoords\": [{\"line\": {\"colorbar\": {\"outlinewidth\": 0, \"ticks\": \"\"}}, \"type\": \"parcoords\"}], \"pie\": [{\"automargin\": true, \"type\": \"pie\"}], \"scatter\": [{\"marker\": {\"colorbar\": {\"outlinewidth\": 0, \"ticks\": \"\"}}, \"type\": \"scatter\"}], \"scatter3d\": [{\"line\": {\"colorbar\": {\"outlinewidth\": 0, \"ticks\": \"\"}}, \"marker\": {\"colorbar\": {\"outlinewidth\": 0, \"ticks\": \"\"}}, \"type\": \"scatter3d\"}], \"scattercarpet\": [{\"marker\": {\"colorbar\": {\"outlinewidth\": 0, \"ticks\": \"\"}}, \"type\": \"scattercarpet\"}], \"scattergeo\": [{\"marker\": {\"colorbar\": {\"outlinewidth\": 0, \"ticks\": \"\"}}, \"type\": \"scattergeo\"}], \"scattergl\": [{\"marker\": {\"colorbar\": {\"outlinewidth\": 0, \"ticks\": \"\"}}, \"type\": \"scattergl\"}], \"scattermapbox\": [{\"marker\": {\"colorbar\": {\"outlinewidth\": 0, \"ticks\": \"\"}}, \"type\": \"scattermapbox\"}], \"scatterpolar\": [{\"marker\": {\"colorbar\": {\"outlinewidth\": 0, \"ticks\": \"\"}}, \"type\": \"scatterpolar\"}], \"scatterpolargl\": [{\"marker\": {\"colorbar\": {\"outlinewidth\": 0, \"ticks\": \"\"}}, \"type\": \"scatterpolargl\"}], \"scatterternary\": [{\"marker\": {\"colorbar\": {\"outlinewidth\": 0, \"ticks\": \"\"}}, \"type\": \"scatterternary\"}], \"surface\": [{\"colorbar\": {\"outlinewidth\": 0, \"ticks\": \"\"}, \"colorscale\": [[0.0, \"#0d0887\"], [0.1111111111111111, \"#46039f\"], [0.2222222222222222, \"#7201a8\"], [0.3333333333333333, \"#9c179e\"], [0.4444444444444444, \"#bd3786\"], [0.5555555555555556, \"#d8576b\"], [0.6666666666666666, \"#ed7953\"], [0.7777777777777778, \"#fb9f3a\"], [0.8888888888888888, \"#fdca26\"], [1.0, \"#f0f921\"]], \"type\": \"surface\"}], \"table\": [{\"cells\": {\"fill\": {\"color\": \"#EBF0F8\"}, \"line\": {\"color\": \"white\"}}, \"header\": {\"fill\": {\"color\": \"#C8D4E3\"}, \"line\": {\"color\": \"white\"}}, \"type\": \"table\"}]}, \"layout\": {\"annotationdefaults\": {\"arrowcolor\": \"#2a3f5f\", \"arrowhead\": 0, \"arrowwidth\": 1}, \"coloraxis\": {\"colorbar\": {\"outlinewidth\": 0, \"ticks\": \"\"}}, \"colorscale\": {\"diverging\": [[0, \"#8e0152\"], [0.1, \"#c51b7d\"], [0.2, \"#de77ae\"], [0.3, \"#f1b6da\"], [0.4, \"#fde0ef\"], [0.5, \"#f7f7f7\"], [0.6, \"#e6f5d0\"], [0.7, \"#b8e186\"], [0.8, \"#7fbc41\"], [0.9, \"#4d9221\"], [1, \"#276419\"]], \"sequential\": [[0.0, \"#0d0887\"], [0.1111111111111111, \"#46039f\"], [0.2222222222222222, \"#7201a8\"], [0.3333333333333333, \"#9c179e\"], [0.4444444444444444, \"#bd3786\"], [0.5555555555555556, \"#d8576b\"], [0.6666666666666666, \"#ed7953\"], [0.7777777777777778, \"#fb9f3a\"], [0.8888888888888888, \"#fdca26\"], [1.0, \"#f0f921\"]], \"sequentialminus\": [[0.0, \"#0d0887\"], [0.1111111111111111, \"#46039f\"], [0.2222222222222222, \"#7201a8\"], [0.3333333333333333, \"#9c179e\"], [0.4444444444444444, \"#bd3786\"], [0.5555555555555556, \"#d8576b\"], [0.6666666666666666, \"#ed7953\"], [0.7777777777777778, \"#fb9f3a\"], [0.8888888888888888, \"#fdca26\"], [1.0, \"#f0f921\"]]}, \"colorway\": [\"#636efa\", \"#EF553B\", \"#00cc96\", \"#ab63fa\", \"#FFA15A\", \"#19d3f3\", \"#FF6692\", \"#B6E880\", \"#FF97FF\", \"#FECB52\"], \"font\": {\"color\": \"#2a3f5f\"}, \"geo\": {\"bgcolor\": \"white\", \"lakecolor\": \"white\", \"landcolor\": \"white\", \"showlakes\": true, \"showland\": true, \"subunitcolor\": \"#C8D4E3\"}, \"hoverlabel\": {\"align\": \"left\"}, \"hovermode\": \"closest\", \"mapbox\": {\"style\": \"light\"}, \"paper_bgcolor\": \"white\", \"plot_bgcolor\": \"white\", \"polar\": {\"angularaxis\": {\"gridcolor\": \"#EBF0F8\", \"linecolor\": \"#EBF0F8\", \"ticks\": \"\"}, \"bgcolor\": \"white\", \"radialaxis\": {\"gridcolor\": \"#EBF0F8\", \"linecolor\": \"#EBF0F8\", \"ticks\": \"\"}}, \"scene\": {\"xaxis\": {\"backgroundcolor\": \"white\", \"gridcolor\": \"#DFE8F3\", \"gridwidth\": 2, \"linecolor\": \"#EBF0F8\", \"showbackground\": true, \"ticks\": \"\", \"zerolinecolor\": \"#EBF0F8\"}, \"yaxis\": {\"backgroundcolor\": \"white\", \"gridcolor\": \"#DFE8F3\", \"gridwidth\": 2, \"linecolor\": \"#EBF0F8\", \"showbackground\": true, \"ticks\": \"\", \"zerolinecolor\": \"#EBF0F8\"}, \"zaxis\": {\"backgroundcolor\": \"white\", \"gridcolor\": \"#DFE8F3\", \"gridwidth\": 2, \"linecolor\": \"#EBF0F8\", \"showbackground\": true, \"ticks\": \"\", \"zerolinecolor\": \"#EBF0F8\"}}, \"shapedefaults\": {\"line\": {\"color\": \"#2a3f5f\"}}, \"ternary\": {\"aaxis\": {\"gridcolor\": \"#DFE8F3\", \"linecolor\": \"#A2B1C6\", \"ticks\": \"\"}, \"baxis\": {\"gridcolor\": \"#DFE8F3\", \"linecolor\": \"#A2B1C6\", \"ticks\": \"\"}, \"bgcolor\": \"white\", \"caxis\": {\"gridcolor\": \"#DFE8F3\", \"linecolor\": \"#A2B1C6\", \"ticks\": \"\"}}, \"title\": {\"x\": 0.05}, \"xaxis\": {\"automargin\": true, \"gridcolor\": \"#EBF0F8\", \"linecolor\": \"#EBF0F8\", \"ticks\": \"\", \"title\": {\"standoff\": 15}, \"zerolinecolor\": \"#EBF0F8\", \"zerolinewidth\": 2}, \"yaxis\": {\"automargin\": true, \"gridcolor\": \"#EBF0F8\", \"linecolor\": \"#EBF0F8\", \"ticks\": \"\", \"title\": {\"standoff\": 15}, \"zerolinecolor\": \"#EBF0F8\", \"zerolinewidth\": 2}}}, \"title\": {\"text\": \"\"}, \"xaxis\": {\"title\": {\"text\": \"Hotel\"}}, \"yaxis\": {\"nticks\": 5, \"title\": {\"text\": \"rhat_scores\"}}},\n",
       "                        {\"responsive\": true}\n",
       "                    ).then(function(){\n",
       "                            \n",
       "var gd = document.getElementById('0ca56f5e-cb94-4619-a6ea-0962f9b5d211');\n",
       "var x = new MutationObserver(function (mutations, observer) {{\n",
       "        var display = window.getComputedStyle(gd).display;\n",
       "        if (!display || display === 'none') {{\n",
       "            console.log([gd, 'removed!']);\n",
       "            Plotly.purge(gd);\n",
       "            observer.disconnect();\n",
       "        }}\n",
       "}});\n",
       "\n",
       "// Listen for the removal of the full notebook cells\n",
       "var notebookContainer = gd.closest('#notebook-container');\n",
       "if (notebookContainer) {{\n",
       "    x.observe(notebookContainer, {childList: true});\n",
       "}}\n",
       "\n",
       "// Listen for the clearing of the current output cell\n",
       "var outputEl = gd.closest('.output');\n",
       "if (outputEl) {{\n",
       "    x.observe(outputEl, {childList: true});\n",
       "}}\n",
       "\n",
       "                        })\n",
       "                };\n",
       "                });\n",
       "            </script>\n",
       "        </div>"
      ]
     },
     "metadata": {},
     "output_type": "display_data"
    }
   ],
   "source": [
    "fig = plot_fairness_treatment(df_instances, input_features, input_items, top=input_items_top, title=\"\", legend={\"0\": \"Desktop\", \"1\": \"Mobile\", \"2\": \"Tablet\"})\n",
    "fig.update_layout(font={'family': 'Courier New, monospace', 'size': 21}, height=600)\n",
    "\n",
    "\n",
    "\n",
    "# Set custom x-axis labels\n",
    "fig.update_yaxes(nticks=5)\n",
    "fig.update_layout(xaxis_title=\"Hotel\")\n",
    "\n",
    "fig.show()\n",
    "#fig.show(renderer=\"svg\")\n",
    "#fig.write_image(\"output/tmp/metrics/paper/recsys_fairnes_impact_{}.eps\".format(input_features))    "
   ]
  },
  {
   "cell_type": "code",
   "execution_count": null,
   "metadata": {},
   "outputs": [],
   "source": []
  }
 ],
 "metadata": {
  "kernelspec": {
   "display_name": "Python 3.7.3 64-bit ('base': conda)",
   "language": "python",
   "name": "python37364bitbaseconda71fa0390d2e947479e80d6476a063090"
  },
  "language_info": {
   "codemirror_mode": {
    "name": "ipython",
    "version": 3
   },
   "file_extension": ".py",
   "mimetype": "text/x-python",
   "name": "python",
   "nbconvert_exporter": "python",
   "pygments_lexer": "ipython3",
   "version": "3.7.3"
  },
  "toc": {
   "base_numbering": 1,
   "nav_menu": {},
   "number_sections": true,
   "sideBar": true,
   "skip_h1_title": false,
   "title_cell": "Table of Contents",
   "title_sidebar": "Contents",
   "toc_cell": false,
   "toc_position": {},
   "toc_section_display": true,
   "toc_window_display": false
  }
 },
 "nbformat": 4,
 "nbformat_minor": 2
}

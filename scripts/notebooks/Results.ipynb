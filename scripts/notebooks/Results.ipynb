{
 "metadata": {
  "language_info": {
   "codemirror_mode": {
    "name": "ipython",
    "version": 3
   },
   "file_extension": ".py",
   "mimetype": "text/x-python",
   "name": "python",
   "nbconvert_exporter": "python",
   "pygments_lexer": "ipython3",
   "version": "3.6.10-final"
  },
  "orig_nbformat": 2,
  "kernelspec": {
   "name": "python_defaultSpec_1598789894145",
   "display_name": "Python 3.6.10 64-bit ('mars-gym-experiments': conda)"
  }
 },
 "nbformat": 4,
 "nbformat_minor": 2,
 "cells": [
  {
   "cell_type": "markdown",
   "metadata": {},
   "source": [
    "# MARS-Gym Experiments - Trivago Results"
   ]
  },
  {
   "cell_type": "code",
   "execution_count": 1,
   "metadata": {},
   "outputs": [],
   "source": [
    "\n",
    "import sys, os\n",
    "os.environ['PATH_EVALUATION'] =  \"../../output/evaluation/\"\n",
    "os.environ['PATH_EVAL_REINFORCEMENT'] =  \"../../output/interaction/\"\n",
    "os.environ['PATH_TRAIN'] =  \"../../output/models/\"\n",
    "\n",
    "#import plotly.graph_objects as go\n",
    "import numpy as np\n",
    "import pandas as pd\n",
    "import os\n",
    "import json\n",
    "from pandas.io.json import json_normalize\n",
    "import matplotlib.pyplot as plt\n",
    "import seaborn as sns\n",
    "\n",
    "from mars_gym.tools.eval_viz.app import fetch_iteraction_results_path, load_all_iteraction_metrics, fetch_results_path, load_data_metrics, load_eval_params, filter_df, load_fairness_metrics, load_fairness_df\n",
    "from mars_gym.tools.eval_viz.plot import plot_line_iteraction, plot_exploration_arm, get_colors, confidence, plot_bar\n",
    "from  mars_gym.tools.eval_viz.app import PATH_EVAL_REINFORCEMENT\n",
    "\n",
    "from util import list_paths_per_model, load_iteractions_params, get_metrics_reward, group_metrics, load_dataset, plot_cum_reward, plot_fairness_metrics, plot_fairness_mistreatment, plot_fairness_treatment\n",
    "\n"
   ]
  },
  {
   "cell_type": "markdown",
   "metadata": {},
   "source": [
    "This notebook includes all viz of paper **'MARS-Gym: A Gym framework to model, train, and evaluate recommendation systems for marketplaces'**  and can be used for reproducibility or example of framework usage. \n",
    "\n",
    "We need run some scripts before vizualise results:\n",
    "* scripts/simulation/chicago_usa_script.sh\n",
    "* scripts/metrics/metrics_chicago_usa_script.sh\n",
    "* scripts/metrics/fairness_recsys_script.sh"
   ]
  },
  {
   "cell_type": "markdown",
   "metadata": {},
   "source": [
    "## Load Results"
   ]
  },
  {
   "cell_type": "code",
   "execution_count": 2,
   "metadata": {
    "tags": []
   },
   "outputs": [
    {
     "output_type": "execute_result",
     "data": {
      "text/plain": "['../../output/interaction/InteractionTraining/results/InteractionTraining____mars_gym_model_b___alpha___1e_05__a06cfb73a9',\n '../../output/interaction/InteractionTraining/results/InteractionTraining____mars_gym_model_b___alpha___1e_05__f9e2903219',\n '../../output/interaction/InteractionTraining/results/InteractionTraining____mars_gym_model_b___exploration_th_6822e93237',\n '../../output/interaction/InteractionTraining/results/InteractionTraining____mars_gym_model_b___explore_rounds_0b659e17e7',\n '../../output/interaction/InteractionTraining/results/InteractionTraining____mars_gym_model_b___epsilon___0_1__76d6a2cc36']"
     },
     "metadata": {},
     "execution_count": 2
    }
   ],
   "source": [
    "result_paths = list_paths_per_model(PATH_EVAL_REINFORCEMENT)\n",
    "result_paths[:5]"
   ]
  },
  {
   "cell_type": "code",
   "execution_count": 3,
   "metadata": {},
   "outputs": [
    {
     "output_type": "execute_result",
     "data": {
      "text/plain": "  balance_fields                       bandit_policy_class  \\\n0  []             mars_gym.model.bandit.LinUCB               \n0  []             mars_gym.model.bandit.LinUCB               \n0  []             mars_gym.model.bandit.AdaptiveGreedy       \n0  []             mars_gym.model.bandit.ExploreThenExploit   \n0  []             mars_gym.model.bandit.EpsilonGreedy        \n\n   bandit_policy_params.alpha  bandit_policy_params.arg  \\\n0  0.00001                    NaN                         \n0  0.00001                    NaN                         \n0 NaN                         NaN                         \n0 NaN                         NaN                         \n0 NaN                         NaN                         \n\n   bandit_policy_params.decay_rate  bandit_policy_params.epsilon  \\\n0 NaN                              NaN                             \n0 NaN                              NaN                             \n0  0.000097                        NaN                             \n0  0.000187                        NaN                             \n0 NaN                               0.1                            \n\n   bandit_policy_params.exploration_threshold  \\\n0 NaN                                           \n0 NaN                                           \n0  0.7                                          \n0 NaN                                           \n0 NaN                                           \n\n   bandit_policy_params.explore_rounds  bandit_policy_params.logit_multiplier  \\\n0 NaN                                  NaN                                      \n0 NaN                                  NaN                                      \n0 NaN                                  NaN                                      \n0  1000.0                              NaN                                      \n0 NaN                                  NaN                                      \n\n   bandit_policy_params.v_sq  ...  sample_size sampling_strategy seed  \\\n0 NaN                         ... -1            none              5     \n0 NaN                         ... -1            none              3     \n0 NaN                         ... -1            none              1     \n0 NaN                         ... -1            none              2     \n0 NaN                         ... -1            none              5     \n\n   session_test_size split_index test_size  test_split_type  \\\n0  0.1                0           0.2       time              \n0  0.1                0           0.2       time              \n0  0.1                0           0.2       time              \n0  0.1                0           0.2       time              \n0  0.1                0           0.2       time              \n\n   use_sampling_in_validation  val_size  val_split_type  \n0  False                       0.2       random          \n0  False                       0.2       random          \n0  False                       0.2       random          \n0  False                       0.2       random          \n0  False                       0.2       random          \n\n[5 rows x 55 columns]",
      "text/html": "<div>\n<style scoped>\n    .dataframe tbody tr th:only-of-type {\n        vertical-align: middle;\n    }\n\n    .dataframe tbody tr th {\n        vertical-align: top;\n    }\n\n    .dataframe thead th {\n        text-align: right;\n    }\n</style>\n<table border=\"1\" class=\"dataframe\">\n  <thead>\n    <tr style=\"text-align: right;\">\n      <th></th>\n      <th>balance_fields</th>\n      <th>bandit_policy_class</th>\n      <th>bandit_policy_params.alpha</th>\n      <th>bandit_policy_params.arg</th>\n      <th>bandit_policy_params.decay_rate</th>\n      <th>bandit_policy_params.epsilon</th>\n      <th>bandit_policy_params.exploration_threshold</th>\n      <th>bandit_policy_params.explore_rounds</th>\n      <th>bandit_policy_params.logit_multiplier</th>\n      <th>bandit_policy_params.v_sq</th>\n      <th>...</th>\n      <th>sample_size</th>\n      <th>sampling_strategy</th>\n      <th>seed</th>\n      <th>session_test_size</th>\n      <th>split_index</th>\n      <th>test_size</th>\n      <th>test_split_type</th>\n      <th>use_sampling_in_validation</th>\n      <th>val_size</th>\n      <th>val_split_type</th>\n    </tr>\n  </thead>\n  <tbody>\n    <tr>\n      <th>0</th>\n      <td>[]</td>\n      <td>mars_gym.model.bandit.LinUCB</td>\n      <td>0.00001</td>\n      <td>NaN</td>\n      <td>NaN</td>\n      <td>NaN</td>\n      <td>NaN</td>\n      <td>NaN</td>\n      <td>NaN</td>\n      <td>NaN</td>\n      <td>...</td>\n      <td>-1</td>\n      <td>none</td>\n      <td>5</td>\n      <td>0.1</td>\n      <td>0</td>\n      <td>0.2</td>\n      <td>time</td>\n      <td>False</td>\n      <td>0.2</td>\n      <td>random</td>\n    </tr>\n    <tr>\n      <th>0</th>\n      <td>[]</td>\n      <td>mars_gym.model.bandit.LinUCB</td>\n      <td>0.00001</td>\n      <td>NaN</td>\n      <td>NaN</td>\n      <td>NaN</td>\n      <td>NaN</td>\n      <td>NaN</td>\n      <td>NaN</td>\n      <td>NaN</td>\n      <td>...</td>\n      <td>-1</td>\n      <td>none</td>\n      <td>3</td>\n      <td>0.1</td>\n      <td>0</td>\n      <td>0.2</td>\n      <td>time</td>\n      <td>False</td>\n      <td>0.2</td>\n      <td>random</td>\n    </tr>\n    <tr>\n      <th>0</th>\n      <td>[]</td>\n      <td>mars_gym.model.bandit.AdaptiveGreedy</td>\n      <td>NaN</td>\n      <td>NaN</td>\n      <td>0.000097</td>\n      <td>NaN</td>\n      <td>0.7</td>\n      <td>NaN</td>\n      <td>NaN</td>\n      <td>NaN</td>\n      <td>...</td>\n      <td>-1</td>\n      <td>none</td>\n      <td>1</td>\n      <td>0.1</td>\n      <td>0</td>\n      <td>0.2</td>\n      <td>time</td>\n      <td>False</td>\n      <td>0.2</td>\n      <td>random</td>\n    </tr>\n    <tr>\n      <th>0</th>\n      <td>[]</td>\n      <td>mars_gym.model.bandit.ExploreThenExploit</td>\n      <td>NaN</td>\n      <td>NaN</td>\n      <td>0.000187</td>\n      <td>NaN</td>\n      <td>NaN</td>\n      <td>1000.0</td>\n      <td>NaN</td>\n      <td>NaN</td>\n      <td>...</td>\n      <td>-1</td>\n      <td>none</td>\n      <td>2</td>\n      <td>0.1</td>\n      <td>0</td>\n      <td>0.2</td>\n      <td>time</td>\n      <td>False</td>\n      <td>0.2</td>\n      <td>random</td>\n    </tr>\n    <tr>\n      <th>0</th>\n      <td>[]</td>\n      <td>mars_gym.model.bandit.EpsilonGreedy</td>\n      <td>NaN</td>\n      <td>NaN</td>\n      <td>NaN</td>\n      <td>0.1</td>\n      <td>NaN</td>\n      <td>NaN</td>\n      <td>NaN</td>\n      <td>NaN</td>\n      <td>...</td>\n      <td>-1</td>\n      <td>none</td>\n      <td>5</td>\n      <td>0.1</td>\n      <td>0</td>\n      <td>0.2</td>\n      <td>time</td>\n      <td>False</td>\n      <td>0.2</td>\n      <td>random</td>\n    </tr>\n  </tbody>\n</table>\n<p>5 rows × 55 columns</p>\n</div>"
     },
     "metadata": {},
     "execution_count": 3
    }
   ],
   "source": [
    "# We will only filter the city of Chicago to exemplify graphs and results.\n",
    "#\n",
    "\n",
    "#city = \"Rio de Janeiro, Brazil\"\n",
    "#city = \"Como, Italy\"\n",
    "city = \"Chicago, USA\"\n",
    "#city = \"New York, USA\"\n",
    "#city = 'Copenhagen, Denmark'\n",
    "#city='recsys'\n",
    "\n",
    "df_params = load_iteractions_params(result_paths)\n",
    "df_params = df_params[df_params['data_frames_preparation_extra_params.filter_city'] == city]\n",
    "df_params.head()"
   ]
  },
  {
   "cell_type": "code",
   "execution_count": 4,
   "metadata": {},
   "outputs": [
    {
     "output_type": "execute_result",
     "data": {
      "text/plain": "                             bandit_policy_class observation  \\\n0  mars_gym.model.bandit.AdaptiveGreedy                        \n1  mars_gym.model.bandit.CustomRewardModelLinUCB               \n\n                                                                                                                                                                                                                                                                                                                                                                                                                                                                                                                                                                                                                                                                                                                                                                                                                                                                                                                                                                                                         iteraction  \\\n0  [../../output/interaction/InteractionTraining/results/InteractionTraining____mars_gym_model_b___exploration_th_6822e93237, ../../output/interaction/InteractionTraining/results/InteractionTraining____mars_gym_model_b___exploration_th_83ef3f55d3, ../../output/interaction/InteractionTraining/results/InteractionTraining____mars_gym_model_b___exploration_th_42716ae133, ../../output/interaction/InteractionTraining/results/InteractionTraining____mars_gym_model_b___exploration_th_d3663f58fc, ../../output/interaction/InteractionTraining/results/InteractionTraining____mars_gym_model_b___exploration_th_520cebc570, ../../output/interaction/InteractionTraining/results/InteractionTraining____mars_gym_model_b___exploration_th_d70af8a008, ../../output/interaction/InteractionTraining/results/InteractionTraining____mars_gym_model_b___exploration_th_6b44643887, ../../output/interaction/InteractionTraining/results/InteractionTraining____mars_gym_model_b___exploration_th_2cc29714f4]   \n1  [../../output/interaction/InteractionTraining/results/InteractionTraining____mars_gym_model_b___alpha___1e_05__ef475653f1, ../../output/interaction/InteractionTraining/results/InteractionTraining____mars_gym_model_b___alpha___1e_05__75eccc229a, ../../output/interaction/InteractionTraining/results/InteractionTraining____mars_gym_model_b___alpha___1e_05__bad81a6465, ../../output/interaction/InteractionTraining/results/InteractionTraining____mars_gym_model_b___alpha___1e_05__debd700fb8, ../../output/interaction/InteractionTraining/results/InteractionTraining____mars_gym_model_b___alpha___1e_05__2165771e8e, ../../output/interaction/InteractionTraining/results/InteractionTraining____mars_gym_model_b___alpha___1e_05__7966e4e52b, ../../output/interaction/InteractionTraining/results/InteractionTraining____mars_gym_model_b___alpha___1e_05__0b623b96b8, ../../output/interaction/InteractionTraining/results/InteractionTraining____mars_gym_model_b___alpha___1e_05__d5981787b1]   \n\n                                            name  \\\n0  mars_gym.model.bandit.AdaptiveGreedy            \n1  mars_gym.model.bandit.CustomRewardModelLinUCB   \n\n                                                                                                                      model  \\\n0  ../../output/interaction/InteractionTraining/results/InteractionTraining____mars_gym_model_b___exploration_th_2cc29714f4   \n1  ../../output/interaction/InteractionTraining/results/InteractionTraining____mars_gym_model_b___alpha___1e_05__7966e4e52b   \n\n                                                                                                                                                                                                                                                                                                                                                                                                                                                                                                                                                                                                                                                                                                                                                                                                                                                                                                                                                                                                         model_list  \n0  [../../output/interaction/InteractionTraining/results/InteractionTraining____mars_gym_model_b___exploration_th_6822e93237, ../../output/interaction/InteractionTraining/results/InteractionTraining____mars_gym_model_b___exploration_th_83ef3f55d3, ../../output/interaction/InteractionTraining/results/InteractionTraining____mars_gym_model_b___exploration_th_42716ae133, ../../output/interaction/InteractionTraining/results/InteractionTraining____mars_gym_model_b___exploration_th_d3663f58fc, ../../output/interaction/InteractionTraining/results/InteractionTraining____mars_gym_model_b___exploration_th_520cebc570, ../../output/interaction/InteractionTraining/results/InteractionTraining____mars_gym_model_b___exploration_th_d70af8a008, ../../output/interaction/InteractionTraining/results/InteractionTraining____mars_gym_model_b___exploration_th_6b44643887, ../../output/interaction/InteractionTraining/results/InteractionTraining____mars_gym_model_b___exploration_th_2cc29714f4]  \n1  [../../output/interaction/InteractionTraining/results/InteractionTraining____mars_gym_model_b___alpha___1e_05__ef475653f1, ../../output/interaction/InteractionTraining/results/InteractionTraining____mars_gym_model_b___alpha___1e_05__75eccc229a, ../../output/interaction/InteractionTraining/results/InteractionTraining____mars_gym_model_b___alpha___1e_05__bad81a6465, ../../output/interaction/InteractionTraining/results/InteractionTraining____mars_gym_model_b___alpha___1e_05__debd700fb8, ../../output/interaction/InteractionTraining/results/InteractionTraining____mars_gym_model_b___alpha___1e_05__2165771e8e, ../../output/interaction/InteractionTraining/results/InteractionTraining____mars_gym_model_b___alpha___1e_05__7966e4e52b, ../../output/interaction/InteractionTraining/results/InteractionTraining____mars_gym_model_b___alpha___1e_05__0b623b96b8, ../../output/interaction/InteractionTraining/results/InteractionTraining____mars_gym_model_b___alpha___1e_05__d5981787b1]  ",
      "text/html": "<div>\n<style scoped>\n    .dataframe tbody tr th:only-of-type {\n        vertical-align: middle;\n    }\n\n    .dataframe tbody tr th {\n        vertical-align: top;\n    }\n\n    .dataframe thead th {\n        text-align: right;\n    }\n</style>\n<table border=\"1\" class=\"dataframe\">\n  <thead>\n    <tr style=\"text-align: right;\">\n      <th></th>\n      <th>bandit_policy_class</th>\n      <th>observation</th>\n      <th>iteraction</th>\n      <th>name</th>\n      <th>model</th>\n      <th>model_list</th>\n    </tr>\n  </thead>\n  <tbody>\n    <tr>\n      <th>0</th>\n      <td>mars_gym.model.bandit.AdaptiveGreedy</td>\n      <td></td>\n      <td>[../../output/interaction/InteractionTraining/results/InteractionTraining____mars_gym_model_b___exploration_th_6822e93237, ../../output/interaction/InteractionTraining/results/InteractionTraining____mars_gym_model_b___exploration_th_83ef3f55d3, ../../output/interaction/InteractionTraining/results/InteractionTraining____mars_gym_model_b___exploration_th_42716ae133, ../../output/interaction/InteractionTraining/results/InteractionTraining____mars_gym_model_b___exploration_th_d3663f58fc, ../../output/interaction/InteractionTraining/results/InteractionTraining____mars_gym_model_b___exploration_th_520cebc570, ../../output/interaction/InteractionTraining/results/InteractionTraining____mars_gym_model_b___exploration_th_d70af8a008, ../../output/interaction/InteractionTraining/results/InteractionTraining____mars_gym_model_b___exploration_th_6b44643887, ../../output/interaction/InteractionTraining/results/InteractionTraining____mars_gym_model_b___exploration_th_2cc29714f4]</td>\n      <td>mars_gym.model.bandit.AdaptiveGreedy</td>\n      <td>../../output/interaction/InteractionTraining/results/InteractionTraining____mars_gym_model_b___exploration_th_2cc29714f4</td>\n      <td>[../../output/interaction/InteractionTraining/results/InteractionTraining____mars_gym_model_b___exploration_th_6822e93237, ../../output/interaction/InteractionTraining/results/InteractionTraining____mars_gym_model_b___exploration_th_83ef3f55d3, ../../output/interaction/InteractionTraining/results/InteractionTraining____mars_gym_model_b___exploration_th_42716ae133, ../../output/interaction/InteractionTraining/results/InteractionTraining____mars_gym_model_b___exploration_th_d3663f58fc, ../../output/interaction/InteractionTraining/results/InteractionTraining____mars_gym_model_b___exploration_th_520cebc570, ../../output/interaction/InteractionTraining/results/InteractionTraining____mars_gym_model_b___exploration_th_d70af8a008, ../../output/interaction/InteractionTraining/results/InteractionTraining____mars_gym_model_b___exploration_th_6b44643887, ../../output/interaction/InteractionTraining/results/InteractionTraining____mars_gym_model_b___exploration_th_2cc29714f4]</td>\n    </tr>\n    <tr>\n      <th>1</th>\n      <td>mars_gym.model.bandit.CustomRewardModelLinUCB</td>\n      <td></td>\n      <td>[../../output/interaction/InteractionTraining/results/InteractionTraining____mars_gym_model_b___alpha___1e_05__ef475653f1, ../../output/interaction/InteractionTraining/results/InteractionTraining____mars_gym_model_b___alpha___1e_05__75eccc229a, ../../output/interaction/InteractionTraining/results/InteractionTraining____mars_gym_model_b___alpha___1e_05__bad81a6465, ../../output/interaction/InteractionTraining/results/InteractionTraining____mars_gym_model_b___alpha___1e_05__debd700fb8, ../../output/interaction/InteractionTraining/results/InteractionTraining____mars_gym_model_b___alpha___1e_05__2165771e8e, ../../output/interaction/InteractionTraining/results/InteractionTraining____mars_gym_model_b___alpha___1e_05__7966e4e52b, ../../output/interaction/InteractionTraining/results/InteractionTraining____mars_gym_model_b___alpha___1e_05__0b623b96b8, ../../output/interaction/InteractionTraining/results/InteractionTraining____mars_gym_model_b___alpha___1e_05__d5981787b1]</td>\n      <td>mars_gym.model.bandit.CustomRewardModelLinUCB</td>\n      <td>../../output/interaction/InteractionTraining/results/InteractionTraining____mars_gym_model_b___alpha___1e_05__7966e4e52b</td>\n      <td>[../../output/interaction/InteractionTraining/results/InteractionTraining____mars_gym_model_b___alpha___1e_05__ef475653f1, ../../output/interaction/InteractionTraining/results/InteractionTraining____mars_gym_model_b___alpha___1e_05__75eccc229a, ../../output/interaction/InteractionTraining/results/InteractionTraining____mars_gym_model_b___alpha___1e_05__bad81a6465, ../../output/interaction/InteractionTraining/results/InteractionTraining____mars_gym_model_b___alpha___1e_05__debd700fb8, ../../output/interaction/InteractionTraining/results/InteractionTraining____mars_gym_model_b___alpha___1e_05__2165771e8e, ../../output/interaction/InteractionTraining/results/InteractionTraining____mars_gym_model_b___alpha___1e_05__7966e4e52b, ../../output/interaction/InteractionTraining/results/InteractionTraining____mars_gym_model_b___alpha___1e_05__0b623b96b8, ../../output/interaction/InteractionTraining/results/InteractionTraining____mars_gym_model_b___alpha___1e_05__d5981787b1]</td>\n    </tr>\n  </tbody>\n</table>\n</div>"
     },
     "metadata": {},
     "execution_count": 4
    }
   ],
   "source": [
    "# Group results\n",
    "\n",
    "list_bandits          = df_params.groupby([\"bandit_policy_class\", \"observation\"])['iteraction'].apply(list).reset_index()\n",
    "list_bandits['name']  = list_bandits.bandit_policy_class.map(str) + ' ' + list_bandits.observation.map(str)\n",
    "list_bandits['name']  = list_bandits['name'].apply(lambda x: x.replace(\"fixed \", \"\").replace(\" \", \"\"))\n",
    "list_bandits['model'] = list_bandits.iteraction.apply(lambda l: l[np.random.randint(0, len(l))])\n",
    "list_bandits['model_list'] = list_bandits.iteraction\n",
    "list_bandits.head(2)"
   ]
  },
  {
   "cell_type": "code",
   "execution_count": null,
   "metadata": {},
   "outputs": [],
   "source": []
  },
  {
   "cell_type": "code",
   "execution_count": 5,
   "metadata": {},
   "outputs": [],
   "source": [
    "reward_metrics = []\n",
    "for i, row in list_bandits.iterrows():\n",
    "    df_metrics = get_metrics_reward(row['iteraction'])\n",
    "    df_metrics['bandit'] = row['name']\n",
    "    df_metrics['model']  = row['model']\n",
    "\n",
    "    df_g_metrics = group_metrics(df_metrics)\n",
    "    reward_metrics.append(df_g_metrics)"
   ]
  },
  {
   "cell_type": "code",
   "execution_count": 6,
   "metadata": {},
   "outputs": [
    {
     "output_type": "execute_result",
     "data": {
      "text/plain": "                                                r_mean|mean  r_mean|std  \\\nbandit                                                                    \nmars_gym.model.bandit.SoftmaxExplorer           0.275622     0.013914     \nmars_gym.model.bandit.RandomPolicy              0.040749    NaN           \nmars_gym.model.bandit.PercentileAdaptiveGreedy  0.284485     0.010725     \nmars_gym.model.bandit.LinUCB                    0.121703     0.007030     \nmars_gym.model.bandit.LinThompsonSampling       0.048501    NaN           \nmars_gym.model.bandit.FixedPolicyPopularItem    0.104567     0.000000     \nmars_gym.model.bandit.ExploreThenExploit        0.228906     0.006917     \nmars_gym.model.bandit.EpsilonGreedy             0.285147     0.015851     \nmars_gym.model.bandit.CustomRewardModelLinUCB   0.297863     0.024824     \nmars_gym.model.bandit.AdaptiveGreedy            0.215609     0.030293     \n\n                                                r_reward|mean  r_reward|std  \\\nbandit                                                                        \nmars_gym.model.bandit.SoftmaxExplorer           2915.250000    147.173124     \nmars_gym.model.bandit.RandomPolicy              431.000000    NaN             \nmars_gym.model.bandit.PercentileAdaptiveGreedy  3009.000000    113.439726     \nmars_gym.model.bandit.LinUCB                    1287.250000    74.351962      \nmars_gym.model.bandit.LinThompsonSampling       513.000000    NaN             \nmars_gym.model.bandit.FixedPolicyPopularItem    1106.000000    0.000000       \nmars_gym.model.bandit.ExploreThenExploit        2421.142857    73.156063      \nmars_gym.model.bandit.EpsilonGreedy             3016.000000    167.654406     \nmars_gym.model.bandit.CustomRewardModelLinUCB   3150.500000    262.564822     \nmars_gym.model.bandit.AdaptiveGreedy            2280.500000    320.404209     \n\n                                                r_reward|count  \\\nbandit                                                           \nmars_gym.model.bandit.SoftmaxExplorer           8                \nmars_gym.model.bandit.RandomPolicy              1                \nmars_gym.model.bandit.PercentileAdaptiveGreedy  8                \nmars_gym.model.bandit.LinUCB                    8                \nmars_gym.model.bandit.LinThompsonSampling       1                \nmars_gym.model.bandit.FixedPolicyPopularItem    2                \nmars_gym.model.bandit.ExploreThenExploit        7                \nmars_gym.model.bandit.EpsilonGreedy             8                \nmars_gym.model.bandit.CustomRewardModelLinUCB   8                \nmars_gym.model.bandit.AdaptiveGreedy            8                \n\n                                                                                                                                                             model|first  \nbandit                                                                                                                                                                    \nmars_gym.model.bandit.SoftmaxExplorer           ../../output/interaction/InteractionTraining/results/InteractionTraining____mars_gym_model_b___logit_multipli_1244265017  \nmars_gym.model.bandit.RandomPolicy              ../../output/interaction/InteractionTraining/results/InteractionTraining____mars_gym_model_b____1649c7bd6b                \nmars_gym.model.bandit.PercentileAdaptiveGreedy  ../../output/interaction/InteractionTraining/results/InteractionTraining____mars_gym_model_b___exploration_th_188ee56ba2  \nmars_gym.model.bandit.LinUCB                    ../../output/interaction/InteractionTraining/results/InteractionTraining____mars_gym_model_b___alpha___1e_05__069cd7a2fe  \nmars_gym.model.bandit.LinThompsonSampling       ../../output/interaction/InteractionTraining/results/InteractionTraining____mars_gym_model_b___v_sq___0_1__4cd65ca01d     \nmars_gym.model.bandit.FixedPolicyPopularItem    ../../output/interaction/InteractionTraining/results/InteractionTraining____mars_gym_model_b___arg___2__cca0079f70        \nmars_gym.model.bandit.ExploreThenExploit        ../../output/interaction/InteractionTraining/results/InteractionTraining____mars_gym_model_b___explore_rounds_7911da6015  \nmars_gym.model.bandit.EpsilonGreedy             ../../output/interaction/InteractionTraining/results/InteractionTraining____mars_gym_model_b___epsilon___0_1__800191dee6  \nmars_gym.model.bandit.CustomRewardModelLinUCB   ../../output/interaction/InteractionTraining/results/InteractionTraining____mars_gym_model_b___alpha___1e_05__7966e4e52b  \nmars_gym.model.bandit.AdaptiveGreedy            ../../output/interaction/InteractionTraining/results/InteractionTraining____mars_gym_model_b___exploration_th_2cc29714f4  ",
      "text/html": "<div>\n<style scoped>\n    .dataframe tbody tr th:only-of-type {\n        vertical-align: middle;\n    }\n\n    .dataframe tbody tr th {\n        vertical-align: top;\n    }\n\n    .dataframe thead th {\n        text-align: right;\n    }\n</style>\n<table border=\"1\" class=\"dataframe\">\n  <thead>\n    <tr style=\"text-align: right;\">\n      <th></th>\n      <th>r_mean|mean</th>\n      <th>r_mean|std</th>\n      <th>r_reward|mean</th>\n      <th>r_reward|std</th>\n      <th>r_reward|count</th>\n      <th>model|first</th>\n    </tr>\n    <tr>\n      <th>bandit</th>\n      <th></th>\n      <th></th>\n      <th></th>\n      <th></th>\n      <th></th>\n      <th></th>\n    </tr>\n  </thead>\n  <tbody>\n    <tr>\n      <th>mars_gym.model.bandit.SoftmaxExplorer</th>\n      <td>0.275622</td>\n      <td>0.013914</td>\n      <td>2915.250000</td>\n      <td>147.173124</td>\n      <td>8</td>\n      <td>../../output/interaction/InteractionTraining/results/InteractionTraining____mars_gym_model_b___logit_multipli_1244265017</td>\n    </tr>\n    <tr>\n      <th>mars_gym.model.bandit.RandomPolicy</th>\n      <td>0.040749</td>\n      <td>NaN</td>\n      <td>431.000000</td>\n      <td>NaN</td>\n      <td>1</td>\n      <td>../../output/interaction/InteractionTraining/results/InteractionTraining____mars_gym_model_b____1649c7bd6b</td>\n    </tr>\n    <tr>\n      <th>mars_gym.model.bandit.PercentileAdaptiveGreedy</th>\n      <td>0.284485</td>\n      <td>0.010725</td>\n      <td>3009.000000</td>\n      <td>113.439726</td>\n      <td>8</td>\n      <td>../../output/interaction/InteractionTraining/results/InteractionTraining____mars_gym_model_b___exploration_th_188ee56ba2</td>\n    </tr>\n    <tr>\n      <th>mars_gym.model.bandit.LinUCB</th>\n      <td>0.121703</td>\n      <td>0.007030</td>\n      <td>1287.250000</td>\n      <td>74.351962</td>\n      <td>8</td>\n      <td>../../output/interaction/InteractionTraining/results/InteractionTraining____mars_gym_model_b___alpha___1e_05__069cd7a2fe</td>\n    </tr>\n    <tr>\n      <th>mars_gym.model.bandit.LinThompsonSampling</th>\n      <td>0.048501</td>\n      <td>NaN</td>\n      <td>513.000000</td>\n      <td>NaN</td>\n      <td>1</td>\n      <td>../../output/interaction/InteractionTraining/results/InteractionTraining____mars_gym_model_b___v_sq___0_1__4cd65ca01d</td>\n    </tr>\n    <tr>\n      <th>mars_gym.model.bandit.FixedPolicyPopularItem</th>\n      <td>0.104567</td>\n      <td>0.000000</td>\n      <td>1106.000000</td>\n      <td>0.000000</td>\n      <td>2</td>\n      <td>../../output/interaction/InteractionTraining/results/InteractionTraining____mars_gym_model_b___arg___2__cca0079f70</td>\n    </tr>\n    <tr>\n      <th>mars_gym.model.bandit.ExploreThenExploit</th>\n      <td>0.228906</td>\n      <td>0.006917</td>\n      <td>2421.142857</td>\n      <td>73.156063</td>\n      <td>7</td>\n      <td>../../output/interaction/InteractionTraining/results/InteractionTraining____mars_gym_model_b___explore_rounds_7911da6015</td>\n    </tr>\n    <tr>\n      <th>mars_gym.model.bandit.EpsilonGreedy</th>\n      <td>0.285147</td>\n      <td>0.015851</td>\n      <td>3016.000000</td>\n      <td>167.654406</td>\n      <td>8</td>\n      <td>../../output/interaction/InteractionTraining/results/InteractionTraining____mars_gym_model_b___epsilon___0_1__800191dee6</td>\n    </tr>\n    <tr>\n      <th>mars_gym.model.bandit.CustomRewardModelLinUCB</th>\n      <td>0.297863</td>\n      <td>0.024824</td>\n      <td>3150.500000</td>\n      <td>262.564822</td>\n      <td>8</td>\n      <td>../../output/interaction/InteractionTraining/results/InteractionTraining____mars_gym_model_b___alpha___1e_05__7966e4e52b</td>\n    </tr>\n    <tr>\n      <th>mars_gym.model.bandit.AdaptiveGreedy</th>\n      <td>0.215609</td>\n      <td>0.030293</td>\n      <td>2280.500000</td>\n      <td>320.404209</td>\n      <td>8</td>\n      <td>../../output/interaction/InteractionTraining/results/InteractionTraining____mars_gym_model_b___exploration_th_2cc29714f4</td>\n    </tr>\n  </tbody>\n</table>\n</div>"
     },
     "metadata": {},
     "execution_count": 6
    }
   ],
   "source": [
    "df_all = pd.concat(reward_metrics)\n",
    "df_all = df_all.reset_index().sort_values('bandit', ascending=False).set_index('bandit')\n",
    "df_all"
   ]
  },
  {
   "cell_type": "markdown",
   "metadata": {},
   "source": [
    "## DataViz - Plot Images"
   ]
  },
  {
   "cell_type": "code",
   "execution_count": 7,
   "metadata": {},
   "outputs": [
    {
     "output_type": "execute_result",
     "data": {
      "text/plain": "Index(['mars_gym.model.bandit.AdaptiveGreedy',\n       'mars_gym.model.bandit.CustomRewardModelLinUCB',\n       'mars_gym.model.bandit.EpsilonGreedy',\n       'mars_gym.model.bandit.ExploreThenExploit',\n       'mars_gym.model.bandit.FixedPolicyPopularItem',\n       'mars_gym.model.bandit.LinThompsonSampling',\n       'mars_gym.model.bandit.LinUCB',\n       'mars_gym.model.bandit.PercentileAdaptiveGreedy',\n       'mars_gym.model.bandit.RandomPolicy',\n       'mars_gym.model.bandit.SoftmaxExplorer'],\n      dtype='object', name='name')"
     },
     "metadata": {},
     "execution_count": 7
    }
   ],
   "source": [
    "#list_bandits['name'] = list_bandits['name'].apply(lambda x: \"popular_item\" if x == \"PopularItem\" else x)\n",
    "df_models = list_bandits.set_index('name')[['model_list']]\n",
    "df_models.index"
   ]
  },
  {
   "cell_type": "code",
   "execution_count": 8,
   "metadata": {},
   "outputs": [
    {
     "output_type": "execute_result",
     "data": {
      "text/plain": "                                                            iteraction  idx  \\\n0  InteractionTraining____mars_gym_model_b___exploration_th_2cc29714f4  0     \n1  InteractionTraining____mars_gym_model_b___exploration_th_2cc29714f4  1     \n2  InteractionTraining____mars_gym_model_b___exploration_th_2cc29714f4  2     \n3  InteractionTraining____mars_gym_model_b___exploration_th_2cc29714f4  3     \n4  InteractionTraining____mars_gym_model_b___exploration_th_2cc29714f4  4     \n\n   user  item  reward        ps  index_env  _idx  mean_reward  \\\n0  559   191   0.0     0.975610  10         1     0.0           \n1  1118  486   0.0     1.951220  43         2     0.0           \n2  1677  644   0.0     2.926829  96         3     0.0           \n3  1908  1263  0.0     3.902439  186        4     0.0           \n4  1971  1397  0.0     4.878049  297        5     0.0           \n\n                                 bandit  \n0  mars_gym.model.bandit.AdaptiveGreedy  \n1  mars_gym.model.bandit.AdaptiveGreedy  \n2  mars_gym.model.bandit.AdaptiveGreedy  \n3  mars_gym.model.bandit.AdaptiveGreedy  \n4  mars_gym.model.bandit.AdaptiveGreedy  ",
      "text/html": "<div>\n<style scoped>\n    .dataframe tbody tr th:only-of-type {\n        vertical-align: middle;\n    }\n\n    .dataframe tbody tr th {\n        vertical-align: top;\n    }\n\n    .dataframe thead th {\n        text-align: right;\n    }\n</style>\n<table border=\"1\" class=\"dataframe\">\n  <thead>\n    <tr style=\"text-align: right;\">\n      <th></th>\n      <th>iteraction</th>\n      <th>idx</th>\n      <th>user</th>\n      <th>item</th>\n      <th>reward</th>\n      <th>ps</th>\n      <th>index_env</th>\n      <th>_idx</th>\n      <th>mean_reward</th>\n      <th>bandit</th>\n    </tr>\n  </thead>\n  <tbody>\n    <tr>\n      <th>0</th>\n      <td>InteractionTraining____mars_gym_model_b___exploration_th_2cc29714f4</td>\n      <td>0</td>\n      <td>559</td>\n      <td>191</td>\n      <td>0.0</td>\n      <td>0.975610</td>\n      <td>10</td>\n      <td>1</td>\n      <td>0.0</td>\n      <td>mars_gym.model.bandit.AdaptiveGreedy</td>\n    </tr>\n    <tr>\n      <th>1</th>\n      <td>InteractionTraining____mars_gym_model_b___exploration_th_2cc29714f4</td>\n      <td>1</td>\n      <td>1118</td>\n      <td>486</td>\n      <td>0.0</td>\n      <td>1.951220</td>\n      <td>43</td>\n      <td>2</td>\n      <td>0.0</td>\n      <td>mars_gym.model.bandit.AdaptiveGreedy</td>\n    </tr>\n    <tr>\n      <th>2</th>\n      <td>InteractionTraining____mars_gym_model_b___exploration_th_2cc29714f4</td>\n      <td>2</td>\n      <td>1677</td>\n      <td>644</td>\n      <td>0.0</td>\n      <td>2.926829</td>\n      <td>96</td>\n      <td>3</td>\n      <td>0.0</td>\n      <td>mars_gym.model.bandit.AdaptiveGreedy</td>\n    </tr>\n    <tr>\n      <th>3</th>\n      <td>InteractionTraining____mars_gym_model_b___exploration_th_2cc29714f4</td>\n      <td>3</td>\n      <td>1908</td>\n      <td>1263</td>\n      <td>0.0</td>\n      <td>3.902439</td>\n      <td>186</td>\n      <td>4</td>\n      <td>0.0</td>\n      <td>mars_gym.model.bandit.AdaptiveGreedy</td>\n    </tr>\n    <tr>\n      <th>4</th>\n      <td>InteractionTraining____mars_gym_model_b___exploration_th_2cc29714f4</td>\n      <td>4</td>\n      <td>1971</td>\n      <td>1397</td>\n      <td>0.0</td>\n      <td>4.878049</td>\n      <td>297</td>\n      <td>5</td>\n      <td>0.0</td>\n      <td>mars_gym.model.bandit.AdaptiveGreedy</td>\n    </tr>\n  </tbody>\n</table>\n</div>"
     },
     "metadata": {},
     "execution_count": 8
    }
   ],
   "source": [
    "sample_size       = 15000\n",
    "window_size       = 1000 \n",
    "bandits           = df_models.index\n",
    "\n",
    "df_group = load_dataset(df_models, bandits, sample_size)\n",
    "df_group.head()"
   ]
  },
  {
   "cell_type": "markdown",
   "metadata": {},
   "source": [
    "### Bandit Simulation Results."
   ]
  },
  {
   "cell_type": "markdown",
   "metadata": {},
   "source": [
    "We performed the simulation of each proposed task until the convergence of most\n",
    "methods to observe cumulative mean reward throughout the simulation. Bandit Simulation Results for \"Chicago, USA\" task."
   ]
  },
  {
   "cell_type": "code",
   "execution_count": 9,
   "metadata": {},
   "outputs": [
    {
     "output_type": "display_data",
     "data": {
      "text/plain": "<Figure size 432x288 with 1 Axes>",
      "image/svg+xml": "<?xml version=\"1.0\" encoding=\"utf-8\" standalone=\"no\"?>\n<!DOCTYPE svg PUBLIC \"-//W3C//DTD SVG 1.1//EN\"\n  \"http://www.w3.org/Graphics/SVG/1.1/DTD/svg11.dtd\">\n<!-- Created with matplotlib (http://matplotlib.org/) -->\n<svg height=\"276.503125pt\" version=\"1.1\" viewBox=\"0 0 781.78125 276.503125\" width=\"781.78125pt\" xmlns=\"http://www.w3.org/2000/svg\" xmlns:xlink=\"http://www.w3.org/1999/xlink\">\n <defs>\n  <style type=\"text/css\">\n*{stroke-linecap:butt;stroke-linejoin:round;}\n  </style>\n </defs>\n <g id=\"figure_1\">\n  <g id=\"patch_1\">\n   <path d=\"M 0 276.503125 \nL 781.78125 276.503125 \nL 781.78125 0 \nL 0 0 \nz\n\" style=\"fill:none;\"/>\n  </g>\n  <g id=\"axes_1\">\n   <g id=\"patch_2\">\n    <path d=\"M 59.709375 230.64 \nL 394.509375 230.64 \nL 394.509375 13.2 \nL 59.709375 13.2 \nz\n\" style=\"fill:#eaeaf2;\"/>\n   </g>\n   <g id=\"matplotlib.axis_1\">\n    <g id=\"xtick_1\">\n     <g id=\"line2d_1\">\n      <path clip-path=\"url(#p5574e5fc04)\" d=\"M 74.927557 230.64 \nL 74.927557 13.2 \n\" style=\"fill:none;stroke:#ffffff;stroke-linecap:round;\"/>\n     </g>\n     <g id=\"text_1\">\n      <!-- 0 -->\n      <defs>\n       <path d=\"M 31.78125 66.40625 \nQ 24.171875 66.40625 20.328125 58.90625 \nQ 16.5 51.421875 16.5 36.375 \nQ 16.5 21.390625 20.328125 13.890625 \nQ 24.171875 6.390625 31.78125 6.390625 \nQ 39.453125 6.390625 43.28125 13.890625 \nQ 47.125 21.390625 47.125 36.375 \nQ 47.125 51.421875 43.28125 58.90625 \nQ 39.453125 66.40625 31.78125 66.40625 \nz\nM 31.78125 74.21875 \nQ 44.046875 74.21875 50.515625 64.515625 \nQ 56.984375 54.828125 56.984375 36.375 \nQ 56.984375 17.96875 50.515625 8.265625 \nQ 44.046875 -1.421875 31.78125 -1.421875 \nQ 19.53125 -1.421875 13.0625 8.265625 \nQ 6.59375 17.96875 6.59375 36.375 \nQ 6.59375 54.828125 13.0625 64.515625 \nQ 19.53125 74.21875 31.78125 74.21875 \nz\n\" id=\"DejaVuSans-30\"/>\n      </defs>\n      <g style=\"fill:#262626;\" transform=\"translate(71.428182 248.498281)scale(0.11 -0.11)\">\n       <use xlink:href=\"#DejaVuSans-30\"/>\n      </g>\n     </g>\n    </g>\n    <g id=\"xtick_2\">\n     <g id=\"line2d_2\">\n      <path clip-path=\"url(#p5574e5fc04)\" d=\"M 132.484977 230.64 \nL 132.484977 13.2 \n\" style=\"fill:none;stroke:#ffffff;stroke-linecap:round;\"/>\n     </g>\n     <g id=\"text_2\">\n      <!-- 2000 -->\n      <defs>\n       <path d=\"M 19.1875 8.296875 \nL 53.609375 8.296875 \nL 53.609375 0 \nL 7.328125 0 \nL 7.328125 8.296875 \nQ 12.9375 14.109375 22.625 23.890625 \nQ 32.328125 33.6875 34.8125 36.53125 \nQ 39.546875 41.84375 41.421875 45.53125 \nQ 43.3125 49.21875 43.3125 52.78125 \nQ 43.3125 58.59375 39.234375 62.25 \nQ 35.15625 65.921875 28.609375 65.921875 \nQ 23.96875 65.921875 18.8125 64.3125 \nQ 13.671875 62.703125 7.8125 59.421875 \nL 7.8125 69.390625 \nQ 13.765625 71.78125 18.9375 73 \nQ 24.125 74.21875 28.421875 74.21875 \nQ 39.75 74.21875 46.484375 68.546875 \nQ 53.21875 62.890625 53.21875 53.421875 \nQ 53.21875 48.921875 51.53125 44.890625 \nQ 49.859375 40.875 45.40625 35.40625 \nQ 44.1875 33.984375 37.640625 27.21875 \nQ 31.109375 20.453125 19.1875 8.296875 \nz\n\" id=\"DejaVuSans-32\"/>\n      </defs>\n      <g style=\"fill:#262626;\" transform=\"translate(118.487477 248.498281)scale(0.11 -0.11)\">\n       <use xlink:href=\"#DejaVuSans-32\"/>\n       <use x=\"63.623047\" xlink:href=\"#DejaVuSans-30\"/>\n       <use x=\"127.246094\" xlink:href=\"#DejaVuSans-30\"/>\n       <use x=\"190.869141\" xlink:href=\"#DejaVuSans-30\"/>\n      </g>\n     </g>\n    </g>\n    <g id=\"xtick_3\">\n     <g id=\"line2d_3\">\n      <path clip-path=\"url(#p5574e5fc04)\" d=\"M 190.042397 230.64 \nL 190.042397 13.2 \n\" style=\"fill:none;stroke:#ffffff;stroke-linecap:round;\"/>\n     </g>\n     <g id=\"text_3\">\n      <!-- 4000 -->\n      <defs>\n       <path d=\"M 37.796875 64.3125 \nL 12.890625 25.390625 \nL 37.796875 25.390625 \nz\nM 35.203125 72.90625 \nL 47.609375 72.90625 \nL 47.609375 25.390625 \nL 58.015625 25.390625 \nL 58.015625 17.1875 \nL 47.609375 17.1875 \nL 47.609375 0 \nL 37.796875 0 \nL 37.796875 17.1875 \nL 4.890625 17.1875 \nL 4.890625 26.703125 \nz\n\" id=\"DejaVuSans-34\"/>\n      </defs>\n      <g style=\"fill:#262626;\" transform=\"translate(176.044897 248.498281)scale(0.11 -0.11)\">\n       <use xlink:href=\"#DejaVuSans-34\"/>\n       <use x=\"63.623047\" xlink:href=\"#DejaVuSans-30\"/>\n       <use x=\"127.246094\" xlink:href=\"#DejaVuSans-30\"/>\n       <use x=\"190.869141\" xlink:href=\"#DejaVuSans-30\"/>\n      </g>\n     </g>\n    </g>\n    <g id=\"xtick_4\">\n     <g id=\"line2d_4\">\n      <path clip-path=\"url(#p5574e5fc04)\" d=\"M 247.599816 230.64 \nL 247.599816 13.2 \n\" style=\"fill:none;stroke:#ffffff;stroke-linecap:round;\"/>\n     </g>\n     <g id=\"text_4\">\n      <!-- 6000 -->\n      <defs>\n       <path d=\"M 33.015625 40.375 \nQ 26.375 40.375 22.484375 35.828125 \nQ 18.609375 31.296875 18.609375 23.390625 \nQ 18.609375 15.53125 22.484375 10.953125 \nQ 26.375 6.390625 33.015625 6.390625 \nQ 39.65625 6.390625 43.53125 10.953125 \nQ 47.40625 15.53125 47.40625 23.390625 \nQ 47.40625 31.296875 43.53125 35.828125 \nQ 39.65625 40.375 33.015625 40.375 \nz\nM 52.59375 71.296875 \nL 52.59375 62.3125 \nQ 48.875 64.0625 45.09375 64.984375 \nQ 41.3125 65.921875 37.59375 65.921875 \nQ 27.828125 65.921875 22.671875 59.328125 \nQ 17.53125 52.734375 16.796875 39.40625 \nQ 19.671875 43.65625 24.015625 45.921875 \nQ 28.375 48.1875 33.59375 48.1875 \nQ 44.578125 48.1875 50.953125 41.515625 \nQ 57.328125 34.859375 57.328125 23.390625 \nQ 57.328125 12.15625 50.6875 5.359375 \nQ 44.046875 -1.421875 33.015625 -1.421875 \nQ 20.359375 -1.421875 13.671875 8.265625 \nQ 6.984375 17.96875 6.984375 36.375 \nQ 6.984375 53.65625 15.1875 63.9375 \nQ 23.390625 74.21875 37.203125 74.21875 \nQ 40.921875 74.21875 44.703125 73.484375 \nQ 48.484375 72.75 52.59375 71.296875 \nz\n\" id=\"DejaVuSans-36\"/>\n      </defs>\n      <g style=\"fill:#262626;\" transform=\"translate(233.602316 248.498281)scale(0.11 -0.11)\">\n       <use xlink:href=\"#DejaVuSans-36\"/>\n       <use x=\"63.623047\" xlink:href=\"#DejaVuSans-30\"/>\n       <use x=\"127.246094\" xlink:href=\"#DejaVuSans-30\"/>\n       <use x=\"190.869141\" xlink:href=\"#DejaVuSans-30\"/>\n      </g>\n     </g>\n    </g>\n    <g id=\"xtick_5\">\n     <g id=\"line2d_5\">\n      <path clip-path=\"url(#p5574e5fc04)\" d=\"M 305.157236 230.64 \nL 305.157236 13.2 \n\" style=\"fill:none;stroke:#ffffff;stroke-linecap:round;\"/>\n     </g>\n     <g id=\"text_5\">\n      <!-- 8000 -->\n      <defs>\n       <path d=\"M 31.78125 34.625 \nQ 24.75 34.625 20.71875 30.859375 \nQ 16.703125 27.09375 16.703125 20.515625 \nQ 16.703125 13.921875 20.71875 10.15625 \nQ 24.75 6.390625 31.78125 6.390625 \nQ 38.8125 6.390625 42.859375 10.171875 \nQ 46.921875 13.96875 46.921875 20.515625 \nQ 46.921875 27.09375 42.890625 30.859375 \nQ 38.875 34.625 31.78125 34.625 \nz\nM 21.921875 38.8125 \nQ 15.578125 40.375 12.03125 44.71875 \nQ 8.5 49.078125 8.5 55.328125 \nQ 8.5 64.0625 14.71875 69.140625 \nQ 20.953125 74.21875 31.78125 74.21875 \nQ 42.671875 74.21875 48.875 69.140625 \nQ 55.078125 64.0625 55.078125 55.328125 \nQ 55.078125 49.078125 51.53125 44.71875 \nQ 48 40.375 41.703125 38.8125 \nQ 48.828125 37.15625 52.796875 32.3125 \nQ 56.78125 27.484375 56.78125 20.515625 \nQ 56.78125 9.90625 50.3125 4.234375 \nQ 43.84375 -1.421875 31.78125 -1.421875 \nQ 19.734375 -1.421875 13.25 4.234375 \nQ 6.78125 9.90625 6.78125 20.515625 \nQ 6.78125 27.484375 10.78125 32.3125 \nQ 14.796875 37.15625 21.921875 38.8125 \nz\nM 18.3125 54.390625 \nQ 18.3125 48.734375 21.84375 45.5625 \nQ 25.390625 42.390625 31.78125 42.390625 \nQ 38.140625 42.390625 41.71875 45.5625 \nQ 45.3125 48.734375 45.3125 54.390625 \nQ 45.3125 60.0625 41.71875 63.234375 \nQ 38.140625 66.40625 31.78125 66.40625 \nQ 25.390625 66.40625 21.84375 63.234375 \nQ 18.3125 60.0625 18.3125 54.390625 \nz\n\" id=\"DejaVuSans-38\"/>\n      </defs>\n      <g style=\"fill:#262626;\" transform=\"translate(291.159736 248.498281)scale(0.11 -0.11)\">\n       <use xlink:href=\"#DejaVuSans-38\"/>\n       <use x=\"63.623047\" xlink:href=\"#DejaVuSans-30\"/>\n       <use x=\"127.246094\" xlink:href=\"#DejaVuSans-30\"/>\n       <use x=\"190.869141\" xlink:href=\"#DejaVuSans-30\"/>\n      </g>\n     </g>\n    </g>\n    <g id=\"xtick_6\">\n     <g id=\"line2d_6\">\n      <path clip-path=\"url(#p5574e5fc04)\" d=\"M 362.714656 230.64 \nL 362.714656 13.2 \n\" style=\"fill:none;stroke:#ffffff;stroke-linecap:round;\"/>\n     </g>\n     <g id=\"text_6\">\n      <!-- 10000 -->\n      <defs>\n       <path d=\"M 12.40625 8.296875 \nL 28.515625 8.296875 \nL 28.515625 63.921875 \nL 10.984375 60.40625 \nL 10.984375 69.390625 \nL 28.421875 72.90625 \nL 38.28125 72.90625 \nL 38.28125 8.296875 \nL 54.390625 8.296875 \nL 54.390625 0 \nL 12.40625 0 \nz\n\" id=\"DejaVuSans-31\"/>\n      </defs>\n      <g style=\"fill:#262626;\" transform=\"translate(345.217781 248.498281)scale(0.11 -0.11)\">\n       <use xlink:href=\"#DejaVuSans-31\"/>\n       <use x=\"63.623047\" xlink:href=\"#DejaVuSans-30\"/>\n       <use x=\"127.246094\" xlink:href=\"#DejaVuSans-30\"/>\n       <use x=\"190.869141\" xlink:href=\"#DejaVuSans-30\"/>\n       <use x=\"254.492188\" xlink:href=\"#DejaVuSans-30\"/>\n      </g>\n     </g>\n    </g>\n    <g id=\"text_7\">\n     <!-- Interactions -->\n     <defs>\n      <path d=\"M 9.8125 72.90625 \nL 19.671875 72.90625 \nL 19.671875 0 \nL 9.8125 0 \nz\n\" id=\"DejaVuSans-49\"/>\n      <path d=\"M 54.890625 33.015625 \nL 54.890625 0 \nL 45.90625 0 \nL 45.90625 32.71875 \nQ 45.90625 40.484375 42.875 44.328125 \nQ 39.84375 48.1875 33.796875 48.1875 \nQ 26.515625 48.1875 22.3125 43.546875 \nQ 18.109375 38.921875 18.109375 30.90625 \nL 18.109375 0 \nL 9.078125 0 \nL 9.078125 54.6875 \nL 18.109375 54.6875 \nL 18.109375 46.1875 \nQ 21.34375 51.125 25.703125 53.5625 \nQ 30.078125 56 35.796875 56 \nQ 45.21875 56 50.046875 50.171875 \nQ 54.890625 44.34375 54.890625 33.015625 \nz\n\" id=\"DejaVuSans-6e\"/>\n      <path d=\"M 18.3125 70.21875 \nL 18.3125 54.6875 \nL 36.8125 54.6875 \nL 36.8125 47.703125 \nL 18.3125 47.703125 \nL 18.3125 18.015625 \nQ 18.3125 11.328125 20.140625 9.421875 \nQ 21.96875 7.515625 27.59375 7.515625 \nL 36.8125 7.515625 \nL 36.8125 0 \nL 27.59375 0 \nQ 17.1875 0 13.234375 3.875 \nQ 9.28125 7.765625 9.28125 18.015625 \nL 9.28125 47.703125 \nL 2.6875 47.703125 \nL 2.6875 54.6875 \nL 9.28125 54.6875 \nL 9.28125 70.21875 \nz\n\" id=\"DejaVuSans-74\"/>\n      <path d=\"M 56.203125 29.59375 \nL 56.203125 25.203125 \nL 14.890625 25.203125 \nQ 15.484375 15.921875 20.484375 11.0625 \nQ 25.484375 6.203125 34.421875 6.203125 \nQ 39.59375 6.203125 44.453125 7.46875 \nQ 49.3125 8.734375 54.109375 11.28125 \nL 54.109375 2.78125 \nQ 49.265625 0.734375 44.1875 -0.34375 \nQ 39.109375 -1.421875 33.890625 -1.421875 \nQ 20.796875 -1.421875 13.15625 6.1875 \nQ 5.515625 13.8125 5.515625 26.8125 \nQ 5.515625 40.234375 12.765625 48.109375 \nQ 20.015625 56 32.328125 56 \nQ 43.359375 56 49.78125 48.890625 \nQ 56.203125 41.796875 56.203125 29.59375 \nz\nM 47.21875 32.234375 \nQ 47.125 39.59375 43.09375 43.984375 \nQ 39.0625 48.390625 32.421875 48.390625 \nQ 24.90625 48.390625 20.390625 44.140625 \nQ 15.875 39.890625 15.1875 32.171875 \nz\n\" id=\"DejaVuSans-65\"/>\n      <path d=\"M 41.109375 46.296875 \nQ 39.59375 47.171875 37.8125 47.578125 \nQ 36.03125 48 33.890625 48 \nQ 26.265625 48 22.1875 43.046875 \nQ 18.109375 38.09375 18.109375 28.8125 \nL 18.109375 0 \nL 9.078125 0 \nL 9.078125 54.6875 \nL 18.109375 54.6875 \nL 18.109375 46.1875 \nQ 20.953125 51.171875 25.484375 53.578125 \nQ 30.03125 56 36.53125 56 \nQ 37.453125 56 38.578125 55.875 \nQ 39.703125 55.765625 41.0625 55.515625 \nz\n\" id=\"DejaVuSans-72\"/>\n      <path d=\"M 34.28125 27.484375 \nQ 23.390625 27.484375 19.1875 25 \nQ 14.984375 22.515625 14.984375 16.5 \nQ 14.984375 11.71875 18.140625 8.90625 \nQ 21.296875 6.109375 26.703125 6.109375 \nQ 34.1875 6.109375 38.703125 11.40625 \nQ 43.21875 16.703125 43.21875 25.484375 \nL 43.21875 27.484375 \nz\nM 52.203125 31.203125 \nL 52.203125 0 \nL 43.21875 0 \nL 43.21875 8.296875 \nQ 40.140625 3.328125 35.546875 0.953125 \nQ 30.953125 -1.421875 24.3125 -1.421875 \nQ 15.921875 -1.421875 10.953125 3.296875 \nQ 6 8.015625 6 15.921875 \nQ 6 25.140625 12.171875 29.828125 \nQ 18.359375 34.515625 30.609375 34.515625 \nL 43.21875 34.515625 \nL 43.21875 35.40625 \nQ 43.21875 41.609375 39.140625 45 \nQ 35.0625 48.390625 27.6875 48.390625 \nQ 23 48.390625 18.546875 47.265625 \nQ 14.109375 46.140625 10.015625 43.890625 \nL 10.015625 52.203125 \nQ 14.9375 54.109375 19.578125 55.046875 \nQ 24.21875 56 28.609375 56 \nQ 40.484375 56 46.34375 49.84375 \nQ 52.203125 43.703125 52.203125 31.203125 \nz\n\" id=\"DejaVuSans-61\"/>\n      <path d=\"M 48.78125 52.59375 \nL 48.78125 44.1875 \nQ 44.96875 46.296875 41.140625 47.34375 \nQ 37.3125 48.390625 33.40625 48.390625 \nQ 24.65625 48.390625 19.8125 42.84375 \nQ 14.984375 37.3125 14.984375 27.296875 \nQ 14.984375 17.28125 19.8125 11.734375 \nQ 24.65625 6.203125 33.40625 6.203125 \nQ 37.3125 6.203125 41.140625 7.25 \nQ 44.96875 8.296875 48.78125 10.40625 \nL 48.78125 2.09375 \nQ 45.015625 0.34375 40.984375 -0.53125 \nQ 36.96875 -1.421875 32.421875 -1.421875 \nQ 20.0625 -1.421875 12.78125 6.34375 \nQ 5.515625 14.109375 5.515625 27.296875 \nQ 5.515625 40.671875 12.859375 48.328125 \nQ 20.21875 56 33.015625 56 \nQ 37.15625 56 41.109375 55.140625 \nQ 45.0625 54.296875 48.78125 52.59375 \nz\n\" id=\"DejaVuSans-63\"/>\n      <path d=\"M 9.421875 54.6875 \nL 18.40625 54.6875 \nL 18.40625 0 \nL 9.421875 0 \nz\nM 9.421875 75.984375 \nL 18.40625 75.984375 \nL 18.40625 64.59375 \nL 9.421875 64.59375 \nz\n\" id=\"DejaVuSans-69\"/>\n      <path d=\"M 30.609375 48.390625 \nQ 23.390625 48.390625 19.1875 42.75 \nQ 14.984375 37.109375 14.984375 27.296875 \nQ 14.984375 17.484375 19.15625 11.84375 \nQ 23.34375 6.203125 30.609375 6.203125 \nQ 37.796875 6.203125 41.984375 11.859375 \nQ 46.1875 17.53125 46.1875 27.296875 \nQ 46.1875 37.015625 41.984375 42.703125 \nQ 37.796875 48.390625 30.609375 48.390625 \nz\nM 30.609375 56 \nQ 42.328125 56 49.015625 48.375 \nQ 55.71875 40.765625 55.71875 27.296875 \nQ 55.71875 13.875 49.015625 6.21875 \nQ 42.328125 -1.421875 30.609375 -1.421875 \nQ 18.84375 -1.421875 12.171875 6.21875 \nQ 5.515625 13.875 5.515625 27.296875 \nQ 5.515625 40.765625 12.171875 48.375 \nQ 18.84375 56 30.609375 56 \nz\n\" id=\"DejaVuSans-6f\"/>\n      <path d=\"M 44.28125 53.078125 \nL 44.28125 44.578125 \nQ 40.484375 46.53125 36.375 47.5 \nQ 32.28125 48.484375 27.875 48.484375 \nQ 21.1875 48.484375 17.84375 46.4375 \nQ 14.5 44.390625 14.5 40.28125 \nQ 14.5 37.15625 16.890625 35.375 \nQ 19.28125 33.59375 26.515625 31.984375 \nL 29.59375 31.296875 \nQ 39.15625 29.25 43.1875 25.515625 \nQ 47.21875 21.78125 47.21875 15.09375 \nQ 47.21875 7.46875 41.1875 3.015625 \nQ 35.15625 -1.421875 24.609375 -1.421875 \nQ 20.21875 -1.421875 15.453125 -0.5625 \nQ 10.6875 0.296875 5.421875 2 \nL 5.421875 11.28125 \nQ 10.40625 8.6875 15.234375 7.390625 \nQ 20.0625 6.109375 24.8125 6.109375 \nQ 31.15625 6.109375 34.5625 8.28125 \nQ 37.984375 10.453125 37.984375 14.40625 \nQ 37.984375 18.0625 35.515625 20.015625 \nQ 33.0625 21.96875 24.703125 23.78125 \nL 21.578125 24.515625 \nQ 13.234375 26.265625 9.515625 29.90625 \nQ 5.8125 33.546875 5.8125 39.890625 \nQ 5.8125 47.609375 11.28125 51.796875 \nQ 16.75 56 26.8125 56 \nQ 31.78125 56 36.171875 55.265625 \nQ 40.578125 54.546875 44.28125 53.078125 \nz\n\" id=\"DejaVuSans-73\"/>\n     </defs>\n     <g style=\"fill:#262626;\" transform=\"translate(182.5125 266.183594)scale(0.15 -0.15)\">\n      <use xlink:href=\"#DejaVuSans-49\"/>\n      <use x=\"29.492188\" xlink:href=\"#DejaVuSans-6e\"/>\n      <use x=\"92.871094\" xlink:href=\"#DejaVuSans-74\"/>\n      <use x=\"132.080078\" xlink:href=\"#DejaVuSans-65\"/>\n      <use x=\"193.603516\" xlink:href=\"#DejaVuSans-72\"/>\n      <use x=\"234.716797\" xlink:href=\"#DejaVuSans-61\"/>\n      <use x=\"295.996094\" xlink:href=\"#DejaVuSans-63\"/>\n      <use x=\"350.976562\" xlink:href=\"#DejaVuSans-74\"/>\n      <use x=\"390.185547\" xlink:href=\"#DejaVuSans-69\"/>\n      <use x=\"417.96875\" xlink:href=\"#DejaVuSans-6f\"/>\n      <use x=\"479.150391\" xlink:href=\"#DejaVuSans-6e\"/>\n      <use x=\"542.529297\" xlink:href=\"#DejaVuSans-73\"/>\n     </g>\n    </g>\n   </g>\n   <g id=\"matplotlib.axis_2\">\n    <g id=\"ytick_1\">\n     <g id=\"line2d_7\">\n      <path clip-path=\"url(#p5574e5fc04)\" d=\"M 59.709375 230.64 \nL 394.509375 230.64 \n\" style=\"fill:none;stroke:#ffffff;stroke-linecap:round;\"/>\n     </g>\n     <g id=\"text_8\">\n      <!-- 0.00 -->\n      <defs>\n       <path d=\"M 10.6875 12.40625 \nL 21 12.40625 \nL 21 0 \nL 10.6875 0 \nz\n\" id=\"DejaVuSans-2e\"/>\n      </defs>\n      <g style=\"fill:#262626;\" transform=\"translate(25.717188 234.819141)scale(0.11 -0.11)\">\n       <use xlink:href=\"#DejaVuSans-30\"/>\n       <use x=\"63.623047\" xlink:href=\"#DejaVuSans-2e\"/>\n       <use x=\"95.410156\" xlink:href=\"#DejaVuSans-30\"/>\n       <use x=\"159.033203\" xlink:href=\"#DejaVuSans-30\"/>\n      </g>\n     </g>\n    </g>\n    <g id=\"ytick_2\">\n     <g id=\"line2d_8\">\n      <path clip-path=\"url(#p5574e5fc04)\" d=\"M 59.709375 203.46 \nL 394.509375 203.46 \n\" style=\"fill:none;stroke:#ffffff;stroke-linecap:round;\"/>\n     </g>\n     <g id=\"text_9\">\n      <!-- 0.05 -->\n      <defs>\n       <path d=\"M 10.796875 72.90625 \nL 49.515625 72.90625 \nL 49.515625 64.59375 \nL 19.828125 64.59375 \nL 19.828125 46.734375 \nQ 21.96875 47.46875 24.109375 47.828125 \nQ 26.265625 48.1875 28.421875 48.1875 \nQ 40.625 48.1875 47.75 41.5 \nQ 54.890625 34.8125 54.890625 23.390625 \nQ 54.890625 11.625 47.5625 5.09375 \nQ 40.234375 -1.421875 26.90625 -1.421875 \nQ 22.3125 -1.421875 17.546875 -0.640625 \nQ 12.796875 0.140625 7.71875 1.703125 \nL 7.71875 11.625 \nQ 12.109375 9.234375 16.796875 8.0625 \nQ 21.484375 6.890625 26.703125 6.890625 \nQ 35.15625 6.890625 40.078125 11.328125 \nQ 45.015625 15.765625 45.015625 23.390625 \nQ 45.015625 31 40.078125 35.4375 \nQ 35.15625 39.890625 26.703125 39.890625 \nQ 22.75 39.890625 18.8125 39.015625 \nQ 14.890625 38.140625 10.796875 36.28125 \nz\n\" id=\"DejaVuSans-35\"/>\n      </defs>\n      <g style=\"fill:#262626;\" transform=\"translate(25.717188 207.639141)scale(0.11 -0.11)\">\n       <use xlink:href=\"#DejaVuSans-30\"/>\n       <use x=\"63.623047\" xlink:href=\"#DejaVuSans-2e\"/>\n       <use x=\"95.410156\" xlink:href=\"#DejaVuSans-30\"/>\n       <use x=\"159.033203\" xlink:href=\"#DejaVuSans-35\"/>\n      </g>\n     </g>\n    </g>\n    <g id=\"ytick_3\">\n     <g id=\"line2d_9\">\n      <path clip-path=\"url(#p5574e5fc04)\" d=\"M 59.709375 176.28 \nL 394.509375 176.28 \n\" style=\"fill:none;stroke:#ffffff;stroke-linecap:round;\"/>\n     </g>\n     <g id=\"text_10\">\n      <!-- 0.10 -->\n      <g style=\"fill:#262626;\" transform=\"translate(25.717188 180.459141)scale(0.11 -0.11)\">\n       <use xlink:href=\"#DejaVuSans-30\"/>\n       <use x=\"63.623047\" xlink:href=\"#DejaVuSans-2e\"/>\n       <use x=\"95.410156\" xlink:href=\"#DejaVuSans-31\"/>\n       <use x=\"159.033203\" xlink:href=\"#DejaVuSans-30\"/>\n      </g>\n     </g>\n    </g>\n    <g id=\"ytick_4\">\n     <g id=\"line2d_10\">\n      <path clip-path=\"url(#p5574e5fc04)\" d=\"M 59.709375 149.1 \nL 394.509375 149.1 \n\" style=\"fill:none;stroke:#ffffff;stroke-linecap:round;\"/>\n     </g>\n     <g id=\"text_11\">\n      <!-- 0.15 -->\n      <g style=\"fill:#262626;\" transform=\"translate(25.717188 153.279141)scale(0.11 -0.11)\">\n       <use xlink:href=\"#DejaVuSans-30\"/>\n       <use x=\"63.623047\" xlink:href=\"#DejaVuSans-2e\"/>\n       <use x=\"95.410156\" xlink:href=\"#DejaVuSans-31\"/>\n       <use x=\"159.033203\" xlink:href=\"#DejaVuSans-35\"/>\n      </g>\n     </g>\n    </g>\n    <g id=\"ytick_5\">\n     <g id=\"line2d_11\">\n      <path clip-path=\"url(#p5574e5fc04)\" d=\"M 59.709375 121.92 \nL 394.509375 121.92 \n\" style=\"fill:none;stroke:#ffffff;stroke-linecap:round;\"/>\n     </g>\n     <g id=\"text_12\">\n      <!-- 0.20 -->\n      <g style=\"fill:#262626;\" transform=\"translate(25.717188 126.099141)scale(0.11 -0.11)\">\n       <use xlink:href=\"#DejaVuSans-30\"/>\n       <use x=\"63.623047\" xlink:href=\"#DejaVuSans-2e\"/>\n       <use x=\"95.410156\" xlink:href=\"#DejaVuSans-32\"/>\n       <use x=\"159.033203\" xlink:href=\"#DejaVuSans-30\"/>\n      </g>\n     </g>\n    </g>\n    <g id=\"ytick_6\">\n     <g id=\"line2d_12\">\n      <path clip-path=\"url(#p5574e5fc04)\" d=\"M 59.709375 94.74 \nL 394.509375 94.74 \n\" style=\"fill:none;stroke:#ffffff;stroke-linecap:round;\"/>\n     </g>\n     <g id=\"text_13\">\n      <!-- 0.25 -->\n      <g style=\"fill:#262626;\" transform=\"translate(25.717188 98.919141)scale(0.11 -0.11)\">\n       <use xlink:href=\"#DejaVuSans-30\"/>\n       <use x=\"63.623047\" xlink:href=\"#DejaVuSans-2e\"/>\n       <use x=\"95.410156\" xlink:href=\"#DejaVuSans-32\"/>\n       <use x=\"159.033203\" xlink:href=\"#DejaVuSans-35\"/>\n      </g>\n     </g>\n    </g>\n    <g id=\"ytick_7\">\n     <g id=\"line2d_13\">\n      <path clip-path=\"url(#p5574e5fc04)\" d=\"M 59.709375 67.56 \nL 394.509375 67.56 \n\" style=\"fill:none;stroke:#ffffff;stroke-linecap:round;\"/>\n     </g>\n     <g id=\"text_14\">\n      <!-- 0.30 -->\n      <defs>\n       <path d=\"M 40.578125 39.3125 \nQ 47.65625 37.796875 51.625 33 \nQ 55.609375 28.21875 55.609375 21.1875 \nQ 55.609375 10.40625 48.1875 4.484375 \nQ 40.765625 -1.421875 27.09375 -1.421875 \nQ 22.515625 -1.421875 17.65625 -0.515625 \nQ 12.796875 0.390625 7.625 2.203125 \nL 7.625 11.71875 \nQ 11.71875 9.328125 16.59375 8.109375 \nQ 21.484375 6.890625 26.8125 6.890625 \nQ 36.078125 6.890625 40.9375 10.546875 \nQ 45.796875 14.203125 45.796875 21.1875 \nQ 45.796875 27.640625 41.28125 31.265625 \nQ 36.765625 34.90625 28.71875 34.90625 \nL 20.21875 34.90625 \nL 20.21875 43.015625 \nL 29.109375 43.015625 \nQ 36.375 43.015625 40.234375 45.921875 \nQ 44.09375 48.828125 44.09375 54.296875 \nQ 44.09375 59.90625 40.109375 62.90625 \nQ 36.140625 65.921875 28.71875 65.921875 \nQ 24.65625 65.921875 20.015625 65.03125 \nQ 15.375 64.15625 9.8125 62.3125 \nL 9.8125 71.09375 \nQ 15.4375 72.65625 20.34375 73.4375 \nQ 25.25 74.21875 29.59375 74.21875 \nQ 40.828125 74.21875 47.359375 69.109375 \nQ 53.90625 64.015625 53.90625 55.328125 \nQ 53.90625 49.265625 50.4375 45.09375 \nQ 46.96875 40.921875 40.578125 39.3125 \nz\n\" id=\"DejaVuSans-33\"/>\n      </defs>\n      <g style=\"fill:#262626;\" transform=\"translate(25.717188 71.739141)scale(0.11 -0.11)\">\n       <use xlink:href=\"#DejaVuSans-30\"/>\n       <use x=\"63.623047\" xlink:href=\"#DejaVuSans-2e\"/>\n       <use x=\"95.410156\" xlink:href=\"#DejaVuSans-33\"/>\n       <use x=\"159.033203\" xlink:href=\"#DejaVuSans-30\"/>\n      </g>\n     </g>\n    </g>\n    <g id=\"ytick_8\">\n     <g id=\"line2d_14\">\n      <path clip-path=\"url(#p5574e5fc04)\" d=\"M 59.709375 40.38 \nL 394.509375 40.38 \n\" style=\"fill:none;stroke:#ffffff;stroke-linecap:round;\"/>\n     </g>\n     <g id=\"text_15\">\n      <!-- 0.35 -->\n      <g style=\"fill:#262626;\" transform=\"translate(25.717188 44.559141)scale(0.11 -0.11)\">\n       <use xlink:href=\"#DejaVuSans-30\"/>\n       <use x=\"63.623047\" xlink:href=\"#DejaVuSans-2e\"/>\n       <use x=\"95.410156\" xlink:href=\"#DejaVuSans-33\"/>\n       <use x=\"159.033203\" xlink:href=\"#DejaVuSans-35\"/>\n      </g>\n     </g>\n    </g>\n    <g id=\"ytick_9\">\n     <g id=\"line2d_15\">\n      <path clip-path=\"url(#p5574e5fc04)\" d=\"M 59.709375 13.2 \nL 394.509375 13.2 \n\" style=\"fill:none;stroke:#ffffff;stroke-linecap:round;\"/>\n     </g>\n     <g id=\"text_16\">\n      <!-- 0.40 -->\n      <g style=\"fill:#262626;\" transform=\"translate(25.717188 17.379141)scale(0.11 -0.11)\">\n       <use xlink:href=\"#DejaVuSans-30\"/>\n       <use x=\"63.623047\" xlink:href=\"#DejaVuSans-2e\"/>\n       <use x=\"95.410156\" xlink:href=\"#DejaVuSans-34\"/>\n       <use x=\"159.033203\" xlink:href=\"#DejaVuSans-30\"/>\n      </g>\n     </g>\n    </g>\n    <g id=\"text_17\">\n     <!-- Cumulative Mean Reward -->\n     <defs>\n      <path d=\"M 64.40625 67.28125 \nL 64.40625 56.890625 \nQ 59.421875 61.53125 53.78125 63.8125 \nQ 48.140625 66.109375 41.796875 66.109375 \nQ 29.296875 66.109375 22.65625 58.46875 \nQ 16.015625 50.828125 16.015625 36.375 \nQ 16.015625 21.96875 22.65625 14.328125 \nQ 29.296875 6.6875 41.796875 6.6875 \nQ 48.140625 6.6875 53.78125 8.984375 \nQ 59.421875 11.28125 64.40625 15.921875 \nL 64.40625 5.609375 \nQ 59.234375 2.09375 53.4375 0.328125 \nQ 47.65625 -1.421875 41.21875 -1.421875 \nQ 24.65625 -1.421875 15.125 8.703125 \nQ 5.609375 18.84375 5.609375 36.375 \nQ 5.609375 53.953125 15.125 64.078125 \nQ 24.65625 74.21875 41.21875 74.21875 \nQ 47.75 74.21875 53.53125 72.484375 \nQ 59.328125 70.75 64.40625 67.28125 \nz\n\" id=\"DejaVuSans-43\"/>\n      <path d=\"M 8.5 21.578125 \nL 8.5 54.6875 \nL 17.484375 54.6875 \nL 17.484375 21.921875 \nQ 17.484375 14.15625 20.5 10.265625 \nQ 23.53125 6.390625 29.59375 6.390625 \nQ 36.859375 6.390625 41.078125 11.03125 \nQ 45.3125 15.671875 45.3125 23.6875 \nL 45.3125 54.6875 \nL 54.296875 54.6875 \nL 54.296875 0 \nL 45.3125 0 \nL 45.3125 8.40625 \nQ 42.046875 3.421875 37.71875 1 \nQ 33.40625 -1.421875 27.6875 -1.421875 \nQ 18.265625 -1.421875 13.375 4.4375 \nQ 8.5 10.296875 8.5 21.578125 \nz\nM 31.109375 56 \nz\n\" id=\"DejaVuSans-75\"/>\n      <path d=\"M 52 44.1875 \nQ 55.375 50.25 60.0625 53.125 \nQ 64.75 56 71.09375 56 \nQ 79.640625 56 84.28125 50.015625 \nQ 88.921875 44.046875 88.921875 33.015625 \nL 88.921875 0 \nL 79.890625 0 \nL 79.890625 32.71875 \nQ 79.890625 40.578125 77.09375 44.375 \nQ 74.3125 48.1875 68.609375 48.1875 \nQ 61.625 48.1875 57.5625 43.546875 \nQ 53.515625 38.921875 53.515625 30.90625 \nL 53.515625 0 \nL 44.484375 0 \nL 44.484375 32.71875 \nQ 44.484375 40.625 41.703125 44.40625 \nQ 38.921875 48.1875 33.109375 48.1875 \nQ 26.21875 48.1875 22.15625 43.53125 \nQ 18.109375 38.875 18.109375 30.90625 \nL 18.109375 0 \nL 9.078125 0 \nL 9.078125 54.6875 \nL 18.109375 54.6875 \nL 18.109375 46.1875 \nQ 21.1875 51.21875 25.484375 53.609375 \nQ 29.78125 56 35.6875 56 \nQ 41.65625 56 45.828125 52.96875 \nQ 50 49.953125 52 44.1875 \nz\n\" id=\"DejaVuSans-6d\"/>\n      <path d=\"M 9.421875 75.984375 \nL 18.40625 75.984375 \nL 18.40625 0 \nL 9.421875 0 \nz\n\" id=\"DejaVuSans-6c\"/>\n      <path d=\"M 2.984375 54.6875 \nL 12.5 54.6875 \nL 29.59375 8.796875 \nL 46.6875 54.6875 \nL 56.203125 54.6875 \nL 35.6875 0 \nL 23.484375 0 \nz\n\" id=\"DejaVuSans-76\"/>\n      <path id=\"DejaVuSans-20\"/>\n      <path d=\"M 9.8125 72.90625 \nL 24.515625 72.90625 \nL 43.109375 23.296875 \nL 61.8125 72.90625 \nL 76.515625 72.90625 \nL 76.515625 0 \nL 66.890625 0 \nL 66.890625 64.015625 \nL 48.09375 14.015625 \nL 38.1875 14.015625 \nL 19.390625 64.015625 \nL 19.390625 0 \nL 9.8125 0 \nz\n\" id=\"DejaVuSans-4d\"/>\n      <path d=\"M 44.390625 34.1875 \nQ 47.5625 33.109375 50.5625 29.59375 \nQ 53.5625 26.078125 56.59375 19.921875 \nL 66.609375 0 \nL 56 0 \nL 46.6875 18.703125 \nQ 43.0625 26.03125 39.671875 28.421875 \nQ 36.28125 30.8125 30.421875 30.8125 \nL 19.671875 30.8125 \nL 19.671875 0 \nL 9.8125 0 \nL 9.8125 72.90625 \nL 32.078125 72.90625 \nQ 44.578125 72.90625 50.734375 67.671875 \nQ 56.890625 62.453125 56.890625 51.90625 \nQ 56.890625 45.015625 53.6875 40.46875 \nQ 50.484375 35.9375 44.390625 34.1875 \nz\nM 19.671875 64.796875 \nL 19.671875 38.921875 \nL 32.078125 38.921875 \nQ 39.203125 38.921875 42.84375 42.21875 \nQ 46.484375 45.515625 46.484375 51.90625 \nQ 46.484375 58.296875 42.84375 61.546875 \nQ 39.203125 64.796875 32.078125 64.796875 \nz\n\" id=\"DejaVuSans-52\"/>\n      <path d=\"M 4.203125 54.6875 \nL 13.1875 54.6875 \nL 24.421875 12.015625 \nL 35.59375 54.6875 \nL 46.1875 54.6875 \nL 57.421875 12.015625 \nL 68.609375 54.6875 \nL 77.59375 54.6875 \nL 63.28125 0 \nL 52.6875 0 \nL 40.921875 44.828125 \nL 29.109375 0 \nL 18.5 0 \nz\n\" id=\"DejaVuSans-77\"/>\n      <path d=\"M 45.40625 46.390625 \nL 45.40625 75.984375 \nL 54.390625 75.984375 \nL 54.390625 0 \nL 45.40625 0 \nL 45.40625 8.203125 \nQ 42.578125 3.328125 38.25 0.953125 \nQ 33.9375 -1.421875 27.875 -1.421875 \nQ 17.96875 -1.421875 11.734375 6.484375 \nQ 5.515625 14.40625 5.515625 27.296875 \nQ 5.515625 40.1875 11.734375 48.09375 \nQ 17.96875 56 27.875 56 \nQ 33.9375 56 38.25 53.625 \nQ 42.578125 51.265625 45.40625 46.390625 \nz\nM 14.796875 27.296875 \nQ 14.796875 17.390625 18.875 11.75 \nQ 22.953125 6.109375 30.078125 6.109375 \nQ 37.203125 6.109375 41.296875 11.75 \nQ 45.40625 17.390625 45.40625 27.296875 \nQ 45.40625 37.203125 41.296875 42.84375 \nQ 37.203125 48.484375 30.078125 48.484375 \nQ 22.953125 48.484375 18.875 42.84375 \nQ 14.796875 37.203125 14.796875 27.296875 \nz\n\" id=\"DejaVuSans-64\"/>\n     </defs>\n     <g style=\"fill:#262626;\" transform=\"translate(18.597656 218.323125)rotate(-90)scale(0.15 -0.15)\">\n      <use xlink:href=\"#DejaVuSans-43\"/>\n      <use x=\"69.824219\" xlink:href=\"#DejaVuSans-75\"/>\n      <use x=\"133.203125\" xlink:href=\"#DejaVuSans-6d\"/>\n      <use x=\"230.615234\" xlink:href=\"#DejaVuSans-75\"/>\n      <use x=\"293.994141\" xlink:href=\"#DejaVuSans-6c\"/>\n      <use x=\"321.777344\" xlink:href=\"#DejaVuSans-61\"/>\n      <use x=\"383.056641\" xlink:href=\"#DejaVuSans-74\"/>\n      <use x=\"422.265625\" xlink:href=\"#DejaVuSans-69\"/>\n      <use x=\"450.048828\" xlink:href=\"#DejaVuSans-76\"/>\n      <use x=\"509.228516\" xlink:href=\"#DejaVuSans-65\"/>\n      <use x=\"570.751953\" xlink:href=\"#DejaVuSans-20\"/>\n      <use x=\"602.539062\" xlink:href=\"#DejaVuSans-4d\"/>\n      <use x=\"688.818359\" xlink:href=\"#DejaVuSans-65\"/>\n      <use x=\"750.341797\" xlink:href=\"#DejaVuSans-61\"/>\n      <use x=\"811.621094\" xlink:href=\"#DejaVuSans-6e\"/>\n      <use x=\"875\" xlink:href=\"#DejaVuSans-20\"/>\n      <use x=\"906.787109\" xlink:href=\"#DejaVuSans-52\"/>\n      <use x=\"976.207031\" xlink:href=\"#DejaVuSans-65\"/>\n      <use x=\"1037.730469\" xlink:href=\"#DejaVuSans-77\"/>\n      <use x=\"1119.517578\" xlink:href=\"#DejaVuSans-61\"/>\n      <use x=\"1180.796875\" xlink:href=\"#DejaVuSans-72\"/>\n      <use x=\"1221.894531\" xlink:href=\"#DejaVuSans-64\"/>\n     </g>\n    </g>\n   </g>\n   <g id=\"line2d_16\">\n    <path clip-path=\"url(#p5574e5fc04)\" d=\"M 74.927557 230.64 \nL 75.272901 230.64 \nL 75.30168 211.225714 \nL 75.388016 214.651765 \nL 75.618246 219.768 \nL 75.733361 202.522759 \nL 75.762139 203.46 \nL 75.934812 207.99 \nL 76.021148 188.824615 \nL 76.078705 190.86439 \nL 76.42405 199.870189 \nL 76.481607 191.105455 \nL 76.567943 193.150345 \nL 76.942067 200.014648 \nL 76.970845 196.665 \nL 77.057181 198.024 \nL 77.143517 199.278462 \nL 77.172296 196.234937 \nL 77.258632 197.493659 \nL 77.805428 203.729109 \nL 77.834207 201.328235 \nL 77.920543 202.165714 \nL 78.179551 204.413684 \nL 78.20833 202.278261 \nL 78.294666 202.999322 \nL 78.409781 203.905574 \nL 78.438559 201.913171 \nL 78.524896 202.597143 \nL 78.87024 205.035652 \nL 79.014134 200.228811 \nL 79.042912 200.44 \nL 79.53215 203.62882 \nL 79.560929 202.117778 \nL 79.647265 202.636364 \nL 79.791159 203.46 \nL 79.819938 202.029474 \nL 79.906274 202.522759 \nL 80.078946 203.46 \nL 80.107725 202.108508 \nL 80.194061 202.573696 \nL 80.366733 203.46 \nL 80.395512 202.179267 \nL 80.481848 202.619381 \nL 81.345209 206.372143 \nL 81.575439 207.208966 \nL 81.604218 206.143004 \nL 81.690554 206.454407 \nL 81.805668 206.8575 \nL 81.949562 204.014694 \nL 81.978341 204.122927 \nL 82.553915 206.116692 \nL 82.582694 205.190562 \nL 82.66903 205.473333 \nL 83.273383 207.289485 \nL 83.302161 206.43863 \nL 83.388498 206.684746 \nL 83.474834 206.925906 \nL 83.589949 205.44 \nL 83.618727 205.523168 \nL 84.050408 206.707925 \nL 84.079187 205.930909 \nL 84.165523 206.161118 \nL 84.539646 207.111045 \nL 84.568425 206.372143 \nL 84.654761 206.586903 \nL 84.856212 207.073526 \nL 84.88499 206.358156 \nL 84.971327 206.566286 \nL 85.201556 207.104246 \nL 85.316671 205.862652 \nL 85.34545 205.930909 \nL 85.690794 206.7216 \nL 85.719573 206.06234 \nL 85.805909 206.256887 \nL 86.208811 207.125496 \nL 86.352705 206.055075 \nL 87.503853 208.300274 \nL 87.676525 206.765676 \nL 88.309657 207.89279 \nL 88.338436 207.359486 \nL 88.424772 207.508085 \nL 88.885231 208.26963 \nL 88.91401 207.757454 \nL 89.000346 207.897551 \nL 90.093937 209.534318 \nL 90.180273 208.629831 \nL 90.237831 208.71242 \nL 90.755847 209.428748 \nL 90.784626 208.974783 \nL 90.870962 209.091892 \nL 90.957298 209.207742 \nL 90.986077 208.759857 \nL 91.072413 208.876655 \nL 91.417758 209.331638 \nL 91.532872 208.538616 \nL 91.561651 208.576788 \nL 91.763102 208.840341 \nL 91.791881 208.414446 \nL 91.878217 208.527458 \nL 92.425012 209.21734 \nL 92.453791 208.806885 \nL 92.540127 208.913736 \nL 93.029365 209.5 \nL 93.058144 209.102758 \nL 93.14448 209.204669 \nL 93.691276 209.828361 \nL 93.720054 209.444587 \nL 93.806391 209.54137 \nL 94.209292 209.98158 \nL 94.238071 209.607857 \nL 94.324407 209.701333 \nL 94.353186 209.732308 \nL 94.381965 209.361713 \nL 94.468301 209.455588 \nL 94.986318 210.001891 \nL 95.101432 209.345128 \nL 95.130211 209.37542 \nL 95.590671 209.848623 \nL 95.619449 209.5 \nL 95.705785 209.587718 \nL 95.993572 209.874925 \nL 96.022351 209.532916 \nL 96.108687 209.618833 \nL 96.195023 209.704054 \nL 96.223802 209.365506 \nL 96.310138 209.45129 \nL 96.482811 209.6208 \nL 96.569147 208.982629 \nL 96.626704 209.04 \nL 96.856934 209.266474 \nL 96.885713 208.582932 \nL 96.972049 208.669205 \nL 97.259836 208.951969 \nL 97.288614 208.630488 \nL 97.374951 208.715032 \nL 97.576402 208.909797 \nL 97.60518 208.592852 \nL 97.691516 208.676364 \nL 97.720295 208.704061 \nL 97.749074 208.38937 \nL 97.83541 208.473124 \nL 98.267091 208.882611 \nL 98.295869 208.575055 \nL 98.382205 208.656176 \nL 98.49732 208.763415 \nL 98.583656 208.182649 \nL 98.641214 208.237091 \nL 98.785107 208.372048 \nL 98.813886 208.071769 \nL 98.900222 208.15295 \nL 99.159231 208.393025 \nL 99.245567 207.829362 \nL 99.303124 207.88316 \nL 99.38946 207.963384 \nL 99.418239 207.670986 \nL 99.504575 207.751579 \nL 99.533354 207.778318 \nL 99.590911 207.198042 \nL 99.677247 207.279721 \nL 99.763583 207.360833 \nL 99.84992 206.814394 \nL 99.907477 206.869229 \nL 99.936256 206.896552 \nL 99.965034 206.611757 \nL 100.051371 206.694233 \nL 100.2816 206.911429 \nL 100.310379 206.630487 \nL 100.396715 206.711783 \nL 101.116183 207.36843 \nL 101.144962 207.095921 \nL 101.231298 207.173115 \nL 102.411225 208.17954 \nL 102.497561 207.682961 \nL 102.555118 207.730739 \nL 102.929242 208.036509 \nL 102.95802 207.780923 \nL 103.044356 207.851043 \nL 103.18825 207.966958 \nL 103.217029 207.71378 \nL 103.303365 207.783465 \nL 103.360922 207.829687 \nL 103.389701 207.578182 \nL 103.476037 207.647855 \nL 103.591152 207.7401 \nL 103.735045 207.311856 \nL 103.907718 207.450714 \nL 104.022833 206.468063 \nL 104.051611 206.491925 \nL 104.396956 206.774634 \nL 104.425735 206.26807 \nL 104.512071 206.339125 \nL 104.655964 206.456634 \nL 104.7423 205.478187 \nL 104.799858 205.526622 \nL 104.828636 205.550769 \nL 104.857415 205.313775 \nL 104.943751 205.386552 \nL 105.058866 205.482939 \nL 105.20276 205.086154 \nL 105.260317 205.134597 \nL 105.461768 203.511186 \nL 105.548104 203.587606 \nL 105.691998 203.714019 \nL 105.720776 203.485378 \nL 105.807113 203.561229 \nL 106.152457 203.860442 \nL 106.181236 203.635032 \nL 106.267572 203.709358 \nL 106.469023 203.881203 \nL 106.584138 203.484687 \nL 106.612916 203.509328 \nL 106.728031 203.60745 \nL 106.75681 203.140813 \nL 106.843146 203.215135 \nL 106.900704 203.26446 \nL 107.073376 202.682039 \nL 107.130933 202.731964 \nL 107.159712 202.514398 \nL 107.246048 202.589466 \nL 107.361163 202.688936 \nL 107.41872 202.257345 \nL 107.505056 202.332498 \nL 107.591393 202.407254 \nL 107.620171 202.193034 \nL 107.706507 202.267895 \nL 107.850401 202.39179 \nL 107.87918 202.179267 \nL 107.965516 202.253577 \nL 107.994295 202.278261 \nL 108.023073 202.066759 \nL 108.109409 202.14104 \nL 108.224524 202.239482 \nL 108.253303 202.029474 \nL 108.339639 202.103339 \nL 108.828877 202.514809 \nL 108.915213 202.126294 \nL 108.972771 202.174459 \nL 109.346894 202.483609 \nL 109.43323 201.8745 \nL 109.519566 201.946234 \nL 109.749796 202.135789 \nL 109.836132 201.758451 \nL 109.893689 201.805954 \nL 110.123919 201.994412 \nL 110.152698 201.795918 \nL 110.239034 201.866384 \nL 110.440485 202.029474 \nL 110.584378 201.706452 \nL 110.699493 201.799486 \nL 110.728272 201.386024 \nL 110.814608 201.456346 \nL 110.843387 201.479712 \nL 110.872166 201.2856 \nL 110.958502 201.355882 \nL 111.131174 201.495441 \nL 111.361404 200.606851 \nL 111.476518 200.701369 \nL 111.505297 200.511226 \nL 111.591633 200.582118 \nL 111.677969 200.652676 \nL 111.87942 199.758444 \nL 111.908199 199.782457 \nL 111.936978 199.806434 \nL 111.965757 199.619348 \nL 112.052093 199.691433 \nL 112.10965 199.739304 \nL 112.138429 199.553138 \nL 112.224765 199.625042 \nL 112.282322 199.672794 \nL 112.33988 199.302567 \nL 112.426216 199.374663 \nL 113.088126 199.916564 \nL 113.116905 199.73503 \nL 113.203241 199.804688 \nL 113.577364 200.102946 \nL 113.606143 199.923569 \nL 113.692479 199.991929 \nL 113.980266 200.217614 \nL 114.009045 200.04 \nL 114.095381 200.107401 \nL 114.354389 200.307834 \nL 114.383168 200.131837 \nL 114.469504 200.1984 \nL 114.699734 200.37449 \nL 114.872406 199.722505 \nL 114.901185 199.744748 \nL 115.246529 200.009187 \nL 115.275308 199.837292 \nL 115.361644 199.903016 \nL 115.390423 199.924861 \nL 115.419202 199.753636 \nL 115.505538 199.819305 \nL 115.649431 199.928136 \nL 115.67821 199.757996 \nL 115.764546 199.823239 \nL 115.850882 199.888208 \nL 116.023555 199.256515 \nL 116.052333 199.278462 \nL 116.109891 199.322263 \nL 116.225006 198.841671 \nL 116.253784 198.8638 \nL 116.368899 198.952006 \nL 116.656686 197.297202 \nL 116.743022 197.365997 \nL 116.858137 197.457284 \nL 116.886916 197.293735 \nL 116.973252 197.362161 \nL 117.117146 197.475583 \nL 117.145924 197.313025 \nL 117.23226 197.380993 \nL 117.347375 197.471186 \nL 117.376154 197.309512 \nL 117.46249 197.37712 \nL 117.548826 197.444453 \nL 117.577605 197.100283 \nL 117.663941 197.167995 \nL 117.779056 197.257852 \nL 117.807835 197.097948 \nL 117.894171 197.165301 \nL 117.922949 197.187692 \nL 117.951728 196.846684 \nL 118.038064 196.914316 \nL 118.095622 196.959254 \nL 118.1244 196.800719 \nL 118.210737 196.868173 \nL 118.469745 197.06893 \nL 118.498524 196.911683 \nL 118.58486 196.97834 \nL 118.613639 197.0005 \nL 118.642417 196.843816 \nL 118.728753 196.910387 \nL 118.757532 196.93252 \nL 118.843868 196.464754 \nL 118.930204 196.531765 \nL 119.217991 196.753247 \nL 119.361885 196.335146 \nL 119.390664 196.357335 \nL 119.419442 196.379496 \nL 119.592115 195.111732 \nL 119.620893 195.134595 \nL 119.649672 195.157428 \nL 119.707229 194.679306 \nL 119.822344 194.771454 \nL 120.023795 194.931582 \nL 120.052574 194.781109 \nL 120.13891 194.849542 \nL 120.340361 195.008208 \nL 120.36914 194.858734 \nL 120.455476 194.926545 \nL 120.541812 194.994098 \nL 120.685706 194.422778 \nL 120.887157 194.581427 \nL 120.915935 194.433996 \nL 121.002271 194.501798 \nL 121.117386 194.591806 \nL 121.232501 194.343727 \nL 121.26128 194.366257 \nL 121.721739 194.722975 \nL 121.750518 194.578084 \nL 121.836854 194.644414 \nL 121.92319 194.710502 \nL 121.951969 194.566239 \nL 122.038305 194.632308 \nL 122.441207 194.937458 \nL 122.469986 194.6302 \nL 122.556322 194.695435 \nL 122.844109 194.911188 \nL 122.959224 194.508503 \nL 123.016781 194.551722 \nL 123.448462 194.872602 \nL 123.47724 194.732773 \nL 123.563577 194.796475 \nL 123.649913 194.859953 \nL 123.765028 194.624099 \nL 123.793806 194.645297 \nL 124.139151 194.897744 \nL 124.225487 194.325998 \nL 124.283044 194.368322 \nL 124.340602 194.410547 \nL 124.484495 194.042438 \nL 124.513274 194.063666 \nL 124.628389 194.148333 \nL 124.743504 193.918753 \nL 124.772282 193.939942 \nL 124.858619 194.003364 \nL 124.887397 193.867979 \nL 124.973733 193.931379 \nL 125.117627 194.036562 \nL 125.203963 193.632906 \nL 125.290299 193.696311 \nL 125.405414 193.780513 \nL 125.434193 193.491936 \nL 125.520529 193.555293 \nL 125.779537 193.744072 \nL 125.808316 193.611283 \nL 125.894652 193.673973 \nL 126.38389 194.025243 \nL 126.470226 193.631518 \nL 126.527784 193.672776 \nL 127.160915 194.120617 \nL 127.304809 193.773114 \nL 127.333588 193.793348 \nL 127.419924 193.853918 \nL 127.448702 193.725214 \nL 127.535039 193.785763 \nL 127.592596 193.826019 \nL 127.621375 193.549389 \nL 127.707711 193.610027 \nL 128.053055 193.850612 \nL 128.225728 193.23633 \nL 128.283285 193.276658 \nL 128.455957 193.39712 \nL 128.484736 193.271149 \nL 128.571072 193.33126 \nL 128.657408 193.391178 \nL 128.743744 193.160363 \nL 128.801302 193.200384 \nL 128.830081 193.220363 \nL 128.916417 192.845754 \nL 128.973974 192.885982 \nL 129.06031 192.946164 \nL 129.175425 192.737879 \nL 129.204204 192.757965 \nL 129.319319 192.838096 \nL 129.348097 192.570761 \nL 129.434433 192.631029 \nL 129.750999 192.850388 \nL 129.779778 192.727677 \nL 129.866114 192.787225 \nL 130.269016 193.062661 \nL 130.384131 192.576722 \nL 130.470467 192.635857 \nL 130.528024 192.675178 \nL 130.643139 192.472938 \nL 130.671918 192.492632 \nL 130.729475 192.531959 \nL 130.873369 192.210694 \nL 130.902148 192.230442 \nL 131.132377 192.387697 \nL 131.189935 192.009939 \nL 131.276271 192.069096 \nL 131.30505 192.088776 \nL 131.420164 191.890509 \nL 131.448943 191.910229 \nL 131.765509 192.12583 \nL 131.909403 191.948632 \nL 131.938181 191.968153 \nL 131.96696 191.85059 \nL 132.053296 191.909184 \nL 132.168411 191.987035 \nL 132.283526 191.655647 \nL 132.312304 191.675188 \nL 133.233223 192.290321 \nL 133.262002 192.041183 \nL 133.348338 192.098198 \nL 133.377117 192.117165 \nL 133.463453 191.773268 \nL 133.549789 191.830481 \nL 133.722461 191.944403 \nL 133.952691 191.300526 \nL 133.98147 191.319688 \nL 134.010248 191.338832 \nL 134.182921 190.529709 \nL 134.211699 190.54917 \nL 134.298035 190.607442 \nL 134.326814 190.363584 \nL 134.41315 190.422012 \nL 134.614601 190.557687 \nL 134.672159 190.465421 \nL 134.844831 189.798233 \nL 134.959946 189.876512 \nL 134.988724 189.765862 \nL 135.017503 189.655318 \nL 135.103839 189.714092 \nL 135.391626 189.908792 \nL 135.477963 189.579477 \nL 135.53552 189.618453 \nL 135.708192 189.606304 \nL 135.909643 189.228962 \nL 136.312545 189.373271 \nL 136.341324 189.265293 \nL 136.42766 189.323349 \nL 136.571554 189.419748 \nL 136.744226 188.902448 \nL 136.974455 188.931238 \nL 137.291021 188.139908 \nL 137.636366 188.373853 \nL 137.693923 188.288029 \nL 137.837817 188.136296 \nL 138.384612 188.379166 \nL 138.470948 188.067433 \nL 138.557285 188.125172 \nL 138.672399 188.07926 \nL 138.701178 187.975859 \nL 138.787514 188.033514 \nL 139.247974 188.216834 \nL 139.276752 188.114296 \nL 139.363088 188.17125 \nL 139.650875 188.2392 \nL 139.679654 188.13729 \nL 139.76599 188.19386 \nL 139.909884 188.287809 \nL 139.938663 188.186283 \nL 140.082556 187.8 \nL 140.140114 187.837794 \nL 140.168892 187.856667 \nL 140.197671 187.755734 \nL 140.370343 187.510418 \nL 140.802024 187.674236 \nL 140.830803 187.574352 \nL 140.917139 187.630671 \nL 141.262483 187.736618 \nL 141.348819 187.556934 \nL 141.406377 187.594219 \nL 141.435155 187.612837 \nL 141.463934 187.51393 \nL 141.55027 187.100363 \nL 141.607828 187.137929 \nL 141.981951 187.263938 \nL 142.097066 187.105439 \nL 142.125845 187.124075 \nL 142.67264 187.359745 \nL 142.701419 187.26275 \nL 142.787755 187.317914 \nL 143.33455 187.549756 \nL 143.449665 187.165693 \nL 143.536001 187.220377 \nL 143.56478 187.238575 \nL 143.593559 187.142891 \nL 143.737452 186.438411 \nL 143.881346 186.530613 \nL 144.082797 186.54599 \nL 144.284248 185.884878 \nL 144.399363 185.50882 \nL 144.485699 185.564814 \nL 144.572035 185.508401 \nL 144.600814 185.414814 \nL 144.68715 185.470763 \nL 145.11883 185.637049 \nL 145.233945 185.265859 \nL 145.262724 185.284417 \nL 145.521732 185.34 \nL 145.780741 184.733057 \nL 145.809519 184.751688 \nL 145.867077 184.788905 \nL 145.895856 184.697317 \nL 145.953413 184.514362 \nL 146.039749 184.57034 \nL 146.269979 184.609355 \nL 146.298757 184.518356 \nL 146.385094 184.574058 \nL 146.557766 184.575904 \nL 146.701659 184.232465 \nL 146.759217 184.269636 \nL 146.845553 184.32528 \nL 146.960668 184.073626 \nL 146.989447 184.092216 \nL 147.36357 184.224591 \nL 147.565021 183.81505 \nL 147.593799 183.833587 \nL 147.737693 183.818665 \nL 147.939144 183.198156 \nL 147.996701 183.235512 \nL 148.02548 183.147202 \nL 148.226931 182.744317 \nL 148.25571 182.763107 \nL 148.370825 182.731657 \nL 148.399603 182.643994 \nL 148.485939 182.700305 \nL 148.68739 182.831186 \nL 148.831284 182.606835 \nL 148.860063 182.625525 \nL 148.946399 182.258966 \nL 149.003956 182.296544 \nL 149.176628 182.303619 \nL 149.291743 181.537253 \nL 149.378079 181.594173 \nL 149.80976 181.772386 \nL 149.838539 181.686774 \nL 149.924875 181.743107 \nL 150.011211 181.695172 \nL 150.068768 181.420475 \nL 150.183883 181.495734 \nL 150.212662 181.514513 \nL 150.241441 181.429458 \nL 150.442892 180.939429 \nL 150.500449 180.977267 \nL 150.529228 180.996164 \nL 150.673121 180.780752 \nL 150.960908 180.969398 \nL 151.018466 180.595917 \nL 151.104802 180.652613 \nL 151.219917 180.62552 \nL 151.36381 180.515047 \nL 151.651598 180.60108 \nL 151.709155 180.434904 \nL 151.795491 180.491272 \nL 152.083278 180.576913 \nL 152.342287 180.037324 \nL 152.371065 180.056122 \nL 152.457401 180.11243 \nL 152.48618 179.92954 \nL 152.572516 179.985906 \nL 152.601295 180.004667 \nL 152.630074 179.922784 \nL 152.773967 179.715166 \nL 152.802746 179.733979 \nL 152.860303 179.771561 \nL 152.946639 179.527168 \nL 153.004197 179.564834 \nL 153.234427 179.21568 \nL 153.291984 179.253436 \nL 153.320763 179.17255 \nL 153.407099 178.930249 \nL 153.493435 178.987052 \nL 153.694886 179.019839 \nL 153.867558 178.736501 \nL 153.896337 178.75541 \nL 153.925116 178.774304 \nL 153.953894 178.694241 \nL 154.126567 178.511268 \nL 154.155345 178.530196 \nL 154.184124 178.450454 \nL 154.471911 177.852803 \nL 154.50069 177.871887 \nL 154.673362 177.888052 \nL 154.846034 177.414946 \nL 154.93237 177.472362 \nL 155.191379 177.546452 \nL 155.306494 177.136063 \nL 155.364051 177.174335 \nL 155.594281 177.326876 \nL 155.62306 177.152086 \nL 155.709396 177.209231 \nL 155.795732 177.266254 \nL 155.82451 177.09192 \nL 155.910847 177.148988 \nL 155.939625 177.167983 \nL 156.025961 176.83922 \nL 156.083519 176.877363 \nL 156.5152 177.065882 \nL 156.601536 176.931018 \nL 156.659093 176.968828 \nL 157.090774 177.155546 \nL 157.119552 177.079132 \nL 157.205889 177.135315 \nL 157.263446 177.172704 \nL 157.292225 177.096444 \nL 157.40734 176.886739 \nL 157.464897 176.924211 \nL 157.954135 177.240624 \nL 157.982914 177.164974 \nL 158.155586 176.900076 \nL 158.184365 176.918645 \nL 158.357037 177.029793 \nL 158.385816 176.860889 \nL 158.472152 176.916446 \nL 158.587267 176.896878 \nL 158.846275 176.410449 \nL 158.875054 176.429034 \nL 159.19162 176.539829 \nL 159.335513 176.35411 \nL 159.508185 176.187551 \nL 159.652079 176.187708 \nL 159.709636 175.855745 \nL 159.795972 175.911458 \nL 159.882309 175.967057 \nL 159.911087 175.893555 \nL 160.08376 175.453581 \nL 160.170096 175.417725 \nL 160.313989 175.327601 \nL 160.457883 175.329203 \nL 160.486661 175.165017 \nL 160.572998 175.22092 \nL 160.601776 175.23953 \nL 160.630555 175.166888 \nL 160.774449 175.077668 \nL 161.004678 175.135388 \nL 161.177351 174.883829 \nL 161.206129 174.902421 \nL 161.263687 174.939567 \nL 161.292465 174.777042 \nL 161.378801 174.832812 \nL 161.40758 174.851377 \nL 161.436359 174.779541 \nL 161.609031 174.439734 \nL 161.925597 174.554286 \nL 161.983154 174.232069 \nL 162.069491 174.287937 \nL 162.155827 174.25405 \nL 162.328499 174.007544 \nL 162.357278 174.02618 \nL 162.414835 174.063413 \nL 162.587507 173.639606 \nL 162.702622 173.714336 \nL 162.990409 172.657184 \nL 163.047967 172.695044 \nL 163.19186 172.080743 \nL 163.249418 172.118893 \nL 163.508426 172.201676 \nL 163.537205 172.132403 \nL 163.623541 172.189335 \nL 163.65232 172.208288 \nL 163.681098 172.139125 \nL 163.853771 171.900951 \nL 163.882549 171.919948 \nL 163.940107 171.957906 \nL 164.170336 171.233037 \nL 164.285451 171.222035 \nL 164.400566 170.948875 \nL 164.429345 170.968062 \nL 164.458123 170.987237 \nL 164.486902 170.919088 \nL 164.717132 170.462557 \nL 164.774689 170.501095 \nL 165.033698 170.587126 \nL 165.120034 170.297799 \nL 165.177591 170.33627 \nL 165.465378 170.441525 \nL 165.494157 170.374307 \nL 165.580493 170.431685 \nL 165.724387 170.527072 \nL 165.810723 170.06792 \nL 165.897059 170.125389 \nL 165.925838 170.144521 \nL 166.040952 169.877638 \nL 166.069731 169.896818 \nL 166.184846 169.973417 \nL 166.32874 169.726686 \nL 166.415076 169.784151 \nL 166.443854 169.632392 \nL 166.530191 169.689874 \nL 166.846756 169.814648 \nL 167.105765 169.476517 \nL 167.393552 169.66682 \nL 167.422331 169.601244 \nL 167.767675 168.985956 \nL 167.796454 169.005056 \nL 167.940347 169.016307 \nL 168.055462 168.840556 \nL 168.170577 168.832965 \nL 168.343249 168.612344 \nL 168.372028 168.631441 \nL 168.487143 168.624133 \nL 168.717373 168.192699 \nL 168.77493 168.230987 \nL 168.890045 168.224201 \nL 169.033938 168.070327 \nL 169.062717 168.08945 \nL 169.292947 168.159146 \nL 169.494398 167.961448 \nL 169.523176 167.980511 \nL 169.638291 167.808955 \nL 170.012414 167.973858 \nL 170.069972 167.847378 \nL 170.156308 167.90429 \nL 170.213865 167.942174 \nL 170.242644 167.797018 \nL 170.32898 167.853872 \nL 170.501653 167.721818 \nL 170.846997 167.948278 \nL 170.875776 167.804078 \nL 170.962112 167.860551 \nL 170.990891 167.879353 \nL 171.106005 167.629231 \nL 171.134784 167.648074 \nL 171.163563 167.666906 \nL 171.278678 167.417486 \nL 171.307456 167.436358 \nL 171.45135 167.368525 \nL 171.537686 167.425051 \nL 171.595244 167.22 \nL 171.652801 167.257728 \nL 171.911809 167.426947 \nL 172.170818 166.549882 \nL 172.314711 166.644549 \nL 172.429826 166.479481 \nL 172.803949 166.644762 \nL 172.832728 166.583697 \nL 172.919064 166.640117 \nL 173.206851 166.747904 \nL 173.23563 166.687059 \nL 173.321966 166.743158 \nL 173.638532 166.868796 \nL 173.868762 166.384868 \nL 173.955098 166.440872 \nL 174.214106 166.608299 \nL 174.358 166.229062 \nL 174.386778 166.247695 \nL 174.415557 166.266316 \nL 174.473115 165.989306 \nL 174.559451 166.045313 \nL 174.588229 166.063961 \nL 174.617008 166.004156 \nL 174.674565 165.727857 \nL 174.760902 165.783977 \nL 174.876016 165.780415 \nL 174.904795 165.642647 \nL 174.991131 165.698712 \nL 175.192582 165.829154 \nL 175.307697 165.669751 \nL 175.509148 165.722094 \nL 175.68182 165.367641 \nL 175.854493 165.169361 \nL 175.883271 165.188019 \nL 176.401288 165.44499 \nL 176.430067 165.386429 \nL 176.516403 165.441869 \nL 176.717854 165.494042 \nL 176.746633 165.435648 \nL 176.832969 165.490875 \nL 176.861747 165.509263 \nL 176.890526 165.450948 \nL 177.005641 165.218016 \nL 177.091977 165.273286 \nL 177.207092 165.346835 \nL 177.379764 164.998888 \nL 177.408543 165.017316 \nL 177.437322 164.95945 \nL 177.667551 164.649913 \nL 177.69633 164.668387 \nL 177.782666 164.723748 \nL 177.811445 164.590168 \nL 177.897781 164.645532 \nL 177.92656 164.663966 \nL 178.012896 164.415774 \nL 178.070453 164.45272 \nL 178.156789 164.432308 \nL 178.214347 164.166351 \nL 178.300683 164.221854 \nL 178.35824 164.258804 \nL 178.387019 164.20168 \nL 178.617249 163.896659 \nL 178.646027 163.915173 \nL 178.732364 163.970654 \nL 178.761142 163.913815 \nL 178.905036 163.705302 \nL 178.962593 163.742323 \nL 178.991372 163.760818 \nL 179.020151 163.704179 \nL 179.135266 163.552976 \nL 179.192823 163.59 \nL 179.307938 163.663925 \nL 179.394274 163.41984 \nL 179.451831 163.456846 \nL 179.566946 163.456002 \nL 179.595725 163.399758 \nL 179.682061 163.455161 \nL 180.056184 163.619803 \nL 180.228857 163.209836 \nL 180.286414 163.246663 \nL 180.315193 163.19086 \nL 180.343971 163.060906 \nL 180.430307 163.116193 \nL 180.487865 163.153001 \nL 180.574201 162.912059 \nL 180.631758 162.948928 \nL 180.660537 162.893388 \nL 180.746873 162.948646 \nL 181.120997 163.113422 \nL 181.380005 162.763459 \nL 181.408784 162.7818 \nL 181.869243 163.073898 \nL 181.984358 162.708261 \nL 182.041915 162.744754 \nL 182.15703 162.744695 \nL 182.272145 162.598939 \nL 182.444817 162.635451 \nL 182.502375 162.52644 \nL 182.588711 162.581048 \nL 182.732604 162.671865 \nL 182.81894 162.43632 \nL 182.876498 162.472676 \nL 182.962834 162.527137 \nL 182.991613 162.400543 \nL 183.077949 162.455004 \nL 183.135506 162.491263 \nL 183.221842 162.256738 \nL 183.2794 162.293054 \nL 183.394515 162.36557 \nL 183.509629 162.005819 \nL 183.567187 162.042172 \nL 183.653523 162.096629 \nL 183.682302 161.970952 \nL 183.768638 162.025408 \nL 183.970089 161.793562 \nL 183.998868 161.811723 \nL 184.286655 161.992802 \nL 184.459327 161.672624 \nL 184.545663 161.726929 \nL 184.60322 161.549182 \nL 184.660778 161.585412 \nL 184.919786 161.676882 \nL 185.034901 161.180789 \nL 185.121237 161.235196 \nL 185.265131 161.325684 \nL 185.293909 161.202044 \nL 185.380246 161.256306 \nL 185.466582 161.310484 \nL 185.581697 161.099906 \nL 185.610475 161.117983 \nL 185.696811 161.101558 \nL 185.72559 160.978458 \nL 185.811926 161.032683 \nL 186.070935 161.124494 \nL 186.301164 160.776657 \nL 186.358722 160.812734 \nL 186.61773 160.974621 \nL 186.646509 160.852568 \nL 186.732845 160.906444 \nL 186.819181 160.890347 \nL 186.934296 160.612926 \nL 186.963075 160.630909 \nL 187.049411 160.684804 \nL 187.222083 159.956679 \nL 187.308419 160.010968 \nL 187.567428 160.173333 \nL 187.797657 159.554912 \nL 187.855215 159.591134 \nL 187.883993 159.470769 \nL 187.970329 159.525111 \nL 187.999108 159.543206 \nL 188.085444 159.321007 \nL 188.143002 159.357255 \nL 188.258117 159.429642 \nL 188.286895 159.309746 \nL 188.373231 159.364017 \nL 188.459568 159.349326 \nL 188.488346 159.298525 \nL 188.574682 159.352709 \nL 188.603461 159.370752 \nL 188.718576 159.167939 \nL 188.747355 159.186006 \nL 188.977584 159.261645 \nL 189.121478 159.146122 \nL 189.150257 159.164131 \nL 189.179035 159.18213 \nL 189.207814 159.131692 \nL 189.351708 158.948222 \nL 189.409265 158.984257 \nL 190.042397 159.310332 \nL 190.099954 159.142273 \nL 190.215069 159.213646 \nL 190.330184 159.284877 \nL 190.358962 159.167168 \nL 190.445299 159.220573 \nL 190.64675 159.277295 \nL 190.675528 159.227472 \nL 190.761864 159.280686 \nL 190.819422 159.316117 \nL 190.992094 159.017938 \nL 191.164766 158.922475 \nL 191.222324 158.957961 \nL 191.394996 158.5942 \nL 191.510111 158.665321 \nL 191.711562 158.253747 \nL 191.797898 158.240295 \nL 191.884234 158.093137 \nL 191.913013 158.110979 \nL 192.172021 158.271166 \nL 192.315915 158.026765 \nL 192.344693 158.044558 \nL 192.373472 157.995757 \nL 192.43103 157.898227 \nL 192.517366 157.951622 \nL 192.661259 157.974018 \nL 192.776374 157.514121 \nL 192.86271 157.567641 \nL 193.121719 157.661568 \nL 193.150497 157.613181 \nL 193.236833 157.666459 \nL 193.409506 157.772783 \nL 193.438284 157.724487 \nL 193.553399 157.465612 \nL 193.582178 157.483356 \nL 193.697293 157.554244 \nL 193.812408 157.361878 \nL 193.841186 157.379608 \nL 193.869965 157.397329 \nL 194.042637 157.043913 \nL 194.301646 157.138048 \nL 194.330424 157.024771 \nL 194.416761 157.077948 \nL 194.445539 157.095657 \nL 194.503097 156.869451 \nL 194.589433 156.922664 \nL 194.819662 157.06419 \nL 194.848441 156.95142 \nL 194.934777 157.004421 \nL 195.136228 157.127793 \nL 195.165007 157.080345 \nL 195.193786 157.032919 \nL 195.280122 157.085709 \nL 195.625466 157.166532 \nL 195.76936 157.124571 \nL 196.057147 156.847268 \nL 196.229819 156.823349 \nL 196.373713 156.65322 \nL 196.575164 156.647143 \nL 196.747836 156.36683 \nL 196.776615 156.384368 \nL 196.805393 156.273569 \nL 196.978066 156.186535 \nL 197.093181 156.192661 \nL 197.121959 156.082194 \nL 197.208295 156.134824 \nL 197.409746 156.001945 \nL 197.668755 156.095696 \nL 197.841427 155.755028 \nL 197.898984 155.79007 \nL 197.927763 155.680421 \nL 197.956542 155.570823 \nL 198.042878 155.623454 \nL 198.100435 155.6585 \nL 198.129214 155.549061 \nL 198.44578 155.234969 \nL 198.67601 155.248835 \nL 198.791124 154.813798 \nL 198.877461 154.866602 \nL 199.078912 154.926535 \nL 199.10769 154.818128 \nL 199.194026 154.870794 \nL 199.424256 154.885251 \nL 199.510592 154.686651 \nL 199.56815 154.721717 \nL 199.798379 154.799032 \nL 199.942273 154.636087 \nL 200.057388 154.643495 \nL 200.114945 154.491023 \nL 200.172502 154.52601 \nL 200.287617 154.471122 \nL 200.431511 154.43381 \nL 200.690519 154.466356 \nL 200.863192 154.384483 \nL 201.496323 154.642273 \nL 201.525102 154.536 \nL 201.611438 154.587854 \nL 201.812889 154.585306 \nL 202.043119 154.415419 \nL 202.215791 154.45736 \nL 202.330906 154.219268 \nL 202.359684 154.236523 \nL 202.67625 154.364595 \nL 202.820144 154.205804 \nL 202.964037 154.230607 \nL 203.107931 154.072323 \nL 203.309382 153.948785 \nL 203.366939 153.983145 \nL 203.395718 153.878567 \nL 203.539612 153.599597 \nL 203.56839 153.616828 \nL 203.827399 153.650223 \nL 203.971292 153.433043 \nL 204.287858 153.561486 \nL 204.316637 153.457745 \nL 204.402973 153.5092 \nL 204.489309 153.560586 \nL 204.518088 153.457007 \nL 204.661981 153.301477 \nL 204.892211 153.318105 \nL 205.122441 153.154475 \nL 205.439006 153.22254 \nL 205.467785 153.119788 \nL 205.554121 153.171013 \nL 205.698015 153.196436 \nL 205.841908 152.982857 \nL 205.899466 153.016977 \nL 205.928244 152.914632 \nL 206.072138 152.701738 \nL 206.273589 152.702169 \nL 206.47504 152.227008 \nL 206.503819 152.244155 \nL 206.590155 152.176757 \nL 206.676491 151.872016 \nL 206.762827 151.923588 \nL 207.13695 152.027987 \nL 207.280844 151.995261 \nL 207.424737 152.021629 \nL 207.654967 151.509846 \nL 207.971533 151.580528 \nL 208.230541 151.382111 \nL 208.575886 151.469839 \nL 208.662222 151.345508 \nL 208.691001 151.362564 \nL 209.093903 151.484006 \nL 209.38169 151.246249 \nL 209.611919 151.265806 \nL 209.870928 151.070405 \nL 209.986043 151.022403 \nL 210.101157 151.032337 \nL 210.388945 151.143696 \nL 210.417723 151.045139 \nL 210.504059 151.095815 \nL 210.763068 151.132311 \nL 210.878183 151.142095 \nL 210.964519 151.135051 \nL 210.993297 151.036913 \nL 211.079634 151.08738 \nL 211.108412 151.104188 \nL 211.137191 151.00616 \nL 211.252306 150.78656 \nL 211.281085 150.80341 \nL 211.424978 150.772968 \nL 211.453757 150.675237 \nL 211.540093 150.725762 \nL 211.655208 150.735833 \nL 211.799101 150.762682 \nL 211.885437 150.641723 \nL 211.914216 150.658526 \nL 212.086888 150.702177 \nL 212.202003 150.427382 \nL 212.259561 150.460993 \nL 212.48979 150.481456 \nL 212.604905 150.321254 \nL 212.633684 150.338036 \nL 212.806356 150.381861 \nL 212.835135 150.285191 \nL 212.921471 150.335455 \nL 213.266816 150.42282 \nL 213.410709 150.39321 \nL 213.813611 150.513337 \nL 213.84239 150.417341 \nL 213.928726 150.467158 \nL 214.331628 150.586625 \nL 214.360406 150.49097 \nL 214.446743 150.540557 \nL 214.561857 150.494564 \nL 214.590636 150.399085 \nL 214.676972 150.448647 \nL 214.792087 150.402806 \nL 214.907202 150.412909 \nL 215.022317 150.478817 \nL 215.051096 150.383655 \nL 215.194989 150.354462 \nL 215.482776 150.407533 \nL 215.655448 150.005815 \nL 215.684227 150.022298 \nL 215.885678 150.026528 \nL 216.029572 149.997871 \nL 216.28858 150.145597 \nL 216.317359 150.051355 \nL 216.432474 150.061635 \nL 217.238277 150.462847 \nL 217.382171 150.159531 \nL 217.41095 150.175784 \nL 217.698737 150.283168 \nL 217.84263 150.035732 \nL 217.871409 150.051957 \nL 217.900188 150.068175 \nL 217.928967 149.97501 \nL 217.957745 149.881883 \nL 218.044081 149.930591 \nL 218.101639 149.963031 \nL 218.130417 149.870018 \nL 218.159196 149.777043 \nL 218.245532 149.825746 \nL 218.446983 149.721195 \nL 218.677213 149.796365 \nL 218.763549 149.681768 \nL 218.792328 149.69796 \nL 218.993779 149.756836 \nL 219.166451 149.419892 \nL 219.19523 149.436091 \nL 219.454238 149.473367 \nL 219.569353 149.483883 \nL 220.346378 149.809885 \nL 220.547829 149.492045 \nL 220.691723 149.518484 \nL 220.720501 149.427211 \nL 220.806838 149.475266 \nL 221.353633 148.923749 \nL 221.583863 148.945356 \nL 221.698978 148.689716 \nL 221.756535 148.721834 \nL 221.929207 148.764839 \nL 221.986765 148.58416 \nL 222.073101 148.632296 \nL 222.591118 148.814006 \nL 222.619896 148.724044 \nL 222.706232 148.771893 \nL 222.850126 148.745777 \nL 222.965241 148.650962 \nL 223.051577 148.593147 \nL 223.224249 148.530454 \nL 223.540815 148.600077 \nL 223.713487 148.274771 \nL 223.742266 148.290696 \nL 223.972496 148.312934 \nL 224.058832 148.098383 \nL 224.116389 148.130222 \nL 224.346619 148.152652 \nL 224.576849 148.018235 \nL 224.663185 147.961407 \nL 224.691963 147.872853 \nL 224.778299 147.92053 \nL 225.181201 148.142298 \nL 225.20998 148.054015 \nL 225.526546 147.812144 \nL 225.641661 147.771615 \nL 225.67044 147.683672 \nL 225.756776 147.731148 \nL 226.303571 147.927246 \nL 226.418686 147.938462 \nL 226.591358 147.929471 \nL 226.76403 147.868994 \nL 226.879145 147.931687 \nL 226.907924 147.84443 \nL 226.99426 147.685714 \nL 227.051818 147.717095 \nL 227.339605 147.514457 \nL 227.771285 147.646852 \nL 227.8864 147.453657 \nL 227.915179 147.469302 \nL 228.030294 147.429664 \nL 228.145409 147.339042 \nL 228.404417 147.377683 \nL 228.605868 146.977914 \nL 228.634647 146.993575 \nL 228.864876 147.017047 \nL 229.152663 146.818097 \nL 229.267778 146.779262 \nL 229.382893 146.791118 \nL 229.641901 146.880915 \nL 229.785795 146.706221 \nL 230.102361 146.82702 \nL 230.159918 146.706951 \nL 230.217476 146.738054 \nL 230.275033 146.718792 \nL 230.418927 146.394071 \nL 230.476484 146.425239 \nL 230.534041 146.456383 \nL 230.56282 146.371448 \nL 230.706714 145.94724 \nL 230.79305 145.994144 \nL 231.138394 146.081113 \nL 231.282288 145.808789 \nL 231.311067 145.824397 \nL 231.426181 145.786828 \nL 231.68519 145.627665 \nL 231.944198 145.668257 \nL 231.972977 145.584229 \nL 232.059313 145.630954 \nL 232.174428 145.593705 \nL 232.203207 145.509813 \nL 232.289543 145.556511 \nL 232.57733 145.662194 \nL 232.606109 145.578504 \nL 232.692445 145.625045 \nL 232.721223 145.640547 \nL 232.750002 145.556937 \nL 232.922674 145.352912 \nL 233.037789 145.365532 \nL 233.555806 145.594653 \nL 233.584585 145.511491 \nL 233.670921 145.557781 \nL 233.872372 145.56719 \nL 234.102602 145.444555 \nL 234.36161 145.484829 \nL 234.476725 145.350189 \nL 234.505503 145.365568 \nL 234.678176 145.310857 \nL 234.706954 145.326224 \nL 234.735733 145.243709 \nL 235.368865 144.654491 \nL 235.656652 144.759764 \nL 235.858103 144.478477 \nL 236.059554 144.392036 \nL 236.14589 144.438215 \nL 236.174669 144.356595 \nL 236.261005 144.11191 \nL 236.347341 144.158182 \nL 236.894136 144.401805 \nL 237.03803 144.092396 \nL 237.095587 144.123109 \nL 237.325817 144.004954 \nL 237.354596 144.020301 \nL 237.383374 143.939362 \nL 237.527268 143.823684 \nL 237.642383 143.837029 \nL 237.786276 143.865689 \nL 237.815055 143.784992 \nL 237.901391 143.830996 \nL 237.93017 143.84632 \nL 237.958949 143.765697 \nL 237.987727 143.685103 \nL 238.074063 143.731111 \nL 238.304293 143.757823 \nL 238.361851 143.644859 \nL 238.419408 143.67548 \nL 238.908646 143.839509 \nL 238.937425 143.759368 \nL 239.023761 143.805071 \nL 239.282769 143.894307 \nL 239.455442 143.700126 \nL 239.685671 143.584254 \nL 239.829565 143.565353 \nL 240.002237 143.37216 \nL 240.203688 143.383872 \nL 240.347582 143.223371 \nL 240.577811 143.250422 \nL 240.60659 143.171191 \nL 240.692926 143.21674 \nL 240.980713 143.274032 \nL 241.49873 142.841416 \nL 241.642624 142.823362 \nL 241.815296 142.633034 \nL 242.045525 142.660661 \nL 242.246976 142.299157 \nL 242.275755 142.22088 \nL 242.362091 142.266465 \nL 242.477206 142.280495 \nL 242.6211 142.263027 \nL 242.822551 142.182725 \nL 242.966444 142.165377 \nL 242.995223 142.087458 \nL 243.081559 142.132916 \nL 243.369346 142.191247 \nL 243.484461 142.205244 \nL 243.51324 142.220338 \nL 243.542018 142.142662 \nL 243.570797 142.065013 \nL 243.657133 142.110327 \nL 244.17515 142.288827 \nL 244.290265 142.210336 \nL 244.980954 142.523452 \nL 245.009733 142.446395 \nL 245.096069 142.491133 \nL 245.29752 142.549441 \nL 245.355077 142.395631 \nL 245.441413 142.440304 \nL 245.642864 142.452742 \nL 245.930651 142.280989 \nL 246.160881 142.354098 \nL 246.304775 142.245675 \nL 246.765234 141.890837 \nL 246.85157 141.889908 \nL 247.024242 141.615389 \nL 247.053021 141.630271 \nL 247.139357 141.58406 \nL 247.283251 141.567646 \nL 247.312029 141.582514 \nL 247.340808 141.506656 \nL 247.455923 141.384797 \nL 247.484702 141.39968 \nL 247.772489 141.457746 \nL 247.801267 141.382111 \nL 247.887604 141.426658 \nL 248.232948 141.19826 \nL 248.376842 141.227359 \nL 248.578293 140.925733 \nL 248.894858 141.044003 \nL 249.038752 140.848528 \nL 249.067531 140.863364 \nL 249.326539 140.727609 \nL 249.384096 140.712439 \nL 249.556769 140.39828 \nL 249.585547 140.413147 \nL 249.671884 140.457718 \nL 249.700662 140.383069 \nL 249.959671 139.89106 \nL 249.988449 139.905976 \nL 250.074786 139.86139 \nL 250.161122 139.638325 \nL 250.247458 139.683131 \nL 250.477687 139.75785 \nL 250.506466 139.683658 \nL 250.592802 139.728354 \nL 250.621581 139.743243 \nL 250.65036 139.669114 \nL 250.679138 139.59501 \nL 250.765475 139.639705 \nL 250.909368 139.625219 \nL 251.139598 139.300287 \nL 251.369827 139.330802 \nL 251.513721 139.316617 \nL 251.657615 139.302455 \nL 251.686393 139.228833 \nL 251.772729 139.273453 \nL 252.002959 139.303893 \nL 252.089295 139.171817 \nL 252.146853 139.20152 \nL 252.261967 139.216765 \nL 252.693648 139.350748 \nL 252.837542 139.116856 \nL 252.86632 139.131656 \nL 253.154107 139.191631 \nL 253.298001 139.090008 \nL 253.441895 139.07617 \nL 253.557009 139.091385 \nL 253.873575 139.209609 \nL 254.017469 139.10838 \nL 254.21892 139.123967 \nL 254.564264 138.908044 \nL 254.593043 138.922735 \nL 254.621822 138.850376 \nL 254.88083 138.460947 \nL 255.053502 138.419042 \nL 255.283732 138.493382 \nL 255.312511 138.421369 \nL 255.398847 138.465478 \nL 255.571519 138.466983 \nL 255.744191 138.252222 \nL 255.859306 138.310992 \nL 255.888085 138.239237 \nL 256.118315 138.14081 \nL 256.492438 138.24523 \nL 256.521217 138.173735 \nL 256.607553 138.217669 \nL 256.837782 138.291629 \nL 256.866561 138.220263 \nL 256.952897 138.264091 \nL 257.183127 138.337853 \nL 257.32702 138.239148 \nL 257.442135 138.254567 \nL 257.643586 138.270803 \nL 257.873816 138.173281 \nL 257.960152 138.174161 \nL 258.075267 138.061461 \nL 258.104046 138.076004 \nL 258.21916 138.134129 \nL 258.247939 138.063324 \nL 258.391833 138.050665 \nL 258.506948 138.108715 \nL 258.535726 138.038025 \nL 258.564505 137.967358 \nL 258.650841 138.010901 \nL 258.765956 138.026352 \nL 258.967407 138.04272 \nL 259.140079 137.704948 \nL 259.197637 137.733973 \nL 259.283973 137.777475 \nL 259.312751 137.707135 \nL 259.427866 137.72272 \nL 259.744432 137.839533 \nL 259.830768 137.629076 \nL 259.917104 137.672478 \nL 260.435121 137.932043 \nL 260.4639 137.862115 \nL 260.607793 137.849763 \nL 260.722908 137.907245 \nL 260.751687 137.83743 \nL 260.838023 137.712249 \nL 260.89558 137.741006 \nL 261.010695 137.756437 \nL 261.183368 137.800544 \nL 261.35604 137.592863 \nL 261.384819 137.607222 \nL 261.413597 137.537701 \nL 261.442376 137.468201 \nL 261.528712 137.511303 \nL 261.58627 137.540015 \nL 261.615048 137.47058 \nL 261.643827 137.401165 \nL 261.730163 137.444251 \nL 262.104286 137.546933 \nL 262.334516 137.452621 \nL 262.535967 137.469294 \nL 262.67986 137.332414 \nL 262.823754 137.320613 \nL 263.053984 137.226938 \nL 263.831009 137.528317 \nL 263.974902 137.185479 \nL 264.061239 137.228133 \nL 264.291468 137.259085 \nL 264.492919 137.028251 \nL 264.579255 136.988384 \nL 264.636813 136.851891 \nL 264.723149 136.894548 \nL 264.895821 136.856238 \nL 264.953379 136.761169 \nL 265.010936 136.789591 \nL 265.126051 136.764145 \nL 265.183608 136.628113 \nL 265.269944 136.670748 \nL 265.413838 136.700665 \nL 265.442617 136.63275 \nL 265.471395 136.564857 \nL 265.557731 136.607457 \nL 265.989412 136.697078 \nL 266.104527 136.549091 \nL 266.133306 136.563251 \nL 266.277199 136.593113 \nL 266.305978 136.525521 \nL 266.564986 136.407838 \nL 266.766437 136.425241 \nL 266.881552 136.318759 \nL 266.910331 136.332896 \nL 267.140561 136.323772 \nL 267.313233 136.164499 \nL 267.457126 136.194476 \nL 267.485905 136.127358 \nL 267.658577 135.927967 \nL 268.090258 136.018132 \nL 268.176594 135.898517 \nL 268.234152 135.926722 \nL 268.72339 136.044722 \nL 269.212628 135.719325 \nL 269.788202 135.87925 \nL 269.903317 135.895077 \nL 270.104768 135.912711 \nL 270.219882 135.848398 \nL 270.363776 135.91818 \nL 270.392555 135.852101 \nL 270.565227 135.655914 \nL 270.622784 135.683846 \nL 270.651563 135.617889 \nL 270.795457 135.527968 \nL 270.996908 135.466123 \nL 271.255916 135.511992 \nL 271.428588 135.356767 \nL 271.514924 135.31904 \nL 271.658818 135.229732 \nL 271.889048 135.222118 \nL 272.004163 134.960368 \nL 272.090499 135.002259 \nL 272.349507 135.008868 \nL 272.752409 134.768727 \nL 273.068975 134.842933 \nL 273.155311 134.726834 \nL 273.212868 134.754671 \nL 273.586992 134.856483 \nL 273.903557 134.379957 \nL 274.018672 134.435606 \nL 274.047451 134.370954 \nL 274.191344 134.047971 \nL 274.277681 134.089798 \nL 274.536689 134.136699 \nL 274.766919 133.856501 \nL 274.96837 133.836663 \nL 275.083484 133.696958 \nL 275.112263 133.710893 \nL 275.428829 133.785896 \nL 275.515165 133.710607 \nL 275.543944 133.724509 \nL 275.659059 133.702156 \nL 275.687837 133.638137 \nL 275.774174 133.679828 \nL 276.119518 133.496379 \nL 276.29219 133.463149 \nL 276.52242 133.380137 \nL 276.781428 133.388681 \nL 276.925322 133.380513 \nL 277.097994 133.347515 \nL 277.241888 133.339388 \nL 277.385781 133.331273 \nL 277.500896 133.232131 \nL 277.529675 133.245965 \nL 277.64479 133.262683 \nL 277.788683 133.293191 \nL 277.817462 133.229902 \nL 278.134028 133.07373 \nL 278.191585 133.101353 \nL 278.220364 133.038217 \nL 278.393036 132.851964 \nL 278.53693 132.805828 \nL 278.680823 132.644604 \nL 278.709602 132.658441 \nL 278.997389 132.719949 \nL 279.026168 132.657115 \nL 279.112504 132.69854 \nL 279.19884 132.663355 \nL 279.400291 132.377377 \nL 279.42907 132.391203 \nL 279.630521 132.449671 \nL 279.659299 132.38707 \nL 279.831972 132.202674 \nL 280.062201 132.275012 \nL 280.09098 132.212567 \nL 280.206095 132.229655 \nL 280.465103 132.239496 \nL 280.522661 132.114878 \nL 280.608997 132.156228 \nL 281.069456 131.882965 \nL 281.414801 131.972358 \nL 281.558694 131.851809 \nL 281.788924 131.886126 \nL 281.846481 131.8002 \nL 281.904039 131.827682 \nL 282.278162 131.892789 \nL 282.53717 131.789938 \nL 282.7674 131.824162 \nL 282.940072 131.680587 \nL 283.199081 131.690981 \nL 283.342974 131.609184 \nL 283.515646 131.578667 \nL 284.177557 131.144455 \nL 284.494123 131.220091 \nL 284.522901 131.15911 \nL 284.609237 131.200066 \nL 284.724352 130.993669 \nL 284.925803 130.791302 \nL 285.040918 130.808776 \nL 285.127254 130.775359 \nL 285.299927 130.634255 \nL 285.415041 130.651784 \nL 285.530156 130.632157 \nL 285.789165 130.272806 \nL 286.192067 130.35313 \nL 286.364739 130.32405 \nL 286.451075 130.291041 \nL 286.56619 130.271706 \nL 286.681305 130.289327 \nL 286.853977 130.297271 \nL 287.084207 130.00064 \nL 287.45833 130.067376 \nL 287.631002 130.038701 \nL 287.803674 130.010073 \nL 287.918789 129.954293 \nL 288.465585 130.138828 \nL 288.580699 130.119758 \nL 288.897265 129.976041 \nL 288.983601 129.943562 \nL 289.098716 129.888126 \nL 289.185052 129.855713 \nL 289.357725 129.681546 \nL 289.616733 129.694041 \nL 289.875741 129.597349 \nL 289.933299 129.551643 \nL 290.163528 129.260053 \nL 290.364979 129.282233 \nL 290.537652 129.109478 \nL 290.623988 129.077593 \nL 290.739103 129.05928 \nL 290.998111 128.963851 \nL 291.257119 129.013264 \nL 291.372234 128.995039 \nL 291.487349 128.976832 \nL 291.631243 128.863875 \nL 291.890251 128.913263 \nL 292.062923 128.778033 \nL 292.379489 128.854371 \nL 292.523383 128.741957 \nL 292.667276 128.737449 \nL 292.81117 128.625261 \nL 292.897506 128.593901 \nL 293.070178 128.459549 \nL 293.415523 128.084093 \nL 293.645752 127.834448 \nL 294.106212 127.943348 \nL 294.250105 127.868077 \nL 294.393999 127.864177 \nL 294.624229 127.580275 \nL 294.940794 127.621899 \nL 295.228581 127.507947 \nL 295.545147 127.54956 \nL 295.660262 127.532452 \nL 296.1495 127.654386 \nL 296.552402 127.453399 \nL 296.753853 127.476581 \nL 296.897747 127.40251 \nL 297.415763 127.537387 \nL 297.588436 127.511957 \nL 297.674772 127.4817 \nL 297.905001 127.27252 \nL 298.077674 127.24735 \nL 298.365461 126.92546 \nL 298.682027 126.792546 \nL 298.768363 126.727775 \nL 298.883478 126.711335 \nL 299.084929 126.700051 \nL 299.28638 126.653928 \nL 299.459052 126.629389 \nL 299.631724 126.535275 \nL 299.775618 126.532321 \nL 299.94829 126.438414 \nL 300.322413 126.541953 \nL 300.437528 126.525722 \nL 300.782872 126.581012 \nL 300.926766 126.543438 \nL 301.214553 126.572121 \nL 301.358447 126.500084 \nL 301.531119 126.475886 \nL 301.646234 126.459774 \nL 301.790127 126.42242 \nL 301.934021 126.45402 \nL 302.020357 126.424744 \nL 302.164251 126.353056 \nL 302.452038 126.381824 \nL 302.682267 126.143803 \nL 302.912497 126.146399 \nL 303.459292 125.848814 \nL 304.006088 126.030629 \nL 304.121203 126.014915 \nL 304.236318 125.999217 \nL 304.40899 125.907536 \nL 304.667998 125.95751 \nL 304.840671 125.832015 \nL 304.898228 125.790225 \nL 305.013343 125.774692 \nL 305.099679 125.746063 \nL 305.243572 125.709715 \nL 305.358687 125.660305 \nL 305.502581 125.691891 \nL 305.704032 125.715711 \nL 305.819147 125.700269 \nL 306.020598 125.690205 \nL 306.222049 125.544902 \nL 306.394721 125.555714 \nL 307.171746 125.806225 \nL 307.459533 125.498706 \nL 307.660984 125.522493 \nL 307.891214 125.324214 \nL 308.006329 125.309111 \nL 308.179001 125.185892 \nL 308.380452 125.176374 \nL 308.524345 125.140887 \nL 308.610682 125.112922 \nL 308.754575 125.044061 \nL 308.927247 125.021702 \nL 309.042362 125.006814 \nL 309.474043 125.10117 \nL 309.646715 124.978875 \nL 309.819387 124.989945 \nL 309.99206 124.901183 \nL 310.251068 124.917843 \nL 310.394962 124.882796 \nL 310.625191 124.886539 \nL 310.797864 124.764997 \nL 310.941757 124.763263 \nL 311.171987 124.568477 \nL 311.344659 124.579776 \nL 311.488553 124.512035 \nL 311.632446 124.51046 \nL 311.77634 124.475864 \nL 311.891454 124.428415 \nL 312.064127 124.439782 \nL 312.236799 124.451131 \nL 312.467029 124.25771 \nL 312.610922 124.256295 \nL 312.726037 124.242009 \nL 313.301611 124.400454 \nL 313.56062 124.351877 \nL 313.675735 124.304843 \nL 314.078636 124.156929 \nL 314.136194 124.117156 \nL 314.280087 124.050483 \nL 314.395202 124.036395 \nL 314.567875 123.950014 \nL 314.769325 123.941788 \nL 314.913219 123.875396 \nL 314.999555 123.84863 \nL 315.143449 123.814916 \nL 315.258564 123.800991 \nL 315.546351 123.506204 \nL 315.920474 123.607594 \nL 316.064367 123.541718 \nL 316.121925 123.502419 \nL 316.294597 123.417039 \nL 316.66872 123.29178 \nL 317.014065 123.347976 \nL 317.330631 123.004103 \nL 317.474524 122.938968 \nL 317.532082 122.90004 \nL 317.762311 122.6801 \nL 318.02132 122.730767 \nL 318.251549 122.511429 \nL 318.453 122.536632 \nL 318.625673 122.452752 \nL 318.91346 122.516235 \nL 319.028575 122.503138 \nL 319.143689 122.490053 \nL 319.287583 122.425704 \nL 319.431476 122.393419 \nL 319.632927 122.22683 \nL 319.748042 122.181961 \nL 320.064608 122.098669 \nL 320.525067 122.206608 \nL 320.668961 122.142787 \nL 320.841633 122.123548 \nL 321.100642 122.078854 \nL 321.273314 122.091443 \nL 321.503544 121.907312 \nL 321.676216 121.888303 \nL 321.992782 121.552788 \nL 322.079118 121.495955 \nL 322.280569 121.363499 \nL 322.424462 121.395424 \nL 322.625913 121.421111 \nL 322.884922 121.156676 \nL 323.14393 121.207888 \nL 323.345381 121.076233 \nL 323.604389 121.095982 \nL 323.748283 121.127892 \nL 323.892177 121.12835 \nL 324.093628 120.997154 \nL 324.611644 120.786064 \nL 324.899431 120.849946 \nL 325.072104 120.769391 \nL 325.273555 120.79531 \nL 325.417448 120.733509 \nL 325.849129 120.82906 \nL 326.021801 120.748824 \nL 326.252031 120.756121 \nL 326.424703 120.644966 \nL 326.539818 120.633115 \nL 326.71249 120.553234 \nL 326.94272 120.56069 \nL 327.086613 120.499432 \nL 327.230507 120.469243 \nL 327.489515 120.241572 \nL 327.719745 120.218349 \nL 328.093868 120.288829 \nL 328.324098 120.080427 \nL 328.381655 120.043815 \nL 328.49677 120.032329 \nL 328.611885 119.990023 \nL 328.784557 119.880422 \nL 329.043566 119.900967 \nL 329.331353 119.626563 \nL 329.61914 119.659862 \nL 329.849369 119.637359 \nL 329.935706 119.613595 \nL 330.05082 119.602373 \nL 330.28105 119.610588 \nL 331.086854 119.227037 \nL 331.317084 119.235556 \nL 331.489756 119.249556 \nL 331.950215 119.357801 \nL 332.094109 119.328822 \nL 332.29556 119.324772 \nL 332.497011 119.199267 \nL 332.612126 119.188342 \nL 332.842355 119.014897 \nL 333.245257 119.098149 \nL 333.389151 119.069459 \nL 334.223733 118.674447 \nL 334.396406 118.628378 \nL 334.511521 118.617785 \nL 334.74175 118.626732 \nL 334.856865 118.616154 \nL 335.029537 118.570236 \nL 335.259767 118.549163 \nL 335.403661 118.490972 \nL 335.576333 118.415226 \nL 335.86412 118.449065 \nL 336.065571 118.296 \nL 336.238243 118.280436 \nL 336.410915 118.17516 \nL 336.641145 118.154546 \nL 336.957711 117.812853 \nL 337.072826 117.743052 \nL 337.216719 117.685705 \nL 337.590842 117.757244 \nL 337.734736 117.700002 \nL 337.907408 117.655188 \nL 338.713212 117.288696 \nL 339.029778 117.335707 \nL 339.144893 117.325864 \nL 339.605352 117.404775 \nL 339.835582 117.207934 \nL 340.123369 117.213047 \nL 340.267262 117.156647 \nL 340.900394 117.309133 \nL 341.821313 116.645175 \nL 342.022764 116.526167 \nL 342.195436 116.512093 \nL 342.425666 116.347164 \nL 342.569559 116.320938 \nL 342.77101 116.202505 \nL 342.943683 116.188679 \nL 343.116355 116.116545 \nL 343.404142 116.122765 \nL 343.605593 116.121289 \nL 343.89338 116.127493 \nL 344.12361 116.109204 \nL 344.382618 116.103178 \nL 344.526512 116.135293 \nL 344.756741 116.11704 \nL 345.130864 116.01508 \nL 345.504988 116.05793 \nL 345.67766 115.986562 \nL 345.965447 115.992861 \nL 346.166898 115.84732 \nL 346.454685 115.853756 \nL 347.116595 115.586908 \nL 347.490719 115.630034 \nL 347.605834 115.621216 \nL 347.778506 115.579338 \nL 347.893621 115.57055 \nL 348.210186 115.617972 \nL 348.411637 115.473902 \nL 348.699425 115.480677 \nL 348.929654 115.463251 \nL 349.188663 115.457941 \nL 349.303777 115.44925 \nL 349.447671 115.39566 \nL 349.649122 115.252402 \nL 349.936909 115.259378 \nL 350.13836 115.25857 \nL 350.80027 115.421976 \nL 351.059279 115.190146 \nL 351.203172 115.165341 \nL 351.404623 115.02316 \nL 351.548517 114.970199 \nL 351.749968 114.85659 \nL 351.893861 114.803782 \nL 352.008976 114.795447 \nL 352.124091 114.730688 \nL 352.239206 114.722391 \nL 352.411878 114.709957 \nL 352.555772 114.685522 \nL 353.04501 114.776989 \nL 353.160125 114.7687 \nL 353.390354 114.752142 \nL 353.620584 114.735612 \nL 353.735699 114.699304 \nL 353.879592 114.646953 \nL 354.109822 114.658553 \nL 354.311273 114.518216 \nL 354.455167 114.466065 \nL 354.685396 114.310047 \nL 354.858068 114.297977 \nL 354.973183 114.289938 \nL 355.203413 114.273881 \nL 355.376085 114.17819 \nL 355.635094 114.174188 \nL 356.325783 113.904137 \nL 356.757463 113.971918 \nL 356.958914 113.972048 \nL 357.131587 113.932567 \nL 357.93739 113.601566 \nL 358.225178 113.610015 \nL 358.455407 113.429181 \nL 358.714416 113.425905 \nL 359.002203 113.159186 \nL 359.491441 113.251204 \nL 359.692892 113.114515 \nL 359.894343 113.087804 \nL 360.297245 112.979679 \nL 360.585032 113.016065 \nL 360.930376 112.693184 \nL 361.045491 112.63129 \nL 361.275721 112.480338 \nL 361.563508 112.435241 \nL 361.678623 112.373588 \nL 361.851295 112.281199 \nL 361.995189 112.23154 \nL 362.167861 112.166568 \nL 362.39809 112.17982 \nL 362.570763 112.11497 \nL 362.829771 112.112924 \nL 363.779469 111.717346 \nL 364.268707 111.837315 \nL 364.441379 111.773088 \nL 364.786723 111.806763 \nL 364.988174 111.673571 \nL 365.160847 111.663498 \nL 365.391076 111.488524 \nL 365.477412 111.41625 \nL 365.851536 111.327596 \nL 366.110544 111.353134 \nL 366.398331 111.122061 \nL 366.65734 111.120923 \nL 366.830012 111.057646 \nL 367.08902 111.056567 \nL 367.232914 111.088671 \nL 367.434365 111.064043 \nL 367.607037 110.974244 \nL 367.722152 110.94115 \nL 367.894824 110.851512 \nL 368.240169 110.91254 \nL 368.355283 110.906196 \nL 368.44162 110.834824 \nL 368.643071 110.8371 \nL 369.045972 110.894828 \nL 369.506432 110.763376 \nL 369.621547 110.704037 \nL 369.76544 110.656455 \nL 369.938112 110.620628 \nL 370.082006 110.573138 \nL 370.312236 110.560799 \nL 370.600023 110.518949 \nL 370.715138 110.459924 \nL 370.974146 110.274448 \nL 371.463384 110.367511 \nL 371.808729 110.033196 \nL 372.038958 110.021346 \nL 372.269188 109.877995 \nL 372.499418 109.892567 \nL 372.815983 109.600781 \nL 373.190107 109.647699 \nL 373.535451 109.578075 \nL 373.79446 109.604471 \nL 374.111025 109.340394 \nL 374.571485 109.213552 \nL 374.772936 109.216871 \nL 374.945608 109.130332 \nL 375.521182 109.258897 \nL 375.722633 109.262175 \nL 375.924084 109.239465 \nL 376.557216 109.027521 \nL 376.758667 109.00503 \nL 376.988896 108.864693 \nL 377.075233 108.821829 \nL 377.247905 108.762045 \nL 377.967373 108.509376 \nL 378.226381 108.5363 \nL 378.341496 108.531066 \nL 378.514168 108.49746 \nL 378.715619 108.501211 \nL 378.888291 108.467663 \nL 379.032185 108.422589 \nL 379.291193 108.47519 \nL 379.291193 108.47519 \n\" style=\"fill:none;stroke:#4c72b0;stroke-linecap:round;stroke-width:1.5;\"/>\n   </g>\n   <g id=\"line2d_17\">\n    <path clip-path=\"url(#p5574e5fc04)\" d=\"M 74.927557 230.64 \nL 74.985114 230.64 \nL 75.013893 94.74 \nL 75.100229 152.982857 \nL 75.330459 194.4 \nL 75.618246 208.896 \nL 75.762139 212.52 \nL 75.790918 204.336774 \nL 75.877254 206.657647 \nL 75.934812 207.99 \nL 75.992369 187.724211 \nL 76.078705 190.86439 \nL 76.308935 197.358367 \nL 76.452828 190.373333 \nL 76.539165 192.492632 \nL 76.596722 184.572203 \nL 76.683058 186.80129 \nL 76.711837 187.497143 \nL 76.740616 183.924375 \nL 76.826952 186.016119 \nL 76.942067 188.530141 \nL 76.970845 185.34 \nL 77.057181 187.152 \nL 77.201075 189.87 \nL 77.229854 187.017778 \nL 77.31619 188.575714 \nL 77.891764 196.665 \nL 78.467338 202.144839 \nL 78.496117 200.1984 \nL 78.582453 200.911875 \nL 79.014134 204.03021 \nL 79.158027 201.256216 \nL 79.244363 201.84 \nL 79.273142 200.241316 \nL 79.359478 200.829677 \nL 79.589708 202.292761 \nL 79.618487 200.808293 \nL 79.704823 201.344192 \nL 79.733601 201.518571 \nL 79.76238 200.082604 \nL 79.848716 200.615581 \nL 80.194061 202.573696 \nL 80.337954 200.44 \nL 80.395512 200.75623 \nL 80.42429 199.49625 \nL 80.510627 199.975385 \nL 80.596963 200.44 \nL 80.769635 197.331176 \nL 80.942307 198.282857 \nL 80.971086 197.148057 \nL 81.057422 197.61757 \nL 81.201316 198.371507 \nL 81.258873 196.203801 \nL 81.345209 196.665 \nL 81.661775 198.255319 \nL 81.690554 197.240847 \nL 81.77689 197.660084 \nL 81.892005 198.202963 \nL 81.978341 196.38878 \nL 82.035898 196.665 \nL 82.697809 199.548487 \nL 82.812923 198.024 \nL 82.841702 198.142174 \nL 83.071932 199.057606 \nL 83.129489 197.377762 \nL 83.215825 197.723045 \nL 83.589949 199.14 \nL 83.618727 198.346931 \nL 83.705063 198.663529 \nL 83.99285 199.675443 \nL 84.136744 198.464299 \nL 84.366974 199.246687 \nL 84.395752 198.518182 \nL 84.482089 198.807568 \nL 85.604458 202.144839 \nL 85.662016 202.297219 \nL 85.690794 201.648 \nL 85.77713 201.878095 \nL 85.834688 202.029474 \nL 85.863467 201.391181 \nL 85.949803 201.619687 \nL 86.410262 202.7805 \nL 86.439041 202.17217 \nL 86.525377 202.383564 \nL 86.870721 203.198654 \nL 86.8995 202.612662 \nL 86.985836 202.812857 \nL 87.072172 203.010213 \nL 87.100951 202.43434 \nL 87.187287 202.632506 \nL 87.417517 203.147586 \nL 87.446296 202.587248 \nL 87.532632 202.778952 \nL 87.590189 202.905306 \nL 87.618968 202.353122 \nL 87.705304 202.54382 \nL 88.91401 204.966899 \nL 89.057903 203.018049 \nL 89.115461 203.129879 \nL 89.34569 203.568287 \nL 89.374469 203.08175 \nL 89.460805 203.245138 \nL 89.892486 204.033858 \nL 89.921265 203.564138 \nL 90.007601 203.718857 \nL 90.180273 204.023051 \nL 90.324167 203.257164 \nL 90.381724 203.358959 \nL 90.496839 202.557343 \nL 90.525618 202.609061 \nL 90.870962 203.215135 \nL 90.899741 202.775612 \nL 90.986077 202.925152 \nL 91.101192 203.12206 \nL 91.216307 201.878095 \nL 91.273864 201.979192 \nL 91.59043 202.522759 \nL 91.619209 202.103339 \nL 91.705545 202.249932 \nL 91.82066 202.443061 \nL 91.849438 202.029474 \nL 91.935774 202.174459 \nL 92.338676 202.832079 \nL 92.367455 202.430115 \nL 92.453791 202.568852 \nL 93.115702 203.588815 \nL 93.14448 203.202776 \nL 93.230816 203.331994 \nL 93.489825 203.712446 \nL 93.518603 203.333972 \nL 93.60494 203.46 \nL 94.583416 204.811053 \nL 94.640973 204.093936 \nL 94.727309 204.209521 \nL 95.849679 205.62544 \nL 95.907236 204.949315 \nL 95.993572 205.054461 \nL 96.137466 205.227805 \nL 96.166245 204.894398 \nL 96.252581 204.998491 \nL 96.425253 205.204171 \nL 96.511589 204.581944 \nL 96.569147 204.651155 \nL 96.856934 204.991769 \nL 96.885713 204.669581 \nL 96.972049 204.77116 \nL 97.058385 204.871948 \nL 97.087163 204.55284 \nL 97.1735 204.653953 \nL 97.231057 204.720928 \nL 97.259836 204.404479 \nL 97.346172 204.505385 \nL 97.662738 204.868824 \nL 97.777853 203.97283 \nL 97.83541 204.039749 \nL 98.209533 204.466667 \nL 98.238312 204.163798 \nL 98.324648 204.261376 \nL 98.756329 204.738673 \nL 98.785107 204.11494 \nL 98.871443 204.210468 \nL 99.245567 204.616596 \nL 99.274345 204.326423 \nL 99.360682 204.419294 \nL 100.454273 205.541351 \nL 100.51183 204.986966 \nL 100.598166 205.073147 \nL 100.626945 205.101745 \nL 100.655724 204.826592 \nL 100.74206 204.912829 \nL 101.17374 205.335509 \nL 101.202519 205.065821 \nL 101.288855 205.149487 \nL 101.519085 205.369946 \nL 101.576642 204.838058 \nL 101.662978 204.92129 \nL 101.835651 205.086154 \nL 101.864429 204.823351 \nL 101.950765 204.905745 \nL 102.497561 205.4156 \nL 102.641454 204.700581 \nL 102.670233 204.727461 \nL 103.015578 205.045732 \nL 103.073135 204.542758 \nL 103.159471 204.622485 \nL 103.706267 205.116324 \nL 103.878939 204.458669 \nL 103.907718 204.484643 \nL 104.109169 203.058325 \nL 104.166726 203.112566 \nL 104.253062 203.193529 \nL 104.454513 202.057332 \nL 104.483292 202.085136 \nL 104.512071 202.112886 \nL 104.7423 201.022449 \nL 104.828636 201.107885 \nL 104.857415 200.875159 \nL 104.943751 200.96069 \nL 105.116424 201.130286 \nL 105.289096 200.525795 \nL 105.317875 200.554286 \nL 105.461768 200.184068 \nL 105.605662 200.326785 \nL 105.807113 199.005922 \nL 105.86467 199.064721 \nL 106.008564 199.210768 \nL 106.152457 198.604641 \nL 106.181236 198.634112 \nL 106.296351 198.751457 \nL 106.325129 198.531758 \nL 106.411465 198.619726 \nL 106.440244 198.648942 \nL 106.612916 196.603339 \nL 106.670474 196.665 \nL 106.728031 196.726438 \nL 106.843146 196.114054 \nL 106.871925 196.145131 \nL 106.900704 196.176151 \nL 107.073376 194.902433 \nL 107.332384 195.187826 \nL 107.361163 194.73734 \nL 107.447499 194.832573 \nL 107.476278 194.864205 \nL 107.505056 194.415993 \nL 107.591393 194.511655 \nL 107.677729 194.606813 \nL 107.87918 193.641047 \nL 107.907958 193.673304 \nL 108.195746 193.992809 \nL 108.31086 193.650853 \nL 108.339639 193.682685 \nL 108.454754 193.809468 \nL 108.627426 193.302287 \nL 108.828877 193.523969 \nL 108.857656 193.325085 \nL 108.943992 193.419713 \nL 108.972771 193.451149 \nL 109.145443 192.039832 \nL 109.174222 192.072242 \nL 109.260558 192.169146 \nL 109.462009 190.809192 \nL 109.519566 190.875411 \nL 109.634681 190.331632 \nL 109.66346 190.365 \nL 109.721017 190.43157 \nL 109.922468 189.322827 \nL 109.980026 189.390615 \nL 110.123919 189.559118 \nL 110.152698 189.370776 \nL 110.239034 189.471596 \nL 110.267813 189.505094 \nL 110.411706 189.231248 \nL 110.5556 189.398354 \nL 110.584378 189.212419 \nL 110.670715 189.312405 \nL 110.699493 189.345627 \nL 110.843387 188.422866 \nL 110.872166 188.45664 \nL 110.929723 188.524026 \nL 110.958502 188.123799 \nL 111.044838 188.22535 \nL 111.188731 188.393529 \nL 111.361404 187.091934 \nL 111.390182 187.126278 \nL 111.591633 187.365176 \nL 112.023314 185.129302 \nL 112.052093 185.164555 \nL 112.10965 185.234896 \nL 112.138429 184.849892 \nL 112.224765 184.955806 \nL 112.311101 185.061231 \nL 112.33988 184.678432 \nL 112.426216 184.784172 \nL 112.454995 184.81931 \nL 112.541331 184.508807 \nL 112.598888 184.579237 \nL 112.886675 184.928182 \nL 113.116905 183.975542 \nL 113.145684 184.010655 \nL 113.23202 184.115676 \nL 113.347135 183.848084 \nL 113.375913 183.883082 \nL 113.433471 183.95292 \nL 113.548586 183.687208 \nL 113.577364 183.722143 \nL 113.807594 183.999763 \nL 113.922709 183.536018 \nL 113.980266 183.60539 \nL 114.152938 183.812287 \nL 114.181717 183.647473 \nL 114.268053 183.750526 \nL 114.527062 184.056993 \nL 114.670955 183.438842 \nL 114.78607 183.575065 \nL 115.102636 182.194617 \nL 115.131415 182.22927 \nL 115.188972 182.298429 \nL 115.361644 181.538151 \nL 115.419202 181.607898 \nL 115.534317 181.746799 \nL 115.735768 180.838732 \nL 115.793325 180.908825 \nL 115.822104 180.943797 \nL 116.052333 179.321119 \nL 116.109891 179.392793 \nL 116.225006 178.77844 \nL 116.253784 178.81453 \nL 116.397678 178.99423 \nL 116.599129 177.555528 \nL 116.627908 177.592138 \nL 116.714244 176.953421 \nL 116.771801 177.027216 \nL 116.858137 177.137531 \nL 117.002031 176.39147 \nL 117.030809 176.428525 \nL 117.145924 176.02079 \nL 117.203482 176.095102 \nL 117.23226 176.132182 \nL 117.404933 175.617522 \nL 117.433711 175.65475 \nL 117.520048 175.766131 \nL 117.69272 175.073625 \nL 117.750277 175.148261 \nL 117.779056 175.185503 \nL 117.807835 175.040402 \nL 117.894171 175.152048 \nL 117.922949 175.189164 \nL 118.009286 174.393004 \nL 118.066843 174.468 \nL 118.1244 174.361838 \nL 118.239515 174.511315 \nL 118.383409 174.337287 \nL 118.440966 174.411712 \nL 118.498524 173.768317 \nL 118.58486 173.880711 \nL 118.613639 173.918078 \nL 118.757532 173.390787 \nL 118.786311 173.428328 \nL 118.815089 173.287706 \nL 118.843868 172.969273 \nL 118.930204 173.082353 \nL 119.045319 172.346519 \nL 119.160434 172.498127 \nL 119.217991 172.573636 \nL 119.24677 172.434938 \nL 119.678451 169.851825 \nL 119.707229 169.541734 \nL 119.793566 169.659231 \nL 120.023795 169.797015 \nL 120.052574 169.489331 \nL 120.13891 169.606031 \nL 120.167689 169.644832 \nL 120.225246 169.032 \nL 120.311582 169.149125 \nL 120.340361 169.188068 \nL 120.36914 169.054937 \nL 120.397919 169.09389 \nL 120.685706 167.77237 \nL 120.772042 167.89069 \nL 120.80082 167.930031 \nL 120.829599 167.628722 \nL 120.915935 167.746942 \nL 121.117386 168.021071 \nL 121.232501 167.501366 \nL 121.26128 167.540559 \nL 121.549067 167.929821 \nL 121.606624 167.83963 \nL 121.750518 167.6986 \nL 122.239756 168.18383 \nL 122.326092 167.637816 \nL 122.38365 167.714182 \nL 122.441207 167.790363 \nL 122.469986 167.499528 \nL 122.556322 167.613913 \nL 122.5851 167.487918 \nL 122.671437 167.602048 \nL 122.728994 167.514368 \nL 122.786551 167.59024 \nL 122.959224 167.165749 \nL 122.988002 167.203734 \nL 123.189453 167.306389 \nL 123.304568 167.133817 \nL 123.333347 167.171551 \nL 123.419683 167.284484 \nL 123.448462 166.99981 \nL 123.534798 167.112781 \nL 123.563577 167.150349 \nL 123.592355 166.866596 \nL 123.678691 166.979469 \nL 123.995257 167.230621 \nL 124.110372 166.902105 \nL 124.139151 166.939357 \nL 124.340602 165.933248 \nL 124.484495 165.332281 \nL 124.570831 165.445794 \nL 124.59961 165.483544 \nL 124.628389 165.363958 \nL 124.685946 165.125202 \nL 124.772282 165.238615 \nL 124.801061 165.276332 \nL 124.82984 165.157349 \nL 124.858619 165.038502 \nL 124.944955 165.151673 \nL 125.088848 165.339427 \nL 125.117627 165.221089 \nL 125.175184 164.673658 \nL 125.261521 164.786743 \nL 125.405414 164.974359 \nL 125.549308 164.543182 \nL 125.606865 164.618207 \nL 125.664422 164.53898 \nL 125.693201 164.422436 \nL 125.779537 164.534796 \nL 125.837095 164.609492 \nL 125.865873 164.339831 \nL 125.95221 164.45195 \nL 126.038546 164.563692 \nL 126.067324 164.295118 \nL 126.153661 164.406873 \nL 126.38389 164.703052 \nL 126.499005 164.092203 \nL 126.527784 164.129298 \nL 126.556562 164.166351 \nL 126.585341 164.052027 \nL 126.758013 163.670411 \nL 126.786792 163.707554 \nL 126.815571 163.593991 \nL 126.84435 163.631136 \nL 126.930686 163.291327 \nL 126.959464 163.328557 \nL 127.27603 163.586044 \nL 127.391145 163.137039 \nL 127.419924 163.174027 \nL 127.448702 163.210975 \nL 127.477481 163.099113 \nL 127.50626 163.136061 \nL 127.621375 162.541638 \nL 127.650153 162.578789 \nL 127.765268 162.72699 \nL 127.794047 162.468183 \nL 127.880383 162.579272 \nL 128.053055 162.800368 \nL 128.110613 162.285754 \nL 128.196949 162.396479 \nL 128.254506 162.176893 \nL 128.312064 162.250668 \nL 128.369621 162.324284 \nL 128.427179 162.251613 \nL 128.743744 161.055714 \nL 128.801302 161.130016 \nL 128.830081 161.167108 \nL 128.858859 160.91424 \nL 128.945195 161.025623 \nL 129.002753 161.099681 \nL 129.06031 161.02916 \nL 129.175425 160.600339 \nL 129.232982 160.674534 \nL 129.29054 160.748571 \nL 129.319319 160.641798 \nL 129.376876 160.285008 \nL 129.434433 160.359261 \nL 129.491991 160.290079 \nL 129.664663 160.511886 \nL 129.693442 160.405966 \nL 129.750999 160.479664 \nL 129.923672 160.557678 \nL 130.010008 160.383603 \nL 130.038786 160.420271 \nL 130.269016 160.570977 \nL 130.384131 160.011473 \nL 130.41291 160.048087 \nL 130.729475 160.448351 \nL 130.815812 159.857293 \nL 130.873369 159.930077 \nL 130.930926 160.002712 \nL 130.988484 159.517373 \nL 131.07482 159.62668 \nL 131.189935 159.077117 \nL 131.276271 159.186708 \nL 131.391386 159.332308 \nL 131.506501 158.924596 \nL 131.535279 158.961037 \nL 131.707952 159.178906 \nL 131.73673 159.077468 \nL 131.794288 158.73742 \nL 131.880624 158.846364 \nL 131.96696 158.954977 \nL 132.110853 158.45167 \nL 132.168411 158.524221 \nL 132.283526 158.123651 \nL 132.312304 158.16 \nL 132.513755 158.277662 \nL 132.542534 158.042396 \nL 132.62887 158.150967 \nL 133.233223 158.901963 \nL 133.262002 158.66929 \nL 133.348338 158.775598 \nL 133.377117 158.810965 \nL 133.607346 157.627059 \nL 133.722461 157.769941 \nL 133.895133 157.187707 \nL 133.923912 157.22352 \nL 134.096584 156.644861 \nL 134.125363 156.680816 \nL 134.182921 156.224854 \nL 134.269257 156.333068 \nL 134.298035 156.36907 \nL 134.470708 155.796522 \nL 134.614601 155.976867 \nL 134.729716 155.336104 \nL 134.787274 155.408477 \nL 134.959946 155.494528 \nL 135.017503 155.046032 \nL 135.103839 155.154436 \nL 135.276512 155.370315 \nL 135.334069 155.312571 \nL 135.420405 155.032297 \nL 135.477963 155.104133 \nL 135.53552 155.175833 \nL 135.650635 154.803809 \nL 135.679414 154.839716 \nL 135.823307 155.018744 \nL 135.909643 154.612925 \nL 135.967201 154.684581 \nL 136.024758 154.756102 \nL 136.111094 154.479774 \nL 136.139873 154.515564 \nL 136.226209 154.622731 \nL 136.341324 154.255925 \nL 136.370103 154.291685 \nL 136.571554 154.541073 \nL 136.744226 153.994677 \nL 136.830562 154.101524 \nL 136.859341 153.884589 \nL 136.945677 153.991391 \nL 137.003234 154.062428 \nL 137.204685 153.305681 \nL 137.406136 153.429779 \nL 137.463694 153.250764 \nL 137.521251 153.321893 \nL 137.636366 153.463761 \nL 137.722702 153.071791 \nL 137.780259 153.142792 \nL 137.809038 153.053907 \nL 137.866595 153.124826 \nL 137.924153 153.195616 \nL 137.952932 152.982857 \nL 138.039268 153.089043 \nL 138.21194 153.177 \nL 138.499727 152.174661 \nL 138.586063 152.28103 \nL 138.614842 152.316423 \nL 138.758735 151.880469 \nL 139.247974 152.35771 \nL 139.363088 152.012143 \nL 139.391867 152.047229 \nL 139.478203 152.152299 \nL 139.506982 151.945122 \nL 139.593318 152.050142 \nL 139.650875 152.12 \nL 139.679654 151.91339 \nL 139.76599 152.018172 \nL 139.909884 152.192191 \nL 140.024999 151.610217 \nL 140.082556 151.68 \nL 140.140114 151.74966 \nL 140.168892 151.664603 \nL 140.341565 151.155831 \nL 140.456679 151.295399 \nL 140.485458 151.091689 \nL 140.571794 151.196266 \nL 140.629352 151.14683 \nL 140.802024 151.355109 \nL 140.859581 150.949948 \nL 140.945917 151.054118 \nL 141.003475 151.123413 \nL 141.089811 150.754435 \nL 141.147368 150.82384 \nL 141.291262 150.996827 \nL 141.320041 150.91357 \nL 141.55027 149.898031 \nL 141.7805 150.175972 \nL 141.809279 149.976774 \nL 141.895615 150.080722 \nL 141.981951 150.184402 \nL 142.097066 149.856617 \nL 142.125845 149.891199 \nL 142.269738 149.483144 \nL 142.327296 149.55242 \nL 142.615083 149.897034 \nL 142.701419 149.538387 \nL 142.758976 149.607176 \nL 142.816534 149.330339 \nL 142.90287 149.433567 \nL 143.133099 149.707566 \nL 143.449665 148.255617 \nL 143.56478 148.39373 \nL 143.737452 147.236488 \nL 143.823788 147.34096 \nL 144.054018 147.618277 \nL 144.082797 147.53975 \nL 144.22669 147.035268 \nL 144.255469 147.069959 \nL 144.45692 146.637269 \nL 144.485699 146.67201 \nL 144.514477 146.706722 \nL 144.600814 146.474021 \nL 144.629592 146.508758 \nL 144.773486 146.570066 \nL 144.888601 146.373059 \nL 145.11883 146.537951 \nL 145.262724 146.15411 \nL 145.435396 146.250037 \nL 145.838298 145.406166 \nL 145.924634 145.399643 \nL 145.953413 145.324083 \nL 146.01097 145.393136 \nL 146.586545 145.968462 \nL 146.615323 145.784302 \nL 146.701659 145.886333 \nL 146.845553 146.05584 \nL 146.960668 145.756773 \nL 146.989447 145.790659 \nL 147.277234 146.128032 \nL 147.507463 145.318716 \nL 147.536242 145.35252 \nL 147.565021 145.17101 \nL 147.651357 145.272437 \nL 147.737693 145.373623 \nL 147.939144 144.43078 \nL 147.967923 144.464734 \nL 147.996701 144.498661 \nL 148.226931 143.702402 \nL 148.313267 143.804641 \nL 148.342046 143.625658 \nL 148.428382 143.727828 \nL 148.68739 144.032902 \nL 148.946399 143.068216 \nL 149.176628 143.234343 \nL 149.291743 142.528433 \nL 149.378079 142.630572 \nL 149.493194 142.766389 \nL 149.521973 142.695457 \nL 149.665867 142.550855 \nL 149.80976 142.720061 \nL 149.982432 142.297187 \nL 150.011211 142.331034 \nL 150.068768 141.98242 \nL 150.155105 142.08413 \nL 150.327777 141.768348 \nL 150.356556 141.802243 \nL 150.385334 141.836111 \nL 150.558007 141.418471 \nL 150.817015 141.722866 \nL 150.845794 141.550572 \nL 150.93213 141.651734 \nL 150.960908 141.685403 \nL 151.104802 141.237508 \nL 151.133581 141.271257 \nL 151.162359 141.304981 \nL 151.219917 141.064887 \nL 151.277474 141.132389 \nL 151.335032 141.199789 \nL 151.36381 141.02886 \nL 151.450147 141.129925 \nL 151.478925 141.061421 \nL 151.536483 141.128697 \nL 151.853048 141.395273 \nL 152.112057 140.985509 \nL 152.313508 141.21881 \nL 152.48618 140.812923 \nL 152.630074 140.476061 \nL 152.687631 140.542775 \nL 152.745189 140.60939 \nL 152.889082 140.274022 \nL 152.917861 140.307355 \nL 153.032976 140.04 \nL 153.061754 140.073358 \nL 153.090533 140.106691 \nL 153.263205 139.707279 \nL 153.291984 139.740661 \nL 153.407099 139.375777 \nL 153.435878 139.409219 \nL 153.60855 139.509982 \nL 153.694886 139.312023 \nL 153.723665 139.345367 \nL 153.752443 139.378686 \nL 153.781222 139.213659 \nL 153.867558 139.313615 \nL 154.097788 139.480334 \nL 154.299239 138.824995 \nL 154.328018 138.858261 \nL 154.471911 138.43443 \nL 154.50069 138.467766 \nL 154.615805 138.502744 \nL 154.846034 137.789676 \nL 155.076264 137.958737 \nL 155.306494 137.15403 \nL 155.335272 137.187478 \nL 155.364051 137.026481 \nL 155.450387 137.126817 \nL 155.594281 137.196633 \nL 155.62306 137.03615 \nL 155.709396 137.136154 \nL 155.766953 137.202705 \nL 155.795732 137.139253 \nL 155.853289 136.915862 \nL 155.910847 136.982451 \nL 155.939625 137.01571 \nL 156.083519 136.699908 \nL 156.28497 136.836322 \nL 156.630314 136.084225 \nL 156.687872 136.150767 \nL 156.71665 136.184003 \nL 156.831765 135.934837 \nL 156.860544 135.96809 \nL 157.090774 136.138109 \nL 157.119552 136.076052 \nL 157.17711 136.142204 \nL 157.349782 136.245236 \nL 157.522454 135.969154 \nL 157.551233 136.002117 \nL 158.011692 136.526427 \nL 158.126807 136.280664 \nL 158.155586 136.31328 \nL 158.29948 136.476025 \nL 158.328258 136.41475 \nL 158.385816 136.104943 \nL 158.472152 136.202603 \nL 158.50093 136.235112 \nL 158.529709 136.174067 \nL 158.558488 136.019567 \nL 158.644824 136.117113 \nL 158.673603 136.149584 \nL 158.875054 135.351652 \nL 158.903832 135.384296 \nL 159.018947 135.514649 \nL 159.047726 135.454227 \nL 159.076505 135.300923 \nL 159.162841 135.398607 \nL 159.19162 135.431123 \nL 159.364292 135.070119 \nL 159.421849 135.135199 \nL 159.450628 135.075194 \nL 159.709636 134.260292 \nL 159.882309 134.456119 \nL 160.141317 133.647225 \nL 160.170096 133.67996 \nL 160.198874 133.529271 \nL 160.285211 133.627462 \nL 160.342768 133.692812 \nL 160.486661 133.398843 \nL 160.803227 133.666131 \nL 160.889563 133.490602 \nL 160.918342 133.523105 \nL 161.004678 133.620481 \nL 161.177351 133.270687 \nL 161.40758 133.52982 \nL 161.609031 132.943551 \nL 161.810482 133.08 \nL 161.839261 133.022324 \nL 161.896818 133.086907 \nL 161.925597 133.119167 \nL 161.983154 132.824336 \nL 162.069491 132.921215 \nL 162.098269 132.953465 \nL 162.242163 132.756178 \nL 162.270941 132.788419 \nL 162.472392 132.298955 \nL 162.501171 132.331261 \nL 162.587507 132.071244 \nL 162.645065 132.1359 \nL 162.702622 132.200472 \nL 162.990409 131.101352 \nL 163.019188 131.13386 \nL 163.047967 131.166347 \nL 163.19186 130.619726 \nL 163.249418 130.684886 \nL 163.479647 130.944678 \nL 163.508426 130.888782 \nL 163.537205 130.744675 \nL 163.623541 130.841881 \nL 163.65232 130.874241 \nL 163.767434 130.563381 \nL 163.796213 130.595779 \nL 163.824992 130.628155 \nL 163.968885 130.438449 \nL 164.31423 129.863173 \nL 164.343009 129.895598 \nL 164.400566 129.960386 \nL 164.429345 129.818014 \nL 164.515681 129.915145 \nL 164.602017 129.924889 \nL 164.717132 129.70562 \nL 164.745911 129.73795 \nL 164.774689 129.683228 \nL 164.832247 129.74784 \nL 165.033698 129.973333 \nL 165.120034 129.636172 \nL 165.177591 129.700567 \nL 165.350263 129.806783 \nL 165.379042 129.752405 \nL 165.4366 129.816542 \nL 165.609272 129.922234 \nL 165.810723 129.629174 \nL 165.839502 129.661139 \nL 165.925838 129.756914 \nL 166.040952 129.626865 \nL 166.184846 129.786091 \nL 166.32874 129.602606 \nL 166.415076 129.697925 \nL 166.443854 129.558768 \nL 166.530191 129.654008 \nL 166.904314 129.979631 \nL 166.961871 129.787671 \nL 167.019429 129.850684 \nL 167.105765 129.860225 \nL 167.307216 129.318107 \nL 167.451109 129.05306 \nL 167.479888 129.084638 \nL 167.595003 128.957603 \nL 167.623782 128.989162 \nL 167.997905 127.71728 \nL 168.11302 127.844384 \nL 168.343249 127.009449 \nL 168.372028 127.041355 \nL 168.602258 127.21242 \nL 168.77493 126.736076 \nL 168.803709 126.767919 \nL 168.890045 126.863331 \nL 169.033938 126.606493 \nL 169.091496 126.670064 \nL 169.120274 126.535785 \nL 169.206611 126.631089 \nL 169.321725 126.757891 \nL 169.408062 126.52173 \nL 169.465619 126.5851 \nL 169.523176 126.648394 \nL 169.551955 126.514734 \nL 169.638291 126.609623 \nL 169.868521 126.861818 \nL 169.8973 126.728579 \nL 169.983636 126.82293 \nL 170.069972 126.917109 \nL 170.098751 126.8663 \nL 170.242644 126.694754 \nL 170.760661 127.174854 \nL 170.875776 126.972954 \nL 170.904554 127.004029 \nL 171.077227 127.027433 \nL 171.106005 126.895818 \nL 171.192342 126.988834 \nL 171.22112 127.019803 \nL 171.249899 126.96957 \nL 171.278678 126.838208 \nL 171.365014 126.93111 \nL 171.537686 127.116415 \nL 171.566465 126.9854 \nL 171.595244 126.854464 \nL 171.68158 126.947047 \nL 171.710358 126.897075 \nL 171.767916 126.958717 \nL 171.911809 127.031872 \nL 172.170818 126.342781 \nL 172.199596 126.373629 \nL 172.228375 126.243726 \nL 172.34349 126.126237 \nL 172.372269 126.157095 \nL 172.487384 126.200189 \nL 172.516162 126.150849 \nL 172.660056 125.904586 \nL 172.717613 125.966214 \nL 172.746392 125.997 \nL 172.775171 125.867933 \nL 172.947843 125.573783 \nL 172.976622 125.524859 \nL 173.034179 125.58651 \nL 173.46586 125.887883 \nL 173.580975 125.772283 \nL 173.609753 125.802857 \nL 173.753647 125.955459 \nL 173.782425 125.827718 \nL 173.868762 125.603013 \nL 173.926319 125.664063 \nL 174.214106 125.889493 \nL 174.358 125.569167 \nL 174.386778 125.59956 \nL 174.415557 125.629936 \nL 174.444336 125.50314 \nL 174.473115 125.376416 \nL 174.559451 125.467606 \nL 174.617008 125.528312 \nL 174.645787 125.4018 \nL 174.674565 125.275362 \nL 174.760902 125.366455 \nL 175.135025 125.603307 \nL 175.336476 125.268825 \nL 175.394033 125.329175 \nL 175.451591 125.389456 \nL 175.480369 125.341803 \nL 175.710599 124.806372 \nL 175.768156 124.711669 \nL 175.883271 124.832419 \nL 176.027165 124.67358 \nL 176.055944 124.703727 \nL 176.631518 125.226195 \nL 176.746633 125.038135 \nL 176.775411 125.067966 \nL 176.832969 125.127578 \nL 176.861747 125.080644 \nL 177.005641 124.463337 \nL 177.091977 124.553039 \nL 177.207092 124.672405 \nL 177.235871 124.549336 \nL 177.667551 123.77716 \nL 177.753887 123.866861 \nL 177.811445 123.774564 \nL 177.869002 123.834298 \nL 177.955338 123.620173 \nL 178.012896 123.679911 \nL 178.099232 123.769392 \nL 178.156789 123.677458 \nL 178.214347 123.434206 \nL 178.300683 123.523718 \nL 178.35824 123.4321 \nL 178.444576 123.52149 \nL 178.58847 123.292956 \nL 179.020151 123.587761 \nL 179.135266 123.40582 \nL 179.164044 123.435418 \nL 179.307938 123.583164 \nL 179.365495 123.492397 \nL 179.394274 123.372195 \nL 179.48061 123.460748 \nL 179.538167 123.370198 \nL 179.595725 123.42917 \nL 179.624504 123.383941 \nL 179.682061 123.442856 \nL 179.739618 123.35249 \nL 179.797176 123.411358 \nL 179.825955 123.291673 \nL 179.912291 123.379929 \nL 179.941069 123.334849 \nL 179.998627 123.393614 \nL 180.056184 123.452315 \nL 180.084963 123.332914 \nL 180.228857 123.108197 \nL 180.286414 123.166925 \nL 180.343971 123.077227 \nL 180.459086 123.194526 \nL 180.689316 122.541088 \nL 180.718095 122.570487 \nL 181.120997 122.833118 \nL 181.293669 122.566968 \nL 181.380005 122.654595 \nL 181.408784 122.610332 \nL 181.49512 122.477689 \nL 181.523898 122.506883 \nL 181.754128 122.593461 \nL 181.955579 122.139194 \nL 182.070694 122.036778 \nL 182.099473 122.065933 \nL 182.128251 121.949179 \nL 182.15703 121.978342 \nL 182.185809 121.861674 \nL 182.272145 121.94914 \nL 182.732604 122.268183 \nL 182.761383 122.15206 \nL 182.847719 122.238827 \nL 183.135506 122.382515 \nL 183.164285 122.266794 \nL 183.250621 122.353147 \nL 183.509629 121.963211 \nL 183.567187 122.020773 \nL 183.624744 122.078274 \nL 183.653523 121.963154 \nL 183.826195 121.704571 \nL 184.056425 121.791015 \nL 184.085204 121.748065 \nL 184.142761 121.805437 \nL 184.286655 121.948603 \nL 184.315433 121.834214 \nL 184.344212 121.719884 \nL 184.430548 121.805738 \nL 184.574442 121.591929 \nL 184.631999 121.649127 \nL 184.775893 121.79186 \nL 184.804671 121.749191 \nL 185.034901 121.2666 \nL 185.466582 121.552129 \nL 185.581697 121.382902 \nL 185.610475 121.411302 \nL 185.696811 121.143429 \nL 185.754369 120.988598 \nL 185.811926 121.045501 \nL 186.070935 121.230474 \nL 186.099713 121.188447 \nL 186.214828 120.95029 \nL 186.243607 120.97864 \nL 186.301164 120.89487 \nL 186.358722 120.951541 \nL 186.445058 120.896192 \nL 186.473837 120.924498 \nL 186.61773 121.065811 \nL 186.646509 120.954036 \nL 186.934296 120.258341 \nL 187.049411 120.37164 \nL 187.078189 120.260472 \nL 187.27964 119.692702 \nL 187.308419 119.721106 \nL 187.567428 119.906667 \nL 187.797657 119.439643 \nL 187.999108 119.499389 \nL 188.085444 119.307735 \nL 188.143002 119.36432 \nL 188.344453 119.424018 \nL 188.488346 119.289455 \nL 188.689797 119.349105 \nL 188.718576 119.239798 \nL 188.804912 119.324234 \nL 188.977584 119.35559 \nL 189.121478 119.153379 \nL 189.236593 119.265623 \nL 189.29415 119.184906 \nL 189.466822 118.874966 \nL 189.697052 119.030975 \nL 189.725831 118.990827 \nL 189.783388 118.842505 \nL 189.869724 118.926458 \nL 190.071175 119.053943 \nL 190.18629 118.961817 \nL 190.41652 119.048969 \nL 190.445299 118.94137 \nL 190.531635 119.024769 \nL 190.761864 119.246557 \nL 190.819422 119.166912 \nL 191.07843 118.607501 \nL 191.193545 118.718396 \nL 191.222324 118.678842 \nL 191.423775 118.268254 \nL 191.481332 118.323732 \nL 191.510111 118.217295 \nL 191.711562 117.875477 \nL 192.028128 118.046683 \nL 192.056906 118.007576 \nL 192.114464 118.062882 \nL 192.172021 118.118135 \nL 192.229579 118.04 \nL 192.43103 117.567473 \nL 192.459808 117.595153 \nL 192.661259 117.788534 \nL 192.690038 117.683293 \nL 192.776374 117.367881 \nL 192.86271 117.450783 \nL 193.09294 117.538904 \nL 193.150497 117.395512 \nL 193.236833 117.478132 \nL 193.409506 117.577008 \nL 193.553399 117.186738 \nL 193.610957 117.241745 \nL 193.697293 117.258314 \nL 193.812408 117.104956 \nL 193.841186 117.132427 \nL 193.869965 117.159884 \nL 193.898744 117.055865 \nL 194.042637 116.930435 \nL 194.301646 117.111584 \nL 194.330424 117.007952 \nL 194.416761 117.090036 \nL 194.445539 117.117371 \nL 194.474318 117.013863 \nL 194.589433 116.927088 \nL 194.64699 116.981745 \nL 194.675769 116.878443 \nL 194.704548 116.84048 \nL 194.762105 116.895126 \nL 194.992335 116.982919 \nL 195.049892 116.907162 \nL 195.10745 116.961618 \nL 195.251343 116.967547 \nL 195.366458 116.881376 \nL 195.395237 116.908545 \nL 195.424015 116.805903 \nL 195.510351 116.627974 \nL 195.567909 116.682356 \nL 195.711802 116.559104 \nL 195.740581 116.586273 \nL 195.884475 116.592617 \nL 196.028368 116.340641 \nL 196.057147 116.367791 \nL 196.114704 116.292991 \nL 196.229819 116.40148 \nL 196.373713 116.279232 \nL 196.43127 116.20467 \nL 196.488828 116.25884 \nL 196.632721 116.072766 \nL 196.690279 116.126909 \nL 196.719057 116.089752 \nL 196.89173 115.610701 \nL 196.949287 115.664947 \nL 196.978066 115.627977 \nL 197.035623 115.682177 \nL 197.237074 115.743599 \nL 197.265853 115.642775 \nL 197.352189 115.723854 \nL 197.524861 115.821882 \nL 197.841427 115.099551 \nL 197.898984 115.153617 \nL 197.927763 115.053474 \nL 198.042878 114.970965 \nL 198.100435 115.025004 \nL 198.157993 114.952071 \nL 198.330665 114.606939 \nL 198.359444 114.633986 \nL 198.417001 114.688043 \nL 198.474559 114.615454 \nL 198.733567 114.163309 \nL 198.848682 113.892844 \nL 198.906239 113.947032 \nL 199.251584 114.1453 \nL 199.33792 113.911832 \nL 199.395477 113.965798 \nL 199.424256 113.992762 \nL 199.453035 113.894113 \nL 199.481813 113.921081 \nL 199.510592 113.822494 \nL 199.596928 113.903374 \nL 199.798379 114.091659 \nL 199.855937 114.020147 \nL 200.114945 113.449285 \nL 200.287617 113.485903 \nL 200.316396 113.450418 \nL 200.373953 113.504174 \nL 200.431511 113.43326 \nL 200.489068 113.486975 \nL 200.604183 113.407582 \nL 200.632962 113.434415 \nL 200.776855 113.568395 \nL 200.834413 113.497678 \nL 201.007085 113.347942 \nL 201.035864 113.374702 \nL 201.496323 113.739432 \nL 201.697774 113.431648 \nL 201.812889 113.537959 \nL 201.841668 113.44127 \nL 201.899225 113.309613 \nL 201.956783 113.362763 \nL 201.985561 113.389321 \nL 202.043119 113.319357 \nL 202.187012 113.267628 \nL 202.215791 113.294159 \nL 202.24457 113.197831 \nL 202.273348 113.224365 \nL 202.330906 113.03187 \nL 202.417242 113.111496 \nL 202.647472 113.200847 \nL 203.194267 112.481992 \nL 203.280603 112.561453 \nL 203.366939 112.640806 \nL 203.395718 112.545487 \nL 203.625948 112.149054 \nL 203.683505 112.080536 \nL 203.827399 112.212857 \nL 203.971292 111.981271 \nL 204.000071 112.007722 \nL 204.287858 112.150676 \nL 204.374194 112.048446 \nL 204.402973 112.0748 \nL 204.489309 112.153791 \nL 204.518088 112.059405 \nL 204.661981 111.94978 \nL 204.69076 111.915831 \nL 204.748317 111.968457 \nL 204.892211 112.099818 \nL 204.92099 112.005737 \nL 205.093662 111.802599 \nL 205.410228 111.970981 \nL 205.467785 111.783663 \nL 205.554121 111.862203 \nL 205.611679 111.794822 \nL 205.698015 111.873267 \nL 205.81313 111.678954 \nL 205.841908 111.705099 \nL 205.899466 111.757355 \nL 205.928244 111.664072 \nL 206.072138 111.436797 \nL 206.100917 111.462944 \nL 206.187253 111.541315 \nL 206.216032 111.448284 \nL 206.47504 110.85063 \nL 206.503819 110.876825 \nL 206.532597 110.903008 \nL 206.561376 110.810361 \nL 206.647712 110.592031 \nL 206.676491 110.499533 \nL 206.762827 110.578193 \nL 207.13695 110.799565 \nL 207.252065 110.608297 \nL 207.280844 110.634391 \nL 207.338401 110.568422 \nL 207.424737 110.646645 \nL 207.654967 110.147696 \nL 207.683746 110.17381 \nL 207.885197 110.238658 \nL 208.115426 109.859572 \nL 208.172984 109.911734 \nL 208.230541 109.846518 \nL 208.25932 109.813932 \nL 208.316877 109.866057 \nL 208.518328 109.989602 \nL 208.691001 109.794528 \nL 209.007566 109.963133 \nL 209.122681 109.950077 \nL 209.180239 110.001809 \nL 209.209017 109.969419 \nL 209.295354 109.814133 \nL 209.352911 109.865856 \nL 209.496805 109.878743 \nL 209.525583 109.788354 \nL 209.611919 109.865806 \nL 209.784592 109.904434 \nL 209.928485 109.801381 \nL 210.388945 110.154316 \nL 210.561617 109.961723 \nL 210.676732 110.064036 \nL 210.70551 109.974393 \nL 210.993297 109.367427 \nL 211.108412 109.355064 \nL 211.453757 108.573446 \nL 211.626429 108.670394 \nL 211.82788 108.335712 \nL 212.086888 108.566621 \nL 212.115667 108.478213 \nL 212.259561 108.321458 \nL 212.374676 108.366983 \nL 212.518569 108.096964 \nL 212.547348 108.122584 \nL 212.662463 108.111402 \nL 212.748799 108.131399 \nL 212.863914 108.120225 \nL 212.979028 107.995773 \nL 213.007807 108.021329 \nL 213.094143 108.041333 \nL 213.353152 108.157689 \nL 213.439488 108.177557 \nL 213.698496 108.293369 \nL 213.727275 108.206045 \nL 213.813611 108.282138 \nL 213.899947 108.301863 \nL 214.245292 108.548922 \nL 214.360406 108.425349 \nL 214.389185 108.450563 \nL 214.475521 108.470103 \nL 214.590636 108.290803 \nL 214.619415 108.316004 \nL 214.878423 108.430584 \nL 214.964759 108.450068 \nL 215.022317 108.500259 \nL 215.051096 108.413717 \nL 215.079874 108.32721 \nL 215.16621 108.402495 \nL 215.281325 108.391292 \nL 215.482776 108.455189 \nL 215.741785 108.013437 \nL 215.885678 108.02763 \nL 215.914457 107.941714 \nL 216.000793 108.01679 \nL 216.202244 107.914827 \nL 216.231023 107.939817 \nL 216.259801 107.854129 \nL 216.461252 107.586818 \nL 216.547588 107.606599 \nL 216.633925 107.626355 \nL 216.662703 107.540974 \nL 216.749039 107.615898 \nL 216.95049 107.7353 \nL 217.065605 107.614737 \nL 217.094384 107.639636 \nL 217.238277 107.763979 \nL 217.267056 107.678933 \nL 217.41095 107.528651 \nL 217.698737 107.721983 \nL 217.957745 107.288401 \nL 218.101639 107.412347 \nL 218.130417 107.327884 \nL 218.159196 107.243455 \nL 218.245532 107.317776 \nL 218.446983 107.38186 \nL 218.562098 107.371731 \nL 218.677213 107.416021 \nL 218.763549 107.272486 \nL 218.821107 107.321824 \nL 218.965 107.336404 \nL 219.080115 107.163593 \nL 219.108894 107.188234 \nL 219.137672 107.212865 \nL 219.166451 107.129048 \nL 219.252787 106.931986 \nL 219.310345 106.981291 \nL 219.483017 107.020772 \nL 219.62691 106.927493 \nL 220.202485 107.309875 \nL 220.375157 107.13365 \nL 221.238518 106.365664 \nL 221.353633 106.356526 \nL 221.439969 106.162859 \nL 221.497527 106.211731 \nL 221.583863 106.231642 \nL 221.698978 106.06278 \nL 221.727756 106.087197 \nL 221.929207 106.15145 \nL 222.101879 105.978651 \nL 222.188216 105.998617 \nL 222.389667 105.744585 \nL 222.504781 105.788996 \nL 222.619896 105.674483 \nL 222.648675 105.698824 \nL 222.792569 105.767496 \nL 222.907683 105.600373 \nL 222.936462 105.624681 \nL 222.994019 105.620451 \nL 223.022798 105.539126 \nL 223.109134 105.612 \nL 223.281807 105.652064 \nL 223.4257 105.562496 \nL 223.540815 105.606738 \nL 223.713487 105.436442 \nL 223.943717 105.524881 \nL 224.173947 105.089046 \nL 224.202725 105.113246 \nL 224.375398 105.153593 \nL 224.519291 105.012879 \nL 224.663185 105.029124 \nL 224.778299 104.969032 \nL 224.893414 104.961182 \nL 225.123644 104.841379 \nL 225.238759 104.885674 \nL 225.468989 104.454564 \nL 225.497767 104.478678 \nL 225.641661 104.547216 \nL 225.67044 104.467524 \nL 225.756776 104.539733 \nL 226.159678 104.772192 \nL 226.389907 104.653678 \nL 226.56258 104.693966 \nL 226.850367 104.520682 \nL 226.879145 104.544564 \nL 226.907924 104.465521 \nL 227.080596 104.300287 \nL 227.138154 104.348053 \nL 227.166932 104.269182 \nL 227.368383 104.179638 \nL 227.512277 104.196364 \nL 227.627392 104.189237 \nL 227.65617 104.21306 \nL 227.684949 104.134481 \nL 227.828843 104.100068 \nL 227.972736 104.116819 \nL 228.087851 103.905527 \nL 228.145409 103.953127 \nL 228.231745 103.973446 \nL 228.289302 103.969981 \nL 228.519532 103.548805 \nL 228.54831 103.572609 \nL 228.663425 103.667737 \nL 228.692204 103.589775 \nL 228.864876 103.57985 \nL 229.037549 103.620695 \nL 229.239 103.33036 \nL 229.440451 103.395084 \nL 229.90091 103.066587 \nL 230.102361 103.232175 \nL 230.13114 103.155017 \nL 230.332591 102.917652 \nL 230.821829 102.565914 \nL 231.052058 102.65456 \nL 231.656411 102.199905 \nL 231.829083 102.24154 \nL 232.001756 102.233295 \nL 232.174428 102.274803 \nL 232.203207 102.198836 \nL 232.289543 102.269292 \nL 232.404658 102.26379 \nL 232.606109 102.030985 \nL 232.778781 102.072556 \nL 233.037789 101.986351 \nL 233.23924 102.051232 \nL 233.383134 102.069272 \nL 233.555806 102.159898 \nL 233.670921 102.105253 \nL 233.814814 102.221637 \nL 233.843593 102.146464 \nL 234.073823 102.08661 \nL 234.246495 102.176825 \nL 234.390389 101.900375 \nL 234.447946 101.946818 \nL 234.620618 101.939027 \nL 234.706954 101.959611 \nL 234.908405 101.63277 \nL 234.937184 101.655968 \nL 234.965963 101.679159 \nL 234.994742 101.604623 \nL 235.196192 101.376409 \nL 235.340086 101.394834 \nL 235.455201 101.438781 \nL 235.656652 101.503373 \nL 235.91566 101.12815 \nL 236.14589 101.264558 \nL 236.261005 100.969053 \nL 236.347341 101.038396 \nL 236.548792 101.006352 \nL 236.606349 101.052493 \nL 236.635128 100.978826 \nL 236.865358 100.921663 \nL 236.894136 100.944708 \nL 236.922915 100.87119 \nL 237.03803 100.625623 \nL 237.095587 100.67176 \nL 237.26826 100.713626 \nL 237.412153 100.491744 \nL 237.440932 100.514788 \nL 237.584825 100.53372 \nL 237.613604 100.460587 \nL 237.69994 100.529623 \nL 237.93017 100.617405 \nL 238.246736 100.4863 \nL 238.304293 100.484276 \nL 238.333072 100.411474 \nL 238.419408 100.480232 \nL 238.649638 100.567698 \nL 238.82231 100.418406 \nL 238.879867 100.464114 \nL 238.908646 100.39157 \nL 238.994982 100.317096 \nL 239.023761 100.339947 \nL 239.081318 100.385627 \nL 239.110097 100.313186 \nL 239.628114 100.010755 \nL 239.829565 100.075456 \nL 240.002237 99.88037 \nL 240.117352 99.876788 \nL 240.347582 99.538695 \nL 240.37636 99.466957 \nL 240.462696 99.535359 \nL 240.692926 99.481521 \nL 240.894377 99.499327 \nL 241.095828 99.470026 \nL 241.153385 99.468388 \nL 241.182164 99.397009 \nL 241.441173 98.943577 \nL 241.469951 98.96633 \nL 241.642624 98.961954 \nL 241.815296 98.723276 \nL 241.844074 98.746016 \nL 242.045525 98.811384 \nL 242.275755 98.478652 \nL 242.563542 98.565541 \nL 242.592321 98.494917 \nL 242.678657 98.562916 \nL 242.736214 98.60821 \nL 242.764993 98.537651 \nL 242.793772 98.467117 \nL 242.880108 98.535049 \nL 242.966444 98.509829 \nL 242.995223 98.439384 \nL 243.081559 98.507248 \nL 243.196674 98.551149 \nL 243.28301 98.618875 \nL 243.311789 98.548544 \nL 243.599576 98.032016 \nL 243.628355 98.054634 \nL 243.887363 98.165272 \nL 243.916142 98.09527 \nL 244.002478 98.162941 \nL 244.146371 98.183139 \nL 244.434158 98.269571 \nL 244.664388 98.218708 \nL 244.952175 98.304816 \nL 245.096069 98.049029 \nL 245.124847 97.979544 \nL 245.211184 98.046793 \nL 245.29752 98.06807 \nL 245.326298 97.998663 \nL 245.355077 97.929279 \nL 245.441413 97.996463 \nL 245.556528 97.994266 \nL 245.7292 97.853612 \nL 245.757979 97.875978 \nL 245.786758 97.80679 \nL 245.815536 97.737626 \nL 245.901873 97.804726 \nL 246.132102 97.846286 \nL 247.254472 97.077235 \nL 247.427144 97.074896 \nL 247.455923 97.006511 \nL 247.542259 97.073339 \nL 247.714931 97.071007 \nL 247.945161 97.022704 \nL 247.97394 97.044922 \nL 248.002718 96.976758 \nL 248.175391 96.839103 \nL 248.376842 96.94939 \nL 248.40562 96.8814 \nL 248.578293 96.744159 \nL 248.894858 96.852901 \nL 249.009973 96.716727 \nL 249.038752 96.73886 \nL 249.182646 96.75965 \nL 249.29776 96.623762 \nL 249.326539 96.645874 \nL 249.384096 96.690074 \nL 249.412875 96.62252 \nL 249.556769 96.464221 \nL 249.585547 96.486326 \nL 249.671884 96.552597 \nL 249.700662 96.485176 \nL 249.959671 96.058116 \nL 249.988449 96.080237 \nL 250.074786 96.05725 \nL 250.1899 95.833269 \nL 250.247458 95.877518 \nL 250.621581 96.075408 \nL 250.823032 95.873797 \nL 250.909368 95.939902 \nL 250.938147 95.873055 \nL 251.197155 95.538629 \nL 251.369827 95.582172 \nL 251.600057 95.226938 \nL 251.628836 95.248989 \nL 251.887844 95.181951 \nL 252.002959 95.22583 \nL 252.031738 95.159513 \nL 252.20441 95.159104 \nL 252.520976 95.268451 \nL 252.86632 95.135569 \nL 252.981435 95.135314 \nL 253.010214 95.069375 \nL 253.09655 95.135058 \nL 253.269222 95.134676 \nL 253.413116 95.068631 \nL 253.873575 95.330014 \nL 254.046248 95.06747 \nL 254.075026 95.089245 \nL 254.132584 95.132775 \nL 254.161362 95.06726 \nL 254.477928 94.565769 \nL 254.593043 94.565881 \nL 254.938388 94.001413 \nL 255.139838 94.154131 \nL 255.168617 94.089138 \nL 255.312511 93.851198 \nL 255.370068 93.894824 \nL 255.456404 93.873567 \nL 255.629077 93.744554 \nL 255.830528 93.767279 \nL 256.175872 93.639682 \nL 256.348544 93.683838 \nL 256.521217 93.512572 \nL 256.837782 93.622189 \nL 256.981676 93.515676 \nL 257.183127 93.581396 \nL 257.211906 93.517222 \nL 257.298242 93.582127 \nL 257.442135 93.604465 \nL 257.78748 93.734917 \nL 258.161603 93.587582 \nL 258.305497 93.567161 \nL 258.391833 93.461142 \nL 258.44939 93.504158 \nL 258.506948 93.547147 \nL 258.535726 93.483441 \nL 258.564505 93.419756 \nL 258.650841 93.484229 \nL 258.794735 93.506479 \nL 258.967407 93.507636 \nL 259.197637 93.21208 \nL 259.370309 93.21351 \nL 259.542981 93.045486 \nL 259.715653 93.089393 \nL 259.974662 92.690194 \nL 260.00344 92.711642 \nL 260.089777 92.733706 \nL 260.118555 92.670671 \nL 260.147334 92.607656 \nL 260.23367 92.671957 \nL 260.521457 92.801581 \nL 260.665351 92.655709 \nL 260.69413 92.677082 \nL 260.722908 92.698448 \nL 260.751687 92.635633 \nL 260.838023 92.531441 \nL 260.89558 92.574179 \nL 261.183368 92.661505 \nL 261.442376 92.349904 \nL 261.58627 92.414595 \nL 261.615048 92.352115 \nL 261.643827 92.289653 \nL 261.730163 92.353586 \nL 261.931614 92.377067 \nL 261.960393 92.314708 \nL 262.046729 92.378521 \nL 262.161844 92.379972 \nL 262.24818 92.276682 \nL 262.305737 92.319177 \nL 262.449631 92.341887 \nL 262.67986 92.094897 \nL 263.053984 91.954653 \nL 263.80223 92.379762 \nL 264.061239 91.948809 \nL 264.090017 91.969906 \nL 264.291468 91.993503 \nL 264.492919 91.810765 \nL 264.579255 91.791479 \nL 264.69437 91.669629 \nL 264.723149 91.690697 \nL 264.838264 91.692545 \nL 265.010936 91.530736 \nL 265.126051 91.532678 \nL 265.327502 91.351229 \nL 265.413838 91.41435 \nL 265.442617 91.353276 \nL 265.58651 91.294301 \nL 265.730404 91.276405 \nL 265.874297 91.094702 \nL 265.903076 91.115727 \nL 266.04697 91.097995 \nL 266.248421 91.08139 \nL 266.334757 91.06261 \nL 266.507429 90.902631 \nL 266.766437 91.009732 \nL 266.910331 90.951421 \nL 267.083003 90.954825 \nL 267.140561 90.996647 \nL 267.169339 90.936183 \nL 267.313233 90.87805 \nL 267.428348 90.880359 \nL 267.658577 90.560334 \nL 267.687356 90.581245 \nL 267.860028 90.66604 \nL 267.888807 90.605851 \nL 268.003922 90.567809 \nL 268.147815 90.591154 \nL 268.26293 90.472267 \nL 268.291709 90.493125 \nL 268.349266 90.494389 \nL 268.378045 90.434378 \nL 268.464381 90.335272 \nL 268.521939 90.37698 \nL 268.72339 90.401693 \nL 268.953619 90.084372 \nL 268.982398 90.105214 \nL 269.126292 90.128784 \nL 269.241406 90.091266 \nL 269.3853 90.074596 \nL 269.529193 90.09814 \nL 269.701866 90.142408 \nL 269.730644 90.082866 \nL 269.816981 90.145123 \nL 270.04721 90.230709 \nL 270.27744 89.955776 \nL 270.363776 90.017915 \nL 270.392555 89.958593 \nL 270.478891 89.860718 \nL 270.536448 89.902136 \nL 271.083244 89.656459 \nL 271.255916 89.740601 \nL 271.284695 89.681589 \nL 271.428588 89.58579 \nL 271.514924 89.528378 \nL 271.543703 89.469475 \nL 271.630039 89.531428 \nL 272.320728 89.193061 \nL 272.522179 89.218506 \nL 272.72363 88.967117 \nL 272.752409 88.987724 \nL 272.925081 88.992739 \nL 273.414319 88.790188 \nL 273.586992 88.913465 \nL 273.61577 88.855264 \nL 273.817221 88.684271 \nL 273.846 88.704805 \nL 273.874779 88.646711 \nL 273.903557 88.588633 \nL 273.989893 88.650234 \nL 274.018672 88.670756 \nL 274.047451 88.612717 \nL 274.248902 88.324625 \nL 274.277681 88.345167 \nL 274.536689 88.412236 \nL 274.766919 88.145572 \nL 274.910812 88.130763 \nL 275.284935 88.00648 \nL 275.428829 88.030815 \nL 275.457608 87.973276 \nL 275.543944 88.034664 \nL 275.659059 88.038509 \nL 275.716616 87.962528 \nL 275.774174 88.00341 \nL 275.946846 88.009196 \nL 276.090739 87.839056 \nL 276.119518 87.859479 \nL 276.29219 87.865379 \nL 276.464863 87.754849 \nL 276.75265 87.84231 \nL 276.925322 87.848205 \nL 277.040437 87.85213 \nL 277.18433 87.799027 \nL 277.357003 87.843582 \nL 277.500896 87.75196 \nL 277.788683 87.838979 \nL 278.018913 87.577234 \nL 278.162806 87.640028 \nL 278.191585 87.583318 \nL 278.508151 87.191067 \nL 278.594487 87.136666 \nL 278.680823 87.005542 \nL 278.738381 87.046099 \nL 278.853495 87.01209 \nL 278.96861 87.054779 \nL 279.141283 87.099574 \nL 279.400291 86.822381 \nL 279.630521 86.945904 \nL 279.659299 86.889698 \nL 279.745635 86.721174 \nL 279.831972 86.781806 \nL 280.033423 86.770556 \nL 280.09098 86.772791 \nL 280.119759 86.716735 \nL 280.637775 86.508821 \nL 280.75289 86.513424 \nL 280.896784 86.38627 \nL 280.925563 86.40642 \nL 281.069456 86.431206 \nL 281.098235 86.375464 \nL 281.184571 86.435843 \nL 281.443579 86.503063 \nL 281.587473 86.414185 \nL 281.731366 86.401069 \nL 281.904039 86.408024 \nL 282.134268 86.530515 \nL 282.163047 86.475046 \nL 282.508392 86.375764 \nL 282.7674 86.44263 \nL 282.968851 86.281494 \nL 283.141523 86.288507 \nL 283.314196 86.333041 \nL 283.486868 86.2275 \nL 283.832212 85.904628 \nL 283.947327 85.834659 \nL 283.976106 85.854591 \nL 284.062442 85.83956 \nL 284.148778 85.78716 \nL 284.177557 85.807079 \nL 284.494123 85.913871 \nL 284.810688 85.424124 \nL 284.839467 85.44403 \nL 285.069697 85.491431 \nL 285.299927 85.204136 \nL 285.328705 85.224026 \nL 285.530156 85.288832 \nL 285.817943 84.967957 \nL 286.048173 85.089748 \nL 286.076952 85.035503 \nL 286.364739 84.974731 \nL 286.451075 84.960229 \nL 286.479854 84.906104 \nL 286.56619 84.965547 \nL 286.825198 85.069766 \nL 287.084207 84.694496 \nL 287.112985 84.714288 \nL 287.371994 84.781731 \nL 287.515887 84.733286 \nL 287.659781 84.758436 \nL 287.918789 84.862372 \nL 288.033904 84.757607 \nL 288.062683 84.777303 \nL 288.264134 84.805039 \nL 288.379248 84.847037 \nL 288.551921 84.855032 \nL 288.609478 84.747891 \nL 288.695814 84.806806 \nL 288.753372 84.809479 \nL 288.78215 84.755958 \nL 288.839708 84.648959 \nL 288.926044 84.70785 \nL 289.01238 84.730161 \nL 289.041159 84.676715 \nL 289.213831 84.538832 \nL 289.24261 84.558448 \nL 289.271388 84.505083 \nL 289.300167 84.451732 \nL 289.386503 84.510576 \nL 289.472839 84.569372 \nL 289.501618 84.516063 \nL 289.530397 84.462767 \nL 289.616733 84.521544 \nL 289.760627 84.510185 \nL 289.990856 84.266572 \nL 290.048414 84.30573 \nL 290.077192 84.252599 \nL 290.249865 84.115718 \nL 290.336201 84.174438 \nL 290.364979 84.121394 \nL 290.508873 83.965227 \nL 290.537652 83.984802 \nL 290.623988 83.934717 \nL 290.739103 83.90424 \nL 290.911775 83.912902 \nL 291.02689 83.95486 \nL 291.257119 84.00249 \nL 291.343456 83.916426 \nL 291.401013 83.955433 \nL 291.45857 83.994419 \nL 291.487349 83.941674 \nL 291.660021 83.842018 \nL 291.861472 83.942268 \nL 291.890251 83.889629 \nL 292.206817 83.815447 \nL 292.379489 83.824121 \nL 292.58094 83.672522 \nL 292.724834 83.697788 \nL 292.926285 83.510671 \nL 293.012621 83.497184 \nL 293.214072 83.346327 \nL 293.300408 83.297109 \nL 293.530638 83.094495 \nL 293.559416 83.113914 \nL 293.588195 83.061792 \nL 293.645752 82.95759 \nL 293.732089 83.015855 \nL 293.962318 83.135297 \nL 293.991097 83.083268 \nL 294.163769 82.985426 \nL 294.250105 83.007882 \nL 294.278884 82.955939 \nL 295.314918 82.479013 \nL 295.545147 82.527257 \nL 295.71782 82.536807 \nL 296.063164 82.661965 \nL 296.264615 82.478612 \nL 296.466066 82.542715 \nL 296.523623 82.475294 \nL 296.581181 82.513763 \nL 296.753853 82.558537 \nL 296.897747 82.478346 \nL 297.27187 82.622089 \nL 297.761108 82.245062 \nL 297.962559 82.098547 \nL 298.106452 82.089175 \nL 298.451797 81.688841 \nL 298.566912 81.765502 \nL 298.59569 81.71472 \nL 298.797141 81.429486 \nL 298.854699 81.467833 \nL 298.969814 81.439743 \nL 299.689281 81.15174 \nL 299.833175 81.17782 \nL 299.94829 81.15 \nL 300.236077 81.236782 \nL 300.351192 81.174286 \nL 300.379971 81.193363 \nL 300.725315 81.110167 \nL 300.84043 81.082491 \nL 300.984323 81.108483 \nL 301.300889 81.248466 \nL 301.329668 81.198363 \nL 301.416004 81.255322 \nL 301.531119 81.227657 \nL 301.646234 81.269014 \nL 301.991578 81.392832 \nL 302.164251 81.299719 \nL 302.452038 81.454215 \nL 302.480816 81.40434 \nL 302.711046 81.177468 \nL 302.85494 81.203186 \nL 303.027612 81.041993 \nL 303.056391 81.060863 \nL 303.200284 81.052353 \nL 303.401735 80.841914 \nL 303.459292 80.776968 \nL 303.51685 80.814698 \nL 303.574407 80.818203 \nL 303.603186 80.768652 \nL 303.631965 80.719114 \nL 303.718301 80.775681 \nL 303.862194 80.801538 \nL 304.034867 80.709631 \nL 304.207539 80.754307 \nL 304.322654 80.624947 \nL 304.380211 80.662573 \nL 304.725556 80.78583 \nL 304.927007 80.611025 \nL 305.0709 80.670833 \nL 305.099679 80.621623 \nL 305.243572 80.647421 \nL 305.416245 80.657978 \nL 305.560138 80.683718 \nL 305.646474 80.672028 \nL 305.790368 80.562224 \nL 305.819147 80.580927 \nL 305.96304 80.572819 \nL 306.164491 80.432957 \nL 306.337163 80.443631 \nL 306.481057 80.334296 \nL 306.509836 80.352972 \nL 306.826402 80.456925 \nL 306.999074 80.467551 \nL 307.286861 80.552545 \nL 307.545869 80.181687 \nL 307.603427 80.218902 \nL 307.74732 80.211079 \nL 307.97755 80.024072 \nL 308.063886 80.012747 \nL 308.265337 79.874628 \nL 308.725796 79.73664 \nL 308.898469 79.781139 \nL 309.09992 79.643711 \nL 309.243813 79.636291 \nL 309.617936 79.543727 \nL 309.819387 79.606703 \nL 309.848166 79.558618 \nL 309.934502 79.614115 \nL 310.078396 79.60674 \nL 310.308625 79.588313 \nL 310.510076 79.617867 \nL 310.682749 79.496243 \nL 310.855421 79.507398 \nL 311.028093 79.319781 \nL 311.143208 79.261074 \nL 311.171987 79.279513 \nL 311.344659 79.290803 \nL 311.402216 79.195342 \nL 311.488553 79.250607 \nL 312.121684 79.02816 \nL 312.20802 79.017395 \nL 312.236799 78.969865 \nL 312.43825 78.802127 \nL 312.610922 78.813705 \nL 312.726037 78.788524 \nL 313.128939 78.914003 \nL 313.359169 78.896481 \nL 313.589398 78.944533 \nL 313.762071 78.824964 \nL 313.934743 78.803737 \nL 314.049858 78.745993 \nL 314.078636 78.764269 \nL 314.567875 78.617378 \nL 314.740547 78.596371 \nL 314.913219 78.510216 \nL 315.085891 78.521884 \nL 315.316121 78.537414 \nL 315.517572 78.242153 \nL 315.575129 78.278599 \nL 315.719023 78.272194 \nL 315.747802 78.225446 \nL 315.834138 78.280062 \nL 316.00681 78.29185 \nL 316.208261 78.127299 \nL 316.438491 78.143134 \nL 316.639942 77.979 \nL 316.755056 77.954636 \nL 316.841393 77.91213 \nL 316.870171 77.930295 \nL 317.071622 78.025027 \nL 317.100401 77.978569 \nL 317.388188 77.708146 \nL 317.503303 77.780712 \nL 317.56086 77.688031 \nL 317.992541 77.573515 \nL 318.107656 77.58164 \nL 318.136435 77.535433 \nL 318.337886 77.405079 \nL 318.68323 77.333377 \nL 318.798345 77.309522 \nL 318.942238 77.271722 \nL 319.143689 77.270117 \nL 319.172468 77.224142 \nL 319.258804 77.278346 \nL 319.431476 77.258689 \nL 319.57537 77.09314 \nL 319.632927 77.129252 \nL 319.920715 76.894545 \nL 320.035829 76.902926 \nL 320.150944 76.943192 \nL 320.525067 77.049912 \nL 320.668961 77.012529 \nL 320.870412 77.011148 \nL 320.985527 77.019441 \nL 321.100642 77.059497 \nL 321.273314 77.071889 \nL 321.532322 76.852579 \nL 321.676216 76.84716 \nL 321.906446 76.642167 \nL 322.02156 76.587292 \nL 322.194233 76.473446 \nL 322.48202 76.526272 \nL 322.654692 76.444251 \nL 322.798586 76.407541 \nL 322.971258 76.294176 \nL 323.14393 76.307007 \nL 323.316602 76.193869 \nL 323.546832 76.211042 \nL 323.834619 76.169618 \nL 323.949734 76.115387 \nL 324.122406 76.002748 \nL 324.323857 76.002201 \nL 324.496529 75.921148 \nL 324.755538 75.987616 \nL 324.870653 75.96496 \nL 324.985768 75.911047 \nL 325.331112 75.84331 \nL 325.59012 75.878434 \nL 326.194473 75.690344 \nL 326.395924 75.690051 \nL 326.568597 75.578799 \nL 326.856384 75.63173 \nL 327.000277 75.565068 \nL 327.115392 75.511794 \nL 327.288064 75.338997 \nL 327.460737 75.228377 \nL 327.690966 75.27709 \nL 327.806081 75.285949 \nL 327.949975 75.312467 \nL 328.036311 75.272742 \nL 328.324098 75.017061 \nL 328.467991 74.981982 \nL 328.755779 74.757878 \nL 328.870893 74.766935 \nL 329.014787 74.762854 \nL 329.302574 74.508733 \nL 329.705476 74.632817 \nL 329.906927 74.510669 \nL 330.108378 74.511313 \nL 330.309829 74.54258 \nL 330.626395 74.246415 \nL 330.856624 74.264848 \nL 331.000518 74.230538 \nL 331.288305 74.284068 \nL 331.576092 74.246054 \nL 331.921437 74.334458 \nL 332.756019 73.839308 \nL 332.871134 73.818313 \nL 333.130142 73.854443 \nL 333.302815 73.777588 \nL 333.41793 73.756665 \nL 333.676938 73.550965 \nL 333.878389 73.552346 \nL 334.137397 73.347216 \nL 334.281291 73.344005 \nL 334.453963 73.26783 \nL 334.74175 73.321714 \nL 334.885644 73.288439 \nL 335.087095 73.290017 \nL 335.230988 73.256803 \nL 335.374882 73.223626 \nL 335.576333 73.105224 \nL 335.86412 73.18903 \nL 336.065571 73.070876 \nL 336.238243 73.055263 \nL 336.468473 72.865019 \nL 336.641145 72.849566 \nL 336.957711 72.5626 \nL 337.072826 72.512667 \nL 337.216719 72.480132 \nL 337.475728 72.546773 \nL 337.6484 72.472048 \nL 337.87863 72.491543 \nL 339.20245 72.01108 \nL 339.547795 72.099852 \nL 340.180926 71.947485 \nL 340.353599 71.962311 \nL 340.468713 71.942731 \nL 340.814058 72.031169 \nL 341.130624 71.779055 \nL 341.389632 71.551879 \nL 341.504747 71.532552 \nL 341.907649 71.128144 \nL 342.512002 70.991479 \nL 342.627117 70.943257 \nL 342.77101 70.883038 \nL 342.857346 70.846938 \nL 343.030019 70.774807 \nL 343.202691 70.819384 \nL 343.404142 70.822765 \nL 343.605593 70.855251 \nL 343.807044 70.887688 \nL 343.979716 70.786717 \nL 344.152388 70.802078 \nL 344.267503 70.812308 \nL 344.440175 70.856656 \nL 344.78552 70.945182 \nL 344.958192 70.873504 \nL 345.102086 70.84279 \nL 345.389873 70.839298 \nL 345.562545 70.825646 \nL 345.821554 70.834073 \nL 345.965447 70.803478 \nL 346.195677 70.621967 \nL 346.368349 70.608494 \nL 347.318046 70.333704 \nL 347.490719 70.349164 \nL 347.634612 70.319012 \nL 347.778506 70.288893 \nL 347.893621 70.27055 \nL 348.152629 70.336682 \nL 348.35408 70.22594 \nL 348.613088 70.234848 \nL 348.785761 70.221738 \nL 349.24622 70.148843 \nL 349.418892 70.135817 \nL 349.562786 70.105989 \nL 349.677901 70.059376 \nL 349.879352 69.949451 \nL 350.224696 70.037366 \nL 350.454926 70.058005 \nL 350.742713 70.112113 \nL 350.886606 69.94073 \nL 351.0305 69.882835 \nL 351.231951 69.886803 \nL 352.901116 69.332609 \nL 353.016231 69.315 \nL 353.188903 69.246453 \nL 353.620584 69.187713 \nL 353.764477 69.158824 \nL 354.771732 68.873584 \nL 355.001962 68.894844 \nL 355.894102 68.43408 \nL 356.009217 68.417027 \nL 356.181889 68.405378 \nL 356.325783 68.349357 \nL 356.671127 68.437222 \nL 356.815021 68.409028 \nL 357.678382 68.185146 \nL 357.966169 68.239776 \nL 358.39785 68.183559 \nL 358.484186 68.122687 \nL 358.599301 68.133488 \nL 358.743194 68.133197 \nL 359.030981 67.88485 \nL 359.405105 67.988897 \nL 359.606556 67.884193 \nL 360.441138 67.675053 \nL 360.61381 67.664033 \nL 362.052746 67.227673 \nL 362.282976 67.249714 \nL 362.426869 67.19546 \nL 362.62832 67.228338 \nL 362.743435 67.212166 \nL 362.916107 67.201511 \nL 363.117558 67.098632 \nL 363.203894 67.066213 \nL 363.434124 66.898528 \nL 364.009698 67.116289 \nL 364.18237 67.051659 \nL 364.326264 67.024886 \nL 364.64283 67.014672 \nL 364.757945 66.971712 \nL 365.016953 66.79429 \nL 365.189625 66.783967 \nL 365.391076 66.682183 \nL 365.506191 66.639465 \nL 365.880314 66.608391 \nL 366.110544 66.657492 \nL 366.283216 66.5936 \nL 366.887569 66.477729 \nL 367.060241 66.494433 \nL 367.175356 66.478795 \nL 367.376807 66.484888 \nL 367.607037 66.346774 \nL 367.722152 66.331224 \nL 367.923603 66.230631 \nL 368.240169 66.301395 \nL 368.355283 66.285896 \nL 368.499177 66.259878 \nL 368.643071 66.207258 \nL 368.988415 66.293958 \nL 370.139563 65.980969 \nL 370.341014 65.987341 \nL 370.456129 65.972074 \nL 370.628801 65.962421 \nL 370.916589 65.75258 \nL 371.377048 65.692068 \nL 371.578499 65.698609 \nL 371.895065 65.453023 \nL 372.096516 65.486035 \nL 372.326745 65.324586 \nL 372.528196 65.331356 \nL 372.787205 65.13373 \nL 373.017434 65.156594 \nL 373.132549 65.168013 \nL 373.218885 65.137241 \nL 373.334 65.122449 \nL 373.420336 65.091711 \nL 373.535451 65.10314 \nL 373.679345 65.156683 \nL 373.79446 65.115737 \nL 374.111025 64.872586 \nL 374.629042 64.793721 \nL 374.888051 64.832613 \nL 375.11828 64.855548 \nL 375.406067 64.910197 \nL 376.01042 64.593398 \nL 376.183093 64.506826 \nL 376.298207 64.466468 \nL 376.557216 64.479496 \nL 376.758667 64.486735 \nL 376.960118 64.390381 \nL 377.075233 64.350171 \nL 377.247905 64.289914 \nL 377.36302 64.249781 \nL 377.622028 64.056237 \nL 377.765922 64.057902 \nL 377.938594 63.972137 \nL 378.168823 63.995494 \nL 378.542947 63.968974 \nL 378.68684 63.944926 \nL 379.291193 63.813338 \nL 379.291193 63.813338 \n\" style=\"fill:none;stroke:#dd8452;stroke-linecap:round;stroke-width:1.5;\"/>\n   </g>\n   <g id=\"line2d_18\">\n    <path clip-path=\"url(#p5574e5fc04)\" d=\"M 74.927557 230.64 \nL 75.272901 230.64 \nL 75.388016 198.663529 \nL 75.416795 200.44 \nL 75.704582 211.225714 \nL 75.733361 202.522759 \nL 75.819697 205.15875 \nL 75.934812 207.99 \nL 76.021148 188.824615 \nL 76.078705 190.86439 \nL 76.42405 199.870189 \nL 76.452828 195.406667 \nL 76.539165 197.261053 \nL 76.567943 197.836552 \nL 76.683058 191.185161 \nL 76.711837 191.811429 \nL 76.999624 197.130411 \nL 77.08596 191.300526 \nL 77.143517 192.309231 \nL 77.172296 192.79443 \nL 77.201075 189.87 \nL 77.287411 191.343614 \nL 77.402526 193.150345 \nL 77.460083 187.884944 \nL 77.546419 189.27913 \nL 78.064436 196.047273 \nL 78.093215 193.91027 \nL 78.179551 194.876842 \nL 78.20833 195.187826 \nL 78.237108 193.150345 \nL 78.323445 194.095462 \nL 78.553674 196.39748 \nL 78.582453 194.541562 \nL 78.668789 195.368244 \nL 78.726347 195.898647 \nL 78.755125 194.129552 \nL 78.841461 194.929051 \nL 78.927798 195.694286 \nL 78.956576 194.014468 \nL 79.042912 194.7775 \nL 79.158027 195.746757 \nL 79.186806 194.156779 \nL 79.273142 194.876842 \nL 79.445814 196.234937 \nL 79.474593 194.741887 \nL 79.560929 195.406667 \nL 79.819938 197.261053 \nL 79.848716 195.874884 \nL 79.935052 196.470857 \nL 80.222839 198.317838 \nL 80.251618 197.030323 \nL 80.337954 197.56381 \nL 80.42429 198.080625 \nL 80.453069 196.841036 \nL 80.539405 197.358367 \nL 80.942307 199.577143 \nL 80.971086 198.436209 \nL 81.057422 198.887664 \nL 81.086201 199.035349 \nL 81.114979 197.923333 \nL 81.201316 198.371507 \nL 81.287652 198.807568 \nL 81.431545 197.114009 \nL 81.517881 197.551304 \nL 81.54666 196.517922 \nL 81.632996 196.955385 \nL 81.863226 198.068926 \nL 82.007119 196.527449 \nL 82.151013 197.204286 \nL 82.20857 195.327402 \nL 82.294907 195.739611 \nL 82.553915 196.920451 \nL 82.582694 196.028764 \nL 82.66903 196.413333 \nL 83.302161 198.992055 \nL 83.33094 198.172423 \nL 83.417276 198.501486 \nL 83.532391 198.93 \nL 83.56117 198.132359 \nL 83.647506 198.453158 \nL 83.733842 198.767687 \nL 83.762621 197.988701 \nL 83.848957 198.303666 \nL 83.935293 198.612611 \nL 83.964072 197.851429 \nL 84.050408 198.160755 \nL 84.338195 199.150976 \nL 84.366974 198.420547 \nL 84.45331 198.711687 \nL 84.597203 199.185401 \nL 84.712318 197.960235 \nL 84.741097 198.055789 \nL 84.971327 198.800571 \nL 85.000105 198.116923 \nL 85.086441 198.392542 \nL 85.546901 199.787027 \nL 85.662016 198.663529 \nL 85.690794 198.7488 \nL 86.036139 199.737674 \nL 86.151254 198.663529 \nL 86.180032 198.745102 \nL 86.266369 198.987342 \nL 86.295147 198.380909 \nL 86.381483 198.623459 \nL 87.618968 201.73819 \nL 87.676525 201.868378 \nL 87.705304 201.322247 \nL 87.79164 201.518571 \nL 87.906755 201.776283 \nL 87.935534 201.24 \nL 88.02187 201.433421 \nL 88.309657 202.060172 \nL 88.338436 201.539358 \nL 88.424772 201.725106 \nL 88.45355 201.786497 \nL 88.482329 201.27178 \nL 88.568665 201.457263 \nL 89.086682 202.522759 \nL 89.115461 202.029474 \nL 89.201797 202.202173 \nL 89.748592 203.249302 \nL 89.834929 202.360231 \nL 89.892486 202.468791 \nL 90.093937 202.842273 \nL 90.122716 202.381021 \nL 90.209052 202.540376 \nL 90.439281 202.956667 \nL 90.46806 202.505434 \nL 90.554396 202.660588 \nL 91.216307 203.795556 \nL 91.245085 203.364296 \nL 91.331421 203.507601 \nL 91.475315 203.743125 \nL 91.504094 203.318683 \nL 91.59043 203.46 \nL 91.82066 203.829796 \nL 91.964553 203.139157 \nL 92.194783 203.505225 \nL 92.223561 203.098804 \nL 92.309898 203.235372 \nL 93.029365 204.322857 \nL 93.202038 203.289057 \nL 93.317152 203.46 \nL 93.345931 203.078378 \nL 93.432267 203.20677 \nL 93.720054 203.626239 \nL 93.748833 203.252519 \nL 93.835169 203.377386 \nL 93.892727 203.46 \nL 93.921505 203.089924 \nL 94.007842 203.214398 \nL 94.03662 203.255639 \nL 94.065399 202.888649 \nL 94.151735 203.013094 \nL 94.209292 203.09544 \nL 94.324407 202.050667 \nL 94.381965 202.135126 \nL 94.756088 202.672174 \nL 94.899982 201.309065 \nL 94.957539 201.393228 \nL 94.986318 201.435129 \nL 95.015096 201.088069 \nL 95.101432 201.214359 \nL 95.216547 201.381076 \nL 95.38922 200.482416 \nL 95.446777 200.566891 \nL 95.590671 200.019972 \nL 95.619449 200.0625 \nL 95.705785 199.43751 \nL 95.763343 199.523586 \nL 95.8209 199.609188 \nL 95.849679 199.278462 \nL 95.936015 199.407168 \nL 95.964794 199.449836 \nL 95.993572 199.121583 \nL 96.079909 199.250054 \nL 96.195023 199.41973 \nL 96.223802 199.095061 \nL 96.310138 199.222258 \nL 96.972049 200.164381 \nL 97.000827 199.850156 \nL 97.087163 199.969961 \nL 97.115942 200.009689 \nL 97.144721 199.697697 \nL 97.231057 199.81732 \nL 97.374951 200.014648 \nL 97.432508 199.398621 \nL 97.518844 199.517863 \nL 97.60518 199.636198 \nL 97.633959 199.331392 \nL 97.720295 199.449836 \nL 97.950525 199.761348 \nL 97.979303 199.460948 \nL 98.06564 199.577143 \nL 98.583656 200.256525 \nL 98.641214 199.671273 \nL 98.72755 199.783478 \nL 98.785107 199.857831 \nL 98.813886 199.567798 \nL 98.900222 199.679568 \nL 98.986558 199.790538 \nL 99.101673 199.290892 \nL 99.130452 199.328124 \nL 99.38946 199.659271 \nL 99.418239 199.37662 \nL 99.504575 199.486316 \nL 99.821141 199.882032 \nL 99.84992 199.604014 \nL 99.936256 199.711034 \nL 99.965034 199.746544 \nL 100.051371 199.230618 \nL 100.108928 199.302329 \nL 100.137707 199.338062 \nL 100.2816 198.899184 \nL 100.540609 199.219798 \nL 100.569387 198.950314 \nL 100.655724 199.056536 \nL 100.713281 199.126957 \nL 100.74206 198.859376 \nL 100.828396 198.965194 \nL 100.972289 199.14 \nL 101.058625 198.346931 \nL 101.144962 198.453158 \nL 101.17374 198.488412 \nL 101.202519 198.226214 \nL 101.288855 198.332257 \nL 102.037102 199.223033 \nL 102.094659 198.714286 \nL 102.180995 198.815316 \nL 102.209774 198.848851 \nL 102.324889 198.411878 \nL 102.353667 198.44566 \nL 102.411225 198.513013 \nL 102.440004 198.262571 \nL 102.52634 198.36375 \nL 103.101914 199.022449 \nL 103.217029 198.322317 \nL 103.274586 198.38787 \nL 103.41848 198.550595 \nL 103.619931 197.686293 \nL 103.677488 197.7522 \nL 103.821382 197.374925 \nL 103.907718 197.473929 \nL 104.109169 196.631527 \nL 104.339398 196.897478 \nL 104.627185 195.382304 \nL 104.655964 195.416402 \nL 104.914973 193.896184 \nL 104.943751 193.931379 \nL 105.260317 194.314123 \nL 105.461768 193.273898 \nL 105.490547 193.30905 \nL 105.63444 193.48382 \nL 105.778334 192.643728 \nL 105.835891 192.714419 \nL 106.238793 193.201983 \nL 106.382687 192.379305 \nL 106.440244 192.449124 \nL 106.469023 192.483938 \nL 106.584138 191.388229 \nL 106.699253 191.530317 \nL 106.814367 191.67138 \nL 106.958261 191.114327 \nL 106.98704 191.149776 \nL 107.044597 191.220483 \nL 107.073376 190.769517 \nL 107.159712 190.876218 \nL 107.41872 191.19292 \nL 107.591393 189.965704 \nL 107.677729 190.072836 \nL 107.850401 190.285415 \nL 107.87918 190.083455 \nL 107.965516 190.189347 \nL 108.166967 190.434291 \nL 108.282082 190.10431 \nL 108.31086 190.139225 \nL 108.339639 190.174079 \nL 108.483533 189.64874 \nL 108.512311 189.683836 \nL 108.598647 189.788762 \nL 108.627426 189.591706 \nL 108.713762 189.696511 \nL 108.742541 189.731327 \nL 108.857656 189.409322 \nL 108.886435 189.444234 \nL 108.915213 189.479086 \nL 108.943992 189.284125 \nL 109.030328 189.388735 \nL 109.087886 189.458182 \nL 109.145443 189.070588 \nL 109.231779 189.175122 \nL 109.260558 189.209849 \nL 109.404451 188.929241 \nL 109.43323 188.964 \nL 109.548345 188.650963 \nL 109.577124 188.685809 \nL 109.749796 188.893675 \nL 109.836132 188.549061 \nL 109.893689 188.618289 \nL 109.951247 188.687291 \nL 110.037583 188.34516 \nL 110.09514 188.414325 \nL 110.181476 188.517651 \nL 110.239034 187.700912 \nL 110.32537 187.805556 \nL 110.354149 187.840325 \nL 110.382927 187.434161 \nL 110.469264 187.539029 \nL 110.498042 187.573872 \nL 110.526821 187.389111 \nL 110.613157 187.493666 \nL 110.699493 187.597717 \nL 110.814608 187.300096 \nL 110.843387 187.334796 \nL 110.958502 187.473041 \nL 110.98728 187.290718 \nL 111.073617 187.394177 \nL 111.188731 187.531356 \nL 111.246289 186.738812 \nL 111.332625 186.842844 \nL 111.390182 186.911924 \nL 111.44774 186.552756 \nL 111.534076 186.656654 \nL 111.735527 186.897187 \nL 111.821863 185.728387 \nL 111.908199 185.833157 \nL 111.936978 185.867972 \nL 111.965757 185.691708 \nL 112.052093 185.796158 \nL 112.10965 185.865522 \nL 112.138429 185.690077 \nL 112.224765 185.794048 \nL 112.311101 185.897538 \nL 112.33988 185.723013 \nL 112.426216 185.82635 \nL 112.454995 185.86069 \nL 112.541331 185.34 \nL 112.627667 185.443661 \nL 112.973011 185.853605 \nL 113.116905 185.203554 \nL 113.174462 185.27188 \nL 113.23202 185.34 \nL 113.347135 184.865299 \nL 113.404692 184.933722 \nL 113.606143 185.171599 \nL 113.634922 185.003447 \nL 113.721258 185.104937 \nL 113.778815 185.172346 \nL 113.922709 184.53823 \nL 113.980266 184.606127 \nL 114.12416 184.774996 \nL 114.152938 184.609355 \nL 114.239275 184.710373 \nL 114.268053 184.743947 \nL 114.296832 184.578934 \nL 114.383168 184.67965 \nL 114.411947 184.713125 \nL 114.55584 184.485283 \nL 114.613398 184.552174 \nL 114.757291 184.129819 \nL 114.843628 184.230346 \nL 114.987521 183.616454 \nL 115.0163 183.650187 \nL 115.361644 182.118094 \nL 115.390423 182.15258 \nL 115.563095 182.358471 \nL 115.591874 182.200396 \nL 115.67821 182.30295 \nL 115.706989 182.337038 \nL 115.879661 181.777079 \nL 115.90844 181.811368 \nL 115.965997 181.879804 \nL 116.138669 181.135604 \nL 116.253784 181.273403 \nL 116.282563 181.11872 \nL 116.368899 181.221818 \nL 116.397678 181.256089 \nL 116.57035 180.522182 \nL 116.771801 180.763299 \nL 117.002031 180.107122 \nL 117.117146 180.244908 \nL 117.145924 180.094087 \nL 117.23226 180.197172 \nL 117.261039 180.23144 \nL 117.347375 179.965424 \nL 117.404933 180.034042 \nL 117.548826 180.204777 \nL 117.69272 179.826012 \nL 117.779056 179.928322 \nL 117.807835 179.78004 \nL 117.894171 179.882169 \nL 117.922949 179.91612 \nL 118.009286 179.291936 \nL 118.066843 179.3604 \nL 118.440966 179.801005 \nL 118.469745 179.655059 \nL 118.556081 179.755887 \nL 118.613639 179.822883 \nL 118.642417 179.498684 \nL 118.728753 179.599422 \nL 118.786311 179.666361 \nL 118.843868 179.021139 \nL 118.930204 179.122353 \nL 118.958983 179.156003 \nL 119.131655 178.472791 \nL 119.217991 178.574416 \nL 119.390664 177.545821 \nL 119.419442 177.580142 \nL 119.592115 176.735042 \nL 119.678451 176.838972 \nL 119.707229 176.524393 \nL 119.793566 176.628462 \nL 120.023795 176.904031 \nL 120.282804 176.176588 \nL 120.340361 176.245573 \nL 120.36914 175.935949 \nL 120.455476 176.039621 \nL 120.541812 176.1429 \nL 120.685706 175.289151 \nL 120.714484 175.32392 \nL 120.772042 175.052296 \nL 120.858378 175.156719 \nL 121.117386 175.467646 \nL 121.232501 174.929441 \nL 121.26128 174.964022 \nL 121.318837 174.864551 \nL 121.405173 174.968094 \nL 121.433952 174.834434 \nL 121.520288 174.937778 \nL 121.577846 174.83889 \nL 122.067084 175.417669 \nL 122.124641 175.319342 \nL 122.354871 175.587726 \nL 122.469986 175.227659 \nL 122.527543 175.294622 \nL 122.872888 175.693029 \nL 122.930445 175.596022 \nL 122.959224 175.303473 \nL 123.04556 175.402702 \nL 123.362126 175.602114 \nL 123.390904 175.473472 \nL 123.47724 175.571517 \nL 123.506019 175.604121 \nL 123.534798 175.475858 \nL 123.736249 175.062746 \nL 123.793806 175.12817 \nL 123.822585 174.841059 \nL 123.908921 174.939354 \nL 124.081593 175.134909 \nL 124.110372 175.008421 \nL 124.513274 173.252993 \nL 124.59961 173.352681 \nL 124.743504 173.361132 \nL 124.772282 173.237346 \nL 124.858619 173.336544 \nL 125.117627 173.632092 \nL 125.175184 173.075031 \nL 125.261521 173.173714 \nL 125.405414 173.337436 \nL 125.462971 172.938577 \nL 125.520529 173.004184 \nL 125.837095 173.208814 \nL 125.865873 173.08777 \nL 125.95221 173.185096 \nL 126.239997 173.354798 \nL 126.268775 173.234622 \nL 126.355111 173.33094 \nL 126.38389 173.362974 \nL 126.412669 173.091285 \nL 126.499005 173.187574 \nL 126.61412 173.012955 \nL 126.642899 173.045006 \nL 126.700456 173.109 \nL 126.729235 172.990028 \nL 126.815571 172.784568 \nL 126.873128 172.848638 \nL 127.189694 173.198503 \nL 127.247251 173.112237 \nL 127.448702 172.737371 \nL 127.50626 172.800722 \nL 127.563817 172.71541 \nL 127.794047 172.228139 \nL 127.851604 172.143913 \nL 127.909162 172.207427 \nL 127.937941 172.091655 \nL 128.024277 172.186804 \nL 128.053055 172.218452 \nL 128.081834 172.102987 \nL 128.225728 171.674215 \nL 128.484736 171.813255 \nL 128.686187 171.161027 \nL 128.743744 171.224607 \nL 128.801302 171.288051 \nL 128.830081 171.174685 \nL 128.858859 170.91648 \nL 128.945195 171.011885 \nL 129.031532 171.106986 \nL 129.06031 170.994198 \nL 129.52077 169.49216 \nL 129.549548 169.52436 \nL 129.635884 169.620757 \nL 129.693442 169.113845 \nL 129.779778 169.210635 \nL 129.923672 169.371276 \nL 129.95245 169.261223 \nL 130.010008 168.89953 \nL 130.125122 169.028223 \nL 130.269016 169.188337 \nL 130.441688 168.534404 \nL 130.499246 168.598696 \nL 130.528024 168.490181 \nL 130.614361 168.305702 \nL 130.671918 168.370031 \nL 130.700697 168.402145 \nL 130.729475 168.294124 \nL 130.873369 167.895424 \nL 130.930926 167.959877 \nL 130.988484 167.884741 \nL 131.132377 168.045322 \nL 131.189935 167.692454 \nL 131.247492 167.756752 \nL 131.30505 167.682245 \nL 131.391386 167.778462 \nL 131.420164 167.672077 \nL 131.506501 167.768114 \nL 131.880624 168.043636 \nL 132.110853 167.611932 \nL 132.168411 167.675276 \nL 132.283526 167.256349 \nL 132.312304 167.28812 \nL 133.002993 167.906568 \nL 133.175666 167.689778 \nL 133.233223 167.751889 \nL 133.262002 167.514852 \nL 133.348338 167.608095 \nL 133.549789 166.757664 \nL 133.664904 166.882801 \nL 133.722461 166.945186 \nL 133.895133 166.336098 \nL 133.923912 166.36745 \nL 133.952691 166.266316 \nL 133.98147 166.297672 \nL 134.326814 165.355351 \nL 134.355593 165.386951 \nL 134.41315 165.318627 \nL 134.499486 165.41325 \nL 134.758495 164.911442 \nL 134.959946 165.001667 \nL 135.017503 164.544069 \nL 135.103839 164.638853 \nL 135.362848 164.792213 \nL 135.53552 164.46373 \nL 135.564299 164.495123 \nL 135.621856 164.55782 \nL 135.650635 164.331615 \nL 135.736971 164.425714 \nL 135.76575 164.328511 \nL 135.852086 164.422436 \nL 135.880864 164.453686 \nL 135.995979 164.19431 \nL 136.312545 164.409447 \nL 136.341324 164.313162 \nL 136.42766 164.40623 \nL 136.513996 164.499038 \nL 136.571554 164.433934 \nL 136.744226 163.859916 \nL 136.830562 163.953011 \nL 136.945677 163.698534 \nL 136.974455 163.729569 \nL 137.003234 163.634625 \nL 137.118349 163.004292 \nL 137.175906 163.066802 \nL 137.204685 162.972471 \nL 137.291021 163.066107 \nL 137.406136 163.190552 \nL 137.434915 163.096512 \nL 137.463694 162.877534 \nL 137.55003 162.970914 \nL 137.636366 163.064037 \nL 137.665144 162.845777 \nL 137.751481 162.938901 \nL 137.809038 163.000842 \nL 137.837817 162.90749 \nL 138.010489 162.473105 \nL 138.068046 162.535216 \nL 138.125604 162.4735 \nL 138.269497 162.628283 \nL 138.470948 161.859466 \nL 138.528506 161.675821 \nL 138.614842 161.769268 \nL 138.672399 161.831426 \nL 138.701178 161.617267 \nL 138.787514 161.710541 \nL 138.845072 161.772583 \nL 138.87385 161.559028 \nL 138.960186 161.652129 \nL 139.017744 161.592065 \nL 139.075301 161.653991 \nL 139.10408 161.563084 \nL 139.190416 161.655846 \nL 139.247974 161.717549 \nL 139.276752 161.505355 \nL 139.363088 161.597946 \nL 139.622097 161.753384 \nL 139.823548 161.485213 \nL 139.909884 161.577052 \nL 140.024999 161.098595 \nL 140.053777 161.129311 \nL 140.082556 161.16 \nL 140.111335 161.070715 \nL 140.140114 161.101403 \nL 140.370343 160.390154 \nL 140.427901 160.451858 \nL 140.456679 160.482669 \nL 140.485458 160.274928 \nL 140.571794 160.367432 \nL 140.830803 160.643492 \nL 140.917139 160.379582 \nL 140.945917 160.410196 \nL 141.003475 160.471345 \nL 141.089811 160.090174 \nL 141.147368 160.151468 \nL 141.320041 160.334714 \nL 141.492713 159.812256 \nL 141.55027 159.756062 \nL 141.7805 160.000069 \nL 141.809279 159.913548 \nL 141.895615 160.004691 \nL 141.981951 160.095598 \nL 142.097066 159.750835 \nL 142.125845 159.781182 \nL 142.240959 159.437692 \nL 142.327296 159.52886 \nL 142.384853 159.473603 \nL 142.471189 159.564532 \nL 142.615083 159.484539 \nL 142.67264 159.544968 \nL 142.701419 159.344414 \nL 142.787755 159.435083 \nL 142.816534 159.350085 \nL 142.90287 159.440592 \nL 143.075542 159.62092 \nL 143.104321 159.536203 \nL 143.79501 157.297143 \nL 143.910125 157.419483 \nL 144.082797 157.489168 \nL 144.313026 156.379552 \nL 144.341805 156.410327 \nL 144.370584 156.441077 \nL 144.399363 156.246708 \nL 144.485699 156.339007 \nL 144.514477 156.369723 \nL 144.629592 156.155807 \nL 144.773486 156.309193 \nL 144.802265 156.115998 \nL 144.888601 156.207928 \nL 144.974937 156.29963 \nL 145.003716 156.106995 \nL 145.090052 156.198672 \nL 145.11883 156.22918 \nL 145.147609 156.036968 \nL 145.233945 156.128543 \nL 145.377839 156.169686 \nL 145.464175 156.039103 \nL 145.492954 156.069515 \nL 145.608068 156.080293 \nL 145.636847 155.889471 \nL 145.723183 155.980593 \nL 145.982192 156.142591 \nL 146.039749 155.982961 \nL 146.097307 156.043314 \nL 146.2412 156.193772 \nL 146.269979 156.114194 \nL 146.298757 155.925127 \nL 146.385094 156.015362 \nL 146.557766 156.195181 \nL 146.586545 156.115953 \nL 146.701659 155.908617 \nL 146.845553 156.05808 \nL 146.960668 155.743035 \nL 146.989447 155.772934 \nL 147.277234 155.962545 \nL 147.421127 155.571429 \nL 147.478685 155.63096 \nL 147.507463 155.445232 \nL 147.593799 155.534537 \nL 148.342046 153.530596 \nL 148.399603 153.590979 \nL 148.68739 153.785476 \nL 148.831284 153.406057 \nL 148.860063 153.436109 \nL 148.946399 152.892312 \nL 149.032735 152.982857 \nL 149.176628 153.027989 \nL 149.291743 152.306925 \nL 149.378079 152.397728 \nL 149.406858 152.322966 \nL 149.464416 152.38342 \nL 149.637088 152.459561 \nL 149.665867 152.385035 \nL 149.723424 152.445231 \nL 149.80976 152.535352 \nL 149.982432 151.985726 \nL 150.03999 152.045975 \nL 150.068768 151.867948 \nL 150.155105 151.958317 \nL 150.212662 152.018449 \nL 150.241441 151.84084 \nL 150.327777 151.931034 \nL 150.385334 151.991048 \nL 150.414113 151.813857 \nL 150.500449 151.903875 \nL 150.529228 151.933836 \nL 150.644343 151.743647 \nL 150.817015 151.820061 \nL 150.845794 151.746934 \nL 150.903351 151.806679 \nL 150.960908 151.866334 \nL 151.104802 151.296571 \nL 151.133581 151.326523 \nL 151.162359 151.356453 \nL 151.277474 151.168711 \nL 151.335032 151.228554 \nL 151.36381 151.05385 \nL 151.450147 151.143609 \nL 151.651598 151.352261 \nL 151.709155 151.004331 \nL 151.795491 151.093743 \nL 151.939385 151.242316 \nL 152.025721 150.925522 \nL 152.083278 150.984966 \nL 152.198393 151.103589 \nL 152.227172 151.032036 \nL 152.342287 150.948361 \nL 152.399844 151.007545 \nL 152.543738 150.550675 \nL 152.572516 150.580348 \nL 152.601295 150.61 \nL 152.630074 150.438371 \nL 152.71641 150.527352 \nL 152.745189 150.556969 \nL 152.889082 150.303542 \nL 152.917861 150.232918 \nL 152.975418 150.292193 \nL 153.004197 150.321798 \nL 153.119312 150.04 \nL 153.14809 150.069643 \nL 153.205648 150.128864 \nL 153.234427 150.058589 \nL 153.37832 149.508647 \nL 153.407099 149.33912 \nL 153.493435 149.428429 \nL 153.522214 149.358668 \nL 153.579771 149.418127 \nL 153.60855 149.447824 \nL 153.781222 149.030587 \nL 153.810001 149.06035 \nL 153.838779 148.991003 \nL 153.867558 148.921706 \nL 153.925116 148.981224 \nL 154.097788 149.060494 \nL 154.443132 148.332981 \nL 154.471911 148.362749 \nL 154.615805 148.413141 \nL 154.788477 147.90549 \nL 154.817256 147.935283 \nL 154.846034 147.769374 \nL 154.93237 147.85877 \nL 154.961149 147.790827 \nL 155.018707 147.850345 \nL 155.076264 147.909777 \nL 155.306494 147.173858 \nL 155.335272 147.203721 \nL 155.364051 147.039142 \nL 155.450387 147.128746 \nL 155.594281 147.27766 \nL 155.62306 147.113583 \nL 155.709396 147.202821 \nL 155.795732 147.291868 \nL 155.82451 147.128193 \nL 155.910847 147.217194 \nL 155.997183 147.306004 \nL 156.025961 147.142731 \nL 156.112298 147.231495 \nL 156.141076 147.164761 \nL 156.198634 147.223858 \nL 156.313749 147.341803 \nL 156.486421 146.655238 \nL 156.5152 146.684852 \nL 156.543978 146.714445 \nL 156.572757 146.648245 \nL 156.630314 146.420282 \nL 156.687872 146.47955 \nL 156.71665 146.509152 \nL 156.831765 146.245479 \nL 156.860544 146.275112 \nL 156.975659 146.298135 \nL 157.119552 146.160336 \nL 157.263446 146.307925 \nL 157.292225 146.242445 \nL 157.378561 146.046281 \nL 157.40734 146.075787 \nL 157.896578 146.480014 \nL 157.925356 146.414974 \nL 157.982914 146.473322 \nL 158.011692 146.502465 \nL 158.155586 146.084176 \nL 158.184365 146.113393 \nL 158.29948 146.230062 \nL 158.328258 146.165423 \nL 158.385816 145.848893 \nL 158.472152 145.936488 \nL 158.50093 145.965645 \nL 158.529709 145.901253 \nL 158.673603 145.673322 \nL 158.846275 145.195845 \nL 158.932611 145.28363 \nL 159.047726 145.400397 \nL 159.076505 145.243692 \nL 159.162841 145.331189 \nL 159.19162 145.360314 \nL 159.364292 144.886405 \nL 159.450628 144.973969 \nL 159.6233 144.409973 \nL 159.652079 144.439253 \nL 159.738415 144.158182 \nL 159.824751 144.2461 \nL 159.882309 144.304612 \nL 159.911087 144.241828 \nL 160.054981 143.836688 \nL 160.08376 143.866014 \nL 160.112538 143.895319 \nL 160.141317 143.832843 \nL 160.198874 143.708016 \nL 160.256432 143.766635 \nL 160.342768 143.76287 \nL 160.486661 143.543362 \nL 160.803227 143.864322 \nL 160.889563 143.678554 \nL 160.918342 143.707648 \nL 161.148572 143.849009 \nL 161.177351 143.696638 \nL 161.263687 143.783552 \nL 161.40758 143.928024 \nL 161.609031 143.317597 \nL 161.925597 143.545357 \nL 161.983154 143.333457 \nL 162.069491 143.419927 \nL 162.098269 143.448713 \nL 162.242163 143.234135 \nL 162.270941 143.262925 \nL 162.29972 143.2022 \nL 162.472392 142.838686 \nL 162.501171 142.86753 \nL 162.587507 142.597138 \nL 162.645065 142.65489 \nL 162.702622 142.712566 \nL 162.990409 141.667899 \nL 163.047967 141.725994 \nL 163.19186 141.162164 \nL 163.249418 141.220456 \nL 163.393311 141.277463 \nL 163.42209 141.218153 \nL 163.479647 141.276257 \nL 163.508426 141.305281 \nL 163.537205 141.157792 \nL 163.623541 141.244865 \nL 163.65232 141.273852 \nL 163.796213 140.978556 \nL 163.824992 141.007573 \nL 163.997664 140.654535 \nL 164.141558 140.186082 \nL 164.227894 140.010812 \nL 164.256672 140.04 \nL 164.285451 140.069169 \nL 164.31423 139.92336 \nL 164.400566 140.010868 \nL 164.630796 139.633201 \nL 164.659574 139.662379 \nL 164.688353 139.691538 \nL 164.717132 139.546504 \nL 164.803468 139.633982 \nL 164.861025 139.692207 \nL 164.918583 139.48968 \nL 164.97614 139.547923 \nL 165.091255 139.57746 \nL 165.20637 139.173843 \nL 165.263927 139.232102 \nL 165.465378 139.349056 \nL 165.494157 139.205375 \nL 165.580493 139.292428 \nL 165.695608 139.408241 \nL 165.724387 139.351027 \nL 165.86828 138.893527 \nL 165.897059 138.922543 \nL 165.925838 138.95154 \nL 165.954616 138.80871 \nL 166.040952 138.895699 \nL 166.32874 139.098924 \nL 166.443854 138.957699 \nL 166.472633 138.986512 \nL 166.961871 139.388609 \nL 167.076986 139.078277 \nL 167.105765 139.106854 \nL 167.163322 139.163955 \nL 167.192101 139.107727 \nL 167.335994 138.48863 \nL 167.393552 138.545974 \nL 167.422331 138.574619 \nL 167.451109 138.434216 \nL 167.537445 138.520149 \nL 167.566224 138.548758 \nL 167.595003 138.492965 \nL 167.825233 137.879517 \nL 167.969126 137.182486 \nL 168.055462 137.269101 \nL 168.11302 137.326755 \nL 168.141798 137.271667 \nL 168.458364 136.83514 \nL 168.602258 136.979189 \nL 168.77493 136.568204 \nL 168.890045 136.683417 \nL 169.033938 136.328474 \nL 169.062717 136.357298 \nL 169.091496 136.386104 \nL 169.177832 136.223516 \nL 169.206611 136.252328 \nL 169.379283 136.342041 \nL 169.408062 136.28799 \nL 169.465619 136.345417 \nL 169.724627 136.520486 \nL 169.782185 136.412702 \nL 169.839742 136.469827 \nL 169.868521 136.498364 \nL 169.983636 136.365545 \nL 170.041193 136.422577 \nL 170.069972 136.368878 \nL 170.127529 136.261578 \nL 170.185087 136.318587 \nL 170.213865 136.347065 \nL 170.300202 136.186425 \nL 170.32898 136.21491 \nL 170.760661 136.64012 \nL 170.78944 136.505186 \nL 170.875776 136.589865 \nL 170.962112 136.674392 \nL 170.990891 136.621132 \nL 171.106005 136.327107 \nL 171.134784 136.355311 \nL 171.393793 136.527325 \nL 171.422571 136.393309 \nL 171.508907 136.477534 \nL 171.537686 136.505575 \nL 171.710358 136.188692 \nL 171.911809 136.384823 \nL 172.084482 135.98889 \nL 172.11326 136.016909 \nL 172.257154 135.755046 \nL 172.314711 135.811108 \nL 172.429826 135.602231 \nL 172.458605 135.630265 \nL 172.487384 135.658284 \nL 172.516162 135.606156 \nL 172.660056 135.345976 \nL 172.746392 135.430059 \nL 173.0054 134.485468 \nL 173.034179 134.513666 \nL 173.120515 134.59816 \nL 173.178073 134.336047 \nL 173.264409 134.420573 \nL 173.408302 134.561122 \nL 173.437081 134.509801 \nL 173.580975 134.253648 \nL 173.638532 134.309834 \nL 173.753647 134.422009 \nL 173.868762 134.059715 \nL 173.926319 134.11585 \nL 174.214106 134.395549 \nL 174.386778 134.090853 \nL 174.415557 134.118774 \nL 174.473115 133.860347 \nL 174.559451 133.944187 \nL 174.617008 134 \nL 174.674565 133.82056 \nL 174.732123 133.876379 \nL 174.876016 133.937409 \nL 174.991131 133.736032 \nL 175.01991 133.763886 \nL 175.192582 133.930674 \nL 175.278918 133.624232 \nL 175.336476 133.679828 \nL 175.394033 133.735361 \nL 175.537927 133.56302 \nL 175.768156 133.319315 \nL 176.487624 133.931558 \nL 176.516403 133.881971 \nL 176.57396 133.936745 \nL 176.717854 133.996586 \nL 177.005641 133.196483 \nL 177.063198 133.098254 \nL 177.207092 133.235443 \nL 177.437322 132.615021 \nL 177.552436 132.572548 \nL 177.69633 132.405454 \nL 177.869002 132.49422 \nL 177.984117 132.224422 \nL 178.012896 132.251889 \nL 178.185568 132.340641 \nL 178.214347 132.216602 \nL 178.300683 132.298781 \nL 178.35824 132.202281 \nL 178.415798 132.257014 \nL 178.674806 132.351814 \nL 178.789921 132.310139 \nL 178.8187 132.337369 \nL 178.876257 132.241329 \nL 178.905036 132.118141 \nL 178.991372 132.199856 \nL 179.020151 132.227065 \nL 179.048929 132.104051 \nL 179.077708 132.131271 \nL 179.135266 131.8855 \nL 179.221602 131.967228 \nL 179.307938 131.973903 \nL 179.394274 131.756001 \nL 179.451831 131.810438 \nL 179.624504 131.599934 \nL 179.653282 131.627143 \nL 179.797176 131.613827 \nL 179.941069 131.451616 \nL 180.171299 131.519934 \nL 180.343971 131.237162 \nL 180.545422 131.352667 \nL 180.689316 131.11802 \nL 180.890767 131.307173 \nL 180.919546 131.260358 \nL 181.03466 131.14705 \nL 181.120997 131.227917 \nL 181.178554 131.134557 \nL 181.293669 131.021661 \nL 181.408784 131.055888 \nL 181.49512 130.916404 \nL 181.523898 130.94332 \nL 181.696571 130.958027 \nL 182.185809 130.173155 \nL 182.243366 130.227024 \nL 182.300924 130.280836 \nL 182.329702 130.23491 \nL 182.38726 130.070361 \nL 182.444817 130.124185 \nL 182.962834 130.461252 \nL 182.991613 130.343195 \nL 183.077949 130.42324 \nL 183.221842 130.411945 \nL 183.308178 130.34746 \nL 183.336957 130.374076 \nL 183.394515 130.427268 \nL 183.423293 130.30969 \nL 183.509629 130.101367 \nL 183.567187 130.154619 \nL 183.624744 130.207814 \nL 183.653523 130.162466 \nL 183.826195 129.819075 \nL 184.17154 129.994543 \nL 184.344212 129.724512 \nL 184.488106 129.714265 \nL 184.574442 129.579753 \nL 184.631999 129.632762 \nL 184.775893 129.69385 \nL 185.034901 129.078986 \nL 185.466582 129.334014 \nL 185.581697 129.156693 \nL 185.610475 129.183073 \nL 185.869484 128.926463 \nL 185.984598 129.031865 \nL 186.042156 128.943729 \nL 186.186049 128.794073 \nL 186.214828 128.820403 \nL 186.560173 128.995206 \nL 187.164526 127.939872 \nL 187.222083 127.713943 \nL 187.308419 127.792995 \nL 187.567428 127.890575 \nL 187.682542 127.71803 \nL 187.711321 127.744286 \nL 187.7401 127.770528 \nL 187.768879 127.658154 \nL 187.883993 127.486154 \nL 187.912772 127.512422 \nL 187.999108 127.591145 \nL 188.056666 127.50531 \nL 188.143002 127.445794 \nL 188.17178 127.472012 \nL 188.373231 127.517302 \nL 188.488346 127.415222 \nL 188.517125 127.441368 \nL 188.689797 127.460486 \nL 188.833691 127.316181 \nL 188.977584 127.309374 \nL 189.006363 127.266885 \nL 189.06392 127.319002 \nL 189.121478 127.234104 \nL 189.179035 127.286185 \nL 189.495601 126.957378 \nL 189.95606 127.236348 \nL 190.099954 127.09391 \nL 190.128733 127.11977 \nL 190.330184 127.23267 \nL 190.445299 126.99721 \nL 190.474077 127.023018 \nL 190.761864 127.145365 \nL 190.905758 126.801746 \nL 190.934537 126.8275 \nL 190.963315 126.853241 \nL 190.992094 126.744214 \nL 191.020873 126.769963 \nL 191.049651 126.728355 \nL 191.107209 126.779822 \nL 191.193545 126.789666 \nL 191.222324 126.748115 \nL 191.423775 126.189321 \nL 191.452553 126.215111 \nL 191.481332 126.240889 \nL 191.510111 126.132498 \nL 191.654004 125.993315 \nL 191.711562 125.910953 \nL 191.769119 125.962531 \nL 191.884234 125.798081 \nL 191.941791 125.849639 \nL 192.287136 126.024653 \nL 192.459808 125.712558 \nL 192.661259 125.759208 \nL 192.776374 125.330771 \nL 192.86271 125.407846 \nL 192.891489 125.36722 \nL 192.949046 125.418547 \nL 193.236833 125.542237 \nL 193.32317 125.420705 \nL 193.380727 125.471819 \nL 193.409506 125.497358 \nL 193.438284 125.39091 \nL 193.553399 125.163405 \nL 193.582178 125.188982 \nL 193.697293 125.22532 \nL 193.812408 125.06425 \nL 193.841186 125.089794 \nL 193.869965 125.115327 \nL 193.898744 125.009383 \nL 194.042637 124.808696 \nL 194.301646 124.907245 \nL 194.503097 124.562137 \nL 194.531875 124.587655 \nL 194.560654 124.482424 \nL 194.675769 124.257924 \nL 194.704548 124.283478 \nL 194.992335 124.408081 \nL 195.021113 124.368414 \nL 195.078671 124.41931 \nL 195.165007 124.430524 \nL 195.280122 124.207201 \nL 195.308901 124.232639 \nL 195.424015 124.334269 \nL 195.481573 124.255274 \nL 195.625466 124.122908 \nL 195.711802 124.004793 \nL 195.76936 124.055571 \nL 195.798139 124.080943 \nL 195.826917 123.976935 \nL 196.114704 123.649402 \nL 196.143483 123.674797 \nL 196.344934 123.723412 \nL 196.517606 123.489314 \nL 196.690279 123.512779 \nL 197.006844 123.149922 \nL 197.035623 123.17525 \nL 197.093181 123.225869 \nL 197.150738 123.148475 \nL 197.352189 123.005922 \nL 197.524861 123.093696 \nL 197.78387 122.556534 \nL 197.841427 122.479888 \nL 197.898984 122.530501 \nL 197.927763 122.428632 \nL 198.014099 122.504516 \nL 198.186772 122.529076 \nL 198.388222 122.198704 \nL 198.560895 122.350123 \nL 198.589673 122.248841 \nL 198.762346 121.89474 \nL 198.791124 121.92 \nL 198.848682 121.844272 \nL 198.935018 121.92 \nL 198.963797 121.882171 \nL 199.021354 121.932604 \nL 199.280362 122.033198 \nL 199.395477 121.945132 \nL 199.424256 121.970252 \nL 199.453035 121.86976 \nL 199.481813 121.894886 \nL 199.510592 121.794457 \nL 199.596928 121.869818 \nL 199.798379 121.982627 \nL 200.114945 121.257835 \nL 200.201281 121.333202 \nL 200.258839 121.258595 \nL 200.431511 121.097497 \nL 200.46029 121.122604 \nL 200.517847 121.048247 \nL 200.575404 121.098438 \nL 200.604183 120.999066 \nL 200.690519 121.074317 \nL 200.863192 121.100315 \nL 200.89197 121.001169 \nL 200.978306 121.076247 \nL 201.007085 121.039224 \nL 201.064643 121.089224 \nL 201.496323 121.339204 \nL 201.640217 121.031281 \nL 201.668995 121.056163 \nL 201.78411 121.155582 \nL 201.812889 121.118776 \nL 201.870446 120.922004 \nL 201.956783 120.996557 \nL 201.985561 121.021386 \nL 202.01434 120.923133 \nL 202.187012 120.641809 \nL 202.215791 120.666673 \nL 202.24457 120.568678 \nL 202.273348 120.593547 \nL 202.330906 120.397724 \nL 202.417242 120.472363 \nL 202.503578 120.546901 \nL 202.532357 120.51044 \nL 202.561135 120.412723 \nL 202.647472 120.487218 \nL 202.705029 120.41442 \nL 202.791365 120.48883 \nL 203.021595 120.076253 \nL 203.107931 120.150707 \nL 203.13671 120.05351 \nL 203.194267 119.859246 \nL 203.280603 119.933746 \nL 203.366939 120.008145 \nL 203.395718 119.911176 \nL 203.539612 119.609396 \nL 203.56839 119.634229 \nL 203.597169 119.659052 \nL 203.625948 119.562334 \nL 203.654726 119.587161 \nL 203.683505 119.490503 \nL 203.769841 119.564967 \nL 203.942513 119.652979 \nL 203.971292 119.556522 \nL 204.057628 119.630775 \nL 204.115186 119.559154 \nL 204.230301 119.658024 \nL 204.316637 119.55074 \nL 204.374194 119.600124 \nL 204.46053 119.674118 \nL 204.489309 119.638401 \nL 204.661981 119.424431 \nL 204.892211 119.621404 \nL 204.92099 119.525657 \nL 205.093662 119.252467 \nL 205.410228 119.462712 \nL 205.467785 119.272092 \nL 205.554121 119.345683 \nL 205.698015 119.468119 \nL 205.755572 119.397466 \nL 205.957023 119.090988 \nL 205.985802 119.115477 \nL 206.014581 119.020641 \nL 206.043359 119.045135 \nL 206.100917 118.915236 \nL 206.158474 118.964227 \nL 206.187253 118.988707 \nL 206.216032 118.894043 \nL 206.47504 118.281732 \nL 206.503819 118.306302 \nL 206.561376 118.23659 \nL 206.618934 118.285707 \nL 206.676491 118.097349 \nL 206.762827 118.171034 \nL 207.13695 118.370925 \nL 207.338401 118.069205 \nL 207.424737 118.142541 \nL 207.453516 118.107955 \nL 207.654967 117.807353 \nL 207.856418 117.860649 \nL 208.403214 117.209347 \nL 208.460771 117.258229 \nL 208.518328 117.307069 \nL 208.575886 117.238837 \nL 208.604665 117.146242 \nL 208.691001 117.219479 \nL 208.950009 117.321924 \nL 208.978788 117.229569 \nL 209.065124 117.302548 \nL 209.180239 117.283206 \nL 209.295354 116.91469 \nL 209.38169 116.9877 \nL 209.496805 116.968672 \nL 209.583141 116.983462 \nL 209.755813 117.012983 \nL 209.957264 116.892887 \nL 210.388945 117.197562 \nL 210.561617 116.996003 \nL 210.676732 117.034744 \nL 210.93574 116.50355 \nL 211.050855 116.485149 \nL 211.252306 116.080144 \nL 211.281085 116.104317 \nL 211.424978 115.82398 \nL 211.568872 115.658699 \nL 211.655208 115.616894 \nL 211.799101 115.394972 \nL 211.82788 115.419193 \nL 211.914216 115.434707 \nL 212.000552 115.336096 \nL 212.029331 115.360294 \nL 212.086888 115.40866 \nL 212.115667 115.318817 \nL 212.259561 115.154896 \nL 212.374676 115.1947 \nL 212.518569 114.974379 \nL 212.547348 114.998562 \nL 212.806356 115.102312 \nL 212.892692 114.947862 \nL 212.95025 114.996098 \nL 213.238037 115.123586 \nL 213.410709 115.041704 \nL 213.698496 115.168675 \nL 213.756054 115.047544 \nL 213.813611 115.095438 \nL 214.245292 115.397249 \nL 214.360406 115.268023 \nL 214.389185 115.291826 \nL 214.475521 115.307134 \nL 214.590636 115.1222 \nL 214.619415 115.145994 \nL 214.792087 115.176721 \nL 214.935981 115.127793 \nL 215.022317 115.198965 \nL 215.051096 115.111047 \nL 215.194989 115.006523 \nL 215.39644 115.116649 \nL 215.655448 114.606796 \nL 215.799342 114.614265 \nL 215.914457 114.487102 \nL 215.943236 114.510802 \nL 215.972014 114.534492 \nL 216.000793 114.447302 \nL 216.144687 114.17802 \nL 216.173465 114.201744 \nL 216.231023 114.249163 \nL 216.259801 114.162191 \nL 216.374916 113.869943 \nL 216.432474 113.91743 \nL 216.605146 114.00446 \nL 216.691482 113.799651 \nL 216.749039 113.84706 \nL 216.892933 113.910328 \nL 217.065605 113.666964 \nL 217.238277 113.75391 \nL 217.382171 113.487667 \nL 217.41095 113.511325 \nL 217.698737 113.637823 \nL 217.957745 113.19353 \nL 218.101639 113.311543 \nL 218.130417 113.225895 \nL 218.159196 113.140281 \nL 218.245532 113.21105 \nL 218.331868 113.227199 \nL 218.446983 113.212374 \nL 218.533319 113.228499 \nL 218.677213 113.237198 \nL 218.763549 113.035799 \nL 218.821107 113.082831 \nL 218.965 113.200248 \nL 218.993779 113.115135 \nL 219.19523 112.791336 \nL 219.224008 112.814835 \nL 219.252787 112.729952 \nL 219.339123 112.746276 \nL 219.799583 113.012949 \nL 219.943476 113.021786 \nL 220.202485 113.177611 \nL 220.490272 112.657632 \nL 220.662944 112.636407 \nL 220.691723 112.6597 \nL 220.720501 112.575702 \nL 220.864395 112.316972 \nL 220.893174 112.340296 \nL 220.97951 112.356667 \nL 221.152182 112.175419 \nL 221.353633 112.23155 \nL 221.497527 112.080989 \nL 221.583863 112.150771 \nL 221.612641 112.067383 \nL 221.900429 111.92704 \nL 222.130658 112.006419 \nL 222.418445 111.866687 \nL 222.562339 111.876484 \nL 222.619896 111.710953 \nL 222.706232 111.780421 \nL 222.792569 111.796918 \nL 222.878905 111.654819 \nL 222.936462 111.701081 \nL 223.166692 111.621988 \nL 223.281807 111.608891 \nL 223.4257 111.513552 \nL 223.540815 111.605808 \nL 223.569594 111.523624 \nL 223.857381 111.386175 \nL 223.972496 111.37332 \nL 224.08761 111.045903 \nL 224.173947 111.115072 \nL 224.375398 111.171498 \nL 224.720742 110.976996 \nL 224.864636 110.987496 \nL 225.152423 110.852258 \nL 225.267538 110.891943 \nL 225.497767 110.451733 \nL 225.526546 110.474696 \nL 225.641661 110.46268 \nL 225.67044 110.381859 \nL 225.756776 110.450683 \nL 225.958227 110.507403 \nL 225.987005 110.426743 \nL 226.073341 110.495397 \nL 226.217235 110.557954 \nL 226.246014 110.477422 \nL 226.33235 110.545929 \nL 226.591358 110.647854 \nL 226.792809 110.343524 \nL 226.879145 110.411861 \nL 226.907924 110.331708 \nL 226.99426 110.194286 \nL 227.051818 110.239849 \nL 227.512277 109.936813 \nL 227.771285 110.038983 \nL 227.915179 109.84568 \nL 227.943958 109.868394 \nL 228.030294 109.834324 \nL 228.059072 109.754882 \nL 228.145409 109.822986 \nL 228.260523 109.913672 \nL 228.289302 109.834334 \nL 228.519532 109.353451 \nL 228.54831 109.376168 \nL 228.951212 109.591765 \nL 229.066327 109.479201 \nL 229.095106 109.501814 \nL 229.872131 108.847354 \nL 230.102361 108.977623 \nL 230.418927 108.420533 \nL 230.591599 108.455601 \nL 230.764271 108.139298 \nL 230.79305 108.161912 \nL 231.052058 108.314972 \nL 231.282288 107.994877 \nL 231.713969 107.733925 \nL 231.944198 107.814491 \nL 231.972977 107.737398 \nL 232.059313 107.804915 \nL 232.174428 107.795352 \nL 232.203207 107.718375 \nL 232.289543 107.785804 \nL 232.404658 107.776269 \nL 232.606109 107.486825 \nL 232.778781 107.522428 \nL 233.066568 107.400262 \nL 233.527027 107.659376 \nL 233.757257 107.591413 \nL 233.814814 107.63598 \nL 233.843593 107.559826 \nL 234.073823 107.492142 \nL 234.246495 107.527412 \nL 234.476725 107.21486 \nL 234.649397 107.25034 \nL 234.822069 106.943365 \nL 235.02352 106.708188 \nL 235.109856 106.677327 \nL 235.311307 106.442906 \nL 235.512758 106.501279 \nL 235.541537 106.426134 \nL 235.627873 106.492856 \nL 235.656652 106.515081 \nL 235.685431 106.44 \nL 236.030775 106.269291 \nL 236.203447 106.305442 \nL 236.261005 106.155891 \nL 236.347341 106.22246 \nL 236.491234 106.236438 \nL 236.692685 106.197951 \nL 236.894136 106.304416 \nL 237.03803 106.028818 \nL 237.095587 106.073038 \nL 237.26826 106.10916 \nL 237.412153 105.930632 \nL 237.440932 105.952712 \nL 237.584825 105.966835 \nL 237.69994 105.91085 \nL 237.93017 105.991033 \nL 238.074063 105.813333 \nL 238.102842 105.835345 \nL 238.304293 105.89347 \nL 238.333072 105.819715 \nL 238.419408 105.885618 \nL 238.620859 105.943568 \nL 238.735974 105.792468 \nL 238.764753 105.814394 \nL 238.908646 105.828524 \nL 238.994982 105.751189 \nL 239.023761 105.773088 \nL 239.196433 105.809101 \nL 239.512999 105.669021 \nL 239.71445 105.726852 \nL 239.858344 105.646141 \nL 240.059794 105.703879 \nL 240.232467 105.550496 \nL 240.347582 105.306585 \nL 240.491475 105.226548 \nL 240.721705 105.306331 \nL 240.750484 105.233753 \nL 240.83682 105.299001 \nL 241.009492 105.382204 \nL 241.2685 105.013015 \nL 241.383615 105.005912 \nL 241.441173 104.861462 \nL 241.527509 104.926632 \nL 241.642624 104.9196 \nL 241.872853 104.577642 \nL 241.987968 104.664492 \nL 242.016747 104.592574 \nL 242.275755 104.180096 \nL 242.477206 104.238764 \nL 242.649878 104.228986 \nL 242.764993 104.269076 \nL 242.793772 104.197559 \nL 242.880108 104.262546 \nL 243.081559 104.320903 \nL 243.225453 104.335948 \nL 243.340567 104.32939 \nL 243.628355 103.849449 \nL 243.743469 103.889565 \nL 243.801027 103.747514 \nL 243.887363 103.812343 \nL 244.031256 103.827749 \nL 244.232707 103.840034 \nL 244.376601 103.855385 \nL 244.693167 104.045695 \nL 244.721945 103.975028 \nL 244.952175 103.916527 \nL 245.038511 103.934858 \nL 245.06729 103.864353 \nL 245.124847 103.723415 \nL 245.211184 103.787753 \nL 245.29752 103.852025 \nL 245.326298 103.781641 \nL 245.355077 103.711281 \nL 245.441413 103.775538 \nL 245.642864 103.833595 \nL 245.786758 103.711506 \nL 246.160881 103.851763 \nL 246.391111 103.793918 \nL 246.477447 103.766568 \nL 246.678898 103.551074 \nL 246.85157 103.678695 \nL 246.880349 103.608976 \nL 247.024242 103.397064 \nL 247.053021 103.418335 \nL 247.0818 103.439599 \nL 247.139357 103.345865 \nL 247.283251 103.270618 \nL 247.312029 103.291878 \nL 247.340808 103.22241 \nL 247.455923 103.080761 \nL 247.484702 103.102031 \nL 247.772489 103.178605 \nL 247.801267 103.109341 \nL 247.887604 103.17299 \nL 247.97394 103.236575 \nL 248.002718 103.167382 \nL 248.146612 103.092658 \nL 248.261727 103.132231 \nL 248.376842 103.216841 \nL 248.40562 103.147812 \nL 248.578293 102.959304 \nL 248.923637 103.077837 \nL 249.009973 103.006314 \nL 249.038752 103.027407 \nL 249.182646 103.043005 \nL 249.29776 102.90297 \nL 249.326539 102.924046 \nL 249.384096 102.966175 \nL 249.412875 102.897586 \nL 249.585547 102.710412 \nL 249.671884 102.684097 \nL 249.959671 102.179536 \nL 249.988449 102.200651 \nL 250.074786 102.263953 \nL 250.103564 102.195749 \nL 250.132343 102.127568 \nL 250.218679 102.190854 \nL 250.621581 102.351824 \nL 250.851811 102.075132 \nL 250.995704 102.091348 \nL 251.197155 101.794554 \nL 251.225934 101.815583 \nL 251.369827 101.787652 \nL 252.118074 101.316518 \nL 252.43464 101.458998 \nL 252.549755 101.366584 \nL 252.578533 101.387522 \nL 252.664869 101.450296 \nL 252.693648 101.383218 \nL 252.837542 101.180029 \nL 252.86632 101.200964 \nL 252.981435 101.196787 \nL 253.010214 101.129869 \nL 253.09655 101.192616 \nL 253.269222 101.230223 \nL 253.413116 101.159265 \nL 253.873575 101.404978 \nL 254.017469 101.203111 \nL 254.046248 101.223904 \nL 254.161362 101.263375 \nL 254.190141 101.196886 \nL 254.477928 100.794519 \nL 254.593043 100.790641 \nL 254.823273 100.522054 \nL 254.852051 100.542863 \nL 254.909609 100.454101 \nL 254.938388 100.388018 \nL 255.024724 100.450449 \nL 255.139838 100.446802 \nL 255.312511 100.137847 \nL 255.370068 100.179467 \nL 255.513962 100.196788 \nL 255.571519 100.238343 \nL 255.600298 100.172537 \nL 255.744191 100.060083 \nL 255.974421 100.139714 \nL 256.089536 100.049943 \nL 256.118315 100.070681 \nL 256.262208 100.088017 \nL 256.348544 100.063918 \nL 256.377323 99.998421 \nL 256.463659 100.060542 \nL 256.722668 100.117493 \nL 256.981676 100.045405 \nL 257.183127 100.103909 \nL 257.240684 100.01642 \nL 257.298242 100.05764 \nL 257.816259 100.299157 \nL 257.960152 100.230693 \nL 258.21916 100.286939 \nL 258.305497 100.177706 \nL 258.363054 100.218635 \nL 258.478169 100.257808 \nL 258.650841 100.295192 \nL 258.67962 100.230479 \nL 258.765956 100.291714 \nL 258.938628 100.286505 \nL 259.226415 99.895925 \nL 259.370309 99.870702 \nL 259.542981 99.65409 \nL 259.57176 99.674502 \nL 259.715653 99.691822 \nL 259.945883 99.432037 \nL 260.118555 99.469894 \nL 260.147334 99.405823 \nL 260.23367 99.466957 \nL 260.348785 99.506201 \nL 260.377564 99.526548 \nL 260.435121 99.440745 \nL 260.636572 99.414589 \nL 260.722908 99.475558 \nL 260.751687 99.411694 \nL 260.838023 99.304355 \nL 260.89558 99.344998 \nL 261.240925 99.462394 \nL 261.442376 99.226671 \nL 261.58627 99.327961 \nL 261.615048 99.264414 \nL 261.701384 99.199513 \nL 261.730163 99.21976 \nL 261.931614 99.277667 \nL 261.960393 99.214246 \nL 262.046729 99.274876 \nL 262.161844 99.272089 \nL 262.24818 99.165622 \nL 262.305737 99.206001 \nL 262.449631 99.181722 \nL 262.67986 98.926345 \nL 262.881311 98.942664 \nL 263.025205 98.960239 \nL 263.687115 99.339055 \nL 263.831009 99.27345 \nL 263.859788 99.293457 \nL 263.888566 99.230681 \nL 264.03246 98.999799 \nL 264.090017 99.039848 \nL 264.176353 99.099875 \nL 264.205132 99.037233 \nL 264.291468 98.973323 \nL 264.320247 98.993327 \nL 264.464141 98.969467 \nL 264.608034 98.904411 \nL 264.838264 98.981727 \nL 264.953379 98.855687 \nL 264.982157 98.87564 \nL 265.126051 98.893071 \nL 265.241166 98.767275 \nL 265.269944 98.787211 \nL 265.644068 98.9228 \nL 265.931855 98.834607 \nL 266.190863 98.890399 \nL 266.507429 98.781484 \nL 266.680101 98.818631 \nL 266.795216 98.734661 \nL 266.823995 98.75444 \nL 267.025446 98.8113 \nL 267.198118 98.685615 \nL 267.428348 98.721525 \nL 268.320488 98.197655 \nL 268.435602 98.195599 \nL 268.579496 98.132452 \nL 268.72339 98.150111 \nL 268.982398 97.802989 \nL 269.126292 97.820856 \nL 269.241406 97.778783 \nL 269.701866 97.972368 \nL 269.759423 97.89113 \nL 269.816981 97.930329 \nL 270.104768 98.005767 \nL 270.219882 97.923748 \nL 270.248661 97.9433 \nL 270.594006 97.817735 \nL 270.622784 97.837265 \nL 270.651563 97.776872 \nL 270.824235 97.614501 \nL 270.996908 97.611969 \nL 271.227137 97.56876 \nL 271.255916 97.588263 \nL 271.284695 97.528101 \nL 271.313473 97.467956 \nL 271.39981 97.526467 \nL 271.572482 97.524021 \nL 271.745154 97.601053 \nL 271.773933 97.541038 \nL 272.004163 97.220289 \nL 272.032941 97.239766 \nL 272.435843 97.393059 \nL 272.550958 97.27279 \nL 272.579737 97.292206 \nL 272.608515 97.311616 \nL 272.637294 97.251905 \nL 272.666073 97.192212 \nL 272.752409 97.250444 \nL 272.95386 97.307132 \nL 273.155311 97.087525 \nL 273.529434 97.220933 \nL 273.673328 97.042056 \nL 273.702106 97.061395 \nL 273.730885 97.080729 \nL 273.759664 97.021389 \nL 273.903557 96.724946 \nL 273.989893 96.783018 \nL 274.018672 96.802365 \nL 274.047451 96.74315 \nL 274.191344 96.447336 \nL 274.277681 96.505445 \nL 274.392795 96.543635 \nL 274.623025 96.619885 \nL 274.853255 96.343886 \nL 274.96837 96.342963 \nL 274.997148 96.284096 \nL 275.083484 96.342041 \nL 275.198599 96.380172 \nL 275.428829 96.456303 \nL 275.601501 96.298933 \nL 275.889288 96.374536 \nL 276.090739 96.197946 \nL 276.29219 96.332426 \nL 276.320969 96.273948 \nL 276.349748 96.215486 \nL 276.436084 96.273072 \nL 276.723871 96.348399 \nL 276.896543 96.347024 \nL 277.011658 96.423511 \nL 277.040437 96.365228 \nL 277.155552 96.248281 \nL 277.18433 96.267401 \nL 277.299445 96.343825 \nL 277.328224 96.285635 \nL 277.41456 96.188416 \nL 277.472117 96.226617 \nL 277.788683 96.320681 \nL 277.875019 96.146593 \nL 277.961355 96.203776 \nL 278.134028 96.202532 \nL 279.083725 95.678562 \nL 279.256397 95.716046 \nL 279.42907 95.524002 \nL 279.457848 95.543011 \nL 279.659299 95.599522 \nL 279.745635 95.427328 \nL 279.831972 95.484292 \nL 279.947086 95.522021 \nL 279.975865 95.464698 \nL 280.148537 95.349759 \nL 280.263652 95.387506 \nL 280.292431 95.33029 \nL 280.810448 95.100881 \nL 280.839226 95.119821 \nL 280.868005 95.062803 \nL 281.011899 94.967702 \nL 281.270907 95.02427 \nL 281.299686 94.967384 \nL 281.386022 95.024111 \nL 281.414801 95.04301 \nL 281.443579 94.986161 \nL 281.558694 94.872475 \nL 281.587473 94.891378 \nL 281.788924 94.947943 \nL 281.817703 94.89121 \nL 281.904039 94.947827 \nL 282.335719 94.777708 \nL 282.364498 94.796554 \nL 282.393277 94.74 \nL 282.479613 94.645795 \nL 282.53717 94.683493 \nL 283.285417 94.308333 \nL 283.544425 94.365103 \nL 283.717097 94.253037 \nL 283.745876 94.271831 \nL 283.774655 94.215723 \nL 283.918548 94.047683 \nL 283.947327 94.066487 \nL 284.119999 94.067043 \nL 284.206336 93.936521 \nL 284.263893 93.974103 \nL 284.55168 94.049774 \nL 284.810688 93.659358 \nL 284.839467 93.678136 \nL 285.040918 93.697765 \nL 285.702828 93.163003 \nL 285.817943 93.015522 \nL 285.875501 93.053068 \nL 286.220845 93.203884 \nL 286.278403 93.093288 \nL 286.364739 93.149445 \nL 286.451075 93.131607 \nL 286.594968 93.077276 \nL 286.767641 93.11555 \nL 287.084207 92.583442 \nL 287.141764 92.620881 \nL 287.256879 92.585196 \nL 287.400772 92.531441 \nL 287.487108 92.550735 \nL 287.515887 92.495847 \nL 287.976347 92.317147 \nL 288.264134 92.393736 \nL 288.523142 92.341657 \nL 288.551921 92.360286 \nL 288.580699 92.305697 \nL 288.695814 92.270421 \nL 288.78215 92.326276 \nL 288.810929 92.27175 \nL 288.839708 92.21724 \nL 288.926044 92.273078 \nL 289.587954 91.970992 \nL 289.760627 92.009622 \nL 289.990856 91.794348 \nL 290.192307 91.778939 \nL 290.364979 91.89022 \nL 290.393758 91.836154 \nL 290.508873 91.728868 \nL 290.537652 91.747407 \nL 290.623988 91.694216 \nL 290.767881 91.641893 \nL 290.911775 91.625851 \nL 291.02689 91.591318 \nL 291.199562 91.593832 \nL 291.285898 91.504716 \nL 291.343456 91.541715 \nL 291.487349 91.525783 \nL 291.631243 91.47378 \nL 291.861472 91.585404 \nL 291.890251 91.531751 \nL 292.062923 91.390225 \nL 292.379489 91.520985 \nL 292.494604 91.414845 \nL 292.523383 91.433256 \nL 292.667276 91.4534 \nL 292.782391 91.311536 \nL 292.839949 91.348332 \nL 292.868727 91.366723 \nL 292.897506 91.313347 \nL 293.070178 91.172647 \nL 293.156514 91.191978 \nL 293.185293 91.138695 \nL 293.386744 90.90931 \nL 293.415523 90.927712 \nL 293.559416 90.948107 \nL 293.645752 90.788691 \nL 293.732089 90.843866 \nL 293.904761 90.846938 \nL 293.962318 90.883668 \nL 293.991097 90.830621 \nL 294.163769 90.691004 \nL 294.278884 90.657473 \nL 294.451556 90.553803 \nL 294.537892 90.608868 \nL 294.566671 90.555996 \nL 294.681786 90.487008 \nL 294.710565 90.505357 \nL 295.430032 90.182216 \nL 295.631483 90.204094 \nL 295.832934 90.190528 \nL 296.063164 90.265999 \nL 296.322172 90.006285 \nL 296.466066 90.027011 \nL 296.552402 89.975913 \nL 296.581181 89.994174 \nL 296.753853 90.033125 \nL 296.897747 89.948089 \nL 297.358206 90.168978 \nL 297.530878 89.996851 \nL 297.559657 90.015029 \nL 298.969814 89.294226 \nL 299.05615 89.348666 \nL 299.084929 89.297022 \nL 299.228822 89.213342 \nL 299.459052 89.253841 \nL 299.487831 89.202301 \nL 299.574167 89.256652 \nL 299.689281 89.224663 \nL 299.919511 89.195544 \nL 300.17852 89.254001 \nL 300.466307 89.191646 \nL 300.667758 89.248566 \nL 300.811651 89.165503 \nL 301.214553 89.313678 \nL 301.329668 89.247346 \nL 301.358447 89.265315 \nL 301.50234 89.251532 \nL 301.675012 89.255711 \nL 301.818906 89.241953 \nL 301.9628 89.262662 \nL 301.991578 89.280578 \nL 302.020357 89.22961 \nL 302.164251 89.147053 \nL 302.365702 89.203588 \nL 302.62471 88.849225 \nL 302.653489 88.867142 \nL 302.85494 88.889489 \nL 303.027612 88.722478 \nL 303.056391 88.740378 \nL 303.200284 88.727029 \nL 303.74708 88.519225 \nL 304.006088 88.611612 \nL 304.034867 88.561176 \nL 304.121203 88.614689 \nL 304.207539 88.634051 \nL 304.236318 88.583657 \nL 304.322654 88.500738 \nL 304.380211 88.536388 \nL 304.725556 88.681848 \nL 304.927007 88.500128 \nL 305.0709 88.588987 \nL 305.099679 88.538787 \nL 305.128458 88.4886 \nL 305.214794 88.541887 \nL 305.588917 88.670614 \nL 305.732811 88.555796 \nL 305.761589 88.573508 \nL 305.847925 88.592748 \nL 305.876704 88.542716 \nL 306.337163 88.386058 \nL 306.452278 88.389217 \nL 306.567393 88.358609 \nL 306.85518 88.43397 \nL 306.999074 88.45473 \nL 307.286861 88.563492 \nL 307.517091 88.199718 \nL 307.574648 88.234954 \nL 307.660984 88.287774 \nL 307.689763 88.23817 \nL 307.891214 88.059145 \nL 307.948771 88.060795 \nL 307.97755 88.01128 \nL 308.322894 87.920705 \nL 308.380452 87.955888 \nL 308.409231 87.906478 \nL 308.524345 87.876364 \nL 308.610682 87.929102 \nL 308.63946 87.879744 \nL 308.812133 87.784488 \nL 309.042362 87.75792 \nL 309.301371 87.815691 \nL 309.646715 87.725914 \nL 309.819387 87.731069 \nL 309.934502 87.667942 \nL 309.963281 87.685446 \nL 310.107174 87.706389 \nL 310.135953 87.723876 \nL 310.164732 87.674862 \nL 310.279847 87.611855 \nL 310.308625 87.62934 \nL 310.510076 87.685218 \nL 310.65397 87.639756 \nL 310.769085 87.676384 \nL 310.797864 87.627508 \nL 311.54611 87.31946 \nL 311.632446 87.305646 \nL 311.661225 87.256993 \nL 311.747561 87.309259 \nL 312.006569 87.36686 \nL 312.409471 87.050033 \nL 312.467029 86.986045 \nL 312.524586 87.02084 \nL 312.610922 87.007191 \nL 312.726037 86.945155 \nL 312.754816 86.962541 \nL 312.956267 86.952693 \nL 313.272833 87.045071 \nL 313.387947 87.081583 \nL 313.56062 87.087124 \nL 314.22253 86.830476 \nL 314.337645 86.801611 \nL 314.539096 86.791963 \nL 314.596653 86.826505 \nL 314.625432 86.778511 \nL 314.798104 86.686425 \nL 314.941998 86.67496 \nL 315.057113 86.678826 \nL 315.258564 86.701853 \nL 315.517572 86.434187 \nL 315.920474 86.61034 \nL 316.064367 86.566539 \nL 316.150704 86.52083 \nL 316.265818 86.52475 \nL 316.438491 86.563007 \nL 316.639942 86.424214 \nL 316.755056 86.428172 \nL 316.870171 86.3998 \nL 317.071622 86.422888 \nL 317.388188 86.095044 \nL 317.56086 86.101195 \nL 317.762311 85.963427 \nL 318.050098 86.005984 \nL 318.251549 85.804286 \nL 318.395443 85.76138 \nL 318.798345 85.647929 \nL 318.942238 85.605212 \nL 319.230026 85.551943 \nL 319.373919 85.541354 \nL 319.604149 85.326252 \nL 319.776821 85.33289 \nL 319.920715 85.258605 \nL 320.208502 85.333501 \nL 320.323617 85.337913 \nL 320.611404 85.380759 \nL 320.726518 85.353322 \nL 320.870412 85.342913 \nL 320.985527 85.347309 \nL 321.273314 85.421778 \nL 321.503544 85.240163 \nL 321.704995 85.232071 \nL 321.992782 84.926583 \nL 322.136675 84.884838 \nL 322.280569 84.843141 \nL 322.48202 84.866991 \nL 322.597135 84.871579 \nL 322.769807 84.846897 \nL 323.287824 84.678582 \nL 323.575611 84.72168 \nL 323.80584 84.542393 \nL 323.949734 84.501174 \nL 324.093628 84.460002 \nL 324.554087 84.322305 \nL 324.899431 84.430561 \nL 325.072104 84.31261 \nL 325.273555 84.336621 \nL 325.388669 84.341402 \nL 325.618899 84.35095 \nL 325.82035 84.219011 \nL 325.935465 84.192677 \nL 326.079358 84.120866 \nL 326.252031 84.128161 \nL 326.424703 84.011053 \nL 326.539818 83.984876 \nL 326.654933 83.958724 \nL 326.94272 84.002069 \nL 327.086613 83.930654 \nL 327.259286 83.93805 \nL 327.431958 83.821538 \nL 327.633409 83.814767 \nL 327.863639 83.82471 \nL 328.093868 83.834635 \nL 328.410434 83.524277 \nL 328.611885 83.517768 \nL 328.842115 83.343128 \nL 329.014787 83.350872 \nL 329.245017 83.17666 \nL 329.532804 83.220448 \nL 329.676697 83.180901 \nL 329.878148 83.174695 \nL 330.022042 83.135228 \nL 330.540059 82.760973 \nL 330.683952 82.721841 \nL 330.856624 82.729948 \nL 331.058075 82.601982 \nL 331.230748 82.610158 \nL 331.40342 82.496345 \nL 331.748764 82.573714 \nL 332.238002 82.460063 \nL 332.439453 82.454482 \nL 332.583347 82.41581 \nL 332.72724 82.407519 \nL 332.871134 82.338594 \nL 333.130142 82.366179 \nL 333.274036 82.297385 \nL 333.446708 82.275441 \nL 333.648159 82.118879 \nL 333.84961 82.113594 \nL 334.022282 82.031448 \nL 334.194955 82.009745 \nL 334.626635 81.925496 \nL 334.97198 82.002665 \nL 335.144652 81.920947 \nL 335.403661 81.978732 \nL 335.547554 81.940762 \nL 335.86412 82.001248 \nL 336.036792 81.91981 \nL 336.295801 81.917551 \nL 336.439694 81.879745 \nL 336.583588 81.812088 \nL 336.727481 81.804256 \nL 337.015268 81.549881 \nL 337.101604 81.479644 \nL 337.245498 81.531641 \nL 337.475728 81.573012 \nL 337.6484 81.462585 \nL 337.792293 81.425222 \nL 339.087335 80.942745 \nL 339.403901 81.033189 \nL 339.519016 81.039152 \nL 339.66291 81.002283 \nL 339.835582 80.893139 \nL 340.123369 80.937656 \nL 340.267262 80.900926 \nL 340.785279 81.074982 \nL 341.101845 81.047157 \nL 341.188181 80.978161 \nL 341.360853 80.869658 \nL 341.562304 80.865469 \nL 341.821313 80.629844 \nL 341.993985 80.551109 \nL 342.483223 80.445507 \nL 342.627117 80.409365 \nL 342.77101 80.373262 \nL 342.857346 80.334104 \nL 343.00124 80.268897 \nL 343.260248 80.326584 \nL 343.404142 80.261479 \nL 343.691929 80.306081 \nL 343.950937 80.30544 \nL 344.181167 80.317781 \nL 344.382618 80.343076 \nL 344.699184 80.432448 \nL 344.843077 80.39661 \nL 344.986971 80.36081 \nL 345.389873 80.295474 \nL 345.591324 80.291775 \nL 346.656136 79.93103 \nL 346.742472 79.863798 \nL 346.943923 79.745427 \nL 347.174153 79.758106 \nL 347.634612 79.66868 \nL 347.807285 79.649554 \nL 347.922399 79.655917 \nL 348.267744 79.760813 \nL 348.440416 79.684482 \nL 348.613088 79.665402 \nL 349.01599 79.601953 \nL 349.102326 79.563929 \nL 349.274999 79.487955 \nL 349.361335 79.421504 \nL 349.677901 79.396452 \nL 349.936909 79.453561 \nL 350.052024 79.431528 \nL 350.339811 79.475921 \nL 350.483705 79.441316 \nL 350.771492 79.513983 \nL 351.088057 79.234061 \nL 351.231951 79.199675 \nL 352.642108 78.701237 \nL 352.958674 78.761693 \nL 353.131346 78.687269 \nL 353.390354 78.74433 \nL 353.591805 78.629591 \nL 353.965928 78.581116 \nL 354.109822 78.547421 \nL 354.282494 78.473436 \nL 354.570281 78.462206 \nL 354.714175 78.4566 \nL 354.915626 78.314676 \nL 355.117077 78.340442 \nL 355.289749 78.26685 \nL 355.519979 78.308239 \nL 355.635094 78.314977 \nL 355.750208 78.266007 \nL 355.894102 78.093503 \nL 356.009217 78.100319 \nL 356.268225 78.157337 \nL 356.38334 78.164118 \nL 356.757463 78.255499 \nL 356.958914 78.281139 \nL 357.160365 78.306741 \nL 357.390595 78.153998 \nL 357.592046 78.151982 \nL 357.822276 77.97195 \nL 358.023727 77.970067 \nL 358.944645 77.693982 \nL 359.491441 77.877901 \nL 359.692892 77.766233 \nL 359.923121 77.779943 \nL 360.124572 77.668514 \nL 360.268466 77.636006 \nL 360.441138 77.673743 \nL 360.585032 77.641269 \nL 360.872819 77.384953 \nL 361.045491 77.36809 \nL 361.246942 77.257387 \nL 361.534729 77.329518 \nL 361.851295 77.062505 \nL 362.023967 77.045894 \nL 362.311754 77.036395 \nL 362.541984 77.077759 \nL 362.657099 77.084824 \nL 362.85855 77.110758 \nL 363.031222 77.012733 \nL 363.261452 77.026886 \nL 363.405345 76.96794 \nL 363.693132 77.039821 \nL 363.808247 77.046873 \nL 364.211149 76.990403 \nL 364.326264 76.943411 \nL 364.527715 76.969293 \nL 364.757945 77.010393 \nL 364.988174 76.862679 \nL 365.189625 76.861612 \nL 365.477412 76.61013 \nL 365.678863 76.60924 \nL 366.052987 76.565373 \nL 366.283216 76.606578 \nL 366.484667 76.498389 \nL 366.628561 76.467168 \nL 366.772454 76.435977 \nL 366.945127 76.446799 \nL 367.117799 76.377305 \nL 367.348029 76.391761 \nL 367.54948 76.284114 \nL 367.722152 76.268285 \nL 367.923603 76.16086 \nL 368.21139 76.152422 \nL 368.384062 76.136705 \nL 368.614292 75.964868 \nL 368.930858 76.024986 \nL 369.074751 75.994256 \nL 369.362538 75.773503 \nL 369.477653 75.754361 \nL 369.650325 75.738946 \nL 370.110785 75.662597 \nL 370.341014 75.677463 \nL 370.484908 75.647049 \nL 370.628801 75.643114 \nL 370.88781 75.435197 \nL 371.175597 75.48035 \nL 371.405827 75.495304 \nL 371.54972 75.465087 \nL 371.693614 75.303124 \nL 371.895065 75.171453 \nL 372.182852 75.24302 \nL 372.384303 75.137901 \nL 373.103771 74.962235 \nL 373.218885 74.943647 \nL 373.334 74.951283 \nL 373.535451 74.951535 \nL 373.708123 74.989148 \nL 373.852017 74.959407 \nL 374.082247 74.791616 \nL 374.341255 74.821932 \nL 374.542706 74.717852 \nL 374.715378 74.703294 \nL 375.11828 74.652021 \nL 375.262174 74.622581 \nL 375.463625 74.649077 \nL 375.549961 74.615821 \nL 375.665076 74.597516 \nL 375.837748 74.583081 \nL 376.442101 74.454869 \nL 376.643552 74.455451 \nL 377.996151 74.042735 \nL 378.226381 74.058444 \nL 378.341496 74.040512 \nL 378.456611 73.996826 \nL 378.629283 73.931359 \nL 378.859513 73.972854 \nL 379.060964 73.845166 \nL 379.291193 73.86097 \nL 379.291193 73.86097 \n\" style=\"fill:none;stroke:#55a868;stroke-linecap:round;stroke-width:1.5;\"/>\n   </g>\n   <g id=\"line2d_19\">\n    <path clip-path=\"url(#p5574e5fc04)\" d=\"M 74.927557 230.64 \nL 75.474352 230.64 \nL 75.503131 204.754286 \nL 75.589467 207.99 \nL 75.906033 215.108571 \nL 76.021148 174.886154 \nL 76.078705 177.605854 \nL 76.510386 191.811429 \nL 76.999624 200.853699 \nL 77.460083 206.208539 \nL 77.488862 200.44 \nL 77.575198 201.414194 \nL 77.9781 205.238131 \nL 78.006879 200.44 \nL 78.093215 201.256216 \nL 78.496117 204.5472 \nL 78.524896 200.44 \nL 78.611232 201.142326 \nL 79.014134 204.03021 \nL 79.042912 200.44 \nL 79.129248 201.056327 \nL 79.301921 202.216471 \nL 79.330699 198.871169 \nL 79.417036 199.478217 \nL 80.136503 203.758681 \nL 80.165282 200.935082 \nL 80.251618 201.414194 \nL 80.337954 201.878095 \nL 80.366733 199.168421 \nL 80.453069 199.657617 \nL 81.31643 203.82565 \nL 81.373988 204.064 \nL 81.402767 201.776283 \nL 81.489103 202.15441 \nL 81.604218 202.643433 \nL 81.632996 200.44 \nL 81.719332 200.822278 \nL 82.179792 202.707984 \nL 82.20857 200.677795 \nL 82.294907 201.027549 \nL 83.187047 204.215 \nL 83.215825 202.425467 \nL 83.302161 202.715342 \nL 84.338195 205.780244 \nL 84.366974 205.855805 \nL 84.395752 204.283636 \nL 84.482089 204.521081 \nL 85.34545 206.679669 \nL 85.374229 205.252088 \nL 85.460565 205.459619 \nL 85.748352 206.127533 \nL 85.77713 204.754286 \nL 85.863467 204.95811 \nL 87.072172 207.508085 \nL 87.244845 207.831608 \nL 87.273623 206.620465 \nL 87.35996 206.786882 \nL 87.475074 207.005217 \nL 87.503853 205.818082 \nL 87.590189 205.986939 \nL 87.705304 206.208539 \nL 87.734083 205.044484 \nL 87.820419 205.215501 \nL 88.568665 206.607158 \nL 88.597444 205.51563 \nL 88.68378 205.672985 \nL 88.856452 205.981856 \nL 88.885231 204.914074 \nL 88.971567 205.071902 \nL 89.748592 206.409767 \nL 89.777371 205.405184 \nL 89.863707 205.550769 \nL 91.331421 207.791664 \nL 92.309898 209.075702 \nL 92.338676 208.214257 \nL 92.425012 208.324729 \nL 92.856693 208.861154 \nL 93.000587 207.305819 \nL 93.029365 207.342857 \nL 93.058144 206.518288 \nL 93.14448 206.632429 \nL 93.576161 207.187304 \nL 93.60494 206.387077 \nL 93.691276 206.498499 \nL 94.295629 207.250682 \nL 94.324407 206.48 \nL 94.410743 206.586903 \nL 94.986318 207.276103 \nL 95.015096 206.531845 \nL 95.101432 206.634872 \nL 96.741819 208.437628 \nL 96.885713 207.159895 \nL 98.554878 208.816642 \nL 98.698771 207.633954 \nL 98.842665 207.772212 \nL 98.871443 207.147083 \nL 98.95778 207.231388 \nL 99.907477 208.120322 \nL 99.936256 207.521379 \nL 100.022592 207.600825 \nL 100.972289 208.44 \nL 101.001068 207.865138 \nL 101.087404 207.94022 \nL 101.720536 208.476052 \nL 101.749314 207.91717 \nL 101.835651 207.99 \nL 102.152216 208.253094 \nL 102.180995 207.703291 \nL 102.267331 207.775647 \nL 103.130693 208.474862 \nL 103.159471 207.94387 \nL 103.245807 208.012995 \nL 103.332144 208.0817 \nL 103.360922 207.554863 \nL 103.447258 207.624677 \nL 103.619931 207.763046 \nL 103.648709 207.241802 \nL 103.735045 207.311856 \nL 103.792603 207.358327 \nL 103.936496 205.857443 \nL 103.965275 205.88198 \nL 103.994054 205.906469 \nL 104.022833 205.393755 \nL 104.109169 205.468374 \nL 104.166726 205.517876 \nL 104.368177 203.566172 \nL 104.396956 203.592585 \nL 104.627185 201.170881 \nL 104.655964 201.199381 \nL 104.684743 200.702609 \nL 104.771079 200.789133 \nL 104.828636 200.846538 \nL 104.857415 200.352968 \nL 104.943751 200.44 \nL 105.20276 200.69812 \nL 105.346653 199.298223 \nL 105.375432 199.327819 \nL 105.432989 199.386843 \nL 105.461768 198.904407 \nL 105.548104 198.993803 \nL 105.605662 199.053121 \nL 105.749555 197.679179 \nL 105.778334 197.709897 \nL 105.835891 197.771163 \nL 105.86467 197.296506 \nL 105.951006 197.389212 \nL 106.123678 197.573088 \nL 106.152457 197.102983 \nL 106.238793 197.195372 \nL 106.440244 197.408978 \nL 106.584138 195.584959 \nL 106.641695 195.648522 \nL 106.728031 195.743436 \nL 106.843146 194.88973 \nL 106.871925 194.921908 \nL 106.900704 194.954029 \nL 107.073376 193.686869 \nL 107.332384 193.98197 \nL 107.361163 193.532553 \nL 107.447499 193.630981 \nL 107.476278 193.663675 \nL 107.505056 193.216523 \nL 107.591393 193.315352 \nL 107.677729 193.413661 \nL 107.706507 192.969474 \nL 107.792844 193.068346 \nL 107.850401 193.133974 \nL 107.87918 192.692356 \nL 107.965516 192.791436 \nL 108.166967 193.020623 \nL 108.224524 192.146736 \nL 108.31086 192.246202 \nL 108.454754 192.41084 \nL 108.483533 191.977789 \nL 108.569869 192.076923 \nL 108.684984 192.208313 \nL 108.857656 191.021695 \nL 108.972771 191.155541 \nL 109.145443 189.984202 \nL 109.260558 190.120402 \nL 109.404451 189.382619 \nL 109.43323 189.417 \nL 109.548345 188.650963 \nL 109.577124 188.685809 \nL 109.605902 188.720597 \nL 109.634681 188.304954 \nL 109.721017 188.409917 \nL 109.749796 188.444789 \nL 109.893689 187.277171 \nL 109.922468 187.312802 \nL 110.123919 187.560588 \nL 110.152698 187.152 \nL 110.239034 187.258241 \nL 110.267813 187.293539 \nL 110.296591 186.886829 \nL 110.382927 186.993285 \nL 110.411706 187.028655 \nL 110.440485 186.623806 \nL 110.526821 186.730468 \nL 110.699493 186.942251 \nL 110.814608 186.211154 \nL 110.843387 186.246725 \nL 110.929723 186.353099 \nL 110.958502 185.954605 \nL 111.044838 186.061338 \nL 111.188731 186.238097 \nL 111.361404 185.161231 \nL 111.390182 185.197098 \nL 111.418961 184.804539 \nL 111.505297 184.912642 \nL 111.620412 185.055987 \nL 111.87942 182.837043 \nL 111.936978 182.911329 \nL 111.965757 182.526335 \nL 112.052093 182.638141 \nL 112.10965 182.71239 \nL 112.138429 182.329335 \nL 112.224765 182.441079 \nL 112.311101 182.552308 \nL 112.33988 182.171437 \nL 112.426216 182.282945 \nL 112.454995 182.32 \nL 112.656446 180.920488 \nL 113.088126 181.482502 \nL 113.116905 181.110181 \nL 113.203241 181.221818 \nL 113.318356 181.369888 \nL 113.347135 180.99988 \nL 113.433471 181.111098 \nL 113.778815 181.551029 \nL 113.89393 180.492399 \nL 113.951488 180.566308 \nL 114.527062 181.293595 \nL 114.642177 180.649269 \nL 114.670955 180.685441 \nL 114.843628 180.901383 \nL 114.929964 179.836262 \nL 115.0163 179.945595 \nL 115.246529 180.234864 \nL 115.361644 179.218378 \nL 115.419202 179.29142 \nL 115.563095 179.473121 \nL 115.591874 179.124866 \nL 115.67821 179.233931 \nL 115.706989 179.270183 \nL 115.879661 178.341404 \nL 115.965997 178.451352 \nL 116.138669 177.531835 \nL 116.167448 177.56887 \nL 116.225006 176.885682 \nL 116.311342 176.997748 \nL 116.397678 177.109348 \nL 116.656686 175.193549 \nL 116.685465 175.231736 \nL 116.714244 174.895747 \nL 116.80058 175.010604 \nL 116.858137 175.086914 \nL 117.002031 174.162078 \nL 117.030809 174.200656 \nL 117.117146 174.316074 \nL 117.145924 173.984142 \nL 117.23226 174.099687 \nL 117.318597 174.214763 \nL 117.347375 173.884475 \nL 117.433711 173.999675 \nL 117.548826 174.152551 \nL 117.69272 173.611352 \nL 117.779056 173.726174 \nL 117.807835 173.399759 \nL 117.894171 173.514699 \nL 117.922949 173.55291 \nL 118.009286 172.578585 \nL 118.095622 172.69463 \nL 118.297073 172.963607 \nL 118.325851 172.64159 \nL 118.412188 172.756667 \nL 118.440966 172.794924 \nL 118.498524 172.153663 \nL 118.58486 172.269249 \nL 118.613639 172.307676 \nL 118.757532 171.785669 \nL 118.815089 171.862805 \nL 118.987762 171.028512 \nL 119.01654 171.067397 \nL 119.102877 170.475937 \nL 119.160434 170.554174 \nL 119.217991 170.632208 \nL 119.505779 168.564387 \nL 119.563336 168.644381 \nL 119.707229 167.446936 \nL 119.764787 167.528005 \nL 120.023795 167.890255 \nL 120.052574 167.583786 \nL 120.13891 167.704122 \nL 120.167689 167.744132 \nL 120.225246 167.133714 \nL 120.311582 167.254449 \nL 120.340361 167.294592 \nL 120.685706 164.697322 \nL 120.743263 164.780113 \nL 120.829599 164.222707 \nL 120.887157 164.305832 \nL 121.117386 164.636264 \nL 121.232501 164.124969 \nL 121.26128 164.166257 \nL 121.290059 164.207494 \nL 121.318837 163.911668 \nL 121.405173 164.035545 \nL 121.549067 164.240987 \nL 121.635403 163.694187 \nL 121.69296 163.776531 \nL 122.239756 164.548815 \nL 122.326092 163.679563 \nL 122.412428 163.801236 \nL 122.441207 163.841695 \nL 122.469986 163.553249 \nL 122.556322 163.674783 \nL 122.5851 163.715196 \nL 122.613879 163.427696 \nL 122.700215 163.549091 \nL 122.757773 163.629778 \nL 122.844109 163.097863 \nL 122.901666 163.178849 \nL 122.930445 163.219269 \nL 122.959224 162.934132 \nL 123.04556 163.055541 \nL 123.419683 163.576655 \nL 123.592355 162.529362 \nL 123.621134 162.569592 \nL 123.995257 163.0883 \nL 124.024036 162.80942 \nL 124.110372 162.928421 \nL 124.139151 162.967995 \nL 124.283044 162.214825 \nL 124.311823 162.254677 \nL 124.340602 162.294482 \nL 124.484495 161.861822 \nL 124.82984 162.337522 \nL 124.858619 162.063733 \nL 124.944955 162.182036 \nL 125.117627 162.417421 \nL 125.175184 161.8732 \nL 125.261521 161.991086 \nL 125.405414 162.186667 \nL 125.549308 161.763409 \nL 125.606865 161.841589 \nL 125.635644 161.572275 \nL 125.72198 161.689604 \nL 125.837095 161.845424 \nL 125.865873 161.577324 \nL 125.95221 161.694115 \nL 126.038546 161.810512 \nL 126.067324 161.543487 \nL 126.153661 161.659876 \nL 126.38389 161.96834 \nL 126.412669 161.703017 \nL 126.499005 161.81836 \nL 126.585341 161.933318 \nL 126.758013 161.257092 \nL 126.84435 161.37241 \nL 126.873128 161.109767 \nL 126.959464 161.225075 \nL 127.27603 161.644615 \nL 127.419924 161.237918 \nL 127.50626 161.351816 \nL 127.621375 160.612926 \nL 127.678932 160.689291 \nL 127.765268 160.803527 \nL 127.794047 160.545767 \nL 127.880383 160.659989 \nL 127.909162 160.69798 \nL 127.937941 160.440977 \nL 128.024277 160.55506 \nL 128.053055 160.593005 \nL 128.225728 159.93973 \nL 128.369621 160.129989 \nL 128.686187 158.21817 \nL 128.830081 158.411398 \nL 128.945195 157.986326 \nL 128.973974 158.024992 \nL 129.06031 158.140744 \nL 129.175425 157.718049 \nL 129.204204 157.756693 \nL 129.319319 157.910862 \nL 129.348097 157.661987 \nL 129.434433 157.77752 \nL 129.635884 158.045678 \nL 129.693442 157.550924 \nL 129.779778 157.665905 \nL 129.923672 157.856736 \nL 130.010008 157.403029 \nL 130.067565 157.479437 \nL 130.269016 157.745613 \nL 130.384131 157.050996 \nL 130.441688 157.127254 \nL 130.700697 157.468468 \nL 130.873369 156.576247 \nL 130.902148 156.614306 \nL 130.930926 156.652327 \nL 130.988484 156.170426 \nL 131.07482 156.284877 \nL 131.132377 156.360983 \nL 131.189935 155.881104 \nL 131.276271 155.99559 \nL 131.391386 156.147692 \nL 131.420164 155.908839 \nL 131.506501 156.022816 \nL 131.707952 156.287416 \nL 131.794288 155.575357 \nL 131.880624 155.689091 \nL 132.024517 155.877884 \nL 132.19719 155.284098 \nL 132.254747 155.359719 \nL 132.283526 155.124855 \nL 132.369862 155.238297 \nL 132.513755 155.426613 \nL 132.542534 155.192771 \nL 132.62887 155.305603 \nL 133.549789 156.488479 \nL 133.578568 156.258244 \nL 133.664904 156.367522 \nL 133.693683 156.403877 \nL 133.722461 156.174247 \nL 133.808797 156.283381 \nL 135.823307 158.742031 \nL 135.852086 158.51932 \nL 135.938422 158.62133 \nL 138.988965 162.04925 \nL 139.938663 163.050796 \nL 139.967441 162.840265 \nL 140.053777 162.930106 \nL 140.945917 163.844706 \nL 140.974696 163.637038 \nL 141.061032 163.724472 \nL 141.579049 164.244316 \nL 141.607828 164.038447 \nL 141.694164 164.124533 \nL 142.154623 164.579923 \nL 142.183402 164.375672 \nL 142.269738 164.460589 \nL 142.44241 164.629774 \nL 142.471189 164.426371 \nL 142.557525 164.510863 \nL 143.075542 165.013322 \nL 143.104321 164.811646 \nL 143.190657 164.894867 \nL 143.276993 164.977879 \nL 143.305772 164.776811 \nL 143.392108 164.859832 \nL 143.996461 165.435169 \nL 144.025239 165.236003 \nL 144.111576 165.317588 \nL 144.45692 165.641903 \nL 144.485699 165.44397 \nL 144.572035 165.524758 \nL 146.327536 167.125093 \nL 146.356315 166.931744 \nL 146.442651 167.008624 \nL 146.931889 167.440799 \nL 146.960668 167.248946 \nL 147.047004 167.324803 \nL 148.888841 168.90091 \nL 148.91762 168.713561 \nL 149.003956 168.785709 \nL 149.838539 169.474562 \nL 149.867318 169.289367 \nL 149.953654 169.359939 \nL 150.327777 169.663884 \nL 150.356556 169.479817 \nL 150.442892 169.549714 \nL 151.478925 170.376189 \nL 151.507704 170.194621 \nL 151.59404 170.262664 \nL 151.881827 170.488374 \nL 151.910606 170.307713 \nL 151.996942 170.375274 \nL 152.48618 170.755282 \nL 152.514959 170.575929 \nL 152.601295 170.642667 \nL 152.889082 170.864059 \nL 152.917861 170.685592 \nL 153.004197 170.751864 \nL 153.205648 170.905932 \nL 153.234427 170.72817 \nL 153.320763 170.794128 \nL 154.069009 171.359738 \nL 154.184124 171.05118 \nL 154.212903 171.072801 \nL 154.27046 171.115997 \nL 154.299239 170.940544 \nL 154.385575 171.005387 \nL 154.702141 171.241947 \nL 154.730919 171.067397 \nL 154.817256 171.131754 \nL 155.39283 171.557269 \nL 155.536723 171.27469 \nL 156.083519 171.674527 \nL 156.112298 171.502792 \nL 156.198634 171.565593 \nL 156.400085 171.71161 \nL 156.630314 170.729155 \nL 156.659093 170.750243 \nL 156.802987 170.85546 \nL 156.94688 170.578969 \nL 157.292225 170.830709 \nL 157.378561 170.513971 \nL 157.436118 170.5559 \nL 157.723905 170.76467 \nL 157.752684 170.596652 \nL 157.83902 170.659153 \nL 158.011692 170.783767 \nL 158.155586 170.13561 \nL 158.213143 170.177409 \nL 158.328258 170.260835 \nL 158.385816 169.927694 \nL 158.472152 169.990413 \nL 158.529709 170.032154 \nL 158.702381 169.597005 \nL 158.73116 169.617961 \nL 158.846275 169.142571 \nL 158.903832 169.184707 \nL 159.047726 169.289795 \nL 159.076505 169.124923 \nL 159.162841 169.187951 \nL 159.19162 169.208931 \nL 159.364292 168.778876 \nL 159.450628 168.842042 \nL 159.709636 167.924018 \nL 159.882309 168.051446 \nL 160.054981 167.443515 \nL 160.08376 167.464865 \nL 160.170096 167.528829 \nL 160.313989 167.268841 \nL 160.342768 167.290185 \nL 160.486661 167.031123 \nL 160.803227 167.265528 \nL 160.832006 167.104702 \nL 160.918342 167.168471 \nL 161.004678 167.232112 \nL 161.177351 166.81505 \nL 161.40758 166.98491 \nL 161.609031 166.230707 \nL 161.63781 166.252077 \nL 161.810482 166.38 \nL 161.983154 165.968486 \nL 162.098269 166.053861 \nL 162.242163 165.802043 \nL 162.29972 165.844742 \nL 162.472392 165.436582 \nL 162.501171 165.458003 \nL 162.587507 165.165369 \nL 162.645065 165.208317 \nL 162.702622 165.251209 \nL 163.076745 163.754491 \nL 163.105524 163.776313 \nL 163.19186 163.310143 \nL 163.278196 163.375917 \nL 163.508426 163.550685 \nL 163.537205 163.395974 \nL 163.623541 163.461408 \nL 163.65232 163.483191 \nL 163.709877 163.174413 \nL 163.796213 163.239935 \nL 163.824992 163.261748 \nL 163.997664 162.865581 \nL 164.026443 162.887465 \nL 164.170336 162.295706 \nL 164.227894 162.339742 \nL 164.285451 162.383722 \nL 164.429345 162.143954 \nL 164.458123 162.165964 \nL 164.630796 161.774702 \nL 164.688353 161.818846 \nL 164.717132 161.666722 \nL 164.803468 161.732958 \nL 164.889804 161.799066 \nL 164.918583 161.647289 \nL 165.004919 161.713395 \nL 165.033698 161.735402 \nL 165.120034 161.454545 \nL 165.177591 161.498655 \nL 165.263927 161.564713 \nL 165.350263 161.284734 \nL 165.407821 161.328839 \nL 165.609272 161.482766 \nL 165.810723 160.947692 \nL 165.925838 161.035827 \nL 165.954616 160.886018 \nL 166.040952 160.952093 \nL 166.156067 161.04 \nL 166.32874 160.65813 \nL 166.415076 160.724151 \nL 166.443854 160.57524 \nL 166.530191 160.641256 \nL 166.904314 160.925893 \nL 167.019429 160.503543 \nL 167.076986 160.547337 \nL 167.192101 160.634761 \nL 167.451109 159.816493 \nL 167.479888 159.838508 \nL 167.767675 158.878736 \nL 167.825233 158.923184 \nL 167.969126 158.193618 \nL 168.055462 158.26076 \nL 168.141798 158.327778 \nL 168.285692 158.10416 \nL 168.314471 158.126506 \nL 168.343249 157.981423 \nL 168.429585 158.048492 \nL 168.602258 158.18226 \nL 168.717373 157.77092 \nL 168.77493 157.815598 \nL 168.890045 157.904789 \nL 169.033938 157.517408 \nL 169.062717 157.539756 \nL 169.091496 157.56209 \nL 169.120274 157.418375 \nL 169.206611 157.485407 \nL 169.321725 157.574593 \nL 169.350504 157.431225 \nL 169.43684 157.498082 \nL 169.494398 157.542586 \nL 169.551955 157.256479 \nL 169.638291 157.323354 \nL 170.069972 157.655906 \nL 170.098751 157.51364 \nL 170.185087 157.579897 \nL 170.213865 157.601957 \nL 170.357759 157.384287 \nL 170.415316 157.42843 \nL 170.444095 157.286747 \nL 170.530431 157.35297 \nL 170.760661 157.528982 \nL 170.875776 157.290675 \nL 170.904554 157.312662 \nL 170.990891 157.378544 \nL 171.106005 157.140987 \nL 171.134784 157.162967 \nL 171.249899 157.250753 \nL 171.422571 156.895814 \nL 171.537686 156.983657 \nL 171.710358 156.63025 \nL 171.911809 156.783934 \nL 172.170818 156.015621 \nL 172.314711 156.125849 \nL 172.429826 155.892995 \nL 172.458605 155.915044 \nL 172.544941 155.981114 \nL 172.660056 155.748979 \nL 172.688834 155.771018 \nL 172.746392 155.815059 \nL 172.861507 155.264207 \nL 172.947843 155.330578 \nL 173.408302 155.682594 \nL 173.580975 155.179633 \nL 173.609753 155.201633 \nL 173.753647 155.311441 \nL 173.868762 154.92485 \nL 173.926319 154.968858 \nL 173.983876 155.012814 \nL 174.012655 154.876934 \nL 174.098991 154.942872 \nL 174.214106 155.030611 \nL 174.358 154.668125 \nL 174.386778 154.690101 \nL 174.415557 154.712065 \nL 174.674565 153.968411 \nL 174.847238 154.10087 \nL 174.904795 153.832058 \nL 174.991131 153.898309 \nL 175.135025 154.008475 \nL 175.278918 153.65078 \nL 175.307697 153.672846 \nL 175.509148 153.826957 \nL 175.710599 153.359726 \nL 175.739378 153.381781 \nL 175.768156 153.24873 \nL 175.854493 153.314914 \nL 176.171058 153.556624 \nL 176.314952 153.35748 \nL 176.717854 153.66329 \nL 177.005641 152.807756 \nL 177.207092 152.961013 \nL 177.235871 152.829989 \nL 177.322207 152.895577 \nL 177.350986 152.917416 \nL 177.379764 152.786588 \nL 177.4661 152.852121 \nL 177.494879 152.873941 \nL 177.667551 152.395699 \nL 177.69633 152.417604 \nL 177.782666 152.483245 \nL 177.955338 152.158794 \nL 178.099232 152.268221 \nL 178.214347 151.901281 \nL 178.271904 151.945122 \nL 178.444576 152.076354 \nL 178.502134 151.818 \nL 178.58847 151.88363 \nL 178.674806 151.949151 \nL 178.703585 151.820261 \nL 178.789921 151.885762 \nL 178.876257 151.951154 \nL 178.905036 151.822512 \nL 178.991372 151.887885 \nL 179.020151 151.909652 \nL 179.135266 151.696433 \nL 179.164044 151.718222 \nL 179.221602 151.761766 \nL 179.394274 151.442974 \nL 179.451831 151.486573 \nL 179.48061 151.358767 \nL 179.566946 151.424163 \nL 179.71084 151.532916 \nL 179.825955 151.321514 \nL 179.854733 151.343263 \nL 180.056184 151.495172 \nL 180.228857 151.179344 \nL 180.315193 151.244423 \nL 180.343971 151.117729 \nL 180.430307 151.182787 \nL 180.487865 151.2261 \nL 180.689316 150.637933 \nL 180.718095 150.65969 \nL 181.120997 150.963056 \nL 181.207333 150.586291 \nL 181.293669 150.651252 \nL 181.408784 150.737703 \nL 181.49512 150.508898 \nL 181.552677 150.552142 \nL 181.754128 150.70313 \nL 181.984358 149.998452 \nL 182.013137 150.020118 \nL 182.099473 150.085047 \nL 182.185809 149.712425 \nL 182.272145 149.777497 \nL 182.732604 150.122786 \nL 182.847719 149.773884 \nL 182.905277 149.816978 \nL 182.962834 149.860027 \nL 182.991613 149.736805 \nL 183.077949 149.801373 \nL 183.135506 149.844361 \nL 183.2794 149.662942 \nL 183.394515 149.748859 \nL 183.595966 149.323082 \nL 183.653523 149.366118 \nL 183.826195 149.064095 \nL 183.94131 149.150214 \nL 183.970089 149.028285 \nL 184.056425 149.092834 \nL 184.17154 149.178741 \nL 184.344212 148.878443 \nL 184.430548 148.94289 \nL 184.574442 148.622157 \nL 184.60322 148.643673 \nL 184.804671 148.793967 \nL 185.034901 148.112799 \nL 185.06368 148.134357 \nL 186.128492 148.924191 \nL 186.157271 148.804718 \nL 186.243607 148.868173 \nL 186.473837 149.036905 \nL 186.502615 148.917772 \nL 186.588951 148.980943 \nL 187.538649 149.669433 \nL 187.567428 149.551264 \nL 187.653764 149.613354 \nL 187.768879 149.695992 \nL 187.797657 149.578058 \nL 187.883993 149.64 \nL 189.783388 150.979178 \nL 189.95606 150.690825 \nL 192.833931 152.641757 \nL 192.977825 152.47183 \nL 193.553399 152.851011 \nL 193.582178 152.73806 \nL 193.668514 152.794689 \nL 194.963556 153.634343 \nL 194.992335 153.522531 \nL 195.078671 153.577931 \nL 195.165007 153.633252 \nL 195.193786 153.521627 \nL 195.222564 153.410055 \nL 195.308901 153.46543 \nL 196.028368 153.794669 \nL 196.834172 154.174199 \nL 197.496082 154.459437 \nL 197.524861 154.349739 \nL 197.611197 154.403415 \nL 198.819903 155.147013 \nL 198.963797 154.98238 \nL 199.855937 155.397347 \nL 199.884715 155.289505 \nL 199.971052 155.341519 \nL 200.834413 155.73351 \nL 200.863192 155.626429 \nL 200.949528 155.677808 \nL 202.100676 156.233213 \nL 202.215791 156.177613 \nL 202.388463 155.78763 \nL 202.417242 155.804523 \nL 202.503578 155.855156 \nL 202.532357 155.749448 \nL 202.561135 155.643787 \nL 202.647472 155.694472 \nL 202.733808 155.62271 \nL 203.021595 154.936496 \nL 203.079152 154.970489 \nL 203.107931 154.865455 \nL 203.280603 154.479946 \nL 203.309382 154.497015 \nL 203.366939 154.531129 \nL 203.395718 154.426428 \nL 203.625948 153.955091 \nL 203.827399 153.953571 \nL 203.971292 153.796656 \nL 204.287858 153.863754 \nL 204.316637 153.759947 \nL 204.402973 153.8112 \nL 204.633203 153.826957 \nL 204.661981 153.723433 \nL 204.748317 153.774574 \nL 204.892211 153.739314 \nL 205.093662 153.257507 \nL 205.122441 153.274608 \nL 205.410228 153.325336 \nL 205.467785 153.119788 \nL 205.554121 153.171013 \nL 205.698015 153.136634 \nL 205.957023 152.573597 \nL 206.043359 152.505701 \nL 206.072138 152.403581 \nL 206.158474 152.455041 \nL 206.187253 152.472179 \nL 206.216032 152.370178 \nL 206.47504 151.691969 \nL 206.503819 151.709232 \nL 206.590155 151.642185 \nL 206.676491 151.337794 \nL 206.762827 151.389716 \nL 207.13695 151.495626 \nL 207.194508 151.293557 \nL 207.280844 151.345304 \nL 207.424737 151.313355 \nL 207.654967 150.74388 \nL 207.683746 150.761196 \nL 207.885197 150.764562 \nL 208.115426 150.315437 \nL 208.230541 150.267455 \nL 208.25932 150.167492 \nL 208.345656 150.219556 \nL 208.575886 150.241033 \nL 208.604665 150.141334 \nL 208.691001 150.19328 \nL 208.950009 150.232014 \nL 208.978788 150.132595 \nL 209.065124 150.184402 \nL 209.180239 150.253373 \nL 209.209017 150.15412 \nL 209.295354 149.856617 \nL 209.38169 149.908478 \nL 209.496805 149.861296 \nL 209.525583 149.76236 \nL 209.611919 149.814194 \nL 209.755813 149.78443 \nL 209.928485 149.424399 \nL 209.957264 149.441705 \nL 210.360166 149.683212 \nL 210.388945 149.584945 \nL 210.504059 149.307657 \nL 210.561617 149.342164 \nL 210.676732 149.411089 \nL 210.70551 149.313109 \nL 210.993297 148.680431 \nL 211.137191 148.652167 \nL 211.453757 147.81117 \nL 211.482536 147.828622 \nL 211.59765 147.898358 \nL 211.626429 147.801356 \nL 211.82788 147.23773 \nL 211.885437 147.272773 \nL 212.086888 147.281158 \nL 212.259561 146.930383 \nL 212.288339 146.947918 \nL 212.48979 146.956754 \nL 212.604905 146.799498 \nL 212.633684 146.817016 \nL 212.863914 146.843504 \nL 212.892692 146.747612 \nL 212.979028 146.800067 \nL 213.238037 146.843953 \nL 213.38193 146.705087 \nL 213.554603 146.696787 \nL 213.583381 146.601403 \nL 213.669717 146.653687 \nL 213.813611 146.628067 \nL 213.84239 146.532875 \nL 213.928726 146.585105 \nL 214.475521 146.802309 \nL 214.590636 146.647417 \nL 214.619415 146.664717 \nL 215.022317 146.794529 \nL 215.051096 146.700123 \nL 215.137432 146.7518 \nL 215.338883 146.760738 \nL 215.569112 146.341964 \nL 215.597891 146.359206 \nL 215.62667 146.265276 \nL 215.655448 146.171384 \nL 215.741785 146.223163 \nL 215.885678 146.198359 \nL 216.05835 145.969174 \nL 216.202244 145.944684 \nL 216.461252 145.326074 \nL 216.490031 145.343415 \nL 216.605146 145.412705 \nL 216.633925 145.319635 \nL 216.662703 145.226602 \nL 216.749039 145.278588 \nL 216.892933 145.254917 \nL 217.065605 145.028502 \nL 217.238277 145.132357 \nL 217.267056 145.039757 \nL 217.353392 144.872 \nL 217.41095 144.90664 \nL 217.698737 144.969867 \nL 217.84263 144.727779 \nL 217.871409 144.745072 \nL 217.900188 144.762359 \nL 217.928967 144.670262 \nL 217.957745 144.578202 \nL 218.044081 144.630109 \nL 218.101639 144.664678 \nL 218.130417 144.572731 \nL 218.274311 144.33177 \nL 218.30309 144.349091 \nL 218.619656 144.430308 \nL 218.763549 144.19031 \nL 218.792328 144.2076 \nL 218.965 144.202605 \nL 219.19523 143.798436 \nL 219.396681 143.811241 \nL 219.511796 143.664 \nL 219.540574 143.681305 \nL 220.202485 143.969768 \nL 220.461493 143.479146 \nL 220.691723 143.509483 \nL 220.864395 143.291025 \nL 220.97951 143.252766 \nL 221.152182 142.928076 \nL 221.180961 142.945331 \nL 221.353633 142.941906 \nL 221.439969 142.780063 \nL 221.497527 142.814558 \nL 221.64142 142.794069 \nL 221.698978 142.615377 \nL 221.785314 142.667116 \nL 221.929207 142.646812 \nL 221.986765 142.468527 \nL 222.073101 142.52025 \nL 222.591118 142.723398 \nL 222.619896 142.634623 \nL 222.706232 142.686028 \nL 222.76379 142.720265 \nL 222.792569 142.631594 \nL 222.821347 142.542957 \nL 222.907683 142.594346 \nL 223.080356 142.591369 \nL 223.224249 142.465844 \nL 223.396921 142.463023 \nL 223.4257 142.37478 \nL 223.512036 142.426057 \nL 223.540815 142.443136 \nL 223.569594 142.354983 \nL 223.713487 142.124974 \nL 223.742266 142.142088 \nL 223.886159 142.122557 \nL 224.173947 141.559607 \nL 224.260283 141.611098 \nL 224.289061 141.523529 \nL 224.432955 141.295427 \nL 224.461734 141.312619 \nL 224.605627 141.293979 \nL 224.778299 141.083779 \nL 225.066087 141.15123 \nL 225.20998 141.028742 \nL 225.238759 141.045896 \nL 225.267538 140.959005 \nL 225.44021 140.646194 \nL 225.468989 140.663394 \nL 225.641661 140.66268 \nL 225.67044 140.576095 \nL 225.756776 140.627638 \nL 225.814333 140.661968 \nL 225.843112 140.575481 \nL 225.87189 140.489028 \nL 225.958227 140.540552 \nL 226.303571 140.642737 \nL 226.33235 140.556534 \nL 226.418686 140.607863 \nL 226.620137 140.624294 \nL 226.821588 140.33176 \nL 226.879145 140.365961 \nL 226.907924 140.280136 \nL 227.080596 140.074266 \nL 227.109375 140.09139 \nL 227.138154 140.005747 \nL 227.339605 139.715024 \nL 227.65617 139.80104 \nL 227.828843 139.596718 \nL 227.972736 139.580102 \nL 228.059072 139.427148 \nL 228.11663 139.461412 \nL 228.260523 139.546962 \nL 228.289302 139.462064 \nL 228.519532 138.987696 \nL 228.54831 139.004862 \nL 228.749761 139.023165 \nL 228.893655 138.905595 \nL 229.037549 138.889739 \nL 229.210221 138.586885 \nL 229.239 138.60405 \nL 229.382893 138.58851 \nL 229.555565 138.387823 \nL 229.641901 138.338196 \nL 229.814574 138.037139 \nL 229.843352 138.054339 \nL 230.044803 138.073723 \nL 230.275033 137.707457 \nL 230.534041 137.761598 \nL 230.706714 137.362497 \nL 230.764271 137.396942 \nL 232.231985 138.167346 \nL 232.260764 138.084843 \nL 232.3471 138.135595 \nL 233.901151 138.941321 \nL 233.929929 138.859544 \nL 234.016265 138.909343 \nL 236.37612 140.153028 \nL 236.404898 140.072288 \nL 236.491234 140.120677 \nL 237.584825 140.632995 \nL 237.613604 140.55277 \nL 237.69994 140.600544 \nL 239.426663 141.450425 \nL 239.455442 141.370955 \nL 239.541778 141.417766 \nL 239.685671 141.40074 \nL 239.71445 141.321404 \nL 239.800786 141.368168 \nL 241.354836 142.107635 \nL 241.383615 142.028971 \nL 241.469951 142.0749 \nL 243.542018 143.070307 \nL 243.570797 142.9925 \nL 243.657133 143.03734 \nL 243.973699 143.201362 \nL 244.002478 143.12373 \nL 244.088814 142.98346 \nL 244.146371 143.01327 \nL 244.232707 143.057947 \nL 244.261486 142.980459 \nL 244.347822 142.840476 \nL 244.40538 142.870289 \nL 244.520495 142.837625 \nL 244.549273 142.760305 \nL 244.635609 142.805005 \nL 245.06729 142.93589 \nL 245.153626 142.704706 \nL 245.239962 142.749275 \nL 245.29752 142.778963 \nL 245.326298 142.702006 \nL 245.355077 142.625075 \nL 245.441413 142.669632 \nL 245.470192 142.684474 \nL 245.498971 142.607611 \nL 245.7292 142.268369 \nL 245.757979 142.283254 \nL 245.786758 142.206588 \nL 245.844315 142.053333 \nL 245.930651 142.098051 \nL 245.95943 142.112948 \nL 245.988209 142.0364 \nL 246.18966 141.775282 \nL 246.275996 141.82005 \nL 246.304775 141.743694 \nL 246.535004 141.407203 \nL 246.62134 141.360965 \nL 246.678898 141.208738 \nL 246.765234 141.253664 \nL 246.85157 141.298544 \nL 246.880349 141.22253 \nL 247.139357 140.721203 \nL 247.168136 140.736225 \nL 247.312029 140.811257 \nL 247.340808 140.735527 \nL 247.455923 140.523522 \nL 247.51348 140.553571 \nL 247.628595 140.523039 \nL 247.657374 140.447496 \nL 247.74371 140.492547 \nL 247.945161 140.507088 \nL 248.146612 140.250698 \nL 248.376842 140.370657 \nL 248.40562 140.295465 \nL 248.578293 140.115062 \nL 248.894858 140.189851 \nL 249.096309 139.935226 \nL 249.182646 139.980159 \nL 249.211424 139.905379 \nL 249.441654 139.576917 \nL 249.52799 139.532353 \nL 249.729441 139.279407 \nL 249.75822 139.294444 \nL 249.786998 139.220023 \nL 250.046007 138.819297 \nL 250.074786 138.834381 \nL 250.103564 138.760171 \nL 250.161122 138.611823 \nL 250.247458 138.657134 \nL 250.621581 138.763944 \nL 250.823032 138.51345 \nL 250.909368 138.55864 \nL 250.938147 138.484826 \nL 251.139598 138.05757 \nL 251.197155 138.087796 \nL 251.369827 138.089706 \nL 251.600057 137.679088 \nL 251.628836 137.694226 \nL 251.715172 137.651133 \nL 251.743951 137.577803 \nL 251.830287 137.623214 \nL 252.002959 137.713903 \nL 252.031738 137.640682 \nL 252.089295 137.494312 \nL 252.175631 137.539675 \nL 252.290746 137.511901 \nL 252.319525 137.438832 \nL 252.405861 137.484163 \nL 252.578533 137.486647 \nL 252.779984 137.152409 \nL 252.808763 137.167532 \nL 252.981435 137.170317 \nL 253.010214 137.097586 \nL 253.09655 137.142907 \nL 253.269222 137.145712 \nL 253.441895 136.973269 \nL 253.931133 137.141849 \nL 254.046248 136.939952 \nL 254.103805 136.970047 \nL 254.161362 137.000122 \nL 254.190141 136.927897 \nL 254.477928 136.468269 \nL 254.593043 136.441537 \nL 254.938388 135.753299 \nL 254.967166 135.768464 \nL 255.082281 135.829075 \nL 255.11106 135.757407 \nL 255.312511 135.343079 \nL 255.370068 135.373472 \nL 255.398847 135.388661 \nL 255.427626 135.317188 \nL 255.456404 135.245738 \nL 255.54274 135.29133 \nL 255.571519 135.306518 \nL 255.600298 135.235127 \nL 255.77297 134.980239 \nL 255.801749 134.995457 \nL 255.859306 135.025878 \nL 255.888085 134.954645 \nL 256.089536 134.715667 \nL 256.290987 134.735954 \nL 256.377323 134.522969 \nL 256.463659 134.568673 \nL 256.751446 134.634683 \nL 256.952897 134.397193 \nL 257.039233 134.442812 \nL 257.068012 134.372133 \nL 257.211906 134.276496 \nL 257.269463 134.306909 \nL 257.298242 134.23634 \nL 257.32702 134.165793 \nL 257.413357 134.211429 \nL 257.78748 134.323147 \nL 257.845037 134.182426 \nL 257.931373 134.227925 \nL 258.017709 134.187949 \nL 258.075267 134.047447 \nL 258.161603 134.092952 \nL 258.506948 134.189342 \nL 258.67962 134.024591 \nL 258.708399 134.039718 \nL 258.737177 133.969743 \nL 258.765956 133.89979 \nL 258.852292 133.945194 \nL 258.967407 133.920675 \nL 259.140079 133.586767 \nL 259.197637 133.617077 \nL 259.370309 133.623089 \nL 259.542981 133.459638 \nL 259.600539 133.489922 \nL 259.629317 133.420371 \nL 259.945883 132.825816 \nL 259.974662 132.841026 \nL 260.089777 132.901818 \nL 260.118555 132.832542 \nL 260.147334 132.763287 \nL 260.23367 132.808882 \nL 260.435121 132.830786 \nL 260.550236 132.722902 \nL 260.579015 132.738078 \nL 260.722908 132.813889 \nL 260.751687 132.744862 \nL 260.838023 132.622046 \nL 260.89558 132.652378 \nL 261.154589 132.78864 \nL 261.183368 132.719778 \nL 261.327261 132.543612 \nL 261.35604 132.558753 \nL 261.384819 132.573889 \nL 261.413597 132.505144 \nL 261.442376 132.436421 \nL 261.528712 132.48185 \nL 261.58627 132.512113 \nL 261.615048 132.443453 \nL 261.758942 132.351628 \nL 261.931614 132.358726 \nL 262.075508 132.267122 \nL 262.161844 132.228935 \nL 262.24818 132.107281 \nL 262.305737 132.137543 \nL 262.449631 132.213116 \nL 262.47841 132.144817 \nL 262.67986 131.917241 \nL 262.708639 131.932369 \nL 262.737418 131.864207 \nL 262.766197 131.796066 \nL 262.852533 131.84147 \nL 263.312992 131.99989 \nL 263.37055 131.864004 \nL 263.456886 131.909231 \nL 263.80223 132.00691 \nL 264.147575 131.44292 \nL 264.176353 131.458002 \nL 264.205132 131.390441 \nL 264.406583 131.16574 \nL 264.521698 131.143627 \nL 264.636813 130.956639 \nL 264.69437 130.986869 \nL 264.838264 130.98 \nL 264.9246 130.860627 \nL 264.982157 130.89084 \nL 265.068493 130.853862 \nL 265.183608 130.667586 \nL 265.241166 130.697817 \nL 265.413838 130.706284 \nL 265.471395 130.572286 \nL 265.557731 130.6176 \nL 265.989412 130.761687 \nL 266.104527 130.576364 \nL 266.162084 130.606476 \nL 266.334757 130.614985 \nL 266.363535 130.548312 \nL 266.449871 130.593425 \nL 266.564986 130.571892 \nL 266.70888 130.402281 \nL 266.737659 130.417318 \nL 266.766437 130.43235 \nL 266.795216 130.365855 \nL 266.910331 130.263022 \nL 266.93911 130.278064 \nL 267.140561 130.301856 \nL 267.313233 130.147987 \nL 267.428348 130.126816 \nL 267.658577 129.759916 \nL 267.687356 129.774975 \nL 267.83125 129.769117 \nL 267.917586 129.571087 \nL 268.003922 129.616274 \nL 268.147815 129.610544 \nL 268.26293 129.508879 \nL 268.291709 129.523929 \nL 268.435602 129.518275 \nL 268.464381 129.452489 \nL 268.550717 129.497601 \nL 268.72339 129.506993 \nL 269.039955 129.027252 \nL 269.126292 128.991874 \nL 269.15507 128.9264 \nL 269.241406 128.971586 \nL 269.701866 129.131594 \nL 269.730644 129.066292 \nL 269.816981 129.111283 \nL 270.104768 129.180823 \nL 270.27744 129.030278 \nL 270.363776 129.075159 \nL 270.392555 129.010087 \nL 270.565227 128.859915 \nL 270.622784 128.889846 \nL 270.651563 128.824887 \nL 270.824235 128.675076 \nL 271.140801 128.759842 \nL 271.313473 128.610462 \nL 271.514924 128.635433 \nL 271.543703 128.570806 \nL 271.630039 128.6156 \nL 271.745154 128.675263 \nL 271.773933 128.610706 \nL 272.004163 128.253666 \nL 272.032941 128.268613 \nL 273.414319 128.902163 \nL 273.443098 128.838116 \nL 273.529434 128.882365 \nL 274.018672 129.053817 \nL 274.047451 128.989942 \nL 274.133787 129.033991 \nL 276.234633 130.016501 \nL 276.263412 129.953191 \nL 276.349748 129.996343 \nL 277.155552 130.397314 \nL 277.18433 130.334238 \nL 277.328224 130.250975 \nL 278.421815 130.713529 \nL 278.450594 130.650802 \nL 278.53693 130.693194 \nL 279.227619 130.954479 \nL 279.256397 130.891965 \nL 279.342734 130.934088 \nL 280.062201 131.207485 \nL 280.177316 131.110826 \nL 280.206095 131.124777 \nL 281.529916 131.68663 \nL 281.558694 131.62471 \nL 281.64503 131.666058 \nL 282.134268 131.824224 \nL 282.163047 131.762466 \nL 282.249383 131.803636 \nL 282.364498 131.783071 \nL 282.422056 131.65972 \nL 282.508392 131.700882 \nL 282.7674 131.748902 \nL 282.99763 131.482428 \nL 283.026408 131.496139 \nL 283.055187 131.434691 \nL 283.227859 131.291637 \nL 283.371753 131.285168 \nL 283.486868 131.19 \nL 283.515646 131.203719 \nL 283.65954 131.19732 \nL 283.803434 130.966271 \nL 283.860991 130.993725 \nL 284.062442 131.014904 \nL 284.091221 130.953826 \nL 284.177557 130.99495 \nL 284.350229 131.002407 \nL 284.522901 130.860593 \nL 284.609237 130.901671 \nL 284.638016 130.840768 \nL 284.810688 130.699282 \nL 284.868246 130.726678 \nL 284.897025 130.665874 \nL 284.925803 130.605086 \nL 285.012139 130.646191 \nL 285.040918 130.659885 \nL 285.069697 130.59914 \nL 285.299927 130.33684 \nL 285.472599 130.344797 \nL 285.760386 129.962342 \nL 286.048173 130.025471 \nL 286.163288 130.006244 \nL 286.393517 130.041823 \nL 286.537411 129.962382 \nL 286.767641 129.997946 \nL 287.084207 129.558269 \nL 287.371994 129.621552 \nL 287.573445 129.423004 \nL 287.746117 129.431617 \nL 287.861232 129.412865 \nL 287.947568 129.380457 \nL 288.091461 129.302041 \nL 288.465585 129.406312 \nL 288.724593 129.08996 \nL 288.810929 129.057812 \nL 289.01238 128.861129 \nL 289.127495 128.842794 \nL 289.328946 128.646603 \nL 289.645512 128.724106 \nL 289.846963 128.528499 \nL 289.933299 128.496745 \nL 290.192307 128.183644 \nL 290.336201 128.17946 \nL 290.595209 127.867325 \nL 290.739103 127.86336 \nL 290.940554 127.669546 \nL 291.055668 127.652009 \nL 291.170783 127.634491 \nL 291.257119 127.603288 \nL 291.372234 127.585812 \nL 291.487349 127.568355 \nL 291.631243 127.492423 \nL 291.890251 127.543448 \nL 292.091702 127.350958 \nL 292.264374 127.361038 \nL 292.465825 127.169048 \nL 292.667276 127.192927 \nL 292.926285 126.885301 \nL 293.012621 126.854646 \nL 293.127736 126.837705 \nL 293.185293 126.793408 \nL 293.530638 126.31345 \nL 293.588195 126.269372 \nL 293.732089 126.195024 \nL 294.106212 126.301914 \nL 294.336441 126.054925 \nL 294.422778 126.024793 \nL 294.710565 125.663566 \nL 294.912016 125.688581 \nL 295.228581 125.271348 \nL 295.48759 125.324149 \nL 295.631483 125.251056 \nL 295.91927 125.3175 \nL 296.091943 125.187541 \nL 296.178279 125.157987 \nL 296.408509 124.914497 \nL 296.638738 124.953718 \nL 296.782632 124.881245 \nL 296.868968 124.851902 \nL 296.984083 124.836294 \nL 297.358206 124.943907 \nL 297.530878 124.815078 \nL 297.674772 124.813208 \nL 297.962559 124.45881 \nL 298.077674 124.443482 \nL 298.423018 123.977659 \nL 298.624469 124.003777 \nL 298.854699 123.764133 \nL 299.05615 123.790392 \nL 299.228822 123.663425 \nL 299.343937 123.648591 \nL 299.516609 123.521896 \nL 299.602945 123.493432 \nL 299.71806 123.47871 \nL 299.833175 123.464002 \nL 300.005847 123.337724 \nL 300.236077 123.377931 \nL 300.379971 123.30762 \nL 301.099438 123.579847 \nL 301.243332 123.509676 \nL 301.416004 123.522277 \nL 301.646234 123.286072 \nL 301.761349 123.271587 \nL 301.905242 123.201815 \nL 302.020357 123.18739 \nL 302.164251 123.117751 \nL 302.221808 123.076156 \nL 302.336923 123.061815 \nL 302.452038 123.047487 \nL 302.682267 122.812836 \nL 302.85494 122.825886 \nL 303.027612 122.701764 \nL 303.113948 122.674048 \nL 303.430514 122.275965 \nL 303.718301 122.343886 \nL 303.833416 122.330006 \nL 303.919752 122.302528 \nL 304.063645 122.234022 \nL 304.236318 122.247429 \nL 304.380211 122.179052 \nL 304.667998 122.246814 \nL 304.840671 122.124105 \nL 304.898228 122.083243 \nL 305.013343 122.069565 \nL 305.099679 122.042325 \nL 305.214794 122.028679 \nL 305.588917 122.137006 \nL 305.761589 122.014869 \nL 305.96304 122.041868 \nL 306.164491 121.865884 \nL 306.365942 121.892965 \nL 306.509836 121.825437 \nL 307.171746 122.068175 \nL 307.517091 121.62409 \nL 307.689763 121.63775 \nL 307.891214 121.463419 \nL 308.006329 121.450222 \nL 308.20778 121.27629 \nL 308.322894 121.263203 \nL 308.495567 121.143142 \nL 308.610682 121.130137 \nL 308.840911 120.90355 \nL 308.927247 120.877186 \nL 309.042362 120.864336 \nL 309.301371 120.918895 \nL 309.445264 120.85281 \nL 309.560379 120.84 \nL 309.733051 120.720882 \nL 309.819387 120.694686 \nL 309.963281 120.628883 \nL 310.135953 120.643132 \nL 310.337404 120.471463 \nL 310.510076 120.485804 \nL 310.682749 120.367426 \nL 312.495807 121.143052 \nL 312.610922 121.130266 \nL 312.927488 121.210185 \nL 313.071382 121.14493 \nL 314.913219 121.92 \nL 315.028334 121.90697 \nL 315.575129 122.089002 \nL 315.690244 122.075927 \nL 316.093146 122.192416 \nL 316.208261 122.17932 \nL 318.222771 123.012986 \nL 318.424222 122.845058 \nL 318.510558 122.819043 \nL 318.625673 122.805781 \nL 318.91346 122.868848 \nL 319.028575 122.855584 \nL 319.143689 122.842333 \nL 319.258804 122.829094 \nL 319.373919 122.815868 \nL 319.604149 122.597662 \nL 319.690485 122.57186 \nL 319.891936 122.4053 \nL 320.525067 122.620598 \nL 320.726518 122.454563 \nL 320.870412 122.454251 \nL 320.985527 122.441286 \nL 321.158199 122.453626 \nL 321.388429 122.237338 \nL 321.474765 122.211849 \nL 321.618658 122.14827 \nL 321.676216 122.110181 \nL 321.906446 121.894666 \nL 321.964003 121.85668 \nL 322.165454 121.692235 \nL 322.309347 121.692367 \nL 322.424462 121.679833 \nL 322.625913 121.705288 \nL 322.884922 121.440557 \nL 323.057594 121.453499 \nL 323.259045 121.290104 \nL 323.575611 121.366397 \nL 323.690726 121.354078 \nL 323.863398 121.367037 \nL 324.093628 121.154101 \nL 324.237521 121.154543 \nL 324.410193 121.042215 \nL 324.554087 121.04272 \nL 324.669202 121.030598 \nL 324.92821 121.081575 \nL 325.072104 121.019524 \nL 325.15844 120.99483 \nL 325.302333 120.932886 \nL 325.59012 120.996423 \nL 325.82035 120.785292 \nL 325.877908 120.748153 \nL 326.079358 120.587159 \nL 326.136916 120.550103 \nL 326.309588 120.439038 \nL 326.395924 120.414665 \nL 326.626154 120.204742 \nL 326.741269 120.193103 \nL 326.971499 119.983669 \nL 327.144171 119.997399 \nL 327.403179 119.739157 \nL 327.60463 119.765658 \nL 327.748524 119.705013 \nL 327.978753 119.744116 \nL 328.295319 119.388756 \nL 328.381655 119.364932 \nL 328.49677 119.353754 \nL 328.611885 119.342586 \nL 328.842115 119.135467 \nL 329.014787 119.149672 \nL 329.331353 118.796498 \nL 329.705476 118.899318 \nL 329.906927 118.742201 \nL 330.05082 118.743993 \nL 330.194714 118.684505 \nL 330.309829 118.673713 \nL 330.683952 118.225869 \nL 330.856624 118.240585 \nL 331.058075 118.084692 \nL 331.230748 118.099481 \nL 331.40342 117.992272 \nL 331.489756 117.969206 \nL 331.604871 117.958789 \nL 331.691207 117.935753 \nL 331.863879 117.828845 \nL 331.950215 117.805876 \nL 332.151666 117.650986 \nL 332.266781 117.640738 \nL 332.410675 117.582378 \nL 332.468232 117.546905 \nL 332.640904 117.440581 \nL 332.72724 117.41781 \nL 332.899913 117.311679 \nL 333.158921 117.304185 \nL 333.331593 117.198307 \nL 333.446708 117.127801 \nL 333.676938 116.926521 \nL 333.84961 116.88152 \nL 334.137397 116.585382 \nL 334.31007 116.540688 \nL 334.453963 116.483397 \nL 334.74175 116.489419 \nL 334.885644 116.432251 \nL 334.97198 116.349859 \nL 335.144652 116.245352 \nL 335.288546 116.188408 \nL 335.461218 116.084135 \nL 335.777784 116.10321 \nL 335.950456 115.999189 \nL 336.209464 115.993084 \nL 336.410915 115.842113 \nL 336.52603 115.773033 \nL 336.698702 115.669526 \nL 336.785039 115.587956 \nL 337.015268 115.390593 \nL 337.101604 115.309213 \nL 337.216719 115.300187 \nL 337.533285 115.320079 \nL 337.734736 115.170384 \nL 337.907408 115.127231 \nL 338.195195 114.837574 \nL 338.396646 114.807366 \nL 338.713212 114.471962 \nL 339.029778 114.492735 \nL 339.20245 114.391045 \nL 339.547795 114.424515 \nL 339.778024 114.230222 \nL 340.123369 114.263828 \nL 340.267262 114.209027 \nL 340.842837 114.343365 \nL 341.044288 114.196272 \nL 341.188181 114.141697 \nL 341.44719 113.902751 \nL 341.591083 113.848417 \nL 341.907649 113.518163 \nL 342.1091 113.48937 \nL 342.310551 113.343616 \nL 342.540781 113.327613 \nL 342.742232 113.182216 \nL 342.943683 113.153764 \nL 343.145133 113.008716 \nL 343.691929 113.131606 \nL 343.835823 113.078138 \nL 344.238724 113.137831 \nL 344.382618 113.084468 \nL 344.756741 113.1315 \nL 344.900635 113.078243 \nL 345.01575 113.012512 \nL 345.130864 113.004728 \nL 345.476209 113.039234 \nL 345.648881 112.940893 \nL 345.850332 112.912926 \nL 346.080562 112.724432 \nL 346.224455 112.67165 \nL 346.425906 112.528712 \nL 346.5698 112.476102 \nL 346.80003 112.288476 \nL 346.886366 112.211008 \nL 347.030259 112.158655 \nL 349.131105 112.952226 \nL 352.958674 114.515968 \nL 353.102567 114.463565 \nL 353.304018 114.435245 \nL 353.47669 114.338802 \nL 353.735699 114.334623 \nL 353.879592 114.282459 \nL 354.138601 114.278339 \nL 354.282494 114.226279 \nL 354.483945 114.19825 \nL 354.656617 114.10236 \nL 354.858068 114.074457 \nL 354.973183 114.06651 \nL 355.203413 114.050637 \nL 355.318528 114.042709 \nL 355.519979 114.014915 \nL 355.663872 113.963247 \nL 355.778987 113.899672 \nL 355.980438 113.760713 \nL 356.268225 113.769058 \nL 356.38334 113.761276 \nL 356.901357 113.865023 \nL 357.016472 113.857219 \nL 357.217923 113.829725 \nL 357.390595 113.734988 \nL 357.592046 113.707617 \nL 357.822276 113.526298 \nL 358.225178 113.582407 \nL 358.455407 113.401595 \nL 358.743194 113.410232 \nL 359.002203 113.186718 \nL 359.405105 113.243075 \nL 359.577777 113.149422 \nL 359.808007 113.134545 \nL 359.9519 113.084099 \nL 360.095794 113.033703 \nL 360.297245 112.897457 \nL 360.585032 112.906546 \nL 360.901598 112.599267 \nL 361.045491 112.549283 \nL 361.246942 112.413829 \nL 361.50595 112.411503 \nL 361.73618 112.233699 \nL 361.937631 112.207796 \nL 362.081525 112.158188 \nL 362.39809 112.17982 \nL 362.513205 112.17284 \nL 362.714656 112.147049 \nL 362.829771 112.14009 \nL 362.944886 112.078825 \nL 363.088779 112.029455 \nL 363.175116 111.956442 \nL 363.434124 111.737666 \nL 363.606796 111.700407 \nL 363.75069 111.651338 \nL 364.096034 111.685238 \nL 364.211149 111.678496 \nL 364.355043 111.629541 \nL 364.498936 111.580634 \nL 364.757945 111.579079 \nL 364.988174 111.403929 \nL 365.189625 111.378892 \nL 365.53497 111.036158 \nL 365.736421 111.011423 \nL 365.880314 110.963054 \nL 366.168101 110.97388 \nL 366.42711 110.758223 \nL 366.65734 110.745583 \nL 366.801233 110.697498 \nL 367.261692 110.779384 \nL 367.491922 110.606362 \nL 367.722152 110.593887 \nL 367.923603 110.462864 \nL 368.182611 110.462314 \nL 368.44162 110.248588 \nL 368.758185 110.271809 \nL 368.8733 110.265727 \nL 369.161087 110.277125 \nL 369.391317 110.105611 \nL 369.621547 110.093608 \nL 369.851776 109.922506 \nL 369.99567 109.875342 \nL 370.197121 109.745818 \nL 370.427351 109.734128 \nL 370.571244 109.687148 \nL 370.715138 109.640214 \nL 370.945367 109.470096 \nL 371.089261 109.423327 \nL 371.233154 109.376603 \nL 371.463384 109.36524 \nL 371.664835 109.236703 \nL 371.837507 109.201931 \nL 371.981401 109.155432 \nL 372.096516 109.097209 \nL 372.355524 108.887485 \nL 372.528196 108.852996 \nL 372.815983 108.60306 \nL 373.074992 108.604135 \nL 373.247664 108.517457 \nL 373.535451 108.530373 \nL 373.650566 108.525059 \nL 373.79446 108.479168 \nL 374.111025 108.190139 \nL 374.22614 108.132703 \nL 374.398812 108.04663 \nL 374.513927 107.989304 \nL 374.629042 107.984215 \nL 374.772936 107.938733 \nL 375.003165 107.772221 \nL 375.406067 107.832837 \nL 375.665076 107.626508 \nL 375.895305 107.616652 \nL 376.183093 107.370691 \nL 376.47088 107.384575 \nL 376.585994 107.37975 \nL 376.758667 107.346607 \nL 376.960118 107.221669 \nL 377.075233 107.165143 \nL 377.219126 107.120419 \nL 377.334241 107.063979 \nL 377.564471 106.899542 \nL 377.7947 106.890299 \nL 377.938594 106.845812 \nL 378.02493 106.777852 \nL 378.25516 106.614006 \nL 378.427832 106.581481 \nL 378.629283 106.457737 \nL 378.888291 106.460619 \nL 379.060964 106.376815 \nL 379.291193 106.368014 \nL 379.291193 106.368014 \n\" style=\"fill:none;stroke:#c44e52;stroke-linecap:round;stroke-width:1.5;\"/>\n   </g>\n   <g id=\"line2d_20\">\n    <path clip-path=\"url(#p5574e5fc04)\" d=\"M 74.927557 230.64 \nL 75.042672 230.64 \nL 75.07145 140.04 \nL 75.157786 170.24 \nL 75.186565 176.28 \nL 75.215344 131.803636 \nL 75.30168 152.982857 \nL 75.589467 185.34 \nL 75.762139 194.4 \nL 75.877254 166.687059 \nL 75.906033 168.514286 \nL 75.934812 170.24 \nL 75.96359 157.180541 \nL 76.049927 162.69 \nL 76.136263 167.430698 \nL 76.222599 136.10087 \nL 76.308935 141.88898 \nL 76.769394 163.735385 \nL 76.884509 151.857391 \nL 76.913288 152.982857 \nL 77.08596 159.113684 \nL 77.114739 152.982857 \nL 77.201075 155.895 \nL 77.229854 156.817778 \nL 77.258632 151.08878 \nL 77.344968 153.896471 \nL 77.920543 168.514286 \nL 78.553674 179.27622 \nL 78.956576 184.37617 \nL 78.985355 180.873803 \nL 79.071691 181.903448 \nL 79.417036 185.628535 \nL 79.445814 182.472911 \nL 79.53215 183.370435 \nL 79.819938 186.134737 \nL 79.935052 180.939429 \nL 79.963831 181.221818 \nL 80.078946 182.32 \nL 80.136503 176.877363 \nL 80.222839 177.749189 \nL 80.539405 180.717551 \nL 80.568184 178.211574 \nL 80.65452 178.998 \nL 81.517881 185.733913 \nL 81.690554 179.965424 \nL 82.064677 182.611084 \nL 82.093456 180.6288 \nL 82.179792 181.221818 \nL 82.381243 182.552308 \nL 82.410021 180.653793 \nL 82.496358 181.221818 \nL 82.812923 183.198545 \nL 82.841702 181.40087 \nL 82.928038 181.930323 \nL 83.705063 186.228235 \nL 83.733842 184.602215 \nL 83.820178 185.047742 \nL 84.050408 186.194717 \nL 84.136744 181.52972 \nL 84.22308 181.984444 \nL 84.338195 182.577805 \nL 84.45331 179.882169 \nL 84.482089 180.034595 \nL 84.510867 180.186108 \nL 84.539646 178.71403 \nL 84.625982 179.174911 \nL 85.000105 181.081026 \nL 85.11522 175.514366 \nL 85.201556 175.976313 \nL 85.748352 178.731247 \nL 85.77713 177.430476 \nL 85.863467 177.849449 \nL 86.00736 178.533264 \nL 86.093696 176.140257 \nL 86.151254 176.419028 \nL 86.266369 176.968101 \nL 86.295147 175.730909 \nL 86.381483 176.143759 \nL 86.841943 178.244819 \nL 86.870721 177.064038 \nL 86.957058 177.447637 \nL 87.676525 180.442703 \nL 87.762861 178.347383 \nL 87.820419 178.580312 \nL 87.964312 179.153656 \nL 88.02187 176.995263 \nL 88.108206 177.345882 \nL 88.223321 177.806307 \nL 88.280878 175.695484 \nL 88.367214 176.047692 \nL 89.086682 178.816065 \nL 89.115461 177.820567 \nL 89.201797 178.139396 \nL 90.237831 181.685403 \nL 90.266609 180.759101 \nL 90.352945 181.037765 \nL 91.014856 183.075 \nL 91.043634 182.190802 \nL 91.129971 182.448511 \nL 91.273864 182.871986 \nL 91.302643 182.002105 \nL 91.388979 182.256754 \nL 91.446536 182.425043 \nL 91.475315 181.565 \nL 91.561651 181.819275 \nL 91.763102 182.402457 \nL 91.906996 180.970964 \nL 92.338676 182.200396 \nL 92.425012 180.653793 \nL 92.48257 180.817414 \nL 92.7128 181.461325 \nL 92.741578 180.663871 \nL 92.827914 180.904526 \nL 92.885472 181.06368 \nL 92.914251 180.274505 \nL 93.000587 180.514722 \nL 93.086923 180.752658 \nL 93.115702 179.972701 \nL 93.202038 180.211698 \nL 93.518603 181.069057 \nL 93.547382 180.306667 \nL 93.633718 180.538618 \nL 93.892727 181.221818 \nL 93.921505 180.474191 \nL 94.007842 180.700843 \nL 94.03662 180.77594 \nL 94.065399 180.034595 \nL 94.151735 180.261525 \nL 95.274105 183.03661 \nL 95.302883 182.337038 \nL 95.38922 182.540562 \nL 95.504334 182.809274 \nL 95.533113 182.117824 \nL 95.619449 182.32 \nL 95.705785 182.520498 \nL 95.878458 180.679506 \nL 96.195023 181.422162 \nL 96.223802 180.75498 \nL 96.310138 180.956129 \nL 96.454032 181.287797 \nL 96.482811 180.6288 \nL 96.569147 180.828048 \nL 96.71304 181.156623 \nL 96.828155 179.989606 \nL 96.856934 180.05599 \nL 96.94327 180.254099 \nL 97.000827 178.969687 \nL 97.087163 179.170739 \nL 97.317393 179.699307 \nL 97.461287 177.944082 \nL 97.490065 178.01121 \nL 97.60518 178.278023 \nL 97.691516 177.103636 \nL 97.749074 177.238489 \nL 97.892967 177.572666 \nL 97.921746 176.9595 \nL 98.008082 177.16005 \nL 98.06564 177.292919 \nL 98.094418 176.684665 \nL 98.180754 176.884747 \nL 98.986558 178.683011 \nL 99.015337 178.096325 \nL 99.101673 178.283757 \nL 99.965034 180.087072 \nL 99.993813 179.521651 \nL 100.080149 179.696914 \nL 100.310379 180.15846 \nL 100.425494 179.160406 \nL 100.454273 179.218378 \nL 100.483051 179.27622 \nL 100.598166 178.288824 \nL 100.626945 178.347383 \nL 100.655724 178.40581 \nL 100.799617 177.488 \nL 100.857174 177.605854 \nL 101.001068 176.699537 \nL 101.087404 176.877363 \nL 101.116183 176.339671 \nL 101.202519 176.517899 \nL 101.231298 176.577049 \nL 101.260076 176.04262 \nL 101.346413 176.220849 \nL 101.662978 176.864516 \nL 101.691757 176.338389 \nL 101.778093 176.512805 \nL 102.209774 177.368346 \nL 102.238553 176.852211 \nL 102.324889 177.021532 \nL 103.073135 178.445516 \nL 103.101914 177.944082 \nL 103.18825 178.104903 \nL 103.41848 178.529001 \nL 103.562373 177.153253 \nL 103.591152 177.206901 \nL 103.619931 177.260441 \nL 103.706267 176.334306 \nL 103.763824 176.442592 \nL 103.994054 176.871454 \nL 104.08039 175.958343 \nL 104.137947 176.065984 \nL 104.166726 176.119646 \nL 104.31062 175.322583 \nL 104.368177 175.430625 \nL 104.454513 174.003973 \nL 104.540849 174.168932 \nL 104.655964 174.387389 \nL 104.684743 173.916522 \nL 104.771079 174.080462 \nL 104.799858 174.134899 \nL 104.914973 173.309223 \nL 104.943751 173.364138 \nL 105.605662 174.598763 \nL 105.663219 173.686586 \nL 105.749555 173.84597 \nL 105.86467 174.0571 \nL 105.893449 173.604903 \nL 105.979785 173.763333 \nL 106.238793 174.233388 \nL 106.382687 173.497404 \nL 106.555359 173.809091 \nL 106.584138 173.366975 \nL 106.670474 173.522609 \nL 106.728031 173.625895 \nL 106.75681 173.186341 \nL 106.843146 173.341622 \nL 106.900704 173.444676 \nL 106.958261 172.571418 \nL 107.044597 172.727377 \nL 107.130933 172.8825 \nL 107.159712 172.449099 \nL 107.246048 172.604413 \nL 108.166967 174.210934 \nL 108.282082 172.999655 \nL 108.339639 173.098864 \nL 108.742541 173.783878 \nL 108.77132 173.370331 \nL 108.857656 173.515932 \nL 109.087886 173.900606 \nL 109.116664 173.491135 \nL 109.203 173.634966 \nL 109.922468 174.805982 \nL 110.037583 174.098477 \nL 110.066362 174.144746 \nL 110.181476 174.32907 \nL 110.239034 173.53544 \nL 110.32537 173.674606 \nL 110.354149 173.720844 \nL 110.440485 172.538623 \nL 110.526821 172.679418 \nL 111.044838 173.510064 \nL 111.131174 172.350882 \nL 111.21751 172.489445 \nL 111.332625 172.673175 \nL 111.418961 171.953475 \nL 111.476518 172.045822 \nL 111.677969 172.366761 \nL 111.793084 171.70053 \nL 111.821863 171.746469 \nL 112.368658 172.605899 \nL 112.397437 172.233246 \nL 112.483773 172.367412 \nL 112.627667 172.589657 \nL 112.656446 172.219573 \nL 112.742782 172.352852 \nL 113.00179 172.749063 \nL 113.030569 172.382491 \nL 113.116905 172.514096 \nL 113.778815 173.503657 \nL 113.922709 172.110796 \nL 113.980266 172.196996 \nL 115.217751 173.990749 \nL 115.246529 173.643424 \nL 115.332866 173.765125 \nL 115.361644 173.805576 \nL 115.390423 173.459616 \nL 115.476759 173.581277 \nL 115.620653 173.782898 \nL 115.649431 173.439153 \nL 115.735768 173.560085 \nL 116.282563 174.31427 \nL 116.311342 173.97565 \nL 116.397678 174.093537 \nL 116.426457 174.132723 \nL 116.455235 173.795402 \nL 116.541571 173.913255 \nL 116.80058 174.263901 \nL 116.915695 173.673699 \nL 116.944473 173.71269 \nL 117.059588 173.868123 \nL 117.088367 173.536044 \nL 117.174703 173.652662 \nL 117.261039 173.768804 \nL 117.289818 173.438371 \nL 117.376154 173.554634 \nL 117.46249 173.670426 \nL 117.635162 172.802424 \nL 118.527302 173.985119 \nL 118.556081 173.664127 \nL 118.642417 173.776579 \nL 118.671196 173.813964 \nL 118.699975 173.494139 \nL 118.786311 173.606557 \nL 119.24677 174.198728 \nL 119.361885 173.641165 \nL 119.390664 173.678034 \nL 119.419442 173.714855 \nL 119.448221 173.400465 \nL 119.534557 173.51118 \nL 119.620893 173.621467 \nL 119.707229 172.683931 \nL 119.793566 172.795385 \nL 120.254025 173.38264 \nL 120.36914 172.839494 \nL 120.397919 172.876053 \nL 120.570591 173.094442 \nL 120.599369 172.788363 \nL 120.685706 172.897448 \nL 120.714484 172.933719 \nL 120.743263 172.628701 \nL 120.829599 172.737744 \nL 122.441207 174.700533 \nL 122.469986 174.405517 \nL 122.556322 174.507391 \nL 122.901666 174.911223 \nL 122.930445 174.61891 \nL 123.016781 174.719426 \nL 123.304568 175.051891 \nL 123.419683 174.538932 \nL 123.448462 174.572187 \nL 123.563577 174.704814 \nL 123.621134 174.128718 \nL 123.70747 174.228679 \nL 124.024036 174.592197 \nL 124.052815 174.306745 \nL 124.139151 174.405517 \nL 125.002512 175.37452 \nL 125.175184 174.630841 \nL 125.549308 175.044545 \nL 125.578086 174.767428 \nL 125.664422 174.862449 \nL 125.865873 175.082914 \nL 125.894652 174.807494 \nL 125.980988 174.901859 \nL 126.297554 175.245151 \nL 126.326333 174.971953 \nL 126.412669 175.065251 \nL 127.189694 175.891073 \nL 127.218473 175.622178 \nL 127.304809 175.712817 \nL 127.535039 175.953067 \nL 127.621375 175.152445 \nL 127.707711 175.243161 \nL 127.822826 175.363654 \nL 127.937941 174.893717 \nL 127.966719 174.923948 \nL 127.995498 174.954146 \nL 128.024277 174.689837 \nL 128.110613 174.780617 \nL 128.484736 175.170612 \nL 128.599851 174.124244 \nL 128.686187 174.21496 \nL 129.232982 174.782797 \nL 129.261761 174.524595 \nL 129.348097 174.613573 \nL 129.491991 174.761244 \nL 129.578327 174.277263 \nL 129.635884 174.33653 \nL 129.750999 174.45469 \nL 129.779778 174.199098 \nL 129.866114 174.287749 \nL 130.326573 174.755888 \nL 130.355352 174.502792 \nL 130.441688 174.590052 \nL 131.161156 175.306803 \nL 131.247492 174.836323 \nL 131.30505 174.893265 \nL 131.448943 175.035115 \nL 131.506501 174.538932 \nL 131.592837 174.624365 \nL 131.707952 174.737872 \nL 131.765509 174.244251 \nL 131.851845 174.329742 \nL 132.571313 175.032216 \nL 132.600092 174.788828 \nL 132.686428 174.872271 \nL 133.722461 175.854481 \nL 133.75124 175.615452 \nL 133.837576 175.696055 \nL 134.499486 176.306248 \nL 134.528265 176.070116 \nL 134.614601 176.149012 \nL 134.758495 176.28 \nL 134.787274 176.044901 \nL 134.87361 176.123493 \nL 134.931167 176.175762 \nL 134.959946 175.94139 \nL 135.046282 176.019904 \nL 135.247733 176.202232 \nL 135.391626 175.8145 \nL 135.823307 176.202966 \nL 135.909643 175.76717 \nL 135.967201 175.818888 \nL 136.19743 176.024789 \nL 136.226209 175.795326 \nL 136.312545 175.872427 \nL 136.370103 175.923708 \nL 136.398881 175.694937 \nL 136.485217 175.771963 \nL 136.571554 175.848773 \nL 136.600332 175.620784 \nL 136.686668 175.697662 \nL 137.003234 175.97772 \nL 137.032013 175.751255 \nL 137.118349 175.827419 \nL 137.377357 176.054648 \nL 137.406136 175.829503 \nL 137.492472 175.905103 \nL 137.521251 175.930257 \nL 137.55003 175.705687 \nL 137.636366 175.781284 \nL 138.758735 176.745453 \nL 138.787514 176.524865 \nL 138.87385 176.597895 \nL 138.988965 176.694962 \nL 139.017744 176.475189 \nL 139.10408 176.548023 \nL 139.190416 176.620662 \nL 139.363088 176.037321 \nL 139.679654 176.304149 \nL 139.708433 176.086892 \nL 139.794769 176.159468 \nL 139.938663 176.28 \nL 139.967441 176.063618 \nL 140.053777 176.135936 \nL 140.197671 176.256042 \nL 140.312786 175.873436 \nL 140.341565 175.89752 \nL 140.427901 175.969644 \nL 140.485458 175.54057 \nL 140.571794 175.613006 \nL 140.802024 175.80524 \nL 140.945917 175.214118 \nL 140.974696 175.238258 \nL 141.089811 175.334609 \nL 141.176147 174.934572 \nL 141.233705 174.982907 \nL 141.377598 175.103377 \nL 141.406377 174.892185 \nL 141.492713 174.96446 \nL 141.55027 175.012539 \nL 141.579049 174.801934 \nL 141.665385 174.874138 \nL 142.471189 175.539148 \nL 142.499968 175.331188 \nL 142.586304 175.401735 \nL 143.449665 176.097431 \nL 143.478444 175.892203 \nL 143.56478 175.961039 \nL 143.79501 176.143759 \nL 143.910125 175.781284 \nL 143.938903 175.804152 \nL 143.967682 175.827 \nL 144.082797 175.465957 \nL 144.111576 175.488898 \nL 144.140354 175.51182 \nL 144.284248 175.175214 \nL 144.341805 175.221185 \nL 144.485699 174.886154 \nL 144.572035 174.955242 \nL 144.600814 174.75379 \nL 144.68715 174.822928 \nL 144.715928 174.845936 \nL 144.744707 174.644944 \nL 144.831043 174.714074 \nL 145.147609 174.966096 \nL 145.176388 174.76629 \nL 145.262724 174.834847 \nL 145.694405 175.175122 \nL 145.723183 174.976774 \nL 145.809519 175.044545 \nL 146.557766 175.62506 \nL 146.586545 175.42892 \nL 146.672881 175.495333 \nL 146.90311 175.671655 \nL 147.047004 175.130786 \nL 147.075783 175.152919 \nL 147.104561 175.175034 \nL 147.190897 174.808471 \nL 147.248455 174.852888 \nL 147.478685 175.029849 \nL 147.565021 174.665347 \nL 147.622578 174.709648 \nL 147.651357 174.731772 \nL 147.79525 174.412917 \nL 147.852808 174.457278 \nL 147.939144 173.881135 \nL 148.02548 173.948146 \nL 148.140595 174.03725 \nL 148.169374 173.84597 \nL 148.25571 173.912813 \nL 148.284488 173.935059 \nL 148.399603 173.598183 \nL 148.428382 173.620509 \nL 149.090292 174.129216 \nL 149.14785 173.751628 \nL 149.234186 173.8177 \nL 149.349301 173.905559 \nL 149.378079 173.717434 \nL 149.464416 173.783342 \nL 149.723424 173.980154 \nL 149.867318 173.671555 \nL 150.03999 173.802466 \nL 150.068768 173.61611 \nL 150.155105 173.68153 \nL 150.212662 173.725059 \nL 150.241441 173.53916 \nL 150.327777 173.604517 \nL 150.385334 173.648006 \nL 150.442892 173.277257 \nL 150.529228 173.34274 \nL 150.615564 173.408073 \nL 150.644343 173.223283 \nL 150.730679 173.288653 \nL 151.651598 173.976783 \nL 151.766712 173.451082 \nL 151.82427 173.493872 \nL 152.227172 173.791619 \nL 152.25595 173.610536 \nL 152.342287 173.674114 \nL 152.572516 173.842964 \nL 152.601295 173.662667 \nL 152.687631 173.725905 \nL 153.407099 174.247478 \nL 153.522214 173.932094 \nL 153.550992 173.952843 \nL 153.666107 174.035689 \nL 153.723665 173.680088 \nL 153.810001 173.742407 \nL 153.838779 173.76315 \nL 153.925116 173.231406 \nL 154.011452 173.294056 \nL 154.529469 173.667105 \nL 154.615805 173.140072 \nL 154.702141 173.202279 \nL 154.817256 173.285013 \nL 154.903592 172.955827 \nL 154.961149 172.997297 \nL 155.1626 173.141972 \nL 155.277715 172.835059 \nL 155.306494 172.855748 \nL 155.853289 173.246043 \nL 155.882068 173.073262 \nL 155.968404 173.134569 \nL 156.112298 173.236456 \nL 156.141076 173.06423 \nL 156.227412 173.12535 \nL 156.486421 173.307937 \nL 156.5152 173.136474 \nL 156.601536 173.197238 \nL 157.263446 173.658868 \nL 157.40734 172.999819 \nL 157.464897 173.04 \nL 158.702381 173.890549 \nL 158.73116 173.723419 \nL 158.817496 173.781975 \nL 158.846275 173.801467 \nL 158.875054 173.634654 \nL 158.96139 173.693201 \nL 159.105283 173.790513 \nL 159.134062 173.624216 \nL 159.220398 173.682594 \nL 159.767194 174.049563 \nL 159.795972 173.884475 \nL 159.882309 173.942133 \nL 159.911087 173.961327 \nL 159.939866 173.796548 \nL 160.026202 173.854199 \nL 160.285211 174.026451 \nL 160.400325 173.736735 \nL 160.429104 173.755882 \nL 160.544219 173.832339 \nL 160.572998 173.668821 \nL 160.659334 173.726174 \nL 160.74567 173.783413 \nL 160.774449 173.620295 \nL 160.860785 173.677563 \nL 160.947121 173.734716 \nL 161.119793 173.304352 \nL 162.011933 173.891536 \nL 162.040712 173.730753 \nL 162.127048 173.78708 \nL 162.155827 173.805831 \nL 162.184605 173.645341 \nL 162.270941 173.70166 \nL 162.731401 174.000157 \nL 162.846516 173.718534 \nL 162.875294 173.737154 \nL 162.904073 173.755762 \nL 162.932852 173.596653 \nL 163.019188 173.652541 \nL 163.105524 173.70832 \nL 163.19186 173.232438 \nL 163.278196 173.288518 \nL 163.738656 173.585773 \nL 163.853771 173.307874 \nL 163.882549 173.326417 \nL 164.055222 173.437418 \nL 164.084 173.280465 \nL 164.170336 173.335938 \nL 164.199115 173.354405 \nL 164.227894 173.197732 \nL 164.31423 173.253196 \nL 165.925838 174.269213 \nL 165.954616 174.115221 \nL 166.040952 174.168765 \nL 166.386297 174.381931 \nL 166.415076 174.228679 \nL 166.501412 174.281847 \nL 166.789199 174.458353 \nL 166.904314 174.188577 \nL 166.933093 174.206229 \nL 167.048207 174.276727 \nL 167.105765 173.972584 \nL 167.192101 174.025594 \nL 167.508667 174.219117 \nL 167.537445 174.067773 \nL 167.623782 174.120447 \nL 168.487143 174.641845 \nL 168.659815 174.24442 \nL 169.033938 174.468554 \nL 169.062717 174.319584 \nL 169.149053 174.371176 \nL 169.350504 174.491188 \nL 169.379283 174.342711 \nL 169.465619 174.394108 \nL 169.782185 174.581765 \nL 169.810964 174.433936 \nL 169.8973 174.485017 \nL 170.674325 174.940601 \nL 170.703104 174.79404 \nL 170.78944 174.844322 \nL 171.019669 174.977964 \nL 171.106005 174.54009 \nL 171.192342 174.590389 \nL 171.307456 174.657313 \nL 171.422571 174.399928 \nL 171.45135 174.416692 \nL 171.480129 174.433445 \nL 171.508907 174.288257 \nL 171.595244 174.338571 \nL 171.969367 174.555565 \nL 172.084482 173.978111 \nL 172.170818 174.028402 \nL 172.717613 174.344854 \nL 172.746392 174.201529 \nL 172.832728 174.251284 \nL 172.976622 174.334014 \nL 173.062958 174.064802 \nL 173.120515 174.097955 \nL 173.23563 174.164144 \nL 173.264409 174.021627 \nL 173.350745 174.071277 \nL 173.811204 174.334617 \nL 173.839983 174.19288 \nL 173.926319 174.242092 \nL 174.645787 174.648886 \nL 174.732123 174.383903 \nL 174.78968 174.416318 \nL 174.933574 174.497192 \nL 174.991131 174.216883 \nL 175.077467 174.26551 \nL 175.192582 174.330215 \nL 175.25014 174.050726 \nL 175.336476 174.09937 \nL 176.055944 174.501508 \nL 176.084722 174.362867 \nL 176.171058 174.410844 \nL 177.207092 174.980253 \nL 177.235871 174.843037 \nL 177.322207 174.89007 \nL 177.984117 175.24804 \nL 178.012896 175.111783 \nL 178.099232 175.158238 \nL 178.243126 175.235489 \nL 178.271904 175.099577 \nL 178.35824 175.145925 \nL 178.415798 175.176781 \nL 178.444576 175.041112 \nL 178.530913 175.087431 \nL 178.732364 175.195211 \nL 178.876257 174.971027 \nL 179.307938 175.201191 \nL 179.394274 174.947574 \nL 179.451831 174.978233 \nL 179.682061 175.100533 \nL 179.71084 174.966524 \nL 179.797176 175.012346 \nL 179.854733 175.042852 \nL 179.883512 174.909079 \nL 179.969848 174.954873 \nL 180.056184 175.000591 \nL 180.084963 174.867086 \nL 180.171299 174.912827 \nL 180.487865 175.079902 \nL 180.516644 174.946921 \nL 180.60298 174.992409 \nL 180.861988 175.12843 \nL 180.890767 174.995906 \nL 180.977103 175.041194 \nL 181.005882 175.056273 \nL 181.03466 174.923948 \nL 181.120997 174.969233 \nL 182.243366 175.551314 \nL 182.272145 175.420381 \nL 182.358481 175.464746 \nL 182.473596 175.523788 \nL 182.502375 175.393143 \nL 182.588711 175.437435 \nL 182.675047 175.481656 \nL 182.847719 175.135121 \nL 183.164285 175.297416 \nL 183.193064 175.167664 \nL 183.2794 175.211853 \nL 183.423293 175.285346 \nL 183.452072 175.155907 \nL 183.538408 175.2 \nL 183.682302 175.273333 \nL 183.797417 175.044545 \nL 183.826195 175.059234 \nL 183.912531 175.103252 \nL 183.970089 174.845699 \nL 184.056425 174.889829 \nL 184.286655 175.007167 \nL 184.430548 174.651771 \nL 184.459327 174.666478 \nL 184.574442 174.725227 \nL 184.660778 174.484153 \nL 184.718335 174.513585 \nL 184.862229 174.58703 \nL 184.891008 174.459466 \nL 184.977344 174.503529 \nL 185.034901 174.532866 \nL 185.06368 174.405517 \nL 185.150016 174.449554 \nL 185.95582 174.857258 \nL 185.984598 174.730881 \nL 186.070935 174.7743 \nL 186.934296 175.204809 \nL 186.963075 175.079445 \nL 187.049411 175.122217 \nL 187.27964 175.235954 \nL 187.394755 175.01452 \nL 187.423534 175.028747 \nL 187.452313 175.042966 \nL 187.567428 174.822069 \nL 187.596206 174.836323 \nL 187.624985 174.850569 \nL 187.768879 174.644488 \nL 187.826436 174.673028 \nL 187.970329 174.467539 \nL 188.056666 174.510397 \nL 188.085444 174.386453 \nL 188.17178 174.429329 \nL 188.200559 174.443607 \nL 188.229338 174.319837 \nL 188.315674 174.36271 \nL 188.63224 174.519352 \nL 188.661019 174.396033 \nL 188.747355 174.438686 \nL 189.179035 174.65098 \nL 189.207814 174.528218 \nL 189.29415 174.570566 \nL 190.042397 174.934926 \nL 190.071175 174.813013 \nL 190.157511 174.854831 \nL 190.387741 174.96604 \nL 190.531635 174.629447 \nL 190.560413 174.643384 \nL 190.589192 174.657313 \nL 190.675528 174.428814 \nL 190.733086 174.456745 \nL 190.963315 174.568192 \nL 191.049651 174.340496 \nL 191.107209 174.36838 \nL 191.135988 174.382312 \nL 191.279881 174.183027 \nL 191.337439 174.210934 \nL 191.423775 173.849978 \nL 191.510111 173.892024 \nL 191.625226 173.947988 \nL 191.654004 173.827971 \nL 191.74034 173.869951 \nL 191.769119 173.88393 \nL 191.884234 173.672325 \nL 191.913013 173.686335 \nL 192.574923 174.006691 \nL 192.63248 173.768624 \nL 192.718817 173.810298 \nL 192.833931 173.865769 \nL 192.86271 173.747002 \nL 192.949046 173.78861 \nL 193.208055 173.913072 \nL 193.351948 173.717843 \nL 193.52462 173.800699 \nL 193.553399 173.682639 \nL 193.639735 173.724052 \nL 193.697293 173.751628 \nL 193.726071 173.633752 \nL 193.812408 173.67514 \nL 193.869965 173.7027 \nL 193.927522 173.467369 \nL 194.013859 173.508809 \nL 194.100195 173.550188 \nL 194.128973 173.432759 \nL 194.21531 173.474153 \nL 195.136228 173.911996 \nL 195.251343 173.576298 \nL 195.308901 173.603576 \nL 195.711802 173.793788 \nL 195.740581 173.677866 \nL 195.826917 173.718534 \nL 196.057147 173.826698 \nL 196.085926 173.7111 \nL 196.172262 173.751628 \nL 196.89173 174.087134 \nL 197.006844 173.884214 \nL 197.035623 173.897587 \nL 197.150738 173.951017 \nL 197.208295 173.721882 \nL 197.294631 173.762032 \nL 197.32341 173.775402 \nL 197.409746 173.432389 \nL 197.496082 173.472676 \nL 198.014099 173.713212 \nL 198.100435 173.372165 \nL 198.186772 173.412269 \nL 198.301886 173.465653 \nL 198.388222 173.252258 \nL 198.44578 173.278994 \nL 198.647231 173.372372 \nL 198.762346 173.172993 \nL 198.791124 173.186341 \nL 199.33792 173.438797 \nL 199.366699 173.326335 \nL 199.453035 173.366063 \nL 199.596928 173.432153 \nL 199.625707 173.319926 \nL 199.712043 173.359576 \nL 199.971052 173.478196 \nL 199.99983 173.366294 \nL 200.086166 173.405793 \nL 200.748077 173.706819 \nL 200.89197 173.275176 \nL 200.949528 173.30137 \nL 202.187012 173.858811 \nL 202.215791 173.74877 \nL 202.302127 173.787323 \nL 202.330906 173.800163 \nL 202.359684 173.69026 \nL 202.446021 173.728809 \nL 202.589914 173.792941 \nL 202.618693 173.683263 \nL 202.705029 173.721738 \nL 203.251824 173.964215 \nL 203.280603 173.855064 \nL 203.366939 173.893226 \nL 203.395718 173.905935 \nL 203.424497 173.796919 \nL 203.510833 173.835077 \nL 203.769841 173.949245 \nL 203.884956 173.757269 \nL 203.913735 173.769958 \nL 204.230301 173.788198 \nL 204.259079 173.679911 \nL 204.345415 173.717901 \nL 204.489309 173.660386 \nL 204.604424 173.469732 \nL 204.633203 173.482413 \nL 205.496564 173.860273 \nL 205.525343 173.75302 \nL 205.611679 173.790594 \nL 206.216032 173.933097 \nL 206.331146 173.744708 \nL 206.359925 173.757163 \nL 206.590155 173.737815 \nL 206.676491 173.418947 \nL 206.762827 173.456412 \nL 207.309623 173.574406 \nL 207.338401 173.468683 \nL 207.424737 173.505928 \nL 207.683746 173.499558 \nL 207.712524 173.39415 \nL 207.798861 173.431338 \nL 209.410468 174.116765 \nL 209.439247 174.012578 \nL 209.525583 174.048893 \nL 210.27383 174.246122 \nL 210.388945 174.06311 \nL 210.417723 174.075124 \nL 210.532838 174.123132 \nL 210.561617 174.019805 \nL 210.590395 173.916522 \nL 210.676732 173.95259 \nL 211.971774 174.374033 \nL 212.144446 174.102864 \nL 212.835135 174.272547 \nL 212.863914 174.170914 \nL 212.95025 174.206229 \nL 214.158956 174.583707 \nL 214.187734 174.482975 \nL 214.27407 174.517762 \nL 214.5043 174.610315 \nL 214.533079 174.509827 \nL 214.590636 174.308974 \nL 214.676972 174.343768 \nL 214.878423 174.313026 \nL 214.993538 174.135974 \nL 215.022317 174.147579 \nL 215.453997 174.321081 \nL 215.482776 174.221331 \nL 215.569112 173.922324 \nL 215.655448 173.957113 \nL 216.461252 174.169254 \nL 216.547588 173.982787 \nL 216.605146 174.0058 \nL 217.295835 174.170639 \nL 217.324614 174.072209 \nL 217.41095 174.106478 \nL 218.187975 174.303868 \nL 218.216754 174.206024 \nL 218.30309 174.24 \nL 218.418205 174.285238 \nL 218.446983 174.187554 \nL 218.475762 174.08991 \nL 218.562098 174.123894 \nL 218.677213 174.169143 \nL 218.705992 174.071659 \nL 218.73477 173.974214 \nL 218.821107 174.008206 \nL 220.691723 174.627525 \nL 220.720501 174.531297 \nL 220.806838 174.564497 \nL 221.727756 174.809659 \nL 221.756535 174.714074 \nL 221.842871 174.746933 \nL 222.216994 174.782684 \nL 222.360888 174.625012 \nL 222.850126 174.704501 \nL 222.878905 174.609662 \nL 222.965241 174.642332 \nL 223.339364 174.678077 \nL 223.368143 174.583555 \nL 223.454479 174.616133 \nL 223.972496 174.705869 \nL 224.001274 174.611743 \nL 224.08761 174.644167 \nL 224.490512 174.690404 \nL 224.519291 174.596607 \nL 224.605627 174.628927 \nL 225.958227 175.026893 \nL 225.987005 174.933943 \nL 226.073341 174.965757 \nL 226.159678 174.997534 \nL 226.188456 174.904714 \nL 226.33235 174.75106 \nL 226.907924 174.859765 \nL 226.936703 174.767428 \nL 227.023039 174.799137 \nL 227.253269 174.780839 \nL 227.282047 174.688725 \nL 227.368383 174.720408 \nL 227.397162 174.730961 \nL 227.425941 174.638943 \nL 227.45472 174.546961 \nL 227.541056 174.578688 \nL 227.771285 174.663117 \nL 227.800064 174.571338 \nL 227.915179 174.409043 \nL 227.943958 174.419616 \nL 228.11663 174.380872 \nL 228.145409 174.289352 \nL 228.231745 174.321081 \nL 228.519532 174.324751 \nL 228.54831 174.233482 \nL 228.634647 174.265159 \nL 230.418927 174.811355 \nL 230.447705 174.72111 \nL 230.534041 174.75213 \nL 230.850607 174.765263 \nL 230.965722 174.605997 \nL 230.994501 174.616327 \nL 231.109616 174.557465 \nL 231.253509 174.408967 \nL 231.426181 174.371054 \nL 231.570075 174.223027 \nL 232.116871 174.319736 \nL 232.145649 174.230556 \nL 232.231985 174.261511 \nL 233.527027 174.623164 \nL 233.555806 174.534722 \nL 233.642142 174.565236 \nL 233.872372 174.646445 \nL 233.901151 174.55819 \nL 234.016265 174.402127 \nL 234.045044 174.412297 \nL 234.13138 174.344536 \nL 234.160159 174.25648 \nL 234.246495 174.287029 \nL 234.505503 174.280462 \nL 234.649397 174.13537 \nL 234.822069 174.098557 \nL 234.908405 173.835755 \nL 234.994742 173.866389 \nL 235.25375 173.860531 \nL 235.368865 173.706284 \nL 235.397643 173.716493 \nL 236.059554 173.950286 \nL 236.088333 173.863353 \nL 236.117111 173.776451 \nL 236.203447 173.806887 \nL 236.692685 173.882049 \nL 236.836579 173.739271 \nL 237.181923 173.763958 \nL 237.210702 173.67766 \nL 237.297038 173.707943 \nL 237.354596 173.728113 \nL 237.383374 173.641913 \nL 237.412153 173.555743 \nL 237.498489 173.586053 \nL 238.620859 173.881624 \nL 238.735974 173.635047 \nL 238.793531 173.655066 \nL 239.541778 173.819025 \nL 239.570556 173.733953 \nL 239.656893 173.763773 \nL 240.462696 173.946101 \nL 240.491475 173.861481 \nL 240.577811 173.891068 \nL 240.635369 173.910776 \nL 240.664147 173.82625 \nL 240.692926 173.741753 \nL 240.779262 173.771367 \nL 240.808041 173.781232 \nL 240.83682 173.696816 \nL 240.894377 173.528072 \nL 240.980713 173.557761 \nL 241.49873 173.73525 \nL 241.527509 173.651192 \nL 241.585066 173.483163 \nL 241.671402 173.512752 \nL 241.844074 173.478131 \nL 241.959189 173.423876 \nL 242.218198 173.418947 \nL 242.333313 173.364854 \nL 243.081559 173.526653 \nL 243.196674 173.472763 \nL 244.232707 173.730143 \nL 244.434158 173.428661 \nL 245.815536 173.799522 \nL 245.930651 173.74631 \nL 246.736455 173.922063 \nL 246.85157 173.869054 \nL 247.254472 173.910997 \nL 247.398366 173.776937 \nL 247.714931 173.790575 \nL 247.830046 173.737953 \nL 247.97394 173.694872 \nL 248.117833 173.561548 \nL 249.125088 173.801744 \nL 249.240203 173.749541 \nL 249.786998 173.83796 \nL 249.930892 173.705899 \nL 250.103564 173.67272 \nL 250.247458 173.541034 \nL 250.794253 173.629594 \nL 250.909368 173.577999 \nL 251.168377 173.573094 \nL 251.283491 173.521645 \nL 253.355558 174.097184 \nL 253.470673 174.046027 \nL 253.844797 174.076925 \nL 253.959911 174.025921 \nL 254.046248 173.96588 \nL 254.161362 173.915004 \nL 255.456404 174.235218 \nL 255.629077 174.029427 \nL 256.319766 174.158718 \nL 256.43488 174.108358 \nL 257.643586 174.396661 \nL 257.758701 174.346516 \nL 258.017709 174.340707 \nL 258.161603 174.214183 \nL 258.363054 174.190871 \nL 258.506948 174.064702 \nL 258.967407 174.121238 \nL 259.140079 173.919475 \nL 259.945883 174.081928 \nL 260.089777 173.956923 \nL 260.780466 174.083381 \nL 260.89558 174.034275 \nL 261.672606 174.186009 \nL 261.78772 174.137074 \nL 261.931614 174.096901 \nL 262.046729 174.048089 \nL 262.190622 174.008039 \nL 262.305737 173.959349 \nL 264.176353 174.436868 \nL 264.291468 174.388427 \nL 265.212387 174.578424 \nL 265.327502 174.530162 \nL 265.701625 174.55819 \nL 265.845519 174.436594 \nL 266.334757 174.498509 \nL 266.449871 174.450577 \nL 266.823995 174.478596 \nL 266.93911 174.430799 \nL 267.457126 174.500768 \nL 267.572241 174.453114 \nL 267.975143 174.489337 \nL 268.090258 174.441817 \nL 269.442857 174.75213 \nL 269.557972 174.704814 \nL 269.673087 174.657553 \nL 269.816981 174.538361 \nL 270.392555 174.623512 \nL 270.50767 174.576501 \nL 270.737899 174.562528 \nL 270.853014 174.515635 \nL 270.910572 174.452304 \nL 271.025686 174.405517 \nL 271.284695 174.400023 \nL 271.428588 174.281997 \nL 271.601261 174.251939 \nL 271.716375 174.205434 \nL 272.004163 174.208463 \nL 272.119277 174.162078 \nL 273.903557 174.589848 \nL 274.018672 174.543686 \nL 274.335238 174.554286 \nL 274.479132 174.437952 \nL 274.594246 174.39201 \nL 274.73814 174.275945 \nL 274.910812 174.246388 \nL 275.054706 174.130611 \nL 275.601501 174.206619 \nL 275.716616 174.161066 \nL 277.011658 174.445553 \nL 277.126773 174.400182 \nL 277.385781 174.394861 \nL 277.529675 174.280392 \nL 277.616011 174.227223 \nL 277.731126 174.182111 \nL 277.990134 174.177084 \nL 278.134028 174.06311 \nL 278.3067 174.034228 \nL 278.479372 173.851705 \nL 278.738381 173.847116 \nL 278.882274 173.733792 \nL 279.572963 173.849393 \nL 279.688078 173.804924 \nL 280.177316 173.864169 \nL 280.32121 173.751628 \nL 280.666554 173.771077 \nL 280.781669 173.726888 \nL 280.868005 173.674791 \nL 280.98312 173.6307 \nL 282.10549 173.864 \nL 282.278162 173.684963 \nL 283.026408 173.814558 \nL 283.141523 173.770846 \nL 283.947327 173.91522 \nL 284.062442 173.871646 \nL 284.148778 173.820305 \nL 284.263893 173.776825 \nL 284.32145 173.717752 \nL 284.465344 173.607536 \nL 285.012139 173.681501 \nL 285.156033 173.571673 \nL 285.328705 173.544158 \nL 285.44382 173.501072 \nL 285.702828 173.497065 \nL 285.817943 173.454081 \nL 286.56619 173.582325 \nL 286.681305 173.53947 \nL 287.717338 173.743935 \nL 287.918789 173.503983 \nL 289.300167 173.799141 \nL 289.415282 173.756716 \nL 290.221086 173.896937 \nL 290.336201 173.854641 \nL 290.739103 173.88816 \nL 290.882996 173.781106 \nL 291.199562 173.791996 \nL 291.314677 173.749947 \nL 291.45857 173.715508 \nL 291.602464 173.608924 \nL 292.609719 173.800925 \nL 292.724834 173.759144 \nL 293.271629 173.829931 \nL 293.415523 173.724156 \nL 293.588195 173.69756 \nL 293.732089 173.592025 \nL 294.278884 173.662904 \nL 294.393999 173.621513 \nL 294.653007 173.617528 \nL 294.768122 173.57623 \nL 296.840189 174.038496 \nL 296.955304 173.997387 \nL 297.329427 174.022326 \nL 297.444542 173.981316 \nL 297.530878 173.93302 \nL 297.645993 173.892093 \nL 298.941035 174.150289 \nL 299.113707 173.984474 \nL 299.804396 174.088906 \nL 299.919511 174.048313 \nL 301.128217 174.281521 \nL 301.243332 174.241068 \nL 301.50234 174.236495 \nL 301.646234 174.134301 \nL 301.847685 174.115526 \nL 301.991578 174.013565 \nL 302.452038 174.059401 \nL 302.62471 173.896211 \nL 303.430514 174.027835 \nL 303.574407 173.926635 \nL 304.265096 174.02921 \nL 304.380211 173.989436 \nL 305.157236 174.112666 \nL 305.272351 174.073004 \nL 305.416245 174.040449 \nL 305.53136 174.000868 \nL 305.675253 173.968395 \nL 305.790368 173.928894 \nL 307.660984 174.317448 \nL 307.776099 174.278112 \nL 308.697018 174.433205 \nL 308.812133 174.393986 \nL 309.186256 174.41703 \nL 309.330149 174.318075 \nL 309.819387 174.368776 \nL 309.934502 174.329776 \nL 310.308625 174.352812 \nL 310.42374 174.3139 \nL 310.941757 174.371236 \nL 311.056872 174.33242 \nL 311.459774 174.36219 \nL 311.574889 174.323463 \nL 312.927488 174.577758 \nL 313.042603 174.539166 \nL 313.157718 174.500611 \nL 313.301611 174.403254 \nL 313.877185 174.473237 \nL 313.9923 174.434848 \nL 314.22253 174.42355 \nL 314.337645 174.38524 \nL 314.395202 174.333439 \nL 314.510317 174.295201 \nL 314.769325 174.290822 \nL 314.913219 174.194245 \nL 315.085891 174.169691 \nL 315.201006 174.131641 \nL 315.488793 174.134211 \nL 315.603908 174.096241 \nL 317.388188 174.447785 \nL 317.503303 174.409964 \nL 317.819869 174.418841 \nL 317.963762 174.3234 \nL 318.078877 174.285728 \nL 318.222771 174.190467 \nL 318.395443 174.16625 \nL 318.539336 174.071184 \nL 319.086132 174.133789 \nL 319.201247 174.096379 \nL 320.496289 174.330837 \nL 320.611404 174.293549 \nL 320.870412 174.28928 \nL 321.014306 174.195098 \nL 321.100642 174.15135 \nL 321.215757 174.114238 \nL 321.474765 174.110168 \nL 321.618658 174.016321 \nL 321.791331 173.992559 \nL 321.964003 173.84219 \nL 322.223011 173.838418 \nL 322.366905 173.745012 \nL 323.057594 173.840325 \nL 323.172709 173.803649 \nL 323.661947 173.85254 \nL 323.80584 173.759667 \nL 324.151185 173.775712 \nL 324.2663 173.739227 \nL 324.352636 173.696207 \nL 324.467751 173.659788 \nL 325.59012 173.85249 \nL 325.762793 173.704495 \nL 326.511039 173.811634 \nL 326.626154 173.775475 \nL 327.431958 173.894974 \nL 327.547073 173.858909 \nL 327.633409 173.816406 \nL 327.748524 173.780405 \nL 327.806081 173.731488 \nL 327.949975 173.640205 \nL 328.49677 173.701416 \nL 328.640664 173.610398 \nL 328.813336 173.587569 \nL 328.928451 173.551839 \nL 329.187459 173.548465 \nL 329.302574 173.512805 \nL 330.05082 173.619021 \nL 330.165935 173.58345 \nL 331.201969 173.753047 \nL 331.40342 173.553766 \nL 332.784798 173.798889 \nL 332.899913 173.763614 \nL 333.705717 173.880254 \nL 333.820831 173.845068 \nL 334.223733 173.872982 \nL 334.367627 173.783878 \nL 334.684193 173.792941 \nL 334.799308 173.757927 \nL 334.943201 173.729243 \nL 335.087095 173.640465 \nL 336.09435 173.800379 \nL 336.209464 173.765551 \nL 336.75626 173.82457 \nL 336.900153 173.736353 \nL 337.072826 173.71416 \nL 337.216719 173.626111 \nL 337.763515 173.685194 \nL 337.87863 173.650637 \nL 338.137638 173.647281 \nL 338.252753 173.61279 \nL 340.32482 173.999037 \nL 340.439935 173.964678 \nL 340.814058 173.985584 \nL 340.929173 173.951294 \nL 341.015509 173.910899 \nL 341.130624 173.876666 \nL 342.425666 174.092969 \nL 342.598338 173.954126 \nL 343.289027 174.041716 \nL 343.404142 174.007717 \nL 344.612848 174.203508 \nL 344.727963 174.169608 \nL 344.986971 174.165839 \nL 345.130864 174.080128 \nL 345.332315 174.064412 \nL 345.476209 173.978864 \nL 345.936668 174.017405 \nL 346.109341 173.880407 \nL 346.915144 173.991037 \nL 347.059038 173.906025 \nL 347.749727 173.992305 \nL 347.864842 173.958882 \nL 348.641867 174.062624 \nL 348.756982 174.029281 \nL 348.900875 174.001916 \nL 349.01599 173.96863 \nL 349.159884 173.941322 \nL 349.274999 173.908093 \nL 351.145615 174.235625 \nL 351.26073 174.202512 \nL 352.181648 174.333534 \nL 352.296763 174.300504 \nL 352.786001 174.2871 \nL 352.901116 174.254161 \nL 353.620584 174.287455 \nL 353.735699 174.254615 \nL 354.426388 174.282006 \nL 354.541503 174.249262 \nL 356.181889 174.466888 \nL 356.297004 174.434273 \nL 356.642348 174.392114 \nL 356.786242 174.309832 \nL 357.620825 174.365448 \nL 357.793497 174.289196 \nL 358.225178 174.264622 \nL 358.426628 174.139147 \nL 358.800752 174.103396 \nL 358.944645 174.07696 \nL 360.872819 174.348926 \nL 361.016712 174.322559 \nL 361.390836 174.286891 \nL 361.592287 174.162787 \nL 361.880074 174.110397 \nL 362.052746 174.03543 \nL 363.117558 174.135996 \nL 363.261452 174.10994 \nL 364.355043 174.215423 \nL 364.556494 174.092638 \nL 364.959396 174.063316 \nL 365.132068 173.989172 \nL 365.30474 173.915116 \nL 365.477412 173.841149 \nL 365.793978 173.795402 \nL 365.937872 173.769754 \nL 366.772454 173.825171 \nL 366.916348 173.799594 \nL 367.463143 173.798883 \nL 367.607037 173.773379 \nL 367.837267 173.711264 \nL 367.98116 173.685837 \nL 369.10353 173.796764 \nL 369.276202 173.723821 \nL 370.830252 173.916981 \nL 371.002925 173.844393 \nL 371.261933 173.788456 \nL 371.463384 173.668821 \nL 372.01018 173.668361 \nL 372.154073 173.643311 \nL 372.585754 173.620858 \nL 372.758426 173.54887 \nL 373.909574 173.664023 \nL 374.053468 173.639134 \nL 374.772936 173.671555 \nL 374.945608 173.600061 \nL 376.528437 173.795653 \nL 376.672331 173.770917 \nL 377.708364 173.862163 \nL 377.881036 173.791254 \nL 378.370274 173.779801 \nL 378.571725 173.662972 \nL 379.291193 173.797644 \nL 379.291193 173.797644 \n\" style=\"fill:none;stroke:#8172b3;stroke-linecap:round;stroke-width:1.5;\"/>\n   </g>\n   <g id=\"line2d_21\">\n    <path clip-path=\"url(#p5574e5fc04)\" d=\"M 74.927557 230.64 \nL 74.956336 230.64 \nL 74.985114 49.44 \nL 75.07145 140.04 \nL 75.272901 188.824615 \nL 75.53191 205.930909 \nL 75.848476 214.167273 \nL 75.934812 215.54 \nL 75.96359 201.256216 \nL 76.049927 203.46 \nL 76.136263 205.356279 \nL 76.165041 193.576364 \nL 76.251377 195.942128 \nL 76.711837 204.754286 \nL 77.229854 210.506667 \nL 77.805428 214.493465 \nL 77.834207 209.322353 \nL 77.920543 209.931429 \nL 78.006879 210.506667 \nL 78.035657 205.70422 \nL 78.121994 206.372143 \nL 78.755125 210.356418 \nL 78.783904 206.48 \nL 78.87024 207.005217 \nL 78.899019 207.175252 \nL 78.927798 203.46 \nL 79.014134 204.03021 \nL 79.76238 208.124024 \nL 80.078946 209.5 \nL 80.107725 206.613481 \nL 80.194061 207.005217 \nL 80.481848 208.223505 \nL 80.510627 205.550769 \nL 80.596963 205.930909 \nL 80.65452 206.178 \nL 80.683299 203.595224 \nL 80.769635 203.992941 \nL 80.827192 204.25165 \nL 80.855971 201.753043 \nL 80.942307 202.165714 \nL 81.402767 204.181593 \nL 81.489103 199.780611 \nL 81.54666 200.047792 \nL 81.892005 201.558519 \nL 81.949562 197.358367 \nL 82.035898 197.760968 \nL 82.640251 200.327732 \nL 82.66903 198.426667 \nL 82.755366 198.780659 \nL 83.647506 202.029474 \nL 83.791399 198.973981 \nL 84.338195 200.808293 \nL 84.366974 199.246687 \nL 84.45331 199.530361 \nL 84.798654 200.615581 \nL 84.827433 199.126957 \nL 84.913769 199.398621 \nL 85.11522 200.014648 \nL 85.259114 197.42 \nL 85.77713 199.001905 \nL 85.805909 197.651082 \nL 85.892245 197.910157 \nL 85.921024 197.995614 \nL 86.093696 194.306838 \nL 86.180032 194.584898 \nL 86.208811 193.293435 \nL 86.295147 193.576364 \nL 87.446296 196.976697 \nL 87.475074 195.809794 \nL 87.56141 196.047273 \nL 88.280878 197.907097 \nL 88.309657 196.810815 \nL 88.395993 197.027207 \nL 89.403248 199.361429 \nL 89.432027 198.346931 \nL 89.518363 198.537638 \nL 90.46806 200.495823 \nL 90.611954 198.780659 \nL 92.079668 201.502312 \nL 92.943029 202.896459 \nL 92.971808 202.075032 \nL 93.058144 202.21084 \nL 93.777612 203.294268 \nL 93.806391 202.508493 \nL 93.892727 202.636364 \nL 94.151735 203.013094 \nL 94.180514 202.242985 \nL 94.26685 202.369569 \nL 95.15899 203.614432 \nL 95.187769 202.881702 \nL 95.274105 202.999322 \nL 95.504334 203.308156 \nL 95.533113 202.588117 \nL 95.619449 202.705 \nL 95.936015 203.125363 \nL 95.964794 202.420328 \nL 96.05113 202.53551 \nL 96.28136 202.838116 \nL 96.310138 202.144839 \nL 96.396474 202.259277 \nL 98.209533 204.466667 \nL 98.929001 205.250299 \nL 98.95778 204.630431 \nL 99.044116 204.723433 \nL 99.706026 205.414942 \nL 99.734805 204.814276 \nL 99.821141 204.903741 \nL 101.17374 206.228609 \nL 101.202519 205.660569 \nL 101.288855 205.74229 \nL 101.749314 206.16926 \nL 101.778093 205.613448 \nL 101.864429 205.693575 \nL 102.29611 206.086639 \nL 102.324889 205.541994 \nL 102.411225 205.620753 \nL 102.583897 205.776798 \nL 102.612676 205.238131 \nL 102.699012 205.317019 \nL 103.648709 206.153514 \nL 103.763824 205.167218 \nL 103.792603 205.19259 \nL 105.058866 206.260992 \nL 105.087645 205.766025 \nL 105.173981 205.836958 \nL 107.044597 207.280286 \nL 107.073376 206.814955 \nL 107.159712 206.878715 \nL 107.907958 207.417332 \nL 107.936737 206.964042 \nL 108.023073 207.025752 \nL 108.598647 207.429069 \nL 108.627426 206.985051 \nL 108.713762 207.045447 \nL 108.886435 207.165318 \nL 108.915213 206.725279 \nL 109.001549 206.785823 \nL 109.577124 207.181743 \nL 109.605902 206.750448 \nL 109.692238 206.809727 \nL 112.397437 208.528872 \nL 112.944233 208.846657 \nL 112.973011 208.452245 \nL 113.059347 208.502443 \nL 114.642177 209.384098 \nL 114.670955 209.006136 \nL 114.757291 209.052996 \nL 114.78607 209.068571 \nL 114.843628 208.316369 \nL 114.929964 208.364515 \nL 115.649431 208.757797 \nL 115.67821 208.389612 \nL 115.764546 208.43662 \nL 116.973252 209.074473 \nL 117.002031 208.717649 \nL 117.088367 208.76251 \nL 117.347375 208.896 \nL 117.376154 208.542439 \nL 117.46249 208.587262 \nL 118.872647 209.29445 \nL 118.901426 208.952884 \nL 118.987762 208.995352 \nL 119.419442 209.205223 \nL 119.448221 208.867907 \nL 119.534557 208.910019 \nL 119.736008 209.007651 \nL 119.764787 208.672842 \nL 119.851123 208.715032 \nL 120.484255 209.019545 \nL 120.570591 208.37535 \nL 120.628148 208.403373 \nL 120.887157 208.528611 \nL 120.944714 207.87675 \nL 121.03105 207.919351 \nL 121.146165 207.975905 \nL 121.174944 207.65194 \nL 121.26128 207.694749 \nL 121.318837 207.723199 \nL 121.405173 207.09297 \nL 121.462731 207.122077 \nL 121.664182 207.223385 \nL 121.69296 206.903469 \nL 121.779297 206.947182 \nL 123.70747 207.88316 \nL 123.880142 207.005217 \nL 124.714725 207.401179 \nL 124.743504 207.100739 \nL 124.82984 207.141441 \nL 126.096103 207.722631 \nL 126.124882 207.430112 \nL 126.211218 207.469164 \nL 127.362366 207.977575 \nL 127.391145 207.691974 \nL 127.477481 207.729655 \nL 127.678932 207.817099 \nL 127.707711 207.533297 \nL 127.794047 207.571012 \nL 129.376876 208.241268 \nL 129.405655 207.966082 \nL 129.491991 208.00194 \nL 129.923672 208.17954 \nL 129.95245 207.90712 \nL 130.038786 207.942714 \nL 130.067565 207.954554 \nL 130.096344 207.682961 \nL 130.18268 207.718813 \nL 130.41291 207.813872 \nL 130.441688 207.544041 \nL 130.528024 207.579886 \nL 131.880624 208.127273 \nL 131.909403 207.86423 \nL 131.995739 207.898669 \nL 133.031772 208.30396 \nL 133.060551 208.046037 \nL 133.146887 208.079526 \nL 133.233223 208.112916 \nL 133.262002 207.855976 \nL 133.348338 207.889631 \nL 133.463453 207.934349 \nL 133.492232 207.678507 \nL 133.578568 207.71229 \nL 134.125363 207.923965 \nL 134.154142 207.670986 \nL 134.240478 207.704403 \nL 134.729716 207.891948 \nL 134.87361 207.424837 \nL 135.76575 207.765106 \nL 135.794528 207.519017 \nL 135.880864 207.551751 \nL 136.053537 207.616941 \nL 136.082315 207.372079 \nL 136.168652 207.404866 \nL 136.398881 207.491848 \nL 136.42766 207.248419 \nL 136.513996 207.281196 \nL 138.499727 208.010498 \nL 138.528506 207.774871 \nL 138.614842 207.805854 \nL 139.046523 207.959515 \nL 139.075301 207.725919 \nL 139.161637 207.756704 \nL 139.564539 207.899279 \nL 139.593318 207.66758 \nL 139.679654 207.698196 \nL 140.111335 207.850062 \nL 140.255228 207.421506 \nL 140.341565 207.452137 \nL 140.370343 207.223385 \nL 140.456679 207.254223 \nL 140.600573 207.30544 \nL 140.629352 207.077653 \nL 140.715688 207.108561 \nL 141.204926 207.282187 \nL 141.233705 207.056486 \nL 141.320041 207.08714 \nL 142.471189 207.488382 \nL 142.499968 207.26682 \nL 142.586304 207.296633 \nL 144.22669 207.848966 \nL 144.255469 207.632863 \nL 144.341805 207.661467 \nL 146.615323 208.38992 \nL 146.701659 207.980922 \nL 146.759217 207.999071 \nL 146.787996 208.008135 \nL 146.816774 207.799664 \nL 146.90311 207.82705 \nL 147.449906 207.998985 \nL 147.536242 207.595151 \nL 147.593799 207.613397 \nL 147.651357 207.631614 \nL 147.680136 207.425765 \nL 147.766472 207.45327 \nL 148.514718 207.688944 \nL 148.543497 207.485487 \nL 148.629833 207.5126 \nL 149.378079 207.744946 \nL 149.493194 207.360833 \nL 149.521973 207.369811 \nL 149.608309 207.396703 \nL 149.637088 207.196334 \nL 149.723424 207.223385 \nL 151.219917 207.682534 \nL 151.306253 207.298983 \nL 151.36381 207.316553 \nL 154.730919 208.300274 \nL 154.759698 208.112432 \nL 154.846034 208.13676 \nL 155.39283 208.289625 \nL 155.507945 207.933395 \nL 155.536723 207.941499 \nL 155.565502 207.949597 \nL 155.62306 207.578182 \nL 155.709396 207.602821 \nL 156.112298 207.717108 \nL 156.169855 207.348357 \nL 156.256191 207.373074 \nL 157.522454 207.729655 \nL 157.551233 207.548357 \nL 157.637569 207.572452 \nL 158.788718 207.888988 \nL 158.932611 207.369452 \nL 158.96139 207.377419 \nL 159.450628 207.512022 \nL 159.479407 207.33493 \nL 159.565743 207.358695 \nL 159.997423 207.476794 \nL 160.026202 207.300852 \nL 160.112538 207.324498 \nL 160.486661 207.426416 \nL 160.51544 207.251496 \nL 160.601776 207.275057 \nL 161.350023 207.477284 \nL 161.378801 207.304093 \nL 161.465138 207.327367 \nL 161.724146 207.396911 \nL 161.752925 207.224493 \nL 161.839261 207.247746 \nL 162.587507 207.447351 \nL 162.616286 207.276614 \nL 162.702622 207.299587 \nL 162.904073 207.353015 \nL 162.932852 207.182923 \nL 163.019188 207.205905 \nL 163.508426 207.335291 \nL 163.537205 207.166364 \nL 163.623541 207.189205 \nL 164.141558 207.325327 \nL 164.170336 207.157602 \nL 164.256672 207.18029 \nL 165.004919 207.375101 \nL 165.033698 207.208966 \nL 165.120034 207.231388 \nL 165.20637 207.253767 \nL 165.235149 207.088041 \nL 165.321485 207.110528 \nL 165.897059 207.259355 \nL 166.040952 206.952978 \nL 166.09851 206.967927 \nL 166.127289 206.803912 \nL 166.213625 206.826448 \nL 167.278437 207.100935 \nL 167.307216 206.938972 \nL 167.393552 206.961095 \nL 167.738896 207.049175 \nL 167.767675 206.888032 \nL 167.854011 206.910093 \nL 168.141798 206.983333 \nL 168.170577 206.822907 \nL 168.256913 206.844932 \nL 170.818218 207.480324 \nL 170.904554 207.175252 \nL 170.962112 207.189311 \nL 171.365014 207.287255 \nL 171.422571 206.97703 \nL 171.508907 206.998177 \nL 172.890285 207.331454 \nL 172.919064 207.178696 \nL 173.0054 207.199343 \nL 173.062958 207.213087 \nL 173.091736 207.060633 \nL 173.178073 207.081347 \nL 173.753647 207.218515 \nL 173.782425 207.067125 \nL 173.868762 207.087688 \nL 174.530672 207.244159 \nL 174.559451 207.093942 \nL 174.645787 207.114322 \nL 175.106246 207.222424 \nL 175.135025 207.073075 \nL 175.221361 207.093356 \nL 176.027165 207.280979 \nL 176.171058 207.005217 \nL 177.609994 207.33633 \nL 177.725109 207.058136 \nL 177.753887 207.064734 \nL 177.92656 207.104246 \nL 177.955338 206.959017 \nL 178.041675 206.978839 \nL 178.099232 206.992036 \nL 178.128011 206.847081 \nL 178.214347 206.866964 \nL 178.933815 207.031369 \nL 178.962593 206.887566 \nL 179.048929 206.907256 \nL 179.423053 206.992203 \nL 179.451831 206.849083 \nL 179.538167 206.868713 \nL 179.624504 206.88831 \nL 179.653282 206.745495 \nL 179.739618 206.765172 \nL 179.969848 206.817486 \nL 179.998627 206.675159 \nL 180.084963 206.694829 \nL 180.574201 206.805686 \nL 180.60298 206.664176 \nL 180.689316 206.683743 \nL 182.070694 206.992524 \nL 182.099473 206.85294 \nL 182.185809 206.872082 \nL 182.905277 207.030408 \nL 182.934055 206.891891 \nL 183.020391 206.910854 \nL 186.790402 207.71037 \nL 186.905517 207.594265 \nL 187.106968 207.63564 \nL 187.222083 207.519939 \nL 188.027887 207.68462 \nL 188.143002 207.569809 \nL 188.459568 207.634121 \nL 188.574682 207.519797 \nL 188.948806 207.59564 \nL 189.06392 207.481845 \nL 189.322929 207.534266 \nL 189.438044 207.420905 \nL 189.725831 207.479098 \nL 189.869724 207.235945 \nL 190.41652 207.346726 \nL 190.531635 207.234624 \nL 190.934537 207.315893 \nL 191.049651 207.204321 \nL 191.510111 207.296861 \nL 191.625226 207.185858 \nL 192.833931 207.426237 \nL 192.977825 207.189549 \nL 193.32317 207.257934 \nL 193.438284 207.148667 \nL 193.553399 207.171458 \nL 193.668514 207.062486 \nL 193.98508 207.125162 \nL 194.100195 207.01663 \nL 194.589433 207.113191 \nL 194.704548 207.005217 \nL 196.085926 207.274624 \nL 196.201041 207.167829 \nL 196.402491 207.206746 \nL 196.517606 207.100293 \nL 197.179517 207.227715 \nL 197.294631 207.121919 \nL 197.956542 207.248419 \nL 198.071657 207.143271 \nL 198.791124 207.279721 \nL 198.906239 207.175252 \nL 199.453035 207.278262 \nL 199.56815 207.174349 \nL 200.316396 207.314346 \nL 200.431511 207.211114 \nL 200.575404 207.237939 \nL 200.690519 207.13499 \nL 201.812889 207.342857 \nL 201.928004 207.240816 \nL 202.618693 207.367355 \nL 202.733808 207.265934 \nL 202.762586 207.271195 \nL 202.90648 207.05304 \nL 203.050373 207.079524 \nL 203.165488 206.978703 \nL 203.597169 207.058068 \nL 203.712284 206.957694 \nL 204.402973 207.084 \nL 204.518088 206.984227 \nL 205.554121 207.171806 \nL 205.669236 207.072835 \nL 205.928244 207.11942 \nL 206.043359 207.020777 \nL 206.388704 207.08281 \nL 206.503819 206.984544 \nL 207.021835 207.07729 \nL 207.13695 206.979499 \nL 207.36718 207.020621 \nL 207.482295 206.923134 \nL 208.000312 207.015438 \nL 208.115426 206.918419 \nL 208.25932 206.944014 \nL 208.403214 206.735193 \nL 208.92123 206.827589 \nL 209.036345 206.731397 \nL 209.554362 206.823373 \nL 209.669477 206.727636 \nL 210.446502 206.864713 \nL 210.561617 206.769571 \nL 210.70551 206.794863 \nL 210.820625 206.699962 \nL 211.194748 206.765676 \nL 211.338642 206.561536 \nL 211.568872 206.602097 \nL 211.683986 206.507957 \nL 211.799101 206.528249 \nL 211.914216 206.434329 \nL 213.439488 206.700823 \nL 213.554603 206.60787 \nL 215.770563 206.985904 \nL 215.885678 206.894256 \nL 218.821107 207.378572 \nL 218.936221 207.288551 \nL 219.483017 207.268662 \nL 219.598132 207.179141 \nL 219.770804 207.099118 \nL 219.885919 207.009909 \nL 220.921952 207.07043 \nL 221.037067 206.981946 \nL 221.526305 206.95419 \nL 221.64142 206.866162 \nL 224.173947 207.164696 \nL 224.289061 207.078066 \nL 225.267538 207.127349 \nL 225.382652 207.041377 \nL 226.850367 207.166364 \nL 226.965481 207.081257 \nL 227.45472 207.054261 \nL 227.569834 206.969576 \nL 228.260523 206.974172 \nL 228.375638 206.889991 \nL 229.584344 206.974437 \nL 229.699459 206.890976 \nL 230.476484 206.909034 \nL 230.591599 206.8261 \nL 231.368624 206.844377 \nL 231.483739 206.761963 \nL 233.440691 206.958025 \nL 233.584585 206.782329 \nL 234.447946 206.813377 \nL 234.563061 206.732574 \nL 235.91566 206.836247 \nL 236.030775 206.756164 \nL 236.203447 206.684746 \nL 236.318562 206.604914 \nL 237.613604 206.700064 \nL 237.728719 206.620912 \nL 238.275514 206.605545 \nL 238.390629 206.52678 \nL 238.620859 206.465136 \nL 238.735974 206.386636 \nL 239.512999 206.406084 \nL 239.628114 206.32805 \nL 239.71445 206.245867 \nL 239.829565 206.16804 \nL 240.664147 206.196875 \nL 240.779262 206.119528 \nL 241.124607 206.076357 \nL 241.239722 205.999308 \nL 242.045525 206.024504 \nL 242.189419 205.858648 \nL 242.966444 205.880137 \nL 243.081559 205.804066 \nL 244.578052 205.930909 \nL 244.693167 205.855525 \nL 244.865839 205.788662 \nL 244.980954 205.713503 \nL 245.182405 205.651121 \nL 245.29752 205.576193 \nL 247.225693 205.765852 \nL 247.340808 205.691736 \nL 248.146612 205.717475 \nL 248.290506 205.55771 \nL 248.549514 205.505031 \nL 248.664629 205.431653 \nL 249.873335 205.516382 \nL 249.988449 205.44355 \nL 251.484942 205.568488 \nL 251.600057 205.496287 \nL 252.405861 205.522296 \nL 252.520976 205.450499 \nL 253.844797 205.549424 \nL 253.959911 205.478187 \nL 254.823273 205.511977 \nL 254.938388 205.441151 \nL 256.348544 205.550769 \nL 256.463659 205.480514 \nL 256.66511 205.422331 \nL 256.780225 205.352278 \nL 258.737177 205.536368 \nL 258.852292 205.467034 \nL 259.283973 205.441124 \nL 259.427866 205.291216 \nL 260.147334 205.305217 \nL 260.262449 205.236553 \nL 261.845278 205.367956 \nL 261.960393 205.299877 \nL 262.852533 205.336922 \nL 262.996426 205.189939 \nL 263.974902 205.238904 \nL 264.090017 205.17167 \nL 264.26269 205.11228 \nL 264.377804 205.045225 \nL 265.672846 205.136968 \nL 265.787961 205.070393 \nL 266.219642 205.046318 \nL 266.334757 204.979988 \nL 267.917586 205.10936 \nL 268.032701 205.043576 \nL 268.665832 205.046476 \nL 268.780947 204.980983 \nL 270.075989 205.071082 \nL 270.191104 205.006048 \nL 271.025686 205.035363 \nL 271.140801 204.970664 \nL 271.716375 204.966247 \nL 271.83149 204.901815 \nL 272.464622 204.905113 \nL 272.579737 204.840961 \nL 272.896303 204.803198 \nL 273.011417 204.739245 \nL 273.61577 204.73929 \nL 273.730885 204.675606 \nL 276.781428 204.990449 \nL 276.896543 204.927619 \nL 277.903798 204.978134 \nL 278.018913 204.915659 \nL 278.853495 204.944219 \nL 278.997389 204.809036 \nL 281.098235 204.996343 \nL 281.21335 204.934825 \nL 281.529916 204.898496 \nL 281.673809 204.765094 \nL 282.10549 204.7435 \nL 282.220605 204.682421 \nL 283.688319 204.789966 \nL 283.803434 204.729324 \nL 285.069697 204.810998 \nL 285.184812 204.750743 \nL 285.875501 204.761348 \nL 285.990616 204.70135 \nL 289.645512 205.069965 \nL 289.760627 205.010855 \nL 291.516128 205.146337 \nL 291.631243 205.087696 \nL 292.494604 205.117186 \nL 292.609719 205.058824 \nL 293.357965 205.074831 \nL 293.47308 205.016722 \nL 294.250105 205.036169 \nL 294.36522 204.978316 \nL 294.59545 204.934001 \nL 294.710565 204.876292 \nL 295.746598 204.926317 \nL 295.861713 204.868914 \nL 296.552402 204.878639 \nL 296.696296 204.824819 \nL 300.034626 205.138121 \nL 300.17852 205.084967 \nL 300.955545 205.103603 \nL 301.099438 205.050687 \nL 303.229063 205.220842 \nL 303.401735 205.103123 \nL 303.660743 205.063651 \nL 303.804637 205.011385 \nL 307.056631 205.302997 \nL 307.200525 205.251348 \nL 307.632205 205.23122 \nL 307.776099 205.179743 \nL 308.812133 205.22563 \nL 308.956026 205.174415 \nL 309.387707 205.15458 \nL 309.5316 205.103535 \nL 310.970536 205.19292 \nL 311.114429 205.142193 \nL 311.690004 205.138104 \nL 311.833897 205.087565 \nL 313.704513 205.222213 \nL 313.848407 205.172049 \nL 315.085891 205.238131 \nL 315.229785 205.188246 \nL 315.747802 205.178033 \nL 315.891695 205.128321 \nL 317.388188 205.221249 \nL 317.532082 205.171847 \nL 319.8056 205.344395 \nL 319.949493 205.295408 \nL 320.438731 205.282194 \nL 320.582625 205.23337 \nL 321.35965 205.249995 \nL 321.503544 205.201372 \nL 321.848888 205.173597 \nL 321.992782 205.125115 \nL 323.086373 205.174508 \nL 323.230266 205.126267 \nL 324.467751 205.190092 \nL 324.611644 205.142109 \nL 325.100882 205.129441 \nL 325.244776 205.081614 \nL 325.877908 205.083756 \nL 326.021801 205.036104 \nL 328.583106 205.232944 \nL 328.727 205.185714 \nL 329.504025 205.201953 \nL 329.676697 205.096388 \nL 331.345862 205.201643 \nL 331.489756 205.154939 \nL 332.756019 205.21942 \nL 332.899913 205.172962 \nL 333.130142 205.135085 \nL 333.274036 205.088741 \nL 333.84961 205.085121 \nL 333.993504 205.038934 \nL 334.74175 205.052449 \nL 334.885644 205.006438 \nL 335.576333 205.014343 \nL 335.749005 204.911359 \nL 336.842596 204.959051 \nL 336.98649 204.91346 \nL 337.187941 204.873575 \nL 337.331834 204.828091 \nL 337.475728 204.782657 \nL 337.6484 204.68057 \nL 338.741991 204.728874 \nL 338.885884 204.683737 \nL 339.576573 204.692365 \nL 339.720467 204.64739 \nL 340.037033 204.61942 \nL 340.180926 204.574563 \nL 340.612607 204.558033 \nL 340.756501 204.513306 \nL 341.562304 204.533589 \nL 341.706198 204.489035 \nL 343.202691 204.576587 \nL 343.375363 204.47681 \nL 343.720708 204.452226 \nL 343.864601 204.408072 \nL 344.612848 204.422843 \nL 344.78552 204.323685 \nL 345.274758 204.313443 \nL 345.418652 204.269617 \nL 346.828808 204.348837 \nL 346.972702 204.305242 \nL 347.145374 204.264482 \nL 347.289268 204.220983 \nL 348.238965 204.25554 \nL 348.411637 204.157803 \nL 349.505228 204.206296 \nL 349.649122 204.163201 \nL 349.994466 204.139571 \nL 350.167139 204.04253 \nL 351.663632 204.12982 \nL 351.836304 204.03337 \nL 352.642108 204.054237 \nL 352.786001 204.011707 \nL 355.088298 204.174675 \nL 355.232192 204.132455 \nL 356.872578 204.231182 \nL 357.016472 204.189199 \nL 357.419374 204.116174 \nL 357.563267 204.074331 \nL 359.923121 204.184507 \nL 360.527474 204.130942 \nL 360.671368 204.089547 \nL 363.894583 204.277403 \nL 366.571003 204.412037 \nL 366.714897 204.371361 \nL 367.117799 204.300508 \nL 367.290471 204.209055 \nL 368.470398 204.208709 \nL 368.643071 204.117731 \nL 370.2259 204.153935 \nL 370.398572 204.063529 \nL 373.161328 204.204801 \nL 373.334 204.115256 \nL 376.585994 204.297464 \nL 376.729888 204.258192 \nL 377.593249 204.230074 \nL 377.737143 204.190965 \nL 379.291193 204.274603 \nL 379.291193 204.274603 \n\" style=\"fill:none;stroke:#937860;stroke-linecap:round;stroke-width:1.5;\"/>\n   </g>\n   <g id=\"line2d_22\">\n    <path clip-path=\"url(#p5574e5fc04)\" d=\"M 74.927557 230.64 \nL 75.100229 230.64 \nL 75.129008 162.69 \nL 75.215344 181.221818 \nL 75.474352 203.46 \nL 75.762139 212.52 \nL 75.790918 195.569032 \nL 75.877254 198.663529 \nL 75.934812 200.44 \nL 75.96359 186.564324 \nL 76.049927 189.87 \nL 76.481607 200.989091 \nL 76.942067 207.670986 \nL 76.970845 200.44 \nL 77.057181 201.648 \nL 77.603977 207.508085 \nL 78.20833 211.732174 \nL 78.87024 214.883478 \nL 79.618487 217.381463 \nL 80.107725 218.62674 \nL 80.136503 215.705934 \nL 80.222839 215.948108 \nL 80.280397 216.105241 \nL 80.337954 210.506667 \nL 80.42429 210.82125 \nL 80.769635 211.987059 \nL 80.88475 207.118846 \nL 80.913528 207.231388 \nL 80.971086 207.45327 \nL 80.999865 204.998491 \nL 81.086201 205.356279 \nL 81.978341 208.542439 \nL 82.122234 208.982629 \nL 82.266128 205.15875 \nL 82.381243 205.550769 \nL 82.410021 204.605517 \nL 82.496358 204.901364 \nL 82.812923 205.930909 \nL 82.841702 204.05087 \nL 82.928038 204.336774 \nL 83.733842 206.735765 \nL 83.762621 205.048442 \nL 83.848957 205.295305 \nL 83.99285 205.696329 \nL 84.021629 204.060189 \nL 84.107965 204.309375 \nL 85.201556 207.104246 \nL 86.00736 208.811503 \nL 86.036139 207.463256 \nL 86.122475 207.641538 \nL 87.35996 209.92545 \nL 87.993091 210.927033 \nL 88.02187 209.778158 \nL 88.108206 209.91451 \nL 89.086682 211.343854 \nL 89.115461 210.28251 \nL 89.201797 210.405392 \nL 89.719814 211.112621 \nL 89.748592 210.096977 \nL 89.834929 210.215723 \nL 91.331421 212.075727 \nL 91.417758 212.172753 \nL 91.446536 211.259478 \nL 91.532872 211.360069 \nL 91.82066 211.687959 \nL 91.849438 210.797216 \nL 91.935774 210.89777 \nL 92.7128 211.758901 \nL 92.741578 210.912581 \nL 92.827914 211.007576 \nL 93.115702 211.317725 \nL 93.14448 210.919495 \nL 93.230816 211.01237 \nL 94.986318 212.727679 \nL 95.302883 213.005585 \nL 95.446777 211.987059 \nL 95.705785 212.219253 \nL 95.936015 209.818112 \nL 95.993572 209.874925 \nL 96.482811 210.3456 \nL 96.540368 208.95383 \nL 96.626704 209.04 \nL 96.71304 209.125488 \nL 96.741819 208.437628 \nL 96.828155 208.525039 \nL 97.144721 208.839741 \nL 97.202278 207.493161 \nL 97.288614 207.582416 \nL 97.317393 207.612015 \nL 97.490065 205.710573 \nL 97.518844 205.74229 \nL 97.547623 205.083202 \nL 97.633959 205.180253 \nL 97.662738 205.21244 \nL 97.691516 204.558182 \nL 97.777853 204.656604 \nL 98.209533 205.137778 \nL 98.238312 204.49894 \nL 98.324648 204.595283 \nL 100.2816 206.603265 \nL 101.260076 207.495459 \nL 101.288855 206.927895 \nL 101.375191 207.005217 \nL 102.699012 208.130683 \nL 102.727791 207.59181 \nL 102.814127 207.663093 \nL 103.763824 208.419063 \nL 103.878939 207.427686 \nL 103.907718 207.450714 \nL 104.31062 207.768376 \nL 104.339398 207.259355 \nL 104.425735 207.327719 \nL 104.598407 207.463256 \nL 104.655964 206.456634 \nL 104.7423 206.526596 \nL 104.943751 206.688276 \nL 105.087645 206.284233 \nL 105.404211 206.536981 \nL 105.576883 205.652758 \nL 105.605662 205.676176 \nL 105.86467 205.884981 \nL 105.922227 205.174508 \nL 106.008564 205.24518 \nL 106.267572 205.454862 \nL 106.296351 204.979688 \nL 106.382687 205.050055 \nL 106.728031 205.327703 \nL 106.75681 204.859512 \nL 106.843146 204.929189 \nL 107.188491 205.204171 \nL 107.246048 204.765801 \nL 107.332384 204.834676 \nL 107.41872 204.903186 \nL 107.447499 204.685623 \nL 107.533835 204.754286 \nL 107.850401 205.002969 \nL 107.87918 204.788168 \nL 107.965516 204.855666 \nL 108.397196 205.187938 \nL 108.425975 204.976481 \nL 108.512311 205.042397 \nL 109.087886 205.473333 \nL 109.116664 205.037309 \nL 109.203 205.101745 \nL 109.404451 205.250842 \nL 109.43323 204.819 \nL 109.519566 204.883392 \nL 109.922468 205.179688 \nL 109.951247 204.754286 \nL 110.037583 204.817887 \nL 110.066362 204.839018 \nL 110.09514 204.415634 \nL 110.181476 204.479804 \nL 110.411706 204.6494 \nL 110.469264 204.031748 \nL 110.584378 204.117581 \nL 111.044838 204.455446 \nL 111.073617 204.260048 \nL 111.159953 204.322857 \nL 111.303846 204.426877 \nL 111.332625 204.232891 \nL 111.418961 204.295319 \nL 112.195986 204.844167 \nL 112.311101 204.087231 \nL 112.33988 204.10764 \nL 113.577364 204.956518 \nL 113.634922 204.590817 \nL 113.721258 204.648747 \nL 113.836373 204.725588 \nL 113.980266 204.22056 \nL 114.066602 204.278795 \nL 114.095381 203.899031 \nL 114.181717 203.957802 \nL 115.0163 204.512884 \nL 115.131415 203.615536 \nL 115.188972 203.654143 \nL 115.620653 203.940212 \nL 115.649431 203.575169 \nL 115.735768 203.632389 \nL 116.282563 203.989235 \nL 116.311342 203.818874 \nL 116.397678 203.874674 \nL 117.145924 204.348719 \nL 117.174703 204.181593 \nL 117.261039 204.235516 \nL 117.46249 204.360487 \nL 117.491269 204.010946 \nL 117.577605 204.064815 \nL 117.635162 204.100606 \nL 117.663941 203.752651 \nL 117.750277 203.806823 \nL 117.865392 203.878714 \nL 117.894171 203.714699 \nL 117.980507 203.768657 \nL 118.210737 203.911495 \nL 118.239515 203.568287 \nL 118.325851 203.622107 \nL 119.24677 204.183154 \nL 119.275549 203.847782 \nL 119.361885 203.899806 \nL 119.419442 203.934376 \nL 119.448221 203.600465 \nL 119.534557 203.652766 \nL 120.081353 203.979363 \nL 120.110131 203.823323 \nL 120.196468 203.874435 \nL 120.426697 204.009785 \nL 120.455476 203.683209 \nL 120.541812 203.734199 \nL 121.347616 204.200967 \nL 121.376395 203.880743 \nL 121.462731 203.930358 \nL 121.549067 203.97979 \nL 121.577846 203.661085 \nL 121.664182 203.710892 \nL 121.980748 203.891956 \nL 122.009526 203.576225 \nL 122.095862 203.625732 \nL 122.441207 203.821961 \nL 122.469986 203.673757 \nL 122.556322 203.722609 \nL 122.901666 203.916259 \nL 122.930445 203.606567 \nL 123.016781 203.655072 \nL 123.074339 203.687312 \nL 123.103117 203.541134 \nL 123.189453 203.589583 \nL 123.247011 203.621786 \nL 123.27579 203.476169 \nL 123.362126 203.524561 \nL 123.592355 203.652766 \nL 123.621134 203.34762 \nL 123.70747 203.395896 \nL 123.765028 203.427986 \nL 123.822585 202.820471 \nL 123.908921 202.869477 \nL 124.254266 203.06379 \nL 124.369381 202.495497 \nL 124.398159 202.51186 \nL 124.455717 202.54453 \nL 124.570831 202.137219 \nL 124.59961 202.153723 \nL 125.088848 202.431399 \nL 125.117627 202.291805 \nL 125.203963 202.340458 \nL 125.290299 202.388943 \nL 125.319078 202.094795 \nL 125.405414 202.14359 \nL 125.606865 202.256799 \nL 125.635644 201.96456 \nL 125.72198 202.013273 \nL 125.865873 202.094094 \nL 125.894652 201.956817 \nL 125.980988 202.005296 \nL 126.297554 202.181657 \nL 126.326333 201.893386 \nL 126.412669 201.941564 \nL 126.729235 202.116846 \nL 126.758013 201.83101 \nL 126.84435 201.878892 \nL 126.901907 201.910725 \nL 126.930686 201.776283 \nL 127.017022 201.824097 \nL 127.189694 201.919252 \nL 127.247251 201.353139 \nL 127.333588 201.401361 \nL 127.477481 201.481379 \nL 127.621375 200.819148 \nL 127.707711 200.867902 \nL 127.880383 200.964932 \nL 127.909162 200.833485 \nL 127.995498 200.881951 \nL 128.053055 200.914174 \nL 128.196949 200.554147 \nL 128.772523 200.875577 \nL 128.801302 200.746353 \nL 128.887638 200.794158 \nL 129.491991 201.124555 \nL 129.52077 200.853699 \nL 129.607106 200.900705 \nL 129.779778 200.994274 \nL 129.808557 200.724906 \nL 129.894893 200.771868 \nL 130.671918 201.187988 \nL 130.700697 201.063002 \nL 130.787033 201.108692 \nL 131.218713 201.335043 \nL 131.247492 201.07238 \nL 131.333828 201.117613 \nL 131.448943 201.17771 \nL 131.506501 200.654947 \nL 131.592837 200.700609 \nL 132.312304 201.075789 \nL 132.341083 200.818257 \nL 132.427419 200.863012 \nL 132.484977 200.892774 \nL 132.657649 200.575426 \nL 133.664904 201.090735 \nL 133.75124 200.868264 \nL 133.808797 200.897352 \nL 134.672159 201.326952 \nL 134.700937 201.21026 \nL 134.787274 201.252686 \nL 135.621856 201.656588 \nL 135.708192 201.440473 \nL 135.76575 201.468085 \nL 135.823307 201.495645 \nL 135.852086 201.381076 \nL 135.938422 201.422461 \nL 136.19743 201.545915 \nL 136.226209 201.432023 \nL 136.312545 201.473083 \nL 136.370103 201.500393 \nL 136.398881 201.386841 \nL 136.485217 201.42785 \nL 136.600332 201.482351 \nL 136.686668 201.143307 \nL 136.744226 201.170758 \nL 137.348579 201.455945 \nL 137.406136 201.232541 \nL 137.492472 201.273103 \nL 137.837817 201.434239 \nL 137.924153 201.226027 \nL 137.98171 201.252865 \nL 138.125604 201.319745 \nL 138.240719 201.002562 \nL 138.298276 201.029469 \nL 138.327055 201.042904 \nL 138.355834 200.933061 \nL 138.44217 200.973424 \nL 138.586063 201.040452 \nL 138.614842 200.931057 \nL 138.701178 200.971258 \nL 138.931408 200.955775 \nL 139.190416 200.953697 \nL 139.420646 200.332239 \nL 139.449425 200.345751 \nL 139.938663 200.453363 \nL 140.140114 200.066996 \nL 140.197671 200.093944 \nL 140.22645 199.86793 \nL 140.312786 199.908544 \nL 140.341565 199.922058 \nL 140.514237 199.287632 \nL 140.802024 199.305852 \nL 140.830803 199.20089 \nL 140.917139 199.242005 \nL 140.945917 199.255686 \nL 141.11859 198.628787 \nL 141.348819 198.621984 \nL 141.492713 198.221331 \nL 141.55027 198.249326 \nL 142.01073 198.355009 \nL 142.039508 198.252345 \nL 142.125845 198.293938 \nL 143.248214 198.825095 \nL 143.363329 198.650088 \nL 143.392108 198.663529 \nL 143.708674 198.696964 \nL 143.823788 198.409854 \nL 143.852567 198.423306 \nL 143.967682 198.36375 \nL 144.082797 198.191331 \nL 144.111576 198.204823 \nL 144.370584 198.213157 \nL 144.543256 197.844298 \nL 144.572035 197.857844 \nL 144.802265 197.853915 \nL 144.831043 197.755556 \nL 144.917379 197.796104 \nL 144.974937 197.82308 \nL 145.003716 197.724975 \nL 145.061273 197.529007 \nL 145.147609 197.569701 \nL 145.320281 197.539714 \nL 145.464175 197.274666 \nL 145.492954 197.288267 \nL 146.183643 197.501688 \nL 146.212421 197.405375 \nL 146.298757 197.445562 \nL 146.385094 197.485652 \nL 146.413872 197.389618 \nL 146.442651 197.29366 \nL 146.528987 197.333853 \nL 147.334791 197.704362 \nL 147.36357 197.501557 \nL 147.449906 197.540992 \nL 147.79525 197.697797 \nL 147.824029 197.496275 \nL 147.910365 197.535467 \nL 148.083037 197.613575 \nL 148.140595 197.319136 \nL 148.226931 197.358367 \nL 148.802505 197.511729 \nL 148.946399 196.942293 \nL 149.061514 196.994598 \nL 149.262965 196.980557 \nL 149.406858 196.415666 \nL 149.435637 196.42888 \nL 149.665867 196.429607 \nL 149.780981 196.273282 \nL 149.80976 196.286485 \nL 150.011211 196.274483 \nL 150.155105 196.132314 \nL 150.212662 196.158686 \nL 150.298998 195.886947 \nL 150.356556 195.913455 \nL 150.989687 196.202405 \nL 151.018466 196.112665 \nL 151.047245 195.920272 \nL 151.133581 195.959592 \nL 151.335032 196.050994 \nL 151.36381 195.85942 \nL 151.450147 195.898647 \nL 151.881827 195.99185 \nL 151.910606 195.903229 \nL 151.996942 195.942128 \nL 152.572516 196.09854 \nL 152.601295 195.91 \nL 152.687631 195.948546 \nL 153.004197 196.089153 \nL 153.032976 195.901657 \nL 153.119312 195.94 \nL 153.896337 196.182295 \nL 153.953894 195.91055 \nL 154.069009 195.961047 \nL 154.529469 196.161576 \nL 154.558247 195.977645 \nL 154.644583 196.015171 \nL 155.191379 196.153548 \nL 155.220158 196.06852 \nL 155.306494 196.105641 \nL 155.680617 196.16875 \nL 155.795732 196.024418 \nL 155.82451 196.036728 \nL 156.745429 196.330506 \nL 156.774208 196.24703 \nL 156.860544 196.283258 \nL 157.551233 196.475724 \nL 157.580012 196.298406 \nL 157.666348 196.334228 \nL 158.184365 196.547602 \nL 158.213143 196.371606 \nL 158.29948 196.407081 \nL 158.472152 196.47781 \nL 158.50093 196.396007 \nL 158.558488 196.23257 \nL 158.644824 196.268041 \nL 159.105283 196.455995 \nL 159.134062 196.281954 \nL 159.220398 196.317133 \nL 159.479407 196.329758 \nL 159.508185 196.24898 \nL 159.594521 196.284037 \nL 159.939866 196.423553 \nL 159.968645 196.251231 \nL 160.054981 196.286097 \nL 160.313989 196.298693 \nL 160.400325 195.967432 \nL 160.51544 196.01405 \nL 160.630555 196.060544 \nL 160.659334 195.98094 \nL 160.688112 195.810211 \nL 160.774449 195.845228 \nL 160.947121 195.91505 \nL 160.9759 195.744915 \nL 161.062236 195.77988 \nL 161.350023 195.805446 \nL 161.378801 195.726589 \nL 161.465138 195.76141 \nL 162.011933 195.890545 \nL 162.098269 195.745545 \nL 162.155827 195.768562 \nL 162.731401 195.908021 \nL 162.76018 195.741343 \nL 162.846516 195.775602 \nL 162.904073 195.798404 \nL 162.932852 195.632089 \nL 163.019188 195.666388 \nL 163.508426 195.771211 \nL 163.594762 195.628774 \nL 163.65232 195.651479 \nL 163.796213 195.620123 \nL 163.940107 195.501021 \nL 164.31423 195.560566 \nL 164.343009 195.484402 \nL 164.429345 195.518303 \nL 164.832247 195.588672 \nL 164.861025 195.425988 \nL 164.947362 195.459751 \nL 165.177591 195.462824 \nL 165.20637 195.387419 \nL 165.292706 195.421089 \nL 165.666829 195.480076 \nL 165.753165 195.16911 \nL 165.810723 195.191567 \nL 166.357518 195.403499 \nL 166.472633 195.020704 \nL 166.530191 195.043078 \nL 166.817978 195.06943 \nL 166.933093 195.028931 \nL 167.076986 195.084521 \nL 167.105765 194.925955 \nL 167.192101 194.959364 \nL 167.249658 194.981602 \nL 167.307216 194.665226 \nL 167.393552 194.698805 \nL 167.825233 194.781592 \nL 167.969126 194.500853 \nL 168.026683 194.439197 \nL 168.141798 194.4 \nL 168.573479 194.483502 \nL 168.746151 194.299982 \nL 169.00516 194.316881 \nL 169.235389 193.990946 \nL 169.350504 194.035612 \nL 169.379283 193.881182 \nL 169.465619 193.914741 \nL 169.782185 194.03727 \nL 169.868521 193.823455 \nL 169.926078 193.845754 \nL 170.674325 194.051538 \nL 170.731882 193.828649 \nL 170.818218 193.861782 \nL 170.962112 193.916872 \nL 171.106005 193.483972 \nL 171.134784 193.495084 \nL 171.480129 193.546913 \nL 171.624022 193.440357 \nL 171.767916 193.414866 \nL 171.796694 193.264473 \nL 171.883031 193.297745 \nL 172.257154 193.360899 \nL 172.372269 193.324677 \nL 172.775171 193.398365 \nL 172.803949 193.249524 \nL 172.890285 193.282467 \nL 172.976622 193.315352 \nL 173.0054 193.166841 \nL 173.091736 193.199789 \nL 173.264409 193.265512 \nL 173.408302 193.081893 \nL 173.638532 193.090248 \nL 173.782425 192.986682 \nL 174.501893 193.180133 \nL 174.617008 193.144935 \nL 174.703344 193.17737 \nL 174.847238 192.996522 \nL 174.933574 193.02901 \nL 174.991131 192.738045 \nL 175.077467 192.77071 \nL 175.163804 192.803318 \nL 175.192582 192.658192 \nL 175.278918 192.69086 \nL 176.14228 192.937214 \nL 176.257395 192.902862 \nL 176.57396 192.943425 \nL 176.689075 192.909211 \nL 176.746633 192.930534 \nL 176.775411 192.787627 \nL 176.861747 192.819678 \nL 177.264649 192.892123 \nL 177.379764 192.858197 \nL 178.156789 193.066756 \nL 178.271904 193.032929 \nL 178.617249 193.08273 \nL 178.761142 192.98414 \nL 179.164044 193.054629 \nL 179.192823 192.915 \nL 179.279159 192.946203 \nL 179.825955 193.068086 \nL 179.969848 192.970649 \nL 180.084963 193.011874 \nL 180.14252 192.809483 \nL 180.228857 192.840492 \nL 180.861988 193.066344 \nL 180.890767 192.928949 \nL 180.977103 192.959642 \nL 181.03466 192.980076 \nL 181.063439 192.842928 \nL 181.149775 192.87364 \nL 181.380005 192.881838 \nL 181.523898 192.786073 \nL 181.667792 192.837089 \nL 181.725349 192.637791 \nL 181.811686 192.668479 \nL 182.38726 192.799036 \nL 182.531153 192.704278 \nL 182.81894 192.73296 \nL 182.905277 192.473573 \nL 182.962834 192.493901 \nL 183.423293 192.583675 \nL 183.509629 192.39787 \nL 183.567187 192.418125 \nL 183.595966 192.428245 \nL 183.71108 192.181127 \nL 183.739859 192.191296 \nL 183.94131 192.190594 \nL 183.998868 191.924094 \nL 184.085204 191.954707 \nL 184.113982 191.964901 \nL 184.17154 191.698941 \nL 184.257876 191.729684 \nL 184.315433 191.678664 \nL 184.516884 191.179407 \nL 184.631999 191.220803 \nL 184.660778 191.08861 \nL 184.747114 191.119696 \nL 184.862229 191.089935 \nL 184.891008 190.958053 \nL 184.977344 190.989176 \nL 186.186049 191.349542 \nL 186.301164 191.319928 \nL 186.732845 191.471704 \nL 186.84796 191.232494 \nL 186.876738 191.242621 \nL 186.934296 191.262862 \nL 187.049411 191.094042 \nL 187.078189 191.104187 \nL 187.27964 191.105455 \nL 187.423534 191.016982 \nL 187.711321 191.048724 \nL 187.883993 190.763077 \nL 187.999108 190.803664 \nL 188.027887 190.675513 \nL 188.114223 190.705989 \nL 188.40201 190.738327 \nL 188.603461 190.53385 \nL 188.833691 190.546239 \nL 189.006363 190.401261 \nL 189.668273 190.565176 \nL 189.812167 190.479219 \nL 189.869724 190.499324 \nL 190.013618 190.20975 \nL 190.042397 190.219855 \nL 191.279881 190.582433 \nL 191.30866 190.457948 \nL 191.394996 190.487727 \nL 191.567668 190.547153 \nL 191.711562 190.194767 \nL 191.74034 190.204729 \nL 191.913013 190.19755 \nL 192.028128 190.170516 \nL 192.315915 190.203088 \nL 192.517366 190.006332 \nL 192.718817 190.009419 \nL 192.977825 189.701077 \nL 193.208055 189.714629 \nL 193.409506 189.520185 \nL 193.697293 189.619797 \nL 193.726071 189.498077 \nL 193.812408 189.527948 \nL 194.157752 189.581409 \nL 194.272867 189.555477 \nL 194.503097 189.569163 \nL 194.531875 189.448275 \nL 194.618211 189.477981 \nL 196.402491 190.018067 \nL 196.575164 189.882857 \nL 197.352189 190.077603 \nL 197.380968 189.959408 \nL 197.467304 189.988063 \nL 198.014099 190.168612 \nL 198.042878 190.051031 \nL 198.129214 190.079468 \nL 198.503337 190.138952 \nL 198.647231 190.059628 \nL 199.136469 190.15647 \nL 199.33792 189.970574 \nL 199.855937 190.076573 \nL 199.99983 189.998178 \nL 200.546626 190.11279 \nL 200.661741 190.087689 \nL 201.035864 190.207967 \nL 201.064643 190.093193 \nL 201.150979 190.120921 \nL 201.726553 190.243131 \nL 201.841668 190.218146 \nL 201.985561 190.202364 \nL 202.158233 190.072836 \nL 202.215791 190.029738 \nL 202.359684 189.952847 \nL 202.561135 189.95578 \nL 202.705029 189.87918 \nL 202.791365 189.845536 \nL 202.820144 189.732418 \nL 202.90648 189.760009 \nL 203.251824 189.809058 \nL 203.366939 189.784758 \nL 203.424497 189.803054 \nL 203.453275 189.690504 \nL 203.539612 189.717987 \nL 203.79862 189.800214 \nL 203.884956 189.524337 \nL 203.971292 189.551839 \nL 204.431752 189.637512 \nL 204.518088 189.483783 \nL 204.575645 189.502051 \nL 204.604424 189.511178 \nL 204.633203 189.399716 \nL 204.719539 189.427143 \nL 204.834654 189.463654 \nL 204.863432 189.3524 \nL 204.949768 189.37981 \nL 205.179998 189.452724 \nL 205.266334 189.24 \nL 205.323892 189.25827 \nL 205.554121 189.271322 \nL 205.726794 189.026978 \nL 206.158474 189.10424 \nL 206.359925 188.929886 \nL 206.388704 188.939015 \nL 206.417483 188.82919 \nL 206.503819 188.856619 \nL 206.647712 188.842883 \nL 206.762827 188.820052 \nL 206.964278 188.824615 \nL 207.108172 188.751798 \nL 207.36718 188.774651 \nL 207.511074 188.702109 \nL 207.568631 188.720304 \nL 207.626188 188.561683 \nL 207.712524 188.589036 \nL 207.798861 188.616353 \nL 207.827639 188.507764 \nL 207.913975 188.53511 \nL 207.942754 188.544218 \nL 208.086648 188.35478 \nL 208.230541 188.341748 \nL 208.345656 188.31962 \nL 208.662222 188.419776 \nL 208.691001 188.311929 \nL 208.777337 188.339226 \nL 208.950009 188.393714 \nL 209.065124 188.255058 \nL 209.093903 188.264148 \nL 209.15146 188.282315 \nL 209.180239 188.174891 \nL 209.352911 188.054897 \nL 209.899706 188.169439 \nL 210.014821 188.147732 \nL 210.216272 188.095381 \nL 210.360166 188.025086 \nL 210.619174 187.991145 \nL 210.734289 187.969703 \nL 211.223527 188.008081 \nL 211.396199 187.890095 \nL 211.482536 187.802579 \nL 211.655208 187.685076 \nL 211.971774 187.670149 \nL 212.202003 187.457355 \nL 212.835135 187.542149 \nL 212.863914 187.437747 \nL 212.95025 187.464765 \nL 213.266816 187.450483 \nL 213.410709 187.325934 \nL 214.158956 187.502492 \nL 214.216513 187.351878 \nL 214.302849 187.378687 \nL 214.446743 187.367243 \nL 214.590636 187.243832 \nL 214.935981 187.239137 \nL 215.051096 187.218973 \nL 215.252547 187.225565 \nL 215.281325 187.123026 \nL 215.367661 187.149773 \nL 216.461252 187.375231 \nL 216.490031 187.273537 \nL 216.576367 187.299963 \nL 217.036827 187.330302 \nL 217.18072 187.26415 \nL 217.641179 187.294476 \nL 217.756294 187.274649 \nL 218.418205 187.365647 \nL 218.475762 187.165075 \nL 218.562098 187.191202 \nL 219.425459 187.342509 \nL 219.569353 187.277438 \nL 220.231263 187.367287 \nL 220.288821 187.223017 \nL 220.375157 187.248783 \nL 220.490272 187.229365 \nL 220.691723 187.182045 \nL 220.720501 187.083339 \nL 220.806838 187.109112 \nL 221.87165 187.31805 \nL 222.015543 187.254085 \nL 222.389667 187.258068 \nL 222.504781 187.238908 \nL 222.648675 187.175294 \nL 222.76379 187.103332 \nL 223.339364 187.166755 \nL 223.454479 187.095134 \nL 223.627151 187.040503 \nL 223.799823 186.933467 \nL 224.346619 187.04104 \nL 224.461734 186.969998 \nL 224.893414 186.991381 \nL 225.066087 186.885305 \nL 225.296316 186.900276 \nL 225.411431 186.82979 \nL 225.929448 186.876471 \nL 226.044563 186.85805 \nL 226.303571 186.829622 \nL 226.447465 186.664763 \nL 226.677694 186.628396 \nL 226.792809 186.610254 \nL 226.907924 186.592139 \nL 227.051818 186.479569 \nL 227.166932 186.461584 \nL 227.282047 186.392295 \nL 227.425941 186.331472 \nL 227.569834 186.219529 \nL 227.684949 186.201801 \nL 227.771285 186.17573 \nL 228.001515 185.731692 \nL 228.11663 185.663328 \nL 228.260523 185.552516 \nL 228.663425 185.568916 \nL 228.77854 185.551801 \nL 229.929689 185.785684 \nL 230.044803 185.768548 \nL 230.303812 185.742667 \nL 230.447705 185.683626 \nL 230.677935 185.699856 \nL 230.821829 185.540664 \nL 230.936943 185.473678 \nL 231.109616 185.373382 \nL 231.253509 185.365014 \nL 231.368624 185.298341 \nL 231.800305 185.323382 \nL 231.944198 185.215481 \nL 232.059313 185.149211 \nL 232.203207 185.091372 \nL 232.980232 185.216297 \nL 233.095347 185.199905 \nL 233.354355 185.175452 \nL 233.498249 185.019423 \nL 234.13138 185.10257 \nL 234.275274 185.045525 \nL 234.505503 185.013278 \nL 234.620618 184.997189 \nL 234.822069 184.956862 \nL 234.965963 184.851327 \nL 235.081078 184.786568 \nL 235.224971 184.730145 \nL 235.397643 184.682066 \nL 235.541537 184.625847 \nL 235.800545 184.651304 \nL 235.973218 184.457795 \nL 236.088333 184.393723 \nL 236.203447 184.378234 \nL 236.318562 184.314309 \nL 236.491234 184.121781 \nL 236.8078 184.116111 \nL 236.951694 184.060884 \nL 237.181923 184.030566 \nL 237.325817 183.927385 \nL 237.584825 183.905593 \nL 237.757498 183.811055 \nL 238.304293 183.872018 \nL 238.476965 183.777931 \nL 238.620859 183.723565 \nL 238.793531 183.629816 \nL 239.541778 183.748443 \nL 239.685671 183.694453 \nL 239.973458 183.681527 \nL 240.088573 183.666899 \nL 240.462696 183.678554 \nL 240.60659 183.624925 \nL 240.808041 183.587719 \nL 241.038271 183.417516 \nL 241.757738 183.527375 \nL 241.930411 183.435589 \nL 242.218198 183.423282 \nL 242.362091 183.370435 \nL 243.081559 183.47963 \nL 243.196674 183.418933 \nL 243.340567 183.366397 \nL 243.51324 183.275637 \nL 243.916142 183.295985 \nL 244.060035 183.151296 \nL 244.261486 183.115412 \nL 244.434158 183.025401 \nL 245.470192 183.222892 \nL 245.642864 183.179221 \nL 245.873094 183.151631 \nL 246.016987 183.05443 \nL 246.275996 183.035063 \nL 246.419889 183.029396 \nL 246.880349 183.065904 \nL 247.168136 182.872944 \nL 247.283251 182.859466 \nL 247.427144 182.717965 \nL 247.599816 182.675294 \nL 247.801267 182.595459 \nL 248.060276 182.576979 \nL 248.204169 182.57175 \nL 248.722186 182.625 \nL 248.894858 182.582739 \nL 249.038752 182.532613 \nL 249.153867 182.474616 \nL 249.643105 182.519941 \nL 249.930892 182.330924 \nL 250.448909 182.384361 \nL 250.592802 182.379361 \nL 250.880589 182.369387 \nL 251.024483 182.364412 \nL 251.168377 182.315069 \nL 251.341049 182.273698 \nL 251.513721 182.232407 \nL 251.715172 182.154844 \nL 252.118074 182.176798 \nL 252.319525 182.099562 \nL 252.636091 182.097999 \nL 252.808763 181.881313 \nL 253.384337 181.9509 \nL 253.499452 181.894689 \nL 253.614567 181.838551 \nL 253.816018 181.762342 \nL 254.046248 181.737831 \nL 254.161362 181.681965 \nL 254.708158 181.743841 \nL 254.852051 181.652538 \nL 254.995945 181.604813 \nL 255.11106 181.549326 \nL 255.513962 181.572218 \nL 255.77297 181.426253 \nL 256.0032 181.445625 \nL 256.147093 181.355211 \nL 256.319766 181.315888 \nL 256.463659 181.311897 \nL 256.751446 181.346947 \nL 256.89534 181.256983 \nL 257.298242 181.323181 \nL 257.413357 181.268571 \nL 257.845037 181.299556 \nL 258.075267 181.190762 \nL 258.21916 181.144239 \nL 258.478169 181.001028 \nL 258.708399 181.020648 \nL 258.852292 180.889374 \nL 258.996186 180.843283 \nL 259.140079 180.754808 \nL 259.715653 180.825519 \nL 259.859547 180.821982 \nL 260.176113 180.822665 \nL 260.4639 180.64701 \nL 260.607793 180.601506 \nL 260.780466 180.563827 \nL 261.12581 180.614687 \nL 261.240925 180.561637 \nL 261.672606 180.635501 \nL 261.78772 180.582593 \nL 261.931614 180.537461 \nL 262.046729 180.484687 \nL 262.161844 180.431978 \nL 262.276959 180.379333 \nL 262.91009 180.465379 \nL 263.197877 180.29282 \nL 263.715894 180.38952 \nL 263.859788 180.262205 \nL 264.03246 180.225484 \nL 264.26269 180.12155 \nL 265.126051 180.268593 \nL 265.327502 180.198652 \nL 265.81674 180.245969 \nL 265.989412 180.209639 \nL 266.133306 180.165779 \nL 266.334757 180.096314 \nL 266.823995 180.143644 \nL 266.967888 180.140749 \nL 267.083003 180.089596 \nL 267.255675 180.053645 \nL 267.485905 180.032887 \nL 267.629799 180.030085 \nL 268.003922 180.047124 \nL 268.147815 180.044319 \nL 268.349266 180.016138 \nL 268.550717 179.947624 \nL 269.126292 180.0173 \nL 269.298964 179.981791 \nL 269.644308 179.991293 \nL 269.903317 179.858005 \nL 270.162325 179.845247 \nL 270.306219 179.842622 \nL 270.450112 179.8 \nL 270.622784 179.764923 \nL 270.737899 179.714945 \nL 270.968129 179.615165 \nL 271.255916 179.610277 \nL 271.572482 179.056067 \nL 271.687597 179.006745 \nL 271.860269 178.853442 \nL 273.644549 179.239652 \nL 273.817221 179.205625 \nL 274.248902 179.238528 \nL 274.450353 179.172824 \nL 274.680583 179.153829 \nL 274.910812 179.056662 \nL 275.428829 179.1119 \nL 275.774174 178.888968 \nL 276.263412 178.937013 \nL 276.493641 178.840857 \nL 276.75265 178.82982 \nL 276.925322 178.680513 \nL 277.097994 178.647515 \nL 277.558454 178.688452 \nL 277.731126 178.655551 \nL 278.105249 178.674273 \nL 278.277921 178.641472 \nL 278.450594 178.608726 \nL 278.652045 178.391441 \nL 278.824717 178.358967 \nL 278.997389 178.326548 \nL 279.141283 178.325106 \nL 279.285176 178.323667 \nL 279.486627 178.107548 \nL 279.688078 178.044637 \nL 279.745635 177.983046 \nL 279.918308 177.836631 \nL 280.206095 177.79635 \nL 280.378767 177.764622 \nL 280.666554 177.762545 \nL 280.810448 177.647547 \nL 281.155792 177.622503 \nL 281.357243 177.560574 \nL 281.846481 177.572666 \nL 281.990375 177.496226 \nL 282.450834 177.501065 \nL 282.594728 177.500219 \nL 283.371753 177.585721 \nL 283.544425 177.554648 \nL 284.004885 177.59673 \nL 284.148778 177.521062 \nL 284.379008 177.504762 \nL 284.522901 177.391977 \nL 285.328705 177.484365 \nL 285.501377 177.453665 \nL 285.846722 177.429495 \nL 286.019394 177.398915 \nL 286.537411 177.418352 \nL 286.681305 177.417578 \nL 287.026649 177.393602 \nL 287.170543 177.392847 \nL 287.544666 177.376175 \nL 287.688559 177.375434 \nL 287.861232 177.308432 \nL 288.062683 177.248748 \nL 288.551921 177.297786 \nL 288.695814 177.223928 \nL 288.983601 177.186122 \nL 289.127495 177.075975 \nL 289.559176 177.074375 \nL 289.875741 176.898554 \nL 290.393758 176.918846 \nL 290.537652 176.845872 \nL 290.681545 176.845495 \nL 290.940554 176.801369 \nL 291.257119 176.627071 \nL 291.45857 176.568957 \nL 291.602464 176.568765 \nL 292.149259 176.596842 \nL 292.35071 176.538994 \nL 292.58094 176.488414 \nL 292.724834 176.416457 \nL 293.185293 176.423336 \nL 293.329187 176.31581 \nL 293.616974 176.28 \nL 293.875982 176.165693 \nL 293.962318 176.080042 \nL 294.221327 175.966151 \nL 294.422778 175.909428 \nL 294.59545 175.881237 \nL 294.912016 175.853368 \nL 295.228581 175.683574 \nL 295.458811 175.634546 \nL 295.689041 175.550193 \nL 296.120721 175.551617 \nL 296.322172 175.354453 \nL 297.04164 175.427874 \nL 297.329427 175.288312 \nL 297.530878 175.268128 \nL 297.645993 175.226512 \nL 297.789887 175.192098 \nL 297.962559 175.024621 \nL 298.39424 175.027046 \nL 298.538133 174.9579 \nL 298.739584 174.903178 \nL 298.883478 174.904063 \nL 299.084929 174.849474 \nL 299.28638 174.794983 \nL 299.545388 174.754912 \nL 299.746839 174.700617 \nL 300.207298 174.710788 \nL 300.408749 174.656692 \nL 300.782872 174.645529 \nL 300.926766 174.64657 \nL 301.214553 174.614084 \nL 301.358447 174.615143 \nL 301.473561 174.574561 \nL 301.617455 174.47214 \nL 301.847685 174.425722 \nL 301.991578 174.323564 \nL 302.250587 174.284506 \nL 302.39448 174.285769 \nL 302.509595 174.245538 \nL 302.62471 174.205348 \nL 302.768603 174.138005 \nL 302.912497 174.139356 \nL 303.430514 174.164745 \nL 303.545629 174.124758 \nL 303.833416 174.0933 \nL 303.977309 174.094673 \nL 304.17876 174.042008 \nL 304.322654 173.941129 \nL 304.610441 173.910008 \nL 304.725556 173.870353 \nL 305.416245 173.938652 \nL 305.560138 173.940112 \nL 306.250827 174.007956 \nL 306.365942 173.968534 \nL 306.509836 173.902425 \nL 306.711287 173.850503 \nL 307.200525 173.869088 \nL 307.373197 173.743021 \nL 307.517091 173.74459 \nL 308.466788 173.875461 \nL 308.63946 173.850465 \nL 309.502822 173.959431 \nL 309.646715 173.960853 \nL 310.135953 173.978977 \nL 310.279847 173.980384 \nL 311.31588 174.129422 \nL 311.430995 174.090785 \nL 311.718782 174.060416 \nL 311.949012 173.983377 \nL 312.726037 174.069816 \nL 312.869931 173.972543 \nL 313.272833 174.002695 \nL 313.416726 173.905685 \nL 313.877185 173.949538 \nL 314.021079 173.852805 \nL 314.136194 173.814738 \nL 314.308866 173.692362 \nL 314.481538 173.635459 \nL 314.711768 173.559717 \nL 314.826883 173.489298 \nL 315.057113 173.250953 \nL 315.316121 173.215174 \nL 315.431236 173.177617 \nL 316.409712 173.345648 \nL 316.553606 173.282658 \nL 317.100401 173.315261 \nL 317.330631 173.240641 \nL 317.906205 173.280028 \nL 318.107656 173.231054 \nL 318.280328 173.175367 \nL 318.539336 173.075932 \nL 318.942238 173.074811 \nL 319.086132 172.980601 \nL 319.201247 172.911716 \nL 319.402698 172.863305 \nL 320.23728 172.996082 \nL 320.409953 172.877323 \nL 320.582625 172.854244 \nL 321.186978 172.900762 \nL 321.388429 172.85275 \nL 321.791331 172.852006 \nL 321.935224 172.790676 \nL 322.338126 172.568751 \nL 322.48202 172.539314 \nL 322.597135 172.503158 \nL 322.798586 172.455742 \nL 323.345381 172.111539 \nL 323.690726 172.098462 \nL 323.834619 172.006613 \nL 324.064849 171.998004 \nL 324.179964 171.962327 \nL 324.640423 171.976552 \nL 324.870653 171.905416 \nL 325.273555 171.937448 \nL 325.417448 171.846272 \nL 325.935465 171.874117 \nL 326.079358 171.876641 \nL 326.770048 171.944616 \nL 326.971499 171.898431 \nL 327.431958 171.912615 \nL 327.633409 171.866577 \nL 327.892417 171.833994 \nL 328.065089 171.812309 \nL 328.727 171.873265 \nL 328.899672 171.851625 \nL 329.187459 171.825876 \nL 329.360131 171.804307 \nL 330.022042 171.864975 \nL 330.194714 171.843449 \nL 330.51128 171.824463 \nL 330.655173 171.82697 \nL 331.201969 171.860885 \nL 331.432199 171.791672 \nL 332.007773 171.832142 \nL 332.180445 171.689195 \nL 332.468232 171.694324 \nL 332.612126 171.636181 \nL 333.043806 171.643946 \nL 333.360372 171.504358 \nL 333.792053 171.512321 \nL 334.051061 171.4205 \nL 334.31007 171.389168 \nL 334.425184 171.35517 \nL 334.597857 171.304229 \nL 334.74175 171.306984 \nL 334.856865 171.242989 \nL 335.144652 171.128334 \nL 335.63389 171.15 \nL 335.835341 171.105998 \nL 336.008013 171.085454 \nL 336.209464 170.921828 \nL 336.669924 170.93723 \nL 336.813817 170.880435 \nL 337.303055 170.902426 \nL 337.705957 170.696373 \nL 337.907408 170.653065 \nL 338.108859 170.609823 \nL 338.396646 170.58633 \nL 338.626876 170.520118 \nL 338.77077 170.493615 \nL 338.914663 170.407888 \nL 339.116114 170.394602 \nL 339.231229 170.361655 \nL 339.605352 170.38775 \nL 339.806803 170.197349 \nL 340.353599 170.233452 \nL 340.612607 170.145145 \nL 340.842837 170.109278 \nL 340.957952 170.076668 \nL 341.677419 170.152039 \nL 341.821313 170.067429 \nL 341.965206 170.041487 \nL 342.080321 170.009044 \nL 342.540781 170.025677 \nL 342.713453 169.918723 \nL 343.030019 169.902896 \nL 343.173912 169.818846 \nL 343.461699 169.796644 \nL 343.605593 169.800116 \nL 344.152388 169.836516 \nL 344.267503 169.804423 \nL 344.929414 169.866644 \nL 345.159643 169.657932 \nL 345.303537 169.661456 \nL 345.418652 169.60066 \nL 345.591324 169.581803 \nL 345.735217 169.5276 \nL 345.90789 169.508812 \nL 345.965447 169.464079 \nL 346.109341 169.381171 \nL 346.253234 169.327178 \nL 346.397128 169.330863 \nL 346.915144 169.36135 \nL 347.030259 169.329784 \nL 347.202932 169.282486 \nL 347.318046 169.250987 \nL 347.663391 169.271357 \nL 347.807285 169.217729 \nL 348.066293 169.190063 \nL 348.267744 169.149506 \nL 348.641867 169.176396 \nL 348.756982 169.145107 \nL 349.418892 169.2079 \nL 349.649122 169.145499 \nL 349.90813 169.118087 \nL 350.080803 169.014566 \nL 350.685155 169.064523 \nL 350.80027 169.033512 \nL 351.145615 169.025582 \nL 351.289508 168.972757 \nL 352.066534 169.032753 \nL 352.210427 169.036513 \nL 352.613329 169.013223 \nL 352.786001 168.99522 \nL 353.390354 169.016646 \nL 353.534248 169.020397 \nL 353.793256 168.965436 \nL 353.93715 168.969208 \nL 354.167379 168.908013 \nL 354.340052 168.890175 \nL 355.117077 168.949746 \nL 355.347307 168.888825 \nL 356.095553 168.941873 \nL 356.268225 168.924136 \nL 356.757463 168.920253 \nL 356.901357 168.840796 \nL 357.361816 168.858462 \nL 357.50571 168.806884 \nL 357.764718 168.75289 \nL 357.966169 168.575868 \nL 358.081284 168.518232 \nL 358.196399 168.488253 \nL 358.311514 168.403099 \nL 358.455407 168.32434 \nL 358.570522 168.266905 \nL 358.714416 168.215847 \nL 358.973424 168.190157 \nL 359.088539 168.160405 \nL 359.577777 168.157873 \nL 359.692892 168.128197 \nL 360.498696 168.195018 \nL 360.671368 168.095891 \nL 360.901598 168.06419 \nL 361.304499 168.042974 \nL 361.448393 167.965218 \nL 361.764959 167.925313 \nL 362.052746 167.851966 \nL 362.426869 167.824846 \nL 362.599541 167.726606 \nL 362.85855 167.674539 \nL 363.060001 167.664268 \nL 363.606796 167.702261 \nL 363.75069 167.625294 \nL 364.18237 167.61117 \nL 364.383821 167.60099 \nL 364.671609 167.555622 \nL 364.815502 167.505992 \nL 365.218404 167.485837 \nL 365.592527 167.35185 \nL 365.7652 167.308744 \nL 365.937872 167.211937 \nL 366.254438 167.173465 \nL 366.42711 167.050069 \nL 366.65734 166.993008 \nL 367.002684 166.880808 \nL 367.261692 166.857029 \nL 367.376807 166.828645 \nL 367.635816 166.778223 \nL 367.779709 166.702769 \nL 368.038718 166.679211 \nL 368.21139 166.583524 \nL 368.815743 166.608785 \nL 369.218645 166.457248 \nL 369.650325 166.445097 \nL 369.822998 166.456159 \nL 370.427351 166.481543 \nL 370.571244 166.459856 \nL 370.916589 166.429034 \nL 371.175597 166.379563 \nL 371.348269 166.337835 \nL 371.492163 166.289913 \nL 372.211631 166.340397 \nL 372.470639 166.291219 \nL 372.67209 166.229678 \nL 372.844762 166.161994 \nL 373.017434 166.173102 \nL 373.247664 166.117978 \nL 373.420336 166.129097 \nL 373.909574 166.13001 \nL 374.053468 166.108745 \nL 374.6866 166.140662 \nL 375.262174 165.87363 \nL 375.521182 165.825353 \nL 375.665076 165.804348 \nL 375.837748 165.815557 \nL 375.952863 165.762397 \nL 376.096756 165.715483 \nL 376.643552 165.729442 \nL 376.873782 165.701222 \nL 377.36302 165.728677 \nL 377.535692 165.636482 \nL 377.7947 165.614594 \nL 377.938594 165.593846 \nL 378.111266 165.527699 \nL 378.399053 165.460577 \nL 378.629283 165.40697 \nL 378.888291 165.359625 \nL 379.291193 165.36894 \nL 379.291193 165.36894 \n\" style=\"fill:none;stroke:#da8bc3;stroke-linecap:round;stroke-width:1.5;\"/>\n   </g>\n   <g id=\"line2d_23\">\n    <path clip-path=\"url(#p5574e5fc04)\" d=\"M 74.927557 230.64 \nL 75.503131 230.64 \nL 75.53191 218.285455 \nL 75.618246 219.768 \nL 75.848476 222.403636 \nL 75.96359 201.256216 \nL 76.021148 202.763077 \nL 76.049927 203.46 \nL 76.078705 197.493659 \nL 76.165041 199.753636 \nL 76.19382 200.44 \nL 76.222599 195.187826 \nL 76.308935 197.358367 \nL 76.395271 199.278462 \nL 76.42405 194.741887 \nL 76.510386 196.665 \nL 76.711837 200.44 \nL 76.740616 196.665 \nL 76.826952 198.186269 \nL 77.114739 202.401039 \nL 77.143517 199.278462 \nL 77.229854 200.44 \nL 77.460083 203.154607 \nL 77.488862 200.44 \nL 77.575198 201.414194 \nL 78.179551 206.797895 \nL 78.20833 207.005217 \nL 78.237108 204.865862 \nL 78.323445 205.51563 \nL 78.352223 205.725 \nL 78.381002 203.684628 \nL 78.467338 204.336774 \nL 78.611232 205.356279 \nL 78.64001 203.46 \nL 78.726347 204.073083 \nL 79.215585 207.084 \nL 79.244363 205.44 \nL 79.330699 205.930909 \nL 79.359478 206.090323 \nL 79.388257 204.505385 \nL 79.474593 204.998491 \nL 79.791159 206.657647 \nL 79.819938 203.618947 \nL 79.906274 204.084828 \nL 80.366733 206.321053 \nL 80.42429 203.743125 \nL 80.510627 204.156923 \nL 80.712078 205.074653 \nL 80.740856 203.861675 \nL 80.827192 204.25165 \nL 80.942307 204.754286 \nL 81.057422 201.42785 \nL 81.114979 201.698333 \nL 81.287652 202.480541 \nL 81.402767 200.573628 \nL 81.431545 200.706079 \nL 81.77689 202.209038 \nL 81.805668 201.195 \nL 81.892005 201.558519 \nL 82.064677 202.259277 \nL 82.093456 201.2856 \nL 82.179792 201.633676 \nL 82.323685 202.195814 \nL 82.4388 200.555267 \nL 82.467579 200.669658 \nL 82.870481 202.184404 \nL 82.899259 201.309065 \nL 82.985596 201.622206 \nL 83.877736 204.505385 \nL 83.906514 203.720511 \nL 83.99285 203.976076 \nL 84.194301 204.553932 \nL 84.22308 203.795556 \nL 84.309416 204.041835 \nL 84.769876 205.282566 \nL 84.798654 204.566163 \nL 84.88499 204.791585 \nL 85.575679 206.46372 \nL 85.604458 205.798065 \nL 85.690794 205.9968 \nL 86.266369 207.244557 \nL 86.295147 206.617273 \nL 86.381483 206.797895 \nL 87.244845 208.465175 \nL 87.273623 207.884651 \nL 87.35996 208.042309 \nL 87.676525 208.602162 \nL 87.705304 208.040899 \nL 87.79164 208.192232 \nL 87.849198 208.292 \nL 87.877976 207.738891 \nL 87.964312 207.89022 \nL 88.367214 208.570769 \nL 88.395993 208.038294 \nL 88.482329 208.181949 \nL 88.712559 208.55625 \nL 88.741338 208.037089 \nL 88.827674 208.17719 \nL 89.403248 209.068571 \nL 89.432027 208.573069 \nL 89.518363 208.703386 \nL 89.662256 208.917193 \nL 89.748592 207.99 \nL 89.80615 208.077452 \nL 90.180273 208.629831 \nL 90.209052 208.160301 \nL 90.295388 208.286355 \nL 90.324167 208.32806 \nL 90.352945 207.863464 \nL 90.439281 207.99 \nL 90.611954 208.238901 \nL 90.640732 207.782962 \nL 90.727069 207.907636 \nL 91.647987 209.157526 \nL 91.763102 207.448874 \nL 91.849438 207.566995 \nL 92.050889 207.837987 \nL 92.079668 207.420905 \nL 92.166004 207.537 \nL 92.223561 207.613754 \nL 92.309898 206.829421 \nL 92.367455 206.907875 \nL 92.48257 207.063241 \nL 92.511349 206.657647 \nL 92.597685 206.774634 \nL 92.827914 207.081091 \nL 92.943029 206.364402 \nL 92.971808 206.403057 \nL 93.115702 206.594502 \nL 93.14448 206.203722 \nL 93.230816 206.318807 \nL 93.777612 207.023232 \nL 93.806391 206.645479 \nL 93.892727 206.754545 \nL 94.209292 207.14611 \nL 94.238071 206.776607 \nL 94.324407 206.882667 \nL 94.353186 206.917811 \nL 94.439522 206.222032 \nL 94.49708 206.293744 \nL 94.727309 206.57643 \nL 94.842424 205.930909 \nL 94.871203 205.966513 \nL 95.15899 206.316989 \nL 95.187769 205.965957 \nL 95.274105 206.070508 \nL 95.302883 206.105162 \nL 95.331662 205.756901 \nL 95.417998 205.861599 \nL 95.849679 206.372143 \nL 95.878458 206.032593 \nL 95.964794 206.133443 \nL 96.195023 206.398378 \nL 96.223802 206.064291 \nL 96.310138 206.163387 \nL 96.454032 206.326782 \nL 96.482811 205.9968 \nL 96.569147 206.09498 \nL 96.770598 206.321053 \nL 96.885713 205.736859 \nL 96.914491 205.769412 \nL 97.000827 205.866562 \nL 97.029606 205.545332 \nL 97.115942 205.64285 \nL 97.144721 205.675188 \nL 97.1735 205.356279 \nL 97.259836 205.4539 \nL 97.317393 205.518562 \nL 97.346172 205.202308 \nL 97.432508 205.29977 \nL 97.864189 205.77609 \nL 97.950525 205.190562 \nL 98.008082 205.253948 \nL 98.06564 205.317019 \nL 98.094418 205.011216 \nL 98.180754 205.106255 \nL 98.382205 205.325294 \nL 98.526099 204.817345 \nL 98.72755 205.035652 \nL 98.756329 204.410808 \nL 98.842665 204.505385 \nL 99.101673 204.785065 \nL 99.245567 204.295319 \nL 99.965034 205.051481 \nL 100.080149 204.5472 \nL 100.108928 204.576986 \nL 100.195264 204.665939 \nL 100.224043 204.386591 \nL 100.310379 204.475787 \nL 100.396715 204.564379 \nL 100.51183 203.765393 \nL 100.569387 203.82565 \nL 100.799617 204.064 \nL 100.828396 203.791831 \nL 100.914732 203.880929 \nL 101.202519 204.173698 \nL 101.231298 203.905574 \nL 101.317634 203.992941 \nL 101.346413 204.021937 \nL 101.375191 203.755435 \nL 101.461527 203.842817 \nL 101.6342 204.015888 \nL 101.691757 203.489194 \nL 101.778093 203.576403 \nL 101.835651 203.634231 \nL 101.979544 203.200043 \nL 102.037102 203.25824 \nL 102.180995 202.542532 \nL 102.209774 202.572139 \nL 102.238553 202.601684 \nL 102.353667 201.864528 \nL 102.411225 201.924728 \nL 102.440004 201.954734 \nL 102.612676 200.722243 \nL 103.562373 201.713494 \nL 103.591152 201.46989 \nL 103.677488 201.5574 \nL 103.763824 201.644387 \nL 103.965275 200.768911 \nL 104.022833 200.827945 \nL 104.051611 200.589062 \nL 104.137947 200.677795 \nL 104.339398 200.882815 \nL 104.425735 200.44 \nL 104.483292 200.498755 \nL 104.540849 200.557282 \nL 104.627185 200.118412 \nL 104.684743 200.177391 \nL 104.713522 200.206795 \nL 104.7423 199.974041 \nL 104.828636 200.0625 \nL 104.857415 200.091873 \nL 105.001309 199.458356 \nL 105.030087 199.488138 \nL 105.20276 199.665641 \nL 105.289096 199.238864 \nL 105.346653 199.298223 \nL 105.375432 199.327819 \nL 105.432989 198.874496 \nL 105.519325 198.96406 \nL 105.548104 198.993803 \nL 105.576883 198.768518 \nL 105.663219 198.857961 \nL 105.720776 198.917311 \nL 105.807113 198.246704 \nL 105.893449 198.336936 \nL 106.152457 198.604641 \nL 106.181236 198.384066 \nL 106.267572 198.472844 \nL 106.382687 198.590457 \nL 106.469023 198.182571 \nL 106.52658 198.241638 \nL 106.555359 198.271091 \nL 106.612916 197.836552 \nL 106.699253 197.925611 \nL 106.814367 198.043607 \nL 106.929482 197.672345 \nL 106.958261 197.701939 \nL 107.159712 197.907618 \nL 107.188491 197.694545 \nL 107.274827 197.7824 \nL 107.332384 197.84071 \nL 107.361163 197.62883 \nL 107.447499 197.716393 \nL 107.850401 198.118952 \nL 107.994295 197.551304 \nL 108.023073 197.580052 \nL 108.224524 197.779896 \nL 108.253303 197.573736 \nL 108.339639 197.659105 \nL 108.828877 198.134656 \nL 108.857656 197.931864 \nL 108.943992 198.01481 \nL 108.972771 198.042365 \nL 109.001549 197.840506 \nL 109.087886 197.923333 \nL 109.203 198.033121 \nL 109.231779 197.832624 \nL 109.318115 197.914916 \nL 109.43323 198.024 \nL 109.462009 197.824846 \nL 109.548345 197.906611 \nL 109.807353 198.149481 \nL 110.09514 196.85946 \nL 110.152698 196.914612 \nL 110.296591 196.609756 \nL 110.5556 196.856949 \nL 110.584378 196.665 \nL 110.670715 196.746999 \nL 110.699493 196.774244 \nL 110.814608 196.447212 \nL 110.843387 196.474588 \nL 111.044838 196.665 \nL 111.073617 196.4758 \nL 111.159953 196.557143 \nL 111.188731 196.584171 \nL 111.361404 195.887356 \nL 111.390182 195.914763 \nL 111.591633 196.105412 \nL 111.735527 195.815625 \nL 111.764306 195.84281 \nL 111.936978 195.16028 \nL 111.965757 195.187826 \nL 112.10965 195.324919 \nL 112.224765 195.014711 \nL 112.253544 195.042157 \nL 112.311101 195.096923 \nL 112.33988 194.915327 \nL 112.426216 194.997515 \nL 112.886675 195.429545 \nL 113.116905 194.618313 \nL 113.145684 194.645418 \nL 113.174462 194.263759 \nL 113.260798 194.345626 \nL 113.433471 194.50826 \nL 113.577364 194.238214 \nL 113.836373 194.480355 \nL 113.922709 193.758584 \nL 114.037824 193.867059 \nL 114.325611 194.135474 \nL 114.354389 193.765602 \nL 114.440726 193.846114 \nL 114.527062 193.926275 \nL 114.670955 193.469088 \nL 114.699734 193.495965 \nL 114.843628 193.629769 \nL 115.073857 192.868367 \nL 115.332866 193.11032 \nL 115.361644 192.943698 \nL 115.44798 193.02396 \nL 115.476759 193.050638 \nL 115.620653 192.415124 \nL 115.67821 192.469076 \nL 115.706989 192.495994 \nL 115.879661 191.89323 \nL 115.90844 191.920421 \nL 115.965997 191.974688 \nL 115.994776 191.811429 \nL 116.081112 191.89283 \nL 116.109891 191.919888 \nL 116.311342 191.163836 \nL 116.34012 191.19125 \nL 116.397678 191.245964 \nL 116.714244 189.860647 \nL 116.743022 189.888693 \nL 116.858137 190.000494 \nL 116.973252 189.739863 \nL 117.002031 189.76782 \nL 117.117146 189.879264 \nL 117.145924 189.72188 \nL 117.23226 189.80533 \nL 117.491269 190.053649 \nL 117.577605 189.58592 \nL 117.635162 189.641212 \nL 117.779056 189.778792 \nL 117.807835 189.623903 \nL 117.894171 189.706265 \nL 117.922949 189.733645 \nL 118.038064 189.48016 \nL 118.066843 189.5076 \nL 118.095622 189.535003 \nL 118.181958 189.07484 \nL 118.239515 189.13004 \nL 118.412188 189.294762 \nL 118.58486 188.921028 \nL 118.613639 188.948492 \nL 118.642417 188.797105 \nL 118.728753 188.879527 \nL 118.815089 188.961625 \nL 119.045319 188.11588 \nL 119.074098 188.143583 \nL 119.333106 188.391295 \nL 119.505779 187.50271 \nL 119.592115 187.58604 \nL 119.620893 187.613745 \nL 119.851123 186.964072 \nL 119.90868 187.019923 \nL 119.937459 186.874121 \nL 120.023795 186.957857 \nL 120.167689 187.096707 \nL 120.225246 186.806857 \nL 120.311582 186.89019 \nL 120.340361 186.917897 \nL 120.570591 186.281966 \nL 120.656927 186.36566 \nL 120.685706 186.222652 \nL 120.772042 186.306248 \nL 120.80082 186.334044 \nL 120.829599 186.191504 \nL 120.915935 186.274897 \nL 121.03105 186.385602 \nL 121.232501 185.902733 \nL 121.26128 185.930503 \nL 121.290059 185.789628 \nL 121.376395 185.872941 \nL 121.606624 186.093604 \nL 121.750518 185.729558 \nL 121.779297 185.757127 \nL 121.808075 185.784663 \nL 121.865633 185.506544 \nL 121.951969 185.589358 \nL 121.980748 185.616895 \nL 122.009526 185.312327 \nL 122.095862 185.395244 \nL 122.210977 185.505328 \nL 122.268535 185.064787 \nL 122.354871 185.147702 \nL 122.441207 185.230315 \nL 122.469986 185.093358 \nL 122.556322 185.17587 \nL 122.700215 185.312727 \nL 122.728994 185.176462 \nL 122.81533 185.258378 \nL 122.901666 185.34 \nL 123.016781 184.960694 \nL 123.074339 185.015269 \nL 123.390904 185.313116 \nL 123.448462 185.044624 \nL 123.534798 185.125562 \nL 123.563577 185.152478 \nL 123.70747 184.966061 \nL 123.851364 185.100317 \nL 124.052815 184.650422 \nL 124.139151 184.731058 \nL 124.283044 184.38965 \nL 124.311823 184.416587 \nL 124.772282 184.843347 \nL 124.82984 184.426167 \nL 124.916176 184.505938 \nL 125.031291 184.299816 \nL 125.06007 184.326403 \nL 125.405414 184.643077 \nL 125.434193 184.514487 \nL 125.520529 184.593155 \nL 125.837095 184.879322 \nL 125.923431 184.650152 \nL 125.980988 184.701972 \nL 126.268775 184.959328 \nL 126.412669 184.78324 \nL 126.61412 184.96187 \nL 126.758013 184.786948 \nL 126.84435 184.863158 \nL 126.873128 184.738007 \nL 126.959464 184.814129 \nL 127.27603 185.091099 \nL 127.304809 184.966853 \nL 127.391145 185.041974 \nL 127.592596 185.216297 \nL 127.621375 185.092729 \nL 127.707711 185.167193 \nL 127.765268 185.216701 \nL 127.794047 185.093536 \nL 127.880383 185.167757 \nL 128.081834 185.34 \nL 128.110613 185.217501 \nL 128.196949 185.29108 \nL 128.513515 185.558841 \nL 128.62863 184.92752 \nL 128.686187 184.976437 \nL 128.772523 185.049615 \nL 128.801302 184.928841 \nL 128.945195 184.616358 \nL 128.973974 184.640852 \nL 129.002753 184.665319 \nL 129.06031 184.280914 \nL 129.146646 184.354695 \nL 129.376876 183.832393 \nL 129.463212 183.906456 \nL 129.491991 183.787812 \nL 129.549548 183.5509 \nL 129.635884 183.625174 \nL 129.923672 183.871067 \nL 129.981229 183.777931 \nL 130.010008 183.66047 \nL 130.096344 183.733952 \nL 130.297795 183.904519 \nL 130.355352 183.811977 \nL 130.384131 183.69529 \nL 130.470467 183.768224 \nL 130.729475 183.98567 \nL 130.787033 183.893759 \nL 130.988484 183.503828 \nL 131.103599 183.600369 \nL 131.132377 183.485343 \nL 131.218713 183.140971 \nL 131.30505 183.213673 \nL 131.73673 183.436253 \nL 131.794288 183.209044 \nL 131.880624 183.280909 \nL 132.082075 183.310961 \nL 132.19719 183.133019 \nL 132.225968 183.156867 \nL 132.254747 183.180692 \nL 132.283526 183.068185 \nL 132.312304 183.09203 \nL 132.456198 182.9391 \nL 132.974215 183.229891 \nL 133.118108 183.078359 \nL 133.233223 183.172215 \nL 133.52101 181.670633 \nL 133.549789 181.694661 \nL 133.578568 181.585365 \nL 133.607346 181.476176 \nL 133.693683 181.54837 \nL 133.722461 181.572387 \nL 133.952691 180.306667 \nL 133.98147 180.331184 \nL 134.010248 180.355677 \nL 134.182921 179.578544 \nL 134.211699 179.603319 \nL 134.298035 179.6775 \nL 134.470708 179.168696 \nL 134.614601 179.292723 \nL 134.729716 178.6071 \nL 134.787274 178.657107 \nL 134.959946 178.806555 \nL 134.988724 178.701207 \nL 135.017503 178.46585 \nL 135.103839 178.540669 \nL 135.391626 178.65922 \nL 135.420405 178.425449 \nL 135.506741 178.499829 \nL 135.53552 178.524575 \nL 135.564299 178.420361 \nL 135.76575 177.950638 \nL 135.794528 177.975539 \nL 135.823307 178.000416 \nL 135.909643 177.562075 \nL 135.967201 177.612102 \nL 136.024758 177.662034 \nL 136.053537 177.431153 \nL 136.139873 177.506165 \nL 136.226209 177.580967 \nL 136.254988 177.350882 \nL 136.341324 177.425761 \nL 136.370103 177.450674 \nL 136.398881 177.348376 \nL 136.42766 177.373302 \nL 136.456439 177.271136 \nL 136.542775 177.345882 \nL 136.571554 177.370751 \nL 136.744226 176.760614 \nL 136.974455 176.834437 \nL 137.204685 176.028915 \nL 137.291021 176.104483 \nL 137.3198 176.129627 \nL 137.348579 176.029493 \nL 137.463694 175.62988 \nL 137.55003 175.705687 \nL 137.636366 175.781284 \nL 137.722702 175.358644 \nL 137.780259 175.409245 \nL 138.010489 174.991026 \nL 138.21194 175.168091 \nL 138.413391 174.358804 \nL 138.44217 174.384293 \nL 138.499727 173.943258 \nL 138.586063 174.020117 \nL 138.758735 173.438288 \nL 138.845072 173.515518 \nL 139.075301 173.598565 \nL 139.10408 173.502304 \nL 139.190416 173.579033 \nL 139.247974 173.630072 \nL 139.363088 173.367857 \nL 139.478203 173.469947 \nL 139.593318 173.20895 \nL 139.622097 173.234486 \nL 139.650875 173.1392 \nL 139.823548 172.930691 \nL 139.909884 173.007331 \nL 140.024999 172.50867 \nL 140.053777 172.534346 \nL 140.168892 172.636825 \nL 140.22645 172.208987 \nL 140.312786 172.286106 \nL 140.485458 171.962685 \nL 140.514237 171.988421 \nL 140.802024 172.125852 \nL 140.859581 171.702565 \nL 140.945917 171.779608 \nL 141.061032 171.882018 \nL 141.089811 171.671217 \nL 141.176147 171.748033 \nL 141.348819 171.430212 \nL 141.377598 171.455844 \nL 141.406377 171.481454 \nL 141.435155 171.389481 \nL 141.55027 170.787668 \nL 141.607828 170.83931 \nL 141.722943 170.942326 \nL 141.7805 170.876747 \nL 141.809279 170.668645 \nL 141.895615 170.745928 \nL 141.924394 170.771644 \nL 141.953172 170.680687 \nL 141.981951 170.706409 \nL 142.097066 170.459872 \nL 142.154623 170.511374 \nL 142.356074 170.574983 \nL 142.384853 170.368785 \nL 142.471189 170.445792 \nL 142.499968 170.471418 \nL 142.701419 169.727267 \nL 142.787755 169.804731 \nL 142.816534 169.715339 \nL 142.845312 169.510902 \nL 142.931648 169.588477 \nL 143.133099 169.768722 \nL 143.420886 168.426224 \nL 143.449665 168.338237 \nL 143.536001 168.416604 \nL 143.56478 168.442682 \nL 143.737452 167.803294 \nL 143.881346 167.934368 \nL 143.910125 167.733828 \nL 143.996461 167.812428 \nL 144.082797 167.890832 \nL 144.22669 167.34411 \nL 144.255469 167.370373 \nL 144.399363 166.938634 \nL 144.485699 167.017667 \nL 144.514477 167.043969 \nL 144.658371 166.614505 \nL 144.773486 166.719984 \nL 144.802265 166.522503 \nL 144.888601 166.601595 \nL 144.974937 166.680493 \nL 145.003716 166.483596 \nL 145.090052 166.562509 \nL 145.233945 166.137545 \nL 145.320281 166.216624 \nL 145.34906 166.242941 \nL 145.377839 166.158252 \nL 145.636847 165.620309 \nL 145.665626 165.646751 \nL 145.723183 165.699569 \nL 145.751962 165.615548 \nL 146.01097 165.192408 \nL 146.269979 165.320323 \nL 146.298757 165.237098 \nL 146.385094 165.316087 \nL 146.586545 165.499655 \nL 146.701659 165.277275 \nL 146.845553 165.408 \nL 146.874332 165.216729 \nL 146.960668 165.295112 \nL 146.989447 165.321198 \nL 147.018225 165.238803 \nL 147.047004 165.156474 \nL 147.13334 165.234741 \nL 147.277234 165.364771 \nL 147.507463 164.494459 \nL 147.536242 164.520666 \nL 147.680136 164.221495 \nL 148.226931 162.796672 \nL 148.25571 162.823288 \nL 148.313267 162.876456 \nL 148.342046 162.69 \nL 148.428382 162.769785 \nL 148.68739 162.902012 \nL 148.946399 161.976961 \nL 149.090292 162.110132 \nL 149.176628 162.189787 \nL 149.291743 161.559691 \nL 149.349301 161.613096 \nL 149.608309 161.852404 \nL 149.637088 161.774232 \nL 149.665867 161.591501 \nL 149.752203 161.671142 \nL 149.924875 161.725616 \nL 150.068768 161.129127 \nL 150.097547 161.155729 \nL 150.212662 161.261934 \nL 150.327777 160.95301 \nL 150.356556 160.979588 \nL 150.644343 160.314848 \nL 150.7019 160.368246 \nL 150.817015 160.371766 \nL 150.845794 160.192406 \nL 150.93213 160.2724 \nL 150.960908 160.299024 \nL 151.018466 159.941172 \nL 151.104802 160.021269 \nL 151.191138 159.793602 \nL 151.277474 159.873685 \nL 151.335032 159.926973 \nL 151.36381 159.748995 \nL 151.450147 159.828947 \nL 151.651598 159.912891 \nL 151.709155 159.762218 \nL 151.795491 159.841796 \nL 151.910606 159.846054 \nL 151.968163 159.594444 \nL 152.083278 159.700403 \nL 152.112057 159.726843 \nL 152.140836 159.651997 \nL 152.342287 159.432642 \nL 152.457401 159.53833 \nL 152.630074 159.092499 \nL 152.745189 159.198299 \nL 152.889082 158.92893 \nL 152.917861 158.955382 \nL 153.061754 158.586981 \nL 153.14809 158.566517 \nL 153.435878 157.535859 \nL 153.579771 157.669554 \nL 153.752443 157.730146 \nL 153.781222 157.657585 \nL 153.867558 157.737376 \nL 154.155345 157.903399 \nL 154.471911 157.111465 \nL 154.558247 157.191156 \nL 154.673362 157.199091 \nL 154.730919 156.958097 \nL 154.788477 157.011182 \nL 155.018707 157.125129 \nL 155.364051 156.17691 \nL 155.450387 156.25672 \nL 155.594281 156.389358 \nL 155.62306 156.222032 \nL 155.709396 156.301538 \nL 155.766953 156.354448 \nL 155.795732 156.284184 \nL 155.882068 156.073689 \nL 155.910847 156.100178 \nL 155.997183 156.08308 \nL 156.025961 156.013111 \nL 156.112298 156.092445 \nL 156.28497 156.154498 \nL 156.601536 155.294244 \nL 156.687872 155.373779 \nL 156.802987 155.384062 \nL 156.831765 155.315026 \nL 156.918101 155.394316 \nL 157.090774 155.552395 \nL 157.119552 155.388407 \nL 157.205889 155.467343 \nL 157.292225 155.546112 \nL 157.321003 155.47743 \nL 157.522454 155.092665 \nL 157.580012 155.145256 \nL 157.723905 155.181974 \nL 157.896578 155.056227 \nL 158.011692 155.160914 \nL 158.155586 154.821611 \nL 158.328258 154.978531 \nL 158.385816 154.655926 \nL 158.472152 154.734421 \nL 158.50093 154.760551 \nL 158.529709 154.693131 \nL 158.616045 154.491152 \nL 158.644824 154.51732 \nL 158.73116 154.50241 \nL 158.846275 154.047748 \nL 158.903832 154.100226 \nL 159.047726 154.231108 \nL 159.076505 154.071385 \nL 159.162841 154.149836 \nL 159.19162 154.175951 \nL 159.364292 153.776627 \nL 159.450628 153.855112 \nL 159.652079 153.299287 \nL 159.709636 153.075087 \nL 159.824751 153.180224 \nL 159.882309 153.232685 \nL 160.054981 152.562947 \nL 160.08376 152.589324 \nL 160.112538 152.615684 \nL 160.198874 152.327854 \nL 160.256432 152.380661 \nL 160.342768 152.459737 \nL 160.486661 152.134217 \nL 160.601776 152.239664 \nL 160.659334 152.018658 \nL 160.716891 152.071388 \nL 160.803227 152.150352 \nL 160.832006 151.994588 \nL 160.918342 152.073523 \nL 161.004678 152.152299 \nL 161.033457 152.087711 \nL 161.177351 151.856077 \nL 161.40758 151.975329 \nL 161.609031 151.255997 \nL 161.63781 151.282336 \nL 161.810482 151.44 \nL 161.839261 151.286276 \nL 161.925597 151.365 \nL 161.983154 151.147931 \nL 162.069491 151.226662 \nL 162.213384 151.26795 \nL 162.328499 151.014589 \nL 162.357278 151.04079 \nL 162.414835 151.09314 \nL 162.587507 150.53616 \nL 162.616286 150.562441 \nL 163.19186 149.046845 \nL 163.335754 149.179603 \nL 163.479647 149.31193 \nL 163.508426 149.250068 \nL 163.537205 149.1 \nL 163.623541 149.179345 \nL 163.65232 149.205759 \nL 163.709877 148.99431 \nL 163.767434 149.047189 \nL 163.824992 149.1 \nL 163.997664 148.731279 \nL 164.026443 148.757727 \nL 164.170336 148.188743 \nL 164.227894 148.241869 \nL 164.285451 148.294926 \nL 164.343009 148.08556 \nL 164.400566 148.13865 \nL 164.458123 148.191671 \nL 164.630796 147.565786 \nL 164.659574 147.592421 \nL 164.688353 147.619038 \nL 164.774689 147.350663 \nL 164.832247 147.403968 \nL 165.091255 147.556273 \nL 165.120034 147.409378 \nL 165.20637 147.488948 \nL 165.465378 147.640381 \nL 165.494157 147.494066 \nL 165.580493 147.573228 \nL 165.695608 147.592393 \nL 165.810723 147.181311 \nL 165.86828 147.234116 \nL 165.897059 147.260493 \nL 165.925838 147.200923 \nL 166.040952 146.963019 \nL 166.069731 146.989432 \nL 166.184846 147.094918 \nL 166.32874 146.884193 \nL 166.415076 146.963208 \nL 166.443854 146.818623 \nL 166.530191 146.897601 \nL 166.904314 147.153106 \nL 167.019429 146.747966 \nL 167.076986 146.80035 \nL 167.22088 146.931022 \nL 167.249658 146.872409 \nL 167.969126 145.166716 \nL 168.11302 145.29866 \nL 168.141798 145.325 \nL 168.170577 145.267461 \nL 168.343249 144.755553 \nL 168.372028 144.781995 \nL 168.429585 144.834831 \nL 168.458364 144.694014 \nL 168.5447 144.773251 \nL 168.602258 144.825995 \nL 168.77493 144.400576 \nL 168.890045 144.506197 \nL 169.033938 144.222391 \nL 169.149053 144.244947 \nL 169.177832 144.188352 \nL 169.235389 144.241098 \nL 169.321725 144.320098 \nL 169.408062 144.067893 \nL 169.465619 144.120584 \nL 169.868521 144.405273 \nL 169.8973 144.266719 \nL 169.983636 144.345145 \nL 170.213865 144.471522 \nL 170.242644 144.33345 \nL 170.32898 144.411532 \nL 170.760661 144.799832 \nL 170.904554 144.521115 \nL 170.990891 144.598491 \nL 171.134784 144.239462 \nL 171.163563 144.265291 \nL 171.249899 144.342688 \nL 171.278678 144.206139 \nL 171.365014 144.283496 \nL 171.537686 144.437796 \nL 171.710358 144.106766 \nL 171.739137 144.051709 \nL 171.796694 144.103142 \nL 171.911809 144.205826 \nL 172.170818 143.471006 \nL 172.314711 143.519468 \nL 172.429826 143.301493 \nL 172.458605 143.327257 \nL 172.487384 143.353005 \nL 172.516162 143.298608 \nL 172.660056 143.027106 \nL 172.746392 143.104412 \nL 172.775171 143.050232 \nL 172.861507 142.72819 \nL 172.919064 142.779812 \nL 172.947843 142.8056 \nL 173.0054 142.617941 \nL 173.062958 142.669551 \nL 173.350745 142.847249 \nL 173.494638 142.658039 \nL 173.523417 142.683712 \nL 173.552196 142.70937 \nL 173.580975 142.576483 \nL 173.667311 142.653462 \nL 173.753647 142.730306 \nL 173.868762 142.437383 \nL 173.89754 142.463023 \nL 174.214106 142.744086 \nL 174.358 142.399375 \nL 174.386778 142.4249 \nL 174.415557 142.450411 \nL 174.473115 142.187168 \nL 174.559451 142.263794 \nL 174.617008 142.314805 \nL 174.674565 142.052172 \nL 174.760902 142.128761 \nL 174.78968 142.075955 \nL 174.847238 142.126957 \nL 174.876016 142.152435 \nL 174.991131 141.94161 \nL 175.01991 141.967105 \nL 175.192582 142.041779 \nL 175.278918 141.806284 \nL 175.336476 141.857192 \nL 175.480369 141.906438 \nL 175.68182 141.462901 \nL 175.768156 141.306591 \nL 175.825714 141.357536 \nL 175.91205 141.433846 \nL 176.027165 141.303347 \nL 176.430067 141.580816 \nL 176.458845 141.529034 \nL 176.516403 141.579507 \nL 176.832969 141.779356 \nL 176.919305 141.471199 \nL 177.063198 141.060845 \nL 177.091977 141.086072 \nL 177.207092 141.186835 \nL 177.379764 140.803269 \nL 177.408543 140.82849 \nL 177.581215 140.522455 \nL 177.609994 140.547705 \nL 177.667551 140.369824 \nL 177.725109 140.420353 \nL 177.782666 140.470825 \nL 177.955338 140.166501 \nL 178.099232 140.292649 \nL 178.243126 139.888622 \nL 178.271904 139.913886 \nL 178.300683 139.939137 \nL 178.329462 139.888748 \nL 178.35824 139.838387 \nL 178.415798 139.888874 \nL 178.444576 139.914097 \nL 178.502134 139.6625 \nL 178.58847 139.738251 \nL 178.876257 139.989848 \nL 178.933815 139.81444 \nL 178.991372 139.864661 \nL 179.020151 139.889751 \nL 179.135266 139.614765 \nL 179.164044 139.63989 \nL 179.307938 139.765303 \nL 179.394274 139.540964 \nL 179.451831 139.591115 \nL 179.509389 139.64121 \nL 179.595725 139.492117 \nL 179.624504 139.517164 \nL 179.71084 139.592224 \nL 179.854733 139.269888 \nL 179.883512 139.294934 \nL 180.056184 139.370542 \nL 180.228857 139.07459 \nL 180.315193 139.149582 \nL 180.343971 139.02619 \nL 180.430307 139.10114 \nL 180.459086 139.126096 \nL 180.487865 139.076958 \nL 180.689316 138.511926 \nL 180.718095 138.536981 \nL 180.804431 138.538207 \nL 180.948324 138.220624 \nL 180.977103 138.245697 \nL 181.120997 138.370859 \nL 181.293669 138.079491 \nL 181.380005 138.081081 \nL 181.408784 138.032651 \nL 181.49512 137.887516 \nL 181.523898 137.912551 \nL 181.696571 138.062474 \nL 181.754128 137.965936 \nL 181.955579 137.482742 \nL 181.984358 137.361688 \nL 182.070694 137.436831 \nL 182.185809 137.172296 \nL 182.272145 137.247451 \nL 182.588711 137.376718 \nL 182.617489 137.32902 \nL 182.675047 137.378852 \nL 182.81894 137.35824 \nL 182.847719 137.310648 \nL 182.905277 137.360384 \nL 183.135506 137.414262 \nL 183.250621 137.296733 \nL 183.308178 137.201986 \nL 183.394515 137.27634 \nL 183.509629 136.94318 \nL 183.567187 136.992807 \nL 183.854974 136.52225 \nL 183.912531 136.571943 \nL 183.970089 136.478153 \nL 184.17154 136.651746 \nL 184.344212 136.371212 \nL 184.401769 136.420762 \nL 184.545663 136.473071 \nL 184.574442 136.35514 \nL 184.660778 136.429303 \nL 185.034901 135.612981 \nL 185.178795 135.736973 \nL 185.236352 135.786479 \nL 185.265131 135.740339 \nL 185.293909 135.623368 \nL 185.380246 135.697619 \nL 185.552918 135.704395 \nL 185.72559 135.217097 \nL 185.754369 135.241869 \nL 186.042156 135.348131 \nL 186.186049 135.190194 \nL 186.214828 135.214871 \nL 186.272386 135.264186 \nL 186.301164 135.148396 \nL 186.329943 135.102862 \nL 186.3875 135.152184 \nL 186.61773 135.348964 \nL 186.646509 135.23351 \nL 186.934296 134.501135 \nL 187.049411 134.599815 \nL 187.078189 134.484997 \nL 187.222083 133.911791 \nL 187.308419 133.986083 \nL 187.423534 134.015448 \nL 187.452313 133.970657 \nL 187.596206 133.816456 \nL 187.653764 133.865881 \nL 187.682542 133.751865 \nL 187.883993 133.370769 \nL 187.999108 133.469771 \nL 188.056666 133.380946 \nL 188.085444 133.26746 \nL 188.17178 133.341677 \nL 188.344453 133.351872 \nL 188.373231 133.307613 \nL 188.430789 133.356958 \nL 188.459568 133.381612 \nL 188.488346 133.268528 \nL 188.63224 133.116619 \nL 188.718576 132.984425 \nL 188.776133 133.033783 \nL 188.920027 133.019758 \nL 189.121478 132.575601 \nL 189.207814 132.649668 \nL 189.236593 132.60592 \nL 189.495601 131.940151 \nL 189.725831 132.138045 \nL 189.754609 132.094623 \nL 189.783388 131.983136 \nL 189.869724 132.057222 \nL 189.927282 131.970548 \nL 189.984839 132.019895 \nL 190.157511 132.03191 \nL 190.18629 131.988677 \nL 190.243848 132.037904 \nL 190.761864 132.343726 \nL 190.905758 131.993659 \nL 190.934537 132.018125 \nL 190.963315 132.042579 \nL 190.992094 131.932266 \nL 191.020873 131.956729 \nL 191.049651 131.846492 \nL 191.135988 131.919871 \nL 191.826677 130.964391 \nL 191.855455 130.988917 \nL 192.172021 131.191215 \nL 192.43103 130.545191 \nL 192.661259 130.608035 \nL 192.776374 130.174863 \nL 192.86271 130.248392 \nL 193.179276 130.384818 \nL 193.208055 130.343089 \nL 193.265612 130.39186 \nL 193.32317 130.308481 \nL 193.409506 130.381574 \nL 193.553399 130.041698 \nL 193.582178 130.066091 \nL 193.697293 130.097703 \nL 193.812408 129.931917 \nL 193.841186 129.956284 \nL 193.869965 129.980639 \nL 193.898744 129.873519 \nL 194.042637 129.732609 \nL 194.301646 129.885987 \nL 194.330424 129.779277 \nL 194.416761 129.852136 \nL 194.445539 129.876399 \nL 194.474318 129.769819 \nL 194.589433 129.605424 \nL 194.618211 129.629712 \nL 194.64699 129.653987 \nL 194.675769 129.547641 \nL 194.762105 129.48994 \nL 194.790884 129.51422 \nL 194.848441 129.432322 \nL 195.165007 129.698722 \nL 195.280122 129.600316 \nL 195.308901 129.624465 \nL 195.395237 129.631927 \nL 195.510351 129.404066 \nL 195.53913 129.428216 \nL 195.76936 129.491571 \nL 196.114704 129.005385 \nL 196.172262 129.053621 \nL 196.344934 129.069242 \nL 196.517606 128.827553 \nL 196.690279 128.84345 \nL 196.89173 128.242123 \nL 196.949287 128.290413 \nL 197.208295 128.379247 \nL 197.265853 128.235579 \nL 197.352189 128.307779 \nL 197.524861 128.324299 \nL 197.841427 127.569775 \nL 197.870206 127.593897 \nL 197.898984 127.554413 \nL 197.956542 127.348372 \nL 198.042878 127.42079 \nL 198.100435 127.469012 \nL 198.157993 127.390269 \nL 198.330665 127.027736 \nL 198.359444 127.051888 \nL 198.560895 127.157384 \nL 198.589673 127.118222 \nL 198.848682 126.577265 \nL 199.078912 126.707207 \nL 199.10769 126.605338 \nL 199.194026 126.677601 \nL 199.251584 126.725721 \nL 199.280362 126.686876 \nL 199.309141 126.585177 \nL 199.395477 126.657337 \nL 199.424256 126.681368 \nL 199.453035 126.579787 \nL 199.481813 126.603825 \nL 199.510592 126.502309 \nL 199.596928 126.57441 \nL 199.798379 126.679631 \nL 199.971052 126.385375 \nL 199.99983 126.409358 \nL 200.028609 126.370819 \nL 200.114945 126.067902 \nL 200.201281 126.139954 \nL 200.316396 126.048765 \nL 200.345175 126.07276 \nL 200.489068 126.068002 \nL 200.604183 125.977088 \nL 200.632962 126.001044 \nL 200.863192 126.130199 \nL 201.007085 125.939315 \nL 201.208536 126.044375 \nL 201.237315 126.006287 \nL 201.323651 125.954 \nL 201.35243 125.977824 \nL 201.611438 126.068299 \nL 201.640217 126.030327 \nL 201.697774 126.077812 \nL 201.812889 126.172653 \nL 201.841668 126.073099 \nL 201.870446 125.97359 \nL 201.956783 126.044711 \nL 201.985561 126.068397 \nL 202.01434 126.030537 \nL 202.129455 125.879267 \nL 202.158233 125.902958 \nL 202.330906 125.615203 \nL 202.417242 125.68631 \nL 202.67625 125.776622 \nL 202.848923 125.490202 \nL 202.935259 125.561106 \nL 202.964037 125.462562 \nL 203.194267 125.041615 \nL 203.366939 125.183548 \nL 203.395718 125.08542 \nL 203.625948 124.666559 \nL 203.683505 124.592447 \nL 203.827399 124.710804 \nL 203.971292 124.465284 \nL 204.000071 124.488952 \nL 204.287858 124.604146 \nL 204.316637 124.506845 \nL 204.402973 124.5776 \nL 204.46053 124.624718 \nL 204.518088 124.551101 \nL 204.661981 124.427625 \nL 204.748317 124.317527 \nL 204.805875 124.364634 \nL 204.892211 124.435218 \nL 204.92099 124.338406 \nL 205.093662 123.998753 \nL 205.122441 124.02232 \nL 205.410228 124.137552 \nL 205.467785 124.004778 \nL 205.554121 124.075242 \nL 205.611679 124.002483 \nL 205.698015 124.072871 \nL 205.81313 123.92758 \nL 205.841908 123.951033 \nL 205.899466 123.997909 \nL 205.928244 123.901937 \nL 206.072138 123.661237 \nL 206.100917 123.684703 \nL 206.273589 123.706199 \nL 206.561376 123.108197 \nL 206.590155 123.131696 \nL 206.618934 123.036417 \nL 206.676491 122.845984 \nL 206.762827 122.91656 \nL 207.13695 123.103025 \nL 207.194508 122.913309 \nL 207.280844 122.983565 \nL 207.338401 122.912229 \nL 207.424737 122.98241 \nL 207.654967 122.520989 \nL 207.856418 122.567143 \nL 208.316877 122.060708 \nL 208.345656 122.084123 \nL 208.518328 122.165867 \nL 208.604665 122.001903 \nL 208.662222 122.048649 \nL 208.863673 122.095166 \nL 209.007566 122.094979 \nL 209.180239 122.234556 \nL 209.209017 122.141307 \nL 209.295354 121.861799 \nL 209.38169 121.931633 \nL 209.496805 121.908377 \nL 209.640698 121.90839 \nL 209.669477 121.931608 \nL 209.698255 121.838762 \nL 209.957264 121.699919 \nL 210.388945 121.989278 \nL 210.504059 121.677733 \nL 210.561617 121.723963 \nL 210.676732 121.758694 \nL 210.993297 121.092358 \nL 211.108412 121.127513 \nL 211.396199 120.556129 \nL 211.59765 120.489474 \nL 211.683986 120.444629 \nL 212.000552 120.242645 \nL 212.086888 120.312121 \nL 212.115667 120.22125 \nL 212.259561 120.052194 \nL 212.48979 120.123539 \nL 212.662463 119.921387 \nL 212.863914 119.969662 \nL 212.979028 120.005277 \nL 213.238037 120.155873 \nL 213.38193 120.044738 \nL 213.497045 120.080158 \nL 213.583381 120.092584 \nL 213.727275 119.925448 \nL 214.245292 120.224758 \nL 214.360406 120.091548 \nL 214.389185 120.114355 \nL 214.475521 120.182722 \nL 214.5043 120.093432 \nL 214.705751 120.028925 \nL 215.022317 120.167172 \nL 215.194989 119.968615 \nL 215.39644 120.071626 \nL 215.655448 119.552656 \nL 215.799342 119.610588 \nL 215.914457 119.534816 \nL 215.972014 119.580147 \nL 216.000793 119.491927 \nL 216.202244 119.428961 \nL 216.259801 119.418909 \nL 216.490031 119.047317 \nL 216.892933 119.253782 \nL 217.065605 119.003927 \nL 217.238277 119.139353 \nL 217.267056 119.052007 \nL 217.382171 118.867671 \nL 217.41095 118.890242 \nL 217.698737 119.060677 \nL 217.957745 118.606566 \nL 218.101639 118.71914 \nL 218.130417 118.632405 \nL 218.187975 118.513629 \nL 218.245532 118.558651 \nL 218.446983 118.606961 \nL 218.475762 118.520457 \nL 218.562098 118.587837 \nL 218.677213 118.623147 \nL 218.763549 118.364145 \nL 218.849885 118.431483 \nL 218.965 118.466848 \nL 219.19523 118.103742 \nL 219.454238 117.980713 \nL 219.914698 118.230554 \nL 220.029812 118.265818 \nL 220.202485 118.291693 \nL 220.231263 118.206297 \nL 220.317599 118.27305 \nL 220.432714 117.985699 \nL 220.576608 117.721114 \nL 220.605387 117.743417 \nL 220.691723 117.810272 \nL 220.720501 117.725258 \nL 221.497527 116.989823 \nL 221.64142 116.994658 \nL 221.698978 116.826081 \nL 221.785314 116.892978 \nL 221.929207 117.004298 \nL 221.957986 116.920157 \nL 222.044322 116.774246 \nL 222.101879 116.818768 \nL 222.504781 117.023467 \nL 222.619896 116.847247 \nL 222.648675 116.869412 \nL 222.792569 116.927215 \nL 222.878905 116.782124 \nL 222.936462 116.826392 \nL 223.19547 116.919682 \nL 223.339364 116.71375 \nL 223.368143 116.735833 \nL 223.540815 116.815528 \nL 223.713487 116.632226 \nL 223.943717 116.703371 \nL 224.058832 116.424218 \nL 224.202725 116.272344 \nL 224.289061 116.28608 \nL 224.432955 115.977644 \nL 224.490512 116.021762 \nL 224.663185 116.049454 \nL 224.778299 115.92871 \nL 224.807078 115.950731 \nL 225.094865 115.805932 \nL 225.238759 115.811784 \nL 225.468989 115.363968 \nL 225.497767 115.385997 \nL 225.785554 115.242937 \nL 226.217235 115.520449 \nL 226.33235 115.452999 \nL 226.620137 115.568376 \nL 226.735252 115.501069 \nL 226.879145 115.507146 \nL 226.99426 115.285714 \nL 227.051818 115.329351 \nL 227.339605 115.187857 \nL 227.483498 115.194206 \nL 227.512277 115.113468 \nL 227.598613 115.178786 \nL 227.771285 115.258035 \nL 227.828843 115.096869 \nL 227.915179 115.162061 \nL 228.11663 115.109684 \nL 228.260523 115.167078 \nL 228.519532 114.648917 \nL 228.54831 114.670642 \nL 228.836098 114.785822 \nL 228.979991 114.640187 \nL 229.095106 114.62533 \nL 229.411672 114.458029 \nL 229.526787 114.44335 \nL 229.843352 114.276887 \nL 230.102361 114.420679 \nL 230.418927 113.852509 \nL 230.56282 113.859967 \nL 230.764271 113.45887 \nL 230.79305 113.480502 \nL 230.908165 113.466674 \nL 231.080837 113.295721 \nL 231.138394 113.288886 \nL 231.368624 112.961648 \nL 231.483739 112.998206 \nL 231.570075 112.863328 \nL 231.627632 112.906581 \nL 231.829083 112.958027 \nL 232.001756 112.938003 \nL 232.088092 113.002651 \nL 232.116871 112.924679 \nL 233.152904 112.064223 \nL 233.210462 112.107333 \nL 233.23924 112.030076 \nL 233.268019 111.952848 \nL 233.354355 112.017515 \nL 233.498249 112.0265 \nL 233.642142 112.035468 \nL 233.872372 111.961217 \nL 234.246495 112.14168 \nL 234.649397 111.901935 \nL 234.706954 111.9447 \nL 234.735733 111.868196 \nL 234.908405 111.605288 \nL 234.937184 111.626693 \nL 234.965963 111.648091 \nL 234.994742 111.571763 \nL 235.196192 111.282226 \nL 235.340086 111.291767 \nL 235.455201 111.328618 \nL 235.656652 111.429474 \nL 235.91566 111.038284 \nL 236.059554 111.048 \nL 236.14589 111.112033 \nL 236.174669 111.03636 \nL 236.261005 110.809502 \nL 236.347341 110.873583 \nL 236.779022 111.09632 \nL 236.951694 110.934086 \nL 236.980473 110.955341 \nL 237.009251 110.880085 \nL 237.153145 110.793459 \nL 237.181923 110.814712 \nL 237.210702 110.739574 \nL 237.556047 110.561338 \nL 237.786276 110.635018 \nL 237.815055 110.560191 \nL 237.901391 110.623792 \nL 237.958949 110.618186 \nL 238.074063 110.463175 \nL 238.102842 110.484366 \nL 238.131621 110.50555 \nL 238.1604 110.430904 \nL 238.361851 110.387641 \nL 238.649638 110.551213 \nL 238.764753 110.444636 \nL 238.793531 110.465742 \nL 238.879867 110.481313 \nL 238.994982 110.327268 \nL 239.023761 110.348364 \nL 239.138876 110.337424 \nL 239.196433 110.236742 \nL 239.253991 110.278907 \nL 239.369105 110.268031 \nL 239.512999 110.088147 \nL 239.541778 110.109219 \nL 239.71445 110.140576 \nL 239.858344 110.056015 \nL 239.973458 110.09272 \nL 240.088573 109.987317 \nL 240.117352 110.008333 \nL 240.347582 109.656142 \nL 240.37636 109.582643 \nL 240.462696 109.645771 \nL 240.577811 109.682626 \nL 240.60659 109.609225 \nL 240.692926 109.672251 \nL 240.865598 109.703846 \nL 241.297279 109.171442 \nL 241.441173 108.994588 \nL 241.469951 109.015605 \nL 241.642624 109.047732 \nL 241.815296 108.798621 \nL 241.844074 108.819624 \nL 242.045525 108.919649 \nL 242.333313 108.474823 \nL 242.448427 108.512071 \nL 242.563542 108.549269 \nL 242.592321 108.476932 \nL 242.678657 108.539794 \nL 242.764993 108.555995 \nL 242.937665 108.402151 \nL 243.110338 108.388127 \nL 243.340567 108.462348 \nL 243.628355 107.975357 \nL 243.685912 108.017187 \nL 243.714691 107.945421 \nL 243.916142 107.906542 \nL 244.031256 107.89758 \nL 244.088814 107.754407 \nL 244.17515 107.817083 \nL 244.319044 107.829061 \nL 244.549273 107.48855 \nL 244.779503 107.563361 \nL 244.894618 107.508664 \nL 244.980954 107.571168 \nL 245.009733 107.500024 \nL 245.153626 107.512211 \nL 245.29752 107.570282 \nL 245.355077 107.428283 \nL 245.441413 107.490658 \nL 245.470192 107.511436 \nL 245.498971 107.440506 \nL 245.614085 107.340303 \nL 245.642864 107.361085 \nL 246.103324 107.098699 \nL 246.247217 107.111145 \nL 247.283251 106.35616 \nL 247.312029 106.376905 \nL 247.340808 106.306923 \nL 247.455923 106.208546 \nL 247.484702 106.229295 \nL 247.571038 106.2915 \nL 247.599816 106.221636 \nL 247.657374 106.127256 \nL 247.714931 106.168726 \nL 247.887604 106.157318 \nL 248.204169 106.023627 \nL 248.376842 106.102575 \nL 248.40562 106.033067 \nL 248.578293 105.84169 \nL 248.894858 105.93388 \nL 249.038752 105.94709 \nL 249.182646 105.915396 \nL 249.355318 105.724988 \nL 249.384096 105.745591 \nL 249.412875 105.676544 \nL 249.556769 105.510786 \nL 249.585547 105.5314 \nL 249.671884 105.503692 \nL 249.988449 104.970473 \nL 250.074786 104.943105 \nL 250.161122 104.737241 \nL 250.247458 104.799232 \nL 250.535245 104.87182 \nL 250.765475 104.81408 \nL 250.909368 104.828064 \nL 251.139598 104.504206 \nL 251.369827 104.535793 \nL 251.5425 104.349091 \nL 251.657615 104.342833 \nL 251.801508 104.268697 \nL 251.97418 104.303579 \nL 252.089295 104.076641 \nL 252.146853 104.11774 \nL 252.664869 104.398426 \nL 252.779984 104.128335 \nL 252.86632 104.189709 \nL 253.154107 104.262215 \nL 253.298001 104.188766 \nL 253.873575 104.464313 \nL 254.046248 104.280289 \nL 254.132584 104.341156 \nL 254.161362 104.274163 \nL 254.305256 104.026718 \nL 254.362813 104.067325 \nL 255.456404 103.317686 \nL 255.571519 103.398809 \nL 255.600298 103.332499 \nL 255.744191 103.174278 \nL 255.77297 103.194558 \nL 255.859306 103.212137 \nL 255.888085 103.145963 \nL 256.147093 103.069216 \nL 256.290987 103.170414 \nL 256.348544 103.081523 \nL 256.377323 103.015547 \nL 256.463659 103.076234 \nL 256.722668 103.128889 \nL 256.89534 103.12093 \nL 257.068012 103.198863 \nL 257.096791 103.133129 \nL 257.269463 103.125182 \nL 257.729922 103.317979 \nL 257.845037 103.184313 \nL 257.873816 103.20436 \nL 257.960152 103.221732 \nL 257.988931 103.156316 \nL 258.190382 103.125728 \nL 258.334275 103.097829 \nL 258.44939 103.135202 \nL 258.506948 103.175172 \nL 258.535726 103.109958 \nL 258.67962 103.039562 \nL 258.881071 103.051732 \nL 259.140079 102.679175 \nL 259.168858 102.69916 \nL 259.197637 102.634254 \nL 259.312751 102.502079 \nL 259.34153 102.522072 \nL 259.456645 102.559601 \nL 259.485424 102.494818 \nL 259.629317 102.340576 \nL 259.658096 102.360561 \nL 259.744432 102.37816 \nL 259.773211 102.313506 \nL 259.974662 102.030546 \nL 260.00344 102.050541 \nL 260.176113 102.085946 \nL 260.204891 102.021488 \nL 260.291228 102.081385 \nL 260.435121 102.096771 \nL 260.550236 102.007943 \nL 260.579015 102.02788 \nL 260.722908 102.127471 \nL 260.751687 102.063196 \nL 260.838023 101.954626 \nL 260.89558 101.994448 \nL 261.010695 102.03199 \nL 261.240925 102.064958 \nL 261.442376 101.868355 \nL 261.58627 101.967609 \nL 261.615048 101.903656 \nL 261.643827 101.839723 \nL 261.730163 101.899242 \nL 261.960393 101.848615 \nL 262.104286 101.94761 \nL 262.161844 101.861853 \nL 262.276959 101.732244 \nL 262.305737 101.752039 \nL 262.449631 101.725806 \nL 262.67986 101.46731 \nL 262.881311 101.522517 \nL 262.996426 101.435196 \nL 263.025205 101.454961 \nL 263.80223 101.862121 \nL 263.917345 101.650871 \nL 264.061239 101.459534 \nL 264.090017 101.479185 \nL 264.176353 101.538099 \nL 264.205132 101.475087 \nL 264.406583 101.240911 \nL 264.464141 101.2802 \nL 264.521698 101.195714 \nL 264.69437 101.024989 \nL 264.838264 100.999636 \nL 264.982157 100.768569 \nL 265.039715 100.807883 \nL 265.126051 100.784569 \nL 265.183608 100.659419 \nL 265.269944 100.718367 \nL 265.413838 100.816495 \nL 265.442617 100.754001 \nL 265.471395 100.691525 \nL 265.557731 100.75037 \nL 265.845519 100.82324 \nL 265.874297 100.760886 \nL 265.960633 100.819575 \nL 266.075748 100.815914 \nL 266.104527 100.753636 \nL 266.190863 100.812258 \nL 266.334757 100.787264 \nL 266.363535 100.725074 \nL 266.449871 100.78363 \nL 266.651322 100.756884 \nL 266.766437 100.753274 \nL 266.93911 100.584942 \nL 267.140561 100.63985 \nL 267.313233 100.512599 \nL 267.428348 100.509148 \nL 267.716135 100.135433 \nL 267.888807 100.130605 \nL 268.003922 100.086885 \nL 268.147815 100.103142 \nL 268.320488 99.977033 \nL 268.435602 99.933502 \nL 268.579496 99.949837 \nL 268.72339 100.006503 \nL 268.752168 99.945196 \nL 268.953619 99.677787 \nL 268.982398 99.697206 \nL 269.241406 99.630227 \nL 269.442857 99.645266 \nL 269.557972 99.682549 \nL 269.932095 99.81344 \nL 269.960874 99.752541 \nL 270.04721 99.810447 \nL 270.191104 99.786684 \nL 270.881793 99.409692 \nL 271.025686 99.386324 \nL 271.227137 99.361636 \nL 271.255916 99.380876 \nL 271.284695 99.320451 \nL 271.313473 99.260044 \nL 271.39981 99.317768 \nL 272.148056 98.903846 \nL 272.435843 98.976976 \nL 272.550958 98.895358 \nL 272.579737 98.914538 \nL 272.608515 98.933712 \nL 272.637294 98.873765 \nL 272.72363 98.73357 \nL 272.781188 98.771937 \nL 272.95386 98.768422 \nL 273.212868 98.703997 \nL 273.586992 98.834322 \nL 273.903557 98.375792 \nL 274.018672 98.452256 \nL 274.047451 98.392803 \nL 274.277681 98.074729 \nL 274.306459 98.093861 \nL 274.536689 98.129174 \nL 274.766919 97.851317 \nL 274.96837 97.867733 \nL 275.054706 97.768684 \nL 275.112263 97.806882 \nL 275.428829 97.899558 \nL 275.601501 97.740946 \nL 275.831731 97.815365 \nL 276.090739 97.480938 \nL 276.29219 97.497616 \nL 276.493641 97.281456 \nL 276.695092 97.337062 \nL 276.75265 97.25882 \nL 276.810207 97.296842 \nL 277.040437 97.332625 \nL 277.069215 97.274221 \nL 277.155552 97.33115 \nL 277.270666 97.368328 \nL 277.357003 97.309254 \nL 277.500896 97.326733 \nL 277.731126 97.362361 \nL 277.961355 97.128265 \nL 278.162806 97.183622 \nL 278.393036 96.834909 \nL 278.421815 96.853829 \nL 278.450594 96.872744 \nL 278.479372 96.814809 \nL 278.680823 96.601644 \nL 278.911053 96.637884 \nL 279.083725 96.636279 \nL 279.19884 96.596924 \nL 279.457848 96.307783 \nL 279.630521 96.306461 \nL 279.774414 96.057193 \nL 279.831972 96.094992 \nL 280.09098 96.188583 \nL 280.206095 96.149672 \nL 280.378767 96.224622 \nL 280.407546 96.167321 \nL 280.522661 96.01436 \nL 280.580218 96.052033 \nL 280.75289 96.050932 \nL 280.896784 95.917117 \nL 280.925563 95.935935 \nL 281.040677 95.897322 \nL 281.21335 95.896354 \nL 281.414801 95.95204 \nL 281.558694 95.818722 \nL 281.587473 95.837494 \nL 281.788924 95.893137 \nL 281.846481 95.817222 \nL 281.904039 95.854709 \nL 282.134268 95.891215 \nL 282.249383 95.777405 \nL 282.278162 95.79612 \nL 282.364498 95.814532 \nL 282.393277 95.757836 \nL 282.479613 95.663208 \nL 282.53717 95.700624 \nL 283.141523 95.416119 \nL 283.314196 95.45309 \nL 283.486868 95.34 \nL 283.65954 95.376973 \nL 283.860991 95.058179 \nL 283.918548 95.095514 \nL 284.148778 95.132504 \nL 284.379008 95.094733 \nL 284.55168 95.094441 \nL 284.78191 94.833172 \nL 284.925803 94.702757 \nL 284.954582 94.721381 \nL 285.127254 94.721396 \nL 285.357484 94.498417 \nL 285.530156 94.535751 \nL 285.817943 94.20226 \nL 285.933058 94.239618 \nL 286.220845 94.351344 \nL 286.278403 94.240436 \nL 286.364739 94.296124 \nL 286.451075 94.277818 \nL 286.479854 94.222427 \nL 286.56619 94.278069 \nL 286.825198 94.370907 \nL 287.084207 93.910555 \nL 287.141764 93.947634 \nL 287.256879 93.911229 \nL 287.429551 93.80149 \nL 287.688559 93.857771 \nL 288.062683 93.730887 \nL 288.465585 93.91592 \nL 288.609478 93.824972 \nL 288.78215 93.862282 \nL 288.839708 93.752833 \nL 288.926044 93.808052 \nL 289.041159 93.772025 \nL 289.213831 93.626813 \nL 289.24261 93.645209 \nL 289.271388 93.590624 \nL 289.328946 93.517976 \nL 289.386503 93.554773 \nL 289.616733 93.592473 \nL 290.767881 92.982594 \nL 290.911775 92.965659 \nL 291.02689 92.930413 \nL 291.199562 92.931857 \nL 291.401013 92.915475 \nL 291.45857 92.95208 \nL 291.487349 92.898145 \nL 291.631243 92.845232 \nL 291.746358 92.882309 \nL 291.861472 92.919347 \nL 291.890251 92.865517 \nL 292.062923 92.75895 \nL 292.379489 92.851751 \nL 292.437047 92.744379 \nL 292.523383 92.799085 \nL 293.386744 92.162339 \nL 293.645752 91.861445 \nL 294.048654 92.009508 \nL 295.401254 91.299045 \nL 295.545147 91.283563 \nL 295.631483 91.23176 \nL 295.660262 91.249934 \nL 296.063164 91.397762 \nL 296.264615 91.171123 \nL 296.293394 91.189253 \nL 296.466066 91.227323 \nL 296.494845 91.174831 \nL 296.581181 91.229147 \nL 296.753853 91.267137 \nL 296.926525 91.164148 \nL 297.415763 91.365349 \nL 297.530878 91.261691 \nL 297.559657 91.279705 \nL 297.617214 91.31572 \nL 297.645993 91.263488 \nL 297.962559 90.865158 \nL 298.077674 90.902205 \nL 298.106452 90.850134 \nL 298.423018 90.45321 \nL 298.59569 90.56142 \nL 298.624469 90.509514 \nL 298.797141 90.268226 \nL 298.854699 90.304302 \nL 299.05615 90.360632 \nL 299.228822 90.18966 \nL 299.257601 90.207676 \nL 299.430273 90.211161 \nL 299.746839 90.130567 \nL 299.833175 90.114949 \nL 299.919511 90.064581 \nL 299.94829 90.082558 \nL 300.207298 90.174704 \nL 300.351192 90.125576 \nL 300.552643 90.181691 \nL 300.696536 90.063349 \nL 300.725315 90.081264 \nL 301.272111 90.317117 \nL 301.329668 90.214606 \nL 301.416004 90.268129 \nL 301.790127 90.15484 \nL 301.991578 90.210574 \nL 302.164251 90.076343 \nL 302.308144 90.062096 \nL 303.718301 89.35596 \nL 304.006088 89.431006 \nL 304.063645 89.364074 \nL 304.121203 89.399548 \nL 304.207539 89.452726 \nL 304.236318 89.402229 \nL 304.351432 89.302636 \nL 304.380211 89.320361 \nL 304.667998 89.429279 \nL 304.811892 89.313526 \nL 304.840671 89.331214 \nL 304.869449 89.348898 \nL 304.898228 89.298559 \nL 304.927007 89.248232 \nL 305.013343 89.301281 \nL 305.0709 89.336624 \nL 305.099679 89.286331 \nL 305.128458 89.23605 \nL 305.214794 89.289057 \nL 305.416245 89.310787 \nL 305.445023 89.260572 \nL 305.53136 89.313496 \nL 305.646474 89.316204 \nL 305.732811 89.199631 \nL 305.790368 89.23489 \nL 305.847925 89.236262 \nL 305.876704 89.18615 \nL 306.509836 88.931153 \nL 306.85518 89.040968 \nL 306.970295 89.0775 \nL 307.258082 89.15184 \nL 307.373197 88.986373 \nL 307.517091 88.804988 \nL 307.574648 88.840074 \nL 307.776099 88.861972 \nL 307.97755 88.716034 \nL 308.063886 88.701491 \nL 308.265337 88.555871 \nL 308.380452 88.55892 \nL 308.581903 88.380148 \nL 308.610682 88.397665 \nL 308.63946 88.348249 \nL 308.668239 88.298845 \nL 308.754575 88.351396 \nL 308.898469 88.372038 \nL 308.956026 88.273346 \nL 309.042362 88.325841 \nL 309.157477 88.362383 \nL 309.301371 88.449724 \nL 309.330149 88.400447 \nL 309.387707 88.335287 \nL 309.445264 88.370209 \nL 309.560379 88.373333 \nL 309.675494 88.343138 \nL 309.76183 88.328837 \nL 309.876945 88.232113 \nL 309.905724 88.249552 \nL 310.078396 88.254317 \nL 310.308625 88.227433 \nL 310.510076 88.249601 \nL 310.682749 88.121655 \nL 310.855421 88.126498 \nL 311.143208 87.803455 \nL 311.574889 87.96483 \nL 311.661225 87.884706 \nL 311.718782 87.919402 \nL 312.006569 87.861702 \nL 312.150463 87.882358 \nL 312.43825 87.594301 \nL 312.610922 87.632397 \nL 312.726037 87.570058 \nL 312.754816 87.587368 \nL 313.013824 87.644423 \nL 313.128939 87.680686 \nL 313.387947 87.73755 \nL 313.56062 87.742617 \nL 313.675735 87.713231 \nL 313.762071 87.633904 \nL 313.819628 87.668355 \nL 313.848407 87.685574 \nL 313.877185 87.637327 \nL 313.963522 87.558093 \nL 314.021079 87.592533 \nL 314.567875 87.3967 \nL 314.625432 87.365834 \nL 314.798104 87.273325 \nL 314.999555 87.295879 \nL 315.11467 87.299447 \nL 315.690244 87.089839 \nL 315.920474 87.162054 \nL 316.121925 87.022462 \nL 316.697499 86.814387 \nL 316.755056 86.783931 \nL 316.870171 86.787716 \nL 317.100401 86.859867 \nL 317.388188 86.546646 \nL 317.532082 86.535386 \nL 317.79109 86.302607 \nL 318.596894 85.977435 \nL 318.798345 86.000708 \nL 318.942238 85.957783 \nL 319.316362 86.051233 \nL 319.517813 85.882518 \nL 319.690485 85.888766 \nL 319.949493 85.6268 \nL 320.179723 85.667244 \nL 320.323617 85.624756 \nL 320.611404 85.667266 \nL 320.726518 85.703334 \nL 320.870412 85.66092 \nL 320.985527 85.633381 \nL 321.215757 85.673649 \nL 321.445986 85.491757 \nL 321.647437 85.515157 \nL 321.906446 85.287326 \nL 322.02156 85.228424 \nL 322.194233 85.108544 \nL 322.48202 85.182927 \nL 322.597135 85.187368 \nL 322.741028 85.145574 \nL 322.942479 84.979923 \nL 323.14393 85.003598 \nL 323.316602 84.884416 \nL 323.575611 84.910409 \nL 323.690726 84.914957 \nL 323.834619 84.936347 \nL 323.949734 84.878063 \nL 324.122406 84.790739 \nL 324.237521 84.763961 \nL 324.410193 84.676817 \nL 324.755538 84.753338 \nL 324.870653 84.757937 \nL 324.985768 84.699977 \nL 325.331112 84.62012 \nL 325.618899 84.694132 \nL 325.762793 84.621943 \nL 325.877908 84.564252 \nL 326.079358 84.401137 \nL 326.252031 84.408239 \nL 326.48226 84.231146 \nL 326.683711 84.224021 \nL 326.827605 84.152406 \nL 327.029056 84.145353 \nL 327.201728 84.059596 \nL 327.288064 83.98577 \nL 327.431958 83.945436 \nL 327.690966 83.971967 \nL 327.806081 83.94594 \nL 328.007532 83.939079 \nL 328.208983 83.716074 \nL 328.410434 83.555132 \nL 328.640664 83.565281 \nL 328.813336 83.480462 \nL 329.043566 83.490662 \nL 329.331353 83.226698 \nL 329.504025 83.265229 \nL 329.734255 83.30629 \nL 329.849369 83.280772 \nL 329.935706 83.238646 \nL 330.05082 83.243835 \nL 330.338608 83.318031 \nL 330.626395 83.02501 \nL 330.770288 82.985743 \nL 331.115633 82.940528 \nL 331.317084 82.934545 \nL 331.547313 82.945136 \nL 332.007773 83.087952 \nL 332.209224 83.112274 \nL 332.29556 83.07059 \nL 332.410675 83.075807 \nL 332.554568 83.036783 \nL 332.95747 82.964122 \nL 333.245257 83.007517 \nL 333.475487 82.836461 \nL 333.590602 82.781284 \nL 333.734495 82.712382 \nL 333.878389 82.673759 \nL 334.07984 82.547328 \nL 334.223733 82.539012 \nL 334.367627 82.500559 \nL 334.540299 82.508699 \nL 334.655414 82.484006 \nL 334.97198 82.544039 \nL 335.144652 82.461962 \nL 335.403661 82.489183 \nL 335.547554 82.450931 \nL 335.892899 82.527132 \nL 336.008013 82.532516 \nL 337.389392 82.000772 \nL 337.619621 82.011936 \nL 337.792293 81.931034 \nL 338.799548 81.579782 \nL 338.972221 81.588387 \nL 339.116114 81.521538 \nL 339.547795 81.646546 \nL 339.778024 81.480743 \nL 339.950697 81.489381 \nL 340.065812 81.495133 \nL 340.32482 81.522793 \nL 340.583828 81.520958 \nL 340.842837 81.548538 \nL 341.044288 81.396877 \nL 341.159403 81.343891 \nL 341.44719 81.094243 \nL 341.648641 81.089887 \nL 341.965206 80.798534 \nL 342.137879 80.778273 \nL 342.33933 80.657174 \nL 342.77101 80.577667 \nL 342.886125 80.525374 \nL 343.173912 80.511465 \nL 343.317806 80.475381 \nL 343.461699 80.439336 \nL 343.605593 80.490659 \nL 344.008495 80.599192 \nL 344.12361 80.605238 \nL 344.411397 80.649354 \nL 344.526512 80.626359 \nL 344.78552 80.654395 \nL 344.958192 80.576509 \nL 345.418652 80.484957 \nL 345.620103 80.481118 \nL 345.763996 80.445376 \nL 345.90789 80.409672 \nL 346.195677 80.165385 \nL 346.33957 80.158702 \nL 346.512243 80.081577 \nL 346.684915 80.090889 \nL 346.972702 79.818887 \nL 347.318046 79.895229 \nL 347.634612 79.86944 \nL 347.778506 79.834284 \nL 347.893621 79.811917 \nL 348.152629 79.869005 \nL 348.325301 79.763966 \nL 348.526752 79.760698 \nL 348.987212 79.671709 \nL 349.131105 79.665354 \nL 349.274999 79.601989 \nL 349.418892 79.567183 \nL 349.562786 79.503935 \nL 349.677901 79.453385 \nL 349.793015 79.431332 \nL 349.936909 79.425121 \nL 350.052024 79.431528 \nL 350.627598 79.633696 \nL 350.972943 79.369261 \nL 351.088057 79.375667 \nL 351.203172 79.325449 \nL 352.354321 78.93833 \nL 352.613329 78.96715 \nL 352.929895 78.942909 \nL 353.04501 78.921324 \nL 353.160125 78.899758 \nL 353.304018 78.893897 \nL 353.47669 78.819483 \nL 353.735699 78.876351 \nL 353.908371 78.802063 \nL 354.109822 78.82757 \nL 354.282494 78.725414 \nL 354.397609 78.704024 \nL 354.656617 78.50917 \nL 354.82929 78.519182 \nL 354.973183 78.485623 \nL 355.203413 78.498973 \nL 355.376085 78.397418 \nL 355.635094 78.426427 \nL 355.922881 78.192627 \nL 356.181889 78.221768 \nL 356.325783 78.188522 \nL 356.671127 78.264328 \nL 356.786242 78.243308 \nL 357.074029 78.287853 \nL 357.27548 78.174937 \nL 357.419374 78.16953 \nL 357.534488 78.148604 \nL 357.620825 78.11217 \nL 357.793497 78.011719 \nL 358.081284 78.083963 \nL 358.253956 78.011298 \nL 358.656858 77.952353 \nL 358.743194 77.916123 \nL 359.002203 77.697435 \nL 359.405105 77.831544 \nL 359.548998 77.798872 \nL 360.412359 77.548739 \nL 360.61381 77.547172 \nL 361.07427 77.246838 \nL 361.304499 77.097034 \nL 361.908852 76.957036 \nL 362.196639 77.002076 \nL 362.311754 76.981965 \nL 362.541984 77.023372 \nL 362.685878 76.99146 \nL 362.85855 76.974939 \nL 363.117558 76.787359 \nL 363.203894 76.752038 \nL 363.462903 76.564883 \nL 363.693132 76.579372 \nL 363.837026 76.629024 \nL 364.009698 76.612785 \nL 364.124813 76.592955 \nL 364.355043 76.607389 \nL 364.470158 76.614597 \nL 364.700387 76.628997 \nL 364.930617 76.454586 \nL 365.160847 76.46909 \nL 365.391076 76.295082 \nL 365.506191 76.248556 \nL 365.678863 76.151936 \nL 365.96665 76.224062 \nL 366.081765 76.204519 \nL 366.225659 76.173399 \nL 366.42711 76.065489 \nL 366.599782 76.076543 \nL 366.801233 75.968838 \nL 367.232914 76.116964 \nL 367.405586 76.020992 \nL 367.54948 75.990103 \nL 368.096275 75.878339 \nL 368.384062 75.950139 \nL 368.614292 75.805079 \nL 368.930858 75.891972 \nL 369.132309 75.785246 \nL 369.276202 75.781226 \nL 369.477653 75.674701 \nL 370.2259 75.484631 \nL 370.427351 75.51099 \nL 370.571244 75.480666 \nL 370.715138 75.450371 \nL 370.916589 75.344589 \nL 371.146818 75.386066 \nL 371.319491 75.318175 \nL 371.607278 75.363375 \nL 371.895065 75.118779 \nL 372.096516 75.145239 \nL 372.297967 75.040155 \nL 373.074992 74.842278 \nL 373.362779 74.887671 \nL 373.506672 74.857945 \nL 373.823238 74.918252 \nL 374.168583 74.62748 \nL 374.341255 74.639077 \nL 374.485149 74.583458 \nL 374.6866 74.583957 \nL 374.888051 74.454083 \nL 375.147059 74.51066 \nL 375.290952 74.481291 \nL 375.549961 74.53777 \nL 375.665076 74.545502 \nL 375.751412 74.512298 \nL 375.895305 74.482987 \nL 376.01042 74.464754 \nL 376.183093 74.372525 \nL 376.47088 74.417899 \nL 376.585994 74.425653 \nL 378.140045 73.936479 \nL 378.427832 73.981974 \nL 378.600504 73.916509 \nL 378.744398 73.964986 \nL 378.859513 73.94712 \nL 379.032185 73.881768 \nL 379.291193 73.963759 \nL 379.291193 73.963759 \n\" style=\"fill:none;stroke:#8c8c8c;stroke-linecap:round;stroke-width:1.5;\"/>\n   </g>\n   <g id=\"line2d_24\">\n    <path clip-path=\"url(#p5574e5fc04)\" d=\"M 74.927557 230.64 \nL 75.934812 230.64 \nL 75.96359 215.948108 \nL 76.049927 217.05 \nL 76.280156 219.315 \nL 76.308935 208.452245 \nL 76.395271 209.732308 \nL 76.85573 214.651765 \nL 77.373747 217.99814 \nL 77.402526 211.895172 \nL 77.488862 212.52 \nL 77.546419 212.913913 \nL 77.575198 207.259355 \nL 77.661534 207.99 \nL 77.74787 208.676364 \nL 77.776649 203.46 \nL 77.862985 204.25165 \nL 78.496117 208.896 \nL 78.64001 209.732308 \nL 78.668789 205.74229 \nL 78.755125 206.299701 \nL 79.474593 210.126792 \nL 80.251618 213.104516 \nL 80.280397 210.291337 \nL 80.366733 210.612632 \nL 80.625741 211.518392 \nL 80.65452 208.896 \nL 80.740856 209.21734 \nL 80.971086 210.029573 \nL 80.999865 207.562642 \nL 81.086201 207.884651 \nL 81.978341 210.752195 \nL 82.093456 211.0704 \nL 82.122234 208.982629 \nL 82.20857 209.238425 \nL 82.640251 210.431822 \nL 82.66903 208.493333 \nL 82.755366 208.736703 \nL 83.791399 211.288544 \nL 83.820178 211.350968 \nL 83.848957 209.66508 \nL 83.935293 209.865478 \nL 85.057663 212.16068 \nL 85.460565 212.865613 \nL 85.518122 210.01561 \nL 85.604458 210.181935 \nL 86.180032 211.225714 \nL 86.208811 209.891908 \nL 86.295147 210.049091 \nL 86.439041 210.305835 \nL 86.46782 209.004179 \nL 86.554156 209.164444 \nL 87.676525 211.050811 \nL 87.705304 209.873258 \nL 87.79164 210.012321 \nL 88.539887 211.143797 \nL 88.568665 210.040421 \nL 88.655001 210.169707 \nL 89.000346 210.67102 \nL 89.029125 209.604562 \nL 89.115461 209.732308 \nL 89.14424 209.774545 \nL 89.173018 208.720645 \nL 89.259354 208.852425 \nL 89.460805 209.153834 \nL 89.489584 208.124024 \nL 89.57592 208.256471 \nL 90.122716 209.060416 \nL 90.180273 207.094237 \nL 90.266609 207.226517 \nL 91.763102 209.304164 \nL 91.82066 209.376735 \nL 91.849438 208.489915 \nL 91.935774 208.602162 \nL 93.086923 209.996962 \nL 93.115702 209.170806 \nL 93.202038 209.272075 \nL 93.518603 209.635363 \nL 93.547382 208.828889 \nL 93.633718 208.929401 \nL 95.360441 210.761519 \nL 95.561892 210.95532 \nL 95.590671 210.226648 \nL 95.677007 210.311468 \nL 96.94327 211.479164 \nL 96.972049 210.795411 \nL 97.058385 210.872727 \nL 97.921746 211.614 \nL 97.950525 210.959101 \nL 98.036861 211.032537 \nL 98.094418 211.081191 \nL 98.123197 210.431822 \nL 98.209533 210.506667 \nL 98.49732 210.752195 \nL 98.526099 210.1143 \nL 98.612435 210.189029 \nL 99.418239 210.861127 \nL 99.447018 210.247034 \nL 99.533354 210.318505 \nL 100.224043 210.872727 \nL 100.339158 209.732308 \nL 100.367936 209.755932 \nL 100.828396 210.126792 \nL 100.857174 209.546874 \nL 100.943511 209.616796 \nL 101.605421 210.137845 \nL 101.720536 209.059313 \nL 101.749314 209.082444 \nL 102.612676 209.754019 \nL 102.641454 209.211784 \nL 102.727791 209.278263 \nL 104.684743 210.681739 \nL 104.713522 210.176293 \nL 104.799858 210.23538 \nL 105.058866 210.410611 \nL 105.087645 209.911687 \nL 105.173981 209.970798 \nL 105.375432 210.107422 \nL 105.404211 209.613962 \nL 105.490547 209.673302 \nL 106.411465 210.286027 \nL 106.440244 209.808613 \nL 106.52658 209.865478 \nL 106.785589 210.034224 \nL 106.814367 209.562633 \nL 106.900704 209.619496 \nL 107.130933 209.769643 \nL 107.159712 209.303336 \nL 107.246048 209.360285 \nL 107.476278 209.510671 \nL 107.620171 208.647388 \nL 108.569869 209.267692 \nL 108.627426 208.376519 \nL 108.713762 208.433362 \nL 109.145443 208.713277 \nL 109.174222 208.275264 \nL 109.260558 208.331457 \nL 111.275067 209.566899 \nL 111.303846 209.153834 \nL 111.390182 209.204669 \nL 112.368658 209.764424 \nL 112.397437 209.363254 \nL 112.483773 209.412129 \nL 114.527062 210.506667 \nL 114.55584 210.126792 \nL 114.642177 210.171354 \nL 115.0163 210.362238 \nL 115.045078 209.987097 \nL 115.131415 210.031416 \nL 115.649431 210.29339 \nL 115.67821 209.924121 \nL 115.764546 209.967887 \nL 116.915695 210.534247 \nL 116.944473 210.175934 \nL 117.030809 210.217869 \nL 117.894171 210.627952 \nL 117.922949 210.277726 \nL 118.009286 210.318505 \nL 118.527302 210.559789 \nL 118.556081 210.214687 \nL 118.642417 210.255 \nL 118.987762 210.414674 \nL 119.01654 210.073268 \nL 119.102877 210.113437 \nL 119.390664 210.24621 \nL 119.448221 209.570233 \nL 119.534557 209.610986 \nL 119.937459 209.799105 \nL 119.966238 209.465287 \nL 120.052574 209.505774 \nL 120.282804 209.612987 \nL 120.311582 209.281825 \nL 120.397919 209.322353 \nL 120.714484 209.469648 \nL 120.743263 209.141695 \nL 120.829599 209.182105 \nL 120.858378 209.195542 \nL 120.887157 208.868786 \nL 120.973493 208.909582 \nL 121.088608 208.963738 \nL 121.117386 208.638755 \nL 121.203722 208.679776 \nL 121.635403 208.882611 \nL 121.664182 208.561477 \nL 121.750518 208.602162 \nL 122.15342 208.790061 \nL 122.182199 208.472502 \nL 122.268535 208.512904 \nL 123.448462 209.05067 \nL 123.47724 208.741422 \nL 123.563577 208.780272 \nL 124.283044 209.098741 \nL 124.426938 208.529599 \nL 126.182439 209.286465 \nL 126.297554 208.725554 \nL 126.326333 208.737818 \nL 127.73649 209.322353 \nL 127.765268 209.03804 \nL 127.851604 209.073261 \nL 129.175425 209.599279 \nL 129.204204 209.322353 \nL 129.29054 209.35619 \nL 129.808557 209.556981 \nL 129.837335 209.283269 \nL 129.923672 209.316778 \nL 130.153901 209.405625 \nL 130.18268 209.133701 \nL 130.269016 209.167235 \nL 130.41291 209.222893 \nL 130.441688 208.952332 \nL 130.528024 208.985991 \nL 131.333828 209.295176 \nL 131.391386 208.763077 \nL 131.477722 208.79646 \nL 133.952691 209.71193 \nL 133.98147 209.45734 \nL 134.067806 209.488249 \nL 134.240478 209.549796 \nL 134.298035 209.043488 \nL 134.384372 209.074833 \nL 134.816052 209.230202 \nL 134.844831 208.97951 \nL 134.931167 209.010662 \nL 136.139873 209.437556 \nL 136.168652 209.192184 \nL 136.254988 209.222364 \nL 137.118349 209.519556 \nL 137.147128 209.278003 \nL 137.233464 209.30759 \nL 137.348579 209.346912 \nL 137.377357 209.106329 \nL 137.463694 209.136044 \nL 137.98171 209.312628 \nL 138.096825 208.856393 \nL 138.125604 208.866309 \nL 138.154383 208.876215 \nL 138.183161 208.638909 \nL 138.269497 208.668883 \nL 139.449425 209.070495 \nL 139.478203 208.837861 \nL 139.564539 208.866969 \nL 140.312786 209.116023 \nL 140.341565 208.886438 \nL 140.427901 208.915099 \nL 140.715688 209.010092 \nL 140.744466 208.781958 \nL 140.830803 208.810581 \nL 141.089811 208.896 \nL 141.11859 208.669205 \nL 141.204926 208.697812 \nL 142.039508 208.970562 \nL 142.183402 208.551891 \nL 142.586304 208.683367 \nL 142.615083 208.461674 \nL 142.701419 208.489915 \nL 142.845312 208.536823 \nL 142.874091 208.316037 \nL 142.960427 208.344355 \nL 143.56478 208.540587 \nL 143.593559 208.322111 \nL 143.679895 208.350126 \nL 144.22669 208.525928 \nL 144.255469 208.309544 \nL 144.341805 208.337306 \nL 144.600814 208.420182 \nL 144.629592 208.205002 \nL 144.715928 208.232745 \nL 145.924634 208.614068 \nL 145.953413 208.402819 \nL 146.039749 208.429806 \nL 146.154864 208.465687 \nL 146.183643 208.25518 \nL 146.269979 208.282258 \nL 149.608309 209.281294 \nL 149.637088 209.0802 \nL 149.723424 209.105077 \nL 150.327777 209.277619 \nL 150.356556 209.078444 \nL 150.442892 209.103086 \nL 152.514959 209.678042 \nL 152.543738 209.484329 \nL 152.630074 209.507827 \nL 152.71641 209.531272 \nL 152.745189 209.338115 \nL 152.831525 209.361713 \nL 153.205648 209.463374 \nL 153.234427 209.271447 \nL 153.320763 209.294972 \nL 155.133821 209.777303 \nL 155.1626 209.589875 \nL 155.248936 209.612493 \nL 155.507945 209.680057 \nL 155.536723 209.493533 \nL 155.62306 209.51615 \nL 155.795732 209.561238 \nL 155.82451 209.37542 \nL 155.910847 209.398082 \nL 156.572757 209.570233 \nL 156.601536 209.386178 \nL 156.687872 209.408614 \nL 157.17711 209.534858 \nL 157.205889 209.352168 \nL 157.292225 209.374474 \nL 157.637569 209.463235 \nL 157.666348 209.281586 \nL 157.752684 209.303842 \nL 157.954135 209.355593 \nL 157.982914 209.174673 \nL 158.06925 209.196955 \nL 158.817496 209.388148 \nL 158.846275 209.209078 \nL 158.932611 209.231096 \nL 159.939866 209.48467 \nL 159.968645 209.30793 \nL 160.054981 209.329557 \nL 160.601776 209.46552 \nL 160.630555 209.290151 \nL 160.716891 209.31163 \nL 161.033457 209.390017 \nL 161.062236 209.215551 \nL 161.148572 209.236997 \nL 161.206129 209.25127 \nL 161.234908 209.0772 \nL 161.321244 209.098741 \nL 162.904073 209.486174 \nL 162.932852 209.315384 \nL 163.019188 209.336277 \nL 163.220639 209.384868 \nL 163.249418 209.214723 \nL 163.335754 209.235639 \nL 164.343009 209.47668 \nL 164.371787 209.308639 \nL 164.458123 209.329203 \nL 166.32874 209.765212 \nL 166.357518 209.60073 \nL 166.443854 209.620572 \nL 166.530191 209.640377 \nL 166.558969 209.476295 \nL 166.645305 209.496211 \nL 167.076986 209.595229 \nL 167.22088 209.289127 \nL 167.969126 209.460779 \nL 167.997905 209.299289 \nL 168.084241 209.319061 \nL 168.602258 209.436929 \nL 168.631036 209.276537 \nL 168.717373 209.296196 \nL 168.832487 209.322353 \nL 168.861266 209.162389 \nL 168.947602 209.182105 \nL 170.530431 209.537262 \nL 170.55921 209.380072 \nL 170.645546 209.399243 \nL 170.818218 209.43748 \nL 170.904554 209.130647 \nL 170.962112 209.143535 \nL 171.652801 209.29699 \nL 171.68158 209.141695 \nL 171.767916 209.160856 \nL 172.429826 209.306627 \nL 172.458605 209.152566 \nL 172.544941 209.171565 \nL 174.904795 209.678158 \nL 174.933574 209.527802 \nL 175.01991 209.546007 \nL 176.055944 209.762048 \nL 176.171058 209.322353 \nL 176.228616 209.334462 \nL 178.876257 209.876978 \nL 178.905036 209.732308 \nL 178.991372 209.749649 \nL 179.365495 209.824463 \nL 179.48061 209.5482 \nL 179.509389 209.554003 \nL 179.538167 209.559802 \nL 179.566946 209.416134 \nL 179.653282 209.433626 \nL 180.257635 209.555269 \nL 180.37275 209.429959 \nL 180.746873 209.504927 \nL 180.861988 209.38025 \nL 181.9268 209.591761 \nL 182.041915 209.468364 \nL 182.214587 209.50243 \nL 182.329702 209.379459 \nL 182.991613 209.509649 \nL 183.106727 209.387553 \nL 183.221842 209.410138 \nL 183.336957 209.288408 \nL 183.394515 209.299735 \nL 183.538408 209.04 \nL 183.797417 209.091374 \nL 183.94131 208.832874 \nL 184.689557 208.981494 \nL 184.804671 208.861838 \nL 184.919786 208.884625 \nL 185.034901 208.76532 \nL 185.150016 208.78816 \nL 185.265131 208.669205 \nL 185.898262 208.794524 \nL 186.013377 208.676364 \nL 187.797657 209.023482 \nL 187.912772 208.907074 \nL 188.63224 209.044555 \nL 188.747355 208.928979 \nL 189.725831 209.113985 \nL 189.840946 208.999439 \nL 191.107209 209.235245 \nL 191.222324 209.12194 \nL 191.596447 209.190925 \nL 191.74034 208.949557 \nL 192.258357 209.045297 \nL 192.373472 208.933288 \nL 192.546144 208.965147 \nL 192.661259 208.85349 \nL 193.380727 208.985786 \nL 193.52462 208.748297 \nL 195.280122 209.06754 \nL 195.395237 208.958319 \nL 195.855696 209.040857 \nL 195.970811 208.93218 \nL 197.352189 209.177062 \nL 197.496082 208.947042 \nL 197.524861 208.952133 \nL 197.639976 208.845018 \nL 197.841427 208.88073 \nL 197.985321 208.651971 \nL 198.935018 208.820325 \nL 199.050133 208.714548 \nL 201.668995 209.167491 \nL 201.78411 209.063679 \nL 202.561135 209.195005 \nL 202.67625 209.091892 \nL 203.712284 209.265201 \nL 203.827399 209.162946 \nL 203.856177 209.167739 \nL 203.971292 209.065686 \nL 204.374194 209.132821 \nL 204.518088 208.915311 \nL 205.640457 209.101809 \nL 205.755572 209.001205 \nL 206.129695 209.062895 \nL 206.24481 208.962699 \nL 206.388704 208.986422 \nL 206.503819 208.88649 \nL 207.194508 209.000061 \nL 207.309623 208.900726 \nL 208.086648 209.027554 \nL 208.201763 208.92886 \nL 209.842149 209.192783 \nL 209.957264 209.095231 \nL 211.885437 209.398487 \nL 212.000552 209.302217 \nL 214.101398 209.624246 \nL 214.216513 209.52932 \nL 215.079874 209.54774 \nL 216.374916 209.630236 \nL 218.101639 209.774325 \nL 219.972255 209.935537 \nL 220.08737 209.844202 \nL 220.864395 209.847729 \nL 220.97951 209.757021 \nL 221.468748 209.719992 \nL 221.583863 209.629759 \nL 224.08761 209.8775 \nL 224.202725 209.788728 \nL 225.20998 209.824377 \nL 225.325095 209.736308 \nL 225.987005 209.724343 \nL 226.10212 209.636802 \nL 226.505022 209.589431 \nL 226.620137 209.502291 \nL 228.807319 209.701032 \nL 228.922434 209.615112 \nL 230.217476 209.689694 \nL 230.332591 209.604562 \nL 231.68519 209.686256 \nL 231.800305 209.601922 \nL 233.6997 209.755042 \nL 233.814814 209.671728 \nL 234.59184 209.67579 \nL 234.706954 209.592998 \nL 236.117111 209.680057 \nL 236.232226 209.598045 \nL 237.498489 209.665699 \nL 237.613604 209.584393 \nL 239.858344 209.776078 \nL 239.973458 209.695858 \nL 241.383615 209.779291 \nL 241.49873 209.699803 \nL 241.671402 209.627679 \nL 241.815296 209.458345 \nL 242.764993 209.484985 \nL 242.880108 209.406353 \nL 242.966444 209.324178 \nL 243.081559 209.245749 \nL 244.83706 209.374699 \nL 244.980954 209.208731 \nL 247.398366 209.418378 \nL 247.51348 209.341901 \nL 249.29776 209.470099 \nL 249.412875 209.39442 \nL 249.873335 209.360921 \nL 250.017228 209.199737 \nL 250.448909 209.163344 \nL 250.564024 209.088362 \nL 251.916623 209.164663 \nL 252.031738 209.090301 \nL 252.837542 209.099971 \nL 252.952657 209.026035 \nL 253.873575 209.049841 \nL 253.98869 208.976365 \nL 254.621822 208.965637 \nL 254.736937 208.89252 \nL 256.952897 209.071299 \nL 257.068012 208.999052 \nL 258.420611 209.073307 \nL 258.535726 209.001636 \nL 258.852292 208.95383 \nL 258.967407 208.882402 \nL 259.197637 208.824697 \nL 259.312751 208.753483 \nL 260.262449 208.78122 \nL 260.377564 208.710442 \nL 261.701384 208.782104 \nL 261.816499 208.711871 \nL 265.269944 209.027483 \nL 265.385059 208.958417 \nL 267.485905 209.1137 \nL 267.60102 209.045376 \nL 268.061479 209.015864 \nL 268.176594 208.947802 \nL 268.637053 208.91861 \nL 268.752168 208.850808 \nL 270.795457 208.998219 \nL 270.910572 208.931117 \nL 271.514924 208.918279 \nL 271.630039 208.851469 \nL 273.040196 208.927582 \nL 273.155311 208.86128 \nL 275.774174 209.067335 \nL 275.889288 209.001856 \nL 277.673568 209.115106 \nL 277.788683 209.050213 \nL 279.544185 209.158971 \nL 279.659299 209.094645 \nL 280.810448 209.139119 \nL 280.925563 209.0752 \nL 283.112745 209.226593 \nL 283.227859 209.163332 \nL 283.65954 209.132804 \nL 283.832212 208.92595 \nL 285.530156 209.026719 \nL 285.67405 208.893031 \nL 287.659781 209.02247 \nL 287.803674 208.963601 \nL 288.638257 208.975048 \nL 288.78215 208.91648 \nL 291.372234 209.104132 \nL 291.544907 208.976876 \nL 292.523383 209.002391 \nL 292.667276 208.94485 \nL 293.444301 208.950403 \nL 293.588195 208.893139 \nL 295.055909 208.967059 \nL 295.199803 208.910202 \nL 297.674772 209.08139 \nL 297.876223 208.890387 \nL 298.854699 208.915559 \nL 299.027371 208.792696 \nL 299.71806 208.79023 \nL 299.861954 208.734665 \nL 301.905242 208.862921 \nL 302.049136 208.807845 \nL 302.797382 208.81088 \nL 302.970054 208.690221 \nL 305.186015 208.833502 \nL 305.329909 208.779228 \nL 307.603427 208.92558 \nL 307.74732 208.871813 \nL 309.704273 208.986611 \nL 309.848166 208.933288 \nL 310.078396 208.888018 \nL 310.222289 208.834839 \nL 311.862676 208.919767 \nL 312.035348 208.803641 \nL 313.675735 208.888138 \nL 313.819628 208.83576 \nL 314.049858 208.791336 \nL 314.193751 208.739098 \nL 314.88444 208.736942 \nL 315.028334 208.684919 \nL 316.323376 208.73789 \nL 316.467269 208.686176 \nL 317.388188 208.705037 \nL 317.532082 208.653569 \nL 318.625673 208.688034 \nL 318.769566 208.636837 \nL 320.640182 208.740668 \nL 320.784076 208.68986 \nL 321.992782 208.73392 \nL 322.136675 208.683394 \nL 322.798586 208.678913 \nL 322.942479 208.628583 \nL 324.03607 208.66241 \nL 324.179964 208.612339 \nL 326.71249 208.771749 \nL 326.856384 208.722147 \nL 327.662188 208.730129 \nL 327.83486 208.621386 \nL 328.352877 208.604664 \nL 328.49677 208.555479 \nL 330.108378 208.63364 \nL 330.28105 208.526004 \nL 331.576092 208.57663 \nL 331.719986 208.528077 \nL 332.612126 208.54392 \nL 332.784798 208.437389 \nL 334.569078 208.529704 \nL 334.712971 208.481737 \nL 336.842596 208.602162 \nL 336.98649 208.554571 \nL 337.763515 208.560342 \nL 337.907408 208.51294 \nL 338.108859 208.47044 \nL 338.252753 208.423149 \nL 340.008254 208.511255 \nL 340.152148 208.464281 \nL 343.00124 208.641589 \nL 343.145133 208.595069 \nL 344.066052 208.612373 \nL 344.209946 208.566053 \nL 344.382618 208.522144 \nL 344.526512 208.475927 \nL 346.253234 208.559313 \nL 346.397128 208.513394 \nL 348.325301 208.612213 \nL 348.469195 208.566615 \nL 348.641867 208.523389 \nL 348.785761 208.47789 \nL 351.92264 208.672371 \nL 352.066534 208.627333 \nL 352.699665 208.621187 \nL 352.843559 208.576302 \nL 353.563026 208.577127 \nL 353.735699 208.47858 \nL 354.311273 208.468242 \nL 354.455167 208.423694 \nL 355.232192 208.429467 \nL 355.376085 208.385085 \nL 356.757463 208.438652 \nL 356.901357 208.394506 \nL 359.146096 208.515144 \nL 359.28999 208.47133 \nL 361.563508 208.538002 \nL 361.707401 208.494545 \nL 363.002443 208.48549 \nL 363.146337 208.442276 \nL 364.757945 208.457752 \nL 364.901838 208.414814 \nL 365.909093 208.384225 \nL 366.052987 208.341493 \nL 369.592768 208.503164 \nL 369.736661 208.460908 \nL 371.290712 208.471634 \nL 371.434605 208.429635 \nL 372.815983 208.427597 \nL 372.959877 208.385834 \nL 374.513927 208.396834 \nL 374.657821 208.355323 \nL 377.247905 208.442741 \nL 377.391798 208.401583 \nL 379.291193 208.488955 \nL 379.291193 208.488955 \n\" style=\"fill:none;stroke:#ccb974;stroke-linecap:round;stroke-width:1.5;\"/>\n   </g>\n   <g id=\"line2d_25\">\n    <path clip-path=\"url(#p5574e5fc04)\" d=\"M 74.927557 230.64 \nL 75.157786 230.64 \nL 75.186565 203.46 \nL 75.272901 209.732308 \nL 75.330459 212.52 \nL 75.474352 189.87 \nL 75.647025 199.278462 \nL 75.675803 190.373333 \nL 75.762139 194.4 \nL 75.877254 198.663529 \nL 75.96359 179.218378 \nL 76.049927 183.075 \nL 76.481607 196.047273 \nL 76.970845 204.215 \nL 77.114739 205.930909 \nL 77.258632 200.808293 \nL 77.287411 201.167711 \nL 77.31619 198.282857 \nL 77.402526 199.398621 \nL 77.949321 204.998491 \nL 78.093215 201.256216 \nL 78.352223 203.46 \nL 78.381002 201.438347 \nL 78.467338 202.144839 \nL 78.582453 203.035312 \nL 78.611232 201.142326 \nL 78.697568 201.812727 \nL 79.273142 205.605789 \nL 79.301921 203.992941 \nL 79.388257 204.505385 \nL 79.503372 205.15875 \nL 79.53215 203.62882 \nL 79.618487 204.122927 \nL 80.078946 206.48 \nL 80.107725 205.111823 \nL 80.194061 205.528043 \nL 80.222839 205.663784 \nL 80.251618 204.336774 \nL 80.337954 204.754286 \nL 80.510627 205.550769 \nL 80.65452 203.46 \nL 81.201316 205.818082 \nL 81.230094 204.695455 \nL 81.31643 205.044484 \nL 81.402767 205.384248 \nL 81.54666 203.577662 \nL 82.035898 205.432742 \nL 82.064677 204.44241 \nL 82.151013 204.754286 \nL 82.640251 206.390186 \nL 82.784145 204.848759 \nL 83.244604 206.271724 \nL 83.273383 205.421443 \nL 83.359719 205.678776 \nL 83.676285 206.579016 \nL 83.705063 205.769412 \nL 83.791399 206.010874 \nL 84.712318 208.322111 \nL 84.741097 207.592632 \nL 84.827433 207.793043 \nL 84.942548 208.0549 \nL 85.057663 206.770878 \nL 85.086441 206.838305 \nL 85.259114 207.235 \nL 85.287892 206.546925 \nL 85.374229 206.745495 \nL 85.489343 207.005217 \nL 85.604458 205.798065 \nL 85.633237 205.864665 \nL 85.921024 206.51154 \nL 85.949803 205.866562 \nL 86.036139 206.058605 \nL 86.266369 206.556456 \nL 86.295147 205.930909 \nL 86.381483 206.116692 \nL 86.784385 206.94799 \nL 86.813164 206.348696 \nL 86.8995 206.523453 \nL 87.072172 206.865532 \nL 87.100951 206.280566 \nL 87.187287 206.45171 \nL 87.273623 206.620465 \nL 87.302402 206.045568 \nL 87.388738 206.215576 \nL 87.877976 207.136231 \nL 87.906755 206.586903 \nL 87.993091 206.745495 \nL 89.029125 208.497434 \nL 89.115461 207.531498 \nL 89.173018 207.624677 \nL 89.288133 207.8088 \nL 89.316912 207.311856 \nL 89.403248 207.450714 \nL 89.460805 207.542372 \nL 89.489584 207.051834 \nL 89.57592 207.190588 \nL 89.748592 207.463256 \nL 89.777371 206.98236 \nL 89.863707 207.118846 \nL 90.324167 207.82097 \nL 90.352945 207.357318 \nL 90.439281 207.486667 \nL 90.755847 207.948893 \nL 90.784626 207.497609 \nL 90.870962 207.622703 \nL 90.899741 207.664101 \nL 90.92852 207.217379 \nL 91.014856 207.342857 \nL 91.331421 207.791664 \nL 91.417758 206.964042 \nL 91.475315 207.04625 \nL 91.964553 207.722631 \nL 91.993332 207.303636 \nL 92.079668 207.420905 \nL 92.108447 207.459732 \nL 92.223561 206.710764 \nL 92.25234 206.750448 \nL 92.309898 206.829421 \nL 92.338676 206.420198 \nL 92.425012 206.539507 \nL 92.597685 206.774634 \nL 92.626463 206.372143 \nL 92.7128 206.489758 \nL 92.943029 206.797895 \nL 92.971808 206.403057 \nL 93.058144 206.518288 \nL 93.173259 206.670236 \nL 93.202038 206.280566 \nL 93.288374 206.39493 \nL 93.547382 206.731667 \nL 93.633718 206.00682 \nL 93.691276 206.082266 \nL 94.007842 206.489096 \nL 94.03662 206.116692 \nL 94.122956 206.226826 \nL 94.26685 206.408202 \nL 94.295629 206.04089 \nL 94.381965 206.149897 \nL 94.468301 206.257941 \nL 94.49708 205.894626 \nL 94.583416 206.003158 \nL 95.677007 207.299834 \nL 95.734564 206.238066 \nL 95.8209 206.338762 \nL 95.878458 206.405432 \nL 95.993572 205.796071 \nL 96.022351 205.829918 \nL 96.310138 206.163387 \nL 96.338917 205.831409 \nL 96.425253 205.930909 \nL 96.856934 206.416671 \nL 96.885713 205.736859 \nL 96.972049 205.834263 \nL 97.000827 205.866562 \nL 97.029606 205.545332 \nL 97.115942 205.64285 \nL 97.749074 206.335466 \nL 97.777853 206.024151 \nL 97.864189 206.116692 \nL 98.008082 206.26939 \nL 98.094418 205.685658 \nL 98.151976 205.747426 \nL 98.871443 206.494502 \nL 98.929001 205.901317 \nL 99.015337 205.989881 \nL 99.562133 206.536383 \nL 99.590911 206.247692 \nL 99.677247 206.332683 \nL 100.224043 206.8575 \nL 100.252822 206.575982 \nL 100.339158 206.657647 \nL 100.454273 206.765676 \nL 100.569387 206.263318 \nL 100.598166 206.290616 \nL 100.684502 206.372143 \nL 100.770838 205.848454 \nL 100.828396 205.903485 \nL 101.202519 206.255317 \nL 101.231298 205.984918 \nL 101.317634 206.06549 \nL 101.432749 206.172104 \nL 101.519085 205.076108 \nL 101.6342 205.186179 \nL 102.180995 205.696329 \nL 102.209774 205.436207 \nL 102.29611 205.51563 \nL 102.929242 206.083121 \nL 102.95802 205.829538 \nL 103.044356 205.905644 \nL 103.41848 206.230111 \nL 103.447258 205.980726 \nL 103.533595 206.055075 \nL 103.792603 206.275458 \nL 103.936496 205.049316 \nL 103.965275 205.074653 \nL 104.022833 204.588024 \nL 104.109169 204.665025 \nL 104.224284 204.766987 \nL 104.540849 202.66835 \nL 104.569628 202.69548 \nL 104.598407 202.722558 \nL 104.7423 201.284552 \nL 104.771079 201.312832 \nL 104.828636 201.369231 \nL 104.857415 200.875159 \nL 104.943751 200.96069 \nL 105.030087 201.045731 \nL 105.058866 200.814618 \nL 105.145202 200.899753 \nL 105.20276 200.956239 \nL 105.461768 198.13661 \nL 105.548104 198.228169 \nL 105.807113 196.475196 \nL 105.86467 196.538699 \nL 106.123678 196.821567 \nL 106.210015 196.415184 \nL 106.267572 196.477982 \nL 106.296351 196.509294 \nL 106.584138 194.10376 \nL 106.699253 194.236018 \nL 106.728031 194.268933 \nL 106.843146 193.420541 \nL 106.871925 193.454041 \nL 106.900704 193.487482 \nL 107.073376 191.985081 \nL 107.102155 192.019625 \nL 107.130933 192.054107 \nL 107.246048 191.707794 \nL 107.274827 191.7424 \nL 107.332384 191.811429 \nL 107.533835 190.852698 \nL 107.562614 190.887753 \nL 107.850401 191.234934 \nL 107.87918 190.794974 \nL 107.965516 190.899008 \nL 108.166967 191.139654 \nL 108.224524 190.738446 \nL 108.31086 190.84155 \nL 108.339639 190.8758 \nL 108.483533 190.11455 \nL 108.54109 190.183884 \nL 108.627426 190.28744 \nL 108.77132 189.997009 \nL 108.828877 190.065954 \nL 108.857656 189.639661 \nL 108.943992 189.743635 \nL 108.972771 189.778176 \nL 109.145443 188.842185 \nL 109.203 188.912315 \nL 109.462009 187.867144 \nL 109.519566 187.938254 \nL 109.922468 185.749449 \nL 109.951247 185.786305 \nL 110.008804 185.859836 \nL 110.152698 185.598857 \nL 110.210255 185.672274 \nL 110.382927 185.009343 \nL 110.411706 185.046321 \nL 110.5556 185.230315 \nL 110.584378 185.047742 \nL 110.670715 185.15778 \nL 110.699493 185.194341 \nL 110.872166 184.32528 \nL 110.929723 184.399265 \nL 110.958502 184.00233 \nL 111.044838 184.113726 \nL 111.131174 184.224591 \nL 111.418961 182.662695 \nL 111.476518 182.73819 \nL 111.534076 182.813449 \nL 111.87942 180.51035 \nL 111.994535 180.665912 \nL 112.10965 180.82051 \nL 112.138429 180.438918 \nL 112.224765 180.555035 \nL 112.282322 180.632148 \nL 112.541331 179.313853 \nL 112.598888 179.392214 \nL 112.627667 179.431304 \nL 112.656446 179.263171 \nL 112.742782 179.38038 \nL 112.829118 179.497056 \nL 112.857897 179.1237 \nL 112.944233 179.240605 \nL 112.973011 179.279456 \nL 113.145684 178.693273 \nL 113.174462 178.732331 \nL 113.23202 178.81027 \nL 113.260798 178.645251 \nL 113.347135 178.762006 \nL 113.433471 178.878237 \nL 113.462249 178.71403 \nL 113.548586 178.830022 \nL 113.577364 178.868571 \nL 113.692479 178.4173 \nL 113.750037 178.494667 \nL 113.865151 178.648715 \nL 113.89393 178.486494 \nL 113.980266 178.601708 \nL 114.181717 178.868571 \nL 114.354389 178.500394 \nL 114.527062 178.727582 \nL 114.670955 178.325384 \nL 114.78607 178.476364 \nL 115.073857 177.487135 \nL 115.188972 177.639 \nL 115.361644 176.318663 \nL 115.390423 176.357271 \nL 115.563095 176.587771 \nL 115.620653 176.087915 \nL 115.67821 176.164912 \nL 115.706989 176.203329 \nL 115.879661 175.287472 \nL 115.965997 175.40384 \nL 116.138669 174.497083 \nL 116.714244 171.715705 \nL 116.743022 171.756231 \nL 116.858137 171.917778 \nL 117.002031 171.003773 \nL 117.030809 171.044508 \nL 117.117146 171.16638 \nL 117.23226 170.773787 \nL 117.318597 170.895631 \nL 117.347375 170.567593 \nL 117.433711 170.689526 \nL 117.520048 170.810966 \nL 117.69272 169.955669 \nL 117.922949 170.098595 \nL 118.095622 169.073045 \nL 118.35463 169.26 \nL 118.498524 168.74495 \nL 118.556081 168.826552 \nL 118.613639 168.907939 \nL 118.757532 168.21874 \nL 118.815089 168.30055 \nL 118.987762 167.480209 \nL 119.01654 167.521409 \nL 119.102877 166.936875 \nL 119.160434 167.019714 \nL 119.217991 167.102338 \nL 119.505779 165.05729 \nL 119.563336 165.141804 \nL 119.707229 163.955607 \nL 119.764787 164.041155 \nL 120.023795 164.250077 \nL 120.052574 163.945927 \nL 120.13891 164.073206 \nL 120.167689 164.115524 \nL 120.225246 163.509714 \nL 120.311582 163.637338 \nL 120.340361 163.679772 \nL 120.36914 163.378101 \nL 120.455476 163.505572 \nL 120.685706 162.305619 \nL 120.772042 162.434228 \nL 120.80082 162.476991 \nL 120.829599 162.179098 \nL 120.915935 162.307542 \nL 121.059829 162.520549 \nL 121.088608 162.393645 \nL 121.232501 161.761491 \nL 121.290059 161.846948 \nL 121.318837 161.889597 \nL 121.347616 161.763792 \nL 121.376395 161.80644 \nL 121.433952 161.555399 \nL 121.49151 161.640741 \nL 121.549067 161.725873 \nL 121.635403 161.183719 \nL 121.69296 161.269151 \nL 122.239756 161.905167 \nL 122.326092 161.040728 \nL 122.412428 161.167196 \nL 122.441207 161.209249 \nL 122.5851 160.762631 \nL 122.700215 160.930909 \nL 122.728994 160.645776 \nL 122.81533 160.771892 \nL 122.844109 160.650684 \nL 122.901666 160.734604 \nL 122.930445 160.776489 \nL 122.959224 160.492814 \nL 123.04556 160.618601 \nL 123.419683 160.997295 \nL 123.592355 159.959149 \nL 123.621134 160.000898 \nL 123.995257 160.379859 \nL 124.196708 159.238949 \nL 124.225487 159.280607 \nL 124.398159 158.581395 \nL 124.455717 158.665087 \nL 124.484495 158.391364 \nL 124.570831 158.516941 \nL 124.685946 158.683699 \nL 124.714725 158.56825 \nL 124.887397 158.034819 \nL 124.916176 158.076594 \nL 124.973733 158.003793 \nL 125.117627 158.21192 \nL 125.232742 157.445146 \nL 125.290299 157.528749 \nL 125.405414 157.695385 \nL 125.549308 157.284886 \nL 125.606865 157.36815 \nL 125.635644 157.101373 \nL 125.72198 157.226297 \nL 125.837095 157.392203 \nL 125.865873 157.126618 \nL 125.95221 157.250936 \nL 126.038546 157.374834 \nL 126.153661 157.08155 \nL 126.38389 157.410486 \nL 126.470226 157.078058 \nL 126.499005 157.119085 \nL 126.671677 157.213207 \nL 126.758013 156.882952 \nL 126.815571 156.964723 \nL 126.873128 156.895814 \nL 127.160915 157.301894 \nL 127.391145 156.580461 \nL 127.419924 156.621041 \nL 127.50626 156.742516 \nL 127.650153 156.202684 \nL 127.765268 156.364769 \nL 127.794047 156.109423 \nL 127.880383 156.230875 \nL 128.053055 156.472593 \nL 128.225728 155.685979 \nL 128.369621 155.741399 \nL 128.571072 155.148097 \nL 128.599851 155.188553 \nL 128.62863 155.228966 \nL 128.686187 154.873387 \nL 128.743744 154.954377 \nL 128.830081 155.075539 \nL 128.858859 154.82592 \nL 128.945195 154.947029 \nL 129.002753 154.882979 \nL 129.06031 154.963486 \nL 129.175425 154.547529 \nL 129.232982 154.628136 \nL 129.319319 154.748726 \nL 129.463212 154.375443 \nL 129.750999 154.63297 \nL 129.779778 154.530299 \nL 129.837335 154.610037 \nL 130.067565 154.78554 \nL 130.096344 154.683379 \nL 130.153901 154.7625 \nL 130.269016 154.920249 \nL 130.384131 154.231494 \nL 130.441688 154.310674 \nL 130.729475 154.704124 \nL 130.873369 154.060874 \nL 130.902148 154.100226 \nL 130.930926 154.139538 \nL 130.988484 153.660215 \nL 131.07482 153.778525 \nL 131.103599 153.81788 \nL 131.132377 153.718096 \nL 131.30505 153.398878 \nL 131.391386 153.516923 \nL 131.420164 153.279409 \nL 131.506501 153.397397 \nL 131.535279 153.298537 \nL 131.592837 153.377056 \nL 131.650394 153.455416 \nL 131.707952 153.395927 \nL 131.794288 152.825736 \nL 131.851845 152.904376 \nL 132.024517 153.002418 \nL 132.19719 152.417298 \nL 132.254747 152.495795 \nL 132.283526 152.262367 \nL 132.369862 152.38011 \nL 132.456198 152.0898 \nL 132.513755 152.168272 \nL 133.146887 152.886937 \nL 133.175666 152.791111 \nL 133.233223 152.867923 \nL 133.290781 152.810626 \nL 133.348338 152.887267 \nL 133.578568 151.592722 \nL 133.607346 151.631471 \nL 133.808797 151.768872 \nL 133.952691 151.431228 \nL 133.98147 151.46981 \nL 134.010248 151.508354 \nL 134.039027 151.414599 \nL 134.067806 151.453132 \nL 134.182921 151.211068 \nL 134.211699 151.249607 \nL 134.298035 151.365 \nL 134.41315 151.124043 \nL 134.441929 151.162475 \nL 134.470708 150.938261 \nL 134.557044 151.053603 \nL 134.614601 151.130313 \nL 134.672159 151.076013 \nL 134.729716 150.760346 \nL 134.787274 150.837117 \nL 134.959946 150.93631 \nL 135.103839 150.607113 \nL 135.132618 150.645351 \nL 135.391626 150.858554 \nL 135.420405 150.767247 \nL 135.477963 150.843135 \nL 135.621856 150.903412 \nL 135.708192 150.630724 \nL 135.736971 150.668571 \nL 135.823307 150.781899 \nL 135.909643 150.382075 \nL 135.967201 150.457719 \nL 136.024758 150.53322 \nL 136.082315 150.480734 \nL 136.111094 150.390635 \nL 136.168652 150.466022 \nL 136.226209 150.541267 \nL 136.370103 149.965281 \nL 136.398881 150.003032 \nL 136.42766 150.040748 \nL 136.456439 149.824292 \nL 136.542775 149.937479 \nL 136.600332 149.885989 \nL 136.686668 149.998826 \nL 136.859341 149.466103 \nL 137.003234 149.65418 \nL 137.118349 149.17543 \nL 137.147128 149.213093 \nL 137.175906 149.250721 \nL 137.204685 149.037229 \nL 137.291021 149.150148 \nL 137.377357 149.262754 \nL 137.406136 149.175083 \nL 137.434915 149.087492 \nL 137.492472 149.162483 \nL 137.665144 149.262008 \nL 137.809038 149.075133 \nL 137.866595 149.149689 \nL 137.924153 149.1 \nL 138.010489 148.839726 \nL 138.068046 148.91426 \nL 138.298276 149.211039 \nL 138.355834 149.161633 \nL 138.499727 148.854027 \nL 138.528506 148.891018 \nL 138.614842 149.001789 \nL 138.701178 148.744465 \nL 138.729957 148.781389 \nL 139.478203 149.608717 \nL 139.506982 149.402673 \nL 139.593318 149.511085 \nL 139.650875 149.5832 \nL 139.679654 149.377717 \nL 139.76599 149.485874 \nL 139.823548 149.43734 \nL 139.909884 149.545179 \nL 140.024999 149.328202 \nL 140.168892 149.50746 \nL 140.370343 148.801319 \nL 140.65813 149.040525 \nL 140.686909 148.957323 \nL 140.744466 149.028724 \nL 140.802024 149.1 \nL 140.830803 149.016953 \nL 140.974696 148.721185 \nL 141.003475 148.756848 \nL 141.11859 148.426701 \nL 141.147368 148.462415 \nL 141.291262 148.64052 \nL 141.320041 148.558284 \nL 141.55027 148.020311 \nL 141.579049 148.055969 \nL 141.7805 148.304716 \nL 141.809279 148.106323 \nL 141.895615 148.21268 \nL 142.068287 148.308123 \nL 142.240959 147.706154 \nL 142.528746 148.059064 \nL 142.586304 147.782602 \nL 142.643861 147.852999 \nL 142.67264 147.888153 \nL 142.701419 147.807912 \nL 142.845312 147.522846 \nL 142.874091 147.558036 \nL 143.161878 147.79371 \nL 143.190657 147.714083 \nL 143.248214 147.783916 \nL 143.276993 147.818788 \nL 143.478444 147.035552 \nL 143.56478 147.140671 \nL 143.737452 145.986572 \nL 143.823788 146.09261 \nL 143.967682 146.1555 \nL 143.996461 146.077484 \nL 144.054018 146.147865 \nL 144.082797 146.183012 \nL 144.22669 145.906999 \nL 144.255469 145.942158 \nL 144.284248 145.864554 \nL 144.399363 145.554783 \nL 144.428141 145.59 \nL 144.572035 145.653383 \nL 144.600814 145.576251 \nL 144.658371 145.646436 \nL 144.773486 145.786458 \nL 144.802265 145.597596 \nL 144.888601 145.7025 \nL 145.11883 145.86959 \nL 145.233945 145.674697 \nL 145.492954 145.87563 \nL 145.550511 145.612546 \nL 145.636847 145.716322 \nL 145.751962 145.854297 \nL 145.895856 145.475266 \nL 146.586545 146.186688 \nL 146.701659 146.104208 \nL 146.845553 146.27328 \nL 146.960668 146.082412 \nL 147.334791 146.519142 \nL 147.36357 146.444607 \nL 147.507463 146.180547 \nL 147.536242 146.21401 \nL 147.766472 146.373412 \nL 147.939144 146.037163 \nL 147.967923 146.070484 \nL 147.996701 146.10378 \nL 148.226931 145.30248 \nL 148.313267 145.402838 \nL 148.370825 145.150223 \nL 148.428382 145.217143 \nL 148.68739 145.410983 \nL 148.831284 145.047863 \nL 148.860063 145.081167 \nL 148.946399 144.758383 \nL 149.003956 144.825087 \nL 149.176628 144.919272 \nL 149.262965 144.492864 \nL 149.291743 144.315899 \nL 149.378079 144.415966 \nL 149.521973 144.582229 \nL 149.550752 144.510625 \nL 149.694645 144.362586 \nL 149.924875 144.523084 \nL 150.068768 144.2717 \nL 150.097547 144.304753 \nL 150.212662 144.436714 \nL 150.385334 144.012169 \nL 150.558007 143.692948 \nL 150.586785 143.726008 \nL 150.615564 143.759042 \nL 150.730679 143.47833 \nL 150.759458 143.511396 \nL 150.960908 143.742157 \nL 151.104802 143.393021 \nL 151.162359 143.458868 \nL 151.191138 143.286699 \nL 151.277474 143.385441 \nL 151.335032 143.451145 \nL 151.421368 143.242858 \nL 151.450147 143.275714 \nL 151.939385 143.72898 \nL 151.968163 143.65994 \nL 152.025721 143.724851 \nL 152.198393 143.817811 \nL 152.227172 143.748969 \nL 152.284729 143.813596 \nL 152.399844 143.841634 \nL 152.630074 143.394313 \nL 152.658852 143.426603 \nL 152.745189 143.523327 \nL 152.773967 143.354634 \nL 152.860303 143.451296 \nL 152.889082 143.383173 \nL 152.946639 143.447522 \nL 153.004197 143.511776 \nL 153.032976 143.343646 \nL 153.119312 143.44 \nL 153.349541 142.698841 \nL 153.407099 142.36478 \nL 153.493435 142.46175 \nL 153.579771 142.558508 \nL 153.60855 142.491335 \nL 153.637329 142.324868 \nL 153.723665 142.421599 \nL 153.810001 142.418993 \nL 153.838779 142.352067 \nL 153.896337 142.416393 \nL 154.04023 142.5768 \nL 154.184124 142.341996 \nL 154.471911 141.580036 \nL 154.558247 141.676561 \nL 154.673362 141.804935 \nL 154.730919 141.477058 \nL 154.817256 141.573381 \nL 154.846034 141.507603 \nL 154.903592 141.571727 \nL 155.105043 141.697912 \nL 155.220158 141.435844 \nL 155.248936 141.467794 \nL 155.277715 141.402406 \nL 155.335272 141.466261 \nL 155.594281 141.655549 \nL 155.62306 141.493476 \nL 155.709396 141.588718 \nL 155.795732 141.683757 \nL 155.82451 141.618734 \nL 155.853289 141.553758 \nL 155.910847 141.617052 \nL 155.939625 141.648665 \nL 155.968404 141.487284 \nL 156.05474 141.582128 \nL 156.313749 141.769374 \nL 156.486421 141.478095 \nL 156.5152 141.509535 \nL 156.543978 141.540952 \nL 156.572757 141.476575 \nL 156.659093 141.379388 \nL 156.687872 141.410795 \nL 157.004438 141.659558 \nL 157.119552 141.403598 \nL 157.17711 141.466023 \nL 157.349782 141.557906 \nL 157.493676 141.334286 \nL 157.580012 141.238329 \nL 157.60879 141.269436 \nL 158.011692 141.60856 \nL 158.040471 141.545296 \nL 158.098029 141.606932 \nL 158.126807 141.637718 \nL 158.155586 141.480581 \nL 158.241922 141.572942 \nL 158.270701 141.509865 \nL 158.328258 141.571356 \nL 158.357037 141.602069 \nL 158.385816 141.445377 \nL 158.472152 141.537521 \nL 158.50093 141.568193 \nL 158.529709 141.505313 \nL 158.616045 141.410368 \nL 158.644824 141.441031 \nL 158.788718 141.594031 \nL 158.817496 141.531358 \nL 158.846275 141.37555 \nL 158.932611 141.46726 \nL 159.19162 141.741263 \nL 159.220398 141.586075 \nL 159.306734 141.677163 \nL 159.709636 140.993037 \nL 159.882309 141.083143 \nL 160.198874 140.590202 \nL 160.429104 140.741144 \nL 160.486661 140.618816 \nL 160.544219 140.679315 \nL 160.601776 140.739731 \nL 160.630555 140.587432 \nL 160.716891 140.678028 \nL 160.860785 140.737623 \nL 161.062236 140.312345 \nL 161.119793 140.372644 \nL 161.40758 140.582515 \nL 161.609031 140.250488 \nL 161.63781 140.280478 \nL 161.896818 140.459583 \nL 161.983154 140.189703 \nL 162.069491 140.279287 \nL 162.098269 140.309109 \nL 162.242163 140.010148 \nL 162.270941 140.04 \nL 162.29972 139.980336 \nL 162.414835 139.920829 \nL 162.501171 139.920946 \nL 162.587507 139.742658 \nL 162.645065 139.802283 \nL 162.702622 139.861829 \nL 162.932852 139.210709 \nL 163.19186 138.681591 \nL 163.249418 138.741498 \nL 163.393311 138.802537 \nL 163.42209 138.744031 \nL 163.479647 138.803743 \nL 163.594762 138.834744 \nL 163.709877 138.601439 \nL 163.767434 138.661049 \nL 163.824992 138.720583 \nL 163.997664 138.371977 \nL 164.026443 138.401769 \nL 164.170336 137.849478 \nL 164.227894 137.909265 \nL 164.400566 138.000772 \nL 164.630796 137.628262 \nL 164.659574 137.658083 \nL 164.688353 137.687885 \nL 164.774689 137.516081 \nL 164.803468 137.54589 \nL 165.091255 137.842936 \nL 165.120034 137.699139 \nL 165.20637 137.787992 \nL 165.580493 138.084811 \nL 165.609272 137.941713 \nL 165.695608 138.029857 \nL 165.724387 138.059202 \nL 165.753165 138.002433 \nL 165.810723 137.716923 \nL 165.897059 137.805085 \nL 165.925838 137.834436 \nL 166.069731 137.551932 \nL 166.299961 137.700831 \nL 166.443854 137.334247 \nL 166.472633 137.36357 \nL 166.961871 137.774292 \nL 167.019429 137.492671 \nL 167.105765 137.579888 \nL 167.595003 136.80529 \nL 167.623782 136.834413 \nL 167.767675 136.558624 \nL 167.825233 136.616897 \nL 167.854011 136.561858 \nL 167.969126 136.089907 \nL 168.026683 136.148344 \nL 168.11302 136.235863 \nL 168.141798 136.181111 \nL 168.458364 135.664669 \nL 168.487143 135.693875 \nL 168.602258 135.810516 \nL 168.77493 135.40168 \nL 168.890045 135.518322 \nL 168.918823 135.464242 \nL 169.177832 135.144945 \nL 169.379283 135.265769 \nL 169.408062 135.212046 \nL 169.465619 135.270128 \nL 169.868521 135.592364 \nL 169.983636 135.542906 \nL 170.213865 135.772609 \nL 170.242644 135.637163 \nL 170.32898 135.723112 \nL 170.357759 135.669786 \nL 170.415316 135.727014 \nL 170.760661 135.987343 \nL 170.875776 135.774873 \nL 170.904554 135.803309 \nL 170.962112 135.860132 \nL 170.990891 135.807116 \nL 171.106005 135.595369 \nL 171.134784 135.623792 \nL 171.249899 135.656129 \nL 171.278678 135.522174 \nL 171.365014 135.607303 \nL 171.537686 135.696164 \nL 171.595244 135.590893 \nL 171.652801 135.647436 \nL 171.68158 135.675682 \nL 171.710358 135.542319 \nL 171.796694 135.627051 \nL 171.911809 135.739792 \nL 172.084482 135.345004 \nL 172.11326 135.373215 \nL 172.142039 135.320971 \nL 172.170818 135.268757 \nL 172.228375 135.325157 \nL 172.401047 135.413731 \nL 172.660056 135.025929 \nL 172.688834 135.054067 \nL 172.746392 135.110294 \nL 172.947843 134.668353 \nL 173.0054 134.485468 \nL 173.091736 134.570012 \nL 173.46586 134.855299 \nL 173.580975 134.649974 \nL 173.609753 134.677959 \nL 173.753647 134.817642 \nL 173.868762 134.612957 \nL 173.89754 134.640872 \nL 174.214106 134.946868 \nL 174.358 134.613437 \nL 174.386778 134.641215 \nL 174.415557 134.668976 \nL 174.444336 134.618144 \nL 174.473115 134.488786 \nL 174.559451 134.572082 \nL 174.588229 134.599815 \nL 174.617008 134.549091 \nL 174.703344 134.31872 \nL 174.78968 134.401971 \nL 174.962353 134.489871 \nL 174.991131 134.439367 \nL 175.048689 134.494655 \nL 175.135025 134.577468 \nL 175.278918 134.247626 \nL 175.307697 134.275254 \nL 175.451591 134.335363 \nL 175.595484 134.162264 \nL 175.624263 134.189829 \nL 175.653042 134.217378 \nL 175.68182 134.167299 \nL 175.825714 133.994833 \nL 175.883271 134.049917 \nL 176.027165 133.800615 \nL 176.717854 134.380701 \nL 177.005641 133.579515 \nL 177.063198 133.48107 \nL 177.207092 133.617722 \nL 177.264649 133.443036 \nL 177.322207 133.497657 \nL 177.350986 133.524944 \nL 177.379764 133.399562 \nL 177.408543 133.426861 \nL 177.523658 133.383466 \nL 177.609994 133.389061 \nL 177.638773 133.340168 \nL 177.667551 133.215189 \nL 177.753887 133.296967 \nL 177.811445 133.199396 \nL 177.869002 133.253862 \nL 177.955338 133.107746 \nL 177.984117 133.134975 \nL 178.099232 133.243737 \nL 178.156789 133.146522 \nL 178.214347 133.049415 \nL 178.271904 133.103753 \nL 178.444576 133.266404 \nL 178.473355 133.217938 \nL 178.502134 133.094 \nL 178.58847 133.175221 \nL 179.020151 133.504179 \nL 179.135266 133.311287 \nL 179.164044 133.338151 \nL 179.307938 133.472249 \nL 179.365495 133.376033 \nL 179.394274 133.327965 \nL 179.451831 133.381536 \nL 179.566946 133.41377 \nL 179.595725 133.365783 \nL 179.739618 133.200856 \nL 179.768397 133.227596 \nL 179.912291 133.212102 \nL 179.941069 133.164329 \nL 179.998627 133.217711 \nL 180.171299 133.303204 \nL 180.228857 133.133607 \nL 180.286414 133.18686 \nL 180.487865 133.224628 \nL 180.689316 132.744679 \nL 180.890767 132.856943 \nL 180.948324 132.688738 \nL 181.005882 132.741871 \nL 181.120997 132.847965 \nL 181.178554 132.753729 \nL 181.293669 132.712599 \nL 181.322447 132.739081 \nL 181.351226 132.618589 \nL 181.380005 132.645081 \nL 181.610235 132.343398 \nL 181.639013 132.3699 \nL 181.754128 132.402564 \nL 181.984358 131.883322 \nL 182.070694 131.962879 \nL 182.099473 131.916403 \nL 182.185809 131.704217 \nL 182.243366 131.757265 \nL 182.38726 131.744096 \nL 182.416038 131.697816 \nL 182.473596 131.750754 \nL 182.81894 131.92224 \nL 182.847719 131.876097 \nL 182.905277 131.928729 \nL 183.135506 132.066429 \nL 183.308178 131.790518 \nL 183.480851 131.803636 \nL 183.768638 131.490119 \nL 183.998868 131.555959 \nL 184.027646 131.510411 \nL 184.085204 131.562667 \nL 184.142761 131.614868 \nL 184.17154 131.569365 \nL 184.200318 131.452322 \nL 184.286655 131.530608 \nL 184.660778 131.08452 \nL 184.775893 131.117632 \nL 184.804671 131.072522 \nL 185.034901 130.570442 \nL 185.150016 130.674926 \nL 185.466582 130.819646 \nL 185.581697 130.64078 \nL 185.610475 130.666774 \nL 185.72559 130.41772 \nL 185.811926 130.495734 \nL 185.984598 130.580984 \nL 186.128492 130.429133 \nL 186.157271 130.455054 \nL 186.186049 130.340388 \nL 186.329943 130.118926 \nL 186.3875 130.170821 \nL 186.61773 130.307852 \nL 186.646509 130.263693 \nL 186.790402 130.113148 \nL 186.905517 129.797451 \nL 186.934296 129.683719 \nL 187.020632 129.761458 \nL 187.049411 129.787344 \nL 187.078189 129.673761 \nL 187.308419 129.115115 \nL 187.567428 129.27908 \nL 187.768879 128.905579 \nL 187.999108 129.043511 \nL 188.085444 128.844577 \nL 188.143002 128.896315 \nL 188.459568 129.111059 \nL 188.488346 128.999058 \nL 188.574682 129.076253 \nL 188.63224 128.990101 \nL 188.689797 129.041517 \nL 188.718576 128.998483 \nL 188.776133 129.049856 \nL 188.977584 129.092119 \nL 189.121478 128.877642 \nL 189.179035 128.928894 \nL 189.322929 128.988441 \nL 189.409265 128.791847 \nL 189.466822 128.843014 \nL 190.071175 129.309265 \nL 190.215069 129.096551 \nL 190.41652 129.138206 \nL 190.445299 129.028095 \nL 190.531635 129.103962 \nL 190.761864 129.305723 \nL 190.819422 129.221082 \nL 190.992094 128.900288 \nL 191.193545 129.076526 \nL 191.222324 128.967165 \nL 191.423775 128.53879 \nL 191.481332 128.589198 \nL 191.510111 128.547305 \nL 191.654004 128.338151 \nL 191.682783 128.363361 \nL 191.711562 128.254634 \nL 191.74034 128.279852 \nL 191.826677 128.154743 \nL 191.884234 128.205166 \nL 192.028128 128.331007 \nL 192.085685 128.24776 \nL 192.459808 127.642105 \nL 192.546144 127.717691 \nL 192.661259 127.751877 \nL 192.776374 127.321494 \nL 192.86271 127.397111 \nL 193.121719 127.557137 \nL 193.150497 127.449929 \nL 193.236833 127.525214 \nL 193.32317 127.402236 \nL 193.380727 127.452388 \nL 193.409506 127.477445 \nL 193.438284 127.436504 \nL 193.553399 127.141091 \nL 193.610957 127.191273 \nL 193.783629 127.209935 \nL 193.927522 126.874961 \nL 193.956301 126.900044 \nL 194.100195 126.894032 \nL 194.186531 126.7724 \nL 194.21531 126.797453 \nL 194.301646 126.807028 \nL 194.330424 126.70106 \nL 194.416761 126.776143 \nL 194.445539 126.801146 \nL 194.474318 126.695307 \nL 194.675769 126.478299 \nL 194.704548 126.50332 \nL 194.819662 126.538056 \nL 194.934777 126.442398 \nL 195.10745 126.46193 \nL 195.280122 126.286474 \nL 195.308901 126.311415 \nL 195.395237 126.386167 \nL 195.424015 126.281261 \nL 195.510351 126.226256 \nL 195.53913 126.251164 \nL 195.567909 126.27606 \nL 195.596688 126.236137 \nL 195.711802 126.076636 \nL 195.740581 126.101538 \nL 195.826917 126.046806 \nL 195.855696 126.071692 \nL 195.884475 126.096565 \nL 195.913253 125.992152 \nL 195.942032 126.017033 \nL 195.99959 125.937576 \nL 196.057147 125.987316 \nL 196.402491 126.156011 \nL 196.517606 126.061959 \nL 196.546385 126.0867 \nL 196.603942 126.007605 \nL 196.690279 126.081777 \nL 197.006844 125.648202 \nL 197.064402 125.697668 \nL 197.093181 125.722383 \nL 197.121959 125.619091 \nL 197.265853 125.486896 \nL 197.294631 125.51162 \nL 197.496082 125.620563 \nL 197.524861 125.581422 \nL 197.55364 125.478527 \nL 197.639976 125.552497 \nL 197.668755 125.577131 \nL 197.697533 125.474357 \nL 197.956542 125.060065 \nL 198.042878 125.134087 \nL 198.244329 125.179571 \nL 198.388222 125.049089 \nL 198.417001 125.073691 \nL 198.503337 125.147427 \nL 198.560895 125.070021 \nL 198.791124 124.634843 \nL 198.848682 124.557855 \nL 199.078912 124.754531 \nL 199.194026 124.726733 \nL 199.251584 124.775756 \nL 199.280362 124.737362 \nL 199.309141 124.636114 \nL 199.395477 124.709626 \nL 199.596928 124.755301 \nL 199.683264 124.703192 \nL 199.712043 124.727618 \nL 199.798379 124.738203 \nL 200.114945 123.943976 \nL 200.172502 123.992998 \nL 200.201281 123.955067 \nL 200.316396 123.803515 \nL 200.345175 123.828025 \nL 200.489068 123.825839 \nL 200.604183 123.612527 \nL 200.632962 123.637024 \nL 200.719298 123.64828 \nL 200.748077 123.610592 \nL 201.007085 123.39623 \nL 201.1222 123.370096 \nL 201.237315 123.282096 \nL 201.266093 123.306545 \nL 201.553881 123.488671 \nL 201.582659 123.451268 \nL 201.640217 123.314796 \nL 201.697774 123.363513 \nL 201.812889 123.337551 \nL 201.870446 123.201378 \nL 201.928004 123.250059 \nL 201.956783 123.274383 \nL 201.985561 123.237147 \nL 202.158233 123.014084 \nL 202.187012 122.976966 \nL 202.24457 123.025627 \nL 202.273348 123.049941 \nL 202.302127 122.951452 \nL 202.330906 122.91439 \nL 202.388463 122.963025 \nL 202.67625 123.083108 \nL 202.848923 122.861457 \nL 202.935259 122.934134 \nL 202.964037 122.83618 \nL 203.194267 122.419946 \nL 203.366939 122.443629 \nL 203.539612 122.163221 \nL 203.597169 122.211735 \nL 203.654726 122.138704 \nL 203.683505 122.102212 \nL 203.741063 122.150699 \nL 203.827399 122.162679 \nL 203.971292 121.92 \nL 204.000071 121.944235 \nL 204.086407 121.956329 \nL 204.115186 121.859465 \nL 204.201522 121.932099 \nL 204.287858 121.944181 \nL 204.316637 121.847472 \nL 204.402973 121.92 \nL 204.489309 121.992432 \nL 204.518088 121.895861 \nL 204.661981 121.775329 \nL 204.892211 121.968138 \nL 204.92099 121.871873 \nL 205.093662 121.59557 \nL 205.410228 121.740198 \nL 205.467785 121.608481 \nL 205.554121 121.680529 \nL 205.698015 121.680792 \nL 205.81313 121.418105 \nL 205.870687 121.466104 \nL 205.899466 121.490088 \nL 205.928244 121.454364 \nL 206.072138 121.275981 \nL 206.273589 121.38414 \nL 206.302368 121.348541 \nL 206.561376 120.850623 \nL 206.590155 120.874615 \nL 206.618934 120.77983 \nL 206.676491 120.590382 \nL 206.762827 120.662436 \nL 207.13695 120.914429 \nL 207.252065 120.714364 \nL 207.280844 120.738261 \nL 207.338401 120.667901 \nL 207.424737 120.739544 \nL 207.654967 120.340932 \nL 207.712524 120.270943 \nL 207.770082 120.318752 \nL 207.913975 120.202873 \nL 207.942754 120.226762 \nL 207.971533 120.13308 \nL 208.25932 119.726362 \nL 208.345656 119.798119 \nL 208.748558 120.014887 \nL 208.834894 120.027795 \nL 209.15146 120.17209 \nL 209.266575 119.917447 \nL 209.295354 119.824754 \nL 209.38169 119.895896 \nL 209.410468 119.919589 \nL 209.439247 119.826995 \nL 209.583141 119.771154 \nL 209.870928 119.891642 \nL 210.014821 119.835911 \nL 210.446502 120.073376 \nL 210.504059 119.889576 \nL 210.590395 119.960042 \nL 210.676732 120.03042 \nL 210.70551 119.938665 \nL 210.820625 119.629583 \nL 210.878183 119.676571 \nL 210.964519 119.632005 \nL 211.16597 119.336895 \nL 211.194748 119.360397 \nL 211.223527 119.269132 \nL 211.453757 118.826807 \nL 211.655208 118.991515 \nL 211.683986 118.900635 \nL 211.82788 118.618184 \nL 211.856659 118.641723 \nL 212.086888 118.715645 \nL 212.202003 118.524636 \nL 212.230782 118.548131 \nL 212.374676 118.665455 \nL 212.403454 118.575119 \nL 212.518569 118.498344 \nL 212.806356 118.618923 \nL 212.892692 118.462273 \nL 212.95025 118.509043 \nL 213.353152 118.722353 \nL 213.468266 118.758879 \nL 214.072619 119.132308 \nL 214.389185 118.936761 \nL 214.533079 118.939835 \nL 214.705751 118.909946 \nL 214.878423 118.936012 \nL 214.907202 118.847235 \nL 214.993538 118.91613 \nL 215.051096 118.906201 \nL 215.079874 118.817541 \nL 215.16621 118.886368 \nL 215.281325 118.922288 \nL 215.39644 118.902474 \nL 215.655448 118.441227 \nL 215.885678 118.513484 \nL 216.029572 118.406109 \nL 216.202244 118.377189 \nL 216.231023 118.400049 \nL 216.259801 118.312231 \nL 216.490031 117.942439 \nL 216.95049 118.197618 \nL 217.065605 118.013563 \nL 217.094384 118.036357 \nL 217.238277 118.15019 \nL 217.267056 118.063044 \nL 217.295835 117.975934 \nL 217.382171 118.044201 \nL 217.756294 118.284319 \nL 217.957745 118.005118 \nL 218.101639 118.063674 \nL 218.274311 117.871915 \nL 218.619656 118.088458 \nL 218.763549 117.874807 \nL 218.792328 117.89736 \nL 218.965 117.923899 \nL 219.166451 117.64754 \nL 219.310345 117.651798 \nL 219.396681 117.665174 \nL 219.511796 117.538746 \nL 219.540574 117.56125 \nL 219.972255 117.789891 \nL 220.08737 117.825491 \nL 220.317599 117.896521 \nL 220.547829 117.322869 \nL 220.605387 117.367632 \nL 220.806838 117.416805 \nL 220.921952 117.238226 \nL 220.950731 117.260571 \nL 221.037067 117.220504 \nL 221.152182 116.988878 \nL 221.209739 117.033588 \nL 221.353633 117.038389 \nL 221.497527 116.829753 \nL 221.526305 116.85209 \nL 221.583863 116.843414 \nL 221.698978 116.612946 \nL 221.756535 116.657637 \nL 221.929207 116.685097 \nL 221.986765 116.516971 \nL 222.073101 116.583919 \nL 222.360888 116.700422 \nL 222.389667 116.616585 \nL 222.476003 116.683292 \nL 222.591118 116.71915 \nL 222.735011 116.618392 \nL 222.850126 116.601369 \nL 222.878905 116.51783 \nL 222.965241 116.584373 \nL 223.051577 116.545245 \nL 223.339364 116.39758 \nL 223.540815 116.447164 \nL 223.713487 116.264289 \nL 223.943717 116.336003 \nL 224.173947 115.988294 \nL 224.375398 116.038152 \nL 224.54807 116.013577 \nL 224.663185 115.997225 \nL 224.922193 115.882317 \nL 225.066087 115.888103 \nL 225.267538 115.833761 \nL 225.411431 115.891549 \nL 225.468989 115.727615 \nL 225.555325 115.793467 \nL 225.641661 115.755464 \nL 225.785554 115.761343 \nL 225.958227 115.789095 \nL 226.10212 115.79493 \nL 226.217235 115.830605 \nL 226.246014 115.74907 \nL 226.33235 115.814572 \nL 226.620137 115.929264 \nL 226.792809 115.647692 \nL 226.821588 115.669475 \nL 226.879145 115.713016 \nL 226.907924 115.631859 \nL 227.080596 115.453956 \nL 227.138154 115.497505 \nL 227.166932 115.416526 \nL 227.339605 115.187857 \nL 227.425941 115.201925 \nL 227.45472 115.121154 \nL 227.541056 115.186493 \nL 227.65617 115.222291 \nL 227.684949 115.141639 \nL 227.771285 115.206867 \nL 228.145409 114.978254 \nL 228.260523 115.06507 \nL 228.289302 114.984765 \nL 228.54831 114.517917 \nL 228.951212 114.770843 \nL 229.066327 114.654411 \nL 229.095106 114.676058 \nL 229.181442 114.639552 \nL 229.210221 114.559806 \nL 229.296557 114.624716 \nL 229.382893 114.588286 \nL 229.90091 114.219168 \nL 230.102361 114.37028 \nL 230.13114 114.291057 \nL 230.390148 113.881199 \nL 230.879386 113.545351 \nL 231.052058 113.62474 \nL 231.282288 113.246809 \nL 231.339845 113.24 \nL 231.512518 113.069768 \nL 231.742747 113.192477 \nL 231.771526 113.114298 \nL 231.857862 113.178944 \nL 231.944198 113.193711 \nL 232.059313 113.130423 \nL 232.145649 113.095454 \nL 232.289543 113.103522 \nL 232.404658 113.0901 \nL 232.606109 112.74427 \nL 232.634887 112.76578 \nL 232.721223 112.7807 \nL 232.893896 112.513443 \nL 232.922674 112.534955 \nL 233.383134 112.779386 \nL 233.498249 112.815612 \nL 233.527027 112.836988 \nL 233.555806 112.759753 \nL 233.6997 112.571026 \nL 233.728478 112.592419 \nL 233.929929 112.545212 \nL 234.13138 112.596371 \nL 234.620618 112.272324 \nL 234.706954 112.287326 \nL 235.02352 111.739712 \nL 235.109856 111.70614 \nL 235.196192 111.575009 \nL 235.25375 111.617746 \nL 235.48398 111.544839 \nL 235.656652 111.624103 \nL 235.800545 111.487469 \nL 235.858103 111.48148 \nL 235.944439 111.302509 \nL 236.001996 111.345145 \nL 236.14589 111.403091 \nL 236.261005 111.100353 \nL 236.347341 111.164278 \nL 236.462456 111.20099 \nL 236.606349 111.307272 \nL 236.635128 111.231779 \nL 236.663907 111.156314 \nL 236.750243 111.22005 \nL 236.894136 111.326125 \nL 236.922915 111.250764 \nL 237.03803 111.04607 \nL 237.095587 111.08851 \nL 237.181923 111.103912 \nL 237.297038 110.995981 \nL 237.325817 111.017179 \nL 237.354596 111.03837 \nL 237.383374 110.963273 \nL 237.412153 110.888203 \nL 237.498489 110.951788 \nL 237.69994 110.907704 \nL 237.843834 110.917428 \nL 238.275514 110.659236 \nL 238.476965 110.711358 \nL 239.023761 110.348364 \nL 239.05254 110.369453 \nL 239.081318 110.29525 \nL 239.225212 110.162627 \nL 239.340327 110.151831 \nL 239.800786 109.871623 \nL 239.887122 109.88741 \nL 240.088573 109.655854 \nL 240.203688 109.692786 \nL 240.37636 109.393565 \nL 240.405139 109.414648 \nL 240.577811 109.493778 \nL 240.750484 109.336929 \nL 240.894377 109.347836 \nL 241.153385 109.4427 \nL 241.441173 108.994588 \nL 241.642624 109.094643 \nL 241.815296 108.892345 \nL 241.987968 108.971347 \nL 242.103083 108.774423 \nL 242.16064 108.816359 \nL 242.189419 108.837316 \nL 242.218198 108.764768 \nL 242.333313 108.568257 \nL 242.39087 108.610206 \nL 242.736214 108.861296 \nL 242.764993 108.78898 \nL 243.05278 108.671901 \nL 243.28301 108.792213 \nL 243.599576 108.232631 \nL 243.685912 108.2489 \nL 243.801027 108.193382 \nL 243.973699 108.27217 \nL 244.088814 108.031801 \nL 244.146371 108.073498 \nL 244.203929 108.115166 \nL 244.232707 108.043603 \nL 244.578052 107.878229 \nL 244.952175 108.056314 \nL 245.268741 107.916791 \nL 245.29752 107.937517 \nL 245.326298 107.866444 \nL 245.441413 107.903449 \nL 245.470192 107.924157 \nL 245.498971 107.853158 \nL 245.642864 107.681766 \nL 245.671643 107.702487 \nL 245.757979 107.718828 \nL 245.873094 107.664339 \nL 246.132102 107.758992 \nL 246.822791 107.297215 \nL 246.85157 107.317858 \nL 246.880349 107.24753 \nL 247.110578 106.958282 \nL 247.312029 107.012058 \nL 247.455923 106.843169 \nL 247.484702 106.863812 \nL 247.772489 106.934124 \nL 247.801267 106.864234 \nL 247.887604 106.926009 \nL 247.97394 106.987722 \nL 248.002718 106.917905 \nL 248.031497 106.848112 \nL 248.117833 106.909812 \nL 248.261727 106.922271 \nL 248.434399 107.000299 \nL 248.463178 106.930665 \nL 248.664629 106.894025 \nL 248.923637 106.943357 \nL 248.952416 106.873929 \nL 249.038752 106.93529 \nL 249.182646 106.902781 \nL 249.29776 106.760198 \nL 249.326539 106.780637 \nL 249.470433 106.793116 \nL 249.585547 106.65084 \nL 249.614326 106.671263 \nL 249.671884 106.71209 \nL 249.700662 106.642996 \nL 249.959671 106.245589 \nL 250.103564 106.213817 \nL 250.247458 106.226706 \nL 250.564024 106.317326 \nL 250.966926 106.113128 \nL 251.168377 106.122318 \nL 251.283491 106.159236 \nL 251.456164 106.148068 \nL 251.600057 105.939577 \nL 251.628836 105.959883 \nL 251.887844 106.009756 \nL 252.031738 106.022681 \nL 252.664869 106.334512 \nL 252.779984 106.239062 \nL 252.808763 106.259185 \nL 253.269222 106.448712 \nL 253.499452 106.389823 \nL 253.844797 106.629611 \nL 253.873575 106.562142 \nL 253.98869 106.423513 \nL 254.017469 106.44347 \nL 254.161362 106.543163 \nL 254.190141 106.475827 \nL 254.420371 106.155774 \nL 254.621822 106.16474 \nL 254.794494 105.97985 \nL 254.88083 105.952728 \nL 254.938388 105.818804 \nL 255.024724 105.878632 \nL 255.226175 105.887877 \nL 255.370068 105.90066 \nL 255.571519 105.909863 \nL 255.686634 105.772951 \nL 255.715413 105.792825 \nL 255.859306 105.848874 \nL 255.888085 105.78228 \nL 256.089536 105.748418 \nL 256.348544 105.797367 \nL 256.377323 105.730961 \nL 256.463659 105.790357 \nL 256.837782 105.918108 \nL 256.924119 105.805375 \nL 256.981676 105.844836 \nL 257.298242 105.975658 \nL 257.32702 105.909569 \nL 257.413357 105.968571 \nL 257.988931 106.232329 \nL 258.190382 106.198361 \nL 258.506948 106.28511 \nL 258.564505 106.153726 \nL 258.650841 106.212216 \nL 258.765956 106.247576 \nL 258.938628 106.236779 \nL 259.1113 105.971229 \nL 259.140079 105.905792 \nL 259.226415 105.964215 \nL 259.485424 106.01203 \nL 259.629317 105.812706 \nL 259.658096 105.83215 \nL 259.744432 105.848127 \nL 259.773211 105.782933 \nL 259.945883 105.645816 \nL 260.377564 105.810209 \nL 260.492679 105.845489 \nL 260.722908 105.958011 \nL 260.751687 105.893143 \nL 260.953138 105.860046 \nL 261.240925 105.926826 \nL 261.499933 105.848421 \nL 261.730163 105.876599 \nL 261.902835 105.866316 \nL 262.161844 105.913582 \nL 262.334516 105.903289 \nL 262.449631 105.896437 \nL 262.622303 105.761171 \nL 262.852533 105.706054 \nL 262.967648 105.740933 \nL 262.996426 105.676873 \nL 263.14032 105.689289 \nL 263.600779 105.869831 \nL 263.773451 105.859656 \nL 263.80223 105.878665 \nL 263.831009 105.814867 \nL 264.03246 105.451534 \nL 264.090017 105.48962 \nL 264.26269 105.479818 \nL 264.406583 105.285923 \nL 264.435362 105.304956 \nL 264.521698 105.27952 \nL 264.608034 105.171644 \nL 264.665591 105.2097 \nL 264.982157 105.089387 \nL 265.126051 105.102118 \nL 265.327502 104.906314 \nL 265.644068 104.991961 \nL 265.903076 104.916631 \nL 266.190863 104.983102 \nL 266.392314 104.951903 \nL 266.766437 105.115446 \nL 266.910331 105.005827 \nL 267.140561 105.115599 \nL 267.169339 105.053022 \nL 267.255675 104.987397 \nL 267.284454 105.006193 \nL 267.485905 105.015762 \nL 267.773692 104.91932 \nL 267.917586 104.891469 \nL 268.003922 104.82617 \nL 268.032701 104.844917 \nL 268.234152 104.854617 \nL 268.49316 104.780479 \nL 268.838504 104.883597 \nL 268.953619 104.676037 \nL 269.011177 104.713388 \nL 269.126292 104.707477 \nL 269.241406 104.661324 \nL 269.442857 104.671154 \nL 269.586751 104.683902 \nL 270.104768 104.897939 \nL 270.219882 104.811858 \nL 270.248661 104.830395 \nL 270.50767 104.757052 \nL 270.651563 104.769668 \nL 270.795457 104.702406 \nL 270.996908 104.672228 \nL 271.255916 104.71888 \nL 271.428588 104.710113 \nL 271.745154 104.833158 \nL 272.004163 104.482576 \nL 272.435843 104.679073 \nL 272.550958 104.594135 \nL 272.579737 104.612485 \nL 272.666073 104.548847 \nL 272.781188 104.503613 \nL 272.925081 104.476768 \nL 273.414319 104.236057 \nL 273.730885 104.319288 \nL 273.903557 104.075141 \nL 273.932336 104.093441 \nL 274.07623 104.067048 \nL 274.479132 103.891449 \nL 274.623025 103.865274 \nL 274.997148 103.711394 \nL 275.428829 103.867612 \nL 275.543944 103.90136 \nL 275.831731 103.966096 \nL 276.004403 103.763698 \nL 276.033182 103.781851 \nL 276.52242 103.546537 \nL 277.040437 103.756145 \nL 277.069215 103.696826 \nL 277.155552 103.751013 \nL 277.270666 103.784539 \nL 277.385781 103.740767 \nL 277.41456 103.681552 \nL 277.500896 103.735653 \nL 277.788683 103.8 \nL 277.961355 103.638214 \nL 278.162806 103.725601 \nL 278.191585 103.666614 \nL 278.96861 103.230157 \nL 279.141283 103.222979 \nL 279.515406 103.073671 \nL 279.630521 103.107191 \nL 279.659299 103.048714 \nL 279.745635 102.87338 \nL 279.831972 102.927207 \nL 279.975865 102.902391 \nL 280.177316 102.875329 \nL 280.407546 102.904277 \nL 280.580218 102.897423 \nL 280.75289 102.89058 \nL 280.896784 102.82793 \nL 281.069456 102.821156 \nL 281.184571 102.778728 \nL 281.443579 102.863325 \nL 281.558694 102.74525 \nL 281.587473 102.763058 \nL 281.788924 102.811957 \nL 281.904039 102.769682 \nL 282.076711 102.800745 \nL 282.249383 102.643137 \nL 282.278162 102.660899 \nL 282.306941 102.60323 \nL 282.479613 102.483643 \nL 282.53717 102.519168 \nL 282.565949 102.461591 \nL 282.709843 102.362144 \nL 282.853736 102.375677 \nL 282.99763 102.238838 \nL 283.026408 102.256593 \nL 283.170302 102.270178 \nL 283.371753 102.281662 \nL 283.486868 102.2025 \nL 283.515646 102.220218 \nL 283.65954 102.233797 \nL 283.860991 101.945826 \nL 283.88977 101.963547 \nL 284.119999 102.030371 \nL 284.263893 101.931959 \nL 284.494123 101.998698 \nL 284.638016 101.937777 \nL 285.242369 101.638194 \nL 285.472599 101.667798 \nL 285.731607 101.381032 \nL 285.904279 101.375597 \nL 286.393517 101.563663 \nL 286.479854 101.468455 \nL 286.537411 101.503584 \nL 286.767641 101.533154 \nL 287.084207 101.025352 \nL 287.112985 101.042929 \nL 287.343215 101.072918 \nL 287.717338 100.933144 \nL 287.832453 100.929796 \nL 287.976347 100.870551 \nL 288.465585 101.057949 \nL 288.609478 100.925591 \nL 288.638257 100.943056 \nL 288.78215 100.993741 \nL 288.810929 100.938049 \nL 288.839708 100.882373 \nL 288.926044 100.934716 \nL 289.041159 100.894858 \nL 289.213831 100.780406 \nL 289.501618 100.845203 \nL 289.530397 100.789718 \nL 289.616733 100.84193 \nL 289.846963 100.799004 \nL 289.933299 100.814759 \nL 289.962078 100.75939 \nL 290.192307 100.534961 \nL 290.393758 100.547692 \nL 290.595209 100.379079 \nL 290.739103 100.39344 \nL 290.825439 100.336841 \nL 290.854218 100.354206 \nL 291.055668 100.367067 \nL 291.170783 100.40024 \nL 291.45857 100.501076 \nL 291.660021 100.333335 \nL 291.861472 100.418273 \nL 291.890251 100.363448 \nL 291.947809 100.289881 \nL 292.005366 100.324438 \nL 292.264374 100.407748 \nL 292.437047 100.295378 \nL 292.667276 100.361343 \nL 292.782391 100.286572 \nL 292.81117 100.303788 \nL 292.955063 100.28218 \nL 293.041399 100.190343 \nL 293.098957 100.224753 \nL 293.156514 100.259146 \nL 293.185293 100.204667 \nL 293.444301 99.929755 \nL 293.616974 99.961421 \nL 293.645752 99.907096 \nL 293.732089 99.958674 \nL 293.904761 99.95456 \nL 294.106212 100.003293 \nL 294.163769 99.894889 \nL 294.250105 99.94635 \nL 294.393999 99.960755 \nL 294.681786 99.59802 \nL 294.912016 99.628489 \nL 295.084688 99.411507 \nL 295.113467 99.428657 \nL 295.343696 99.459243 \nL 295.602705 99.400542 \nL 295.948049 99.499419 \nL 296.437287 99.294716 \nL 296.753853 99.37636 \nL 296.897747 99.285268 \nL 297.444542 99.502563 \nL 297.588436 99.517048 \nL 297.645993 99.55093 \nL 297.674772 99.497641 \nL 297.905001 99.247201 \nL 298.020116 99.209818 \nL 298.221567 99.04817 \nL 298.250346 99.065126 \nL 298.279125 99.012043 \nL 298.423018 98.816825 \nL 298.480576 98.850761 \nL 298.624469 98.900561 \nL 298.653248 98.847588 \nL 298.969814 98.754513 \nL 299.05615 98.80531 \nL 299.084929 98.752452 \nL 299.228822 98.662707 \nL 299.343937 98.695546 \nL 299.372716 98.642769 \nL 299.631724 98.586062 \nL 299.977069 98.684419 \nL 300.005847 98.631792 \nL 300.092183 98.682403 \nL 300.322413 98.747775 \nL 300.351192 98.695221 \nL 300.437528 98.745729 \nL 300.667758 98.776291 \nL 300.782872 98.739605 \nL 301.214553 98.92207 \nL 301.329668 98.816309 \nL 301.358447 98.833061 \nL 301.50234 98.813203 \nL 301.646234 98.827866 \nL 301.991578 98.924983 \nL 302.164251 98.818549 \nL 302.365702 98.866518 \nL 302.538374 98.725942 \nL 302.567152 98.742617 \nL 302.595931 98.690581 \nL 302.62471 98.638559 \nL 302.711046 98.688585 \nL 302.85494 98.70325 \nL 303.027612 98.597386 \nL 303.200284 98.628731 \nL 303.488071 98.315866 \nL 303.574407 98.365824 \nL 303.603186 98.314066 \nL 303.631965 98.26232 \nL 303.718301 98.312268 \nL 304.121203 98.442486 \nL 304.322654 98.28581 \nL 304.667998 98.416653 \nL 304.811892 98.295276 \nL 304.840671 98.31184 \nL 304.869449 98.328399 \nL 304.898228 98.276937 \nL 304.927007 98.225487 \nL 305.013343 98.275168 \nL 305.157236 98.255973 \nL 305.387466 98.218524 \nL 305.560138 98.283743 \nL 305.588917 98.23244 \nL 305.732811 98.077776 \nL 305.761589 98.094301 \nL 305.819147 98.127338 \nL 305.847925 98.076112 \nL 306.049376 97.920926 \nL 306.106934 97.920134 \nL 306.135713 97.868998 \nL 306.4235 97.797539 \nL 306.797623 97.910663 \nL 307.027853 97.873821 \nL 307.286861 97.954477 \nL 307.517091 97.615034 \nL 307.574648 97.647941 \nL 307.74732 97.645784 \nL 308.86969 97.080221 \nL 309.042362 97.078496 \nL 309.215034 97.076772 \nL 309.474043 97.124211 \nL 309.617936 97.072761 \nL 309.819387 97.087409 \nL 309.99206 96.985869 \nL 310.164732 97.017468 \nL 310.337404 96.916128 \nL 310.625191 96.979836 \nL 310.797864 96.845563 \nL 310.941757 96.82771 \nL 311.143208 96.643825 \nL 311.373438 96.675049 \nL 311.517331 96.591228 \nL 311.718782 96.606168 \nL 311.891454 96.472787 \nL 312.150463 96.520349 \nL 312.351914 96.337661 \nL 312.409471 96.30434 \nL 312.582144 96.204475 \nL 312.754816 96.203412 \nL 313.186496 96.348478 \nL 313.301611 96.347702 \nL 313.675735 96.459838 \nL 313.819628 96.376955 \nL 313.934743 96.343443 \nL 314.078636 96.293423 \nL 314.136194 96.260354 \nL 314.280087 96.177749 \nL 314.596653 96.257433 \nL 314.711768 96.224087 \nL 314.769325 96.191122 \nL 314.88444 96.190426 \nL 315.143449 96.140024 \nL 315.3449 96.155117 \nL 315.575129 95.926261 \nL 315.920474 96.021922 \nL 316.064367 95.940072 \nL 316.121925 95.907359 \nL 316.23704 95.874391 \nL 316.352155 95.87385 \nL 316.467269 95.840929 \nL 316.553606 95.824352 \nL 316.697499 95.775182 \nL 316.956507 95.725602 \nL 317.12918 95.7249 \nL 317.388188 95.481918 \nL 317.532082 95.497597 \nL 317.733533 95.319806 \nL 317.963762 95.351437 \nL 318.654451 95.060897 \nL 318.91346 95.140696 \nL 319.028575 95.140507 \nL 319.143689 95.140318 \nL 319.258804 95.14013 \nL 319.431476 95.139847 \nL 319.661706 94.947725 \nL 320.064608 94.819763 \nL 320.525067 95.010685 \nL 320.668961 94.962787 \nL 320.812855 94.946752 \nL 321.043084 94.914781 \nL 321.244535 94.930514 \nL 322.971258 94.077842 \nL 323.14393 94.046793 \nL 323.287824 93.968467 \nL 323.575611 94.032269 \nL 323.719504 93.985524 \nL 323.892177 93.954632 \nL 324.064849 93.860998 \nL 324.237521 93.830235 \nL 324.410193 93.736817 \nL 324.69798 93.706659 \nL 324.899431 93.691848 \nL 325.359891 93.568852 \nL 325.561342 93.554191 \nL 325.791571 93.368217 \nL 326.194473 93.277036 \nL 326.338367 93.262319 \nL 326.511039 93.138982 \nL 326.683711 93.14008 \nL 326.827605 93.063372 \nL 327.144171 93.111991 \nL 327.403179 92.850349 \nL 327.777302 92.930475 \nL 327.892417 92.931298 \nL 328.122647 92.963832 \nL 328.324098 92.795485 \nL 328.611885 92.828521 \nL 328.813336 92.691411 \nL 329.072344 92.678111 \nL 329.187459 92.617524 \nL 329.331353 92.541866 \nL 329.705476 92.652537 \nL 329.878148 92.561919 \nL 330.108378 92.563884 \nL 330.309829 92.550287 \nL 330.597616 92.277434 \nL 330.74151 92.232958 \nL 331.144411 92.145323 \nL 331.317084 92.116566 \nL 331.604871 92.089036 \nL 331.892658 92.122441 \nL 332.094109 91.987633 \nL 332.29556 91.974593 \nL 332.410675 91.975829 \nL 332.95747 91.814975 \nL 333.245257 91.848511 \nL 333.475487 91.669583 \nL 333.561823 91.625247 \nL 333.734495 91.536664 \nL 334.655414 91.186665 \nL 334.97198 91.236105 \nL 335.144652 91.148261 \nL 335.374882 91.181465 \nL 335.576333 91.049185 \nL 335.892899 91.098617 \nL 336.008013 91.100223 \nL 336.209464 91.088062 \nL 336.382137 90.970817 \nL 336.52603 90.928043 \nL 337.303055 90.656144 \nL 337.590842 90.690394 \nL 337.792293 90.559606 \nL 337.936187 90.547024 \nL 338.166417 90.342711 \nL 338.396646 90.346553 \nL 338.598097 90.186764 \nL 338.972221 90.267267 \nL 339.116114 90.195691 \nL 339.43268 90.245483 \nL 339.921918 90.120964 \nL 340.123369 90.139219 \nL 340.267262 90.097499 \nL 340.698943 90.208038 \nL 340.98673 90.183543 \nL 341.245739 90.202658 \nL 343.116355 89.403155 \nL 343.317806 89.392589 \nL 343.432921 89.365753 \nL 343.807044 89.44595 \nL 343.950937 89.405173 \nL 344.152388 89.42369 \nL 344.325061 89.34 \nL 344.699184 89.419968 \nL 345.073307 89.354955 \nL 345.332315 89.374575 \nL 345.67766 89.323643 \nL 345.792775 89.29707 \nL 346.023004 89.099739 \nL 346.138119 89.044456 \nL 346.656136 88.911397 \nL 346.742472 88.870087 \nL 346.972702 88.673806 \nL 347.346825 88.782622 \nL 347.490719 88.742724 \nL 347.663391 88.775197 \nL 347.778506 88.720384 \nL 347.893621 88.722922 \nL 348.210186 88.772821 \nL 348.411637 88.619924 \nL 348.58431 88.623785 \nL 348.728203 88.584151 \nL 348.929654 88.574405 \nL 350.052024 88.158921 \nL 350.598819 88.328017 \nL 352.210427 87.688319 \nL 352.354321 87.649688 \nL 352.728444 87.58885 \nL 352.958674 87.594771 \nL 353.102567 87.528176 \nL 353.246461 87.517854 \nL 353.390354 87.451367 \nL 353.534248 87.413022 \nL 353.908371 87.352759 \nL 354.109822 87.344082 \nL 354.282494 87.236663 \nL 354.426388 87.226534 \nL 354.627839 87.078148 \nL 354.886847 87.099204 \nL 355.030741 87.145013 \nL 355.174634 87.134958 \nL 355.433643 86.904977 \nL 355.635094 86.896668 \nL 355.836545 86.777001 \nL 356.037996 86.768795 \nL 356.210668 86.662465 \nL 356.556012 86.727913 \nL 356.843799 86.708347 \nL 357.074029 86.742621 \nL 357.246701 86.664401 \nL 357.419374 86.64165 \nL 357.563267 86.604264 \nL 357.707161 86.566916 \nL 357.851054 86.529605 \nL 358.138841 86.510331 \nL 358.369071 86.517015 \nL 358.656858 86.497789 \nL 358.82953 86.475252 \nL 359.030981 86.329699 \nL 359.491441 86.453247 \nL 359.664113 86.375867 \nL 359.923121 86.397189 \nL 360.354802 86.313899 \nL 360.585032 86.320689 \nL 360.728925 86.283878 \nL 361.275721 86.149798 \nL 361.592287 86.200209 \nL 361.851295 85.976215 \nL 361.995189 85.966985 \nL 362.110303 85.970501 \nL 362.311754 85.990255 \nL 362.541984 86.024452 \nL 362.685878 85.98804 \nL 362.916107 85.995036 \nL 363.117558 85.879021 \nL 363.491681 85.822748 \nL 363.980919 85.959602 \nL 364.153592 85.856675 \nL 364.355043 85.849346 \nL 364.470158 85.85288 \nL 364.700387 85.85994 \nL 364.87306 85.811278 \nL 365.016953 85.775264 \nL 366.85879 85.081656 \nL 367.060241 85.101702 \nL 367.204135 85.093067 \nL 367.405586 85.08634 \nL 367.54948 85.050994 \nL 367.722152 85.056708 \nL 367.923603 84.943241 \nL 368.125054 84.936634 \nL 368.643071 84.820778 \nL 369.074751 84.928398 \nL 369.707883 84.763741 \nL 369.851776 84.728828 \nL 370.082006 84.577643 \nL 370.341014 84.59979 \nL 370.571244 84.607685 \nL 370.715138 84.572951 \nL 370.945367 84.448749 \nL 371.11804 84.428342 \nL 371.348269 84.43635 \nL 371.520941 84.415977 \nL 372.556975 84.08401 \nL 372.643311 84.047694 \nL 372.844762 83.936784 \nL 373.190107 84.027959 \nL 373.391558 83.943471 \nL 373.679345 84.00623 \nL 374.053468 83.692814 \nL 374.22614 83.699187 \nL 374.370034 83.691432 \nL 374.513927 83.657578 \nL 374.657821 83.64985 \nL 374.830493 83.630155 \nL 375.060723 83.638677 \nL 375.233395 83.619015 \nL 376.039199 83.389025 \nL 376.154314 83.341433 \nL 376.355765 83.232286 \nL 376.729888 83.311339 \nL 376.960118 83.190572 \nL 377.075233 83.1432 \nL 377.996151 82.86875 \nL 378.168823 82.849717 \nL 378.514168 82.811716 \nL 378.830734 82.862744 \nL 379.060964 82.717434 \nL 379.291193 82.726527 \nL 379.291193 82.726527 \n\" style=\"fill:none;stroke:#64b5cd;stroke-linecap:round;stroke-width:1.5;\"/>\n   </g>\n   <g id=\"line2d_26\"/>\n   <g id=\"line2d_27\"/>\n   <g id=\"line2d_28\"/>\n   <g id=\"line2d_29\"/>\n   <g id=\"line2d_30\"/>\n   <g id=\"line2d_31\"/>\n   <g id=\"line2d_32\"/>\n   <g id=\"line2d_33\"/>\n   <g id=\"line2d_34\"/>\n   <g id=\"line2d_35\"/>\n   <g id=\"line2d_36\"/>\n   <g id=\"patch_3\">\n    <path d=\"M 59.709375 230.64 \nL 59.709375 13.2 \n\" style=\"fill:none;stroke:#ffffff;stroke-linecap:square;stroke-linejoin:miter;stroke-width:1.25;\"/>\n   </g>\n   <g id=\"patch_4\">\n    <path d=\"M 394.509375 230.64 \nL 394.509375 13.2 \n\" style=\"fill:none;stroke:#ffffff;stroke-linecap:square;stroke-linejoin:miter;stroke-width:1.25;\"/>\n   </g>\n   <g id=\"patch_5\">\n    <path d=\"M 59.709375 230.64 \nL 394.509375 230.64 \n\" style=\"fill:none;stroke:#ffffff;stroke-linecap:square;stroke-linejoin:miter;stroke-width:1.25;\"/>\n   </g>\n   <g id=\"patch_6\">\n    <path d=\"M 59.709375 13.2 \nL 394.509375 13.2 \n\" style=\"fill:none;stroke:#ffffff;stroke-linecap:square;stroke-linejoin:miter;stroke-width:1.25;\"/>\n   </g>\n   <g id=\"legend_1\">\n    <g id=\"patch_7\">\n     <path d=\"M 413.649375 213.88875 \nL 772.18125 213.88875 \nQ 774.58125 213.88875 774.58125 211.48875 \nL 774.58125 15.6 \nQ 774.58125 13.2 772.18125 13.2 \nL 413.649375 13.2 \nQ 411.249375 13.2 411.249375 15.6 \nL 411.249375 211.48875 \nQ 411.249375 213.88875 413.649375 213.88875 \nz\n\" style=\"fill:#eaeaf2;opacity:0.8;stroke:#cccccc;stroke-linejoin:miter;\"/>\n    </g>\n    <g id=\"line2d_37\">\n     <path d=\"M 416.049375 22.918125 \nL 440.049375 22.918125 \n\" style=\"fill:none;\"/>\n    </g>\n    <g id=\"line2d_38\"/>\n    <g id=\"text_18\">\n     <!-- bandit -->\n     <defs>\n      <path d=\"M 48.6875 27.296875 \nQ 48.6875 37.203125 44.609375 42.84375 \nQ 40.53125 48.484375 33.40625 48.484375 \nQ 26.265625 48.484375 22.1875 42.84375 \nQ 18.109375 37.203125 18.109375 27.296875 \nQ 18.109375 17.390625 22.1875 11.75 \nQ 26.265625 6.109375 33.40625 6.109375 \nQ 40.53125 6.109375 44.609375 11.75 \nQ 48.6875 17.390625 48.6875 27.296875 \nz\nM 18.109375 46.390625 \nQ 20.953125 51.265625 25.265625 53.625 \nQ 29.59375 56 35.59375 56 \nQ 45.5625 56 51.78125 48.09375 \nQ 58.015625 40.1875 58.015625 27.296875 \nQ 58.015625 14.40625 51.78125 6.484375 \nQ 45.5625 -1.421875 35.59375 -1.421875 \nQ 29.59375 -1.421875 25.265625 0.953125 \nQ 20.953125 3.328125 18.109375 8.203125 \nL 18.109375 0 \nL 9.078125 0 \nL 9.078125 75.984375 \nL 18.109375 75.984375 \nz\n\" id=\"DejaVuSans-62\"/>\n     </defs>\n     <g style=\"fill:#262626;\" transform=\"translate(449.649375 27.118125)scale(0.12 -0.12)\">\n      <use xlink:href=\"#DejaVuSans-62\"/>\n      <use x=\"63.476562\" xlink:href=\"#DejaVuSans-61\"/>\n      <use x=\"124.755859\" xlink:href=\"#DejaVuSans-6e\"/>\n      <use x=\"188.134766\" xlink:href=\"#DejaVuSans-64\"/>\n      <use x=\"251.611328\" xlink:href=\"#DejaVuSans-69\"/>\n      <use x=\"279.394531\" xlink:href=\"#DejaVuSans-74\"/>\n     </g>\n    </g>\n    <g id=\"line2d_39\">\n     <path d=\"M 416.049375 40.531875 \nL 440.049375 40.531875 \n\" style=\"fill:none;stroke:#4c72b0;stroke-linecap:round;stroke-width:1.5;\"/>\n    </g>\n    <g id=\"line2d_40\"/>\n    <g id=\"text_19\">\n     <!-- mars_gym.model.bandit.AdaptiveGreedy -->\n     <defs>\n      <path d=\"M 50.984375 -16.609375 \nL 50.984375 -23.578125 \nL -0.984375 -23.578125 \nL -0.984375 -16.609375 \nz\n\" id=\"DejaVuSans-5f\"/>\n      <path d=\"M 45.40625 27.984375 \nQ 45.40625 37.75 41.375 43.109375 \nQ 37.359375 48.484375 30.078125 48.484375 \nQ 22.859375 48.484375 18.828125 43.109375 \nQ 14.796875 37.75 14.796875 27.984375 \nQ 14.796875 18.265625 18.828125 12.890625 \nQ 22.859375 7.515625 30.078125 7.515625 \nQ 37.359375 7.515625 41.375 12.890625 \nQ 45.40625 18.265625 45.40625 27.984375 \nz\nM 54.390625 6.78125 \nQ 54.390625 -7.171875 48.1875 -13.984375 \nQ 42 -20.796875 29.203125 -20.796875 \nQ 24.46875 -20.796875 20.265625 -20.09375 \nQ 16.0625 -19.390625 12.109375 -17.921875 \nL 12.109375 -9.1875 \nQ 16.0625 -11.328125 19.921875 -12.34375 \nQ 23.78125 -13.375 27.78125 -13.375 \nQ 36.625 -13.375 41.015625 -8.765625 \nQ 45.40625 -4.15625 45.40625 5.171875 \nL 45.40625 9.625 \nQ 42.625 4.78125 38.28125 2.390625 \nQ 33.9375 0 27.875 0 \nQ 17.828125 0 11.671875 7.65625 \nQ 5.515625 15.328125 5.515625 27.984375 \nQ 5.515625 40.671875 11.671875 48.328125 \nQ 17.828125 56 27.875 56 \nQ 33.9375 56 38.28125 53.609375 \nQ 42.625 51.21875 45.40625 46.390625 \nL 45.40625 54.6875 \nL 54.390625 54.6875 \nz\n\" id=\"DejaVuSans-67\"/>\n      <path d=\"M 32.171875 -5.078125 \nQ 28.375 -14.84375 24.75 -17.8125 \nQ 21.140625 -20.796875 15.09375 -20.796875 \nL 7.90625 -20.796875 \nL 7.90625 -13.28125 \nL 13.1875 -13.28125 \nQ 16.890625 -13.28125 18.9375 -11.515625 \nQ 21 -9.765625 23.484375 -3.21875 \nL 25.09375 0.875 \nL 2.984375 54.6875 \nL 12.5 54.6875 \nL 29.59375 11.921875 \nL 46.6875 54.6875 \nL 56.203125 54.6875 \nz\n\" id=\"DejaVuSans-79\"/>\n      <path d=\"M 34.1875 63.1875 \nL 20.796875 26.90625 \nL 47.609375 26.90625 \nz\nM 28.609375 72.90625 \nL 39.796875 72.90625 \nL 67.578125 0 \nL 57.328125 0 \nL 50.6875 18.703125 \nL 17.828125 18.703125 \nL 11.1875 0 \nL 0.78125 0 \nz\n\" id=\"DejaVuSans-41\"/>\n      <path d=\"M 18.109375 8.203125 \nL 18.109375 -20.796875 \nL 9.078125 -20.796875 \nL 9.078125 54.6875 \nL 18.109375 54.6875 \nL 18.109375 46.390625 \nQ 20.953125 51.265625 25.265625 53.625 \nQ 29.59375 56 35.59375 56 \nQ 45.5625 56 51.78125 48.09375 \nQ 58.015625 40.1875 58.015625 27.296875 \nQ 58.015625 14.40625 51.78125 6.484375 \nQ 45.5625 -1.421875 35.59375 -1.421875 \nQ 29.59375 -1.421875 25.265625 0.953125 \nQ 20.953125 3.328125 18.109375 8.203125 \nz\nM 48.6875 27.296875 \nQ 48.6875 37.203125 44.609375 42.84375 \nQ 40.53125 48.484375 33.40625 48.484375 \nQ 26.265625 48.484375 22.1875 42.84375 \nQ 18.109375 37.203125 18.109375 27.296875 \nQ 18.109375 17.390625 22.1875 11.75 \nQ 26.265625 6.109375 33.40625 6.109375 \nQ 40.53125 6.109375 44.609375 11.75 \nQ 48.6875 17.390625 48.6875 27.296875 \nz\n\" id=\"DejaVuSans-70\"/>\n      <path d=\"M 59.515625 10.40625 \nL 59.515625 29.984375 \nL 43.40625 29.984375 \nL 43.40625 38.09375 \nL 69.28125 38.09375 \nL 69.28125 6.78125 \nQ 63.578125 2.734375 56.6875 0.65625 \nQ 49.8125 -1.421875 42 -1.421875 \nQ 24.90625 -1.421875 15.25 8.5625 \nQ 5.609375 18.5625 5.609375 36.375 \nQ 5.609375 54.25 15.25 64.234375 \nQ 24.90625 74.21875 42 74.21875 \nQ 49.125 74.21875 55.546875 72.453125 \nQ 61.96875 70.703125 67.390625 67.28125 \nL 67.390625 56.78125 \nQ 61.921875 61.421875 55.765625 63.765625 \nQ 49.609375 66.109375 42.828125 66.109375 \nQ 29.4375 66.109375 22.71875 58.640625 \nQ 16.015625 51.171875 16.015625 36.375 \nQ 16.015625 21.625 22.71875 14.15625 \nQ 29.4375 6.6875 42.828125 6.6875 \nQ 48.046875 6.6875 52.140625 7.59375 \nQ 56.25 8.5 59.515625 10.40625 \nz\n\" id=\"DejaVuSans-47\"/>\n     </defs>\n     <g style=\"fill:#262626;\" transform=\"translate(449.649375 44.731875)scale(0.12 -0.12)\">\n      <use xlink:href=\"#DejaVuSans-6d\"/>\n      <use x=\"97.412109\" xlink:href=\"#DejaVuSans-61\"/>\n      <use x=\"158.691406\" xlink:href=\"#DejaVuSans-72\"/>\n      <use x=\"199.804688\" xlink:href=\"#DejaVuSans-73\"/>\n      <use x=\"251.904297\" xlink:href=\"#DejaVuSans-5f\"/>\n      <use x=\"301.904297\" xlink:href=\"#DejaVuSans-67\"/>\n      <use x=\"365.380859\" xlink:href=\"#DejaVuSans-79\"/>\n      <use x=\"424.560547\" xlink:href=\"#DejaVuSans-6d\"/>\n      <use x=\"521.972656\" xlink:href=\"#DejaVuSans-2e\"/>\n      <use x=\"553.759766\" xlink:href=\"#DejaVuSans-6d\"/>\n      <use x=\"651.171875\" xlink:href=\"#DejaVuSans-6f\"/>\n      <use x=\"712.353516\" xlink:href=\"#DejaVuSans-64\"/>\n      <use x=\"775.830078\" xlink:href=\"#DejaVuSans-65\"/>\n      <use x=\"837.353516\" xlink:href=\"#DejaVuSans-6c\"/>\n      <use x=\"865.136719\" xlink:href=\"#DejaVuSans-2e\"/>\n      <use x=\"896.923828\" xlink:href=\"#DejaVuSans-62\"/>\n      <use x=\"960.400391\" xlink:href=\"#DejaVuSans-61\"/>\n      <use x=\"1021.679688\" xlink:href=\"#DejaVuSans-6e\"/>\n      <use x=\"1085.058594\" xlink:href=\"#DejaVuSans-64\"/>\n      <use x=\"1148.535156\" xlink:href=\"#DejaVuSans-69\"/>\n      <use x=\"1176.318359\" xlink:href=\"#DejaVuSans-74\"/>\n      <use x=\"1215.527344\" xlink:href=\"#DejaVuSans-2e\"/>\n      <use x=\"1247.314453\" xlink:href=\"#DejaVuSans-41\"/>\n      <use x=\"1315.707031\" xlink:href=\"#DejaVuSans-64\"/>\n      <use x=\"1379.183594\" xlink:href=\"#DejaVuSans-61\"/>\n      <use x=\"1440.462891\" xlink:href=\"#DejaVuSans-70\"/>\n      <use x=\"1503.939453\" xlink:href=\"#DejaVuSans-74\"/>\n      <use x=\"1543.148438\" xlink:href=\"#DejaVuSans-69\"/>\n      <use x=\"1570.931641\" xlink:href=\"#DejaVuSans-76\"/>\n      <use x=\"1630.111328\" xlink:href=\"#DejaVuSans-65\"/>\n      <use x=\"1691.634766\" xlink:href=\"#DejaVuSans-47\"/>\n      <use x=\"1769.125\" xlink:href=\"#DejaVuSans-72\"/>\n      <use x=\"1810.207031\" xlink:href=\"#DejaVuSans-65\"/>\n      <use x=\"1871.730469\" xlink:href=\"#DejaVuSans-65\"/>\n      <use x=\"1933.253906\" xlink:href=\"#DejaVuSans-64\"/>\n      <use x=\"1996.730469\" xlink:href=\"#DejaVuSans-79\"/>\n     </g>\n    </g>\n    <g id=\"line2d_41\">\n     <path d=\"M 416.049375 58.479375 \nL 440.049375 58.479375 \n\" style=\"fill:none;stroke:#dd8452;stroke-linecap:round;stroke-width:1.5;\"/>\n    </g>\n    <g id=\"line2d_42\"/>\n    <g id=\"text_20\">\n     <!-- mars_gym.model.bandit.CustomRewardModelLinUCB -->\n     <defs>\n      <path d=\"M 9.8125 72.90625 \nL 19.671875 72.90625 \nL 19.671875 8.296875 \nL 55.171875 8.296875 \nL 55.171875 0 \nL 9.8125 0 \nz\n\" id=\"DejaVuSans-4c\"/>\n      <path d=\"M 8.6875 72.90625 \nL 18.609375 72.90625 \nL 18.609375 28.609375 \nQ 18.609375 16.890625 22.84375 11.734375 \nQ 27.09375 6.59375 36.625 6.59375 \nQ 46.09375 6.59375 50.34375 11.734375 \nQ 54.59375 16.890625 54.59375 28.609375 \nL 54.59375 72.90625 \nL 64.5 72.90625 \nL 64.5 27.390625 \nQ 64.5 13.140625 57.4375 5.859375 \nQ 50.390625 -1.421875 36.625 -1.421875 \nQ 22.796875 -1.421875 15.734375 5.859375 \nQ 8.6875 13.140625 8.6875 27.390625 \nz\n\" id=\"DejaVuSans-55\"/>\n      <path d=\"M 19.671875 34.8125 \nL 19.671875 8.109375 \nL 35.5 8.109375 \nQ 43.453125 8.109375 47.28125 11.40625 \nQ 51.125 14.703125 51.125 21.484375 \nQ 51.125 28.328125 47.28125 31.5625 \nQ 43.453125 34.8125 35.5 34.8125 \nz\nM 19.671875 64.796875 \nL 19.671875 42.828125 \nL 34.28125 42.828125 \nQ 41.5 42.828125 45.03125 45.53125 \nQ 48.578125 48.25 48.578125 53.8125 \nQ 48.578125 59.328125 45.03125 62.0625 \nQ 41.5 64.796875 34.28125 64.796875 \nz\nM 9.8125 72.90625 \nL 35.015625 72.90625 \nQ 46.296875 72.90625 52.390625 68.21875 \nQ 58.5 63.53125 58.5 54.890625 \nQ 58.5 48.1875 55.375 44.234375 \nQ 52.25 40.28125 46.1875 39.3125 \nQ 53.46875 37.75 57.5 32.78125 \nQ 61.53125 27.828125 61.53125 20.40625 \nQ 61.53125 10.640625 54.890625 5.3125 \nQ 48.25 0 35.984375 0 \nL 9.8125 0 \nz\n\" id=\"DejaVuSans-42\"/>\n     </defs>\n     <g style=\"fill:#262626;\" transform=\"translate(449.649375 62.679375)scale(0.12 -0.12)\">\n      <use xlink:href=\"#DejaVuSans-6d\"/>\n      <use x=\"97.412109\" xlink:href=\"#DejaVuSans-61\"/>\n      <use x=\"158.691406\" xlink:href=\"#DejaVuSans-72\"/>\n      <use x=\"199.804688\" xlink:href=\"#DejaVuSans-73\"/>\n      <use x=\"251.904297\" xlink:href=\"#DejaVuSans-5f\"/>\n      <use x=\"301.904297\" xlink:href=\"#DejaVuSans-67\"/>\n      <use x=\"365.380859\" xlink:href=\"#DejaVuSans-79\"/>\n      <use x=\"424.560547\" xlink:href=\"#DejaVuSans-6d\"/>\n      <use x=\"521.972656\" xlink:href=\"#DejaVuSans-2e\"/>\n      <use x=\"553.759766\" xlink:href=\"#DejaVuSans-6d\"/>\n      <use x=\"651.171875\" xlink:href=\"#DejaVuSans-6f\"/>\n      <use x=\"712.353516\" xlink:href=\"#DejaVuSans-64\"/>\n      <use x=\"775.830078\" xlink:href=\"#DejaVuSans-65\"/>\n      <use x=\"837.353516\" xlink:href=\"#DejaVuSans-6c\"/>\n      <use x=\"865.136719\" xlink:href=\"#DejaVuSans-2e\"/>\n      <use x=\"896.923828\" xlink:href=\"#DejaVuSans-62\"/>\n      <use x=\"960.400391\" xlink:href=\"#DejaVuSans-61\"/>\n      <use x=\"1021.679688\" xlink:href=\"#DejaVuSans-6e\"/>\n      <use x=\"1085.058594\" xlink:href=\"#DejaVuSans-64\"/>\n      <use x=\"1148.535156\" xlink:href=\"#DejaVuSans-69\"/>\n      <use x=\"1176.318359\" xlink:href=\"#DejaVuSans-74\"/>\n      <use x=\"1215.527344\" xlink:href=\"#DejaVuSans-2e\"/>\n      <use x=\"1247.314453\" xlink:href=\"#DejaVuSans-43\"/>\n      <use x=\"1317.138672\" xlink:href=\"#DejaVuSans-75\"/>\n      <use x=\"1380.517578\" xlink:href=\"#DejaVuSans-73\"/>\n      <use x=\"1432.617188\" xlink:href=\"#DejaVuSans-74\"/>\n      <use x=\"1471.826172\" xlink:href=\"#DejaVuSans-6f\"/>\n      <use x=\"1533.007812\" xlink:href=\"#DejaVuSans-6d\"/>\n      <use x=\"1630.419922\" xlink:href=\"#DejaVuSans-52\"/>\n      <use x=\"1699.839844\" xlink:href=\"#DejaVuSans-65\"/>\n      <use x=\"1761.363281\" xlink:href=\"#DejaVuSans-77\"/>\n      <use x=\"1843.150391\" xlink:href=\"#DejaVuSans-61\"/>\n      <use x=\"1904.429688\" xlink:href=\"#DejaVuSans-72\"/>\n      <use x=\"1945.527344\" xlink:href=\"#DejaVuSans-64\"/>\n      <use x=\"2009.003906\" xlink:href=\"#DejaVuSans-4d\"/>\n      <use x=\"2095.283203\" xlink:href=\"#DejaVuSans-6f\"/>\n      <use x=\"2156.464844\" xlink:href=\"#DejaVuSans-64\"/>\n      <use x=\"2219.941406\" xlink:href=\"#DejaVuSans-65\"/>\n      <use x=\"2281.464844\" xlink:href=\"#DejaVuSans-6c\"/>\n      <use x=\"2309.248047\" xlink:href=\"#DejaVuSans-4c\"/>\n      <use x=\"2364.960938\" xlink:href=\"#DejaVuSans-69\"/>\n      <use x=\"2392.744141\" xlink:href=\"#DejaVuSans-6e\"/>\n      <use x=\"2456.123047\" xlink:href=\"#DejaVuSans-55\"/>\n      <use x=\"2529.316406\" xlink:href=\"#DejaVuSans-43\"/>\n      <use x=\"2599.140625\" xlink:href=\"#DejaVuSans-42\"/>\n     </g>\n    </g>\n    <g id=\"line2d_43\">\n     <path d=\"M 416.049375 76.426875 \nL 440.049375 76.426875 \n\" style=\"fill:none;stroke:#55a868;stroke-linecap:round;stroke-width:1.5;\"/>\n    </g>\n    <g id=\"line2d_44\"/>\n    <g id=\"text_21\">\n     <!-- mars_gym.model.bandit.EpsilonGreedy -->\n     <defs>\n      <path d=\"M 9.8125 72.90625 \nL 55.90625 72.90625 \nL 55.90625 64.59375 \nL 19.671875 64.59375 \nL 19.671875 43.015625 \nL 54.390625 43.015625 \nL 54.390625 34.71875 \nL 19.671875 34.71875 \nL 19.671875 8.296875 \nL 56.78125 8.296875 \nL 56.78125 0 \nL 9.8125 0 \nz\n\" id=\"DejaVuSans-45\"/>\n     </defs>\n     <g style=\"fill:#262626;\" transform=\"translate(449.649375 80.626875)scale(0.12 -0.12)\">\n      <use xlink:href=\"#DejaVuSans-6d\"/>\n      <use x=\"97.412109\" xlink:href=\"#DejaVuSans-61\"/>\n      <use x=\"158.691406\" xlink:href=\"#DejaVuSans-72\"/>\n      <use x=\"199.804688\" xlink:href=\"#DejaVuSans-73\"/>\n      <use x=\"251.904297\" xlink:href=\"#DejaVuSans-5f\"/>\n      <use x=\"301.904297\" xlink:href=\"#DejaVuSans-67\"/>\n      <use x=\"365.380859\" xlink:href=\"#DejaVuSans-79\"/>\n      <use x=\"424.560547\" xlink:href=\"#DejaVuSans-6d\"/>\n      <use x=\"521.972656\" xlink:href=\"#DejaVuSans-2e\"/>\n      <use x=\"553.759766\" xlink:href=\"#DejaVuSans-6d\"/>\n      <use x=\"651.171875\" xlink:href=\"#DejaVuSans-6f\"/>\n      <use x=\"712.353516\" xlink:href=\"#DejaVuSans-64\"/>\n      <use x=\"775.830078\" xlink:href=\"#DejaVuSans-65\"/>\n      <use x=\"837.353516\" xlink:href=\"#DejaVuSans-6c\"/>\n      <use x=\"865.136719\" xlink:href=\"#DejaVuSans-2e\"/>\n      <use x=\"896.923828\" xlink:href=\"#DejaVuSans-62\"/>\n      <use x=\"960.400391\" xlink:href=\"#DejaVuSans-61\"/>\n      <use x=\"1021.679688\" xlink:href=\"#DejaVuSans-6e\"/>\n      <use x=\"1085.058594\" xlink:href=\"#DejaVuSans-64\"/>\n      <use x=\"1148.535156\" xlink:href=\"#DejaVuSans-69\"/>\n      <use x=\"1176.318359\" xlink:href=\"#DejaVuSans-74\"/>\n      <use x=\"1215.527344\" xlink:href=\"#DejaVuSans-2e\"/>\n      <use x=\"1247.314453\" xlink:href=\"#DejaVuSans-45\"/>\n      <use x=\"1310.498047\" xlink:href=\"#DejaVuSans-70\"/>\n      <use x=\"1373.974609\" xlink:href=\"#DejaVuSans-73\"/>\n      <use x=\"1426.074219\" xlink:href=\"#DejaVuSans-69\"/>\n      <use x=\"1453.857422\" xlink:href=\"#DejaVuSans-6c\"/>\n      <use x=\"1481.640625\" xlink:href=\"#DejaVuSans-6f\"/>\n      <use x=\"1542.822266\" xlink:href=\"#DejaVuSans-6e\"/>\n      <use x=\"1606.201172\" xlink:href=\"#DejaVuSans-47\"/>\n      <use x=\"1683.691406\" xlink:href=\"#DejaVuSans-72\"/>\n      <use x=\"1724.773438\" xlink:href=\"#DejaVuSans-65\"/>\n      <use x=\"1786.296875\" xlink:href=\"#DejaVuSans-65\"/>\n      <use x=\"1847.820312\" xlink:href=\"#DejaVuSans-64\"/>\n      <use x=\"1911.296875\" xlink:href=\"#DejaVuSans-79\"/>\n     </g>\n    </g>\n    <g id=\"line2d_45\">\n     <path d=\"M 416.049375 94.374375 \nL 440.049375 94.374375 \n\" style=\"fill:none;stroke:#c44e52;stroke-linecap:round;stroke-width:1.5;\"/>\n    </g>\n    <g id=\"line2d_46\"/>\n    <g id=\"text_22\">\n     <!-- mars_gym.model.bandit.ExploreThenExploit -->\n     <defs>\n      <path d=\"M 54.890625 54.6875 \nL 35.109375 28.078125 \nL 55.90625 0 \nL 45.3125 0 \nL 29.390625 21.484375 \nL 13.484375 0 \nL 2.875 0 \nL 24.125 28.609375 \nL 4.6875 54.6875 \nL 15.28125 54.6875 \nL 29.78125 35.203125 \nL 44.28125 54.6875 \nz\n\" id=\"DejaVuSans-78\"/>\n      <path d=\"M -0.296875 72.90625 \nL 61.375 72.90625 \nL 61.375 64.59375 \nL 35.5 64.59375 \nL 35.5 0 \nL 25.59375 0 \nL 25.59375 64.59375 \nL -0.296875 64.59375 \nz\n\" id=\"DejaVuSans-54\"/>\n      <path d=\"M 54.890625 33.015625 \nL 54.890625 0 \nL 45.90625 0 \nL 45.90625 32.71875 \nQ 45.90625 40.484375 42.875 44.328125 \nQ 39.84375 48.1875 33.796875 48.1875 \nQ 26.515625 48.1875 22.3125 43.546875 \nQ 18.109375 38.921875 18.109375 30.90625 \nL 18.109375 0 \nL 9.078125 0 \nL 9.078125 75.984375 \nL 18.109375 75.984375 \nL 18.109375 46.1875 \nQ 21.34375 51.125 25.703125 53.5625 \nQ 30.078125 56 35.796875 56 \nQ 45.21875 56 50.046875 50.171875 \nQ 54.890625 44.34375 54.890625 33.015625 \nz\n\" id=\"DejaVuSans-68\"/>\n     </defs>\n     <g style=\"fill:#262626;\" transform=\"translate(449.649375 98.574375)scale(0.12 -0.12)\">\n      <use xlink:href=\"#DejaVuSans-6d\"/>\n      <use x=\"97.412109\" xlink:href=\"#DejaVuSans-61\"/>\n      <use x=\"158.691406\" xlink:href=\"#DejaVuSans-72\"/>\n      <use x=\"199.804688\" xlink:href=\"#DejaVuSans-73\"/>\n      <use x=\"251.904297\" xlink:href=\"#DejaVuSans-5f\"/>\n      <use x=\"301.904297\" xlink:href=\"#DejaVuSans-67\"/>\n      <use x=\"365.380859\" xlink:href=\"#DejaVuSans-79\"/>\n      <use x=\"424.560547\" xlink:href=\"#DejaVuSans-6d\"/>\n      <use x=\"521.972656\" xlink:href=\"#DejaVuSans-2e\"/>\n      <use x=\"553.759766\" xlink:href=\"#DejaVuSans-6d\"/>\n      <use x=\"651.171875\" xlink:href=\"#DejaVuSans-6f\"/>\n      <use x=\"712.353516\" xlink:href=\"#DejaVuSans-64\"/>\n      <use x=\"775.830078\" xlink:href=\"#DejaVuSans-65\"/>\n      <use x=\"837.353516\" xlink:href=\"#DejaVuSans-6c\"/>\n      <use x=\"865.136719\" xlink:href=\"#DejaVuSans-2e\"/>\n      <use x=\"896.923828\" xlink:href=\"#DejaVuSans-62\"/>\n      <use x=\"960.400391\" xlink:href=\"#DejaVuSans-61\"/>\n      <use x=\"1021.679688\" xlink:href=\"#DejaVuSans-6e\"/>\n      <use x=\"1085.058594\" xlink:href=\"#DejaVuSans-64\"/>\n      <use x=\"1148.535156\" xlink:href=\"#DejaVuSans-69\"/>\n      <use x=\"1176.318359\" xlink:href=\"#DejaVuSans-74\"/>\n      <use x=\"1215.527344\" xlink:href=\"#DejaVuSans-2e\"/>\n      <use x=\"1247.314453\" xlink:href=\"#DejaVuSans-45\"/>\n      <use x=\"1310.498047\" xlink:href=\"#DejaVuSans-78\"/>\n      <use x=\"1369.677734\" xlink:href=\"#DejaVuSans-70\"/>\n      <use x=\"1433.154297\" xlink:href=\"#DejaVuSans-6c\"/>\n      <use x=\"1460.9375\" xlink:href=\"#DejaVuSans-6f\"/>\n      <use x=\"1522.119141\" xlink:href=\"#DejaVuSans-72\"/>\n      <use x=\"1563.201172\" xlink:href=\"#DejaVuSans-65\"/>\n      <use x=\"1624.724609\" xlink:href=\"#DejaVuSans-54\"/>\n      <use x=\"1685.808594\" xlink:href=\"#DejaVuSans-68\"/>\n      <use x=\"1749.1875\" xlink:href=\"#DejaVuSans-65\"/>\n      <use x=\"1810.710938\" xlink:href=\"#DejaVuSans-6e\"/>\n      <use x=\"1874.089844\" xlink:href=\"#DejaVuSans-45\"/>\n      <use x=\"1937.273438\" xlink:href=\"#DejaVuSans-78\"/>\n      <use x=\"1996.453125\" xlink:href=\"#DejaVuSans-70\"/>\n      <use x=\"2059.929688\" xlink:href=\"#DejaVuSans-6c\"/>\n      <use x=\"2087.712891\" xlink:href=\"#DejaVuSans-6f\"/>\n      <use x=\"2148.894531\" xlink:href=\"#DejaVuSans-69\"/>\n      <use x=\"2176.677734\" xlink:href=\"#DejaVuSans-74\"/>\n     </g>\n    </g>\n    <g id=\"line2d_47\">\n     <path d=\"M 416.049375 112.321875 \nL 440.049375 112.321875 \n\" style=\"fill:none;stroke:#8172b3;stroke-linecap:round;stroke-width:1.5;\"/>\n    </g>\n    <g id=\"line2d_48\"/>\n    <g id=\"text_23\">\n     <!-- mars_gym.model.bandit.FixedPolicyPopularItem -->\n     <defs>\n      <path d=\"M 9.8125 72.90625 \nL 51.703125 72.90625 \nL 51.703125 64.59375 \nL 19.671875 64.59375 \nL 19.671875 43.109375 \nL 48.578125 43.109375 \nL 48.578125 34.8125 \nL 19.671875 34.8125 \nL 19.671875 0 \nL 9.8125 0 \nz\n\" id=\"DejaVuSans-46\"/>\n      <path d=\"M 19.671875 64.796875 \nL 19.671875 37.40625 \nL 32.078125 37.40625 \nQ 38.96875 37.40625 42.71875 40.96875 \nQ 46.484375 44.53125 46.484375 51.125 \nQ 46.484375 57.671875 42.71875 61.234375 \nQ 38.96875 64.796875 32.078125 64.796875 \nz\nM 9.8125 72.90625 \nL 32.078125 72.90625 \nQ 44.34375 72.90625 50.609375 67.359375 \nQ 56.890625 61.8125 56.890625 51.125 \nQ 56.890625 40.328125 50.609375 34.8125 \nQ 44.34375 29.296875 32.078125 29.296875 \nL 19.671875 29.296875 \nL 19.671875 0 \nL 9.8125 0 \nz\n\" id=\"DejaVuSans-50\"/>\n     </defs>\n     <g style=\"fill:#262626;\" transform=\"translate(449.649375 116.521875)scale(0.12 -0.12)\">\n      <use xlink:href=\"#DejaVuSans-6d\"/>\n      <use x=\"97.412109\" xlink:href=\"#DejaVuSans-61\"/>\n      <use x=\"158.691406\" xlink:href=\"#DejaVuSans-72\"/>\n      <use x=\"199.804688\" xlink:href=\"#DejaVuSans-73\"/>\n      <use x=\"251.904297\" xlink:href=\"#DejaVuSans-5f\"/>\n      <use x=\"301.904297\" xlink:href=\"#DejaVuSans-67\"/>\n      <use x=\"365.380859\" xlink:href=\"#DejaVuSans-79\"/>\n      <use x=\"424.560547\" xlink:href=\"#DejaVuSans-6d\"/>\n      <use x=\"521.972656\" xlink:href=\"#DejaVuSans-2e\"/>\n      <use x=\"553.759766\" xlink:href=\"#DejaVuSans-6d\"/>\n      <use x=\"651.171875\" xlink:href=\"#DejaVuSans-6f\"/>\n      <use x=\"712.353516\" xlink:href=\"#DejaVuSans-64\"/>\n      <use x=\"775.830078\" xlink:href=\"#DejaVuSans-65\"/>\n      <use x=\"837.353516\" xlink:href=\"#DejaVuSans-6c\"/>\n      <use x=\"865.136719\" xlink:href=\"#DejaVuSans-2e\"/>\n      <use x=\"896.923828\" xlink:href=\"#DejaVuSans-62\"/>\n      <use x=\"960.400391\" xlink:href=\"#DejaVuSans-61\"/>\n      <use x=\"1021.679688\" xlink:href=\"#DejaVuSans-6e\"/>\n      <use x=\"1085.058594\" xlink:href=\"#DejaVuSans-64\"/>\n      <use x=\"1148.535156\" xlink:href=\"#DejaVuSans-69\"/>\n      <use x=\"1176.318359\" xlink:href=\"#DejaVuSans-74\"/>\n      <use x=\"1215.527344\" xlink:href=\"#DejaVuSans-2e\"/>\n      <use x=\"1247.314453\" xlink:href=\"#DejaVuSans-46\"/>\n      <use x=\"1304.724609\" xlink:href=\"#DejaVuSans-69\"/>\n      <use x=\"1332.507812\" xlink:href=\"#DejaVuSans-78\"/>\n      <use x=\"1391.640625\" xlink:href=\"#DejaVuSans-65\"/>\n      <use x=\"1453.164062\" xlink:href=\"#DejaVuSans-64\"/>\n      <use x=\"1516.640625\" xlink:href=\"#DejaVuSans-50\"/>\n      <use x=\"1576.896484\" xlink:href=\"#DejaVuSans-6f\"/>\n      <use x=\"1638.078125\" xlink:href=\"#DejaVuSans-6c\"/>\n      <use x=\"1665.861328\" xlink:href=\"#DejaVuSans-69\"/>\n      <use x=\"1693.644531\" xlink:href=\"#DejaVuSans-63\"/>\n      <use x=\"1748.625\" xlink:href=\"#DejaVuSans-79\"/>\n      <use x=\"1807.804688\" xlink:href=\"#DejaVuSans-50\"/>\n      <use x=\"1868.060547\" xlink:href=\"#DejaVuSans-6f\"/>\n      <use x=\"1929.242188\" xlink:href=\"#DejaVuSans-70\"/>\n      <use x=\"1992.71875\" xlink:href=\"#DejaVuSans-75\"/>\n      <use x=\"2056.097656\" xlink:href=\"#DejaVuSans-6c\"/>\n      <use x=\"2083.880859\" xlink:href=\"#DejaVuSans-61\"/>\n      <use x=\"2145.160156\" xlink:href=\"#DejaVuSans-72\"/>\n      <use x=\"2186.273438\" xlink:href=\"#DejaVuSans-49\"/>\n      <use x=\"2215.765625\" xlink:href=\"#DejaVuSans-74\"/>\n      <use x=\"2254.974609\" xlink:href=\"#DejaVuSans-65\"/>\n      <use x=\"2316.498047\" xlink:href=\"#DejaVuSans-6d\"/>\n     </g>\n    </g>\n    <g id=\"line2d_49\">\n     <path d=\"M 416.049375 130.269375 \nL 440.049375 130.269375 \n\" style=\"fill:none;stroke:#937860;stroke-linecap:round;stroke-width:1.5;\"/>\n    </g>\n    <g id=\"line2d_50\"/>\n    <g id=\"text_24\">\n     <!-- mars_gym.model.bandit.LinThompsonSampling -->\n     <defs>\n      <path d=\"M 53.515625 70.515625 \nL 53.515625 60.890625 \nQ 47.90625 63.578125 42.921875 64.890625 \nQ 37.9375 66.21875 33.296875 66.21875 \nQ 25.25 66.21875 20.875 63.09375 \nQ 16.5 59.96875 16.5 54.203125 \nQ 16.5 49.359375 19.40625 46.890625 \nQ 22.3125 44.4375 30.421875 42.921875 \nL 36.375 41.703125 \nQ 47.40625 39.59375 52.65625 34.296875 \nQ 57.90625 29 57.90625 20.125 \nQ 57.90625 9.515625 50.796875 4.046875 \nQ 43.703125 -1.421875 29.984375 -1.421875 \nQ 24.8125 -1.421875 18.96875 -0.25 \nQ 13.140625 0.921875 6.890625 3.21875 \nL 6.890625 13.375 \nQ 12.890625 10.015625 18.65625 8.296875 \nQ 24.421875 6.59375 29.984375 6.59375 \nQ 38.421875 6.59375 43.015625 9.90625 \nQ 47.609375 13.234375 47.609375 19.390625 \nQ 47.609375 24.75 44.3125 27.78125 \nQ 41.015625 30.8125 33.5 32.328125 \nL 27.484375 33.5 \nQ 16.453125 35.6875 11.515625 40.375 \nQ 6.59375 45.0625 6.59375 53.421875 \nQ 6.59375 63.09375 13.40625 68.65625 \nQ 20.21875 74.21875 32.171875 74.21875 \nQ 37.3125 74.21875 42.625 73.28125 \nQ 47.953125 72.359375 53.515625 70.515625 \nz\n\" id=\"DejaVuSans-53\"/>\n     </defs>\n     <g style=\"fill:#262626;\" transform=\"translate(449.649375 134.469375)scale(0.12 -0.12)\">\n      <use xlink:href=\"#DejaVuSans-6d\"/>\n      <use x=\"97.412109\" xlink:href=\"#DejaVuSans-61\"/>\n      <use x=\"158.691406\" xlink:href=\"#DejaVuSans-72\"/>\n      <use x=\"199.804688\" xlink:href=\"#DejaVuSans-73\"/>\n      <use x=\"251.904297\" xlink:href=\"#DejaVuSans-5f\"/>\n      <use x=\"301.904297\" xlink:href=\"#DejaVuSans-67\"/>\n      <use x=\"365.380859\" xlink:href=\"#DejaVuSans-79\"/>\n      <use x=\"424.560547\" xlink:href=\"#DejaVuSans-6d\"/>\n      <use x=\"521.972656\" xlink:href=\"#DejaVuSans-2e\"/>\n      <use x=\"553.759766\" xlink:href=\"#DejaVuSans-6d\"/>\n      <use x=\"651.171875\" xlink:href=\"#DejaVuSans-6f\"/>\n      <use x=\"712.353516\" xlink:href=\"#DejaVuSans-64\"/>\n      <use x=\"775.830078\" xlink:href=\"#DejaVuSans-65\"/>\n      <use x=\"837.353516\" xlink:href=\"#DejaVuSans-6c\"/>\n      <use x=\"865.136719\" xlink:href=\"#DejaVuSans-2e\"/>\n      <use x=\"896.923828\" xlink:href=\"#DejaVuSans-62\"/>\n      <use x=\"960.400391\" xlink:href=\"#DejaVuSans-61\"/>\n      <use x=\"1021.679688\" xlink:href=\"#DejaVuSans-6e\"/>\n      <use x=\"1085.058594\" xlink:href=\"#DejaVuSans-64\"/>\n      <use x=\"1148.535156\" xlink:href=\"#DejaVuSans-69\"/>\n      <use x=\"1176.318359\" xlink:href=\"#DejaVuSans-74\"/>\n      <use x=\"1215.527344\" xlink:href=\"#DejaVuSans-2e\"/>\n      <use x=\"1247.314453\" xlink:href=\"#DejaVuSans-4c\"/>\n      <use x=\"1303.027344\" xlink:href=\"#DejaVuSans-69\"/>\n      <use x=\"1330.810547\" xlink:href=\"#DejaVuSans-6e\"/>\n      <use x=\"1394.189453\" xlink:href=\"#DejaVuSans-54\"/>\n      <use x=\"1455.273438\" xlink:href=\"#DejaVuSans-68\"/>\n      <use x=\"1518.652344\" xlink:href=\"#DejaVuSans-6f\"/>\n      <use x=\"1579.833984\" xlink:href=\"#DejaVuSans-6d\"/>\n      <use x=\"1677.246094\" xlink:href=\"#DejaVuSans-70\"/>\n      <use x=\"1740.722656\" xlink:href=\"#DejaVuSans-73\"/>\n      <use x=\"1792.822266\" xlink:href=\"#DejaVuSans-6f\"/>\n      <use x=\"1854.003906\" xlink:href=\"#DejaVuSans-6e\"/>\n      <use x=\"1917.382812\" xlink:href=\"#DejaVuSans-53\"/>\n      <use x=\"1980.859375\" xlink:href=\"#DejaVuSans-61\"/>\n      <use x=\"2042.138672\" xlink:href=\"#DejaVuSans-6d\"/>\n      <use x=\"2139.550781\" xlink:href=\"#DejaVuSans-70\"/>\n      <use x=\"2203.027344\" xlink:href=\"#DejaVuSans-6c\"/>\n      <use x=\"2230.810547\" xlink:href=\"#DejaVuSans-69\"/>\n      <use x=\"2258.59375\" xlink:href=\"#DejaVuSans-6e\"/>\n      <use x=\"2321.972656\" xlink:href=\"#DejaVuSans-67\"/>\n     </g>\n    </g>\n    <g id=\"line2d_51\">\n     <path d=\"M 416.049375 148.216875 \nL 440.049375 148.216875 \n\" style=\"fill:none;stroke:#da8bc3;stroke-linecap:round;stroke-width:1.5;\"/>\n    </g>\n    <g id=\"line2d_52\"/>\n    <g id=\"text_25\">\n     <!-- mars_gym.model.bandit.LinUCB -->\n     <g style=\"fill:#262626;\" transform=\"translate(449.649375 152.416875)scale(0.12 -0.12)\">\n      <use xlink:href=\"#DejaVuSans-6d\"/>\n      <use x=\"97.412109\" xlink:href=\"#DejaVuSans-61\"/>\n      <use x=\"158.691406\" xlink:href=\"#DejaVuSans-72\"/>\n      <use x=\"199.804688\" xlink:href=\"#DejaVuSans-73\"/>\n      <use x=\"251.904297\" xlink:href=\"#DejaVuSans-5f\"/>\n      <use x=\"301.904297\" xlink:href=\"#DejaVuSans-67\"/>\n      <use x=\"365.380859\" xlink:href=\"#DejaVuSans-79\"/>\n      <use x=\"424.560547\" xlink:href=\"#DejaVuSans-6d\"/>\n      <use x=\"521.972656\" xlink:href=\"#DejaVuSans-2e\"/>\n      <use x=\"553.759766\" xlink:href=\"#DejaVuSans-6d\"/>\n      <use x=\"651.171875\" xlink:href=\"#DejaVuSans-6f\"/>\n      <use x=\"712.353516\" xlink:href=\"#DejaVuSans-64\"/>\n      <use x=\"775.830078\" xlink:href=\"#DejaVuSans-65\"/>\n      <use x=\"837.353516\" xlink:href=\"#DejaVuSans-6c\"/>\n      <use x=\"865.136719\" xlink:href=\"#DejaVuSans-2e\"/>\n      <use x=\"896.923828\" xlink:href=\"#DejaVuSans-62\"/>\n      <use x=\"960.400391\" xlink:href=\"#DejaVuSans-61\"/>\n      <use x=\"1021.679688\" xlink:href=\"#DejaVuSans-6e\"/>\n      <use x=\"1085.058594\" xlink:href=\"#DejaVuSans-64\"/>\n      <use x=\"1148.535156\" xlink:href=\"#DejaVuSans-69\"/>\n      <use x=\"1176.318359\" xlink:href=\"#DejaVuSans-74\"/>\n      <use x=\"1215.527344\" xlink:href=\"#DejaVuSans-2e\"/>\n      <use x=\"1247.314453\" xlink:href=\"#DejaVuSans-4c\"/>\n      <use x=\"1303.027344\" xlink:href=\"#DejaVuSans-69\"/>\n      <use x=\"1330.810547\" xlink:href=\"#DejaVuSans-6e\"/>\n      <use x=\"1394.189453\" xlink:href=\"#DejaVuSans-55\"/>\n      <use x=\"1467.382812\" xlink:href=\"#DejaVuSans-43\"/>\n      <use x=\"1537.207031\" xlink:href=\"#DejaVuSans-42\"/>\n     </g>\n    </g>\n    <g id=\"line2d_53\">\n     <path d=\"M 416.049375 166.164375 \nL 440.049375 166.164375 \n\" style=\"fill:none;stroke:#8c8c8c;stroke-linecap:round;stroke-width:1.5;\"/>\n    </g>\n    <g id=\"line2d_54\"/>\n    <g id=\"text_26\">\n     <!-- mars_gym.model.bandit.PercentileAdaptiveGreedy -->\n     <g style=\"fill:#262626;\" transform=\"translate(449.649375 170.364375)scale(0.12 -0.12)\">\n      <use xlink:href=\"#DejaVuSans-6d\"/>\n      <use x=\"97.412109\" xlink:href=\"#DejaVuSans-61\"/>\n      <use x=\"158.691406\" xlink:href=\"#DejaVuSans-72\"/>\n      <use x=\"199.804688\" xlink:href=\"#DejaVuSans-73\"/>\n      <use x=\"251.904297\" xlink:href=\"#DejaVuSans-5f\"/>\n      <use x=\"301.904297\" xlink:href=\"#DejaVuSans-67\"/>\n      <use x=\"365.380859\" xlink:href=\"#DejaVuSans-79\"/>\n      <use x=\"424.560547\" xlink:href=\"#DejaVuSans-6d\"/>\n      <use x=\"521.972656\" xlink:href=\"#DejaVuSans-2e\"/>\n      <use x=\"553.759766\" xlink:href=\"#DejaVuSans-6d\"/>\n      <use x=\"651.171875\" xlink:href=\"#DejaVuSans-6f\"/>\n      <use x=\"712.353516\" xlink:href=\"#DejaVuSans-64\"/>\n      <use x=\"775.830078\" xlink:href=\"#DejaVuSans-65\"/>\n      <use x=\"837.353516\" xlink:href=\"#DejaVuSans-6c\"/>\n      <use x=\"865.136719\" xlink:href=\"#DejaVuSans-2e\"/>\n      <use x=\"896.923828\" xlink:href=\"#DejaVuSans-62\"/>\n      <use x=\"960.400391\" xlink:href=\"#DejaVuSans-61\"/>\n      <use x=\"1021.679688\" xlink:href=\"#DejaVuSans-6e\"/>\n      <use x=\"1085.058594\" xlink:href=\"#DejaVuSans-64\"/>\n      <use x=\"1148.535156\" xlink:href=\"#DejaVuSans-69\"/>\n      <use x=\"1176.318359\" xlink:href=\"#DejaVuSans-74\"/>\n      <use x=\"1215.527344\" xlink:href=\"#DejaVuSans-2e\"/>\n      <use x=\"1247.314453\" xlink:href=\"#DejaVuSans-50\"/>\n      <use x=\"1307.570312\" xlink:href=\"#DejaVuSans-65\"/>\n      <use x=\"1369.09375\" xlink:href=\"#DejaVuSans-72\"/>\n      <use x=\"1410.175781\" xlink:href=\"#DejaVuSans-63\"/>\n      <use x=\"1465.15625\" xlink:href=\"#DejaVuSans-65\"/>\n      <use x=\"1526.679688\" xlink:href=\"#DejaVuSans-6e\"/>\n      <use x=\"1590.058594\" xlink:href=\"#DejaVuSans-74\"/>\n      <use x=\"1629.267578\" xlink:href=\"#DejaVuSans-69\"/>\n      <use x=\"1657.050781\" xlink:href=\"#DejaVuSans-6c\"/>\n      <use x=\"1684.833984\" xlink:href=\"#DejaVuSans-65\"/>\n      <use x=\"1746.357422\" xlink:href=\"#DejaVuSans-41\"/>\n      <use x=\"1814.75\" xlink:href=\"#DejaVuSans-64\"/>\n      <use x=\"1878.226562\" xlink:href=\"#DejaVuSans-61\"/>\n      <use x=\"1939.505859\" xlink:href=\"#DejaVuSans-70\"/>\n      <use x=\"2002.982422\" xlink:href=\"#DejaVuSans-74\"/>\n      <use x=\"2042.191406\" xlink:href=\"#DejaVuSans-69\"/>\n      <use x=\"2069.974609\" xlink:href=\"#DejaVuSans-76\"/>\n      <use x=\"2129.154297\" xlink:href=\"#DejaVuSans-65\"/>\n      <use x=\"2190.677734\" xlink:href=\"#DejaVuSans-47\"/>\n      <use x=\"2268.167969\" xlink:href=\"#DejaVuSans-72\"/>\n      <use x=\"2309.25\" xlink:href=\"#DejaVuSans-65\"/>\n      <use x=\"2370.773438\" xlink:href=\"#DejaVuSans-65\"/>\n      <use x=\"2432.296875\" xlink:href=\"#DejaVuSans-64\"/>\n      <use x=\"2495.773438\" xlink:href=\"#DejaVuSans-79\"/>\n     </g>\n    </g>\n    <g id=\"line2d_55\">\n     <path d=\"M 416.049375 184.111875 \nL 440.049375 184.111875 \n\" style=\"fill:none;stroke:#ccb974;stroke-linecap:round;stroke-width:1.5;\"/>\n    </g>\n    <g id=\"line2d_56\"/>\n    <g id=\"text_27\">\n     <!-- mars_gym.model.bandit.RandomPolicy -->\n     <g style=\"fill:#262626;\" transform=\"translate(449.649375 188.311875)scale(0.12 -0.12)\">\n      <use xlink:href=\"#DejaVuSans-6d\"/>\n      <use x=\"97.412109\" xlink:href=\"#DejaVuSans-61\"/>\n      <use x=\"158.691406\" xlink:href=\"#DejaVuSans-72\"/>\n      <use x=\"199.804688\" xlink:href=\"#DejaVuSans-73\"/>\n      <use x=\"251.904297\" xlink:href=\"#DejaVuSans-5f\"/>\n      <use x=\"301.904297\" xlink:href=\"#DejaVuSans-67\"/>\n      <use x=\"365.380859\" xlink:href=\"#DejaVuSans-79\"/>\n      <use x=\"424.560547\" xlink:href=\"#DejaVuSans-6d\"/>\n      <use x=\"521.972656\" xlink:href=\"#DejaVuSans-2e\"/>\n      <use x=\"553.759766\" xlink:href=\"#DejaVuSans-6d\"/>\n      <use x=\"651.171875\" xlink:href=\"#DejaVuSans-6f\"/>\n      <use x=\"712.353516\" xlink:href=\"#DejaVuSans-64\"/>\n      <use x=\"775.830078\" xlink:href=\"#DejaVuSans-65\"/>\n      <use x=\"837.353516\" xlink:href=\"#DejaVuSans-6c\"/>\n      <use x=\"865.136719\" xlink:href=\"#DejaVuSans-2e\"/>\n      <use x=\"896.923828\" xlink:href=\"#DejaVuSans-62\"/>\n      <use x=\"960.400391\" xlink:href=\"#DejaVuSans-61\"/>\n      <use x=\"1021.679688\" xlink:href=\"#DejaVuSans-6e\"/>\n      <use x=\"1085.058594\" xlink:href=\"#DejaVuSans-64\"/>\n      <use x=\"1148.535156\" xlink:href=\"#DejaVuSans-69\"/>\n      <use x=\"1176.318359\" xlink:href=\"#DejaVuSans-74\"/>\n      <use x=\"1215.527344\" xlink:href=\"#DejaVuSans-2e\"/>\n      <use x=\"1247.314453\" xlink:href=\"#DejaVuSans-52\"/>\n      <use x=\"1316.765625\" xlink:href=\"#DejaVuSans-61\"/>\n      <use x=\"1378.044922\" xlink:href=\"#DejaVuSans-6e\"/>\n      <use x=\"1441.423828\" xlink:href=\"#DejaVuSans-64\"/>\n      <use x=\"1504.900391\" xlink:href=\"#DejaVuSans-6f\"/>\n      <use x=\"1566.082031\" xlink:href=\"#DejaVuSans-6d\"/>\n      <use x=\"1663.494141\" xlink:href=\"#DejaVuSans-50\"/>\n      <use x=\"1723.75\" xlink:href=\"#DejaVuSans-6f\"/>\n      <use x=\"1784.931641\" xlink:href=\"#DejaVuSans-6c\"/>\n      <use x=\"1812.714844\" xlink:href=\"#DejaVuSans-69\"/>\n      <use x=\"1840.498047\" xlink:href=\"#DejaVuSans-63\"/>\n      <use x=\"1895.478516\" xlink:href=\"#DejaVuSans-79\"/>\n     </g>\n    </g>\n    <g id=\"line2d_57\">\n     <path d=\"M 416.049375 202.059375 \nL 440.049375 202.059375 \n\" style=\"fill:none;stroke:#64b5cd;stroke-linecap:round;stroke-width:1.5;\"/>\n    </g>\n    <g id=\"line2d_58\"/>\n    <g id=\"text_28\">\n     <!-- mars_gym.model.bandit.SoftmaxExplorer -->\n     <defs>\n      <path d=\"M 37.109375 75.984375 \nL 37.109375 68.5 \nL 28.515625 68.5 \nQ 23.6875 68.5 21.796875 66.546875 \nQ 19.921875 64.59375 19.921875 59.515625 \nL 19.921875 54.6875 \nL 34.71875 54.6875 \nL 34.71875 47.703125 \nL 19.921875 47.703125 \nL 19.921875 0 \nL 10.890625 0 \nL 10.890625 47.703125 \nL 2.296875 47.703125 \nL 2.296875 54.6875 \nL 10.890625 54.6875 \nL 10.890625 58.5 \nQ 10.890625 67.625 15.140625 71.796875 \nQ 19.390625 75.984375 28.609375 75.984375 \nz\n\" id=\"DejaVuSans-66\"/>\n     </defs>\n     <g style=\"fill:#262626;\" transform=\"translate(449.649375 206.259375)scale(0.12 -0.12)\">\n      <use xlink:href=\"#DejaVuSans-6d\"/>\n      <use x=\"97.412109\" xlink:href=\"#DejaVuSans-61\"/>\n      <use x=\"158.691406\" xlink:href=\"#DejaVuSans-72\"/>\n      <use x=\"199.804688\" xlink:href=\"#DejaVuSans-73\"/>\n      <use x=\"251.904297\" xlink:href=\"#DejaVuSans-5f\"/>\n      <use x=\"301.904297\" xlink:href=\"#DejaVuSans-67\"/>\n      <use x=\"365.380859\" xlink:href=\"#DejaVuSans-79\"/>\n      <use x=\"424.560547\" xlink:href=\"#DejaVuSans-6d\"/>\n      <use x=\"521.972656\" xlink:href=\"#DejaVuSans-2e\"/>\n      <use x=\"553.759766\" xlink:href=\"#DejaVuSans-6d\"/>\n      <use x=\"651.171875\" xlink:href=\"#DejaVuSans-6f\"/>\n      <use x=\"712.353516\" xlink:href=\"#DejaVuSans-64\"/>\n      <use x=\"775.830078\" xlink:href=\"#DejaVuSans-65\"/>\n      <use x=\"837.353516\" xlink:href=\"#DejaVuSans-6c\"/>\n      <use x=\"865.136719\" xlink:href=\"#DejaVuSans-2e\"/>\n      <use x=\"896.923828\" xlink:href=\"#DejaVuSans-62\"/>\n      <use x=\"960.400391\" xlink:href=\"#DejaVuSans-61\"/>\n      <use x=\"1021.679688\" xlink:href=\"#DejaVuSans-6e\"/>\n      <use x=\"1085.058594\" xlink:href=\"#DejaVuSans-64\"/>\n      <use x=\"1148.535156\" xlink:href=\"#DejaVuSans-69\"/>\n      <use x=\"1176.318359\" xlink:href=\"#DejaVuSans-74\"/>\n      <use x=\"1215.527344\" xlink:href=\"#DejaVuSans-2e\"/>\n      <use x=\"1247.314453\" xlink:href=\"#DejaVuSans-53\"/>\n      <use x=\"1310.791016\" xlink:href=\"#DejaVuSans-6f\"/>\n      <use x=\"1371.972656\" xlink:href=\"#DejaVuSans-66\"/>\n      <use x=\"1407.162109\" xlink:href=\"#DejaVuSans-74\"/>\n      <use x=\"1446.371094\" xlink:href=\"#DejaVuSans-6d\"/>\n      <use x=\"1543.783203\" xlink:href=\"#DejaVuSans-61\"/>\n      <use x=\"1605.0625\" xlink:href=\"#DejaVuSans-78\"/>\n      <use x=\"1664.242188\" xlink:href=\"#DejaVuSans-45\"/>\n      <use x=\"1727.425781\" xlink:href=\"#DejaVuSans-78\"/>\n      <use x=\"1786.605469\" xlink:href=\"#DejaVuSans-70\"/>\n      <use x=\"1850.082031\" xlink:href=\"#DejaVuSans-6c\"/>\n      <use x=\"1877.865234\" xlink:href=\"#DejaVuSans-6f\"/>\n      <use x=\"1939.046875\" xlink:href=\"#DejaVuSans-72\"/>\n      <use x=\"1980.128906\" xlink:href=\"#DejaVuSans-65\"/>\n      <use x=\"2041.652344\" xlink:href=\"#DejaVuSans-72\"/>\n     </g>\n    </g>\n   </g>\n  </g>\n </g>\n <defs>\n  <clipPath id=\"p5574e5fc04\">\n   <rect height=\"217.44\" width=\"334.8\" x=\"59.709375\" y=\"13.2\"/>\n  </clipPath>\n </defs>\n</svg>\n",
      "image/png": "[encoded data removed]"
     },
     "metadata": {
      "needs_background": "light"
     }
    }
   ],
   "source": [
    "df_group_mean = df_group.groupby(['bandit', 'idx']).median().reset_index()\n",
    "\n",
    "plot_cum_reward(df_group_mean, legend='full', ylim=0.4)"
   ]
  },
  {
   "cell_type": "markdown",
   "metadata": {},
   "source": []
  },
  {
   "cell_type": "code",
   "execution_count": null,
   "metadata": {},
   "outputs": [],
   "source": []
  },
  {
   "cell_type": "markdown",
   "metadata": {},
   "source": [
    "### Recommendation Metrics and Off-Policy Evaluation"
   ]
  },
  {
   "cell_type": "markdown",
   "metadata": {},
   "source": [
    "We evaluated the bandits according to traditional recommen-\n",
    "dation metrics and off-policy metrics in the test subset of the \"Chicago, USA\" task"
   ]
  },
  {
   "cell_type": "code",
   "execution_count": 10,
   "metadata": {},
   "outputs": [],
   "source": [
    "input_metrics = [\n",
    "  \"precision_at_1\",\n",
    "  \"ndcg_at_5\",\n",
    "  \"coverage_at_5\",\n",
    "  \"personalization_at_5\",\n",
    "  \"IPS\",\n",
    "  \"SNIPS\",\n",
    "  \"DirectEstimator\",\n",
    "  \"DoublyRobust\"\n",
    "]"
   ]
  },
  {
   "cell_type": "code",
   "execution_count": 11,
   "metadata": {},
   "outputs": [],
   "source": [
    "# Load Métrics and Params\n",
    "#\n",
    "input_models_eval = fetch_results_path().keys()\n",
    "data_metrics      = load_data_metrics()\n",
    "data_params       = load_eval_params()\n",
    "input_params      = []\n",
    "\n",
    "df_metrics        = filter_df(data_metrics, input_models_eval, input_metrics, \"\")\n",
    "df_eval_params    = filter_df(data_params, input_models_eval, input_params).transpose()\n"
   ]
  },
  {
   "cell_type": "code",
   "execution_count": 12,
   "metadata": {},
   "outputs": [],
   "source": [
    "# Calculate confidence metrics\n",
    "#\n",
    "confidence_metrics = data_metrics[[c for c in data_metrics.columns if \"_C\" in c]]\n",
    "for c in input_metrics:\n",
    "    c_column = c+\"_C\" \n",
    "    confidence_metrics[c_column] = data_metrics[c_column] if c_column in data_metrics else None\n",
    "confidence_metrics = confidence_metrics[[c+\"_C\" for c in input_metrics]]"
   ]
  },
  {
   "cell_type": "code",
   "execution_count": 13,
   "metadata": {},
   "outputs": [
    {
     "output_type": "execute_result",
     "data": {
      "text/plain": "                                                precision_at_1  ndcg_at_5  \\\nbandit_policy_class                                                         \nmars_gym.model.bandit.AdaptiveGreedy            0.317639        0.403579    \nmars_gym.model.bandit.CustomRewardModelLinUCB   0.328249        0.442917    \nmars_gym.model.bandit.EpsilonGreedy             0.302056        0.443252    \nmars_gym.model.bandit.ExploreThenExploit        0.307692        0.418607    \nmars_gym.model.bandit.FixedPolicy               0.074271        0.171294    \nmars_gym.model.bandit.LinThompsonSampling       0.039788        0.137056    \nmars_gym.model.bandit.LinUCB                    0.075928        0.207314    \nmars_gym.model.bandit.PercentileAdaptiveGreedy  0.336870        0.438648    \nmars_gym.model.bandit.RandomPolicy              0.039788        0.138404    \nmars_gym.model.bandit.SoftmaxExplorer           0.301724        0.452869    \n\n                                                coverage_at_5  \\\nbandit_policy_class                                             \nmars_gym.model.bandit.AdaptiveGreedy            0.390850        \nmars_gym.model.bandit.CustomRewardModelLinUCB   0.362862        \nmars_gym.model.bandit.EpsilonGreedy             0.343287        \nmars_gym.model.bandit.ExploreThenExploit        0.333071        \nmars_gym.model.bandit.FixedPolicy               0.373850        \nmars_gym.model.bandit.LinThompsonSampling       0.423900        \nmars_gym.model.bandit.LinUCB                    0.271450        \nmars_gym.model.bandit.PercentileAdaptiveGreedy  0.375563        \nmars_gym.model.bandit.RandomPolicy              0.389600        \nmars_gym.model.bandit.SoftmaxExplorer           0.330988        \n\n                                                personalization_at_5  \\\nbandit_policy_class                                                    \nmars_gym.model.bandit.AdaptiveGreedy            0.767565               \nmars_gym.model.bandit.CustomRewardModelLinUCB   0.729376               \nmars_gym.model.bandit.EpsilonGreedy             0.733547               \nmars_gym.model.bandit.ExploreThenExploit        0.731641               \nmars_gym.model.bandit.FixedPolicy               0.759891               \nmars_gym.model.bandit.LinThompsonSampling       0.771211               \nmars_gym.model.bandit.LinUCB                    0.696228               \nmars_gym.model.bandit.PercentileAdaptiveGreedy  0.743905               \nmars_gym.model.bandit.RandomPolicy              0.775653               \nmars_gym.model.bandit.SoftmaxExplorer           0.725512               \n\n                                                     IPS     SNIPS  \\\nbandit_policy_class                                                  \nmars_gym.model.bandit.AdaptiveGreedy            0.299046  0.308466   \nmars_gym.model.bandit.CustomRewardModelLinUCB   0.305576  0.315562   \nmars_gym.model.bandit.EpsilonGreedy             0.296847  0.295397   \nmars_gym.model.bandit.ExploreThenExploit        0.296997  0.294139   \nmars_gym.model.bandit.FixedPolicy               0.076116  0.077219   \nmars_gym.model.bandit.LinThompsonSampling       0.037423  0.035373   \nmars_gym.model.bandit.LinUCB                    0.053439  0.056094   \nmars_gym.model.bandit.PercentileAdaptiveGreedy  0.321505  0.317082   \nmars_gym.model.bandit.RandomPolicy              0.041457  0.040577   \nmars_gym.model.bandit.SoftmaxExplorer           0.287223  0.287718   \n\n                                                DirectEstimator  DoublyRobust  \\\nbandit_policy_class                                                             \nmars_gym.model.bandit.AdaptiveGreedy            0.200657         0.267138       \nmars_gym.model.bandit.CustomRewardModelLinUCB   0.199502         0.266484       \nmars_gym.model.bandit.EpsilonGreedy             0.187270         0.254888       \nmars_gym.model.bandit.ExploreThenExploit        0.190652         0.256225       \nmars_gym.model.bandit.FixedPolicy               0.084967         0.077790       \nmars_gym.model.bandit.LinThompsonSampling       0.041869         0.039049       \nmars_gym.model.bandit.LinUCB                    0.054993         0.051205       \nmars_gym.model.bandit.PercentileAdaptiveGreedy  0.198404         0.280774       \nmars_gym.model.bandit.RandomPolicy              0.042541         0.041919       \nmars_gym.model.bandit.SoftmaxExplorer           0.188744         0.253449       \n\n                                                index  \nbandit_policy_class                                    \nmars_gym.model.bandit.AdaptiveGreedy            0      \nmars_gym.model.bandit.CustomRewardModelLinUCB   0      \nmars_gym.model.bandit.EpsilonGreedy             0      \nmars_gym.model.bandit.ExploreThenExploit        0      \nmars_gym.model.bandit.FixedPolicy               0      \nmars_gym.model.bandit.LinThompsonSampling       0      \nmars_gym.model.bandit.LinUCB                    0      \nmars_gym.model.bandit.PercentileAdaptiveGreedy  0      \nmars_gym.model.bandit.RandomPolicy              0      \nmars_gym.model.bandit.SoftmaxExplorer           0      ",
      "text/html": "<div>\n<style scoped>\n    .dataframe tbody tr th:only-of-type {\n        vertical-align: middle;\n    }\n\n    .dataframe tbody tr th {\n        vertical-align: top;\n    }\n\n    .dataframe thead th {\n        text-align: right;\n    }\n</style>\n<table border=\"1\" class=\"dataframe\">\n  <thead>\n    <tr style=\"text-align: right;\">\n      <th></th>\n      <th>precision_at_1</th>\n      <th>ndcg_at_5</th>\n      <th>coverage_at_5</th>\n      <th>personalization_at_5</th>\n      <th>IPS</th>\n      <th>SNIPS</th>\n      <th>DirectEstimator</th>\n      <th>DoublyRobust</th>\n      <th>index</th>\n    </tr>\n    <tr>\n      <th>bandit_policy_class</th>\n      <th></th>\n      <th></th>\n      <th></th>\n      <th></th>\n      <th></th>\n      <th></th>\n      <th></th>\n      <th></th>\n      <th></th>\n    </tr>\n  </thead>\n  <tbody>\n    <tr>\n      <th>mars_gym.model.bandit.AdaptiveGreedy</th>\n      <td>0.317639</td>\n      <td>0.403579</td>\n      <td>0.390850</td>\n      <td>0.767565</td>\n      <td>0.299046</td>\n      <td>0.308466</td>\n      <td>0.200657</td>\n      <td>0.267138</td>\n      <td>0</td>\n    </tr>\n    <tr>\n      <th>mars_gym.model.bandit.CustomRewardModelLinUCB</th>\n      <td>0.328249</td>\n      <td>0.442917</td>\n      <td>0.362862</td>\n      <td>0.729376</td>\n      <td>0.305576</td>\n      <td>0.315562</td>\n      <td>0.199502</td>\n      <td>0.266484</td>\n      <td>0</td>\n    </tr>\n    <tr>\n      <th>mars_gym.model.bandit.EpsilonGreedy</th>\n      <td>0.302056</td>\n      <td>0.443252</td>\n      <td>0.343287</td>\n      <td>0.733547</td>\n      <td>0.296847</td>\n      <td>0.295397</td>\n      <td>0.187270</td>\n      <td>0.254888</td>\n      <td>0</td>\n    </tr>\n    <tr>\n      <th>mars_gym.model.bandit.ExploreThenExploit</th>\n      <td>0.307692</td>\n      <td>0.418607</td>\n      <td>0.333071</td>\n      <td>0.731641</td>\n      <td>0.296997</td>\n      <td>0.294139</td>\n      <td>0.190652</td>\n      <td>0.256225</td>\n      <td>0</td>\n    </tr>\n    <tr>\n      <th>mars_gym.model.bandit.FixedPolicy</th>\n      <td>0.074271</td>\n      <td>0.171294</td>\n      <td>0.373850</td>\n      <td>0.759891</td>\n      <td>0.076116</td>\n      <td>0.077219</td>\n      <td>0.084967</td>\n      <td>0.077790</td>\n      <td>0</td>\n    </tr>\n    <tr>\n      <th>mars_gym.model.bandit.LinThompsonSampling</th>\n      <td>0.039788</td>\n      <td>0.137056</td>\n      <td>0.423900</td>\n      <td>0.771211</td>\n      <td>0.037423</td>\n      <td>0.035373</td>\n      <td>0.041869</td>\n      <td>0.039049</td>\n      <td>0</td>\n    </tr>\n    <tr>\n      <th>mars_gym.model.bandit.LinUCB</th>\n      <td>0.075928</td>\n      <td>0.207314</td>\n      <td>0.271450</td>\n      <td>0.696228</td>\n      <td>0.053439</td>\n      <td>0.056094</td>\n      <td>0.054993</td>\n      <td>0.051205</td>\n      <td>0</td>\n    </tr>\n    <tr>\n      <th>mars_gym.model.bandit.PercentileAdaptiveGreedy</th>\n      <td>0.336870</td>\n      <td>0.438648</td>\n      <td>0.375563</td>\n      <td>0.743905</td>\n      <td>0.321505</td>\n      <td>0.317082</td>\n      <td>0.198404</td>\n      <td>0.280774</td>\n      <td>0</td>\n    </tr>\n    <tr>\n      <th>mars_gym.model.bandit.RandomPolicy</th>\n      <td>0.039788</td>\n      <td>0.138404</td>\n      <td>0.389600</td>\n      <td>0.775653</td>\n      <td>0.041457</td>\n      <td>0.040577</td>\n      <td>0.042541</td>\n      <td>0.041919</td>\n      <td>0</td>\n    </tr>\n    <tr>\n      <th>mars_gym.model.bandit.SoftmaxExplorer</th>\n      <td>0.301724</td>\n      <td>0.452869</td>\n      <td>0.330988</td>\n      <td>0.725512</td>\n      <td>0.287223</td>\n      <td>0.287718</td>\n      <td>0.188744</td>\n      <td>0.253449</td>\n      <td>0</td>\n    </tr>\n  </tbody>\n</table>\n</div>"
     },
     "metadata": {},
     "execution_count": 13
    }
   ],
   "source": [
    "# Merge and Mean \n",
    "#\n",
    "df_metrics['model_task'] = data_metrics.model_task\n",
    "df_params['model_task']  = df_params.iteraction.apply(lambda x: x.split(\"/\")[-1])\n",
    "\n",
    "df_result = df_metrics.merge(\n",
    "    df_params[['bandit_policy_class', 'model_task']].reset_index()\n",
    ", on='model_task')\n",
    "\n",
    "df_result = df_result.groupby(['bandit_policy_class']).mean()\n",
    "df_result"
   ]
  },
  {
   "cell_type": "code",
   "execution_count": 14,
   "metadata": {},
   "outputs": [],
   "source": [
    "df_result.round(3).to_csv('metrics.csv')"
   ]
  },
  {
   "cell_type": "code",
   "execution_count": 15,
   "metadata": {},
   "outputs": [],
   "source": [
    "# fig = plot_bar(df_result, confidence = None, title=\"Comparison of Recsys Metrics\")\n",
    "\n",
    "# fig.update_layout(xaxis_showgrid=False, yaxis_showgrid=False)\n",
    "# fig.update_layout(font={'family': 'Courier New, monospace', 'size': 14}, height=550)\n",
    "# fig#.show(renderer=\"svg\")\n",
    "\n",
    "# #fig.write_image(\"output/tmp/metrics/recsys_rank.eps\")"
   ]
  },
  {
   "cell_type": "code",
   "execution_count": null,
   "metadata": {},
   "outputs": [],
   "source": []
  },
  {
   "cell_type": "markdown",
   "metadata": {},
   "source": [
    "### Fairness Results"
   ]
  },
  {
   "cell_type": "markdown",
   "metadata": {},
   "source": [
    "We evaluated the SoftmaxExplorer bandit on the “RecSys Cities\" task, in the perspective of\n",
    "disparate mistreatment and disparate treatment. We selected a few attributes that we judged to be sensitive for all partners in the marketplace."
   ]
  },
  {
   "cell_type": "code",
   "execution_count": 16,
   "metadata": {},
   "outputs": [],
   "source": [
    "# task_id: InteractionTraining____mars_gym_model_b___logit_multipli_9dd8714dfd_96b9d686ee"
   ]
  },
  {
   "cell_type": "code",
   "execution_count": null,
   "metadata": {},
   "outputs": [],
   "source": []
  },
  {
   "cell_type": "markdown",
   "metadata": {},
   "source": [
    "#### Feature - Accessibility"
   ]
  },
  {
   "cell_type": "code",
   "execution_count": 17,
   "metadata": {},
   "outputs": [],
   "source": [
    "input_models_eval = 'InteractionTraining____mars_gym_model_b___logit_multipli_9dd8714dfd_96b9d686ee'\n",
    "list_input_features    = ['accessible parking', 'accessible hotel']\n",
    "input_metrics     = 'true_positive_rate'"
   ]
  },
  {
   "cell_type": "code",
   "execution_count": 18,
   "metadata": {},
   "outputs": [
    {
     "output_type": "execute_result",
     "data": {
      "text/plain": "                  feature             sub_key  total_class  total_individuals  \\\nsub                                                                             \n1    accessible parking.1  accessible parking  1063         2380                \n0    accessible parking.0  accessible parking  3193         10038               \n1    accessible hotel.1    accessible hotel    1345         3799                \n0    accessible hotel.0    accessible hotel    3114         8619                \n\n     true_positive_rate  true_positive_rate_C  \nsub                                            \n1    0.222664            0.023616              \n0    0.297201            0.013806              \n1    0.242414            0.020492              \n0    0.287845            0.014361              ",
      "text/html": "<div>\n<style scoped>\n    .dataframe tbody tr th:only-of-type {\n        vertical-align: middle;\n    }\n\n    .dataframe tbody tr th {\n        vertical-align: top;\n    }\n\n    .dataframe thead th {\n        text-align: right;\n    }\n</style>\n<table border=\"1\" class=\"dataframe\">\n  <thead>\n    <tr style=\"text-align: right;\">\n      <th></th>\n      <th>feature</th>\n      <th>sub_key</th>\n      <th>total_class</th>\n      <th>total_individuals</th>\n      <th>true_positive_rate</th>\n      <th>true_positive_rate_C</th>\n    </tr>\n    <tr>\n      <th>sub</th>\n      <th></th>\n      <th></th>\n      <th></th>\n      <th></th>\n      <th></th>\n      <th></th>\n    </tr>\n  </thead>\n  <tbody>\n    <tr>\n      <th>1</th>\n      <td>accessible parking.1</td>\n      <td>accessible parking</td>\n      <td>1063</td>\n      <td>2380</td>\n      <td>0.222664</td>\n      <td>0.023616</td>\n    </tr>\n    <tr>\n      <th>0</th>\n      <td>accessible parking.0</td>\n      <td>accessible parking</td>\n      <td>3193</td>\n      <td>10038</td>\n      <td>0.297201</td>\n      <td>0.013806</td>\n    </tr>\n    <tr>\n      <th>1</th>\n      <td>accessible hotel.1</td>\n      <td>accessible hotel</td>\n      <td>1345</td>\n      <td>3799</td>\n      <td>0.242414</td>\n      <td>0.020492</td>\n    </tr>\n    <tr>\n      <th>0</th>\n      <td>accessible hotel.0</td>\n      <td>accessible hotel</td>\n      <td>3114</td>\n      <td>8619</td>\n      <td>0.287845</td>\n      <td>0.014361</td>\n    </tr>\n  </tbody>\n</table>\n</div>"
     },
     "metadata": {},
     "execution_count": 18
    }
   ],
   "source": [
    "# fig, df_metrics, df_total = plot_fairness_metrics(input_models_eval, input_features, input_metrics, sub_map = None)\n",
    "metrics = []\n",
    "sub_map = None\n",
    "\n",
    "for input_features in list_input_features:\n",
    "    df_all_metrics    = load_fairness_metrics().loc[input_models_eval]\n",
    "    df_instances      = load_fairness_df().loc[input_models_eval]\n",
    "    df_all_metric_filter = df_all_metrics[df_all_metrics.sub_key.isin([input_features])]\n",
    "\n",
    "    columns         = list(np.unique(['sub_key', 'sub', 'feature', 'total_class', 'total_individuals'] + [input_metrics]))\n",
    "    if input_metrics+\"_C\" in df_all_metrics.columns:\n",
    "        columns.append(input_metrics+\"_C\")\n",
    "\n",
    "    df_metrics      = filter_df(df_all_metrics, input_models_eval, columns, 'sub')\n",
    "\n",
    "    df_metrics      = df_metrics[df_metrics.sub_key.isin([input_features])]\n",
    "    if sub_map != None:\n",
    "        df_metrics['sub'] = df_metrics['sub'].map(sub_map)\n",
    "\n",
    "    df_metrics      = df_metrics.sort_values(\"feature\").set_index(\"sub\")\n",
    "    df_metrics      = df_metrics.sort_values(input_metrics)\n",
    "    metrics.append(df_metrics)\n",
    "\n",
    "metrics = pd.concat(metrics)\n",
    "metrics"
   ]
  },
  {
   "cell_type": "code",
   "execution_count": 19,
   "metadata": {},
   "outputs": [
    {
     "output_type": "execute_result",
     "data": {
      "text/plain": "                               feature             sub_key  total_class  \\\nsub                                                                       \nparking<br>True   accessible parking.1  accessible parking  1063          \nparking<br>False  accessible parking.0  accessible parking  3193          \nhotel<br>True     accessible hotel.1    accessible hotel    1345          \nhotel<br>False    accessible hotel.0    accessible hotel    3114          \n\n                  total_individuals  true_positive_rate  true_positive_rate_C  \\\nsub                                                                             \nparking<br>True   2380               0.222664            0.023616               \nparking<br>False  10038              0.297201            0.013806               \nhotel<br>True     3799               0.242414            0.020492               \nhotel<br>False    8619               0.287845            0.014361               \n\n                  color  \nsub                      \nparking<br>True   2      \nparking<br>False  2      \nhotel<br>True     5      \nhotel<br>False    5      ",
      "text/html": "<div>\n<style scoped>\n    .dataframe tbody tr th:only-of-type {\n        vertical-align: middle;\n    }\n\n    .dataframe tbody tr th {\n        vertical-align: top;\n    }\n\n    .dataframe thead th {\n        text-align: right;\n    }\n</style>\n<table border=\"1\" class=\"dataframe\">\n  <thead>\n    <tr style=\"text-align: right;\">\n      <th></th>\n      <th>feature</th>\n      <th>sub_key</th>\n      <th>total_class</th>\n      <th>total_individuals</th>\n      <th>true_positive_rate</th>\n      <th>true_positive_rate_C</th>\n      <th>color</th>\n    </tr>\n    <tr>\n      <th>sub</th>\n      <th></th>\n      <th></th>\n      <th></th>\n      <th></th>\n      <th></th>\n      <th></th>\n      <th></th>\n    </tr>\n  </thead>\n  <tbody>\n    <tr>\n      <th>parking&lt;br&gt;True</th>\n      <td>accessible parking.1</td>\n      <td>accessible parking</td>\n      <td>1063</td>\n      <td>2380</td>\n      <td>0.222664</td>\n      <td>0.023616</td>\n      <td>2</td>\n    </tr>\n    <tr>\n      <th>parking&lt;br&gt;False</th>\n      <td>accessible parking.0</td>\n      <td>accessible parking</td>\n      <td>3193</td>\n      <td>10038</td>\n      <td>0.297201</td>\n      <td>0.013806</td>\n      <td>2</td>\n    </tr>\n    <tr>\n      <th>hotel&lt;br&gt;True</th>\n      <td>accessible hotel.1</td>\n      <td>accessible hotel</td>\n      <td>1345</td>\n      <td>3799</td>\n      <td>0.242414</td>\n      <td>0.020492</td>\n      <td>5</td>\n    </tr>\n    <tr>\n      <th>hotel&lt;br&gt;False</th>\n      <td>accessible hotel.0</td>\n      <td>accessible hotel</td>\n      <td>3114</td>\n      <td>8619</td>\n      <td>0.287845</td>\n      <td>0.014361</td>\n      <td>5</td>\n    </tr>\n  </tbody>\n</table>\n</div>"
     },
     "metadata": {},
     "execution_count": 19
    }
   ],
   "source": [
    "metrics.reset_index()\n",
    "metrics['sub'] = ['parking<br>True', 'parking<br>False', 'hotel<br>True', 'hotel<br>False']\n",
    "metrics['color'] = [2,2, 5,5]\n",
    "metrics = metrics.set_index('sub')\n",
    "metrics"
   ]
  },
  {
   "cell_type": "code",
   "execution_count": 20,
   "metadata": {},
   "outputs": [
    {
     "output_type": "display_data",
     "data": {
      "application/vnd.plotly.v1+json": {
       "config": {
        "plotlyServerURL": "https://plot.ly"
       },
       "data": [
        {
         "error_x": {
          "array": [
           0.02361613479151095,
           0.0138059237113749,
           0.020492447312361814,
           0.014361164579029424
          ],
          "type": "data"
         },
         "marker": {
          "color": [
           "rgb(103, 219, 165)",
           "rgb(103, 219, 165)",
           "rgb(44, 152, 160)",
           "rgb(44, 152, 160)"
          ]
         },
         "orientation": "h",
         "type": "bar",
         "x": [
          0.22266417712722056,
          0.2972006460716394,
          0.2424144599186233,
          0.28784461570988074
         ],
         "y": [
          "parking<br>True",
          "parking<br>False",
          "hotel<br>True",
          "hotel<br>False"
         ]
        }
       ],
       "layout": {
        "font": {
         "family": "Courier New, monospace",
         "size": 22
        },
        "height": 550,
        "legend": {
         "orientation": "h",
         "y": -0.2
        },
        "shapes": [
         {
          "line": {
           "dash": "dot",
           "width": 1
          },
          "type": "line",
          "x0": 0,
          "x1": 1,
          "xref": "paper",
          "y0": 1.5,
          "y1": 1.5,
          "yref": "y"
         }
        ],
        "template": {
         "data": {
          "bar": [
           {
            "error_x": {
             "color": "#2a3f5f"
            },
            "error_y": {
             "color": "#2a3f5f"
            },
            "marker": {
             "line": {
              "color": "white",
              "width": 0.5
             }
            },
            "type": "bar"
           }
          ],
          "barpolar": [
           {
            "marker": {
             "line": {
              "color": "white",
              "width": 0.5
             }
            },
            "type": "barpolar"
           }
          ],
          "carpet": [
           {
            "aaxis": {
             "endlinecolor": "#2a3f5f",
             "gridcolor": "#C8D4E3",
             "linecolor": "#C8D4E3",
             "minorgridcolor": "#C8D4E3",
             "startlinecolor": "#2a3f5f"
            },
            "baxis": {
             "endlinecolor": "#2a3f5f",
             "gridcolor": "#C8D4E3",
             "linecolor": "#C8D4E3",
             "minorgridcolor": "#C8D4E3",
             "startlinecolor": "#2a3f5f"
            },
            "type": "carpet"
           }
          ],
          "choropleth": [
           {
            "colorbar": {
             "outlinewidth": 0,
             "ticks": ""
            },
            "type": "choropleth"
           }
          ],
          "contour": [
           {
            "colorbar": {
             "outlinewidth": 0,
             "ticks": ""
            },
            "colorscale": [
             [
              0,
              "#0d0887"
             ],
             [
              0.1111111111111111,
              "#46039f"
             ],
             [
              0.2222222222222222,
              "#7201a8"
             ],
             [
              0.3333333333333333,
              "#9c179e"
             ],
             [
              0.4444444444444444,
              "#bd3786"
             ],
             [
              0.5555555555555556,
              "#d8576b"
             ],
             [
              0.6666666666666666,
              "#ed7953"
             ],
             [
              0.7777777777777778,
              "#fb9f3a"
             ],
             [
              0.8888888888888888,
              "#fdca26"
             ],
             [
              1,
              "#f0f921"
             ]
            ],
            "type": "contour"
           }
          ],
          "contourcarpet": [
           {
            "colorbar": {
             "outlinewidth": 0,
             "ticks": ""
            },
            "type": "contourcarpet"
           }
          ],
          "heatmap": [
           {
            "colorbar": {
             "outlinewidth": 0,
             "ticks": ""
            },
            "colorscale": [
             [
              0,
              "#0d0887"
             ],
             [
              0.1111111111111111,
              "#46039f"
             ],
             [
              0.2222222222222222,
              "#7201a8"
             ],
             [
              0.3333333333333333,
              "#9c179e"
             ],
             [
              0.4444444444444444,
              "#bd3786"
             ],
             [
              0.5555555555555556,
              "#d8576b"
             ],
             [
              0.6666666666666666,
              "#ed7953"
             ],
             [
              0.7777777777777778,
              "#fb9f3a"
             ],
             [
              0.8888888888888888,
              "#fdca26"
             ],
             [
              1,
              "#f0f921"
             ]
            ],
            "type": "heatmap"
           }
          ],
          "heatmapgl": [
           {
            "colorbar": {
             "outlinewidth": 0,
             "ticks": ""
            },
            "colorscale": [
             [
              0,
              "#0d0887"
             ],
             [
              0.1111111111111111,
              "#46039f"
             ],
             [
              0.2222222222222222,
              "#7201a8"
             ],
             [
              0.3333333333333333,
              "#9c179e"
             ],
             [
              0.4444444444444444,
              "#bd3786"
             ],
             [
              0.5555555555555556,
              "#d8576b"
             ],
             [
              0.6666666666666666,
              "#ed7953"
             ],
             [
              0.7777777777777778,
              "#fb9f3a"
             ],
             [
              0.8888888888888888,
              "#fdca26"
             ],
             [
              1,
              "#f0f921"
             ]
            ],
            "type": "heatmapgl"
           }
          ],
          "histogram": [
           {
            "marker": {
             "colorbar": {
              "outlinewidth": 0,
              "ticks": ""
             }
            },
            "type": "histogram"
           }
          ],
          "histogram2d": [
           {
            "colorbar": {
             "outlinewidth": 0,
             "ticks": ""
            },
            "colorscale": [
             [
              0,
              "#0d0887"
             ],
             [
              0.1111111111111111,
              "#46039f"
             ],
             [
              0.2222222222222222,
              "#7201a8"
             ],
             [
              0.3333333333333333,
              "#9c179e"
             ],
             [
              0.4444444444444444,
              "#bd3786"
             ],
             [
              0.5555555555555556,
              "#d8576b"
             ],
             [
              0.6666666666666666,
              "#ed7953"
             ],
             [
              0.7777777777777778,
              "#fb9f3a"
             ],
             [
              0.8888888888888888,
              "#fdca26"
             ],
             [
              1,
              "#f0f921"
             ]
            ],
            "type": "histogram2d"
           }
          ],
          "histogram2dcontour": [
           {
            "colorbar": {
             "outlinewidth": 0,
             "ticks": ""
            },
            "colorscale": [
             [
              0,
              "#0d0887"
             ],
             [
              0.1111111111111111,
              "#46039f"
             ],
             [
              0.2222222222222222,
              "#7201a8"
             ],
             [
              0.3333333333333333,
              "#9c179e"
             ],
             [
              0.4444444444444444,
              "#bd3786"
             ],
             [
              0.5555555555555556,
              "#d8576b"
             ],
             [
              0.6666666666666666,
              "#ed7953"
             ],
             [
              0.7777777777777778,
              "#fb9f3a"
             ],
             [
              0.8888888888888888,
              "#fdca26"
             ],
             [
              1,
              "#f0f921"
             ]
            ],
            "type": "histogram2dcontour"
           }
          ],
          "mesh3d": [
           {
            "colorbar": {
             "outlinewidth": 0,
             "ticks": ""
            },
            "type": "mesh3d"
           }
          ],
          "parcoords": [
           {
            "line": {
             "colorbar": {
              "outlinewidth": 0,
              "ticks": ""
             }
            },
            "type": "parcoords"
           }
          ],
          "pie": [
           {
            "automargin": true,
            "type": "pie"
           }
          ],
          "scatter": [
           {
            "marker": {
             "colorbar": {
              "outlinewidth": 0,
              "ticks": ""
             }
            },
            "type": "scatter"
           }
          ],
          "scatter3d": [
           {
            "line": {
             "colorbar": {
              "outlinewidth": 0,
              "ticks": ""
             }
            },
            "marker": {
             "colorbar": {
              "outlinewidth": 0,
              "ticks": ""
             }
            },
            "type": "scatter3d"
           }
          ],
          "scattercarpet": [
           {
            "marker": {
             "colorbar": {
              "outlinewidth": 0,
              "ticks": ""
             }
            },
            "type": "scattercarpet"
           }
          ],
          "scattergeo": [
           {
            "marker": {
             "colorbar": {
              "outlinewidth": 0,
              "ticks": ""
             }
            },
            "type": "scattergeo"
           }
          ],
          "scattergl": [
           {
            "marker": {
             "colorbar": {
              "outlinewidth": 0,
              "ticks": ""
             }
            },
            "type": "scattergl"
           }
          ],
          "scattermapbox": [
           {
            "marker": {
             "colorbar": {
              "outlinewidth": 0,
              "ticks": ""
             }
            },
            "type": "scattermapbox"
           }
          ],
          "scatterpolar": [
           {
            "marker": {
             "colorbar": {
              "outlinewidth": 0,
              "ticks": ""
             }
            },
            "type": "scatterpolar"
           }
          ],
          "scatterpolargl": [
           {
            "marker": {
             "colorbar": {
              "outlinewidth": 0,
              "ticks": ""
             }
            },
            "type": "scatterpolargl"
           }
          ],
          "scatterternary": [
           {
            "marker": {
             "colorbar": {
              "outlinewidth": 0,
              "ticks": ""
             }
            },
            "type": "scatterternary"
           }
          ],
          "surface": [
           {
            "colorbar": {
             "outlinewidth": 0,
             "ticks": ""
            },
            "colorscale": [
             [
              0,
              "#0d0887"
             ],
             [
              0.1111111111111111,
              "#46039f"
             ],
             [
              0.2222222222222222,
              "#7201a8"
             ],
             [
              0.3333333333333333,
              "#9c179e"
             ],
             [
              0.4444444444444444,
              "#bd3786"
             ],
             [
              0.5555555555555556,
              "#d8576b"
             ],
             [
              0.6666666666666666,
              "#ed7953"
             ],
             [
              0.7777777777777778,
              "#fb9f3a"
             ],
             [
              0.8888888888888888,
              "#fdca26"
             ],
             [
              1,
              "#f0f921"
             ]
            ],
            "type": "surface"
           }
          ],
          "table": [
           {
            "cells": {
             "fill": {
              "color": "#EBF0F8"
             },
             "line": {
              "color": "white"
             }
            },
            "header": {
             "fill": {
              "color": "#C8D4E3"
             },
             "line": {
              "color": "white"
             }
            },
            "type": "table"
           }
          ]
         },
         "layout": {
          "annotationdefaults": {
           "arrowcolor": "#2a3f5f",
           "arrowhead": 0,
           "arrowwidth": 1
          },
          "coloraxis": {
           "colorbar": {
            "outlinewidth": 0,
            "ticks": ""
           }
          },
          "colorscale": {
           "diverging": [
            [
             0,
             "#8e0152"
            ],
            [
             0.1,
             "#c51b7d"
            ],
            [
             0.2,
             "#de77ae"
            ],
            [
             0.3,
             "#f1b6da"
            ],
            [
             0.4,
             "#fde0ef"
            ],
            [
             0.5,
             "#f7f7f7"
            ],
            [
             0.6,
             "#e6f5d0"
            ],
            [
             0.7,
             "#b8e186"
            ],
            [
             0.8,
             "#7fbc41"
            ],
            [
             0.9,
             "#4d9221"
            ],
            [
             1,
             "#276419"
            ]
           ],
           "sequential": [
            [
             0,
             "#0d0887"
            ],
            [
             0.1111111111111111,
             "#46039f"
            ],
            [
             0.2222222222222222,
             "#7201a8"
            ],
            [
             0.3333333333333333,
             "#9c179e"
            ],
            [
             0.4444444444444444,
             "#bd3786"
            ],
            [
             0.5555555555555556,
             "#d8576b"
            ],
            [
             0.6666666666666666,
             "#ed7953"
            ],
            [
             0.7777777777777778,
             "#fb9f3a"
            ],
            [
             0.8888888888888888,
             "#fdca26"
            ],
            [
             1,
             "#f0f921"
            ]
           ],
           "sequentialminus": [
            [
             0,
             "#0d0887"
            ],
            [
             0.1111111111111111,
             "#46039f"
            ],
            [
             0.2222222222222222,
             "#7201a8"
            ],
            [
             0.3333333333333333,
             "#9c179e"
            ],
            [
             0.4444444444444444,
             "#bd3786"
            ],
            [
             0.5555555555555556,
             "#d8576b"
            ],
            [
             0.6666666666666666,
             "#ed7953"
            ],
            [
             0.7777777777777778,
             "#fb9f3a"
            ],
            [
             0.8888888888888888,
             "#fdca26"
            ],
            [
             1,
             "#f0f921"
            ]
           ]
          },
          "colorway": [
           "#636efa",
           "#EF553B",
           "#00cc96",
           "#ab63fa",
           "#FFA15A",
           "#19d3f3",
           "#FF6692",
           "#B6E880",
           "#FF97FF",
           "#FECB52"
          ],
          "font": {
           "color": "#2a3f5f"
          },
          "geo": {
           "bgcolor": "white",
           "lakecolor": "white",
           "landcolor": "white",
           "showlakes": true,
           "showland": true,
           "subunitcolor": "#C8D4E3"
          },
          "hoverlabel": {
           "align": "left"
          },
          "hovermode": "closest",
          "mapbox": {
           "style": "light"
          },
          "paper_bgcolor": "white",
          "plot_bgcolor": "white",
          "polar": {
           "angularaxis": {
            "gridcolor": "#EBF0F8",
            "linecolor": "#EBF0F8",
            "ticks": ""
           },
           "bgcolor": "white",
           "radialaxis": {
            "gridcolor": "#EBF0F8",
            "linecolor": "#EBF0F8",
            "ticks": ""
           }
          },
          "scene": {
           "xaxis": {
            "backgroundcolor": "white",
            "gridcolor": "#DFE8F3",
            "gridwidth": 2,
            "linecolor": "#EBF0F8",
            "showbackground": true,
            "ticks": "",
            "zerolinecolor": "#EBF0F8"
           },
           "yaxis": {
            "backgroundcolor": "white",
            "gridcolor": "#DFE8F3",
            "gridwidth": 2,
            "linecolor": "#EBF0F8",
            "showbackground": true,
            "ticks": "",
            "zerolinecolor": "#EBF0F8"
           },
           "zaxis": {
            "backgroundcolor": "white",
            "gridcolor": "#DFE8F3",
            "gridwidth": 2,
            "linecolor": "#EBF0F8",
            "showbackground": true,
            "ticks": "",
            "zerolinecolor": "#EBF0F8"
           }
          },
          "shapedefaults": {
           "line": {
            "color": "#2a3f5f"
           }
          },
          "ternary": {
           "aaxis": {
            "gridcolor": "#DFE8F3",
            "linecolor": "#A2B1C6",
            "ticks": ""
           },
           "baxis": {
            "gridcolor": "#DFE8F3",
            "linecolor": "#A2B1C6",
            "ticks": ""
           },
           "bgcolor": "white",
           "caxis": {
            "gridcolor": "#DFE8F3",
            "linecolor": "#A2B1C6",
            "ticks": ""
           }
          },
          "title": {
           "x": 0.05
          },
          "xaxis": {
           "automargin": true,
           "gridcolor": "#EBF0F8",
           "linecolor": "#EBF0F8",
           "ticks": "",
           "title": {
            "standoff": 15
           },
           "zerolinecolor": "#EBF0F8",
           "zerolinewidth": 2
          },
          "yaxis": {
           "automargin": true,
           "gridcolor": "#EBF0F8",
           "linecolor": "#EBF0F8",
           "ticks": "",
           "title": {
            "standoff": 15
           },
           "zerolinecolor": "#EBF0F8",
           "zerolinewidth": 2
          }
         }
        },
        "title": {
         "text": ""
        },
        "xaxis": {
         "nticks": 4,
         "showgrid": false,
         "title": {
          "text": "true_positive_rate"
         }
        },
        "yaxis": {
         "categoryarray": [
          "parking<br>False",
          "parking<br>True",
          "hotel<br>False",
          "hotel<br>True"
         ],
         "categoryorder": "array",
         "showgrid": false,
         "title": {
          "text": "Accessible"
         }
        }
       }
      }
     },
     "metadata": {}
    }
   ],
   "source": [
    "fig = plot_fairness_mistreatment(metrics, input_metrics, title=\"\")\n",
    "\n",
    "fig.update_layout(shapes=[\n",
    "  dict(\n",
    "    type= 'line',\n",
    "    line=dict(\n",
    "        width=1,\n",
    "        dash=\"dot\",\n",
    "    ),        \n",
    "    xref='paper', x0= 0, x1= 1,\n",
    "    yref='y',     y0= 1.5, y1= 1.5\n",
    "  )\n",
    "])\n",
    "\n",
    "# Set custom x-axis labels\n",
    "fig.update_xaxes(nticks=4)\n",
    "\n",
    "fig.update_layout(yaxis={'categoryorder':'array', 'categoryarray':['parking<br>False', 'parking<br>True', 'hotel<br>False', 'hotel<br>True']})\n",
    "fig.update_layout(xaxis_showgrid=False, yaxis_showgrid=False, yaxis_title=\"Accessible\")\n",
    "fig.update_layout(font={'family': 'Courier New, monospace', 'size': 22}, height=550)\n",
    "\n",
    "fig.show()\n",
    "#fig.write_image(\"output/tmp/metrics/paper/recsys_fairnes_{}.eps\".format(\"accessible\"))    \n",
    "#fig.show(renderer=\"svg\")"
   ]
  },
  {
   "cell_type": "code",
   "execution_count": null,
   "metadata": {},
   "outputs": [],
   "source": []
  },
  {
   "cell_type": "markdown",
   "metadata": {},
   "source": [
    "#### Feature - Accommodation Type"
   ]
  },
  {
   "cell_type": "code",
   "execution_count": 21,
   "metadata": {},
   "outputs": [],
   "source": [
    "input_models_eval = 'InteractionTraining____mars_gym_model_b___logit_multipli_9dd8714dfd_96b9d686ee'\n",
    "list_input_features    = ['hotel', 'house / apartment']\n",
    "input_metrics     = 'true_positive_rate'"
   ]
  },
  {
   "cell_type": "code",
   "execution_count": 22,
   "metadata": {},
   "outputs": [
    {
     "output_type": "execute_result",
     "data": {
      "text/plain": "  sub              feature            sub_key  total_class  total_individuals  \\\n0  0   hotel.0              hotel              1649         2111                \n1  1   hotel.1              hotel              2579         10307               \n3  0   house / apartment.0  house / apartment  3044         11727               \n2  1   house / apartment.1  house / apartment  743          691                 \n\n   true_positive_rate  true_positive_rate_C  \n0  0.205584            0.020963              \n1  0.302903            0.013879              \n3  0.307458            0.013011              \n2  0.162758            0.030811              ",
      "text/html": "<div>\n<style scoped>\n    .dataframe tbody tr th:only-of-type {\n        vertical-align: middle;\n    }\n\n    .dataframe tbody tr th {\n        vertical-align: top;\n    }\n\n    .dataframe thead th {\n        text-align: right;\n    }\n</style>\n<table border=\"1\" class=\"dataframe\">\n  <thead>\n    <tr style=\"text-align: right;\">\n      <th></th>\n      <th>sub</th>\n      <th>feature</th>\n      <th>sub_key</th>\n      <th>total_class</th>\n      <th>total_individuals</th>\n      <th>true_positive_rate</th>\n      <th>true_positive_rate_C</th>\n    </tr>\n  </thead>\n  <tbody>\n    <tr>\n      <th>0</th>\n      <td>0</td>\n      <td>hotel.0</td>\n      <td>hotel</td>\n      <td>1649</td>\n      <td>2111</td>\n      <td>0.205584</td>\n      <td>0.020963</td>\n    </tr>\n    <tr>\n      <th>1</th>\n      <td>1</td>\n      <td>hotel.1</td>\n      <td>hotel</td>\n      <td>2579</td>\n      <td>10307</td>\n      <td>0.302903</td>\n      <td>0.013879</td>\n    </tr>\n    <tr>\n      <th>3</th>\n      <td>0</td>\n      <td>house / apartment.0</td>\n      <td>house / apartment</td>\n      <td>3044</td>\n      <td>11727</td>\n      <td>0.307458</td>\n      <td>0.013011</td>\n    </tr>\n    <tr>\n      <th>2</th>\n      <td>1</td>\n      <td>house / apartment.1</td>\n      <td>house / apartment</td>\n      <td>743</td>\n      <td>691</td>\n      <td>0.162758</td>\n      <td>0.030811</td>\n    </tr>\n  </tbody>\n</table>\n</div>"
     },
     "metadata": {},
     "execution_count": 22
    }
   ],
   "source": [
    "metrics = []\n",
    "for input_features in list_input_features:\n",
    "    df_all_metrics    = load_fairness_metrics().loc[input_models_eval]\n",
    "    df_instances      = load_fairness_df().loc[input_models_eval]\n",
    "    df_all_metric_filter = df_all_metrics[df_all_metrics.sub_key.isin([input_features])]\n",
    "\n",
    "    columns         = list(np.unique(['sub_key', 'sub', 'feature', 'total_class', 'total_individuals'] + [input_metrics]))\n",
    "    if input_metrics+\"_C\" in df_all_metrics.columns:\n",
    "        columns.append(input_metrics+\"_C\")\n",
    "\n",
    "    df_metrics      = filter_df(df_all_metrics, input_models_eval, columns, 'sub')\n",
    "\n",
    "    df_metrics      = df_metrics[df_metrics.sub_key.isin([input_features])]\n",
    "    if sub_map != None:\n",
    "        df_metrics['sub'] = df_metrics['sub'].map(sub_map)\n",
    "\n",
    "    df_metrics      = df_metrics.sort_values(\"feature\").set_index(\"sub\")\n",
    "    df_metrics      = df_metrics.sort_values(input_metrics)\n",
    "    metrics.append(df_metrics)\n",
    "\n",
    "metrics = pd.concat(metrics).reset_index().sort_values(['sub_key', 'sub'])\n",
    "metrics"
   ]
  },
  {
   "cell_type": "code",
   "execution_count": 23,
   "metadata": {},
   "outputs": [
    {
     "output_type": "execute_result",
     "data": {
      "text/plain": "                                  feature            sub_key  total_class  \\\nsub                                                                         \nhotel<br>False        hotel.0              hotel              1649          \nhotel<br>True         hotel.1              hotel              2579          \nhouse/apart<br>False  house / apartment.0  house / apartment  3044          \nhouse/apart<br>True   house / apartment.1  house / apartment  743           \n\n                      total_individuals  true_positive_rate  \\\nsub                                                           \nhotel<br>False        2111               0.205584             \nhotel<br>True         10307              0.302903             \nhouse/apart<br>False  11727              0.307458             \nhouse/apart<br>True   691                0.162758             \n\n                      true_positive_rate_C  color  \nsub                                                \nhotel<br>False        0.020963              5      \nhotel<br>True         0.013879              5      \nhouse/apart<br>False  0.013011              2      \nhouse/apart<br>True   0.030811              2      ",
      "text/html": "<div>\n<style scoped>\n    .dataframe tbody tr th:only-of-type {\n        vertical-align: middle;\n    }\n\n    .dataframe tbody tr th {\n        vertical-align: top;\n    }\n\n    .dataframe thead th {\n        text-align: right;\n    }\n</style>\n<table border=\"1\" class=\"dataframe\">\n  <thead>\n    <tr style=\"text-align: right;\">\n      <th></th>\n      <th>feature</th>\n      <th>sub_key</th>\n      <th>total_class</th>\n      <th>total_individuals</th>\n      <th>true_positive_rate</th>\n      <th>true_positive_rate_C</th>\n      <th>color</th>\n    </tr>\n    <tr>\n      <th>sub</th>\n      <th></th>\n      <th></th>\n      <th></th>\n      <th></th>\n      <th></th>\n      <th></th>\n      <th></th>\n    </tr>\n  </thead>\n  <tbody>\n    <tr>\n      <th>hotel&lt;br&gt;False</th>\n      <td>hotel.0</td>\n      <td>hotel</td>\n      <td>1649</td>\n      <td>2111</td>\n      <td>0.205584</td>\n      <td>0.020963</td>\n      <td>5</td>\n    </tr>\n    <tr>\n      <th>hotel&lt;br&gt;True</th>\n      <td>hotel.1</td>\n      <td>hotel</td>\n      <td>2579</td>\n      <td>10307</td>\n      <td>0.302903</td>\n      <td>0.013879</td>\n      <td>5</td>\n    </tr>\n    <tr>\n      <th>house/apart&lt;br&gt;False</th>\n      <td>house / apartment.0</td>\n      <td>house / apartment</td>\n      <td>3044</td>\n      <td>11727</td>\n      <td>0.307458</td>\n      <td>0.013011</td>\n      <td>2</td>\n    </tr>\n    <tr>\n      <th>house/apart&lt;br&gt;True</th>\n      <td>house / apartment.1</td>\n      <td>house / apartment</td>\n      <td>743</td>\n      <td>691</td>\n      <td>0.162758</td>\n      <td>0.030811</td>\n      <td>2</td>\n    </tr>\n  </tbody>\n</table>\n</div>"
     },
     "metadata": {},
     "execution_count": 23
    }
   ],
   "source": [
    "#metrics.reset_index().sort_values('sub_key')\n",
    "metrics['color'] = [5,5, 2,2]\n",
    "metrics['sub']   = ['hotel<br>False', 'hotel<br>True', 'house/apart<br>False', 'house/apart<br>True']\n",
    "metrics = metrics.set_index('sub')\n",
    "metrics"
   ]
  },
  {
   "cell_type": "code",
   "execution_count": 24,
   "metadata": {},
   "outputs": [
    {
     "output_type": "display_data",
     "data": {
      "application/vnd.plotly.v1+json": {
       "config": {
        "plotlyServerURL": "https://plot.ly"
       },
       "data": [
        {
         "error_x": {
          "array": [
           0.020962783439803054,
           0.013878558663566494,
           0.013010644821110588,
           0.030811013633295792
          ],
          "type": "data"
         },
         "marker": {
          "color": [
           "rgb(44, 152, 160)",
           "rgb(44, 152, 160)",
           "rgb(103, 219, 165)",
           "rgb(103, 219, 165)"
          ]
         },
         "orientation": "h",
         "type": "bar",
         "x": [
          0.20558372218744236,
          0.3029033688947088,
          0.30745821671009826,
          0.16275784666589266
         ],
         "y": [
          "hotel<br>False",
          "hotel<br>True",
          "house/apart<br>False",
          "house/apart<br>True"
         ]
        }
       ],
       "layout": {
        "font": {
         "family": "Courier New, monospace",
         "size": 22
        },
        "height": 550,
        "legend": {
         "orientation": "h",
         "y": -0.2
        },
        "shapes": [
         {
          "line": {
           "dash": "dot",
           "width": 1
          },
          "type": "line",
          "x0": 0,
          "x1": 1,
          "xref": "paper",
          "y0": 1.5,
          "y1": 1.5,
          "yref": "y"
         }
        ],
        "template": {
         "data": {
          "bar": [
           {
            "error_x": {
             "color": "#2a3f5f"
            },
            "error_y": {
             "color": "#2a3f5f"
            },
            "marker": {
             "line": {
              "color": "white",
              "width": 0.5
             }
            },
            "type": "bar"
           }
          ],
          "barpolar": [
           {
            "marker": {
             "line": {
              "color": "white",
              "width": 0.5
             }
            },
            "type": "barpolar"
           }
          ],
          "carpet": [
           {
            "aaxis": {
             "endlinecolor": "#2a3f5f",
             "gridcolor": "#C8D4E3",
             "linecolor": "#C8D4E3",
             "minorgridcolor": "#C8D4E3",
             "startlinecolor": "#2a3f5f"
            },
            "baxis": {
             "endlinecolor": "#2a3f5f",
             "gridcolor": "#C8D4E3",
             "linecolor": "#C8D4E3",
             "minorgridcolor": "#C8D4E3",
             "startlinecolor": "#2a3f5f"
            },
            "type": "carpet"
           }
          ],
          "choropleth": [
           {
            "colorbar": {
             "outlinewidth": 0,
             "ticks": ""
            },
            "type": "choropleth"
           }
          ],
          "contour": [
           {
            "colorbar": {
             "outlinewidth": 0,
             "ticks": ""
            },
            "colorscale": [
             [
              0,
              "#0d0887"
             ],
             [
              0.1111111111111111,
              "#46039f"
             ],
             [
              0.2222222222222222,
              "#7201a8"
             ],
             [
              0.3333333333333333,
              "#9c179e"
             ],
             [
              0.4444444444444444,
              "#bd3786"
             ],
             [
              0.5555555555555556,
              "#d8576b"
             ],
             [
              0.6666666666666666,
              "#ed7953"
             ],
             [
              0.7777777777777778,
              "#fb9f3a"
             ],
             [
              0.8888888888888888,
              "#fdca26"
             ],
             [
              1,
              "#f0f921"
             ]
            ],
            "type": "contour"
           }
          ],
          "contourcarpet": [
           {
            "colorbar": {
             "outlinewidth": 0,
             "ticks": ""
            },
            "type": "contourcarpet"
           }
          ],
          "heatmap": [
           {
            "colorbar": {
             "outlinewidth": 0,
             "ticks": ""
            },
            "colorscale": [
             [
              0,
              "#0d0887"
             ],
             [
              0.1111111111111111,
              "#46039f"
             ],
             [
              0.2222222222222222,
              "#7201a8"
             ],
             [
              0.3333333333333333,
              "#9c179e"
             ],
             [
              0.4444444444444444,
              "#bd3786"
             ],
             [
              0.5555555555555556,
              "#d8576b"
             ],
             [
              0.6666666666666666,
              "#ed7953"
             ],
             [
              0.7777777777777778,
              "#fb9f3a"
             ],
             [
              0.8888888888888888,
              "#fdca26"
             ],
             [
              1,
              "#f0f921"
             ]
            ],
            "type": "heatmap"
           }
          ],
          "heatmapgl": [
           {
            "colorbar": {
             "outlinewidth": 0,
             "ticks": ""
            },
            "colorscale": [
             [
              0,
              "#0d0887"
             ],
             [
              0.1111111111111111,
              "#46039f"
             ],
             [
              0.2222222222222222,
              "#7201a8"
             ],
             [
              0.3333333333333333,
              "#9c179e"
             ],
             [
              0.4444444444444444,
              "#bd3786"
             ],
             [
              0.5555555555555556,
              "#d8576b"
             ],
             [
              0.6666666666666666,
              "#ed7953"
             ],
             [
              0.7777777777777778,
              "#fb9f3a"
             ],
             [
              0.8888888888888888,
              "#fdca26"
             ],
             [
              1,
              "#f0f921"
             ]
            ],
            "type": "heatmapgl"
           }
          ],
          "histogram": [
           {
            "marker": {
             "colorbar": {
              "outlinewidth": 0,
              "ticks": ""
             }
            },
            "type": "histogram"
           }
          ],
          "histogram2d": [
           {
            "colorbar": {
             "outlinewidth": 0,
             "ticks": ""
            },
            "colorscale": [
             [
              0,
              "#0d0887"
             ],
             [
              0.1111111111111111,
              "#46039f"
             ],
             [
              0.2222222222222222,
              "#7201a8"
             ],
             [
              0.3333333333333333,
              "#9c179e"
             ],
             [
              0.4444444444444444,
              "#bd3786"
             ],
             [
              0.5555555555555556,
              "#d8576b"
             ],
             [
              0.6666666666666666,
              "#ed7953"
             ],
             [
              0.7777777777777778,
              "#fb9f3a"
             ],
             [
              0.8888888888888888,
              "#fdca26"
             ],
             [
              1,
              "#f0f921"
             ]
            ],
            "type": "histogram2d"
           }
          ],
          "histogram2dcontour": [
           {
            "colorbar": {
             "outlinewidth": 0,
             "ticks": ""
            },
            "colorscale": [
             [
              0,
              "#0d0887"
             ],
             [
              0.1111111111111111,
              "#46039f"
             ],
             [
              0.2222222222222222,
              "#7201a8"
             ],
             [
              0.3333333333333333,
              "#9c179e"
             ],
             [
              0.4444444444444444,
              "#bd3786"
             ],
             [
              0.5555555555555556,
              "#d8576b"
             ],
             [
              0.6666666666666666,
              "#ed7953"
             ],
             [
              0.7777777777777778,
              "#fb9f3a"
             ],
             [
              0.8888888888888888,
              "#fdca26"
             ],
             [
              1,
              "#f0f921"
             ]
            ],
            "type": "histogram2dcontour"
           }
          ],
          "mesh3d": [
           {
            "colorbar": {
             "outlinewidth": 0,
             "ticks": ""
            },
            "type": "mesh3d"
           }
          ],
          "parcoords": [
           {
            "line": {
             "colorbar": {
              "outlinewidth": 0,
              "ticks": ""
             }
            },
            "type": "parcoords"
           }
          ],
          "pie": [
           {
            "automargin": true,
            "type": "pie"
           }
          ],
          "scatter": [
           {
            "marker": {
             "colorbar": {
              "outlinewidth": 0,
              "ticks": ""
             }
            },
            "type": "scatter"
           }
          ],
          "scatter3d": [
           {
            "line": {
             "colorbar": {
              "outlinewidth": 0,
              "ticks": ""
             }
            },
            "marker": {
             "colorbar": {
              "outlinewidth": 0,
              "ticks": ""
             }
            },
            "type": "scatter3d"
           }
          ],
          "scattercarpet": [
           {
            "marker": {
             "colorbar": {
              "outlinewidth": 0,
              "ticks": ""
             }
            },
            "type": "scattercarpet"
           }
          ],
          "scattergeo": [
           {
            "marker": {
             "colorbar": {
              "outlinewidth": 0,
              "ticks": ""
             }
            },
            "type": "scattergeo"
           }
          ],
          "scattergl": [
           {
            "marker": {
             "colorbar": {
              "outlinewidth": 0,
              "ticks": ""
             }
            },
            "type": "scattergl"
           }
          ],
          "scattermapbox": [
           {
            "marker": {
             "colorbar": {
              "outlinewidth": 0,
              "ticks": ""
             }
            },
            "type": "scattermapbox"
           }
          ],
          "scatterpolar": [
           {
            "marker": {
             "colorbar": {
              "outlinewidth": 0,
              "ticks": ""
             }
            },
            "type": "scatterpolar"
           }
          ],
          "scatterpolargl": [
           {
            "marker": {
             "colorbar": {
              "outlinewidth": 0,
              "ticks": ""
             }
            },
            "type": "scatterpolargl"
           }
          ],
          "scatterternary": [
           {
            "marker": {
             "colorbar": {
              "outlinewidth": 0,
              "ticks": ""
             }
            },
            "type": "scatterternary"
           }
          ],
          "surface": [
           {
            "colorbar": {
             "outlinewidth": 0,
             "ticks": ""
            },
            "colorscale": [
             [
              0,
              "#0d0887"
             ],
             [
              0.1111111111111111,
              "#46039f"
             ],
             [
              0.2222222222222222,
              "#7201a8"
             ],
             [
              0.3333333333333333,
              "#9c179e"
             ],
             [
              0.4444444444444444,
              "#bd3786"
             ],
             [
              0.5555555555555556,
              "#d8576b"
             ],
             [
              0.6666666666666666,
              "#ed7953"
             ],
             [
              0.7777777777777778,
              "#fb9f3a"
             ],
             [
              0.8888888888888888,
              "#fdca26"
             ],
             [
              1,
              "#f0f921"
             ]
            ],
            "type": "surface"
           }
          ],
          "table": [
           {
            "cells": {
             "fill": {
              "color": "#EBF0F8"
             },
             "line": {
              "color": "white"
             }
            },
            "header": {
             "fill": {
              "color": "#C8D4E3"
             },
             "line": {
              "color": "white"
             }
            },
            "type": "table"
           }
          ]
         },
         "layout": {
          "annotationdefaults": {
           "arrowcolor": "#2a3f5f",
           "arrowhead": 0,
           "arrowwidth": 1
          },
          "coloraxis": {
           "colorbar": {
            "outlinewidth": 0,
            "ticks": ""
           }
          },
          "colorscale": {
           "diverging": [
            [
             0,
             "#8e0152"
            ],
            [
             0.1,
             "#c51b7d"
            ],
            [
             0.2,
             "#de77ae"
            ],
            [
             0.3,
             "#f1b6da"
            ],
            [
             0.4,
             "#fde0ef"
            ],
            [
             0.5,
             "#f7f7f7"
            ],
            [
             0.6,
             "#e6f5d0"
            ],
            [
             0.7,
             "#b8e186"
            ],
            [
             0.8,
             "#7fbc41"
            ],
            [
             0.9,
             "#4d9221"
            ],
            [
             1,
             "#276419"
            ]
           ],
           "sequential": [
            [
             0,
             "#0d0887"
            ],
            [
             0.1111111111111111,
             "#46039f"
            ],
            [
             0.2222222222222222,
             "#7201a8"
            ],
            [
             0.3333333333333333,
             "#9c179e"
            ],
            [
             0.4444444444444444,
             "#bd3786"
            ],
            [
             0.5555555555555556,
             "#d8576b"
            ],
            [
             0.6666666666666666,
             "#ed7953"
            ],
            [
             0.7777777777777778,
             "#fb9f3a"
            ],
            [
             0.8888888888888888,
             "#fdca26"
            ],
            [
             1,
             "#f0f921"
            ]
           ],
           "sequentialminus": [
            [
             0,
             "#0d0887"
            ],
            [
             0.1111111111111111,
             "#46039f"
            ],
            [
             0.2222222222222222,
             "#7201a8"
            ],
            [
             0.3333333333333333,
             "#9c179e"
            ],
            [
             0.4444444444444444,
             "#bd3786"
            ],
            [
             0.5555555555555556,
             "#d8576b"
            ],
            [
             0.6666666666666666,
             "#ed7953"
            ],
            [
             0.7777777777777778,
             "#fb9f3a"
            ],
            [
             0.8888888888888888,
             "#fdca26"
            ],
            [
             1,
             "#f0f921"
            ]
           ]
          },
          "colorway": [
           "#636efa",
           "#EF553B",
           "#00cc96",
           "#ab63fa",
           "#FFA15A",
           "#19d3f3",
           "#FF6692",
           "#B6E880",
           "#FF97FF",
           "#FECB52"
          ],
          "font": {
           "color": "#2a3f5f"
          },
          "geo": {
           "bgcolor": "white",
           "lakecolor": "white",
           "landcolor": "white",
           "showlakes": true,
           "showland": true,
           "subunitcolor": "#C8D4E3"
          },
          "hoverlabel": {
           "align": "left"
          },
          "hovermode": "closest",
          "mapbox": {
           "style": "light"
          },
          "paper_bgcolor": "white",
          "plot_bgcolor": "white",
          "polar": {
           "angularaxis": {
            "gridcolor": "#EBF0F8",
            "linecolor": "#EBF0F8",
            "ticks": ""
           },
           "bgcolor": "white",
           "radialaxis": {
            "gridcolor": "#EBF0F8",
            "linecolor": "#EBF0F8",
            "ticks": ""
           }
          },
          "scene": {
           "xaxis": {
            "backgroundcolor": "white",
            "gridcolor": "#DFE8F3",
            "gridwidth": 2,
            "linecolor": "#EBF0F8",
            "showbackground": true,
            "ticks": "",
            "zerolinecolor": "#EBF0F8"
           },
           "yaxis": {
            "backgroundcolor": "white",
            "gridcolor": "#DFE8F3",
            "gridwidth": 2,
            "linecolor": "#EBF0F8",
            "showbackground": true,
            "ticks": "",
            "zerolinecolor": "#EBF0F8"
           },
           "zaxis": {
            "backgroundcolor": "white",
            "gridcolor": "#DFE8F3",
            "gridwidth": 2,
            "linecolor": "#EBF0F8",
            "showbackground": true,
            "ticks": "",
            "zerolinecolor": "#EBF0F8"
           }
          },
          "shapedefaults": {
           "line": {
            "color": "#2a3f5f"
           }
          },
          "ternary": {
           "aaxis": {
            "gridcolor": "#DFE8F3",
            "linecolor": "#A2B1C6",
            "ticks": ""
           },
           "baxis": {
            "gridcolor": "#DFE8F3",
            "linecolor": "#A2B1C6",
            "ticks": ""
           },
           "bgcolor": "white",
           "caxis": {
            "gridcolor": "#DFE8F3",
            "linecolor": "#A2B1C6",
            "ticks": ""
           }
          },
          "title": {
           "x": 0.05
          },
          "xaxis": {
           "automargin": true,
           "gridcolor": "#EBF0F8",
           "linecolor": "#EBF0F8",
           "ticks": "",
           "title": {
            "standoff": 15
           },
           "zerolinecolor": "#EBF0F8",
           "zerolinewidth": 2
          },
          "yaxis": {
           "automargin": true,
           "gridcolor": "#EBF0F8",
           "linecolor": "#EBF0F8",
           "ticks": "",
           "title": {
            "standoff": 15
           },
           "zerolinecolor": "#EBF0F8",
           "zerolinewidth": 2
          }
         }
        },
        "title": {
         "text": ""
        },
        "xaxis": {
         "nticks": 4,
         "showgrid": false,
         "title": {
          "text": "true_positive_rate"
         }
        },
        "yaxis": {
         "categoryarray": [
          "house/apart<br>False",
          "house/apart<br>True",
          "hotel<br>False",
          "hotel<br>True"
         ],
         "categoryorder": "array",
         "showgrid": false,
         "title": {
          "text": "Business"
         }
        }
       }
      }
     },
     "metadata": {}
    }
   ],
   "source": [
    "fig = plot_fairness_mistreatment(metrics, input_metrics, title=\"\")\n",
    "\n",
    "fig.update_layout(shapes=[\n",
    "  dict(\n",
    "    type= 'line',\n",
    "    line=dict(\n",
    "        width=1,\n",
    "        dash=\"dot\",\n",
    "    ),        \n",
    "    xref='paper', x0= 0, x1= 1,\n",
    "    yref='y',     y0= 1.5, y1= 1.5\n",
    "  )\n",
    "])\n",
    "\n",
    "# Set custom x-axis labels\n",
    "fig.update_xaxes(nticks=4)\n",
    "\n",
    "fig.update_layout(yaxis={'categoryorder':'array', 'categoryarray':['house/apart<br>False', 'house/apart<br>True', 'hotel<br>False', 'hotel<br>True']})\n",
    "fig.update_layout(xaxis_showgrid=False, yaxis_showgrid=False, yaxis_title=\"Business\")\n",
    "fig.update_layout(font={'family': 'Courier New, monospace', 'size': 22}, height=550)\n",
    "\n",
    "\n",
    "fig.show()\n",
    "#fig.write_image(\"output/tmp/metrics/paper/recsys_fairnes_{}.eps\".format(\"business\"))    \n",
    "#fig.show(renderer=\"svg\")"
   ]
  },
  {
   "cell_type": "markdown",
   "metadata": {},
   "source": [
    "#### Feature - Business Affinity\n",
    "\n"
   ]
  },
  {
   "cell_type": "code",
   "execution_count": 25,
   "metadata": {},
   "outputs": [],
   "source": [
    "input_models_eval = 'InteractionTraining____mars_gym_model_b___logit_multipli_9dd8714dfd_96b9d686ee'\n",
    "list_input_features    = ['childcare', 'family friendly']\n",
    "input_metrics     = 'true_positive_rate'"
   ]
  },
  {
   "cell_type": "code",
   "execution_count": 26,
   "metadata": {},
   "outputs": [
    {
     "output_type": "execute_result",
     "data": {
      "text/plain": "               feature          sub_key  total_class  total_individuals  \\\nsub                                                                       \n1    childcare.1        childcare        1007         2490                \n0    childcare.0        childcare        3258         9928                \n0    family friendly.0  family friendly  2113         3313                \n1    family friendly.1  family friendly  2384         9105                \n\n     true_positive_rate  true_positive_rate_C  \nsub                                            \n1    0.237465            0.024281              \n0    0.287760            0.013512              \n0    0.200593            0.017856              \n1    0.311986            0.014863              ",
      "text/html": "<div>\n<style scoped>\n    .dataframe tbody tr th:only-of-type {\n        vertical-align: middle;\n    }\n\n    .dataframe tbody tr th {\n        vertical-align: top;\n    }\n\n    .dataframe thead th {\n        text-align: right;\n    }\n</style>\n<table border=\"1\" class=\"dataframe\">\n  <thead>\n    <tr style=\"text-align: right;\">\n      <th></th>\n      <th>feature</th>\n      <th>sub_key</th>\n      <th>total_class</th>\n      <th>total_individuals</th>\n      <th>true_positive_rate</th>\n      <th>true_positive_rate_C</th>\n    </tr>\n    <tr>\n      <th>sub</th>\n      <th></th>\n      <th></th>\n      <th></th>\n      <th></th>\n      <th></th>\n      <th></th>\n    </tr>\n  </thead>\n  <tbody>\n    <tr>\n      <th>1</th>\n      <td>childcare.1</td>\n      <td>childcare</td>\n      <td>1007</td>\n      <td>2490</td>\n      <td>0.237465</td>\n      <td>0.024281</td>\n    </tr>\n    <tr>\n      <th>0</th>\n      <td>childcare.0</td>\n      <td>childcare</td>\n      <td>3258</td>\n      <td>9928</td>\n      <td>0.287760</td>\n      <td>0.013512</td>\n    </tr>\n    <tr>\n      <th>0</th>\n      <td>family friendly.0</td>\n      <td>family friendly</td>\n      <td>2113</td>\n      <td>3313</td>\n      <td>0.200593</td>\n      <td>0.017856</td>\n    </tr>\n    <tr>\n      <th>1</th>\n      <td>family friendly.1</td>\n      <td>family friendly</td>\n      <td>2384</td>\n      <td>9105</td>\n      <td>0.311986</td>\n      <td>0.014863</td>\n    </tr>\n  </tbody>\n</table>\n</div>"
     },
     "metadata": {},
     "execution_count": 26
    }
   ],
   "source": [
    "metrics = []\n",
    "for input_features in list_input_features:\n",
    "    df_all_metrics    = load_fairness_metrics().loc[input_models_eval]\n",
    "    df_instances      = load_fairness_df().loc[input_models_eval]\n",
    "    df_all_metric_filter = df_all_metrics[df_all_metrics.sub_key.isin([input_features])]\n",
    "\n",
    "    columns         = list(np.unique(['sub_key', 'sub', 'feature', 'total_class', 'total_individuals'] + [input_metrics]))\n",
    "    if input_metrics+\"_C\" in df_all_metrics.columns:\n",
    "        columns.append(input_metrics+\"_C\")\n",
    "\n",
    "    df_metrics      = filter_df(df_all_metrics, input_models_eval, columns, 'sub')\n",
    "\n",
    "    df_metrics      = df_metrics[df_metrics.sub_key.isin([input_features])]\n",
    "    if sub_map != None:\n",
    "        df_metrics['sub'] = df_metrics['sub'].map(sub_map)\n",
    "\n",
    "    df_metrics      = df_metrics.sort_values(\"feature\").set_index(\"sub\")\n",
    "    df_metrics      = df_metrics.sort_values(input_metrics)\n",
    "    metrics.append(df_metrics)\n",
    "\n",
    "metrics = pd.concat(metrics)\n",
    "metrics"
   ]
  },
  {
   "cell_type": "code",
   "execution_count": 27,
   "metadata": {},
   "outputs": [
    {
     "output_type": "execute_result",
     "data": {
      "text/plain": "                                    feature          sub_key  total_class  \\\nsub                                                                         \nchildcare<br>True         childcare.1        childcare        1007          \nchildcare<br>False        childcare.0        childcare        3258          \nfamily friendly<br>True   family friendly.0  family friendly  2113          \nfamily friendly<br>False  family friendly.1  family friendly  2384          \n\n                          total_individuals  true_positive_rate  \\\nsub                                                               \nchildcare<br>True         2490               0.237465             \nchildcare<br>False        9928               0.287760             \nfamily friendly<br>True   3313               0.200593             \nfamily friendly<br>False  9105               0.311986             \n\n                          true_positive_rate_C  color  \nsub                                                    \nchildcare<br>True         0.024281              2      \nchildcare<br>False        0.013512              2      \nfamily friendly<br>True   0.017856              5      \nfamily friendly<br>False  0.014863              5      ",
      "text/html": "<div>\n<style scoped>\n    .dataframe tbody tr th:only-of-type {\n        vertical-align: middle;\n    }\n\n    .dataframe tbody tr th {\n        vertical-align: top;\n    }\n\n    .dataframe thead th {\n        text-align: right;\n    }\n</style>\n<table border=\"1\" class=\"dataframe\">\n  <thead>\n    <tr style=\"text-align: right;\">\n      <th></th>\n      <th>feature</th>\n      <th>sub_key</th>\n      <th>total_class</th>\n      <th>total_individuals</th>\n      <th>true_positive_rate</th>\n      <th>true_positive_rate_C</th>\n      <th>color</th>\n    </tr>\n    <tr>\n      <th>sub</th>\n      <th></th>\n      <th></th>\n      <th></th>\n      <th></th>\n      <th></th>\n      <th></th>\n      <th></th>\n    </tr>\n  </thead>\n  <tbody>\n    <tr>\n      <th>childcare&lt;br&gt;True</th>\n      <td>childcare.1</td>\n      <td>childcare</td>\n      <td>1007</td>\n      <td>2490</td>\n      <td>0.237465</td>\n      <td>0.024281</td>\n      <td>2</td>\n    </tr>\n    <tr>\n      <th>childcare&lt;br&gt;False</th>\n      <td>childcare.0</td>\n      <td>childcare</td>\n      <td>3258</td>\n      <td>9928</td>\n      <td>0.287760</td>\n      <td>0.013512</td>\n      <td>2</td>\n    </tr>\n    <tr>\n      <th>family friendly&lt;br&gt;True</th>\n      <td>family friendly.0</td>\n      <td>family friendly</td>\n      <td>2113</td>\n      <td>3313</td>\n      <td>0.200593</td>\n      <td>0.017856</td>\n      <td>5</td>\n    </tr>\n    <tr>\n      <th>family friendly&lt;br&gt;False</th>\n      <td>family friendly.1</td>\n      <td>family friendly</td>\n      <td>2384</td>\n      <td>9105</td>\n      <td>0.311986</td>\n      <td>0.014863</td>\n      <td>5</td>\n    </tr>\n  </tbody>\n</table>\n</div>"
     },
     "metadata": {},
     "execution_count": 27
    }
   ],
   "source": [
    "metrics.reset_index()\n",
    "metrics['sub'] = ['childcare<br>True', 'childcare<br>False', 'family friendly<br>True', 'family friendly<br>False']\n",
    "metrics['color'] = [2,2, 5,5]\n",
    "metrics = metrics.set_index('sub')\n",
    "metrics"
   ]
  },
  {
   "cell_type": "code",
   "execution_count": 28,
   "metadata": {},
   "outputs": [
    {
     "output_type": "display_data",
     "data": {
      "application/vnd.plotly.v1+json": {
       "config": {
        "plotlyServerURL": "https://plot.ly"
       },
       "data": [
        {
         "error_x": {
          "array": [
           0.024280997706685955,
           0.013512349576754215,
           0.017856184951342592,
           0.01486349284279912
          ],
          "type": "data"
         },
         "marker": {
          "color": [
           "rgb(103, 219, 165)",
           "rgb(103, 219, 165)",
           "rgb(44, 152, 160)",
           "rgb(44, 152, 160)"
          ]
         },
         "orientation": "h",
         "type": "bar",
         "x": [
          0.23746490387655814,
          0.287760222726847,
          0.2005926436392602,
          0.31198632092779505
         ],
         "y": [
          "childcare<br>True",
          "childcare<br>False",
          "family friendly<br>True",
          "family friendly<br>False"
         ]
        }
       ],
       "layout": {
        "font": {
         "family": "Courier New, monospace",
         "size": 22
        },
        "height": 550,
        "legend": {
         "orientation": "h",
         "y": -0.2
        },
        "shapes": [
         {
          "line": {
           "dash": "dot",
           "width": 1
          },
          "type": "line",
          "x0": 0,
          "x1": 1,
          "xref": "paper",
          "y0": 1.5,
          "y1": 1.5,
          "yref": "y"
         }
        ],
        "template": {
         "data": {
          "bar": [
           {
            "error_x": {
             "color": "#2a3f5f"
            },
            "error_y": {
             "color": "#2a3f5f"
            },
            "marker": {
             "line": {
              "color": "white",
              "width": 0.5
             }
            },
            "type": "bar"
           }
          ],
          "barpolar": [
           {
            "marker": {
             "line": {
              "color": "white",
              "width": 0.5
             }
            },
            "type": "barpolar"
           }
          ],
          "carpet": [
           {
            "aaxis": {
             "endlinecolor": "#2a3f5f",
             "gridcolor": "#C8D4E3",
             "linecolor": "#C8D4E3",
             "minorgridcolor": "#C8D4E3",
             "startlinecolor": "#2a3f5f"
            },
            "baxis": {
             "endlinecolor": "#2a3f5f",
             "gridcolor": "#C8D4E3",
             "linecolor": "#C8D4E3",
             "minorgridcolor": "#C8D4E3",
             "startlinecolor": "#2a3f5f"
            },
            "type": "carpet"
           }
          ],
          "choropleth": [
           {
            "colorbar": {
             "outlinewidth": 0,
             "ticks": ""
            },
            "type": "choropleth"
           }
          ],
          "contour": [
           {
            "colorbar": {
             "outlinewidth": 0,
             "ticks": ""
            },
            "colorscale": [
             [
              0,
              "#0d0887"
             ],
             [
              0.1111111111111111,
              "#46039f"
             ],
             [
              0.2222222222222222,
              "#7201a8"
             ],
             [
              0.3333333333333333,
              "#9c179e"
             ],
             [
              0.4444444444444444,
              "#bd3786"
             ],
             [
              0.5555555555555556,
              "#d8576b"
             ],
             [
              0.6666666666666666,
              "#ed7953"
             ],
             [
              0.7777777777777778,
              "#fb9f3a"
             ],
             [
              0.8888888888888888,
              "#fdca26"
             ],
             [
              1,
              "#f0f921"
             ]
            ],
            "type": "contour"
           }
          ],
          "contourcarpet": [
           {
            "colorbar": {
             "outlinewidth": 0,
             "ticks": ""
            },
            "type": "contourcarpet"
           }
          ],
          "heatmap": [
           {
            "colorbar": {
             "outlinewidth": 0,
             "ticks": ""
            },
            "colorscale": [
             [
              0,
              "#0d0887"
             ],
             [
              0.1111111111111111,
              "#46039f"
             ],
             [
              0.2222222222222222,
              "#7201a8"
             ],
             [
              0.3333333333333333,
              "#9c179e"
             ],
             [
              0.4444444444444444,
              "#bd3786"
             ],
             [
              0.5555555555555556,
              "#d8576b"
             ],
             [
              0.6666666666666666,
              "#ed7953"
             ],
             [
              0.7777777777777778,
              "#fb9f3a"
             ],
             [
              0.8888888888888888,
              "#fdca26"
             ],
             [
              1,
              "#f0f921"
             ]
            ],
            "type": "heatmap"
           }
          ],
          "heatmapgl": [
           {
            "colorbar": {
             "outlinewidth": 0,
             "ticks": ""
            },
            "colorscale": [
             [
              0,
              "#0d0887"
             ],
             [
              0.1111111111111111,
              "#46039f"
             ],
             [
              0.2222222222222222,
              "#7201a8"
             ],
             [
              0.3333333333333333,
              "#9c179e"
             ],
             [
              0.4444444444444444,
              "#bd3786"
             ],
             [
              0.5555555555555556,
              "#d8576b"
             ],
             [
              0.6666666666666666,
              "#ed7953"
             ],
             [
              0.7777777777777778,
              "#fb9f3a"
             ],
             [
              0.8888888888888888,
              "#fdca26"
             ],
             [
              1,
              "#f0f921"
             ]
            ],
            "type": "heatmapgl"
           }
          ],
          "histogram": [
           {
            "marker": {
             "colorbar": {
              "outlinewidth": 0,
              "ticks": ""
             }
            },
            "type": "histogram"
           }
          ],
          "histogram2d": [
           {
            "colorbar": {
             "outlinewidth": 0,
             "ticks": ""
            },
            "colorscale": [
             [
              0,
              "#0d0887"
             ],
             [
              0.1111111111111111,
              "#46039f"
             ],
             [
              0.2222222222222222,
              "#7201a8"
             ],
             [
              0.3333333333333333,
              "#9c179e"
             ],
             [
              0.4444444444444444,
              "#bd3786"
             ],
             [
              0.5555555555555556,
              "#d8576b"
             ],
             [
              0.6666666666666666,
              "#ed7953"
             ],
             [
              0.7777777777777778,
              "#fb9f3a"
             ],
             [
              0.8888888888888888,
              "#fdca26"
             ],
             [
              1,
              "#f0f921"
             ]
            ],
            "type": "histogram2d"
           }
          ],
          "histogram2dcontour": [
           {
            "colorbar": {
             "outlinewidth": 0,
             "ticks": ""
            },
            "colorscale": [
             [
              0,
              "#0d0887"
             ],
             [
              0.1111111111111111,
              "#46039f"
             ],
             [
              0.2222222222222222,
              "#7201a8"
             ],
             [
              0.3333333333333333,
              "#9c179e"
             ],
             [
              0.4444444444444444,
              "#bd3786"
             ],
             [
              0.5555555555555556,
              "#d8576b"
             ],
             [
              0.6666666666666666,
              "#ed7953"
             ],
             [
              0.7777777777777778,
              "#fb9f3a"
             ],
             [
              0.8888888888888888,
              "#fdca26"
             ],
             [
              1,
              "#f0f921"
             ]
            ],
            "type": "histogram2dcontour"
           }
          ],
          "mesh3d": [
           {
            "colorbar": {
             "outlinewidth": 0,
             "ticks": ""
            },
            "type": "mesh3d"
           }
          ],
          "parcoords": [
           {
            "line": {
             "colorbar": {
              "outlinewidth": 0,
              "ticks": ""
             }
            },
            "type": "parcoords"
           }
          ],
          "pie": [
           {
            "automargin": true,
            "type": "pie"
           }
          ],
          "scatter": [
           {
            "marker": {
             "colorbar": {
              "outlinewidth": 0,
              "ticks": ""
             }
            },
            "type": "scatter"
           }
          ],
          "scatter3d": [
           {
            "line": {
             "colorbar": {
              "outlinewidth": 0,
              "ticks": ""
             }
            },
            "marker": {
             "colorbar": {
              "outlinewidth": 0,
              "ticks": ""
             }
            },
            "type": "scatter3d"
           }
          ],
          "scattercarpet": [
           {
            "marker": {
             "colorbar": {
              "outlinewidth": 0,
              "ticks": ""
             }
            },
            "type": "scattercarpet"
           }
          ],
          "scattergeo": [
           {
            "marker": {
             "colorbar": {
              "outlinewidth": 0,
              "ticks": ""
             }
            },
            "type": "scattergeo"
           }
          ],
          "scattergl": [
           {
            "marker": {
             "colorbar": {
              "outlinewidth": 0,
              "ticks": ""
             }
            },
            "type": "scattergl"
           }
          ],
          "scattermapbox": [
           {
            "marker": {
             "colorbar": {
              "outlinewidth": 0,
              "ticks": ""
             }
            },
            "type": "scattermapbox"
           }
          ],
          "scatterpolar": [
           {
            "marker": {
             "colorbar": {
              "outlinewidth": 0,
              "ticks": ""
             }
            },
            "type": "scatterpolar"
           }
          ],
          "scatterpolargl": [
           {
            "marker": {
             "colorbar": {
              "outlinewidth": 0,
              "ticks": ""
             }
            },
            "type": "scatterpolargl"
           }
          ],
          "scatterternary": [
           {
            "marker": {
             "colorbar": {
              "outlinewidth": 0,
              "ticks": ""
             }
            },
            "type": "scatterternary"
           }
          ],
          "surface": [
           {
            "colorbar": {
             "outlinewidth": 0,
             "ticks": ""
            },
            "colorscale": [
             [
              0,
              "#0d0887"
             ],
             [
              0.1111111111111111,
              "#46039f"
             ],
             [
              0.2222222222222222,
              "#7201a8"
             ],
             [
              0.3333333333333333,
              "#9c179e"
             ],
             [
              0.4444444444444444,
              "#bd3786"
             ],
             [
              0.5555555555555556,
              "#d8576b"
             ],
             [
              0.6666666666666666,
              "#ed7953"
             ],
             [
              0.7777777777777778,
              "#fb9f3a"
             ],
             [
              0.8888888888888888,
              "#fdca26"
             ],
             [
              1,
              "#f0f921"
             ]
            ],
            "type": "surface"
           }
          ],
          "table": [
           {
            "cells": {
             "fill": {
              "color": "#EBF0F8"
             },
             "line": {
              "color": "white"
             }
            },
            "header": {
             "fill": {
              "color": "#C8D4E3"
             },
             "line": {
              "color": "white"
             }
            },
            "type": "table"
           }
          ]
         },
         "layout": {
          "annotationdefaults": {
           "arrowcolor": "#2a3f5f",
           "arrowhead": 0,
           "arrowwidth": 1
          },
          "coloraxis": {
           "colorbar": {
            "outlinewidth": 0,
            "ticks": ""
           }
          },
          "colorscale": {
           "diverging": [
            [
             0,
             "#8e0152"
            ],
            [
             0.1,
             "#c51b7d"
            ],
            [
             0.2,
             "#de77ae"
            ],
            [
             0.3,
             "#f1b6da"
            ],
            [
             0.4,
             "#fde0ef"
            ],
            [
             0.5,
             "#f7f7f7"
            ],
            [
             0.6,
             "#e6f5d0"
            ],
            [
             0.7,
             "#b8e186"
            ],
            [
             0.8,
             "#7fbc41"
            ],
            [
             0.9,
             "#4d9221"
            ],
            [
             1,
             "#276419"
            ]
           ],
           "sequential": [
            [
             0,
             "#0d0887"
            ],
            [
             0.1111111111111111,
             "#46039f"
            ],
            [
             0.2222222222222222,
             "#7201a8"
            ],
            [
             0.3333333333333333,
             "#9c179e"
            ],
            [
             0.4444444444444444,
             "#bd3786"
            ],
            [
             0.5555555555555556,
             "#d8576b"
            ],
            [
             0.6666666666666666,
             "#ed7953"
            ],
            [
             0.7777777777777778,
             "#fb9f3a"
            ],
            [
             0.8888888888888888,
             "#fdca26"
            ],
            [
             1,
             "#f0f921"
            ]
           ],
           "sequentialminus": [
            [
             0,
             "#0d0887"
            ],
            [
             0.1111111111111111,
             "#46039f"
            ],
            [
             0.2222222222222222,
             "#7201a8"
            ],
            [
             0.3333333333333333,
             "#9c179e"
            ],
            [
             0.4444444444444444,
             "#bd3786"
            ],
            [
             0.5555555555555556,
             "#d8576b"
            ],
            [
             0.6666666666666666,
             "#ed7953"
            ],
            [
             0.7777777777777778,
             "#fb9f3a"
            ],
            [
             0.8888888888888888,
             "#fdca26"
            ],
            [
             1,
             "#f0f921"
            ]
           ]
          },
          "colorway": [
           "#636efa",
           "#EF553B",
           "#00cc96",
           "#ab63fa",
           "#FFA15A",
           "#19d3f3",
           "#FF6692",
           "#B6E880",
           "#FF97FF",
           "#FECB52"
          ],
          "font": {
           "color": "#2a3f5f"
          },
          "geo": {
           "bgcolor": "white",
           "lakecolor": "white",
           "landcolor": "white",
           "showlakes": true,
           "showland": true,
           "subunitcolor": "#C8D4E3"
          },
          "hoverlabel": {
           "align": "left"
          },
          "hovermode": "closest",
          "mapbox": {
           "style": "light"
          },
          "paper_bgcolor": "white",
          "plot_bgcolor": "white",
          "polar": {
           "angularaxis": {
            "gridcolor": "#EBF0F8",
            "linecolor": "#EBF0F8",
            "ticks": ""
           },
           "bgcolor": "white",
           "radialaxis": {
            "gridcolor": "#EBF0F8",
            "linecolor": "#EBF0F8",
            "ticks": ""
           }
          },
          "scene": {
           "xaxis": {
            "backgroundcolor": "white",
            "gridcolor": "#DFE8F3",
            "gridwidth": 2,
            "linecolor": "#EBF0F8",
            "showbackground": true,
            "ticks": "",
            "zerolinecolor": "#EBF0F8"
           },
           "yaxis": {
            "backgroundcolor": "white",
            "gridcolor": "#DFE8F3",
            "gridwidth": 2,
            "linecolor": "#EBF0F8",
            "showbackground": true,
            "ticks": "",
            "zerolinecolor": "#EBF0F8"
           },
           "zaxis": {
            "backgroundcolor": "white",
            "gridcolor": "#DFE8F3",
            "gridwidth": 2,
            "linecolor": "#EBF0F8",
            "showbackground": true,
            "ticks": "",
            "zerolinecolor": "#EBF0F8"
           }
          },
          "shapedefaults": {
           "line": {
            "color": "#2a3f5f"
           }
          },
          "ternary": {
           "aaxis": {
            "gridcolor": "#DFE8F3",
            "linecolor": "#A2B1C6",
            "ticks": ""
           },
           "baxis": {
            "gridcolor": "#DFE8F3",
            "linecolor": "#A2B1C6",
            "ticks": ""
           },
           "bgcolor": "white",
           "caxis": {
            "gridcolor": "#DFE8F3",
            "linecolor": "#A2B1C6",
            "ticks": ""
           }
          },
          "title": {
           "x": 0.05
          },
          "xaxis": {
           "automargin": true,
           "gridcolor": "#EBF0F8",
           "linecolor": "#EBF0F8",
           "ticks": "",
           "title": {
            "standoff": 15
           },
           "zerolinecolor": "#EBF0F8",
           "zerolinewidth": 2
          },
          "yaxis": {
           "automargin": true,
           "gridcolor": "#EBF0F8",
           "linecolor": "#EBF0F8",
           "ticks": "",
           "title": {
            "standoff": 15
           },
           "zerolinecolor": "#EBF0F8",
           "zerolinewidth": 2
          }
         }
        },
        "title": {
         "text": ""
        },
        "xaxis": {
         "nticks": 4,
         "showgrid": false,
         "title": {
          "text": "true_positive_rate"
         }
        },
        "yaxis": {
         "categoryarray": [
          "childcare<br>False",
          "childcare<br>True",
          "family friendly<br>False",
          "family friendly<br>True"
         ],
         "categoryorder": "array",
         "showgrid": false,
         "title": {
          "text": "Business"
         }
        }
       }
      }
     },
     "metadata": {}
    }
   ],
   "source": [
    "fig = plot_fairness_mistreatment(metrics, input_metrics, title=\"\")\n",
    "\n",
    "\n",
    "\n",
    "fig.update_layout(shapes=[\n",
    "  dict(\n",
    "    type= 'line',\n",
    "    line=dict(\n",
    "        width=1,\n",
    "        dash=\"dot\",\n",
    "    ),        \n",
    "    xref='paper', x0= 0, x1= 1,\n",
    "    yref='y',     y0= 1.5, y1= 1.5\n",
    "  )\n",
    "])\n",
    "\n",
    "# Set custom x-axis labels\n",
    "fig.update_xaxes(nticks=4)\n",
    "\n",
    "fig.update_layout(yaxis={'categoryorder':'array', 'categoryarray':['childcare<br>False', 'childcare<br>True', 'family friendly<br>False', 'family friendly<br>True']})\n",
    "fig.update_layout(xaxis_showgrid=False, yaxis_showgrid=False, yaxis_title=\"Business\")\n",
    "fig.update_layout(font={'family': 'Courier New, monospace', 'size': 22}, height=550)\n",
    "\n",
    "\n",
    "\n",
    "fig.show()\n",
    "#fig.write_image(\"output/tmp/metrics/paper/recsys_fairnes_{}.eps\".format(\"businesscare\"))    \n",
    "#fig.show(renderer=\"svg\")"
   ]
  },
  {
   "cell_type": "code",
   "execution_count": null,
   "metadata": {},
   "outputs": [],
   "source": []
  },
  {
   "cell_type": "markdown",
   "metadata": {},
   "source": [
    "#### Feature - City"
   ]
  },
  {
   "cell_type": "code",
   "execution_count": 29,
   "metadata": {},
   "outputs": [],
   "source": [
    "input_models_eval = 'InteractionTraining____mars_gym_model_b___logit_multipli_9dd8714dfd_96b9d686ee'\n",
    "input_features    = 'city_idx'\n",
    "input_metrics     = 'true_positive_rate'"
   ]
  },
  {
   "cell_type": "code",
   "execution_count": 30,
   "metadata": {},
   "outputs": [],
   "source": [
    "sub_map = {'0': \"Boston\",\n",
    "            '1': \"Como\",\n",
    "            '2': \"Chicago\",\n",
    "            '3': \"Lausanne\",\n",
    "            '4': \"Dublin\",\n",
    "            '5': \"Rio de Janeiro\",\n",
    "            '6': \"Barcelona\",\n",
    "            '7': \"Copenhagen\",\n",
    "            '8': \"Vienna\",\n",
    "            '9': \"New York\",\n",
    "            '10': \"Hong Kong\",\n",
    "            '11': \"Vancouver\"}\n",
    "\n",
    "fig, df_metrics, df_total = plot_fairness_metrics(input_models_eval, input_features, input_metrics, sub_map = sub_map)            "
   ]
  },
  {
   "cell_type": "code",
   "execution_count": 31,
   "metadata": {},
   "outputs": [
    {
     "output_type": "display_data",
     "data": {
      "application/vnd.plotly.v1+json": {
       "config": {
        "plotlyServerURL": "https://plot.ly"
       },
       "data": [
        {
         "error_x": {
          "array": [
           0.16483524552302928,
           0.041650477069622764,
           0.05727762786965144,
           0.037876047322174033,
           0.02993755970856302,
           0.03161661057003146,
           0.0824746955900816,
           0.08552886526732101,
           0.039507683631567536,
           0.0647105694127374,
           0.02675609571268609,
           0.24002335665827296
          ],
          "type": "data"
         },
         "marker": {
          "color": [
           0,
           1,
           2,
           3,
           4,
           5,
           6,
           7,
           8,
           9,
           10,
           11
          ],
          "colorscale": [
           [
            0,
            "rgb(176, 242, 188)"
           ],
           [
            0.16666666666666666,
            "rgb(137, 232, 172)"
           ],
           [
            0.3333333333333333,
            "rgb(103, 219, 165)"
           ],
           [
            0.5,
            "rgb(76, 200, 163)"
           ],
           [
            0.6666666666666666,
            "rgb(56, 178, 163)"
           ],
           [
            0.8333333333333334,
            "rgb(44, 152, 160)"
           ],
           [
            1,
            "rgb(37, 125, 152)"
           ]
          ]
         },
         "orientation": "h",
         "type": "bar",
         "x": [
          0.18421052631578946,
          0.2529075343063283,
          0.28952801108788506,
          0.29110487187293177,
          0.2916910982734073,
          0.29718205314688123,
          0.3090088383838384,
          0.3132959734329597,
          0.3236781450429776,
          0.3349471861471861,
          0.3360587371957656,
          0.4509803921568627
         ],
         "y": [
          "Como",
          "Dublin",
          "Copenhagen",
          "Vienna",
          "Barcelona",
          "Rio de Janeiro",
          "Boston",
          "Vancouver",
          "Hong Kong",
          "Chicago",
          "New York",
          "Lausanne"
         ]
        }
       ],
       "layout": {
        "font": {
         "family": "Courier New, monospace",
         "size": 17
        },
        "height": 550,
        "legend": {
         "orientation": "h",
         "y": -0.2
        },
        "shapes": [
         {
          "line": {
           "dash": "dot",
           "width": 1
          },
          "type": "line",
          "x0": 0.3062161139469011,
          "x1": 0.3062161139469011,
          "xref": "x",
          "y0": 0,
          "y1": 1,
          "yref": "paper"
         }
        ],
        "template": {
         "data": {
          "bar": [
           {
            "error_x": {
             "color": "#2a3f5f"
            },
            "error_y": {
             "color": "#2a3f5f"
            },
            "marker": {
             "line": {
              "color": "white",
              "width": 0.5
             }
            },
            "type": "bar"
           }
          ],
          "barpolar": [
           {
            "marker": {
             "line": {
              "color": "white",
              "width": 0.5
             }
            },
            "type": "barpolar"
           }
          ],
          "carpet": [
           {
            "aaxis": {
             "endlinecolor": "#2a3f5f",
             "gridcolor": "#C8D4E3",
             "linecolor": "#C8D4E3",
             "minorgridcolor": "#C8D4E3",
             "startlinecolor": "#2a3f5f"
            },
            "baxis": {
             "endlinecolor": "#2a3f5f",
             "gridcolor": "#C8D4E3",
             "linecolor": "#C8D4E3",
             "minorgridcolor": "#C8D4E3",
             "startlinecolor": "#2a3f5f"
            },
            "type": "carpet"
           }
          ],
          "choropleth": [
           {
            "colorbar": {
             "outlinewidth": 0,
             "ticks": ""
            },
            "type": "choropleth"
           }
          ],
          "contour": [
           {
            "colorbar": {
             "outlinewidth": 0,
             "ticks": ""
            },
            "colorscale": [
             [
              0,
              "#0d0887"
             ],
             [
              0.1111111111111111,
              "#46039f"
             ],
             [
              0.2222222222222222,
              "#7201a8"
             ],
             [
              0.3333333333333333,
              "#9c179e"
             ],
             [
              0.4444444444444444,
              "#bd3786"
             ],
             [
              0.5555555555555556,
              "#d8576b"
             ],
             [
              0.6666666666666666,
              "#ed7953"
             ],
             [
              0.7777777777777778,
              "#fb9f3a"
             ],
             [
              0.8888888888888888,
              "#fdca26"
             ],
             [
              1,
              "#f0f921"
             ]
            ],
            "type": "contour"
           }
          ],
          "contourcarpet": [
           {
            "colorbar": {
             "outlinewidth": 0,
             "ticks": ""
            },
            "type": "contourcarpet"
           }
          ],
          "heatmap": [
           {
            "colorbar": {
             "outlinewidth": 0,
             "ticks": ""
            },
            "colorscale": [
             [
              0,
              "#0d0887"
             ],
             [
              0.1111111111111111,
              "#46039f"
             ],
             [
              0.2222222222222222,
              "#7201a8"
             ],
             [
              0.3333333333333333,
              "#9c179e"
             ],
             [
              0.4444444444444444,
              "#bd3786"
             ],
             [
              0.5555555555555556,
              "#d8576b"
             ],
             [
              0.6666666666666666,
              "#ed7953"
             ],
             [
              0.7777777777777778,
              "#fb9f3a"
             ],
             [
              0.8888888888888888,
              "#fdca26"
             ],
             [
              1,
              "#f0f921"
             ]
            ],
            "type": "heatmap"
           }
          ],
          "heatmapgl": [
           {
            "colorbar": {
             "outlinewidth": 0,
             "ticks": ""
            },
            "colorscale": [
             [
              0,
              "#0d0887"
             ],
             [
              0.1111111111111111,
              "#46039f"
             ],
             [
              0.2222222222222222,
              "#7201a8"
             ],
             [
              0.3333333333333333,
              "#9c179e"
             ],
             [
              0.4444444444444444,
              "#bd3786"
             ],
             [
              0.5555555555555556,
              "#d8576b"
             ],
             [
              0.6666666666666666,
              "#ed7953"
             ],
             [
              0.7777777777777778,
              "#fb9f3a"
             ],
             [
              0.8888888888888888,
              "#fdca26"
             ],
             [
              1,
              "#f0f921"
             ]
            ],
            "type": "heatmapgl"
           }
          ],
          "histogram": [
           {
            "marker": {
             "colorbar": {
              "outlinewidth": 0,
              "ticks": ""
             }
            },
            "type": "histogram"
           }
          ],
          "histogram2d": [
           {
            "colorbar": {
             "outlinewidth": 0,
             "ticks": ""
            },
            "colorscale": [
             [
              0,
              "#0d0887"
             ],
             [
              0.1111111111111111,
              "#46039f"
             ],
             [
              0.2222222222222222,
              "#7201a8"
             ],
             [
              0.3333333333333333,
              "#9c179e"
             ],
             [
              0.4444444444444444,
              "#bd3786"
             ],
             [
              0.5555555555555556,
              "#d8576b"
             ],
             [
              0.6666666666666666,
              "#ed7953"
             ],
             [
              0.7777777777777778,
              "#fb9f3a"
             ],
             [
              0.8888888888888888,
              "#fdca26"
             ],
             [
              1,
              "#f0f921"
             ]
            ],
            "type": "histogram2d"
           }
          ],
          "histogram2dcontour": [
           {
            "colorbar": {
             "outlinewidth": 0,
             "ticks": ""
            },
            "colorscale": [
             [
              0,
              "#0d0887"
             ],
             [
              0.1111111111111111,
              "#46039f"
             ],
             [
              0.2222222222222222,
              "#7201a8"
             ],
             [
              0.3333333333333333,
              "#9c179e"
             ],
             [
              0.4444444444444444,
              "#bd3786"
             ],
             [
              0.5555555555555556,
              "#d8576b"
             ],
             [
              0.6666666666666666,
              "#ed7953"
             ],
             [
              0.7777777777777778,
              "#fb9f3a"
             ],
             [
              0.8888888888888888,
              "#fdca26"
             ],
             [
              1,
              "#f0f921"
             ]
            ],
            "type": "histogram2dcontour"
           }
          ],
          "mesh3d": [
           {
            "colorbar": {
             "outlinewidth": 0,
             "ticks": ""
            },
            "type": "mesh3d"
           }
          ],
          "parcoords": [
           {
            "line": {
             "colorbar": {
              "outlinewidth": 0,
              "ticks": ""
             }
            },
            "type": "parcoords"
           }
          ],
          "pie": [
           {
            "automargin": true,
            "type": "pie"
           }
          ],
          "scatter": [
           {
            "marker": {
             "colorbar": {
              "outlinewidth": 0,
              "ticks": ""
             }
            },
            "type": "scatter"
           }
          ],
          "scatter3d": [
           {
            "line": {
             "colorbar": {
              "outlinewidth": 0,
              "ticks": ""
             }
            },
            "marker": {
             "colorbar": {
              "outlinewidth": 0,
              "ticks": ""
             }
            },
            "type": "scatter3d"
           }
          ],
          "scattercarpet": [
           {
            "marker": {
             "colorbar": {
              "outlinewidth": 0,
              "ticks": ""
             }
            },
            "type": "scattercarpet"
           }
          ],
          "scattergeo": [
           {
            "marker": {
             "colorbar": {
              "outlinewidth": 0,
              "ticks": ""
             }
            },
            "type": "scattergeo"
           }
          ],
          "scattergl": [
           {
            "marker": {
             "colorbar": {
              "outlinewidth": 0,
              "ticks": ""
             }
            },
            "type": "scattergl"
           }
          ],
          "scattermapbox": [
           {
            "marker": {
             "colorbar": {
              "outlinewidth": 0,
              "ticks": ""
             }
            },
            "type": "scattermapbox"
           }
          ],
          "scatterpolar": [
           {
            "marker": {
             "colorbar": {
              "outlinewidth": 0,
              "ticks": ""
             }
            },
            "type": "scatterpolar"
           }
          ],
          "scatterpolargl": [
           {
            "marker": {
             "colorbar": {
              "outlinewidth": 0,
              "ticks": ""
             }
            },
            "type": "scatterpolargl"
           }
          ],
          "scatterternary": [
           {
            "marker": {
             "colorbar": {
              "outlinewidth": 0,
              "ticks": ""
             }
            },
            "type": "scatterternary"
           }
          ],
          "surface": [
           {
            "colorbar": {
             "outlinewidth": 0,
             "ticks": ""
            },
            "colorscale": [
             [
              0,
              "#0d0887"
             ],
             [
              0.1111111111111111,
              "#46039f"
             ],
             [
              0.2222222222222222,
              "#7201a8"
             ],
             [
              0.3333333333333333,
              "#9c179e"
             ],
             [
              0.4444444444444444,
              "#bd3786"
             ],
             [
              0.5555555555555556,
              "#d8576b"
             ],
             [
              0.6666666666666666,
              "#ed7953"
             ],
             [
              0.7777777777777778,
              "#fb9f3a"
             ],
             [
              0.8888888888888888,
              "#fdca26"
             ],
             [
              1,
              "#f0f921"
             ]
            ],
            "type": "surface"
           }
          ],
          "table": [
           {
            "cells": {
             "fill": {
              "color": "#EBF0F8"
             },
             "line": {
              "color": "white"
             }
            },
            "header": {
             "fill": {
              "color": "#C8D4E3"
             },
             "line": {
              "color": "white"
             }
            },
            "type": "table"
           }
          ]
         },
         "layout": {
          "annotationdefaults": {
           "arrowcolor": "#2a3f5f",
           "arrowhead": 0,
           "arrowwidth": 1
          },
          "coloraxis": {
           "colorbar": {
            "outlinewidth": 0,
            "ticks": ""
           }
          },
          "colorscale": {
           "diverging": [
            [
             0,
             "#8e0152"
            ],
            [
             0.1,
             "#c51b7d"
            ],
            [
             0.2,
             "#de77ae"
            ],
            [
             0.3,
             "#f1b6da"
            ],
            [
             0.4,
             "#fde0ef"
            ],
            [
             0.5,
             "#f7f7f7"
            ],
            [
             0.6,
             "#e6f5d0"
            ],
            [
             0.7,
             "#b8e186"
            ],
            [
             0.8,
             "#7fbc41"
            ],
            [
             0.9,
             "#4d9221"
            ],
            [
             1,
             "#276419"
            ]
           ],
           "sequential": [
            [
             0,
             "#0d0887"
            ],
            [
             0.1111111111111111,
             "#46039f"
            ],
            [
             0.2222222222222222,
             "#7201a8"
            ],
            [
             0.3333333333333333,
             "#9c179e"
            ],
            [
             0.4444444444444444,
             "#bd3786"
            ],
            [
             0.5555555555555556,
             "#d8576b"
            ],
            [
             0.6666666666666666,
             "#ed7953"
            ],
            [
             0.7777777777777778,
             "#fb9f3a"
            ],
            [
             0.8888888888888888,
             "#fdca26"
            ],
            [
             1,
             "#f0f921"
            ]
           ],
           "sequentialminus": [
            [
             0,
             "#0d0887"
            ],
            [
             0.1111111111111111,
             "#46039f"
            ],
            [
             0.2222222222222222,
             "#7201a8"
            ],
            [
             0.3333333333333333,
             "#9c179e"
            ],
            [
             0.4444444444444444,
             "#bd3786"
            ],
            [
             0.5555555555555556,
             "#d8576b"
            ],
            [
             0.6666666666666666,
             "#ed7953"
            ],
            [
             0.7777777777777778,
             "#fb9f3a"
            ],
            [
             0.8888888888888888,
             "#fdca26"
            ],
            [
             1,
             "#f0f921"
            ]
           ]
          },
          "colorway": [
           "#636efa",
           "#EF553B",
           "#00cc96",
           "#ab63fa",
           "#FFA15A",
           "#19d3f3",
           "#FF6692",
           "#B6E880",
           "#FF97FF",
           "#FECB52"
          ],
          "font": {
           "color": "#2a3f5f"
          },
          "geo": {
           "bgcolor": "white",
           "lakecolor": "white",
           "landcolor": "white",
           "showlakes": true,
           "showland": true,
           "subunitcolor": "#C8D4E3"
          },
          "hoverlabel": {
           "align": "left"
          },
          "hovermode": "closest",
          "mapbox": {
           "style": "light"
          },
          "paper_bgcolor": "white",
          "plot_bgcolor": "white",
          "polar": {
           "angularaxis": {
            "gridcolor": "#EBF0F8",
            "linecolor": "#EBF0F8",
            "ticks": ""
           },
           "bgcolor": "white",
           "radialaxis": {
            "gridcolor": "#EBF0F8",
            "linecolor": "#EBF0F8",
            "ticks": ""
           }
          },
          "scene": {
           "xaxis": {
            "backgroundcolor": "white",
            "gridcolor": "#DFE8F3",
            "gridwidth": 2,
            "linecolor": "#EBF0F8",
            "showbackground": true,
            "ticks": "",
            "zerolinecolor": "#EBF0F8"
           },
           "yaxis": {
            "backgroundcolor": "white",
            "gridcolor": "#DFE8F3",
            "gridwidth": 2,
            "linecolor": "#EBF0F8",
            "showbackground": true,
            "ticks": "",
            "zerolinecolor": "#EBF0F8"
           },
           "zaxis": {
            "backgroundcolor": "white",
            "gridcolor": "#DFE8F3",
            "gridwidth": 2,
            "linecolor": "#EBF0F8",
            "showbackground": true,
            "ticks": "",
            "zerolinecolor": "#EBF0F8"
           }
          },
          "shapedefaults": {
           "line": {
            "color": "#2a3f5f"
           }
          },
          "ternary": {
           "aaxis": {
            "gridcolor": "#DFE8F3",
            "linecolor": "#A2B1C6",
            "ticks": ""
           },
           "baxis": {
            "gridcolor": "#DFE8F3",
            "linecolor": "#A2B1C6",
            "ticks": ""
           },
           "bgcolor": "white",
           "caxis": {
            "gridcolor": "#DFE8F3",
            "linecolor": "#A2B1C6",
            "ticks": ""
           }
          },
          "title": {
           "x": 0.05
          },
          "xaxis": {
           "automargin": true,
           "gridcolor": "#EBF0F8",
           "linecolor": "#EBF0F8",
           "ticks": "",
           "title": {
            "standoff": 15
           },
           "zerolinecolor": "#EBF0F8",
           "zerolinewidth": 2
          },
          "yaxis": {
           "automargin": true,
           "gridcolor": "#EBF0F8",
           "linecolor": "#EBF0F8",
           "ticks": "",
           "title": {
            "standoff": 15
           },
           "zerolinecolor": "#EBF0F8",
           "zerolinewidth": 2
          }
         }
        },
        "title": {
         "text": ""
        },
        "xaxis": {
         "showgrid": false,
         "title": {
          "text": "true_positive_rate"
         }
        },
        "yaxis": {
         "showgrid": false,
         "title": {
          "text": "city_idx"
         }
        }
       }
      }
     },
     "metadata": {}
    }
   ],
   "source": [
    "fig.show()\n",
    "#fig.write_image(\"output/tmp/metrics/recsys_fairnes_{}.eps\".format(input_features))    "
   ]
  },
  {
   "cell_type": "code",
   "execution_count": 32,
   "metadata": {},
   "outputs": [
    {
     "output_type": "execute_result",
     "data": {
      "text/plain": "               feature   sub_key  total_class  total_individuals  \\\nsub                                                                \nComo        city_idx.1  city_idx  34           30                  \nDublin      city_idx.4  city_idx  265          1035                \nCopenhagen  city_idx.7  city_idx  127          572                 \nVienna      city_idx.8  city_idx  379          1282                \nBarcelona   city_idx.6  city_idx  640          1652                \n\n            true_positive_rate  true_positive_rate_C  \nsub                                                   \nComo        0.184211            0.164835              \nDublin      0.252908            0.041650              \nCopenhagen  0.289528            0.057278              \nVienna      0.291105            0.037876              \nBarcelona   0.291691            0.029938              ",
      "text/html": "<div>\n<style scoped>\n    .dataframe tbody tr th:only-of-type {\n        vertical-align: middle;\n    }\n\n    .dataframe tbody tr th {\n        vertical-align: top;\n    }\n\n    .dataframe thead th {\n        text-align: right;\n    }\n</style>\n<table border=\"1\" class=\"dataframe\">\n  <thead>\n    <tr style=\"text-align: right;\">\n      <th></th>\n      <th>feature</th>\n      <th>sub_key</th>\n      <th>total_class</th>\n      <th>total_individuals</th>\n      <th>true_positive_rate</th>\n      <th>true_positive_rate_C</th>\n    </tr>\n    <tr>\n      <th>sub</th>\n      <th></th>\n      <th></th>\n      <th></th>\n      <th></th>\n      <th></th>\n      <th></th>\n    </tr>\n  </thead>\n  <tbody>\n    <tr>\n      <th>Como</th>\n      <td>city_idx.1</td>\n      <td>city_idx</td>\n      <td>34</td>\n      <td>30</td>\n      <td>0.184211</td>\n      <td>0.164835</td>\n    </tr>\n    <tr>\n      <th>Dublin</th>\n      <td>city_idx.4</td>\n      <td>city_idx</td>\n      <td>265</td>\n      <td>1035</td>\n      <td>0.252908</td>\n      <td>0.041650</td>\n    </tr>\n    <tr>\n      <th>Copenhagen</th>\n      <td>city_idx.7</td>\n      <td>city_idx</td>\n      <td>127</td>\n      <td>572</td>\n      <td>0.289528</td>\n      <td>0.057278</td>\n    </tr>\n    <tr>\n      <th>Vienna</th>\n      <td>city_idx.8</td>\n      <td>city_idx</td>\n      <td>379</td>\n      <td>1282</td>\n      <td>0.291105</td>\n      <td>0.037876</td>\n    </tr>\n    <tr>\n      <th>Barcelona</th>\n      <td>city_idx.6</td>\n      <td>city_idx</td>\n      <td>640</td>\n      <td>1652</td>\n      <td>0.291691</td>\n      <td>0.029938</td>\n    </tr>\n  </tbody>\n</table>\n</div>"
     },
     "metadata": {},
     "execution_count": 32
    }
   ],
   "source": [
    "df_metrics.head()"
   ]
  },
  {
   "cell_type": "code",
   "execution_count": null,
   "metadata": {},
   "outputs": [],
   "source": []
  },
  {
   "cell_type": "markdown",
   "metadata": {},
   "source": [
    "#### Feature Device"
   ]
  },
  {
   "cell_type": "code",
   "execution_count": 33,
   "metadata": {},
   "outputs": [],
   "source": [
    "input_models_eval = 'InteractionTraining____mars_gym_model_b___logit_multipli_9dd8714dfd_96b9d686ee'\n",
    "df_instances      = load_fairness_df().loc[input_models_eval]\n",
    "\n",
    "input_features    = 'device_idx'\n",
    "input_metrics     = 'true_positive_rate'\n",
    "input_items_top = True\n",
    "input_items     = []"
   ]
  },
  {
   "cell_type": "code",
   "execution_count": 4,
   "metadata": {},
   "outputs": [
    {
     "output_type": "execute_result",
     "data": {
      "text/plain": "                                                                                item_idx  \\\npath                                                                                       \nInteractionTraining____mars_gym_model_b___logit_multipli_9dd8714dfd_96b9d686ee  7915       \nInteractionTraining____mars_gym_model_b___logit_multipli_9dd8714dfd_96b9d686ee  195        \nInteractionTraining____mars_gym_model_b___logit_multipli_9dd8714dfd_96b9d686ee  4070       \nInteractionTraining____mars_gym_model_b___logit_multipli_9dd8714dfd_96b9d686ee  297        \nInteractionTraining____mars_gym_model_b___logit_multipli_9dd8714dfd_96b9d686ee  6321       \n...                                                                             ...        \nInteractionTraining____mars_gym_model_b___logit_multipli_9dd8714dfd_96b9d686ee  177        \nInteractionTraining____mars_gym_model_b___logit_multipli_9dd8714dfd_96b9d686ee  3366       \nInteractionTraining____mars_gym_model_b___logit_multipli_9dd8714dfd_96b9d686ee  10316      \nInteractionTraining____mars_gym_model_b___logit_multipli_9dd8714dfd_96b9d686ee  10316      \nInteractionTraining____mars_gym_model_b___logit_multipli_9dd8714dfd_96b9d686ee  5882       \n\n                                                                                action  \\\npath                                                                                     \nInteractionTraining____mars_gym_model_b___logit_multipli_9dd8714dfd_96b9d686ee  7915     \nInteractionTraining____mars_gym_model_b___logit_multipli_9dd8714dfd_96b9d686ee  7915     \nInteractionTraining____mars_gym_model_b___logit_multipli_9dd8714dfd_96b9d686ee  7915     \nInteractionTraining____mars_gym_model_b___logit_multipli_9dd8714dfd_96b9d686ee  7915     \nInteractionTraining____mars_gym_model_b___logit_multipli_9dd8714dfd_96b9d686ee  7915     \n...                                                                              ...     \nInteractionTraining____mars_gym_model_b___logit_multipli_9dd8714dfd_96b9d686ee  6254     \nInteractionTraining____mars_gym_model_b___logit_multipli_9dd8714dfd_96b9d686ee  6254     \nInteractionTraining____mars_gym_model_b___logit_multipli_9dd8714dfd_96b9d686ee  10316    \nInteractionTraining____mars_gym_model_b___logit_multipli_9dd8714dfd_96b9d686ee  10316    \nInteractionTraining____mars_gym_model_b___logit_multipli_9dd8714dfd_96b9d686ee  12000    \n\n                                                                                rewards  \\\npath                                                                                      \nInteractionTraining____mars_gym_model_b___logit_multipli_9dd8714dfd_96b9d686ee  1         \nInteractionTraining____mars_gym_model_b___logit_multipli_9dd8714dfd_96b9d686ee  0         \nInteractionTraining____mars_gym_model_b___logit_multipli_9dd8714dfd_96b9d686ee  0         \nInteractionTraining____mars_gym_model_b___logit_multipli_9dd8714dfd_96b9d686ee  0         \nInteractionTraining____mars_gym_model_b___logit_multipli_9dd8714dfd_96b9d686ee  0         \n...                                                                            ..         \nInteractionTraining____mars_gym_model_b___logit_multipli_9dd8714dfd_96b9d686ee  0         \nInteractionTraining____mars_gym_model_b___logit_multipli_9dd8714dfd_96b9d686ee  0         \nInteractionTraining____mars_gym_model_b___logit_multipli_9dd8714dfd_96b9d686ee  1         \nInteractionTraining____mars_gym_model_b___logit_multipli_9dd8714dfd_96b9d686ee  1         \nInteractionTraining____mars_gym_model_b___logit_multipli_9dd8714dfd_96b9d686ee  0         \n\n                                                                                rhat_scores  \\\npath                                                                                          \nInteractionTraining____mars_gym_model_b___logit_multipli_9dd8714dfd_96b9d686ee  0.999992      \nInteractionTraining____mars_gym_model_b___logit_multipli_9dd8714dfd_96b9d686ee  0.032684      \nInteractionTraining____mars_gym_model_b___logit_multipli_9dd8714dfd_96b9d686ee  0.031409      \nInteractionTraining____mars_gym_model_b___logit_multipli_9dd8714dfd_96b9d686ee  0.048923      \nInteractionTraining____mars_gym_model_b___logit_multipli_9dd8714dfd_96b9d686ee  0.046961      \n...                                                                                  ...      \nInteractionTraining____mars_gym_model_b___logit_multipli_9dd8714dfd_96b9d686ee  0.983843      \nInteractionTraining____mars_gym_model_b___logit_multipli_9dd8714dfd_96b9d686ee  0.841496      \nInteractionTraining____mars_gym_model_b___logit_multipli_9dd8714dfd_96b9d686ee  0.023719      \nInteractionTraining____mars_gym_model_b___logit_multipli_9dd8714dfd_96b9d686ee  0.023719      \nInteractionTraining____mars_gym_model_b___logit_multipli_9dd8714dfd_96b9d686ee  0.663123      \n\n                                                                                device_idx  \\\npath                                                                                         \nInteractionTraining____mars_gym_model_b___logit_multipli_9dd8714dfd_96b9d686ee  1            \nInteractionTraining____mars_gym_model_b___logit_multipli_9dd8714dfd_96b9d686ee  1            \nInteractionTraining____mars_gym_model_b___logit_multipli_9dd8714dfd_96b9d686ee  0            \nInteractionTraining____mars_gym_model_b___logit_multipli_9dd8714dfd_96b9d686ee  2            \nInteractionTraining____mars_gym_model_b___logit_multipli_9dd8714dfd_96b9d686ee  2            \n...                                                                            ..            \nInteractionTraining____mars_gym_model_b___logit_multipli_9dd8714dfd_96b9d686ee  0            \nInteractionTraining____mars_gym_model_b___logit_multipli_9dd8714dfd_96b9d686ee  0            \nInteractionTraining____mars_gym_model_b___logit_multipli_9dd8714dfd_96b9d686ee  0            \nInteractionTraining____mars_gym_model_b___logit_multipli_9dd8714dfd_96b9d686ee  0            \nInteractionTraining____mars_gym_model_b___logit_multipli_9dd8714dfd_96b9d686ee  1            \n\n                                                                                city_idx  \\\npath                                                                                       \nInteractionTraining____mars_gym_model_b___logit_multipli_9dd8714dfd_96b9d686ee  9          \nInteractionTraining____mars_gym_model_b___logit_multipli_9dd8714dfd_96b9d686ee  9          \nInteractionTraining____mars_gym_model_b___logit_multipli_9dd8714dfd_96b9d686ee  9          \nInteractionTraining____mars_gym_model_b___logit_multipli_9dd8714dfd_96b9d686ee  9          \nInteractionTraining____mars_gym_model_b___logit_multipli_9dd8714dfd_96b9d686ee  9          \n...                                                                            ..          \nInteractionTraining____mars_gym_model_b___logit_multipli_9dd8714dfd_96b9d686ee  9          \nInteractionTraining____mars_gym_model_b___logit_multipli_9dd8714dfd_96b9d686ee  9          \nInteractionTraining____mars_gym_model_b___logit_multipli_9dd8714dfd_96b9d686ee  4          \nInteractionTraining____mars_gym_model_b___logit_multipli_9dd8714dfd_96b9d686ee  4          \nInteractionTraining____mars_gym_model_b___logit_multipli_9dd8714dfd_96b9d686ee  5          \n\n                                                                                accessible parking  \\\npath                                                                                                 \nInteractionTraining____mars_gym_model_b___logit_multipli_9dd8714dfd_96b9d686ee  0                    \nInteractionTraining____mars_gym_model_b___logit_multipli_9dd8714dfd_96b9d686ee  0                    \nInteractionTraining____mars_gym_model_b___logit_multipli_9dd8714dfd_96b9d686ee  0                    \nInteractionTraining____mars_gym_model_b___logit_multipli_9dd8714dfd_96b9d686ee  0                    \nInteractionTraining____mars_gym_model_b___logit_multipli_9dd8714dfd_96b9d686ee  0                    \n...                                                                            ..                    \nInteractionTraining____mars_gym_model_b___logit_multipli_9dd8714dfd_96b9d686ee  0                    \nInteractionTraining____mars_gym_model_b___logit_multipli_9dd8714dfd_96b9d686ee  0                    \nInteractionTraining____mars_gym_model_b___logit_multipli_9dd8714dfd_96b9d686ee  0                    \nInteractionTraining____mars_gym_model_b___logit_multipli_9dd8714dfd_96b9d686ee  0                    \nInteractionTraining____mars_gym_model_b___logit_multipli_9dd8714dfd_96b9d686ee  0                    \n\n                                                                                accessible hotel  \\\npath                                                                                               \nInteractionTraining____mars_gym_model_b___logit_multipli_9dd8714dfd_96b9d686ee  0                  \nInteractionTraining____mars_gym_model_b___logit_multipli_9dd8714dfd_96b9d686ee  0                  \nInteractionTraining____mars_gym_model_b___logit_multipli_9dd8714dfd_96b9d686ee  0                  \nInteractionTraining____mars_gym_model_b___logit_multipli_9dd8714dfd_96b9d686ee  0                  \nInteractionTraining____mars_gym_model_b___logit_multipli_9dd8714dfd_96b9d686ee  0                  \n...                                                                            ..                  \nInteractionTraining____mars_gym_model_b___logit_multipli_9dd8714dfd_96b9d686ee  1                  \nInteractionTraining____mars_gym_model_b___logit_multipli_9dd8714dfd_96b9d686ee  1                  \nInteractionTraining____mars_gym_model_b___logit_multipli_9dd8714dfd_96b9d686ee  0                  \nInteractionTraining____mars_gym_model_b___logit_multipli_9dd8714dfd_96b9d686ee  0                  \nInteractionTraining____mars_gym_model_b___logit_multipli_9dd8714dfd_96b9d686ee  0                  \n\n                                                                                hotel  \\\npath                                                                                    \nInteractionTraining____mars_gym_model_b___logit_multipli_9dd8714dfd_96b9d686ee  1       \nInteractionTraining____mars_gym_model_b___logit_multipli_9dd8714dfd_96b9d686ee  1       \nInteractionTraining____mars_gym_model_b___logit_multipli_9dd8714dfd_96b9d686ee  1       \nInteractionTraining____mars_gym_model_b___logit_multipli_9dd8714dfd_96b9d686ee  1       \nInteractionTraining____mars_gym_model_b___logit_multipli_9dd8714dfd_96b9d686ee  1       \n...                                                                            ..       \nInteractionTraining____mars_gym_model_b___logit_multipli_9dd8714dfd_96b9d686ee  1       \nInteractionTraining____mars_gym_model_b___logit_multipli_9dd8714dfd_96b9d686ee  1       \nInteractionTraining____mars_gym_model_b___logit_multipli_9dd8714dfd_96b9d686ee  1       \nInteractionTraining____mars_gym_model_b___logit_multipli_9dd8714dfd_96b9d686ee  1       \nInteractionTraining____mars_gym_model_b___logit_multipli_9dd8714dfd_96b9d686ee  1       \n\n                                                                                house / apartment  \\\npath                                                                                                \nInteractionTraining____mars_gym_model_b___logit_multipli_9dd8714dfd_96b9d686ee  0                   \nInteractionTraining____mars_gym_model_b___logit_multipli_9dd8714dfd_96b9d686ee  0                   \nInteractionTraining____mars_gym_model_b___logit_multipli_9dd8714dfd_96b9d686ee  0                   \nInteractionTraining____mars_gym_model_b___logit_multipli_9dd8714dfd_96b9d686ee  0                   \nInteractionTraining____mars_gym_model_b___logit_multipli_9dd8714dfd_96b9d686ee  0                   \n...                                                                            ..                   \nInteractionTraining____mars_gym_model_b___logit_multipli_9dd8714dfd_96b9d686ee  0                   \nInteractionTraining____mars_gym_model_b___logit_multipli_9dd8714dfd_96b9d686ee  0                   \nInteractionTraining____mars_gym_model_b___logit_multipli_9dd8714dfd_96b9d686ee  0                   \nInteractionTraining____mars_gym_model_b___logit_multipli_9dd8714dfd_96b9d686ee  0                   \nInteractionTraining____mars_gym_model_b___logit_multipli_9dd8714dfd_96b9d686ee  0                   \n\n                                                                                childcare  \\\npath                                                                                        \nInteractionTraining____mars_gym_model_b___logit_multipli_9dd8714dfd_96b9d686ee  0           \nInteractionTraining____mars_gym_model_b___logit_multipli_9dd8714dfd_96b9d686ee  0           \nInteractionTraining____mars_gym_model_b___logit_multipli_9dd8714dfd_96b9d686ee  0           \nInteractionTraining____mars_gym_model_b___logit_multipli_9dd8714dfd_96b9d686ee  0           \nInteractionTraining____mars_gym_model_b___logit_multipli_9dd8714dfd_96b9d686ee  0           \n...                                                                            ..           \nInteractionTraining____mars_gym_model_b___logit_multipli_9dd8714dfd_96b9d686ee  0           \nInteractionTraining____mars_gym_model_b___logit_multipli_9dd8714dfd_96b9d686ee  0           \nInteractionTraining____mars_gym_model_b___logit_multipli_9dd8714dfd_96b9d686ee  0           \nInteractionTraining____mars_gym_model_b___logit_multipli_9dd8714dfd_96b9d686ee  0           \nInteractionTraining____mars_gym_model_b___logit_multipli_9dd8714dfd_96b9d686ee  0           \n\n                                                                                family friendly  \\\npath                                                                                              \nInteractionTraining____mars_gym_model_b___logit_multipli_9dd8714dfd_96b9d686ee  0                 \nInteractionTraining____mars_gym_model_b___logit_multipli_9dd8714dfd_96b9d686ee  0                 \nInteractionTraining____mars_gym_model_b___logit_multipli_9dd8714dfd_96b9d686ee  0                 \nInteractionTraining____mars_gym_model_b___logit_multipli_9dd8714dfd_96b9d686ee  0                 \nInteractionTraining____mars_gym_model_b___logit_multipli_9dd8714dfd_96b9d686ee  0                 \n...                                                                            ..                 \nInteractionTraining____mars_gym_model_b___logit_multipli_9dd8714dfd_96b9d686ee  0                 \nInteractionTraining____mars_gym_model_b___logit_multipli_9dd8714dfd_96b9d686ee  0                 \nInteractionTraining____mars_gym_model_b___logit_multipli_9dd8714dfd_96b9d686ee  0                 \nInteractionTraining____mars_gym_model_b___logit_multipli_9dd8714dfd_96b9d686ee  0                 \nInteractionTraining____mars_gym_model_b___logit_multipli_9dd8714dfd_96b9d686ee  0                 \n\n                                                                                                                                              model  \npath                                                                                                                                                 \nInteractionTraining____mars_gym_model_b___logit_multipli_9dd8714dfd_96b9d686ee  InteractionTraining____mars_gym_model_b___logit_multipli_9dd8714dfd  \nInteractionTraining____mars_gym_model_b___logit_multipli_9dd8714dfd_96b9d686ee  InteractionTraining____mars_gym_model_b___logit_multipli_9dd8714dfd  \nInteractionTraining____mars_gym_model_b___logit_multipli_9dd8714dfd_96b9d686ee  InteractionTraining____mars_gym_model_b___logit_multipli_9dd8714dfd  \nInteractionTraining____mars_gym_model_b___logit_multipli_9dd8714dfd_96b9d686ee  InteractionTraining____mars_gym_model_b___logit_multipli_9dd8714dfd  \nInteractionTraining____mars_gym_model_b___logit_multipli_9dd8714dfd_96b9d686ee  InteractionTraining____mars_gym_model_b___logit_multipli_9dd8714dfd  \n...                                                                                                                                             ...  \nInteractionTraining____mars_gym_model_b___logit_multipli_9dd8714dfd_96b9d686ee  InteractionTraining____mars_gym_model_b___logit_multipli_9dd8714dfd  \nInteractionTraining____mars_gym_model_b___logit_multipli_9dd8714dfd_96b9d686ee  InteractionTraining____mars_gym_model_b___logit_multipli_9dd8714dfd  \nInteractionTraining____mars_gym_model_b___logit_multipli_9dd8714dfd_96b9d686ee  InteractionTraining____mars_gym_model_b___logit_multipli_9dd8714dfd  \nInteractionTraining____mars_gym_model_b___logit_multipli_9dd8714dfd_96b9d686ee  InteractionTraining____mars_gym_model_b___logit_multipli_9dd8714dfd  \nInteractionTraining____mars_gym_model_b___logit_multipli_9dd8714dfd_96b9d686ee  InteractionTraining____mars_gym_model_b___logit_multipli_9dd8714dfd  \n\n[12418 rows x 13 columns]",
      "text/html": "<div>\n<style scoped>\n    .dataframe tbody tr th:only-of-type {\n        vertical-align: middle;\n    }\n\n    .dataframe tbody tr th {\n        vertical-align: top;\n    }\n\n    .dataframe thead th {\n        text-align: right;\n    }\n</style>\n<table border=\"1\" class=\"dataframe\">\n  <thead>\n    <tr style=\"text-align: right;\">\n      <th></th>\n      <th>item_idx</th>\n      <th>action</th>\n      <th>rewards</th>\n      <th>rhat_scores</th>\n      <th>device_idx</th>\n      <th>city_idx</th>\n      <th>accessible parking</th>\n      <th>accessible hotel</th>\n      <th>hotel</th>\n      <th>house / apartment</th>\n      <th>childcare</th>\n      <th>family friendly</th>\n      <th>model</th>\n    </tr>\n    <tr>\n      <th>path</th>\n      <th></th>\n      <th></th>\n      <th></th>\n      <th></th>\n      <th></th>\n      <th></th>\n      <th></th>\n      <th></th>\n      <th></th>\n      <th></th>\n      <th></th>\n      <th></th>\n      <th></th>\n    </tr>\n  </thead>\n  <tbody>\n    <tr>\n      <th>InteractionTraining____mars_gym_model_b___logit_multipli_9dd8714dfd_96b9d686ee</th>\n      <td>7915</td>\n      <td>7915</td>\n      <td>1</td>\n      <td>0.999992</td>\n      <td>1</td>\n      <td>9</td>\n      <td>0</td>\n      <td>0</td>\n      <td>1</td>\n      <td>0</td>\n      <td>0</td>\n      <td>0</td>\n      <td>InteractionTraining____mars_gym_model_b___logit_multipli_9dd8714dfd</td>\n    </tr>\n    <tr>\n      <th>InteractionTraining____mars_gym_model_b___logit_multipli_9dd8714dfd_96b9d686ee</th>\n      <td>195</td>\n      <td>7915</td>\n      <td>0</td>\n      <td>0.032684</td>\n      <td>1</td>\n      <td>9</td>\n      <td>0</td>\n      <td>0</td>\n      <td>1</td>\n      <td>0</td>\n      <td>0</td>\n      <td>0</td>\n      <td>InteractionTraining____mars_gym_model_b___logit_multipli_9dd8714dfd</td>\n    </tr>\n    <tr>\n      <th>InteractionTraining____mars_gym_model_b___logit_multipli_9dd8714dfd_96b9d686ee</th>\n      <td>4070</td>\n      <td>7915</td>\n      <td>0</td>\n      <td>0.031409</td>\n      <td>0</td>\n      <td>9</td>\n      <td>0</td>\n      <td>0</td>\n      <td>1</td>\n      <td>0</td>\n      <td>0</td>\n      <td>0</td>\n      <td>InteractionTraining____mars_gym_model_b___logit_multipli_9dd8714dfd</td>\n    </tr>\n    <tr>\n      <th>InteractionTraining____mars_gym_model_b___logit_multipli_9dd8714dfd_96b9d686ee</th>\n      <td>297</td>\n      <td>7915</td>\n      <td>0</td>\n      <td>0.048923</td>\n      <td>2</td>\n      <td>9</td>\n      <td>0</td>\n      <td>0</td>\n      <td>1</td>\n      <td>0</td>\n      <td>0</td>\n      <td>0</td>\n      <td>InteractionTraining____mars_gym_model_b___logit_multipli_9dd8714dfd</td>\n    </tr>\n    <tr>\n      <th>InteractionTraining____mars_gym_model_b___logit_multipli_9dd8714dfd_96b9d686ee</th>\n      <td>6321</td>\n      <td>7915</td>\n      <td>0</td>\n      <td>0.046961</td>\n      <td>2</td>\n      <td>9</td>\n      <td>0</td>\n      <td>0</td>\n      <td>1</td>\n      <td>0</td>\n      <td>0</td>\n      <td>0</td>\n      <td>InteractionTraining____mars_gym_model_b___logit_multipli_9dd8714dfd</td>\n    </tr>\n    <tr>\n      <th>...</th>\n      <td>...</td>\n      <td>...</td>\n      <td>...</td>\n      <td>...</td>\n      <td>...</td>\n      <td>...</td>\n      <td>...</td>\n      <td>...</td>\n      <td>...</td>\n      <td>...</td>\n      <td>...</td>\n      <td>...</td>\n      <td>...</td>\n    </tr>\n    <tr>\n      <th>InteractionTraining____mars_gym_model_b___logit_multipli_9dd8714dfd_96b9d686ee</th>\n      <td>177</td>\n      <td>6254</td>\n      <td>0</td>\n      <td>0.983843</td>\n      <td>0</td>\n      <td>9</td>\n      <td>0</td>\n      <td>1</td>\n      <td>1</td>\n      <td>0</td>\n      <td>0</td>\n      <td>0</td>\n      <td>InteractionTraining____mars_gym_model_b___logit_multipli_9dd8714dfd</td>\n    </tr>\n    <tr>\n      <th>InteractionTraining____mars_gym_model_b___logit_multipli_9dd8714dfd_96b9d686ee</th>\n      <td>3366</td>\n      <td>6254</td>\n      <td>0</td>\n      <td>0.841496</td>\n      <td>0</td>\n      <td>9</td>\n      <td>0</td>\n      <td>1</td>\n      <td>1</td>\n      <td>0</td>\n      <td>0</td>\n      <td>0</td>\n      <td>InteractionTraining____mars_gym_model_b___logit_multipli_9dd8714dfd</td>\n    </tr>\n    <tr>\n      <th>InteractionTraining____mars_gym_model_b___logit_multipli_9dd8714dfd_96b9d686ee</th>\n      <td>10316</td>\n      <td>10316</td>\n      <td>1</td>\n      <td>0.023719</td>\n      <td>0</td>\n      <td>4</td>\n      <td>0</td>\n      <td>0</td>\n      <td>1</td>\n      <td>0</td>\n      <td>0</td>\n      <td>0</td>\n      <td>InteractionTraining____mars_gym_model_b___logit_multipli_9dd8714dfd</td>\n    </tr>\n    <tr>\n      <th>InteractionTraining____mars_gym_model_b___logit_multipli_9dd8714dfd_96b9d686ee</th>\n      <td>10316</td>\n      <td>10316</td>\n      <td>1</td>\n      <td>0.023719</td>\n      <td>0</td>\n      <td>4</td>\n      <td>0</td>\n      <td>0</td>\n      <td>1</td>\n      <td>0</td>\n      <td>0</td>\n      <td>0</td>\n      <td>InteractionTraining____mars_gym_model_b___logit_multipli_9dd8714dfd</td>\n    </tr>\n    <tr>\n      <th>InteractionTraining____mars_gym_model_b___logit_multipli_9dd8714dfd_96b9d686ee</th>\n      <td>5882</td>\n      <td>12000</td>\n      <td>0</td>\n      <td>0.663123</td>\n      <td>1</td>\n      <td>5</td>\n      <td>0</td>\n      <td>0</td>\n      <td>1</td>\n      <td>0</td>\n      <td>0</td>\n      <td>0</td>\n      <td>InteractionTraining____mars_gym_model_b___logit_multipli_9dd8714dfd</td>\n    </tr>\n  </tbody>\n</table>\n<p>12418 rows × 13 columns</p>\n</div>"
     },
     "metadata": {},
     "execution_count": 4
    }
   ],
   "source": []
  },
  {
   "cell_type": "code",
   "execution_count": 34,
   "metadata": {},
   "outputs": [
    {
     "output_type": "display_data",
     "data": {
      "application/vnd.plotly.v1+json": {
       "config": {
        "plotlyServerURL": "https://plot.ly"
       },
       "data": [
        {
         "error_y": {
          "array": [
           0.014036470388890544,
           0.060212925815169425,
           0.10332698899204755,
           0.0959358085637333,
           0.07321121520045266
          ],
          "type": "data"
         },
         "name": "Desktop",
         "type": "bar",
         "x": [
          "ID:371",
          "ID:6085",
          "ID:367",
          "ID:1628",
          "ID:253"
         ],
         "y": [
          0.06323620701829592,
          0.22016996845151438,
          0.142281240497071,
          0.14953048378229142,
          0.3343912796236766
         ]
        },
        {
         "error_y": {
          "array": [
           0.11677800265583932,
           0.055632390434544036,
           0.029213313471479974,
           0.07462909997845024,
           0.08317211170852465
          ],
          "type": "data"
         },
         "name": "Mobile",
         "type": "bar",
         "x": [
          "ID:371",
          "ID:6085",
          "ID:367",
          "ID:1628",
          "ID:253"
         ],
         "y": [
          0.2983235341355043,
          0.24468733149546165,
          0.0761359004182336,
          0.15907974237842218,
          0.3029204527071367
         ]
        },
        {
         "error_y": {
          "array": [
           0.18454737007101824,
           0.19135757350732704,
           0.17778834011917766,
           0.030325356749184643,
           0.1608608491907772
          ],
          "type": "data"
         },
         "name": "Tablet",
         "type": "bar",
         "x": [
          "ID:371",
          "ID:6085",
          "ID:367",
          "ID:1628",
          "ID:253"
         ],
         "y": [
          0.17655574902892113,
          0.33074622314709884,
          0.13608611188828945,
          0.09330697770097426,
          0.34038441663142294
         ]
        }
       ],
       "layout": {
        "font": {
         "family": "Courier New, monospace",
         "size": 21
        },
        "height": 600,
        "legend": {
         "orientation": "h",
         "y": -0.2
        },
        "shapes": [
         {
          "line": {
           "dash": "dot",
           "width": 1
          },
          "type": "line",
          "x0": 0,
          "x1": 1,
          "xref": "paper",
          "y0": 0.20452237459362096,
          "y1": 0.20452237459362096,
          "yref": "y"
         }
        ],
        "template": {
         "data": {
          "bar": [
           {
            "error_x": {
             "color": "#2a3f5f"
            },
            "error_y": {
             "color": "#2a3f5f"
            },
            "marker": {
             "line": {
              "color": "white",
              "width": 0.5
             }
            },
            "type": "bar"
           }
          ],
          "barpolar": [
           {
            "marker": {
             "line": {
              "color": "white",
              "width": 0.5
             }
            },
            "type": "barpolar"
           }
          ],
          "carpet": [
           {
            "aaxis": {
             "endlinecolor": "#2a3f5f",
             "gridcolor": "#C8D4E3",
             "linecolor": "#C8D4E3",
             "minorgridcolor": "#C8D4E3",
             "startlinecolor": "#2a3f5f"
            },
            "baxis": {
             "endlinecolor": "#2a3f5f",
             "gridcolor": "#C8D4E3",
             "linecolor": "#C8D4E3",
             "minorgridcolor": "#C8D4E3",
             "startlinecolor": "#2a3f5f"
            },
            "type": "carpet"
           }
          ],
          "choropleth": [
           {
            "colorbar": {
             "outlinewidth": 0,
             "ticks": ""
            },
            "type": "choropleth"
           }
          ],
          "contour": [
           {
            "colorbar": {
             "outlinewidth": 0,
             "ticks": ""
            },
            "colorscale": [
             [
              0,
              "#0d0887"
             ],
             [
              0.1111111111111111,
              "#46039f"
             ],
             [
              0.2222222222222222,
              "#7201a8"
             ],
             [
              0.3333333333333333,
              "#9c179e"
             ],
             [
              0.4444444444444444,
              "#bd3786"
             ],
             [
              0.5555555555555556,
              "#d8576b"
             ],
             [
              0.6666666666666666,
              "#ed7953"
             ],
             [
              0.7777777777777778,
              "#fb9f3a"
             ],
             [
              0.8888888888888888,
              "#fdca26"
             ],
             [
              1,
              "#f0f921"
             ]
            ],
            "type": "contour"
           }
          ],
          "contourcarpet": [
           {
            "colorbar": {
             "outlinewidth": 0,
             "ticks": ""
            },
            "type": "contourcarpet"
           }
          ],
          "heatmap": [
           {
            "colorbar": {
             "outlinewidth": 0,
             "ticks": ""
            },
            "colorscale": [
             [
              0,
              "#0d0887"
             ],
             [
              0.1111111111111111,
              "#46039f"
             ],
             [
              0.2222222222222222,
              "#7201a8"
             ],
             [
              0.3333333333333333,
              "#9c179e"
             ],
             [
              0.4444444444444444,
              "#bd3786"
             ],
             [
              0.5555555555555556,
              "#d8576b"
             ],
             [
              0.6666666666666666,
              "#ed7953"
             ],
             [
              0.7777777777777778,
              "#fb9f3a"
             ],
             [
              0.8888888888888888,
              "#fdca26"
             ],
             [
              1,
              "#f0f921"
             ]
            ],
            "type": "heatmap"
           }
          ],
          "heatmapgl": [
           {
            "colorbar": {
             "outlinewidth": 0,
             "ticks": ""
            },
            "colorscale": [
             [
              0,
              "#0d0887"
             ],
             [
              0.1111111111111111,
              "#46039f"
             ],
             [
              0.2222222222222222,
              "#7201a8"
             ],
             [
              0.3333333333333333,
              "#9c179e"
             ],
             [
              0.4444444444444444,
              "#bd3786"
             ],
             [
              0.5555555555555556,
              "#d8576b"
             ],
             [
              0.6666666666666666,
              "#ed7953"
             ],
             [
              0.7777777777777778,
              "#fb9f3a"
             ],
             [
              0.8888888888888888,
              "#fdca26"
             ],
             [
              1,
              "#f0f921"
             ]
            ],
            "type": "heatmapgl"
           }
          ],
          "histogram": [
           {
            "marker": {
             "colorbar": {
              "outlinewidth": 0,
              "ticks": ""
             }
            },
            "type": "histogram"
           }
          ],
          "histogram2d": [
           {
            "colorbar": {
             "outlinewidth": 0,
             "ticks": ""
            },
            "colorscale": [
             [
              0,
              "#0d0887"
             ],
             [
              0.1111111111111111,
              "#46039f"
             ],
             [
              0.2222222222222222,
              "#7201a8"
             ],
             [
              0.3333333333333333,
              "#9c179e"
             ],
             [
              0.4444444444444444,
              "#bd3786"
             ],
             [
              0.5555555555555556,
              "#d8576b"
             ],
             [
              0.6666666666666666,
              "#ed7953"
             ],
             [
              0.7777777777777778,
              "#fb9f3a"
             ],
             [
              0.8888888888888888,
              "#fdca26"
             ],
             [
              1,
              "#f0f921"
             ]
            ],
            "type": "histogram2d"
           }
          ],
          "histogram2dcontour": [
           {
            "colorbar": {
             "outlinewidth": 0,
             "ticks": ""
            },
            "colorscale": [
             [
              0,
              "#0d0887"
             ],
             [
              0.1111111111111111,
              "#46039f"
             ],
             [
              0.2222222222222222,
              "#7201a8"
             ],
             [
              0.3333333333333333,
              "#9c179e"
             ],
             [
              0.4444444444444444,
              "#bd3786"
             ],
             [
              0.5555555555555556,
              "#d8576b"
             ],
             [
              0.6666666666666666,
              "#ed7953"
             ],
             [
              0.7777777777777778,
              "#fb9f3a"
             ],
             [
              0.8888888888888888,
              "#fdca26"
             ],
             [
              1,
              "#f0f921"
             ]
            ],
            "type": "histogram2dcontour"
           }
          ],
          "mesh3d": [
           {
            "colorbar": {
             "outlinewidth": 0,
             "ticks": ""
            },
            "type": "mesh3d"
           }
          ],
          "parcoords": [
           {
            "line": {
             "colorbar": {
              "outlinewidth": 0,
              "ticks": ""
             }
            },
            "type": "parcoords"
           }
          ],
          "pie": [
           {
            "automargin": true,
            "type": "pie"
           }
          ],
          "scatter": [
           {
            "marker": {
             "colorbar": {
              "outlinewidth": 0,
              "ticks": ""
             }
            },
            "type": "scatter"
           }
          ],
          "scatter3d": [
           {
            "line": {
             "colorbar": {
              "outlinewidth": 0,
              "ticks": ""
             }
            },
            "marker": {
             "colorbar": {
              "outlinewidth": 0,
              "ticks": ""
             }
            },
            "type": "scatter3d"
           }
          ],
          "scattercarpet": [
           {
            "marker": {
             "colorbar": {
              "outlinewidth": 0,
              "ticks": ""
             }
            },
            "type": "scattercarpet"
           }
          ],
          "scattergeo": [
           {
            "marker": {
             "colorbar": {
              "outlinewidth": 0,
              "ticks": ""
             }
            },
            "type": "scattergeo"
           }
          ],
          "scattergl": [
           {
            "marker": {
             "colorbar": {
              "outlinewidth": 0,
              "ticks": ""
             }
            },
            "type": "scattergl"
           }
          ],
          "scattermapbox": [
           {
            "marker": {
             "colorbar": {
              "outlinewidth": 0,
              "ticks": ""
             }
            },
            "type": "scattermapbox"
           }
          ],
          "scatterpolar": [
           {
            "marker": {
             "colorbar": {
              "outlinewidth": 0,
              "ticks": ""
             }
            },
            "type": "scatterpolar"
           }
          ],
          "scatterpolargl": [
           {
            "marker": {
             "colorbar": {
              "outlinewidth": 0,
              "ticks": ""
             }
            },
            "type": "scatterpolargl"
           }
          ],
          "scatterternary": [
           {
            "marker": {
             "colorbar": {
              "outlinewidth": 0,
              "ticks": ""
             }
            },
            "type": "scatterternary"
           }
          ],
          "surface": [
           {
            "colorbar": {
             "outlinewidth": 0,
             "ticks": ""
            },
            "colorscale": [
             [
              0,
              "#0d0887"
             ],
             [
              0.1111111111111111,
              "#46039f"
             ],
             [
              0.2222222222222222,
              "#7201a8"
             ],
             [
              0.3333333333333333,
              "#9c179e"
             ],
             [
              0.4444444444444444,
              "#bd3786"
             ],
             [
              0.5555555555555556,
              "#d8576b"
             ],
             [
              0.6666666666666666,
              "#ed7953"
             ],
             [
              0.7777777777777778,
              "#fb9f3a"
             ],
             [
              0.8888888888888888,
              "#fdca26"
             ],
             [
              1,
              "#f0f921"
             ]
            ],
            "type": "surface"
           }
          ],
          "table": [
           {
            "cells": {
             "fill": {
              "color": "#EBF0F8"
             },
             "line": {
              "color": "white"
             }
            },
            "header": {
             "fill": {
              "color": "#C8D4E3"
             },
             "line": {
              "color": "white"
             }
            },
            "type": "table"
           }
          ]
         },
         "layout": {
          "annotationdefaults": {
           "arrowcolor": "#2a3f5f",
           "arrowhead": 0,
           "arrowwidth": 1
          },
          "coloraxis": {
           "colorbar": {
            "outlinewidth": 0,
            "ticks": ""
           }
          },
          "colorscale": {
           "diverging": [
            [
             0,
             "#8e0152"
            ],
            [
             0.1,
             "#c51b7d"
            ],
            [
             0.2,
             "#de77ae"
            ],
            [
             0.3,
             "#f1b6da"
            ],
            [
             0.4,
             "#fde0ef"
            ],
            [
             0.5,
             "#f7f7f7"
            ],
            [
             0.6,
             "#e6f5d0"
            ],
            [
             0.7,
             "#b8e186"
            ],
            [
             0.8,
             "#7fbc41"
            ],
            [
             0.9,
             "#4d9221"
            ],
            [
             1,
             "#276419"
            ]
           ],
           "sequential": [
            [
             0,
             "#0d0887"
            ],
            [
             0.1111111111111111,
             "#46039f"
            ],
            [
             0.2222222222222222,
             "#7201a8"
            ],
            [
             0.3333333333333333,
             "#9c179e"
            ],
            [
             0.4444444444444444,
             "#bd3786"
            ],
            [
             0.5555555555555556,
             "#d8576b"
            ],
            [
             0.6666666666666666,
             "#ed7953"
            ],
            [
             0.7777777777777778,
             "#fb9f3a"
            ],
            [
             0.8888888888888888,
             "#fdca26"
            ],
            [
             1,
             "#f0f921"
            ]
           ],
           "sequentialminus": [
            [
             0,
             "#0d0887"
            ],
            [
             0.1111111111111111,
             "#46039f"
            ],
            [
             0.2222222222222222,
             "#7201a8"
            ],
            [
             0.3333333333333333,
             "#9c179e"
            ],
            [
             0.4444444444444444,
             "#bd3786"
            ],
            [
             0.5555555555555556,
             "#d8576b"
            ],
            [
             0.6666666666666666,
             "#ed7953"
            ],
            [
             0.7777777777777778,
             "#fb9f3a"
            ],
            [
             0.8888888888888888,
             "#fdca26"
            ],
            [
             1,
             "#f0f921"
            ]
           ]
          },
          "colorway": [
           "#636efa",
           "#EF553B",
           "#00cc96",
           "#ab63fa",
           "#FFA15A",
           "#19d3f3",
           "#FF6692",
           "#B6E880",
           "#FF97FF",
           "#FECB52"
          ],
          "font": {
           "color": "#2a3f5f"
          },
          "geo": {
           "bgcolor": "white",
           "lakecolor": "white",
           "landcolor": "white",
           "showlakes": true,
           "showland": true,
           "subunitcolor": "#C8D4E3"
          },
          "hoverlabel": {
           "align": "left"
          },
          "hovermode": "closest",
          "mapbox": {
           "style": "light"
          },
          "paper_bgcolor": "white",
          "plot_bgcolor": "white",
          "polar": {
           "angularaxis": {
            "gridcolor": "#EBF0F8",
            "linecolor": "#EBF0F8",
            "ticks": ""
           },
           "bgcolor": "white",
           "radialaxis": {
            "gridcolor": "#EBF0F8",
            "linecolor": "#EBF0F8",
            "ticks": ""
           }
          },
          "scene": {
           "xaxis": {
            "backgroundcolor": "white",
            "gridcolor": "#DFE8F3",
            "gridwidth": 2,
            "linecolor": "#EBF0F8",
            "showbackground": true,
            "ticks": "",
            "zerolinecolor": "#EBF0F8"
           },
           "yaxis": {
            "backgroundcolor": "white",
            "gridcolor": "#DFE8F3",
            "gridwidth": 2,
            "linecolor": "#EBF0F8",
            "showbackground": true,
            "ticks": "",
            "zerolinecolor": "#EBF0F8"
           },
           "zaxis": {
            "backgroundcolor": "white",
            "gridcolor": "#DFE8F3",
            "gridwidth": 2,
            "linecolor": "#EBF0F8",
            "showbackground": true,
            "ticks": "",
            "zerolinecolor": "#EBF0F8"
           }
          },
          "shapedefaults": {
           "line": {
            "color": "#2a3f5f"
           }
          },
          "ternary": {
           "aaxis": {
            "gridcolor": "#DFE8F3",
            "linecolor": "#A2B1C6",
            "ticks": ""
           },
           "baxis": {
            "gridcolor": "#DFE8F3",
            "linecolor": "#A2B1C6",
            "ticks": ""
           },
           "bgcolor": "white",
           "caxis": {
            "gridcolor": "#DFE8F3",
            "linecolor": "#A2B1C6",
            "ticks": ""
           }
          },
          "title": {
           "x": 0.05
          },
          "xaxis": {
           "automargin": true,
           "gridcolor": "#EBF0F8",
           "linecolor": "#EBF0F8",
           "ticks": "",
           "title": {
            "standoff": 15
           },
           "zerolinecolor": "#EBF0F8",
           "zerolinewidth": 2
          },
          "yaxis": {
           "automargin": true,
           "gridcolor": "#EBF0F8",
           "linecolor": "#EBF0F8",
           "ticks": "",
           "title": {
            "standoff": 15
           },
           "zerolinecolor": "#EBF0F8",
           "zerolinewidth": 2
          }
         }
        },
        "title": {
         "text": ""
        },
        "xaxis": {
         "title": {
          "text": "Hotel"
         }
        },
        "yaxis": {
         "nticks": 5,
         "title": {
          "text": "rhat_scores"
         }
        }
       }
      }
     },
     "metadata": {}
    }
   ],
   "source": [
    "fig = plot_fairness_treatment(df_instances, input_features, input_items, top=input_items_top, title=\"\", legend={\"0\": \"Desktop\", \"1\": \"Mobile\", \"2\": \"Tablet\"})\n",
    "fig.update_layout(font={'family': 'Courier New, monospace', 'size': 21}, height=600)\n",
    "\n",
    "\n",
    "\n",
    "# Set custom x-axis labels\n",
    "fig.update_yaxes(nticks=5)\n",
    "fig.update_layout(xaxis_title=\"Hotel\")\n",
    "\n",
    "fig.show()\n",
    "#fig.show(renderer=\"svg\")\n",
    "#fig.write_image(\"output/tmp/metrics/paper/recsys_fairnes_impact_{}.eps\".format(input_features))    "
   ]
  },
  {
   "cell_type": "code",
   "execution_count": null,
   "metadata": {},
   "outputs": [],
   "source": []
  }
 ]
}